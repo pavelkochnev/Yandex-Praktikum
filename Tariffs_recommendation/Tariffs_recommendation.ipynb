{
 "cells": [
  {
   "cell_type": "markdown",
   "metadata": {},
   "source": [
    "# Рекомендация тарифов"
   ]
  },
  {
   "cell_type": "markdown",
   "metadata": {},
   "source": [
    "В вашем распоряжении данные о поведении клиентов, которые уже перешли на эти тарифы (из проекта курса «Статистический анализ данных»). Нужно построить модель для задачи классификации, которая выберет подходящий тариф. Предобработка данных не понадобится — вы её уже сделали.\n",
    "\n",
    "Постройте модель с максимально большим значением *accuracy*. Чтобы сдать проект успешно, нужно довести долю правильных ответов по крайней мере до 0.75. Проверьте *accuracy* на тестовой выборке самостоятельно."
   ]
  },
  {
   "cell_type": "markdown",
   "metadata": {},
   "source": [
    "## 1. Откройте и изучите файл"
   ]
  },
  {
   "cell_type": "code",
   "execution_count": 1,
   "metadata": {},
   "outputs": [],
   "source": [
    "import pandas as pd\n",
    "from sklearn.model_selection import train_test_split\n",
    "from sklearn.tree import DecisionTreeClassifier\n",
    "from sklearn.ensemble import RandomForestClassifier\n",
    "from sklearn.linear_model import LogisticRegression\n",
    "from sklearn.metrics import accuracy_score\n",
    "from catboost import CatBoostClassifier\n",
    "from tqdm.notebook import tqdm"
   ]
  },
  {
   "cell_type": "code",
   "execution_count": 2,
   "metadata": {},
   "outputs": [
    {
     "data": {
      "text/html": [
       "<div>\n",
       "<style scoped>\n",
       "    .dataframe tbody tr th:only-of-type {\n",
       "        vertical-align: middle;\n",
       "    }\n",
       "\n",
       "    .dataframe tbody tr th {\n",
       "        vertical-align: top;\n",
       "    }\n",
       "\n",
       "    .dataframe thead th {\n",
       "        text-align: right;\n",
       "    }\n",
       "</style>\n",
       "<table border=\"1\" class=\"dataframe\">\n",
       "  <thead>\n",
       "    <tr style=\"text-align: right;\">\n",
       "      <th></th>\n",
       "      <th>calls</th>\n",
       "      <th>minutes</th>\n",
       "      <th>messages</th>\n",
       "      <th>mb_used</th>\n",
       "      <th>is_ultra</th>\n",
       "    </tr>\n",
       "  </thead>\n",
       "  <tbody>\n",
       "    <tr>\n",
       "      <th>0</th>\n",
       "      <td>40.0</td>\n",
       "      <td>311.90</td>\n",
       "      <td>83.0</td>\n",
       "      <td>19915.42</td>\n",
       "      <td>0</td>\n",
       "    </tr>\n",
       "    <tr>\n",
       "      <th>1</th>\n",
       "      <td>85.0</td>\n",
       "      <td>516.75</td>\n",
       "      <td>56.0</td>\n",
       "      <td>22696.96</td>\n",
       "      <td>0</td>\n",
       "    </tr>\n",
       "    <tr>\n",
       "      <th>2</th>\n",
       "      <td>77.0</td>\n",
       "      <td>467.66</td>\n",
       "      <td>86.0</td>\n",
       "      <td>21060.45</td>\n",
       "      <td>0</td>\n",
       "    </tr>\n",
       "    <tr>\n",
       "      <th>3</th>\n",
       "      <td>106.0</td>\n",
       "      <td>745.53</td>\n",
       "      <td>81.0</td>\n",
       "      <td>8437.39</td>\n",
       "      <td>1</td>\n",
       "    </tr>\n",
       "    <tr>\n",
       "      <th>4</th>\n",
       "      <td>66.0</td>\n",
       "      <td>418.74</td>\n",
       "      <td>1.0</td>\n",
       "      <td>14502.75</td>\n",
       "      <td>0</td>\n",
       "    </tr>\n",
       "    <tr>\n",
       "      <th>5</th>\n",
       "      <td>58.0</td>\n",
       "      <td>344.56</td>\n",
       "      <td>21.0</td>\n",
       "      <td>15823.37</td>\n",
       "      <td>0</td>\n",
       "    </tr>\n",
       "    <tr>\n",
       "      <th>6</th>\n",
       "      <td>57.0</td>\n",
       "      <td>431.64</td>\n",
       "      <td>20.0</td>\n",
       "      <td>3738.90</td>\n",
       "      <td>1</td>\n",
       "    </tr>\n",
       "    <tr>\n",
       "      <th>7</th>\n",
       "      <td>15.0</td>\n",
       "      <td>132.40</td>\n",
       "      <td>6.0</td>\n",
       "      <td>21911.60</td>\n",
       "      <td>0</td>\n",
       "    </tr>\n",
       "    <tr>\n",
       "      <th>8</th>\n",
       "      <td>7.0</td>\n",
       "      <td>43.39</td>\n",
       "      <td>3.0</td>\n",
       "      <td>2538.67</td>\n",
       "      <td>1</td>\n",
       "    </tr>\n",
       "    <tr>\n",
       "      <th>9</th>\n",
       "      <td>90.0</td>\n",
       "      <td>665.41</td>\n",
       "      <td>38.0</td>\n",
       "      <td>17358.61</td>\n",
       "      <td>0</td>\n",
       "    </tr>\n",
       "  </tbody>\n",
       "</table>\n",
       "</div>"
      ],
      "text/plain": [
       "   calls  minutes  messages   mb_used  is_ultra\n",
       "0   40.0   311.90      83.0  19915.42         0\n",
       "1   85.0   516.75      56.0  22696.96         0\n",
       "2   77.0   467.66      86.0  21060.45         0\n",
       "3  106.0   745.53      81.0   8437.39         1\n",
       "4   66.0   418.74       1.0  14502.75         0\n",
       "5   58.0   344.56      21.0  15823.37         0\n",
       "6   57.0   431.64      20.0   3738.90         1\n",
       "7   15.0   132.40       6.0  21911.60         0\n",
       "8    7.0    43.39       3.0   2538.67         1\n",
       "9   90.0   665.41      38.0  17358.61         0"
      ]
     },
     "execution_count": 2,
     "metadata": {},
     "output_type": "execute_result"
    }
   ],
   "source": [
    "df = pd.read_csv('./datasets/users_behavior.csv')\n",
    "df.head(10)"
   ]
  },
  {
   "cell_type": "code",
   "execution_count": 3,
   "metadata": {
    "scrolled": true
   },
   "outputs": [
    {
     "name": "stdout",
     "output_type": "stream",
     "text": [
      "<class 'pandas.core.frame.DataFrame'>\n",
      "RangeIndex: 3214 entries, 0 to 3213\n",
      "Data columns (total 5 columns):\n",
      " #   Column    Non-Null Count  Dtype  \n",
      "---  ------    --------------  -----  \n",
      " 0   calls     3214 non-null   float64\n",
      " 1   minutes   3214 non-null   float64\n",
      " 2   messages  3214 non-null   float64\n",
      " 3   mb_used   3214 non-null   float64\n",
      " 4   is_ultra  3214 non-null   int64  \n",
      "dtypes: float64(4), int64(1)\n",
      "memory usage: 125.7 KB\n"
     ]
    }
   ],
   "source": [
    "df.info()"
   ]
  },
  {
   "cell_type": "markdown",
   "metadata": {},
   "source": [
    "Каждый объект в наборе данных — это информация о поведении одного пользователя за месяц. Известно:\n",
    "* сalls — количество звонков,\n",
    "* minutes — суммарная длительность звонков в минутах,\n",
    "* messages — количество sms-сообщений,\n",
    "* mb_used — израсходованный интернет-трафик в Мб,\n",
    "* is_ultra — каким тарифом пользовался в течение месяца («Ультра» — 1, «Смарт» — 0)."
   ]
  },
  {
   "cell_type": "code",
   "execution_count": 4,
   "metadata": {},
   "outputs": [
    {
     "data": {
      "text/html": [
       "<div>\n",
       "<style scoped>\n",
       "    .dataframe tbody tr th:only-of-type {\n",
       "        vertical-align: middle;\n",
       "    }\n",
       "\n",
       "    .dataframe tbody tr th {\n",
       "        vertical-align: top;\n",
       "    }\n",
       "\n",
       "    .dataframe thead th {\n",
       "        text-align: right;\n",
       "    }\n",
       "</style>\n",
       "<table border=\"1\" class=\"dataframe\">\n",
       "  <thead>\n",
       "    <tr style=\"text-align: right;\">\n",
       "      <th></th>\n",
       "      <th>calls</th>\n",
       "      <th>minutes</th>\n",
       "      <th>messages</th>\n",
       "      <th>mb_used</th>\n",
       "      <th>is_ultra</th>\n",
       "    </tr>\n",
       "  </thead>\n",
       "  <tbody>\n",
       "    <tr>\n",
       "      <th>count</th>\n",
       "      <td>3214.000000</td>\n",
       "      <td>3214.000000</td>\n",
       "      <td>3214.000000</td>\n",
       "      <td>3214.000000</td>\n",
       "      <td>3214.000000</td>\n",
       "    </tr>\n",
       "    <tr>\n",
       "      <th>mean</th>\n",
       "      <td>63.038892</td>\n",
       "      <td>438.208787</td>\n",
       "      <td>38.281269</td>\n",
       "      <td>17207.673836</td>\n",
       "      <td>0.306472</td>\n",
       "    </tr>\n",
       "    <tr>\n",
       "      <th>std</th>\n",
       "      <td>33.236368</td>\n",
       "      <td>234.569872</td>\n",
       "      <td>36.148326</td>\n",
       "      <td>7570.968246</td>\n",
       "      <td>0.461100</td>\n",
       "    </tr>\n",
       "    <tr>\n",
       "      <th>min</th>\n",
       "      <td>0.000000</td>\n",
       "      <td>0.000000</td>\n",
       "      <td>0.000000</td>\n",
       "      <td>0.000000</td>\n",
       "      <td>0.000000</td>\n",
       "    </tr>\n",
       "    <tr>\n",
       "      <th>25%</th>\n",
       "      <td>40.000000</td>\n",
       "      <td>274.575000</td>\n",
       "      <td>9.000000</td>\n",
       "      <td>12491.902500</td>\n",
       "      <td>0.000000</td>\n",
       "    </tr>\n",
       "    <tr>\n",
       "      <th>50%</th>\n",
       "      <td>62.000000</td>\n",
       "      <td>430.600000</td>\n",
       "      <td>30.000000</td>\n",
       "      <td>16943.235000</td>\n",
       "      <td>0.000000</td>\n",
       "    </tr>\n",
       "    <tr>\n",
       "      <th>75%</th>\n",
       "      <td>82.000000</td>\n",
       "      <td>571.927500</td>\n",
       "      <td>57.000000</td>\n",
       "      <td>21424.700000</td>\n",
       "      <td>1.000000</td>\n",
       "    </tr>\n",
       "    <tr>\n",
       "      <th>max</th>\n",
       "      <td>244.000000</td>\n",
       "      <td>1632.060000</td>\n",
       "      <td>224.000000</td>\n",
       "      <td>49745.730000</td>\n",
       "      <td>1.000000</td>\n",
       "    </tr>\n",
       "  </tbody>\n",
       "</table>\n",
       "</div>"
      ],
      "text/plain": [
       "             calls      minutes     messages       mb_used     is_ultra\n",
       "count  3214.000000  3214.000000  3214.000000   3214.000000  3214.000000\n",
       "mean     63.038892   438.208787    38.281269  17207.673836     0.306472\n",
       "std      33.236368   234.569872    36.148326   7570.968246     0.461100\n",
       "min       0.000000     0.000000     0.000000      0.000000     0.000000\n",
       "25%      40.000000   274.575000     9.000000  12491.902500     0.000000\n",
       "50%      62.000000   430.600000    30.000000  16943.235000     0.000000\n",
       "75%      82.000000   571.927500    57.000000  21424.700000     1.000000\n",
       "max     244.000000  1632.060000   224.000000  49745.730000     1.000000"
      ]
     },
     "execution_count": 4,
     "metadata": {},
     "output_type": "execute_result"
    }
   ],
   "source": [
    "df.describe()"
   ]
  },
  {
   "cell_type": "markdown",
   "metadata": {},
   "source": [
    "В данных нет пропущенных строк. Значения в столбцах выглядят корректно предобработка данных не тебуется. Прежде чем перейти к разбиению данных на выбоки проведем замену тиов данных."
   ]
  },
  {
   "cell_type": "code",
   "execution_count": 5,
   "metadata": {},
   "outputs": [
    {
     "data": {
      "text/plain": [
       "{'calls': 'float64',\n",
       " 'minutes': 'float64',\n",
       " 'messages': 'float64',\n",
       " 'mb_used': 'float64',\n",
       " 'is_ultra': 'int64'}"
      ]
     },
     "execution_count": 5,
     "metadata": {},
     "output_type": "execute_result"
    }
   ],
   "source": [
    "df.dtypes.apply(lambda x: x.name).to_dict()"
   ]
  },
  {
   "cell_type": "code",
   "execution_count": 6,
   "metadata": {},
   "outputs": [
    {
     "name": "stdout",
     "output_type": "stream",
     "text": [
      "<class 'pandas.core.frame.DataFrame'>\n",
      "RangeIndex: 3214 entries, 0 to 3213\n",
      "Data columns (total 5 columns):\n",
      " #   Column    Non-Null Count  Dtype  \n",
      "---  ------    --------------  -----  \n",
      " 0   calls     3214 non-null   int32  \n",
      " 1   minutes   3214 non-null   float32\n",
      " 2   messages  3214 non-null   int16  \n",
      " 3   mb_used   3214 non-null   float32\n",
      " 4   is_ultra  3214 non-null   int8   \n",
      "dtypes: float32(2), int16(1), int32(1), int8(1)\n",
      "memory usage: 47.2 KB\n"
     ]
    }
   ],
   "source": [
    "# заменим типы в таблице по словарю df_type_dict\n",
    "df_type_dict = {\n",
    " 'calls': 'int32',\n",
    " 'minutes': 'float32',\n",
    " 'messages': 'int16',\n",
    " 'mb_used': 'float32',\n",
    " 'is_ultra': 'int8'}\n",
    "\n",
    "df = df.astype(df_type_dict)\n",
    "\n",
    "# убедимся что замена прошла так как задумано\n",
    "df.info()"
   ]
  },
  {
   "cell_type": "markdown",
   "metadata": {},
   "source": [
    "## 2. Разбейте данные на выборки"
   ]
  },
  {
   "cell_type": "markdown",
   "metadata": {},
   "source": [
    "Имена столбцов с \"фичами\" сохраним в списке x_col, столбец который мы будем предсказывать в списке y_col"
   ]
  },
  {
   "cell_type": "code",
   "execution_count": 7,
   "metadata": {},
   "outputs": [
    {
     "data": {
      "text/plain": [
       "Index(['calls', 'minutes', 'messages', 'mb_used'], dtype='object')"
      ]
     },
     "execution_count": 7,
     "metadata": {},
     "output_type": "execute_result"
    }
   ],
   "source": [
    "x_col = df.columns.drop('is_ultra')\n",
    "x_col"
   ]
  },
  {
   "cell_type": "code",
   "execution_count": 8,
   "metadata": {},
   "outputs": [],
   "source": [
    "y_col = ['is_ultra']"
   ]
  },
  {
   "cell_type": "markdown",
   "metadata": {},
   "source": [
    "Разобьем данные сначала на тестовую и полную тренировачную выбоки, а полную тренировочную выбоку разобъем на непоседственно трениовочную выбоку и валидационную выбоку."
   ]
  },
  {
   "cell_type": "code",
   "execution_count": 9,
   "metadata": {},
   "outputs": [],
   "source": [
    "df_train_full, df_test = train_test_split(df, test_size=0.25, random_state=42)\n",
    "df_train, df_valid = train_test_split(df_train_full, test_size=0.25, random_state=42)"
   ]
  },
  {
   "cell_type": "code",
   "execution_count": 10,
   "metadata": {},
   "outputs": [
    {
     "data": {
      "text/plain": [
       "True"
      ]
     },
     "execution_count": 10,
     "metadata": {},
     "output_type": "execute_result"
    }
   ],
   "source": [
    "# проверим размеры полученных наборов\n",
    "len(df_train) + len(df_valid) == len(df_train_full)"
   ]
  },
  {
   "cell_type": "code",
   "execution_count": 11,
   "metadata": {},
   "outputs": [
    {
     "data": {
      "text/plain": [
       "True"
      ]
     },
     "execution_count": 11,
     "metadata": {},
     "output_type": "execute_result"
    }
   ],
   "source": [
    "len(df_train_full) + len(df_test) == len(df)"
   ]
  },
  {
   "cell_type": "markdown",
   "metadata": {},
   "source": [
    "## 3. Исследуйте модели"
   ]
  },
  {
   "cell_type": "markdown",
   "metadata": {},
   "source": [
    "Исследуем следующие модели классификации:\n",
    "* дерево решений\n",
    "* случайный лес\n",
    "* логистическая регрессия\n",
    "* CatBoost"
   ]
  },
  {
   "cell_type": "markdown",
   "metadata": {},
   "source": [
    "### Дерево решений\n",
    "Для дерева решений будем менять глубину дерева и найдем такую глубину дерева которая дает наилучшее accuracy на валидационной выборке"
   ]
  },
  {
   "cell_type": "code",
   "execution_count": 12,
   "metadata": {},
   "outputs": [
    {
     "name": "stdout",
     "output_type": "stream",
     "text": [
      "Доля првильных ответов на валидационной выбоке: 0.7860696517412935 для дерева глубиной 6\n"
     ]
    }
   ],
   "source": [
    "best_tree_model = None\n",
    "best_tree_depth = 0\n",
    "best_tree_score = 0\n",
    "for depth in range(1, 11):\n",
    "    model = DecisionTreeClassifier(max_depth=depth, random_state=42)\n",
    "    model.fit(df_train[x_col], df_train[y_col].values.ravel())\n",
    "    score = accuracy_score(df_valid[y_col], model.predict(df_valid[x_col]))\n",
    "    if score > best_tree_score:\n",
    "        best_tree_model = model\n",
    "        best_tree_depth = depth\n",
    "        best_tree_score = score\n",
    "print('Доля првильных ответов на валидационной выбоке:', best_tree_score, 'для дерева глубиной', best_tree_depth)"
   ]
  },
  {
   "cell_type": "markdown",
   "metadata": {},
   "source": [
    "### Случайный лес\n",
    "Для случайного леса так же будем переберать глубину дерева и кроме того число деревьев."
   ]
  },
  {
   "cell_type": "code",
   "execution_count": 13,
   "metadata": {},
   "outputs": [
    {
     "data": {
      "application/vnd.jupyter.widget-view+json": {
       "model_id": "8e94db8cbe73430aab48a17ab7469847",
       "version_major": 2,
       "version_minor": 0
      },
      "text/plain": [
       "HBox(children=(HTML(value=''), FloatProgress(value=0.0, max=50.0), HTML(value='')))"
      ]
     },
     "metadata": {},
     "output_type": "display_data"
    },
    {
     "name": "stdout",
     "output_type": "stream",
     "text": [
      "\n",
      "Доля првильных ответов на валидационной выбоке: 0.8109452736318408 для деревьев глубиной 7\n",
      "Число деревьев: 3\n"
     ]
    }
   ],
   "source": [
    "best_forest_model = None\n",
    "best_forest_depth = 0\n",
    "best_forest_n_estimators = 0\n",
    "best_forest_score = 0\n",
    "for n_estimators in tqdm(range (1, 51)):\n",
    "    for depth in range(1, 11):\n",
    "        model = RandomForestClassifier(n_estimators=n_estimators, max_depth=depth, random_state=42)\n",
    "        model.fit(df_train[x_col], df_train[y_col].values.ravel())\n",
    "        score = accuracy_score(df_valid[y_col], model.predict(df_valid[x_col]))\n",
    "        if score > best_forest_score:\n",
    "            best_forest_model = model\n",
    "            best_forest_depth = depth\n",
    "            best_forest_n_estimators = n_estimators\n",
    "            best_forest_score = score\n",
    "\n",
    "print('Доля првильных ответов на валидационной выбоке:', best_forest_score, 'для деревьев глубиной', best_forest_depth)\n",
    "print('Число деревьев:', best_forest_n_estimators)"
   ]
  },
  {
   "cell_type": "markdown",
   "metadata": {},
   "source": [
    "### Логистическая регрессия\n",
    "Для логистической регрессии параметры подберем ручным перебором"
   ]
  },
  {
   "cell_type": "code",
   "execution_count": 14,
   "metadata": {},
   "outputs": [
    {
     "name": "stdout",
     "output_type": "stream",
     "text": [
      "Доля првильных ответов на валидационной выбоке: 0.7479270315091211\n"
     ]
    }
   ],
   "source": [
    "logistic_regression_model = LogisticRegression(random_state=42, solver='liblinear', penalty='l1', intercept_scaling=10)\n",
    "logistic_regression_model.fit(df_train[x_col], df_train[y_col].values.ravel())\n",
    "logistic_regression_score = accuracy_score(df_valid[y_col], logistic_regression_model.predict(df_valid[x_col]))\n",
    "\n",
    "print('Доля првильных ответов на валидационной выбоке:', logistic_regression_score)"
   ]
  },
  {
   "cell_type": "markdown",
   "metadata": {},
   "source": [
    "### CatBoost\n",
    "CatBoost используем с параметрами в основном по умолчанию, ограничим лишь число итераций после которых происходит остановка (200) и количетво выводимой информации (информация выводится каждые 50 итеаций)."
   ]
  },
  {
   "cell_type": "code",
   "execution_count": 15,
   "metadata": {},
   "outputs": [
    {
     "name": "stdout",
     "output_type": "stream",
     "text": [
      "Learning rate set to 0.036676\n",
      "0:\tlearn: 0.7758716\ttest: 0.7611940\tbest: 0.7611940 (0)\ttotal: 56.3ms\tremaining: 56.2s\n",
      "50:\tlearn: 0.8157167\ttest: 0.7960199\tbest: 0.7976783 (38)\ttotal: 198ms\tremaining: 3.68s\n",
      "100:\tlearn: 0.8295517\ttest: 0.7976783\tbest: 0.8059701 (84)\ttotal: 336ms\tremaining: 2.99s\n",
      "150:\tlearn: 0.8367460\ttest: 0.8009950\tbest: 0.8059701 (84)\ttotal: 498ms\tremaining: 2.8s\n",
      "200:\tlearn: 0.8472607\ttest: 0.8026534\tbest: 0.8059701 (84)\ttotal: 636ms\tremaining: 2.53s\n",
      "250:\tlearn: 0.8599889\ttest: 0.7993367\tbest: 0.8059701 (84)\ttotal: 776ms\tremaining: 2.32s\n",
      "Stopped by overfitting detector  (200 iterations wait)\n",
      "\n",
      "bestTest = 0.8059701493\n",
      "bestIteration = 84\n",
      "\n",
      "Shrink model to first 85 iterations.\n",
      "Доля првильных ответов на валидационной выбоке: 0.8059701492537313\n"
     ]
    }
   ],
   "source": [
    "cat_boost_model = CatBoostClassifier(verbose=50, early_stopping_rounds=200, random_state=42, eval_metric='Accuracy')\n",
    "cat_boost_model.fit(df_train[x_col], df_train[y_col].values.ravel(),\n",
    "                    eval_set=(df_valid[x_col], df_valid[y_col].values.ravel()))\n",
    "\n",
    "cat_boost_score = accuracy_score(df_valid[y_col], cat_boost_model.predict(df_valid[x_col]))\n",
    "\n",
    "print('Доля првильных ответов на валидационной выбоке:', cat_boost_score)"
   ]
  },
  {
   "cell_type": "markdown",
   "metadata": {},
   "source": [
    "### Итоговая модель\n",
    "Финальную модель построим комбинацией трех моделей: модели случайного леса, модели логистической регрессии и CatBoost. Решающее правило при этом определим следующим образом: если две или три модели советуют тариф \"Ультра\" (прогнозируют единицу), то пользователю предлагается тариф \"Ультра\" (итоговый прогноз единица), иначе \"Смарт\" (нуль). Введем функцию sum_score_calc которая оценивает accuracy по данному решающему правилу и оценим accuracy на валидационной выборке"
   ]
  },
  {
   "cell_type": "code",
   "execution_count": 16,
   "metadata": {},
   "outputs": [],
   "source": [
    "def sum_score_calc(df):\n",
    "    predict_sum = (best_forest_model.predict(df[x_col]) + \n",
    "                   logistic_regression_model.predict(df[x_col]) +\n",
    "                   cat_boost_model.predict(df[x_col]))\n",
    "    score = accuracy_score(df[y_col], (predict_sum >= 2)*1)\n",
    "    return score"
   ]
  },
  {
   "cell_type": "code",
   "execution_count": 17,
   "metadata": {},
   "outputs": [
    {
     "name": "stdout",
     "output_type": "stream",
     "text": [
      "Доля првильных ответов на валидационной выбоке: 0.8159203980099502\n"
     ]
    }
   ],
   "source": [
    "print('Доля првильных ответов на валидационной выбоке:', sum_score_calc(df_valid))"
   ]
  },
  {
   "cell_type": "markdown",
   "metadata": {},
   "source": [
    "Как видно введение решающего правила дало небольшой прирост accuracy на валидационной выборке по сравнению с моделью случайного леса (81,59 % против 81,09 % у леса)"
   ]
  },
  {
   "cell_type": "markdown",
   "metadata": {},
   "source": [
    "## 4. Проверьте модель на тестовой выборке"
   ]
  },
  {
   "cell_type": "code",
   "execution_count": 18,
   "metadata": {},
   "outputs": [
    {
     "name": "stdout",
     "output_type": "stream",
     "text": [
      "Доля првильных ответов на тестовой выбоке: 0.8171641791044776\n"
     ]
    }
   ],
   "source": [
    "print('Доля првильных ответов на тестовой выбоке:', sum_score_calc(df_test))"
   ]
  },
  {
   "cell_type": "markdown",
   "metadata": {},
   "source": [
    "На тестовой выборке итоговая модель дает accuracy близкий к тому что было получено на валидации, что может говорить о стабильности работы алгоритма."
   ]
  },
  {
   "cell_type": "markdown",
   "metadata": {},
   "source": [
    "## 5. Проверьте модели на адекватность"
   ]
  },
  {
   "cell_type": "markdown",
   "metadata": {},
   "source": [
    "Для проверки модели на адекватность, сравним accuracy итоговой модели на тестовых данных с accuracy модели которая всегда предсказывает тариф \"Смарт\" (нуль)."
   ]
  },
  {
   "cell_type": "code",
   "execution_count": 19,
   "metadata": {},
   "outputs": [
    {
     "data": {
      "text/plain": [
       "0.7027363184079602"
      ]
     },
     "execution_count": 19,
     "metadata": {},
     "output_type": "execute_result"
    }
   ],
   "source": [
    "accuracy_score(df_test[y_col], [0]*len(df_test))"
   ]
  },
  {
   "cell_type": "markdown",
   "metadata": {},
   "source": [
    "Модель которая всегда предсказывает тариф \"Смарт\" на тестовой выборке дает accuracy - 70,27%. Учитывая что итоговая модель на тестовой выборке дает accuracy - 81,7%, эту модель можно считать адекватной."
   ]
  },
  {
   "cell_type": "markdown",
   "metadata": {},
   "source": [
    "## Выводы\n",
    "\n",
    "1. В работе была оценена возможность использования следующих алгоритмов:\n",
    "    * дерево решений\n",
    "    * случайный лес\n",
    "    * логистическая регрессия\n",
    "    * CatBoost\n",
    "    \n",
    "* Оптимизированы параметры алгоритмов\n",
    "* Предложено решающее правило по которому сформирована итоговая модель\n",
    "* Проведена оценка accuracy алгоритмов\n",
    "* Итоговая модель имеет accuracy на тестовой выборке 81,7 % и может быть использована для построения системы, способной на основе поведения клиентов предложить им новый тариф: «Смарт» или «Ультра».\n",
    "    \n",
    "\n"
   ]
  }
 ],
 "metadata": {
  "kernelspec": {
   "display_name": "Python 3",
   "language": "python",
   "name": "python3"
  },
  "language_info": {
   "codemirror_mode": {
    "name": "ipython",
    "version": 3
   },
   "file_extension": ".py",
   "mimetype": "text/x-python",
   "name": "python",
   "nbconvert_exporter": "python",
   "pygments_lexer": "ipython3",
   "version": "3.8.5"
  }
 },
 "nbformat": 4,
 "nbformat_minor": 2
}
