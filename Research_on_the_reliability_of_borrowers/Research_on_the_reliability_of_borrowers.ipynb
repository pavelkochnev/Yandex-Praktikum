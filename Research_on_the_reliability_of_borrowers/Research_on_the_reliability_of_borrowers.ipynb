{
 "cells": [
  {
   "cell_type": "markdown",
   "metadata": {},
   "source": [
    "## Исследование надёжности заёмщиков\n",
    "\n",
    "Заказчик — кредитный отдел банка. Нужно разобраться, влияет ли семейное положение и количество детей клиента на факт погашения кредита в срок. Входные данные от банка — статистика о платёжеспособности клиентов.\n",
    "\n",
    "Результаты исследования будут учтены при построении модели **кредитного скоринга** — специальной системы, которая оценивает способность потенциального заёмщика вернуть кредит банку."
   ]
  },
  {
   "cell_type": "markdown",
   "metadata": {},
   "source": [
    "### Шаг 1. Откройте файл с данными и изучите общую информацию. "
   ]
  },
  {
   "cell_type": "code",
   "execution_count": 1,
   "metadata": {},
   "outputs": [
    {
     "data": {
      "text/html": [
       "<div>\n",
       "<style scoped>\n",
       "    .dataframe tbody tr th:only-of-type {\n",
       "        vertical-align: middle;\n",
       "    }\n",
       "\n",
       "    .dataframe tbody tr th {\n",
       "        vertical-align: top;\n",
       "    }\n",
       "\n",
       "    .dataframe thead th {\n",
       "        text-align: right;\n",
       "    }\n",
       "</style>\n",
       "<table border=\"1\" class=\"dataframe\">\n",
       "  <thead>\n",
       "    <tr style=\"text-align: right;\">\n",
       "      <th></th>\n",
       "      <th>children</th>\n",
       "      <th>days_employed</th>\n",
       "      <th>dob_years</th>\n",
       "      <th>education</th>\n",
       "      <th>education_id</th>\n",
       "      <th>family_status</th>\n",
       "      <th>family_status_id</th>\n",
       "      <th>gender</th>\n",
       "      <th>income_type</th>\n",
       "      <th>debt</th>\n",
       "      <th>total_income</th>\n",
       "      <th>purpose</th>\n",
       "    </tr>\n",
       "  </thead>\n",
       "  <tbody>\n",
       "    <tr>\n",
       "      <th>0</th>\n",
       "      <td>1</td>\n",
       "      <td>-8437.673028</td>\n",
       "      <td>42</td>\n",
       "      <td>высшее</td>\n",
       "      <td>0</td>\n",
       "      <td>женат / замужем</td>\n",
       "      <td>0</td>\n",
       "      <td>F</td>\n",
       "      <td>сотрудник</td>\n",
       "      <td>0</td>\n",
       "      <td>253875.639453</td>\n",
       "      <td>покупка жилья</td>\n",
       "    </tr>\n",
       "    <tr>\n",
       "      <th>1</th>\n",
       "      <td>1</td>\n",
       "      <td>-4024.803754</td>\n",
       "      <td>36</td>\n",
       "      <td>среднее</td>\n",
       "      <td>1</td>\n",
       "      <td>женат / замужем</td>\n",
       "      <td>0</td>\n",
       "      <td>F</td>\n",
       "      <td>сотрудник</td>\n",
       "      <td>0</td>\n",
       "      <td>112080.014102</td>\n",
       "      <td>приобретение автомобиля</td>\n",
       "    </tr>\n",
       "    <tr>\n",
       "      <th>2</th>\n",
       "      <td>0</td>\n",
       "      <td>-5623.422610</td>\n",
       "      <td>33</td>\n",
       "      <td>Среднее</td>\n",
       "      <td>1</td>\n",
       "      <td>женат / замужем</td>\n",
       "      <td>0</td>\n",
       "      <td>M</td>\n",
       "      <td>сотрудник</td>\n",
       "      <td>0</td>\n",
       "      <td>145885.952297</td>\n",
       "      <td>покупка жилья</td>\n",
       "    </tr>\n",
       "    <tr>\n",
       "      <th>3</th>\n",
       "      <td>3</td>\n",
       "      <td>-4124.747207</td>\n",
       "      <td>32</td>\n",
       "      <td>среднее</td>\n",
       "      <td>1</td>\n",
       "      <td>женат / замужем</td>\n",
       "      <td>0</td>\n",
       "      <td>M</td>\n",
       "      <td>сотрудник</td>\n",
       "      <td>0</td>\n",
       "      <td>267628.550329</td>\n",
       "      <td>дополнительное образование</td>\n",
       "    </tr>\n",
       "    <tr>\n",
       "      <th>4</th>\n",
       "      <td>0</td>\n",
       "      <td>340266.072047</td>\n",
       "      <td>53</td>\n",
       "      <td>среднее</td>\n",
       "      <td>1</td>\n",
       "      <td>гражданский брак</td>\n",
       "      <td>1</td>\n",
       "      <td>F</td>\n",
       "      <td>пенсионер</td>\n",
       "      <td>0</td>\n",
       "      <td>158616.077870</td>\n",
       "      <td>сыграть свадьбу</td>\n",
       "    </tr>\n",
       "    <tr>\n",
       "      <th>5</th>\n",
       "      <td>0</td>\n",
       "      <td>-926.185831</td>\n",
       "      <td>27</td>\n",
       "      <td>высшее</td>\n",
       "      <td>0</td>\n",
       "      <td>гражданский брак</td>\n",
       "      <td>1</td>\n",
       "      <td>M</td>\n",
       "      <td>компаньон</td>\n",
       "      <td>0</td>\n",
       "      <td>255763.565419</td>\n",
       "      <td>покупка жилья</td>\n",
       "    </tr>\n",
       "    <tr>\n",
       "      <th>6</th>\n",
       "      <td>0</td>\n",
       "      <td>-2879.202052</td>\n",
       "      <td>43</td>\n",
       "      <td>высшее</td>\n",
       "      <td>0</td>\n",
       "      <td>женат / замужем</td>\n",
       "      <td>0</td>\n",
       "      <td>F</td>\n",
       "      <td>компаньон</td>\n",
       "      <td>0</td>\n",
       "      <td>240525.971920</td>\n",
       "      <td>операции с жильем</td>\n",
       "    </tr>\n",
       "    <tr>\n",
       "      <th>7</th>\n",
       "      <td>0</td>\n",
       "      <td>-152.779569</td>\n",
       "      <td>50</td>\n",
       "      <td>СРЕДНЕЕ</td>\n",
       "      <td>1</td>\n",
       "      <td>женат / замужем</td>\n",
       "      <td>0</td>\n",
       "      <td>M</td>\n",
       "      <td>сотрудник</td>\n",
       "      <td>0</td>\n",
       "      <td>135823.934197</td>\n",
       "      <td>образование</td>\n",
       "    </tr>\n",
       "    <tr>\n",
       "      <th>8</th>\n",
       "      <td>2</td>\n",
       "      <td>-6929.865299</td>\n",
       "      <td>35</td>\n",
       "      <td>ВЫСШЕЕ</td>\n",
       "      <td>0</td>\n",
       "      <td>гражданский брак</td>\n",
       "      <td>1</td>\n",
       "      <td>F</td>\n",
       "      <td>сотрудник</td>\n",
       "      <td>0</td>\n",
       "      <td>95856.832424</td>\n",
       "      <td>на проведение свадьбы</td>\n",
       "    </tr>\n",
       "    <tr>\n",
       "      <th>9</th>\n",
       "      <td>0</td>\n",
       "      <td>-2188.756445</td>\n",
       "      <td>41</td>\n",
       "      <td>среднее</td>\n",
       "      <td>1</td>\n",
       "      <td>женат / замужем</td>\n",
       "      <td>0</td>\n",
       "      <td>M</td>\n",
       "      <td>сотрудник</td>\n",
       "      <td>0</td>\n",
       "      <td>144425.938277</td>\n",
       "      <td>покупка жилья для семьи</td>\n",
       "    </tr>\n",
       "  </tbody>\n",
       "</table>\n",
       "</div>"
      ],
      "text/plain": [
       "   children  days_employed  dob_years education  education_id  \\\n",
       "0         1   -8437.673028         42    высшее             0   \n",
       "1         1   -4024.803754         36   среднее             1   \n",
       "2         0   -5623.422610         33   Среднее             1   \n",
       "3         3   -4124.747207         32   среднее             1   \n",
       "4         0  340266.072047         53   среднее             1   \n",
       "5         0    -926.185831         27    высшее             0   \n",
       "6         0   -2879.202052         43    высшее             0   \n",
       "7         0    -152.779569         50   СРЕДНЕЕ             1   \n",
       "8         2   -6929.865299         35    ВЫСШЕЕ             0   \n",
       "9         0   -2188.756445         41   среднее             1   \n",
       "\n",
       "      family_status  family_status_id gender income_type  debt   total_income  \\\n",
       "0   женат / замужем                 0      F   сотрудник     0  253875.639453   \n",
       "1   женат / замужем                 0      F   сотрудник     0  112080.014102   \n",
       "2   женат / замужем                 0      M   сотрудник     0  145885.952297   \n",
       "3   женат / замужем                 0      M   сотрудник     0  267628.550329   \n",
       "4  гражданский брак                 1      F   пенсионер     0  158616.077870   \n",
       "5  гражданский брак                 1      M   компаньон     0  255763.565419   \n",
       "6   женат / замужем                 0      F   компаньон     0  240525.971920   \n",
       "7   женат / замужем                 0      M   сотрудник     0  135823.934197   \n",
       "8  гражданский брак                 1      F   сотрудник     0   95856.832424   \n",
       "9   женат / замужем                 0      M   сотрудник     0  144425.938277   \n",
       "\n",
       "                      purpose  \n",
       "0               покупка жилья  \n",
       "1     приобретение автомобиля  \n",
       "2               покупка жилья  \n",
       "3  дополнительное образование  \n",
       "4             сыграть свадьбу  \n",
       "5               покупка жилья  \n",
       "6           операции с жильем  \n",
       "7                 образование  \n",
       "8       на проведение свадьбы  \n",
       "9     покупка жилья для семьи  "
      ]
     },
     "execution_count": 1,
     "metadata": {},
     "output_type": "execute_result"
    }
   ],
   "source": [
    "import pandas as pd\n",
    "data = pd.read_csv('./datasets/data.csv')\n",
    "data.head(10)"
   ]
  },
  {
   "cell_type": "code",
   "execution_count": 2,
   "metadata": {},
   "outputs": [
    {
     "name": "stdout",
     "output_type": "stream",
     "text": [
      "<class 'pandas.core.frame.DataFrame'>\n",
      "RangeIndex: 21525 entries, 0 to 21524\n",
      "Data columns (total 12 columns):\n",
      " #   Column            Non-Null Count  Dtype  \n",
      "---  ------            --------------  -----  \n",
      " 0   children          21525 non-null  int64  \n",
      " 1   days_employed     19351 non-null  float64\n",
      " 2   dob_years         21525 non-null  int64  \n",
      " 3   education         21525 non-null  object \n",
      " 4   education_id      21525 non-null  int64  \n",
      " 5   family_status     21525 non-null  object \n",
      " 6   family_status_id  21525 non-null  int64  \n",
      " 7   gender            21525 non-null  object \n",
      " 8   income_type       21525 non-null  object \n",
      " 9   debt              21525 non-null  int64  \n",
      " 10  total_income      19351 non-null  float64\n",
      " 11  purpose           21525 non-null  object \n",
      "dtypes: float64(2), int64(5), object(5)\n",
      "memory usage: 2.0+ MB\n"
     ]
    }
   ],
   "source": [
    "data.info()"
   ]
  },
  {
   "cell_type": "code",
   "execution_count": 3,
   "metadata": {},
   "outputs": [
    {
     "data": {
      "text/html": [
       "<div>\n",
       "<style scoped>\n",
       "    .dataframe tbody tr th:only-of-type {\n",
       "        vertical-align: middle;\n",
       "    }\n",
       "\n",
       "    .dataframe tbody tr th {\n",
       "        vertical-align: top;\n",
       "    }\n",
       "\n",
       "    .dataframe thead th {\n",
       "        text-align: right;\n",
       "    }\n",
       "</style>\n",
       "<table border=\"1\" class=\"dataframe\">\n",
       "  <thead>\n",
       "    <tr style=\"text-align: right;\">\n",
       "      <th></th>\n",
       "      <th>children</th>\n",
       "      <th>days_employed</th>\n",
       "      <th>dob_years</th>\n",
       "      <th>education_id</th>\n",
       "      <th>family_status_id</th>\n",
       "      <th>debt</th>\n",
       "      <th>total_income</th>\n",
       "    </tr>\n",
       "  </thead>\n",
       "  <tbody>\n",
       "    <tr>\n",
       "      <th>count</th>\n",
       "      <td>21525.000000</td>\n",
       "      <td>19351.000000</td>\n",
       "      <td>21525.000000</td>\n",
       "      <td>21525.000000</td>\n",
       "      <td>21525.000000</td>\n",
       "      <td>21525.000000</td>\n",
       "      <td>1.935100e+04</td>\n",
       "    </tr>\n",
       "    <tr>\n",
       "      <th>mean</th>\n",
       "      <td>0.538908</td>\n",
       "      <td>63046.497661</td>\n",
       "      <td>43.293380</td>\n",
       "      <td>0.817236</td>\n",
       "      <td>0.972544</td>\n",
       "      <td>0.080883</td>\n",
       "      <td>1.674223e+05</td>\n",
       "    </tr>\n",
       "    <tr>\n",
       "      <th>std</th>\n",
       "      <td>1.381587</td>\n",
       "      <td>140827.311974</td>\n",
       "      <td>12.574584</td>\n",
       "      <td>0.548138</td>\n",
       "      <td>1.420324</td>\n",
       "      <td>0.272661</td>\n",
       "      <td>1.029716e+05</td>\n",
       "    </tr>\n",
       "    <tr>\n",
       "      <th>min</th>\n",
       "      <td>-1.000000</td>\n",
       "      <td>-18388.949901</td>\n",
       "      <td>0.000000</td>\n",
       "      <td>0.000000</td>\n",
       "      <td>0.000000</td>\n",
       "      <td>0.000000</td>\n",
       "      <td>2.066726e+04</td>\n",
       "    </tr>\n",
       "    <tr>\n",
       "      <th>25%</th>\n",
       "      <td>0.000000</td>\n",
       "      <td>-2747.423625</td>\n",
       "      <td>33.000000</td>\n",
       "      <td>1.000000</td>\n",
       "      <td>0.000000</td>\n",
       "      <td>0.000000</td>\n",
       "      <td>1.030532e+05</td>\n",
       "    </tr>\n",
       "    <tr>\n",
       "      <th>50%</th>\n",
       "      <td>0.000000</td>\n",
       "      <td>-1203.369529</td>\n",
       "      <td>42.000000</td>\n",
       "      <td>1.000000</td>\n",
       "      <td>0.000000</td>\n",
       "      <td>0.000000</td>\n",
       "      <td>1.450179e+05</td>\n",
       "    </tr>\n",
       "    <tr>\n",
       "      <th>75%</th>\n",
       "      <td>1.000000</td>\n",
       "      <td>-291.095954</td>\n",
       "      <td>53.000000</td>\n",
       "      <td>1.000000</td>\n",
       "      <td>1.000000</td>\n",
       "      <td>0.000000</td>\n",
       "      <td>2.034351e+05</td>\n",
       "    </tr>\n",
       "    <tr>\n",
       "      <th>max</th>\n",
       "      <td>20.000000</td>\n",
       "      <td>401755.400475</td>\n",
       "      <td>75.000000</td>\n",
       "      <td>4.000000</td>\n",
       "      <td>4.000000</td>\n",
       "      <td>1.000000</td>\n",
       "      <td>2.265604e+06</td>\n",
       "    </tr>\n",
       "  </tbody>\n",
       "</table>\n",
       "</div>"
      ],
      "text/plain": [
       "           children  days_employed     dob_years  education_id  \\\n",
       "count  21525.000000   19351.000000  21525.000000  21525.000000   \n",
       "mean       0.538908   63046.497661     43.293380      0.817236   \n",
       "std        1.381587  140827.311974     12.574584      0.548138   \n",
       "min       -1.000000  -18388.949901      0.000000      0.000000   \n",
       "25%        0.000000   -2747.423625     33.000000      1.000000   \n",
       "50%        0.000000   -1203.369529     42.000000      1.000000   \n",
       "75%        1.000000    -291.095954     53.000000      1.000000   \n",
       "max       20.000000  401755.400475     75.000000      4.000000   \n",
       "\n",
       "       family_status_id          debt  total_income  \n",
       "count      21525.000000  21525.000000  1.935100e+04  \n",
       "mean           0.972544      0.080883  1.674223e+05  \n",
       "std            1.420324      0.272661  1.029716e+05  \n",
       "min            0.000000      0.000000  2.066726e+04  \n",
       "25%            0.000000      0.000000  1.030532e+05  \n",
       "50%            0.000000      0.000000  1.450179e+05  \n",
       "75%            1.000000      0.000000  2.034351e+05  \n",
       "max            4.000000      1.000000  2.265604e+06  "
      ]
     },
     "execution_count": 3,
     "metadata": {},
     "output_type": "execute_result"
    }
   ],
   "source": [
    "data.describe()"
   ]
  },
  {
   "cell_type": "markdown",
   "metadata": {},
   "source": [
    "Столбцы в таблице имеют следующие значения:\n",
    "* children — количество детей в семье\n",
    "* days_employed — общий трудовой стаж в днях\n",
    "* dob_years — возраст клиента в годах\n",
    "* education — уровень образования клиента\n",
    "* education_id — идентификатор уровня образования\n",
    "* family_status — семейное положение\n",
    "* family_status_id — идентификатор семейного положения\n",
    "* gender — пол клиента\n",
    "* income_type — тип занятости\n",
    "* debt — имел ли задолженность по возврату кредитов\n",
    "* total_income — ежемесячный доход\n",
    "* purpose — цель получения кредита\n",
    "\n"
   ]
  },
  {
   "cell_type": "markdown",
   "metadata": {},
   "source": [
    "### Вывод"
   ]
  },
  {
   "cell_type": "markdown",
   "metadata": {},
   "source": [
    "Краткий обзор представленной информации говорит о наличии некоторых проблем с данными которые нужно решить до начала обработки:\n",
    "1. Общий трудовой стаж клиентов принимает отрицательные значения, что является не нормальной ситуацией и возможно связано с некорректным вводом данных.\n",
    "2. Записи уровня образования клиента в столбце education имеют разный регистр. Возможно это связано с возможностью ручного ввода данных об образовании клиента работником банка. Лучше дать работнику банка возможность выбирать из списка при вводе данных.\n",
    "3. В столбцах days_employed и total_income имеются пропущенные значения и их необходимо каким-то образом заполнить. Одинаковое количество пропущеных значений в обоих столбцах говорит о том что отсутствие данных в обоих столбцах может быть вызвано одними и теми же причинами.\n",
    "4. Данные в столбцах education, education_id, family_status, family_status_id, income_type являются категориальными необходимо изменить их тип.\n",
    "5. Данный файл является относительно небольшим (2 МБ), однако в случае значительного увеличения данных в будущем для экономии экономии памяти лучше использовать тип uint8 вместо int64 для столбцов children и dob_years так как маловероятно что возраст клиента или количество детей у него будут более 255 (максимальное число детей в имеющихся данных 20). Так же данные в столбцах education и education_id (как и в столбцах family_status и family_status_id) являются дублирующими друг друга и никакой дополнительной информации не несут. По этому соответствие education столбцу education_id (family_status и family_status_id) лучше вынести в отдельные словари, а столбцы education и family_status из данных удалить.\n",
    "6. В данных есть заемщики с числом детей равным минус единице, в данных есть люди с возрастом равным 0 лет. Прежде чем отвечать на поставленные Заказчиком вопросы с этими данными так же надо разобраться."
   ]
  },
  {
   "cell_type": "markdown",
   "metadata": {},
   "source": [
    "<div class=\"alert alert-success\">\n",
    "<h2> Комментарий ревьюера </h2>\n",
    "\n",
    "Очень хорошее начало! Данные загружены и подробно изучены, отлично подмечены основные проблемы\n",
    "\n",
    "</div>"
   ]
  },
  {
   "cell_type": "markdown",
   "metadata": {},
   "source": [
    "### Шаг 2. Предобработка данных"
   ]
  },
  {
   "cell_type": "markdown",
   "metadata": {},
   "source": [
    "### Обработка пропусков"
   ]
  },
  {
   "cell_type": "code",
   "execution_count": 4,
   "metadata": {},
   "outputs": [
    {
     "data": {
      "text/html": [
       "<div>\n",
       "<style scoped>\n",
       "    .dataframe tbody tr th:only-of-type {\n",
       "        vertical-align: middle;\n",
       "    }\n",
       "\n",
       "    .dataframe tbody tr th {\n",
       "        vertical-align: top;\n",
       "    }\n",
       "\n",
       "    .dataframe thead th {\n",
       "        text-align: right;\n",
       "    }\n",
       "</style>\n",
       "<table border=\"1\" class=\"dataframe\">\n",
       "  <thead>\n",
       "    <tr style=\"text-align: right;\">\n",
       "      <th></th>\n",
       "      <th>children</th>\n",
       "      <th>days_employed</th>\n",
       "      <th>dob_years</th>\n",
       "      <th>education</th>\n",
       "      <th>education_id</th>\n",
       "      <th>family_status</th>\n",
       "      <th>family_status_id</th>\n",
       "      <th>gender</th>\n",
       "      <th>income_type</th>\n",
       "      <th>debt</th>\n",
       "      <th>total_income</th>\n",
       "      <th>purpose</th>\n",
       "    </tr>\n",
       "  </thead>\n",
       "  <tbody>\n",
       "    <tr>\n",
       "      <th>12</th>\n",
       "      <td>0</td>\n",
       "      <td>NaN</td>\n",
       "      <td>65</td>\n",
       "      <td>среднее</td>\n",
       "      <td>1</td>\n",
       "      <td>гражданский брак</td>\n",
       "      <td>1</td>\n",
       "      <td>M</td>\n",
       "      <td>пенсионер</td>\n",
       "      <td>0</td>\n",
       "      <td>NaN</td>\n",
       "      <td>сыграть свадьбу</td>\n",
       "    </tr>\n",
       "    <tr>\n",
       "      <th>26</th>\n",
       "      <td>0</td>\n",
       "      <td>NaN</td>\n",
       "      <td>41</td>\n",
       "      <td>среднее</td>\n",
       "      <td>1</td>\n",
       "      <td>женат / замужем</td>\n",
       "      <td>0</td>\n",
       "      <td>M</td>\n",
       "      <td>госслужащий</td>\n",
       "      <td>0</td>\n",
       "      <td>NaN</td>\n",
       "      <td>образование</td>\n",
       "    </tr>\n",
       "    <tr>\n",
       "      <th>29</th>\n",
       "      <td>0</td>\n",
       "      <td>NaN</td>\n",
       "      <td>63</td>\n",
       "      <td>среднее</td>\n",
       "      <td>1</td>\n",
       "      <td>Не женат / не замужем</td>\n",
       "      <td>4</td>\n",
       "      <td>F</td>\n",
       "      <td>пенсионер</td>\n",
       "      <td>0</td>\n",
       "      <td>NaN</td>\n",
       "      <td>строительство жилой недвижимости</td>\n",
       "    </tr>\n",
       "    <tr>\n",
       "      <th>41</th>\n",
       "      <td>0</td>\n",
       "      <td>NaN</td>\n",
       "      <td>50</td>\n",
       "      <td>среднее</td>\n",
       "      <td>1</td>\n",
       "      <td>женат / замужем</td>\n",
       "      <td>0</td>\n",
       "      <td>F</td>\n",
       "      <td>госслужащий</td>\n",
       "      <td>0</td>\n",
       "      <td>NaN</td>\n",
       "      <td>сделка с подержанным автомобилем</td>\n",
       "    </tr>\n",
       "    <tr>\n",
       "      <th>55</th>\n",
       "      <td>0</td>\n",
       "      <td>NaN</td>\n",
       "      <td>54</td>\n",
       "      <td>среднее</td>\n",
       "      <td>1</td>\n",
       "      <td>гражданский брак</td>\n",
       "      <td>1</td>\n",
       "      <td>F</td>\n",
       "      <td>пенсионер</td>\n",
       "      <td>1</td>\n",
       "      <td>NaN</td>\n",
       "      <td>сыграть свадьбу</td>\n",
       "    </tr>\n",
       "    <tr>\n",
       "      <th>65</th>\n",
       "      <td>0</td>\n",
       "      <td>NaN</td>\n",
       "      <td>21</td>\n",
       "      <td>среднее</td>\n",
       "      <td>1</td>\n",
       "      <td>Не женат / не замужем</td>\n",
       "      <td>4</td>\n",
       "      <td>M</td>\n",
       "      <td>компаньон</td>\n",
       "      <td>0</td>\n",
       "      <td>NaN</td>\n",
       "      <td>операции с коммерческой недвижимостью</td>\n",
       "    </tr>\n",
       "    <tr>\n",
       "      <th>67</th>\n",
       "      <td>0</td>\n",
       "      <td>NaN</td>\n",
       "      <td>52</td>\n",
       "      <td>высшее</td>\n",
       "      <td>0</td>\n",
       "      <td>женат / замужем</td>\n",
       "      <td>0</td>\n",
       "      <td>F</td>\n",
       "      <td>пенсионер</td>\n",
       "      <td>0</td>\n",
       "      <td>NaN</td>\n",
       "      <td>покупка жилья для семьи</td>\n",
       "    </tr>\n",
       "    <tr>\n",
       "      <th>72</th>\n",
       "      <td>1</td>\n",
       "      <td>NaN</td>\n",
       "      <td>32</td>\n",
       "      <td>высшее</td>\n",
       "      <td>0</td>\n",
       "      <td>женат / замужем</td>\n",
       "      <td>0</td>\n",
       "      <td>M</td>\n",
       "      <td>госслужащий</td>\n",
       "      <td>0</td>\n",
       "      <td>NaN</td>\n",
       "      <td>операции с коммерческой недвижимостью</td>\n",
       "    </tr>\n",
       "    <tr>\n",
       "      <th>82</th>\n",
       "      <td>2</td>\n",
       "      <td>NaN</td>\n",
       "      <td>50</td>\n",
       "      <td>высшее</td>\n",
       "      <td>0</td>\n",
       "      <td>женат / замужем</td>\n",
       "      <td>0</td>\n",
       "      <td>F</td>\n",
       "      <td>сотрудник</td>\n",
       "      <td>0</td>\n",
       "      <td>NaN</td>\n",
       "      <td>жилье</td>\n",
       "    </tr>\n",
       "    <tr>\n",
       "      <th>83</th>\n",
       "      <td>0</td>\n",
       "      <td>NaN</td>\n",
       "      <td>52</td>\n",
       "      <td>среднее</td>\n",
       "      <td>1</td>\n",
       "      <td>женат / замужем</td>\n",
       "      <td>0</td>\n",
       "      <td>M</td>\n",
       "      <td>сотрудник</td>\n",
       "      <td>0</td>\n",
       "      <td>NaN</td>\n",
       "      <td>жилье</td>\n",
       "    </tr>\n",
       "  </tbody>\n",
       "</table>\n",
       "</div>"
      ],
      "text/plain": [
       "    children  days_employed  dob_years education  education_id  \\\n",
       "12         0            NaN         65   среднее             1   \n",
       "26         0            NaN         41   среднее             1   \n",
       "29         0            NaN         63   среднее             1   \n",
       "41         0            NaN         50   среднее             1   \n",
       "55         0            NaN         54   среднее             1   \n",
       "65         0            NaN         21   среднее             1   \n",
       "67         0            NaN         52    высшее             0   \n",
       "72         1            NaN         32    высшее             0   \n",
       "82         2            NaN         50    высшее             0   \n",
       "83         0            NaN         52   среднее             1   \n",
       "\n",
       "            family_status  family_status_id gender  income_type  debt  \\\n",
       "12       гражданский брак                 1      M    пенсионер     0   \n",
       "26        женат / замужем                 0      M  госслужащий     0   \n",
       "29  Не женат / не замужем                 4      F    пенсионер     0   \n",
       "41        женат / замужем                 0      F  госслужащий     0   \n",
       "55       гражданский брак                 1      F    пенсионер     1   \n",
       "65  Не женат / не замужем                 4      M    компаньон     0   \n",
       "67        женат / замужем                 0      F    пенсионер     0   \n",
       "72        женат / замужем                 0      M  госслужащий     0   \n",
       "82        женат / замужем                 0      F    сотрудник     0   \n",
       "83        женат / замужем                 0      M    сотрудник     0   \n",
       "\n",
       "    total_income                                purpose  \n",
       "12           NaN                        сыграть свадьбу  \n",
       "26           NaN                            образование  \n",
       "29           NaN       строительство жилой недвижимости  \n",
       "41           NaN       сделка с подержанным автомобилем  \n",
       "55           NaN                        сыграть свадьбу  \n",
       "65           NaN  операции с коммерческой недвижимостью  \n",
       "67           NaN                покупка жилья для семьи  \n",
       "72           NaN  операции с коммерческой недвижимостью  \n",
       "82           NaN                                  жилье  \n",
       "83           NaN                                  жилье  "
      ]
     },
     "execution_count": 4,
     "metadata": {},
     "output_type": "execute_result"
    }
   ],
   "source": [
    "#выведем строки с незаполненными данными об отсутствующем стаже \n",
    "data[data['days_employed'].isnull()].head(10)"
   ]
  },
  {
   "cell_type": "code",
   "execution_count": 5,
   "metadata": {},
   "outputs": [
    {
     "data": {
      "text/plain": [
       "array([nan])"
      ]
     },
     "execution_count": 5,
     "metadata": {},
     "output_type": "execute_result"
    }
   ],
   "source": [
    "#убедимся что для всех строк в которых не заполнены данные о стаже так же не заполнены данные о ежемесячном доходе \n",
    "data[data['days_employed'].isnull()]['total_income'].unique()"
   ]
  },
  {
   "cell_type": "markdown",
   "metadata": {},
   "source": [
    "Поскольку чило незаполненных строк о стаже клиента и его ежемесячном доходе одинаковое и они всегда \"ходят парой\", то можно сделать вывод, что отсутствие указанных данных скорее всего вызвано одной и той же причиной и связано с отказом клиента от предоставления сведений о своей работе (доходах). Было бы так же интересно исследовать влияет ли предоставление клиентом информации о своей работе на возвратность кредита."
   ]
  },
  {
   "cell_type": "code",
   "execution_count": 6,
   "metadata": {},
   "outputs": [
    {
     "name": "stdout",
     "output_type": "stream",
     "text": [
      "Количество незаполненных строк: 10.1%\n"
     ]
    }
   ],
   "source": [
    "# создадим в данных столбец job_info в который запишем True, если информация о стаже и заработке есть и False в противном случае\n",
    "data['job_info'] = data['days_employed'].notna()\n",
    "\n",
    "# рассчитаем процент незаполненных строк\n",
    "print('Количество незаполненных строк: {:.1%}'.format(1 - data['job_info'].sum() / data['job_info'].count()))"
   ]
  },
  {
   "cell_type": "markdown",
   "metadata": {},
   "source": [
    "Общее количество строк с пропущеными данными составляет порядка 10% от общего числа записей, просто выкинуть их не получится так как это может привести к значительному сокращению выборки. Таким образом необходимо разработать правило заполнения пропусков. В общем случае доходы людей могут зависеть от пола, возраста и образования. \n",
    "Чтобы определить необходимость учета указанных факторов при заполнении пропусков оценим зависимость медианного дохода от различных пареметров. Начнем с зависимости от пола клиента"
   ]
  },
  {
   "cell_type": "markdown",
   "metadata": {},
   "source": [
    "#### Оценка зависимости доходов заемщика от пола"
   ]
  },
  {
   "cell_type": "code",
   "execution_count": 7,
   "metadata": {},
   "outputs": [
    {
     "data": {
      "text/html": [
       "<div>\n",
       "<style scoped>\n",
       "    .dataframe tbody tr th:only-of-type {\n",
       "        vertical-align: middle;\n",
       "    }\n",
       "\n",
       "    .dataframe tbody tr th {\n",
       "        vertical-align: top;\n",
       "    }\n",
       "\n",
       "    .dataframe thead th {\n",
       "        text-align: right;\n",
       "    }\n",
       "</style>\n",
       "<table border=\"1\" class=\"dataframe\">\n",
       "  <thead>\n",
       "    <tr style=\"text-align: right;\">\n",
       "      <th></th>\n",
       "      <th>count</th>\n",
       "      <th>mean</th>\n",
       "      <th>median</th>\n",
       "    </tr>\n",
       "    <tr>\n",
       "      <th>gender</th>\n",
       "      <th></th>\n",
       "      <th></th>\n",
       "      <th></th>\n",
       "    </tr>\n",
       "  </thead>\n",
       "  <tbody>\n",
       "    <tr>\n",
       "      <th>F</th>\n",
       "      <td>12752</td>\n",
       "      <td>154097.529734</td>\n",
       "      <td>134155.283479</td>\n",
       "    </tr>\n",
       "    <tr>\n",
       "      <th>M</th>\n",
       "      <td>6598</td>\n",
       "      <td>193169.652274</td>\n",
       "      <td>167714.343716</td>\n",
       "    </tr>\n",
       "    <tr>\n",
       "      <th>XNA</th>\n",
       "      <td>1</td>\n",
       "      <td>203905.157261</td>\n",
       "      <td>203905.157261</td>\n",
       "    </tr>\n",
       "  </tbody>\n",
       "</table>\n",
       "</div>"
      ],
      "text/plain": [
       "        count           mean         median\n",
       "gender                                     \n",
       "F       12752  154097.529734  134155.283479\n",
       "M        6598  193169.652274  167714.343716\n",
       "XNA         1  203905.157261  203905.157261"
      ]
     },
     "execution_count": 7,
     "metadata": {},
     "output_type": "execute_result"
    }
   ],
   "source": [
    "#создадим сводную таблицу в котороую выведем число клиентов, средний и медианный доход в зависимости от пола\n",
    "data.groupby('gender')['total_income'].agg(['count','mean','median'])"
   ]
  },
  {
   "cell_type": "markdown",
   "metadata": {},
   "source": [
    "Видно, что не смотря на то что женщины чаще становятся заемщиками их средний и медианный доход ниже чем у мужчин. Таким образом пол заемщика необходимо учитывать при определении среднего заработка, а как следствие возможности погашения кредита. Так же видно что таблица с данными содержит одну строчку с неуказанным значением пола заемщика, возможно работник банка забыл заполнить графу \"пол клиента\" при оформлении кредита. Так как такая строчка всего одна, то ее удаление не окажет значительного влияния на данные, но упростит дальнейшую работу."
   ]
  },
  {
   "cell_type": "code",
   "execution_count": 8,
   "metadata": {},
   "outputs": [
    {
     "data": {
      "text/html": [
       "<div>\n",
       "<style scoped>\n",
       "    .dataframe tbody tr th:only-of-type {\n",
       "        vertical-align: middle;\n",
       "    }\n",
       "\n",
       "    .dataframe tbody tr th {\n",
       "        vertical-align: top;\n",
       "    }\n",
       "\n",
       "    .dataframe thead th {\n",
       "        text-align: right;\n",
       "    }\n",
       "</style>\n",
       "<table border=\"1\" class=\"dataframe\">\n",
       "  <thead>\n",
       "    <tr style=\"text-align: right;\">\n",
       "      <th></th>\n",
       "      <th>count</th>\n",
       "      <th>mean</th>\n",
       "      <th>median</th>\n",
       "    </tr>\n",
       "    <tr>\n",
       "      <th>gender</th>\n",
       "      <th></th>\n",
       "      <th></th>\n",
       "      <th></th>\n",
       "    </tr>\n",
       "  </thead>\n",
       "  <tbody>\n",
       "    <tr>\n",
       "      <th>F</th>\n",
       "      <td>12752</td>\n",
       "      <td>154097.529734</td>\n",
       "      <td>134155.283479</td>\n",
       "    </tr>\n",
       "    <tr>\n",
       "      <th>M</th>\n",
       "      <td>6598</td>\n",
       "      <td>193169.652274</td>\n",
       "      <td>167714.343716</td>\n",
       "    </tr>\n",
       "  </tbody>\n",
       "</table>\n",
       "</div>"
      ],
      "text/plain": [
       "        count           mean         median\n",
       "gender                                     \n",
       "F       12752  154097.529734  134155.283479\n",
       "M        6598  193169.652274  167714.343716"
      ]
     },
     "execution_count": 8,
     "metadata": {},
     "output_type": "execute_result"
    }
   ],
   "source": [
    "# удалим требуемую строку методом drop и повторно выведем сводную таблицу\n",
    "data = data.drop(data[data['gender'] == 'XNA'].index)\n",
    "data.groupby('gender')['total_income'].agg(['count','mean','median'])"
   ]
  },
  {
   "cell_type": "markdown",
   "metadata": {},
   "source": [
    "Теперь со столбцом пол заемщика все впорядке, можно двигаться дальше"
   ]
  },
  {
   "cell_type": "markdown",
   "metadata": {},
   "source": [
    "#### Оценка зависимости доходов заемщика от образования"
   ]
  },
  {
   "cell_type": "markdown",
   "metadata": {},
   "source": [
    " Прежде чем перейти к построению сводной таблицы приведем все строковые переменные в столбце education к нижнему регистру"
   ]
  },
  {
   "cell_type": "code",
   "execution_count": 9,
   "metadata": {
    "scrolled": true
   },
   "outputs": [
    {
     "data": {
      "text/plain": [
       "array(['высшее', 'среднее', 'неоконченное высшее', 'начальное',\n",
       "       'ученая степень'], dtype=object)"
      ]
     },
     "execution_count": 9,
     "metadata": {},
     "output_type": "execute_result"
    }
   ],
   "source": [
    "data['education'] = data['education'].str.lower()\n",
    "data['education'].unique()"
   ]
  },
  {
   "cell_type": "markdown",
   "metadata": {},
   "source": [
    "Теперь с образованием все в порядке и мы можем построить таблицу с доходами"
   ]
  },
  {
   "cell_type": "code",
   "execution_count": 10,
   "metadata": {},
   "outputs": [
    {
     "data": {
      "text/html": [
       "<div>\n",
       "<style scoped>\n",
       "    .dataframe tbody tr th:only-of-type {\n",
       "        vertical-align: middle;\n",
       "    }\n",
       "\n",
       "    .dataframe tbody tr th {\n",
       "        vertical-align: top;\n",
       "    }\n",
       "\n",
       "    .dataframe thead th {\n",
       "        text-align: right;\n",
       "    }\n",
       "</style>\n",
       "<table border=\"1\" class=\"dataframe\">\n",
       "  <thead>\n",
       "    <tr style=\"text-align: right;\">\n",
       "      <th></th>\n",
       "      <th>count</th>\n",
       "      <th>mean</th>\n",
       "      <th>median</th>\n",
       "    </tr>\n",
       "    <tr>\n",
       "      <th>education</th>\n",
       "      <th></th>\n",
       "      <th></th>\n",
       "      <th></th>\n",
       "    </tr>\n",
       "  </thead>\n",
       "  <tbody>\n",
       "    <tr>\n",
       "      <th>высшее</th>\n",
       "      <td>4716</td>\n",
       "      <td>207142.515219</td>\n",
       "      <td>175340.818855</td>\n",
       "    </tr>\n",
       "    <tr>\n",
       "      <th>начальное</th>\n",
       "      <td>261</td>\n",
       "      <td>132155.513626</td>\n",
       "      <td>117137.352825</td>\n",
       "    </tr>\n",
       "    <tr>\n",
       "      <th>неоконченное высшее</th>\n",
       "      <td>674</td>\n",
       "      <td>181500.831180</td>\n",
       "      <td>160054.965348</td>\n",
       "    </tr>\n",
       "    <tr>\n",
       "      <th>среднее</th>\n",
       "      <td>13693</td>\n",
       "      <td>153715.643971</td>\n",
       "      <td>136478.643244</td>\n",
       "    </tr>\n",
       "    <tr>\n",
       "      <th>ученая степень</th>\n",
       "      <td>6</td>\n",
       "      <td>174750.155792</td>\n",
       "      <td>157259.898555</td>\n",
       "    </tr>\n",
       "  </tbody>\n",
       "</table>\n",
       "</div>"
      ],
      "text/plain": [
       "                     count           mean         median\n",
       "education                                               \n",
       "высшее                4716  207142.515219  175340.818855\n",
       "начальное              261  132155.513626  117137.352825\n",
       "неоконченное высшее    674  181500.831180  160054.965348\n",
       "среднее              13693  153715.643971  136478.643244\n",
       "ученая степень           6  174750.155792  157259.898555"
      ]
     },
     "execution_count": 10,
     "metadata": {},
     "output_type": "execute_result"
    }
   ],
   "source": [
    "total_income_by_education = data.groupby('education')['total_income'].agg(['count','mean','median'])\n",
    "total_income_by_education"
   ]
  },
  {
   "cell_type": "code",
   "execution_count": 11,
   "metadata": {},
   "outputs": [
    {
     "data": {
      "text/html": [
       "<div>\n",
       "<style scoped>\n",
       "    .dataframe tbody tr th:only-of-type {\n",
       "        vertical-align: middle;\n",
       "    }\n",
       "\n",
       "    .dataframe tbody tr th {\n",
       "        vertical-align: top;\n",
       "    }\n",
       "\n",
       "    .dataframe thead th {\n",
       "        text-align: right;\n",
       "    }\n",
       "</style>\n",
       "<table border=\"1\" class=\"dataframe\">\n",
       "  <thead>\n",
       "    <tr style=\"text-align: right;\">\n",
       "      <th></th>\n",
       "      <th>count</th>\n",
       "      <th>mean</th>\n",
       "      <th>median</th>\n",
       "      <th>median_normalized</th>\n",
       "    </tr>\n",
       "    <tr>\n",
       "      <th>education</th>\n",
       "      <th></th>\n",
       "      <th></th>\n",
       "      <th></th>\n",
       "      <th></th>\n",
       "    </tr>\n",
       "  </thead>\n",
       "  <tbody>\n",
       "    <tr>\n",
       "      <th>высшее</th>\n",
       "      <td>4716</td>\n",
       "      <td>207142.515219</td>\n",
       "      <td>175340.818855</td>\n",
       "      <td>1.284749</td>\n",
       "    </tr>\n",
       "    <tr>\n",
       "      <th>начальное</th>\n",
       "      <td>261</td>\n",
       "      <td>132155.513626</td>\n",
       "      <td>117137.352825</td>\n",
       "      <td>0.858283</td>\n",
       "    </tr>\n",
       "    <tr>\n",
       "      <th>неоконченное высшее</th>\n",
       "      <td>674</td>\n",
       "      <td>181500.831180</td>\n",
       "      <td>160054.965348</td>\n",
       "      <td>1.172747</td>\n",
       "    </tr>\n",
       "    <tr>\n",
       "      <th>среднее</th>\n",
       "      <td>13693</td>\n",
       "      <td>153715.643971</td>\n",
       "      <td>136478.643244</td>\n",
       "      <td>1.000000</td>\n",
       "    </tr>\n",
       "    <tr>\n",
       "      <th>ученая степень</th>\n",
       "      <td>6</td>\n",
       "      <td>174750.155792</td>\n",
       "      <td>157259.898555</td>\n",
       "      <td>1.152267</td>\n",
       "    </tr>\n",
       "  </tbody>\n",
       "</table>\n",
       "</div>"
      ],
      "text/plain": [
       "                     count           mean         median  median_normalized\n",
       "education                                                                  \n",
       "высшее                4716  207142.515219  175340.818855           1.284749\n",
       "начальное              261  132155.513626  117137.352825           0.858283\n",
       "неоконченное высшее    674  181500.831180  160054.965348           1.172747\n",
       "среднее              13693  153715.643971  136478.643244           1.000000\n",
       "ученая степень           6  174750.155792  157259.898555           1.152267"
      ]
     },
     "execution_count": 11,
     "metadata": {},
     "output_type": "execute_result"
    }
   ],
   "source": [
    "# введем в сводную таблицу дополнительный столбец median_normalized в котором отнормируем медианную зарплату \n",
    "# к заплате людей со средним образованием\n",
    "total_income_by_education['median_normalized'] = (total_income_by_education['median'] / \n",
    "                                                  total_income_by_education.loc['среднее', 'median'])\n",
    "total_income_by_education"
   ]
  },
  {
   "cell_type": "markdown",
   "metadata": {},
   "source": [
    "Анализ приведенной выше таблицы показывает, что образование так же оказывает существенное влияние на уровень доходов и этот фактор необходимо учитывать. Так люди с высшим образованием зарабатывают примерно на 30% больше чем люди со средним образованием, а люди с начальным образованием на 14 % меньше чем люди со средним образованием. Интересно, что в данной выборке люди имеющие ученую степень в среднем зарабатывают меньше чем люди с высшим образованием. Скорее всего этот эффект вызван нерепрезентативной выборкой людей имеющих ученую степень (всего 6 человек на весь дата сет). Малое количество людей с ученой степенью скорее говорит о том, что такие люди имеют доходы не ниже людей с высшим образованием, а выше, и, как следствие, гораздо реже берут кредиты."
   ]
  },
  {
   "cell_type": "markdown",
   "metadata": {},
   "source": [
    "#### Оценка зависимости доходов заемщика от возраста\n",
    "Для начала разобъем людей по возрасту на группы. Для того чтобы оценить возможность разбиения на группы посмотрим на гисторгамму распределения клиентов по возрастам"
   ]
  },
  {
   "cell_type": "code",
   "execution_count": 12,
   "metadata": {},
   "outputs": [
    {
     "data": {
      "image/png": "[encoded data removed]",
      "text/plain": [
       "<Figure size 1080x360 with 1 Axes>"
      ]
     },
     "metadata": {
      "needs_background": "light"
     },
     "output_type": "display_data"
    }
   ],
   "source": [
    "(data['dob_years'].hist(bins = 75, figsize = (15, 5), color = 'green', alpha = 0.75,  range=(0, 75))\n",
    "                  .set(xlabel='Возраст клиента (в годах)',\n",
    "                       ylabel='Количество записей',\n",
    "                       title='Распределение клиентов по возрасту'));"
   ]
  },
  {
   "cell_type": "markdown",
   "metadata": {},
   "source": [
    "Прежде чем идти дальше необходимо разобраться со строками в которых возраст людей равен нулю. Выведем эти строки"
   ]
  },
  {
   "cell_type": "code",
   "execution_count": 13,
   "metadata": {},
   "outputs": [
    {
     "data": {
      "text/html": [
       "<div>\n",
       "<style scoped>\n",
       "    .dataframe tbody tr th:only-of-type {\n",
       "        vertical-align: middle;\n",
       "    }\n",
       "\n",
       "    .dataframe tbody tr th {\n",
       "        vertical-align: top;\n",
       "    }\n",
       "\n",
       "    .dataframe thead th {\n",
       "        text-align: right;\n",
       "    }\n",
       "</style>\n",
       "<table border=\"1\" class=\"dataframe\">\n",
       "  <thead>\n",
       "    <tr style=\"text-align: right;\">\n",
       "      <th></th>\n",
       "      <th>children</th>\n",
       "      <th>days_employed</th>\n",
       "      <th>dob_years</th>\n",
       "      <th>education</th>\n",
       "      <th>education_id</th>\n",
       "      <th>family_status</th>\n",
       "      <th>family_status_id</th>\n",
       "      <th>gender</th>\n",
       "      <th>income_type</th>\n",
       "      <th>debt</th>\n",
       "      <th>total_income</th>\n",
       "      <th>purpose</th>\n",
       "      <th>job_info</th>\n",
       "    </tr>\n",
       "  </thead>\n",
       "  <tbody>\n",
       "    <tr>\n",
       "      <th>99</th>\n",
       "      <td>0</td>\n",
       "      <td>346541.618895</td>\n",
       "      <td>0</td>\n",
       "      <td>среднее</td>\n",
       "      <td>1</td>\n",
       "      <td>женат / замужем</td>\n",
       "      <td>0</td>\n",
       "      <td>F</td>\n",
       "      <td>пенсионер</td>\n",
       "      <td>0</td>\n",
       "      <td>71291.522491</td>\n",
       "      <td>автомобиль</td>\n",
       "      <td>True</td>\n",
       "    </tr>\n",
       "    <tr>\n",
       "      <th>149</th>\n",
       "      <td>0</td>\n",
       "      <td>-2664.273168</td>\n",
       "      <td>0</td>\n",
       "      <td>среднее</td>\n",
       "      <td>1</td>\n",
       "      <td>в разводе</td>\n",
       "      <td>3</td>\n",
       "      <td>F</td>\n",
       "      <td>сотрудник</td>\n",
       "      <td>0</td>\n",
       "      <td>70176.435951</td>\n",
       "      <td>операции с жильем</td>\n",
       "      <td>True</td>\n",
       "    </tr>\n",
       "    <tr>\n",
       "      <th>270</th>\n",
       "      <td>3</td>\n",
       "      <td>-1872.663186</td>\n",
       "      <td>0</td>\n",
       "      <td>среднее</td>\n",
       "      <td>1</td>\n",
       "      <td>женат / замужем</td>\n",
       "      <td>0</td>\n",
       "      <td>F</td>\n",
       "      <td>сотрудник</td>\n",
       "      <td>0</td>\n",
       "      <td>102166.458894</td>\n",
       "      <td>ремонт жилью</td>\n",
       "      <td>True</td>\n",
       "    </tr>\n",
       "    <tr>\n",
       "      <th>578</th>\n",
       "      <td>0</td>\n",
       "      <td>397856.565013</td>\n",
       "      <td>0</td>\n",
       "      <td>среднее</td>\n",
       "      <td>1</td>\n",
       "      <td>женат / замужем</td>\n",
       "      <td>0</td>\n",
       "      <td>F</td>\n",
       "      <td>пенсионер</td>\n",
       "      <td>0</td>\n",
       "      <td>97620.687042</td>\n",
       "      <td>строительство собственной недвижимости</td>\n",
       "      <td>True</td>\n",
       "    </tr>\n",
       "    <tr>\n",
       "      <th>1040</th>\n",
       "      <td>0</td>\n",
       "      <td>-1158.029561</td>\n",
       "      <td>0</td>\n",
       "      <td>высшее</td>\n",
       "      <td>0</td>\n",
       "      <td>в разводе</td>\n",
       "      <td>3</td>\n",
       "      <td>F</td>\n",
       "      <td>компаньон</td>\n",
       "      <td>0</td>\n",
       "      <td>303994.134987</td>\n",
       "      <td>свой автомобиль</td>\n",
       "      <td>True</td>\n",
       "    </tr>\n",
       "    <tr>\n",
       "      <th>1149</th>\n",
       "      <td>0</td>\n",
       "      <td>-934.654854</td>\n",
       "      <td>0</td>\n",
       "      <td>среднее</td>\n",
       "      <td>1</td>\n",
       "      <td>женат / замужем</td>\n",
       "      <td>0</td>\n",
       "      <td>F</td>\n",
       "      <td>компаньон</td>\n",
       "      <td>0</td>\n",
       "      <td>201852.430096</td>\n",
       "      <td>покупка недвижимости</td>\n",
       "      <td>True</td>\n",
       "    </tr>\n",
       "    <tr>\n",
       "      <th>1175</th>\n",
       "      <td>0</td>\n",
       "      <td>370879.508002</td>\n",
       "      <td>0</td>\n",
       "      <td>среднее</td>\n",
       "      <td>1</td>\n",
       "      <td>женат / замужем</td>\n",
       "      <td>0</td>\n",
       "      <td>F</td>\n",
       "      <td>пенсионер</td>\n",
       "      <td>0</td>\n",
       "      <td>313949.845188</td>\n",
       "      <td>получение дополнительного образования</td>\n",
       "      <td>True</td>\n",
       "    </tr>\n",
       "    <tr>\n",
       "      <th>1386</th>\n",
       "      <td>0</td>\n",
       "      <td>-5043.219890</td>\n",
       "      <td>0</td>\n",
       "      <td>высшее</td>\n",
       "      <td>0</td>\n",
       "      <td>женат / замужем</td>\n",
       "      <td>0</td>\n",
       "      <td>M</td>\n",
       "      <td>госслужащий</td>\n",
       "      <td>0</td>\n",
       "      <td>240523.618071</td>\n",
       "      <td>сделка с автомобилем</td>\n",
       "      <td>True</td>\n",
       "    </tr>\n",
       "    <tr>\n",
       "      <th>1890</th>\n",
       "      <td>0</td>\n",
       "      <td>NaN</td>\n",
       "      <td>0</td>\n",
       "      <td>высшее</td>\n",
       "      <td>0</td>\n",
       "      <td>Не женат / не замужем</td>\n",
       "      <td>4</td>\n",
       "      <td>F</td>\n",
       "      <td>сотрудник</td>\n",
       "      <td>0</td>\n",
       "      <td>NaN</td>\n",
       "      <td>жилье</td>\n",
       "      <td>False</td>\n",
       "    </tr>\n",
       "    <tr>\n",
       "      <th>1898</th>\n",
       "      <td>0</td>\n",
       "      <td>370144.537021</td>\n",
       "      <td>0</td>\n",
       "      <td>среднее</td>\n",
       "      <td>1</td>\n",
       "      <td>вдовец / вдова</td>\n",
       "      <td>2</td>\n",
       "      <td>F</td>\n",
       "      <td>пенсионер</td>\n",
       "      <td>0</td>\n",
       "      <td>127400.268338</td>\n",
       "      <td>на покупку автомобиля</td>\n",
       "      <td>True</td>\n",
       "    </tr>\n",
       "  </tbody>\n",
       "</table>\n",
       "</div>"
      ],
      "text/plain": [
       "      children  days_employed  dob_years education  education_id  \\\n",
       "99           0  346541.618895          0   среднее             1   \n",
       "149          0   -2664.273168          0   среднее             1   \n",
       "270          3   -1872.663186          0   среднее             1   \n",
       "578          0  397856.565013          0   среднее             1   \n",
       "1040         0   -1158.029561          0    высшее             0   \n",
       "1149         0    -934.654854          0   среднее             1   \n",
       "1175         0  370879.508002          0   среднее             1   \n",
       "1386         0   -5043.219890          0    высшее             0   \n",
       "1890         0            NaN          0    высшее             0   \n",
       "1898         0  370144.537021          0   среднее             1   \n",
       "\n",
       "              family_status  family_status_id gender  income_type  debt  \\\n",
       "99          женат / замужем                 0      F    пенсионер     0   \n",
       "149               в разводе                 3      F    сотрудник     0   \n",
       "270         женат / замужем                 0      F    сотрудник     0   \n",
       "578         женат / замужем                 0      F    пенсионер     0   \n",
       "1040              в разводе                 3      F    компаньон     0   \n",
       "1149        женат / замужем                 0      F    компаньон     0   \n",
       "1175        женат / замужем                 0      F    пенсионер     0   \n",
       "1386        женат / замужем                 0      M  госслужащий     0   \n",
       "1890  Не женат / не замужем                 4      F    сотрудник     0   \n",
       "1898         вдовец / вдова                 2      F    пенсионер     0   \n",
       "\n",
       "       total_income                                 purpose  job_info  \n",
       "99     71291.522491                              автомобиль      True  \n",
       "149    70176.435951                       операции с жильем      True  \n",
       "270   102166.458894                            ремонт жилью      True  \n",
       "578    97620.687042  строительство собственной недвижимости      True  \n",
       "1040  303994.134987                         свой автомобиль      True  \n",
       "1149  201852.430096                    покупка недвижимости      True  \n",
       "1175  313949.845188   получение дополнительного образования      True  \n",
       "1386  240523.618071                    сделка с автомобилем      True  \n",
       "1890            NaN                                   жилье     False  \n",
       "1898  127400.268338                   на покупку автомобиля      True  "
      ]
     },
     "execution_count": 13,
     "metadata": {},
     "output_type": "execute_result"
    }
   ],
   "source": [
    "data[data['dob_years'] == 0].head(10)"
   ]
  },
  {
   "cell_type": "code",
   "execution_count": 14,
   "metadata": {},
   "outputs": [
    {
     "name": "stdout",
     "output_type": "stream",
     "text": [
      "Количество строк с нулевым возрастом: 0.5%\n"
     ]
    }
   ],
   "source": [
    "#определим процент людей для которых возраст указан равным нулю\n",
    "print('Количество строк с нулевым возрастом: {:.1%}'.format(data[data['dob_years'] == 0].shape[0] / data.shape[0]))"
   ]
  },
  {
   "cell_type": "markdown",
   "metadata": {},
   "source": [
    "Так как количество строк с нулевым возрастом не велико, то можно либо исключить их из рассмотрения либо заполнить нулевые значения средним возрастом это не окажет существенного влияния на распределения. Определим средний возраст заемщиков мужчин и заемщиков женщин и заменим нулевые значения на средний возраст"
   ]
  },
  {
   "cell_type": "code",
   "execution_count": 15,
   "metadata": {},
   "outputs": [
    {
     "data": {
      "text/plain": [
       "44"
      ]
     },
     "execution_count": 15,
     "metadata": {},
     "output_type": "execute_result"
    }
   ],
   "source": [
    "#Определяем средний возраст заемщиков женщин и округляем его до целого\n",
    "female_mean_age = round(data[data['gender'] == 'F']['dob_years'].mean())\n",
    "female_mean_age"
   ]
  },
  {
   "cell_type": "code",
   "execution_count": 16,
   "metadata": {},
   "outputs": [
    {
     "data": {
      "text/plain": [
       "41"
      ]
     },
     "execution_count": 16,
     "metadata": {},
     "output_type": "execute_result"
    }
   ],
   "source": [
    "#Аналогично определяем средний возраст заемщиков мужчин и округляем его до целого\n",
    "male_mean_age = round(data[data['gender'] == 'M']['dob_years'].mean())\n",
    "male_mean_age"
   ]
  },
  {
   "cell_type": "markdown",
   "metadata": {},
   "source": [
    "Интересно что средний возраст заемщиков-мужчин хоть и не сильно, но ниже среднего возраста заемщиков женщин"
   ]
  },
  {
   "cell_type": "code",
   "execution_count": 17,
   "metadata": {},
   "outputs": [],
   "source": [
    "# Заменим в таблице нулевой возраст на средний в зависимости от пола используя метод mask\n",
    "data['dob_years'].mask((data['dob_years'] == 0) & (data['gender'] == 'F'), other=female_mean_age, inplace=True)\n",
    "data['dob_years'].mask((data['dob_years'] == 0) & (data['gender'] == 'M'), other=male_mean_age, inplace=True)"
   ]
  },
  {
   "cell_type": "code",
   "execution_count": 18,
   "metadata": {},
   "outputs": [
    {
     "data": {
      "image/png": "[encoded data removed]",
      "text/plain": [
       "<Figure size 1080x360 with 1 Axes>"
      ]
     },
     "metadata": {
      "needs_background": "light"
     },
     "output_type": "display_data"
    }
   ],
   "source": [
    "# убедимся что людей с нулевым возрастом в данных больше нет. посмотрим гистограмму еще раз\n",
    "(data['dob_years'].hist(bins = 75, figsize = (15, 5), color = 'green', alpha = 0.75, range=(0, 75))\n",
    "                  .set(xlabel='Возраст клиента (в годах)',\n",
    "                       ylabel='Количество записей',\n",
    "                       title='Распределение клиентов по возрасту'));"
   ]
  },
  {
   "cell_type": "code",
   "execution_count": 19,
   "metadata": {},
   "outputs": [
    {
     "data": {
      "text/plain": [
       "count    21524.000000\n",
       "mean        43.496701\n",
       "std         12.218106\n",
       "min         19.000000\n",
       "25%         34.000000\n",
       "50%         43.000000\n",
       "75%         53.000000\n",
       "max         75.000000\n",
       "Name: dob_years, dtype: float64"
      ]
     },
     "execution_count": 19,
     "metadata": {},
     "output_type": "execute_result"
    }
   ],
   "source": [
    "# посмотрим на параметры распределения клиентов по возрасту после замены нулевых значений\n",
    "data['dob_years'].describe()"
   ]
  },
  {
   "cell_type": "markdown",
   "metadata": {},
   "source": [
    "Теперь можно классифицировать заемщиков по возрастным группам. Из распределения видно, что диапазон возрастов заемщиков находится в диапазоне от 19 до 75 лет с матожиданием 43,5 года и СКО порядка 12 лет. Разделим заемщиков на следующие возрастные группы по 12 лет в каждой:\n",
    "* менее 30 лет (реально от 18 до 30)\n",
    "* от 31 до 42 лет включительно\n",
    "* от 43 до 54 лет включительно\n",
    "* от 55 до 66 лет включительно\n",
    "* более 67 лет"
   ]
  },
  {
   "cell_type": "code",
   "execution_count": 20,
   "metadata": {
    "scrolled": false
   },
   "outputs": [
    {
     "data": {
      "text/html": [
       "<div>\n",
       "<style scoped>\n",
       "    .dataframe tbody tr th:only-of-type {\n",
       "        vertical-align: middle;\n",
       "    }\n",
       "\n",
       "    .dataframe tbody tr th {\n",
       "        vertical-align: top;\n",
       "    }\n",
       "\n",
       "    .dataframe thead th {\n",
       "        text-align: right;\n",
       "    }\n",
       "</style>\n",
       "<table border=\"1\" class=\"dataframe\">\n",
       "  <thead>\n",
       "    <tr style=\"text-align: right;\">\n",
       "      <th></th>\n",
       "      <th>children</th>\n",
       "      <th>days_employed</th>\n",
       "      <th>dob_years</th>\n",
       "      <th>education</th>\n",
       "      <th>education_id</th>\n",
       "      <th>family_status</th>\n",
       "      <th>family_status_id</th>\n",
       "      <th>gender</th>\n",
       "      <th>income_type</th>\n",
       "      <th>debt</th>\n",
       "      <th>total_income</th>\n",
       "      <th>purpose</th>\n",
       "      <th>job_info</th>\n",
       "      <th>age_group</th>\n",
       "    </tr>\n",
       "  </thead>\n",
       "  <tbody>\n",
       "    <tr>\n",
       "      <th>0</th>\n",
       "      <td>1</td>\n",
       "      <td>-8437.673028</td>\n",
       "      <td>42</td>\n",
       "      <td>высшее</td>\n",
       "      <td>0</td>\n",
       "      <td>женат / замужем</td>\n",
       "      <td>0</td>\n",
       "      <td>F</td>\n",
       "      <td>сотрудник</td>\n",
       "      <td>0</td>\n",
       "      <td>253875.639453</td>\n",
       "      <td>покупка жилья</td>\n",
       "      <td>True</td>\n",
       "      <td>31-42</td>\n",
       "    </tr>\n",
       "    <tr>\n",
       "      <th>1</th>\n",
       "      <td>1</td>\n",
       "      <td>-4024.803754</td>\n",
       "      <td>36</td>\n",
       "      <td>среднее</td>\n",
       "      <td>1</td>\n",
       "      <td>женат / замужем</td>\n",
       "      <td>0</td>\n",
       "      <td>F</td>\n",
       "      <td>сотрудник</td>\n",
       "      <td>0</td>\n",
       "      <td>112080.014102</td>\n",
       "      <td>приобретение автомобиля</td>\n",
       "      <td>True</td>\n",
       "      <td>31-42</td>\n",
       "    </tr>\n",
       "    <tr>\n",
       "      <th>2</th>\n",
       "      <td>0</td>\n",
       "      <td>-5623.422610</td>\n",
       "      <td>33</td>\n",
       "      <td>среднее</td>\n",
       "      <td>1</td>\n",
       "      <td>женат / замужем</td>\n",
       "      <td>0</td>\n",
       "      <td>M</td>\n",
       "      <td>сотрудник</td>\n",
       "      <td>0</td>\n",
       "      <td>145885.952297</td>\n",
       "      <td>покупка жилья</td>\n",
       "      <td>True</td>\n",
       "      <td>31-42</td>\n",
       "    </tr>\n",
       "    <tr>\n",
       "      <th>3</th>\n",
       "      <td>3</td>\n",
       "      <td>-4124.747207</td>\n",
       "      <td>32</td>\n",
       "      <td>среднее</td>\n",
       "      <td>1</td>\n",
       "      <td>женат / замужем</td>\n",
       "      <td>0</td>\n",
       "      <td>M</td>\n",
       "      <td>сотрудник</td>\n",
       "      <td>0</td>\n",
       "      <td>267628.550329</td>\n",
       "      <td>дополнительное образование</td>\n",
       "      <td>True</td>\n",
       "      <td>31-42</td>\n",
       "    </tr>\n",
       "    <tr>\n",
       "      <th>4</th>\n",
       "      <td>0</td>\n",
       "      <td>340266.072047</td>\n",
       "      <td>53</td>\n",
       "      <td>среднее</td>\n",
       "      <td>1</td>\n",
       "      <td>гражданский брак</td>\n",
       "      <td>1</td>\n",
       "      <td>F</td>\n",
       "      <td>пенсионер</td>\n",
       "      <td>0</td>\n",
       "      <td>158616.077870</td>\n",
       "      <td>сыграть свадьбу</td>\n",
       "      <td>True</td>\n",
       "      <td>43-54</td>\n",
       "    </tr>\n",
       "  </tbody>\n",
       "</table>\n",
       "</div>"
      ],
      "text/plain": [
       "   children  days_employed  dob_years education  education_id  \\\n",
       "0         1   -8437.673028         42    высшее             0   \n",
       "1         1   -4024.803754         36   среднее             1   \n",
       "2         0   -5623.422610         33   среднее             1   \n",
       "3         3   -4124.747207         32   среднее             1   \n",
       "4         0  340266.072047         53   среднее             1   \n",
       "\n",
       "      family_status  family_status_id gender income_type  debt   total_income  \\\n",
       "0   женат / замужем                 0      F   сотрудник     0  253875.639453   \n",
       "1   женат / замужем                 0      F   сотрудник     0  112080.014102   \n",
       "2   женат / замужем                 0      M   сотрудник     0  145885.952297   \n",
       "3   женат / замужем                 0      M   сотрудник     0  267628.550329   \n",
       "4  гражданский брак                 1      F   пенсионер     0  158616.077870   \n",
       "\n",
       "                      purpose  job_info age_group  \n",
       "0               покупка жилья      True     31-42  \n",
       "1     приобретение автомобиля      True     31-42  \n",
       "2               покупка жилья      True     31-42  \n",
       "3  дополнительное образование      True     31-42  \n",
       "4             сыграть свадьбу      True     43-54  "
      ]
     },
     "execution_count": 20,
     "metadata": {},
     "output_type": "execute_result"
    }
   ],
   "source": [
    "#напишем функцию которая в таблице создаст столбец age_group в котором будет записана возрастная группа заемщика\n",
    "\n",
    "def group_by_age(data):\n",
    "    bins = [0, 30, 42, 54, 66, 255]\n",
    "    labels = ['18-30','31-42','43-54', '55-66', '>67']\n",
    "    data['age_group'] = pd.cut(data['dob_years'], bins=bins, labels=labels)\n",
    "    return data\n",
    "\n",
    "group_by_age(data).head()"
   ]
  },
  {
   "cell_type": "code",
   "execution_count": 21,
   "metadata": {},
   "outputs": [
    {
     "data": {
      "text/html": [
       "<div>\n",
       "<style scoped>\n",
       "    .dataframe tbody tr th:only-of-type {\n",
       "        vertical-align: middle;\n",
       "    }\n",
       "\n",
       "    .dataframe tbody tr th {\n",
       "        vertical-align: top;\n",
       "    }\n",
       "\n",
       "    .dataframe thead th {\n",
       "        text-align: right;\n",
       "    }\n",
       "</style>\n",
       "<table border=\"1\" class=\"dataframe\">\n",
       "  <thead>\n",
       "    <tr style=\"text-align: right;\">\n",
       "      <th></th>\n",
       "      <th>count</th>\n",
       "      <th>mean</th>\n",
       "      <th>median</th>\n",
       "    </tr>\n",
       "    <tr>\n",
       "      <th>age_group</th>\n",
       "      <th></th>\n",
       "      <th></th>\n",
       "      <th></th>\n",
       "    </tr>\n",
       "  </thead>\n",
       "  <tbody>\n",
       "    <tr>\n",
       "      <th>18-30</th>\n",
       "      <td>3365</td>\n",
       "      <td>161347.824406</td>\n",
       "      <td>143471.712277</td>\n",
       "    </tr>\n",
       "    <tr>\n",
       "      <th>31-42</th>\n",
       "      <td>6277</td>\n",
       "      <td>178063.830007</td>\n",
       "      <td>155334.121780</td>\n",
       "    </tr>\n",
       "    <tr>\n",
       "      <th>43-54</th>\n",
       "      <td>5406</td>\n",
       "      <td>172605.158286</td>\n",
       "      <td>148794.984351</td>\n",
       "    </tr>\n",
       "    <tr>\n",
       "      <th>55-66</th>\n",
       "      <td>3821</td>\n",
       "      <td>152727.480811</td>\n",
       "      <td>132306.594835</td>\n",
       "    </tr>\n",
       "    <tr>\n",
       "      <th>&gt;67</th>\n",
       "      <td>481</td>\n",
       "      <td>129454.854292</td>\n",
       "      <td>112656.049064</td>\n",
       "    </tr>\n",
       "  </tbody>\n",
       "</table>\n",
       "</div>"
      ],
      "text/plain": [
       "           count           mean         median\n",
       "age_group                                     \n",
       "18-30       3365  161347.824406  143471.712277\n",
       "31-42       6277  178063.830007  155334.121780\n",
       "43-54       5406  172605.158286  148794.984351\n",
       "55-66       3821  152727.480811  132306.594835\n",
       ">67          481  129454.854292  112656.049064"
      ]
     },
     "execution_count": 21,
     "metadata": {},
     "output_type": "execute_result"
    }
   ],
   "source": [
    "# строим сводную таблицу\n",
    "total_income_by_age = data.groupby('age_group')['total_income'].agg(['count','mean','median'])\n",
    "total_income_by_age"
   ]
  },
  {
   "cell_type": "code",
   "execution_count": 22,
   "metadata": {
    "scrolled": true
   },
   "outputs": [
    {
     "data": {
      "text/html": [
       "<div>\n",
       "<style scoped>\n",
       "    .dataframe tbody tr th:only-of-type {\n",
       "        vertical-align: middle;\n",
       "    }\n",
       "\n",
       "    .dataframe tbody tr th {\n",
       "        vertical-align: top;\n",
       "    }\n",
       "\n",
       "    .dataframe thead th {\n",
       "        text-align: right;\n",
       "    }\n",
       "</style>\n",
       "<table border=\"1\" class=\"dataframe\">\n",
       "  <thead>\n",
       "    <tr style=\"text-align: right;\">\n",
       "      <th></th>\n",
       "      <th>count</th>\n",
       "      <th>mean</th>\n",
       "      <th>median</th>\n",
       "      <th>median_normalized</th>\n",
       "    </tr>\n",
       "    <tr>\n",
       "      <th>age_group</th>\n",
       "      <th></th>\n",
       "      <th></th>\n",
       "      <th></th>\n",
       "      <th></th>\n",
       "    </tr>\n",
       "  </thead>\n",
       "  <tbody>\n",
       "    <tr>\n",
       "      <th>18-30</th>\n",
       "      <td>3365</td>\n",
       "      <td>161347.824406</td>\n",
       "      <td>143471.712277</td>\n",
       "      <td>0.923633</td>\n",
       "    </tr>\n",
       "    <tr>\n",
       "      <th>31-42</th>\n",
       "      <td>6277</td>\n",
       "      <td>178063.830007</td>\n",
       "      <td>155334.121780</td>\n",
       "      <td>1.000000</td>\n",
       "    </tr>\n",
       "    <tr>\n",
       "      <th>43-54</th>\n",
       "      <td>5406</td>\n",
       "      <td>172605.158286</td>\n",
       "      <td>148794.984351</td>\n",
       "      <td>0.957903</td>\n",
       "    </tr>\n",
       "    <tr>\n",
       "      <th>55-66</th>\n",
       "      <td>3821</td>\n",
       "      <td>152727.480811</td>\n",
       "      <td>132306.594835</td>\n",
       "      <td>0.851755</td>\n",
       "    </tr>\n",
       "    <tr>\n",
       "      <th>&gt;67</th>\n",
       "      <td>481</td>\n",
       "      <td>129454.854292</td>\n",
       "      <td>112656.049064</td>\n",
       "      <td>0.725250</td>\n",
       "    </tr>\n",
       "  </tbody>\n",
       "</table>\n",
       "</div>"
      ],
      "text/plain": [
       "           count           mean         median  median_normalized\n",
       "age_group                                                        \n",
       "18-30       3365  161347.824406  143471.712277           0.923633\n",
       "31-42       6277  178063.830007  155334.121780           1.000000\n",
       "43-54       5406  172605.158286  148794.984351           0.957903\n",
       "55-66       3821  152727.480811  132306.594835           0.851755\n",
       ">67          481  129454.854292  112656.049064           0.725250"
      ]
     },
     "execution_count": 22,
     "metadata": {},
     "output_type": "execute_result"
    }
   ],
   "source": [
    "# введем в сводную таблицу дополнительный столбец в котором отнормируем медианную зарплату \n",
    "# к заплате людей с возрастом от 31 до 42 лет\n",
    "total_income_by_age['median_normalized'] = total_income_by_age['median'] / total_income_by_age.loc['31-42', 'median']\n",
    "total_income_by_age"
   ]
  },
  {
   "cell_type": "markdown",
   "metadata": {},
   "source": [
    "Медианная зарплата людей достигает максимума в возрасте от 31 до 42 лет и далее с возрастом постепенно уменьшается. Значительное уменьшение доходов заемщиков после 55 лет скорее всего связано с постепенным выходом людей на пенсию. Для того чтобы проверить это оценим как меняются доходы заемщиков в зависимости от типа занятости"
   ]
  },
  {
   "cell_type": "markdown",
   "metadata": {},
   "source": [
    "#### Оценка зависимости доходов заемщика от типа занятости\n",
    "Построим сводную таблицу зависимости доходов заемщика от типа занятости"
   ]
  },
  {
   "cell_type": "code",
   "execution_count": 23,
   "metadata": {},
   "outputs": [
    {
     "data": {
      "text/html": [
       "<div>\n",
       "<style scoped>\n",
       "    .dataframe tbody tr th:only-of-type {\n",
       "        vertical-align: middle;\n",
       "    }\n",
       "\n",
       "    .dataframe tbody tr th {\n",
       "        vertical-align: top;\n",
       "    }\n",
       "\n",
       "    .dataframe thead th {\n",
       "        text-align: right;\n",
       "    }\n",
       "</style>\n",
       "<table border=\"1\" class=\"dataframe\">\n",
       "  <thead>\n",
       "    <tr style=\"text-align: right;\">\n",
       "      <th></th>\n",
       "      <th>count</th>\n",
       "      <th>mean</th>\n",
       "      <th>median</th>\n",
       "    </tr>\n",
       "    <tr>\n",
       "      <th>income_type</th>\n",
       "      <th></th>\n",
       "      <th></th>\n",
       "      <th></th>\n",
       "    </tr>\n",
       "  </thead>\n",
       "  <tbody>\n",
       "    <tr>\n",
       "      <th>безработный</th>\n",
       "      <td>2</td>\n",
       "      <td>131339.751676</td>\n",
       "      <td>131339.751676</td>\n",
       "    </tr>\n",
       "    <tr>\n",
       "      <th>в декрете</th>\n",
       "      <td>1</td>\n",
       "      <td>53829.130729</td>\n",
       "      <td>53829.130729</td>\n",
       "    </tr>\n",
       "    <tr>\n",
       "      <th>госслужащий</th>\n",
       "      <td>1312</td>\n",
       "      <td>170898.309923</td>\n",
       "      <td>150447.935283</td>\n",
       "    </tr>\n",
       "    <tr>\n",
       "      <th>компаньон</th>\n",
       "      <td>4576</td>\n",
       "      <td>202417.136353</td>\n",
       "      <td>172319.266339</td>\n",
       "    </tr>\n",
       "    <tr>\n",
       "      <th>пенсионер</th>\n",
       "      <td>3443</td>\n",
       "      <td>137127.465690</td>\n",
       "      <td>118514.486412</td>\n",
       "    </tr>\n",
       "    <tr>\n",
       "      <th>предприниматель</th>\n",
       "      <td>1</td>\n",
       "      <td>499163.144947</td>\n",
       "      <td>499163.144947</td>\n",
       "    </tr>\n",
       "    <tr>\n",
       "      <th>сотрудник</th>\n",
       "      <td>10014</td>\n",
       "      <td>161380.260488</td>\n",
       "      <td>142594.396847</td>\n",
       "    </tr>\n",
       "    <tr>\n",
       "      <th>студент</th>\n",
       "      <td>1</td>\n",
       "      <td>98201.625314</td>\n",
       "      <td>98201.625314</td>\n",
       "    </tr>\n",
       "  </tbody>\n",
       "</table>\n",
       "</div>"
      ],
      "text/plain": [
       "                 count           mean         median\n",
       "income_type                                         \n",
       "безработный          2  131339.751676  131339.751676\n",
       "в декрете            1   53829.130729   53829.130729\n",
       "госслужащий       1312  170898.309923  150447.935283\n",
       "компаньон         4576  202417.136353  172319.266339\n",
       "пенсионер         3443  137127.465690  118514.486412\n",
       "предприниматель      1  499163.144947  499163.144947\n",
       "сотрудник        10014  161380.260488  142594.396847\n",
       "студент              1   98201.625314   98201.625314"
      ]
     },
     "execution_count": 23,
     "metadata": {},
     "output_type": "execute_result"
    }
   ],
   "source": [
    "total_income_by_income_type = data.groupby('income_type')['total_income'].agg(['count','mean','median'])\n",
    "total_income_by_income_type"
   ]
  },
  {
   "cell_type": "code",
   "execution_count": 24,
   "metadata": {},
   "outputs": [
    {
     "data": {
      "text/html": [
       "<div>\n",
       "<style scoped>\n",
       "    .dataframe tbody tr th:only-of-type {\n",
       "        vertical-align: middle;\n",
       "    }\n",
       "\n",
       "    .dataframe tbody tr th {\n",
       "        vertical-align: top;\n",
       "    }\n",
       "\n",
       "    .dataframe thead th {\n",
       "        text-align: right;\n",
       "    }\n",
       "</style>\n",
       "<table border=\"1\" class=\"dataframe\">\n",
       "  <thead>\n",
       "    <tr style=\"text-align: right;\">\n",
       "      <th></th>\n",
       "      <th>count</th>\n",
       "      <th>mean</th>\n",
       "      <th>median</th>\n",
       "      <th>median_normalized</th>\n",
       "    </tr>\n",
       "    <tr>\n",
       "      <th>income_type</th>\n",
       "      <th></th>\n",
       "      <th></th>\n",
       "      <th></th>\n",
       "      <th></th>\n",
       "    </tr>\n",
       "  </thead>\n",
       "  <tbody>\n",
       "    <tr>\n",
       "      <th>безработный</th>\n",
       "      <td>2</td>\n",
       "      <td>131339.751676</td>\n",
       "      <td>131339.751676</td>\n",
       "      <td>0.921072</td>\n",
       "    </tr>\n",
       "    <tr>\n",
       "      <th>в декрете</th>\n",
       "      <td>1</td>\n",
       "      <td>53829.130729</td>\n",
       "      <td>53829.130729</td>\n",
       "      <td>0.377498</td>\n",
       "    </tr>\n",
       "    <tr>\n",
       "      <th>госслужащий</th>\n",
       "      <td>1312</td>\n",
       "      <td>170898.309923</td>\n",
       "      <td>150447.935283</td>\n",
       "      <td>1.055076</td>\n",
       "    </tr>\n",
       "    <tr>\n",
       "      <th>компаньон</th>\n",
       "      <td>4576</td>\n",
       "      <td>202417.136353</td>\n",
       "      <td>172319.266339</td>\n",
       "      <td>1.208457</td>\n",
       "    </tr>\n",
       "    <tr>\n",
       "      <th>пенсионер</th>\n",
       "      <td>3443</td>\n",
       "      <td>137127.465690</td>\n",
       "      <td>118514.486412</td>\n",
       "      <td>0.831130</td>\n",
       "    </tr>\n",
       "    <tr>\n",
       "      <th>предприниматель</th>\n",
       "      <td>1</td>\n",
       "      <td>499163.144947</td>\n",
       "      <td>499163.144947</td>\n",
       "      <td>3.500580</td>\n",
       "    </tr>\n",
       "    <tr>\n",
       "      <th>сотрудник</th>\n",
       "      <td>10014</td>\n",
       "      <td>161380.260488</td>\n",
       "      <td>142594.396847</td>\n",
       "      <td>1.000000</td>\n",
       "    </tr>\n",
       "    <tr>\n",
       "      <th>студент</th>\n",
       "      <td>1</td>\n",
       "      <td>98201.625314</td>\n",
       "      <td>98201.625314</td>\n",
       "      <td>0.688678</td>\n",
       "    </tr>\n",
       "  </tbody>\n",
       "</table>\n",
       "</div>"
      ],
      "text/plain": [
       "                 count           mean         median  median_normalized\n",
       "income_type                                                            \n",
       "безработный          2  131339.751676  131339.751676           0.921072\n",
       "в декрете            1   53829.130729   53829.130729           0.377498\n",
       "госслужащий       1312  170898.309923  150447.935283           1.055076\n",
       "компаньон         4576  202417.136353  172319.266339           1.208457\n",
       "пенсионер         3443  137127.465690  118514.486412           0.831130\n",
       "предприниматель      1  499163.144947  499163.144947           3.500580\n",
       "сотрудник        10014  161380.260488  142594.396847           1.000000\n",
       "студент              1   98201.625314   98201.625314           0.688678"
      ]
     },
     "execution_count": 24,
     "metadata": {},
     "output_type": "execute_result"
    }
   ],
   "source": [
    "# введем в сводную таблицу дополнительный столбец в котором отнормируем медианную зарплату \n",
    "# к заплате людей с типом занятости \"сотрудник\"\n",
    "total_income_by_income_type['median_normalized'] = (total_income_by_income_type['median'] / \n",
    "                                                    total_income_by_income_type.loc['сотрудник', 'median'])\n",
    "total_income_by_income_type"
   ]
  },
  {
   "cell_type": "markdown",
   "metadata": {},
   "source": [
    "Действительно медианные доходы пенсионеров оказались примерно на 17% процентов ниже чем доходы людей из категории \"сотрудник\". Следует отметить сильную неравномерность выборки по группам. Так категории \"студент\", \"предпрениматель\", \"в декрете\" представлены только одним человеком, а категория \"безработный\" только двумя людьми. Интересно, что медианные доходы безработных всего на 8% ниже чем доходы работающих. Сильная неравномерность выборки не позволяет использовать параметр \"тип занятости\" для построения распределения по этому параметру"
   ]
  },
  {
   "cell_type": "markdown",
   "metadata": {},
   "source": [
    "#### Построение сводной таблицы по медианным доходам и заполнение пропусков по доходам заемщиков в данных"
   ]
  },
  {
   "cell_type": "markdown",
   "metadata": {},
   "source": [
    "Теперь можно построить сводную таблицу медианного ежемесячного дохода заемщиков в зависимости от пола, возраста и уровня образования."
   ]
  },
  {
   "cell_type": "code",
   "execution_count": 25,
   "metadata": {
    "scrolled": true
   },
   "outputs": [
    {
     "data": {
      "text/html": [
       "<div>\n",
       "<style scoped>\n",
       "    .dataframe tbody tr th:only-of-type {\n",
       "        vertical-align: middle;\n",
       "    }\n",
       "\n",
       "    .dataframe tbody tr th {\n",
       "        vertical-align: top;\n",
       "    }\n",
       "\n",
       "    .dataframe thead th {\n",
       "        text-align: right;\n",
       "    }\n",
       "</style>\n",
       "<table border=\"1\" class=\"dataframe\">\n",
       "  <thead>\n",
       "    <tr style=\"text-align: right;\">\n",
       "      <th></th>\n",
       "      <th>age_group</th>\n",
       "      <th>18-30</th>\n",
       "      <th>31-42</th>\n",
       "      <th>43-54</th>\n",
       "      <th>55-66</th>\n",
       "      <th>&gt;67</th>\n",
       "    </tr>\n",
       "    <tr>\n",
       "      <th>gender</th>\n",
       "      <th>education</th>\n",
       "      <th></th>\n",
       "      <th></th>\n",
       "      <th></th>\n",
       "      <th></th>\n",
       "      <th></th>\n",
       "    </tr>\n",
       "  </thead>\n",
       "  <tbody>\n",
       "    <tr>\n",
       "      <th rowspan=\"5\" valign=\"top\">F</th>\n",
       "      <th>высшее</th>\n",
       "      <td>149010.0</td>\n",
       "      <td>164507.0</td>\n",
       "      <td>177479.0</td>\n",
       "      <td>158506.0</td>\n",
       "      <td>133173.0</td>\n",
       "    </tr>\n",
       "    <tr>\n",
       "      <th>начальное</th>\n",
       "      <td>116527.0</td>\n",
       "      <td>115974.0</td>\n",
       "      <td>130774.0</td>\n",
       "      <td>105766.0</td>\n",
       "      <td>77685.0</td>\n",
       "    </tr>\n",
       "    <tr>\n",
       "      <th>неоконченное высшее</th>\n",
       "      <td>129020.0</td>\n",
       "      <td>158948.0</td>\n",
       "      <td>177283.0</td>\n",
       "      <td>158814.0</td>\n",
       "      <td>133695.0</td>\n",
       "    </tr>\n",
       "    <tr>\n",
       "      <th>среднее</th>\n",
       "      <td>115502.0</td>\n",
       "      <td>130215.0</td>\n",
       "      <td>129741.0</td>\n",
       "      <td>122123.0</td>\n",
       "      <td>104276.0</td>\n",
       "    </tr>\n",
       "    <tr>\n",
       "      <th>ученая степень</th>\n",
       "      <td>NaN</td>\n",
       "      <td>111392.0</td>\n",
       "      <td>NaN</td>\n",
       "      <td>255425.0</td>\n",
       "      <td>NaN</td>\n",
       "    </tr>\n",
       "    <tr>\n",
       "      <th rowspan=\"5\" valign=\"top\">M</th>\n",
       "      <th>высшее</th>\n",
       "      <td>193335.0</td>\n",
       "      <td>211985.0</td>\n",
       "      <td>220598.0</td>\n",
       "      <td>185752.0</td>\n",
       "      <td>158408.0</td>\n",
       "    </tr>\n",
       "    <tr>\n",
       "      <th>начальное</th>\n",
       "      <td>169494.0</td>\n",
       "      <td>137266.0</td>\n",
       "      <td>127878.0</td>\n",
       "      <td>114069.0</td>\n",
       "      <td>131373.0</td>\n",
       "    </tr>\n",
       "    <tr>\n",
       "      <th>неоконченное высшее</th>\n",
       "      <td>167306.0</td>\n",
       "      <td>223871.0</td>\n",
       "      <td>183775.0</td>\n",
       "      <td>229339.0</td>\n",
       "      <td>124667.0</td>\n",
       "    </tr>\n",
       "    <tr>\n",
       "      <th>среднее</th>\n",
       "      <td>153537.0</td>\n",
       "      <td>166316.0</td>\n",
       "      <td>161698.0</td>\n",
       "      <td>143277.0</td>\n",
       "      <td>121001.0</td>\n",
       "    </tr>\n",
       "    <tr>\n",
       "      <th>ученая степень</th>\n",
       "      <td>NaN</td>\n",
       "      <td>115949.0</td>\n",
       "      <td>198571.0</td>\n",
       "      <td>268411.0</td>\n",
       "      <td>98752.0</td>\n",
       "    </tr>\n",
       "  </tbody>\n",
       "</table>\n",
       "</div>"
      ],
      "text/plain": [
       "age_group                      18-30     31-42     43-54     55-66       >67\n",
       "gender education                                                            \n",
       "F      высшее               149010.0  164507.0  177479.0  158506.0  133173.0\n",
       "       начальное            116527.0  115974.0  130774.0  105766.0   77685.0\n",
       "       неоконченное высшее  129020.0  158948.0  177283.0  158814.0  133695.0\n",
       "       среднее              115502.0  130215.0  129741.0  122123.0  104276.0\n",
       "       ученая степень            NaN  111392.0       NaN  255425.0       NaN\n",
       "M      высшее               193335.0  211985.0  220598.0  185752.0  158408.0\n",
       "       начальное            169494.0  137266.0  127878.0  114069.0  131373.0\n",
       "       неоконченное высшее  167306.0  223871.0  183775.0  229339.0  124667.0\n",
       "       среднее              153537.0  166316.0  161698.0  143277.0  121001.0\n",
       "       ученая степень            NaN  115949.0  198571.0  268411.0   98752.0"
      ]
     },
     "execution_count": 25,
     "metadata": {},
     "output_type": "execute_result"
    }
   ],
   "source": [
    "data_pivot = data.pivot_table(index = ['gender', 'education'], columns = 'age_group', \n",
    "                              values = 'total_income', aggfunc = 'median')\n",
    "\n",
    "# выведем сводную таблицу округлив рассчитанные значения для наглядности\n",
    "data_pivot.round()"
   ]
  },
  {
   "cell_type": "markdown",
   "metadata": {},
   "source": [
    "Поскольку данные по типу образования \"ученая степень\" не репрезентативны (малая выборка) в сводной таблице так же появились пропущенные значения. Тем не менее это не страшно, просто не будем использовать данные по нерепрезентативной выборке при заполненни пропусков. \n",
    "Прежде чем провести заполнение пропусков посмотрим распределение доходов заемщиков до замены, затем проведем замену и повторно посмотрим распределение"
   ]
  },
  {
   "cell_type": "code",
   "execution_count": 26,
   "metadata": {},
   "outputs": [
    {
     "data": {
      "image/png": "[encoded data removed]",
      "text/plain": [
       "<Figure size 1080x360 with 1 Axes>"
      ]
     },
     "metadata": {
      "needs_background": "light"
     },
     "output_type": "display_data"
    }
   ],
   "source": [
    "# построим гистограмму по столбцу total_income до замены пропущенных данных\n",
    "(data['total_income'].hist(bins=50, figsize=(15, 5), color='green', alpha=0.75, range=(0, 1000000))\n",
    "                     .set(xlabel='Ежемесячный доход',\n",
    "                          ylabel='Количество записей',\n",
    "                          title='Распределение ежемесячного дохода клиентов'));"
   ]
  },
  {
   "cell_type": "code",
   "execution_count": 27,
   "metadata": {},
   "outputs": [],
   "source": [
    "# переберем все возможные комбинации полей gender, education, age_group и заменяем NaN в столбце total_income по маске\n",
    "# исключаем из перебора тип образования 'ученая степень' так как выборка по нему не репрезентативна\n",
    "for gender in data['gender'].unique():\n",
    "    for education in data['education'].unique():\n",
    "        if education != 'ученая степень':\n",
    "            for age_group in data['age_group'].unique():\n",
    "                try:\n",
    "                    mask = ((data['total_income'].isnull()) & (data['gender'] == gender) & \n",
    "                            (data['education'] == education) & (data['age_group'] == age_group))\n",
    "                    data['total_income'].mask(mask, other=data_pivot.loc[(gender, education), age_group], inplace=True)\n",
    "                except:\n",
    "                    print('Ошибка замены данных в столбце total_income')"
   ]
  },
  {
   "cell_type": "code",
   "execution_count": 28,
   "metadata": {},
   "outputs": [
    {
     "data": {
      "text/plain": [
       "0"
      ]
     },
     "execution_count": 28,
     "metadata": {},
     "output_type": "execute_result"
    }
   ],
   "source": [
    "# проверим что в столбце total_income не осталось нулевых элементов\n",
    "data['total_income'].isnull().sum()"
   ]
  },
  {
   "cell_type": "code",
   "execution_count": 29,
   "metadata": {},
   "outputs": [
    {
     "data": {
      "image/png": "[encoded data removed]",
      "text/plain": [
       "<Figure size 1080x360 with 1 Axes>"
      ]
     },
     "metadata": {
      "needs_background": "light"
     },
     "output_type": "display_data"
    }
   ],
   "source": [
    "# построим гистограмму по столбцу total_income после замены пропущенных данных\n",
    "(data['total_income'].hist(bins=50, figsize=(15, 5), color='green', alpha=0.75, range=(0, 1000000))\n",
    "                     .set(xlabel='Ежемесячный доход',\n",
    "                          ylabel='Количество записей',\n",
    "                          title='Распределение ежемесячного дохода клиентов'));"
   ]
  },
  {
   "cell_type": "markdown",
   "metadata": {},
   "source": [
    "Видно что после вставки незаполненых элементов гистограмма распределения доходов немного исказилась, появился более выраженный пик в центре тяжести распределения. Если это будет мешать последующей обработке данных или для последующей обработки важно точное следование исходному распределению то можно заполнять недостающие данные не детерминированными медианами, а случайными числами сгенерированными с требуемыми параметрами распределения. В текущем рассмотрении данные можно считать адекватно распределенными, релеевское распределение в общем сохранено. "
   ]
  },
  {
   "cell_type": "markdown",
   "metadata": {},
   "source": [
    "#### Заполнение пропусков по трудовому стажу заемщиков\n",
    "Посмотрим гисторамму распределения значений трудового стажа заемщиков"
   ]
  },
  {
   "cell_type": "code",
   "execution_count": 30,
   "metadata": {},
   "outputs": [
    {
     "data": {
      "text/plain": [
       "count     19350.000000\n",
       "mean      63049.877770\n",
       "std      140830.166081\n",
       "min      -18388.949901\n",
       "25%       -2747.486276\n",
       "50%       -1203.307346\n",
       "75%        -291.077541\n",
       "max      401755.400475\n",
       "Name: days_employed, dtype: float64"
      ]
     },
     "execution_count": 30,
     "metadata": {},
     "output_type": "execute_result"
    },
    {
     "data": {
      "image/png": "[encoded data removed]",
      "text/plain": [
       "<Figure size 1080x360 with 1 Axes>"
      ]
     },
     "metadata": {
      "needs_background": "light"
     },
     "output_type": "display_data"
    }
   ],
   "source": [
    "(data['days_employed'].hist(bins=100, figsize=(15, 5), color='green', alpha=0.75)\n",
    "                      .set(xlabel='Общий трудовой стаж (в днях)',\n",
    "                           ylabel='Количество записей',\n",
    "                           title='Распределение трудового стажа клиентов'));\n",
    "data['days_employed'].describe()"
   ]
  },
  {
   "cell_type": "code",
   "execution_count": null,
   "metadata": {},
   "outputs": [],
   "source": []
  },
  {
   "cell_type": "markdown",
   "metadata": {},
   "source": [
    "Видно, что распределение состоит из двух: мод одна экспоненциальная, другая равномерно распределенная. Рассмотрим графики двух мод подробнее"
   ]
  },
  {
   "cell_type": "code",
   "execution_count": 31,
   "metadata": {},
   "outputs": [
    {
     "data": {
      "image/png": "[encoded data removed]",
      "text/plain": [
       "<Figure size 1080x360 with 1 Axes>"
      ]
     },
     "metadata": {
      "needs_background": "light"
     },
     "output_type": "display_data"
    }
   ],
   "source": [
    "(data['days_employed'].hist(bins=100, figsize=(15, 5), color='green', alpha=0.75, \n",
    "                            range=(data['days_employed'].min(), data['days_employed'].min() * (-1)))\n",
    "                      .set(xlabel='Общий трудовой стаж (в днях)',\n",
    "                           ylabel='Количество записей',\n",
    "                           title='Распределение трудового стажа клиентов'));"
   ]
  },
  {
   "cell_type": "markdown",
   "metadata": {},
   "source": [
    "В экспоненциальной моде стаж имеет отрицательное значение. Возможно это вызвано тем что работник банка перепутал графы даты начала работы и дата окончания работы и как следствие стаж оказался отрицательным. Это легко устранить взяв все данные для этой моды по модулю, но прежде рассмотрим подробнее вторую моду:"
   ]
  },
  {
   "cell_type": "code",
   "execution_count": 32,
   "metadata": {},
   "outputs": [
    {
     "data": {
      "text/plain": [
       "1095.890410958904"
      ]
     },
     "execution_count": 32,
     "metadata": {},
     "output_type": "execute_result"
    },
    {
     "data": {
      "image/png": "[encoded data removed]",
      "text/plain": [
       "<Figure size 1080x360 with 1 Axes>"
      ]
     },
     "metadata": {
      "needs_background": "light"
     },
     "output_type": "display_data"
    }
   ],
   "source": [
    "(data['days_employed'].hist(bins=100, figsize=(15, 5), color='green', alpha=0.75, range=(300000, 400000))\n",
    "                      .set(xlabel='Общий трудовой стаж (в днях)',\n",
    "                           ylabel='Количество записей',\n",
    "                           title='Распределение трудового стажа клиентов'));\n",
    "400000/365"
   ]
  },
  {
   "cell_type": "markdown",
   "metadata": {},
   "source": [
    "Максимальное значение в данной моде превышает 400000 дней что соответствует более чем 1000 лет стажа, что очевидно является ошибкой вывода. Возможно ошибка возникла вследствие неправильного ввода данных или несовпадения типов, размерностей и т.д. В данном случае неооходимо дополнительно проработать форматы вывода этого столбца совместно с инженером предоставившим данные.\n",
    "В связи с тем, что столбец со стажем работы не нужен для ответа на поставленные Заказчиком вопросы, принимая во внимание что столбец содержит большое количество ошибок, его предлагается удалить из данных."
   ]
  },
  {
   "cell_type": "code",
   "execution_count": 33,
   "metadata": {},
   "outputs": [],
   "source": [
    "#  удаляем столбец days_employed\n",
    "data.drop('days_employed', axis=1, inplace=True)"
   ]
  },
  {
   "cell_type": "code",
   "execution_count": 34,
   "metadata": {},
   "outputs": [
    {
     "name": "stdout",
     "output_type": "stream",
     "text": [
      "<class 'pandas.core.frame.DataFrame'>\n",
      "Int64Index: 21524 entries, 0 to 21524\n",
      "Data columns (total 13 columns):\n",
      " #   Column            Non-Null Count  Dtype   \n",
      "---  ------            --------------  -----   \n",
      " 0   children          21524 non-null  int64   \n",
      " 1   dob_years         21524 non-null  int64   \n",
      " 2   education         21524 non-null  object  \n",
      " 3   education_id      21524 non-null  int64   \n",
      " 4   family_status     21524 non-null  object  \n",
      " 5   family_status_id  21524 non-null  int64   \n",
      " 6   gender            21524 non-null  object  \n",
      " 7   income_type       21524 non-null  object  \n",
      " 8   debt              21524 non-null  int64   \n",
      " 9   total_income      21524 non-null  float64 \n",
      " 10  purpose           21524 non-null  object  \n",
      " 11  job_info          21524 non-null  bool    \n",
      " 12  age_group         21524 non-null  category\n",
      "dtypes: bool(1), category(1), float64(1), int64(5), object(5)\n",
      "memory usage: 2.6+ MB\n"
     ]
    }
   ],
   "source": [
    "#убедимся что столбца days_employed больше нет в данных\n",
    "data.info()"
   ]
  },
  {
   "cell_type": "markdown",
   "metadata": {},
   "source": [
    "Теперь в таблице нет пропущенных данных все ячейки заполнены. Однако прежде чем идти дальше рассмотрим еще один важный столбец который ранее мы еще не затрагиваливали, но который является важным для ответа на поставленный заказчиком вопрос - это столбец, содержащий информацию о количестве детей."
   ]
  },
  {
   "cell_type": "markdown",
   "metadata": {},
   "source": [
    "#### Обзор данных в столбце children\n",
    "Как обычно начнем с построения гистограммы по данному столбцу и просмотра параметров распределения."
   ]
  },
  {
   "cell_type": "code",
   "execution_count": 35,
   "metadata": {},
   "outputs": [
    {
     "data": {
      "text/plain": [
       "count    21524.000000\n",
       "mean         0.538933\n",
       "std          1.381615\n",
       "min         -1.000000\n",
       "25%          0.000000\n",
       "50%          0.000000\n",
       "75%          1.000000\n",
       "max         20.000000\n",
       "Name: children, dtype: float64"
      ]
     },
     "execution_count": 35,
     "metadata": {},
     "output_type": "execute_result"
    },
    {
     "data": {
      "image/png": "[encoded data removed]",
      "text/plain": [
       "<Figure size 1080x360 with 1 Axes>"
      ]
     },
     "metadata": {
      "needs_background": "light"
     },
     "output_type": "display_data"
    }
   ],
   "source": [
    "(data['children'].hist(bins=75, figsize=(15, 5), color='green', alpha=0.75)\n",
    "                 .set(xlabel='Количество детей в семье',\n",
    "                      ylabel='Количество записей',\n",
    "                      title='Распределение клиентов по количеству детей'));\n",
    "data['children'].describe()"
   ]
  },
  {
   "cell_type": "markdown",
   "metadata": {},
   "source": [
    "Столбец содержит данные по числу детей от 20 до минус одного. Если число детей равное 20, в свете необходимости повышения демографической ситуации, еще можно принять, то число минус один является явной ошибкой. Посчитаем число строк где число детей  меньше нуля"
   ]
  },
  {
   "cell_type": "code",
   "execution_count": 36,
   "metadata": {},
   "outputs": [
    {
     "name": "stdout",
     "output_type": "stream",
     "text": [
      "Количество строк в которых указано число детей менее нуля: 0.2%\n"
     ]
    }
   ],
   "source": [
    "# определим процент людей для которых указано число детей меньше нуля\n",
    "print('Количество строк в которых указано число детей менее нуля: {:.1%}'.format(data[data['children']<0].shape[0] / \n",
    "                                                                                 data.shape[0]))"
   ]
  },
  {
   "cell_type": "markdown",
   "metadata": {},
   "source": [
    "Причины появления отрицательных значений в колонке children не очевидны. Возможно в форме для ввода данных поле с информацией о детях реализованно в виде счетчика который позволяет увеличивать или уменьшать введенные числа на определенный дискрет (на единицу) при этом по умолчанию в поле стоит нуль, а возможность щелкнуть счетчик в отрицательную сторону из положения по умолчанию не ограничена. Чтобы избавиться от отрицательных чисел в колонке вычислим модуль"
   ]
  },
  {
   "cell_type": "code",
   "execution_count": 37,
   "metadata": {},
   "outputs": [
    {
     "data": {
      "text/plain": [
       "count    21524.000000\n",
       "mean         0.543301\n",
       "std          1.379903\n",
       "min          0.000000\n",
       "25%          0.000000\n",
       "50%          0.000000\n",
       "75%          1.000000\n",
       "max         20.000000\n",
       "Name: children, dtype: float64"
      ]
     },
     "execution_count": 37,
     "metadata": {},
     "output_type": "execute_result"
    }
   ],
   "source": [
    "data['children'] = data['children'].abs()\n",
    "# убедимся что теперь отрицательных чисел нет\n",
    "data['children'].describe()"
   ]
  },
  {
   "cell_type": "markdown",
   "metadata": {},
   "source": [
    "### Вывод"
   ]
  },
  {
   "cell_type": "markdown",
   "metadata": {},
   "source": [
    "* Доходы заемщиков в общем случае зависят как от пола так и от возраста и образования. Эти зависимости были выявлены и учтены при заполнении пропусков в столбце с доходами\n",
    "* Данные в столбце со стажем содержат ошибки вывода. В связи с тем что информация о стаже не нужна для ответа на поставленные Заказчиком вопросы было принято решение удалить данный столбец из данных\n",
    "* Устранены ошибки некорректного ввода данных в столбце children"
   ]
  },
  {
   "cell_type": "markdown",
   "metadata": {},
   "source": [
    "### Замена типа данных\n",
    "Проведем замену типов данных, при этом используем следующие типы:\n",
    "* для столбцов children и dob_years - uint8 так как значения в данных столбцах целые и никогда не будут превышать 255\n",
    "* для столбцов education, education_id, family_status, family_status_id, gender, income_type, age_group - category так как значения в данных столбцах могут принимать только определенный набор значений\n",
    "* для столбцов debt и job_info - bool так как данные в этих столбцах могут принимать значение только 1 или 0 \n",
    "* для столбца total_income - float32 так как установленный по умолчанию тип float64 с двойной точностью является избыточным. Одинарной точности достаточно для представления ежемесячного дохода\n",
    "\n",
    "Для замены типов данных создатим словарь data_type_dict в который запишем названия столбцов и их требуемый тип и приеним этот словарь к данным с помощью метода astype"
   ]
  },
  {
   "cell_type": "code",
   "execution_count": 38,
   "metadata": {
    "scrolled": true
   },
   "outputs": [],
   "source": [
    "data_type_dict = {'children':'uint8', \n",
    "                  'dob_years':'uint8', \n",
    "                  'education': 'category',\n",
    "                  'education_id': 'category',\n",
    "                  'family_status': 'category',\n",
    "                  'family_status_id': 'category',\n",
    "                  'gender': 'category',\n",
    "                  'income_type': 'category',\n",
    "                  'debt': 'bool',\n",
    "                  'total_income': 'float32',\n",
    "                  'purpose': 'object',\n",
    "                  'job_info': 'bool',\n",
    "                  'age_group': 'category'\n",
    "                  }\n",
    "data = data.astype(data_type_dict)"
   ]
  },
  {
   "cell_type": "code",
   "execution_count": 39,
   "metadata": {},
   "outputs": [
    {
     "name": "stdout",
     "output_type": "stream",
     "text": [
      "<class 'pandas.core.frame.DataFrame'>\n",
      "Int64Index: 21524 entries, 0 to 21524\n",
      "Data columns (total 13 columns):\n",
      " #   Column            Non-Null Count  Dtype   \n",
      "---  ------            --------------  -----   \n",
      " 0   children          21524 non-null  uint8   \n",
      " 1   dob_years         21524 non-null  uint8   \n",
      " 2   education         21524 non-null  category\n",
      " 3   education_id      21524 non-null  category\n",
      " 4   family_status     21524 non-null  category\n",
      " 5   family_status_id  21524 non-null  category\n",
      " 6   gender            21524 non-null  category\n",
      " 7   income_type       21524 non-null  category\n",
      " 8   debt              21524 non-null  bool    \n",
      " 9   total_income      21524 non-null  float32 \n",
      " 10  purpose           21524 non-null  object  \n",
      " 11  job_info          21524 non-null  bool    \n",
      " 12  age_group         21524 non-null  category\n",
      "dtypes: bool(2), category(7), float32(1), object(1), uint8(2)\n",
      "memory usage: 1.3+ MB\n"
     ]
    }
   ],
   "source": [
    "# убедимся что заданные нами типы применились так как задуманно\n",
    "data.info()"
   ]
  },
  {
   "cell_type": "markdown",
   "metadata": {},
   "source": [
    "### Вывод"
   ]
  },
  {
   "cell_type": "markdown",
   "metadata": {},
   "source": [
    "Преобразование типов позмолило уменьшить объем памяти которе занимают данные. Если до преобразования данные занимали порядка 2,6 МБ, то после преобразования типов порядка 1,3 МБ"
   ]
  },
  {
   "cell_type": "markdown",
   "metadata": {},
   "source": [
    "<div class=\"alert alert-success\">\n",
    "<h2> Комментарий от ревьюера </h2>\n",
    "\n",
    "Просто космос 🚀\n",
    "\n",
    "</div>"
   ]
  },
  {
   "cell_type": "markdown",
   "metadata": {},
   "source": [
    "### Обработка дубликатов"
   ]
  },
  {
   "cell_type": "code",
   "execution_count": 40,
   "metadata": {},
   "outputs": [
    {
     "data": {
      "text/plain": [
       "71"
      ]
     },
     "execution_count": 40,
     "metadata": {},
     "output_type": "execute_result"
    }
   ],
   "source": [
    "# оценим количество дубликатов в данных суммированием логических единиц выдаваемых методом duplicated\n",
    "data.duplicated().sum()"
   ]
  },
  {
   "cell_type": "code",
   "execution_count": 41,
   "metadata": {},
   "outputs": [
    {
     "data": {
      "text/plain": [
       "0"
      ]
     },
     "execution_count": 41,
     "metadata": {},
     "output_type": "execute_result"
    }
   ],
   "source": [
    "# удалим повторяющиеся данные методом drop_duplicates и сбросим нумерацию строк\n",
    "data = data.drop_duplicates().reset_index(drop=True)\n",
    "\n",
    "# проверим что в данных не осталось дубликатов\n",
    "data.duplicated().sum()"
   ]
  },
  {
   "cell_type": "markdown",
   "metadata": {},
   "source": [
    "### Вывод"
   ]
  },
  {
   "cell_type": "markdown",
   "metadata": {},
   "source": [
    "Количество дубликатов в исходных данных не велико (71). Возможно это вызвано просто тем что работник банка по неосторожности дваждый сохранил данные клиента (например случайно щелкнуй дважды кнопкой мыши вместо одного раза), а используемое банковское ПО такую ситуацию не отфильтровывает. После применения метода drop_duplicates данные больше не содержат дубликатов."
   ]
  },
  {
   "cell_type": "markdown",
   "metadata": {},
   "source": [
    "### Лемматизация"
   ]
  },
  {
   "cell_type": "code",
   "execution_count": 42,
   "metadata": {},
   "outputs": [],
   "source": [
    "# # установка библиотекки для лемматизации текста pymystem3\n",
    "# !pip install pymystem3"
   ]
  },
  {
   "cell_type": "code",
   "execution_count": 43,
   "metadata": {},
   "outputs": [],
   "source": [
    "# лемметизируем данные с помощью библиотеки pymystem3 и сохраним их в столбце purpose_lemmatized\n",
    "from pymystem3 import Mystem\n",
    "m = Mystem()\n",
    "data['purpose_lemmatized'] = data['purpose'].apply(m.lemmatize)"
   ]
  },
  {
   "cell_type": "code",
   "execution_count": 44,
   "metadata": {},
   "outputs": [
    {
     "data": {
      "text/plain": [
       "автомобиль \\n                                    972\n",
       "свадьба \\n                                       791\n",
       "на   проведение   свадьба \\n                     768\n",
       "сыграть   свадьба \\n                             765\n",
       "операция   с   недвижимость \\n                   675\n",
       "покупка   коммерческий   недвижимость \\n         661\n",
       "операция   с   жилье \\n                          652\n",
       "покупка   жилье   для   сдача \\n                 651\n",
       "операция   с   коммерческий   недвижимость \\n    650\n",
       "жилье \\n                                         646\n",
       "покупка   жилье \\n                               646\n",
       "покупка   жилье   для   семья \\n                 638\n",
       "строительство   собственный   недвижимость \\n    635\n",
       "недвижимость \\n                                  633\n",
       "операция   со   свой   недвижимость \\n           627\n",
       "строительство   жилой   недвижимость \\n          624\n",
       "покупка   недвижимость \\n                        620\n",
       "покупка   свой   жилье \\n                        620\n",
       "строительство   недвижимость \\n                  619\n",
       "ремонт   жилье \\n                                607\n",
       "покупка   жилой   недвижимость \\n                606\n",
       "на   покупка   свой   автомобиль \\n              505\n",
       "заниматься   высокий   образование \\n            496\n",
       "сделка   с   подержанный   автомобиль \\n         486\n",
       "свой   автомобиль \\n                             478\n",
       "на   покупка   подержать   автомобиль \\n         478\n",
       "на   покупка   автомобиль \\n                     471\n",
       "приобретение   автомобиль \\n                     461\n",
       "дополнительный   образование \\n                  460\n",
       "сделка   с   автомобиль \\n                       455\n",
       "высокий   образование \\n                         452\n",
       "образование \\n                                   447\n",
       "получение   дополнительный   образование \\n      446\n",
       "получение   образование \\n                       442\n",
       "профильный   образование \\n                      436\n",
       "получение   высокий   образование \\n             426\n",
       "заниматься   образование \\n                      408\n",
       "Name: purpose_lemmatized, dtype: int64"
      ]
     },
     "execution_count": 44,
     "metadata": {},
     "output_type": "execute_result"
    }
   ],
   "source": [
    "# посмотрим для каких целей берут кредиты чаще всего\n",
    "data['purpose_lemmatized'].str.join(' ').value_counts()"
   ]
  },
  {
   "cell_type": "code",
   "execution_count": 45,
   "metadata": {},
   "outputs": [],
   "source": [
    "# создадим функциию purpose_grouper() которая принимает на вход строку данных, \n",
    "# анализирует столбец purpose_lemmatized на наличие ключевых слов из внутреннего списка classificator и\n",
    "# возвращает строковое значение равное первому совпавшему слову из списка classificator\n",
    "def purpose_grouper(row):\n",
    "    try:\n",
    "        purpose = row['purpose_lemmatized']\n",
    "        classificator = ['свадьба', 'автомобиль', 'недвижимость', 'жилье', 'образование']\n",
    "        for elem in classificator:\n",
    "            if elem in purpose:\n",
    "                result = elem\n",
    "                break # цикл прерывается как только найдено первое совпадение\n",
    "            else:\n",
    "                result = 'unknown'\n",
    "        return result\n",
    "    except:\n",
    "        print('Ошибка в функции purpose_grouper. Проверьте входные данные')\n",
    "\n",
    "# применим написанную функцию к данным и сохраним результат в столбце purpose_classificated\n",
    "data['purpose_classificated'] = data.apply(purpose_grouper, axis=1)"
   ]
  },
  {
   "cell_type": "code",
   "execution_count": 46,
   "metadata": {},
   "outputs": [
    {
     "data": {
      "text/plain": [
       "недвижимость    6350\n",
       "жилье           4460\n",
       "автомобиль      4306\n",
       "образование     4013\n",
       "свадьба         2324\n",
       "Name: purpose_classificated, dtype: int64"
      ]
     },
     "execution_count": 46,
     "metadata": {},
     "output_type": "execute_result"
    }
   ],
   "source": [
    "# проверим что у нас не осталось неклассифицированных значений\n",
    "data['purpose_classificated'].value_counts()"
   ]
  },
  {
   "cell_type": "code",
   "execution_count": 47,
   "metadata": {},
   "outputs": [
    {
     "data": {
      "text/plain": [
       "True"
      ]
     },
     "execution_count": 47,
     "metadata": {},
     "output_type": "execute_result"
    }
   ],
   "source": [
    "# проверим что количество классифицированных значений равно числу строк в таблице\n",
    "data['purpose_classificated'].value_counts().sum() == data.shape[0]"
   ]
  },
  {
   "cell_type": "code",
   "execution_count": 48,
   "metadata": {},
   "outputs": [
    {
     "data": {
      "text/plain": [
       "недвижимость    10810\n",
       "автомобиль       4306\n",
       "образование      4013\n",
       "свадьба          2324\n",
       "Name: purpose_classificated, dtype: int64"
      ]
     },
     "execution_count": 48,
     "metadata": {},
     "output_type": "execute_result"
    }
   ],
   "source": [
    "# поскульку категории \"жилье\" и \"недвижимость\" предполагают одно и то же, то заменим \"жилье\" на \"недвижимость\" по маске\n",
    "data['purpose_classificated'].mask(data['purpose_classificated'] == 'жилье', other='недвижимость', inplace=True)\n",
    "\n",
    "# проверим что замена прошла успешно\n",
    "data['purpose_classificated'].value_counts()"
   ]
  },
  {
   "cell_type": "markdown",
   "metadata": {},
   "source": [
    "### Вывод"
   ]
  },
  {
   "cell_type": "markdown",
   "metadata": {},
   "source": [
    "Чаще всего заемщики берут кредиты на покупку недвижимости. Почти в 2,5 раза меньше заемщиков берут кредиты на покупку автомобиля или получение образования. Наименее популярная категория из представленных кредиты на свадьбу."
   ]
  },
  {
   "cell_type": "markdown",
   "metadata": {},
   "source": [
    "### Категоризация данных\n",
    "Посмотрим информацию о нашем датасете еще раз"
   ]
  },
  {
   "cell_type": "code",
   "execution_count": 49,
   "metadata": {},
   "outputs": [
    {
     "name": "stdout",
     "output_type": "stream",
     "text": [
      "<class 'pandas.core.frame.DataFrame'>\n",
      "RangeIndex: 21453 entries, 0 to 21452\n",
      "Data columns (total 15 columns):\n",
      " #   Column                 Non-Null Count  Dtype   \n",
      "---  ------                 --------------  -----   \n",
      " 0   children               21453 non-null  uint8   \n",
      " 1   dob_years              21453 non-null  uint8   \n",
      " 2   education              21453 non-null  category\n",
      " 3   education_id           21453 non-null  category\n",
      " 4   family_status          21453 non-null  category\n",
      " 5   family_status_id       21453 non-null  category\n",
      " 6   gender                 21453 non-null  category\n",
      " 7   income_type            21453 non-null  category\n",
      " 8   debt                   21453 non-null  bool    \n",
      " 9   total_income           21453 non-null  float32 \n",
      " 10  purpose                21453 non-null  object  \n",
      " 11  job_info               21453 non-null  bool    \n",
      " 12  age_group              21453 non-null  category\n",
      " 13  purpose_lemmatized     21453 non-null  object  \n",
      " 14  purpose_classificated  21453 non-null  object  \n",
      "dtypes: bool(2), category(7), float32(1), object(3), uint8(2)\n",
      "memory usage: 818.6+ KB\n"
     ]
    }
   ],
   "source": [
    "data.info()"
   ]
  },
  {
   "cell_type": "markdown",
   "metadata": {},
   "source": [
    "Мы уже перевели в категориальные переменные столбцы education_id, family_status, family_status_id, gender, income_type, age_group. Однако у нас появился новый столбец purpose_classificated который по сути так же является категориальным. Давайте изменим и его тип"
   ]
  },
  {
   "cell_type": "code",
   "execution_count": 50,
   "metadata": {},
   "outputs": [
    {
     "name": "stdout",
     "output_type": "stream",
     "text": [
      "<class 'pandas.core.frame.DataFrame'>\n",
      "RangeIndex: 21453 entries, 0 to 21452\n",
      "Data columns (total 15 columns):\n",
      " #   Column                 Non-Null Count  Dtype   \n",
      "---  ------                 --------------  -----   \n",
      " 0   children               21453 non-null  uint8   \n",
      " 1   dob_years              21453 non-null  uint8   \n",
      " 2   education              21453 non-null  category\n",
      " 3   education_id           21453 non-null  category\n",
      " 4   family_status          21453 non-null  category\n",
      " 5   family_status_id       21453 non-null  category\n",
      " 6   gender                 21453 non-null  category\n",
      " 7   income_type            21453 non-null  category\n",
      " 8   debt                   21453 non-null  bool    \n",
      " 9   total_income           21453 non-null  float32 \n",
      " 10  purpose                21453 non-null  object  \n",
      " 11  job_info               21453 non-null  bool    \n",
      " 12  age_group              21453 non-null  category\n",
      " 13  purpose_lemmatized     21453 non-null  object  \n",
      " 14  purpose_classificated  21453 non-null  category\n",
      "dtypes: bool(2), category(8), float32(1), object(2), uint8(2)\n",
      "memory usage: 672.2+ KB\n"
     ]
    }
   ],
   "source": [
    "data['purpose_classificated'] = data['purpose_classificated'].astype('category')\n",
    "data.info()"
   ]
  },
  {
   "cell_type": "markdown",
   "metadata": {},
   "source": [
    "Кроме того, как было отмечено при первичном анализе, данные в столбцах education и education_id (как и в столбцах family_status и family_status_id) являются дублирующими друг друга и никакой дополнительной информации не несут. По этому соответствие education столбцу education_id (family_status и family_status_id) лучше вынести в отдельные словари, а столбцы education и family_status из данных удалить"
   ]
  },
  {
   "cell_type": "code",
   "execution_count": 51,
   "metadata": {},
   "outputs": [
    {
     "data": {
      "text/html": [
       "<div>\n",
       "<style scoped>\n",
       "    .dataframe tbody tr th:only-of-type {\n",
       "        vertical-align: middle;\n",
       "    }\n",
       "\n",
       "    .dataframe tbody tr th {\n",
       "        vertical-align: top;\n",
       "    }\n",
       "\n",
       "    .dataframe thead th {\n",
       "        text-align: right;\n",
       "    }\n",
       "</style>\n",
       "<table border=\"1\" class=\"dataframe\">\n",
       "  <thead>\n",
       "    <tr style=\"text-align: right;\">\n",
       "      <th></th>\n",
       "      <th>education</th>\n",
       "      <th>education_id</th>\n",
       "    </tr>\n",
       "  </thead>\n",
       "  <tbody>\n",
       "    <tr>\n",
       "      <th>0</th>\n",
       "      <td>высшее</td>\n",
       "      <td>0</td>\n",
       "    </tr>\n",
       "    <tr>\n",
       "      <th>1</th>\n",
       "      <td>среднее</td>\n",
       "      <td>1</td>\n",
       "    </tr>\n",
       "    <tr>\n",
       "      <th>2</th>\n",
       "      <td>неоконченное высшее</td>\n",
       "      <td>2</td>\n",
       "    </tr>\n",
       "    <tr>\n",
       "      <th>3</th>\n",
       "      <td>начальное</td>\n",
       "      <td>3</td>\n",
       "    </tr>\n",
       "    <tr>\n",
       "      <th>4</th>\n",
       "      <td>ученая степень</td>\n",
       "      <td>4</td>\n",
       "    </tr>\n",
       "  </tbody>\n",
       "</table>\n",
       "</div>"
      ],
      "text/plain": [
       "             education education_id\n",
       "0               высшее            0\n",
       "1              среднее            1\n",
       "2  неоконченное высшее            2\n",
       "3            начальное            3\n",
       "4       ученая степень            4"
      ]
     },
     "execution_count": 51,
     "metadata": {},
     "output_type": "execute_result"
    }
   ],
   "source": [
    "# скопируем столбцы education и education_id в переменную education_dict и удалим дубликаты для получения словаря\n",
    "education_dict = data[['education', 'education_id']]\n",
    "education_dict = education_dict.drop_duplicates().reset_index(drop=True)\n",
    "education_dict"
   ]
  },
  {
   "cell_type": "code",
   "execution_count": 52,
   "metadata": {},
   "outputs": [
    {
     "data": {
      "text/html": [
       "<div>\n",
       "<style scoped>\n",
       "    .dataframe tbody tr th:only-of-type {\n",
       "        vertical-align: middle;\n",
       "    }\n",
       "\n",
       "    .dataframe tbody tr th {\n",
       "        vertical-align: top;\n",
       "    }\n",
       "\n",
       "    .dataframe thead th {\n",
       "        text-align: right;\n",
       "    }\n",
       "</style>\n",
       "<table border=\"1\" class=\"dataframe\">\n",
       "  <thead>\n",
       "    <tr style=\"text-align: right;\">\n",
       "      <th></th>\n",
       "      <th>family_status</th>\n",
       "      <th>family_status_id</th>\n",
       "    </tr>\n",
       "  </thead>\n",
       "  <tbody>\n",
       "    <tr>\n",
       "      <th>0</th>\n",
       "      <td>женат / замужем</td>\n",
       "      <td>0</td>\n",
       "    </tr>\n",
       "    <tr>\n",
       "      <th>1</th>\n",
       "      <td>гражданский брак</td>\n",
       "      <td>1</td>\n",
       "    </tr>\n",
       "    <tr>\n",
       "      <th>2</th>\n",
       "      <td>вдовец / вдова</td>\n",
       "      <td>2</td>\n",
       "    </tr>\n",
       "    <tr>\n",
       "      <th>3</th>\n",
       "      <td>в разводе</td>\n",
       "      <td>3</td>\n",
       "    </tr>\n",
       "    <tr>\n",
       "      <th>4</th>\n",
       "      <td>Не женат / не замужем</td>\n",
       "      <td>4</td>\n",
       "    </tr>\n",
       "  </tbody>\n",
       "</table>\n",
       "</div>"
      ],
      "text/plain": [
       "           family_status family_status_id\n",
       "0        женат / замужем                0\n",
       "1       гражданский брак                1\n",
       "2         вдовец / вдова                2\n",
       "3              в разводе                3\n",
       "4  Не женат / не замужем                4"
      ]
     },
     "execution_count": 52,
     "metadata": {},
     "output_type": "execute_result"
    }
   ],
   "source": [
    "# аналогично поступим и со столбцами family_status и family_status_id\n",
    "family_status_dict = data[['family_status', 'family_status_id']]\n",
    "family_status_dict = family_status_dict.drop_duplicates().reset_index(drop=True)\n",
    "family_status_dict"
   ]
  },
  {
   "cell_type": "code",
   "execution_count": 53,
   "metadata": {},
   "outputs": [
    {
     "name": "stdout",
     "output_type": "stream",
     "text": [
      "<class 'pandas.core.frame.DataFrame'>\n",
      "RangeIndex: 21453 entries, 0 to 21452\n",
      "Data columns (total 13 columns):\n",
      " #   Column                 Non-Null Count  Dtype   \n",
      "---  ------                 --------------  -----   \n",
      " 0   children               21453 non-null  uint8   \n",
      " 1   dob_years              21453 non-null  uint8   \n",
      " 2   education_id           21453 non-null  category\n",
      " 3   family_status_id       21453 non-null  category\n",
      " 4   gender                 21453 non-null  category\n",
      " 5   income_type            21453 non-null  category\n",
      " 6   debt                   21453 non-null  bool    \n",
      " 7   total_income           21453 non-null  float32 \n",
      " 8   purpose                21453 non-null  object  \n",
      " 9   job_info               21453 non-null  bool    \n",
      " 10  age_group              21453 non-null  category\n",
      " 11  purpose_lemmatized     21453 non-null  object  \n",
      " 12  purpose_classificated  21453 non-null  category\n",
      "dtypes: bool(2), category(6), float32(1), object(2), uint8(2)\n",
      "memory usage: 629.9+ KB\n"
     ]
    }
   ],
   "source": [
    "# теперь когда у нас есть словари education_dict и family_status_dict столбцы education и family_status можно удалить из данных\n",
    "data.drop(['education', 'family_status'], axis=1, inplace=True)\n",
    "data.info()"
   ]
  },
  {
   "cell_type": "markdown",
   "metadata": {},
   "source": [
    "### Вывод"
   ]
  },
  {
   "cell_type": "markdown",
   "metadata": {},
   "source": [
    "Категоризация данных и использование отдельных таблиц-словорей так же позволяет снизить требуемый объем памяти"
   ]
  },
  {
   "cell_type": "markdown",
   "metadata": {},
   "source": [
    "### Шаг 3. Ответьте на вопросы"
   ]
  },
  {
   "cell_type": "markdown",
   "metadata": {},
   "source": [
    "- Есть ли зависимость между наличием детей и возвратом кредита в срок?"
   ]
  },
  {
   "cell_type": "code",
   "execution_count": 54,
   "metadata": {},
   "outputs": [
    {
     "data": {
      "text/html": [
       "<style  type=\"text/css\" >\n",
       "</style><table id=\"T_a0abe9f5_7ba4_11eb_af57_a0b3cc4a14ca\" ><thead>    <tr>        <th class=\"blank level0\" ></th>        <th class=\"col_heading level0 col0\" >count</th>        <th class=\"col_heading level0 col1\" >mean</th>    </tr>    <tr>        <th class=\"index_name level0\" >children</th>        <th class=\"blank\" ></th>        <th class=\"blank\" ></th>    </tr></thead><tbody>\n",
       "                <tr>\n",
       "                        <th id=\"T_a0abe9f5_7ba4_11eb_af57_a0b3cc4a14calevel0_row0\" class=\"row_heading level0 row0\" >0</th>\n",
       "                        <td id=\"T_a0abe9f5_7ba4_11eb_af57_a0b3cc4a14carow0_col0\" class=\"data row0 col0\" >14090</td>\n",
       "                        <td id=\"T_a0abe9f5_7ba4_11eb_af57_a0b3cc4a14carow0_col1\" class=\"data row0 col1\" >7.54%</td>\n",
       "            </tr>\n",
       "            <tr>\n",
       "                        <th id=\"T_a0abe9f5_7ba4_11eb_af57_a0b3cc4a14calevel0_row1\" class=\"row_heading level0 row1\" >1</th>\n",
       "                        <td id=\"T_a0abe9f5_7ba4_11eb_af57_a0b3cc4a14carow1_col0\" class=\"data row1 col0\" >4855</td>\n",
       "                        <td id=\"T_a0abe9f5_7ba4_11eb_af57_a0b3cc4a14carow1_col1\" class=\"data row1 col1\" >9.17%</td>\n",
       "            </tr>\n",
       "            <tr>\n",
       "                        <th id=\"T_a0abe9f5_7ba4_11eb_af57_a0b3cc4a14calevel0_row2\" class=\"row_heading level0 row2\" >2</th>\n",
       "                        <td id=\"T_a0abe9f5_7ba4_11eb_af57_a0b3cc4a14carow2_col0\" class=\"data row2 col0\" >2052</td>\n",
       "                        <td id=\"T_a0abe9f5_7ba4_11eb_af57_a0b3cc4a14carow2_col1\" class=\"data row2 col1\" >9.45%</td>\n",
       "            </tr>\n",
       "            <tr>\n",
       "                        <th id=\"T_a0abe9f5_7ba4_11eb_af57_a0b3cc4a14calevel0_row3\" class=\"row_heading level0 row3\" >3</th>\n",
       "                        <td id=\"T_a0abe9f5_7ba4_11eb_af57_a0b3cc4a14carow3_col0\" class=\"data row3 col0\" >330</td>\n",
       "                        <td id=\"T_a0abe9f5_7ba4_11eb_af57_a0b3cc4a14carow3_col1\" class=\"data row3 col1\" >8.18%</td>\n",
       "            </tr>\n",
       "            <tr>\n",
       "                        <th id=\"T_a0abe9f5_7ba4_11eb_af57_a0b3cc4a14calevel0_row4\" class=\"row_heading level0 row4\" >4</th>\n",
       "                        <td id=\"T_a0abe9f5_7ba4_11eb_af57_a0b3cc4a14carow4_col0\" class=\"data row4 col0\" >41</td>\n",
       "                        <td id=\"T_a0abe9f5_7ba4_11eb_af57_a0b3cc4a14carow4_col1\" class=\"data row4 col1\" >9.76%</td>\n",
       "            </tr>\n",
       "            <tr>\n",
       "                        <th id=\"T_a0abe9f5_7ba4_11eb_af57_a0b3cc4a14calevel0_row5\" class=\"row_heading level0 row5\" >5</th>\n",
       "                        <td id=\"T_a0abe9f5_7ba4_11eb_af57_a0b3cc4a14carow5_col0\" class=\"data row5 col0\" >9</td>\n",
       "                        <td id=\"T_a0abe9f5_7ba4_11eb_af57_a0b3cc4a14carow5_col1\" class=\"data row5 col1\" >0.00%</td>\n",
       "            </tr>\n",
       "            <tr>\n",
       "                        <th id=\"T_a0abe9f5_7ba4_11eb_af57_a0b3cc4a14calevel0_row6\" class=\"row_heading level0 row6\" >20</th>\n",
       "                        <td id=\"T_a0abe9f5_7ba4_11eb_af57_a0b3cc4a14carow6_col0\" class=\"data row6 col0\" >76</td>\n",
       "                        <td id=\"T_a0abe9f5_7ba4_11eb_af57_a0b3cc4a14carow6_col1\" class=\"data row6 col1\" >10.53%</td>\n",
       "            </tr>\n",
       "    </tbody></table>"
      ],
      "text/plain": [
       "<pandas.io.formats.style.Styler at 0x235bc3c34c0>"
      ]
     },
     "execution_count": 54,
     "metadata": {},
     "output_type": "execute_result"
    }
   ],
   "source": [
    "# сгруппируем данные по количеству детей и оценим вероятность просрочки кредитов для каждой группы\n",
    "data.groupby('children')['debt'].agg(['count','mean']).style.format({'mean': '{:.2%}'})"
   ]
  },
  {
   "cell_type": "code",
   "execution_count": 55,
   "metadata": {},
   "outputs": [
    {
     "data": {
      "image/png": "[encoded data removed]",
      "text/plain": [
       "<Figure size 1080x360 with 1 Axes>"
      ]
     },
     "metadata": {
      "needs_background": "light"
     },
     "output_type": "display_data"
    }
   ],
   "source": [
    "# построим график зависимости вероятности просрочки от количества детей\n",
    "(data.groupby('children')['debt'].agg(['mean']).plot(kind='bar', figsize=(15, 5), ylim=(0.06, 0.11), rot=0)\n",
    "                                 .set(xlabel='Количество детей в семье',\n",
    "                                      ylabel='Доля просрочки по кредитам',\n",
    "                                      title='Зависимость просрочки по кредитам от количества детей'));"
   ]
  },
  {
   "cell_type": "markdown",
   "metadata": {},
   "source": [
    "### Вывод"
   ]
  },
  {
   "cell_type": "markdown",
   "metadata": {},
   "source": [
    "Выборка по людям с количеством детей три и выше является очень маленькой и не репрезентативной. Рассмотрим лишь группы заемщиков которые имеют от нуля до двух детей как наиболее часто встречающиеся. Согласно полученным данным заемщики не имеющие детей реже всего допускают просрочку по кредитам (7,5%). Наличие хотя бы одного ребенка увеличивает вероятность просрочки у заемщика до 9,2% (увеличение на 1,7%), а наличие двух детей до 9,5%. Таким образом можно считать подтвержденной гипотезу о том, что имеется зависимость между наличием детей и возвратом кредита в срок"
   ]
  },
  {
   "cell_type": "markdown",
   "metadata": {},
   "source": [
    "- Есть ли зависимость между семейным положением и возвратом кредита в срок?"
   ]
  },
  {
   "cell_type": "code",
   "execution_count": 56,
   "metadata": {},
   "outputs": [
    {
     "data": {
      "text/html": [
       "<style  type=\"text/css\" >\n",
       "</style><table id=\"T_a0fd99d7_7ba4_11eb_a426_a0b3cc4a14ca\" ><thead>    <tr>        <th class=\"blank level0\" ></th>        <th class=\"col_heading level0 col0\" >family_status_id</th>        <th class=\"col_heading level0 col1\" >count</th>        <th class=\"col_heading level0 col2\" >mean</th>        <th class=\"col_heading level0 col3\" >family_status</th>    </tr></thead><tbody>\n",
       "                <tr>\n",
       "                        <th id=\"T_a0fd99d7_7ba4_11eb_a426_a0b3cc4a14calevel0_row0\" class=\"row_heading level0 row0\" >0</th>\n",
       "                        <td id=\"T_a0fd99d7_7ba4_11eb_a426_a0b3cc4a14carow0_col0\" class=\"data row0 col0\" >0</td>\n",
       "                        <td id=\"T_a0fd99d7_7ba4_11eb_a426_a0b3cc4a14carow0_col1\" class=\"data row0 col1\" >12339</td>\n",
       "                        <td id=\"T_a0fd99d7_7ba4_11eb_a426_a0b3cc4a14carow0_col2\" class=\"data row0 col2\" >7.55%</td>\n",
       "                        <td id=\"T_a0fd99d7_7ba4_11eb_a426_a0b3cc4a14carow0_col3\" class=\"data row0 col3\" >женат / замужем</td>\n",
       "            </tr>\n",
       "            <tr>\n",
       "                        <th id=\"T_a0fd99d7_7ba4_11eb_a426_a0b3cc4a14calevel0_row1\" class=\"row_heading level0 row1\" >1</th>\n",
       "                        <td id=\"T_a0fd99d7_7ba4_11eb_a426_a0b3cc4a14carow1_col0\" class=\"data row1 col0\" >1</td>\n",
       "                        <td id=\"T_a0fd99d7_7ba4_11eb_a426_a0b3cc4a14carow1_col1\" class=\"data row1 col1\" >4150</td>\n",
       "                        <td id=\"T_a0fd99d7_7ba4_11eb_a426_a0b3cc4a14carow1_col2\" class=\"data row1 col2\" >9.35%</td>\n",
       "                        <td id=\"T_a0fd99d7_7ba4_11eb_a426_a0b3cc4a14carow1_col3\" class=\"data row1 col3\" >гражданский брак</td>\n",
       "            </tr>\n",
       "            <tr>\n",
       "                        <th id=\"T_a0fd99d7_7ba4_11eb_a426_a0b3cc4a14calevel0_row2\" class=\"row_heading level0 row2\" >2</th>\n",
       "                        <td id=\"T_a0fd99d7_7ba4_11eb_a426_a0b3cc4a14carow2_col0\" class=\"data row2 col0\" >2</td>\n",
       "                        <td id=\"T_a0fd99d7_7ba4_11eb_a426_a0b3cc4a14carow2_col1\" class=\"data row2 col1\" >959</td>\n",
       "                        <td id=\"T_a0fd99d7_7ba4_11eb_a426_a0b3cc4a14carow2_col2\" class=\"data row2 col2\" >6.57%</td>\n",
       "                        <td id=\"T_a0fd99d7_7ba4_11eb_a426_a0b3cc4a14carow2_col3\" class=\"data row2 col3\" >вдовец / вдова</td>\n",
       "            </tr>\n",
       "            <tr>\n",
       "                        <th id=\"T_a0fd99d7_7ba4_11eb_a426_a0b3cc4a14calevel0_row3\" class=\"row_heading level0 row3\" >3</th>\n",
       "                        <td id=\"T_a0fd99d7_7ba4_11eb_a426_a0b3cc4a14carow3_col0\" class=\"data row3 col0\" >3</td>\n",
       "                        <td id=\"T_a0fd99d7_7ba4_11eb_a426_a0b3cc4a14carow3_col1\" class=\"data row3 col1\" >1195</td>\n",
       "                        <td id=\"T_a0fd99d7_7ba4_11eb_a426_a0b3cc4a14carow3_col2\" class=\"data row3 col2\" >7.11%</td>\n",
       "                        <td id=\"T_a0fd99d7_7ba4_11eb_a426_a0b3cc4a14carow3_col3\" class=\"data row3 col3\" >в разводе</td>\n",
       "            </tr>\n",
       "            <tr>\n",
       "                        <th id=\"T_a0fd99d7_7ba4_11eb_a426_a0b3cc4a14calevel0_row4\" class=\"row_heading level0 row4\" >4</th>\n",
       "                        <td id=\"T_a0fd99d7_7ba4_11eb_a426_a0b3cc4a14carow4_col0\" class=\"data row4 col0\" >4</td>\n",
       "                        <td id=\"T_a0fd99d7_7ba4_11eb_a426_a0b3cc4a14carow4_col1\" class=\"data row4 col1\" >2810</td>\n",
       "                        <td id=\"T_a0fd99d7_7ba4_11eb_a426_a0b3cc4a14carow4_col2\" class=\"data row4 col2\" >9.75%</td>\n",
       "                        <td id=\"T_a0fd99d7_7ba4_11eb_a426_a0b3cc4a14carow4_col3\" class=\"data row4 col3\" >Не женат / не замужем</td>\n",
       "            </tr>\n",
       "    </tbody></table>"
      ],
      "text/plain": [
       "<pandas.io.formats.style.Styler at 0x235bbf391f0>"
      ]
     },
     "execution_count": 56,
     "metadata": {},
     "output_type": "execute_result"
    }
   ],
   "source": [
    "# сгруппируем данные по идентификатору семейного статуса и оценим вероятность просрочки кредитов для каждой группы\n",
    "# дополнительно для удобства присоеденим к таблице расшифровку индентификаторов семейного статуса из словаря family_status_dict\n",
    "(data.groupby('family_status_id')['debt'].agg(['count','mean']).merge(family_status_dict, on='family_status_id')\n",
    "                                         .style.format({'mean': '{:.2%}'}))"
   ]
  },
  {
   "cell_type": "code",
   "execution_count": 57,
   "metadata": {},
   "outputs": [
    {
     "data": {
      "image/png": "[encoded data removed]",
      "text/plain": [
       "<Figure size 1080x360 with 1 Axes>"
      ]
     },
     "metadata": {
      "needs_background": "light"
     },
     "output_type": "display_data"
    }
   ],
   "source": [
    "# построим график зависимости вероятности просрочки от идентификатора семейного положения\n",
    "(data.groupby('family_status_id')['debt'].agg(['mean']).plot(kind='bar', figsize=(15, 5), ylim=(0.06, 0.11), rot=0)\n",
    "                                         .set(xlabel='Идентификатор семейного положения',\n",
    "                                              ylabel='Доля просрочки по кредитам',\n",
    "                                              title='Зависимость просрочки по кредитам от семейного положения'));"
   ]
  },
  {
   "cell_type": "markdown",
   "metadata": {},
   "source": [
    "### Вывод"
   ]
  },
  {
   "cell_type": "markdown",
   "metadata": {},
   "source": [
    "Гипотеза о том, что между семейным положением и возвратом кредита в срок имеется зависимость подтвердилась. Чаще всего просрочку допускают не женатые / не замужние люди (порядка 9,8%), а так же люди живущие в гражданском браке (9,3%), а вот вероятность просрочки у женатых / замужних составляет всего 7,5%"
   ]
  },
  {
   "cell_type": "markdown",
   "metadata": {},
   "source": [
    "- Есть ли зависимость между уровнем дохода и возвратом кредита в срок?"
   ]
  },
  {
   "cell_type": "code",
   "execution_count": 58,
   "metadata": {},
   "outputs": [
    {
     "data": {
      "text/html": [
       "<style  type=\"text/css\" >\n",
       "</style><table id=\"T_a13dd097_7ba4_11eb_bff1_a0b3cc4a14ca\" ><thead>    <tr>        <th class=\"blank level0\" ></th>        <th class=\"col_heading level0 col0\" >count</th>        <th class=\"col_heading level0 col1\" >mean</th>    </tr>    <tr>        <th class=\"index_name level0\" >income_category</th>        <th class=\"blank\" ></th>        <th class=\"blank\" ></th>    </tr></thead><tbody>\n",
       "                <tr>\n",
       "                        <th id=\"T_a13dd097_7ba4_11eb_bff1_a0b3cc4a14calevel0_row0\" class=\"row_heading level0 row0\" >(0, 50000]</th>\n",
       "                        <td id=\"T_a13dd097_7ba4_11eb_bff1_a0b3cc4a14carow0_col0\" class=\"data row0 col0\" >372</td>\n",
       "                        <td id=\"T_a13dd097_7ba4_11eb_bff1_a0b3cc4a14carow0_col1\" class=\"data row0 col1\" >6.18%</td>\n",
       "            </tr>\n",
       "            <tr>\n",
       "                        <th id=\"T_a13dd097_7ba4_11eb_bff1_a0b3cc4a14calevel0_row1\" class=\"row_heading level0 row1\" >(50000, 100000]</th>\n",
       "                        <td id=\"T_a13dd097_7ba4_11eb_bff1_a0b3cc4a14carow1_col0\" class=\"data row1 col0\" >4092</td>\n",
       "                        <td id=\"T_a13dd097_7ba4_11eb_bff1_a0b3cc4a14carow1_col1\" class=\"data row1 col1\" >8.09%</td>\n",
       "            </tr>\n",
       "            <tr>\n",
       "                        <th id=\"T_a13dd097_7ba4_11eb_bff1_a0b3cc4a14calevel0_row2\" class=\"row_heading level0 row2\" >(100000, 150000]</th>\n",
       "                        <td id=\"T_a13dd097_7ba4_11eb_bff1_a0b3cc4a14carow2_col0\" class=\"data row2 col0\" >6903</td>\n",
       "                        <td id=\"T_a13dd097_7ba4_11eb_bff1_a0b3cc4a14carow2_col1\" class=\"data row2 col1\" >8.47%</td>\n",
       "            </tr>\n",
       "            <tr>\n",
       "                        <th id=\"T_a13dd097_7ba4_11eb_bff1_a0b3cc4a14calevel0_row3\" class=\"row_heading level0 row3\" >(150000, 200000]</th>\n",
       "                        <td id=\"T_a13dd097_7ba4_11eb_bff1_a0b3cc4a14carow3_col0\" class=\"data row3 col0\" >4895</td>\n",
       "                        <td id=\"T_a13dd097_7ba4_11eb_bff1_a0b3cc4a14carow3_col1\" class=\"data row3 col1\" >8.99%</td>\n",
       "            </tr>\n",
       "            <tr>\n",
       "                        <th id=\"T_a13dd097_7ba4_11eb_bff1_a0b3cc4a14calevel0_row4\" class=\"row_heading level0 row4\" >(200000, 250000]</th>\n",
       "                        <td id=\"T_a13dd097_7ba4_11eb_bff1_a0b3cc4a14carow4_col0\" class=\"data row4 col0\" >2379</td>\n",
       "                        <td id=\"T_a13dd097_7ba4_11eb_bff1_a0b3cc4a14carow4_col1\" class=\"data row4 col1\" >7.06%</td>\n",
       "            </tr>\n",
       "            <tr>\n",
       "                        <th id=\"T_a13dd097_7ba4_11eb_bff1_a0b3cc4a14calevel0_row5\" class=\"row_heading level0 row5\" >(250000, 300000]</th>\n",
       "                        <td id=\"T_a13dd097_7ba4_11eb_bff1_a0b3cc4a14carow5_col0\" class=\"data row5 col0\" >1330</td>\n",
       "                        <td id=\"T_a13dd097_7ba4_11eb_bff1_a0b3cc4a14carow5_col1\" class=\"data row5 col1\" >6.62%</td>\n",
       "            </tr>\n",
       "            <tr>\n",
       "                        <th id=\"T_a13dd097_7ba4_11eb_bff1_a0b3cc4a14calevel0_row6\" class=\"row_heading level0 row6\" >(300000, 450000]</th>\n",
       "                        <td id=\"T_a13dd097_7ba4_11eb_bff1_a0b3cc4a14carow6_col0\" class=\"data row6 col0\" >1150</td>\n",
       "                        <td id=\"T_a13dd097_7ba4_11eb_bff1_a0b3cc4a14carow6_col1\" class=\"data row6 col1\" >7.65%</td>\n",
       "            </tr>\n",
       "            <tr>\n",
       "                        <th id=\"T_a13dd097_7ba4_11eb_bff1_a0b3cc4a14calevel0_row7\" class=\"row_heading level0 row7\" >(450000, 500000]</th>\n",
       "                        <td id=\"T_a13dd097_7ba4_11eb_bff1_a0b3cc4a14carow7_col0\" class=\"data row7 col0\" >110</td>\n",
       "                        <td id=\"T_a13dd097_7ba4_11eb_bff1_a0b3cc4a14carow7_col1\" class=\"data row7 col1\" >3.64%</td>\n",
       "            </tr>\n",
       "            <tr>\n",
       "                        <th id=\"T_a13dd097_7ba4_11eb_bff1_a0b3cc4a14calevel0_row8\" class=\"row_heading level0 row8\" >(500000, 550000]</th>\n",
       "                        <td id=\"T_a13dd097_7ba4_11eb_bff1_a0b3cc4a14carow8_col0\" class=\"data row8 col0\" >68</td>\n",
       "                        <td id=\"T_a13dd097_7ba4_11eb_bff1_a0b3cc4a14carow8_col1\" class=\"data row8 col1\" >7.35%</td>\n",
       "            </tr>\n",
       "            <tr>\n",
       "                        <th id=\"T_a13dd097_7ba4_11eb_bff1_a0b3cc4a14calevel0_row9\" class=\"row_heading level0 row9\" >(550000, 600000]</th>\n",
       "                        <td id=\"T_a13dd097_7ba4_11eb_bff1_a0b3cc4a14carow9_col0\" class=\"data row9 col0\" >45</td>\n",
       "                        <td id=\"T_a13dd097_7ba4_11eb_bff1_a0b3cc4a14carow9_col1\" class=\"data row9 col1\" >2.22%</td>\n",
       "            </tr>\n",
       "            <tr>\n",
       "                        <th id=\"T_a13dd097_7ba4_11eb_bff1_a0b3cc4a14calevel0_row10\" class=\"row_heading level0 row10\" >(600000, 650000]</th>\n",
       "                        <td id=\"T_a13dd097_7ba4_11eb_bff1_a0b3cc4a14carow10_col0\" class=\"data row10 col0\" >21</td>\n",
       "                        <td id=\"T_a13dd097_7ba4_11eb_bff1_a0b3cc4a14carow10_col1\" class=\"data row10 col1\" >14.29%</td>\n",
       "            </tr>\n",
       "            <tr>\n",
       "                        <th id=\"T_a13dd097_7ba4_11eb_bff1_a0b3cc4a14calevel0_row11\" class=\"row_heading level0 row11\" >(650000, 700000]</th>\n",
       "                        <td id=\"T_a13dd097_7ba4_11eb_bff1_a0b3cc4a14carow11_col0\" class=\"data row11 col0\" >27</td>\n",
       "                        <td id=\"T_a13dd097_7ba4_11eb_bff1_a0b3cc4a14carow11_col1\" class=\"data row11 col1\" >0.00%</td>\n",
       "            </tr>\n",
       "            <tr>\n",
       "                        <th id=\"T_a13dd097_7ba4_11eb_bff1_a0b3cc4a14calevel0_row12\" class=\"row_heading level0 row12\" >(700000, 750000]</th>\n",
       "                        <td id=\"T_a13dd097_7ba4_11eb_bff1_a0b3cc4a14carow12_col0\" class=\"data row12 col0\" >12</td>\n",
       "                        <td id=\"T_a13dd097_7ba4_11eb_bff1_a0b3cc4a14carow12_col1\" class=\"data row12 col1\" >8.33%</td>\n",
       "            </tr>\n",
       "            <tr>\n",
       "                        <th id=\"T_a13dd097_7ba4_11eb_bff1_a0b3cc4a14calevel0_row13\" class=\"row_heading level0 row13\" >(750000, 999999999]</th>\n",
       "                        <td id=\"T_a13dd097_7ba4_11eb_bff1_a0b3cc4a14carow13_col0\" class=\"data row13 col0\" >49</td>\n",
       "                        <td id=\"T_a13dd097_7ba4_11eb_bff1_a0b3cc4a14carow13_col1\" class=\"data row13 col1\" >8.16%</td>\n",
       "            </tr>\n",
       "    </tbody></table>"
      ],
      "text/plain": [
       "<pandas.io.formats.style.Styler at 0x235bbf54880>"
      ]
     },
     "execution_count": 58,
     "metadata": {},
     "output_type": "execute_result"
    }
   ],
   "source": [
    "# Разабъем заемщиков по категориям с помощью метода cut. Границы категорий определяются переменной bins\n",
    "bins = [0, 50000, 100000, 150000, 200000, 250000, 300000, 450000, 500000, 550000, 600000, 650000, 700000, 750000, 999999999]\n",
    "data['income_category'] = pd.cut(data['total_income'], bins)\n",
    "data.groupby('income_category')['debt'].agg(['count','mean']).style.format({'mean': '{:.2%}'})"
   ]
  },
  {
   "cell_type": "code",
   "execution_count": 59,
   "metadata": {},
   "outputs": [
    {
     "data": {
      "image/png": "[encoded data removed]",
      "text/plain": [
       "<Figure size 1080x360 with 1 Axes>"
      ]
     },
     "metadata": {
      "needs_background": "light"
     },
     "output_type": "display_data"
    }
   ],
   "source": [
    "(data.groupby('income_category')['debt'].agg(['mean']).plot(kind='bar', figsize=(15, 5), ylim=(0.05, 0.1), rot=60)\n",
    "     .set(xlabel='Ежемесячный доход',\n",
    "          ylabel='Доля просрочки по кредитам',\n",
    "          title='Зависимость просрочки по кредитам от ежемесячного дохода'));"
   ]
  },
  {
   "cell_type": "markdown",
   "metadata": {},
   "source": [
    "### Вывод"
   ]
  },
  {
   "cell_type": "markdown",
   "metadata": {},
   "source": [
    "Выборка по заемщикам с уровнями дохода более 450 000 в месяц является нерепрезентативной в виду малого колчества людей в указанных категориях. С увеличением дохода выше 150 000 в месяц люди реже обращаются за кредитами. Ответ на вопрос о наличии зависимости между уровнем дохода и возвратом кредита в срок неоднозначен. Вероятность просрочки с одной стороны увеличивается с увеличением зарплаты от диапазона 0-50000 к диапазону 150000-200000, с другой стороны при дальнейшем увеличении доходов снижается. Возможно влияет то, что в диапазоне доходов от 100000 до 200000 сосредоточена основная часть заемщиков, а как следствие основная часть просрочки ложиться на эту социальную группу. Таки образом однозначной зависимости между уровнем дохода и возвратом кредита в срок установить не удалось."
   ]
  },
  {
   "cell_type": "markdown",
   "metadata": {},
   "source": [
    "- Как разные цели кредита влияют на его возврат в срок?"
   ]
  },
  {
   "cell_type": "code",
   "execution_count": 60,
   "metadata": {},
   "outputs": [
    {
     "data": {
      "text/html": [
       "<style  type=\"text/css\" >\n",
       "</style><table id=\"T_a1802dfa_7ba4_11eb_be50_a0b3cc4a14ca\" ><thead>    <tr>        <th class=\"blank level0\" ></th>        <th class=\"col_heading level0 col0\" >count</th>        <th class=\"col_heading level0 col1\" >mean</th>    </tr>    <tr>        <th class=\"index_name level0\" >purpose_classificated</th>        <th class=\"blank\" ></th>        <th class=\"blank\" ></th>    </tr></thead><tbody>\n",
       "                <tr>\n",
       "                        <th id=\"T_a1802dfa_7ba4_11eb_be50_a0b3cc4a14calevel0_row0\" class=\"row_heading level0 row0\" >автомобиль</th>\n",
       "                        <td id=\"T_a1802dfa_7ba4_11eb_be50_a0b3cc4a14carow0_col0\" class=\"data row0 col0\" >4306</td>\n",
       "                        <td id=\"T_a1802dfa_7ba4_11eb_be50_a0b3cc4a14carow0_col1\" class=\"data row0 col1\" >9.36%</td>\n",
       "            </tr>\n",
       "            <tr>\n",
       "                        <th id=\"T_a1802dfa_7ba4_11eb_be50_a0b3cc4a14calevel0_row1\" class=\"row_heading level0 row1\" >недвижимость</th>\n",
       "                        <td id=\"T_a1802dfa_7ba4_11eb_be50_a0b3cc4a14carow1_col0\" class=\"data row1 col0\" >10810</td>\n",
       "                        <td id=\"T_a1802dfa_7ba4_11eb_be50_a0b3cc4a14carow1_col1\" class=\"data row1 col1\" >7.23%</td>\n",
       "            </tr>\n",
       "            <tr>\n",
       "                        <th id=\"T_a1802dfa_7ba4_11eb_be50_a0b3cc4a14calevel0_row2\" class=\"row_heading level0 row2\" >образование</th>\n",
       "                        <td id=\"T_a1802dfa_7ba4_11eb_be50_a0b3cc4a14carow2_col0\" class=\"data row2 col0\" >4013</td>\n",
       "                        <td id=\"T_a1802dfa_7ba4_11eb_be50_a0b3cc4a14carow2_col1\" class=\"data row2 col1\" >9.22%</td>\n",
       "            </tr>\n",
       "            <tr>\n",
       "                        <th id=\"T_a1802dfa_7ba4_11eb_be50_a0b3cc4a14calevel0_row3\" class=\"row_heading level0 row3\" >свадьба</th>\n",
       "                        <td id=\"T_a1802dfa_7ba4_11eb_be50_a0b3cc4a14carow3_col0\" class=\"data row3 col0\" >2324</td>\n",
       "                        <td id=\"T_a1802dfa_7ba4_11eb_be50_a0b3cc4a14carow3_col1\" class=\"data row3 col1\" >8.00%</td>\n",
       "            </tr>\n",
       "    </tbody></table>"
      ],
      "text/plain": [
       "<pandas.io.formats.style.Styler at 0x235bbb35970>"
      ]
     },
     "execution_count": 60,
     "metadata": {},
     "output_type": "execute_result"
    }
   ],
   "source": [
    "data.groupby('purpose_classificated')['debt'].agg(['count','mean']).style.format({'mean': '{:.2%}'})"
   ]
  },
  {
   "cell_type": "code",
   "execution_count": 61,
   "metadata": {},
   "outputs": [
    {
     "data": {
      "image/png": "[encoded data removed]",
      "text/plain": [
       "<Figure size 1080x360 with 1 Axes>"
      ]
     },
     "metadata": {
      "needs_background": "light"
     },
     "output_type": "display_data"
    }
   ],
   "source": [
    "(data.groupby('purpose_classificated')['debt'].agg(['mean']).plot(kind='bar', figsize=(15, 5), ylim=(0.05, 0.1), rot=0)\n",
    "     .set(xlabel='Цель кредита',\n",
    "          ylabel='Доля просрочки по кредитам',\n",
    "          title='Зависимость просрочки по кредитам от цели займа'));"
   ]
  },
  {
   "cell_type": "markdown",
   "metadata": {},
   "source": [
    "### Вывод"
   ]
  },
  {
   "cell_type": "markdown",
   "metadata": {},
   "source": [
    "Ипотека (кредит на недвижимость) является наименее рискованным для банка из всех рассматриваемых типов кредитов. Доля просрочки по таким кредитам составляет порядка 7,2%. Чуть хуже возращаются кредиты на свадьбу - просрочка составляет 8,0%. Еще хуже обстоят дела с кредитами на образование и автомобили (9,2% и 9,4% соответственно)"
   ]
  },
  {
   "cell_type": "markdown",
   "metadata": {},
   "source": [
    "####  Дополнительные оценки\n",
    "Дополнительно оценим как на просрочку влияет уровень образования, а так же то указывал клиент свои доходы при получении кредита или нет\n",
    "- Есть ли зависимость между уровнем образования и возвратом кредита в срок?"
   ]
  },
  {
   "cell_type": "code",
   "execution_count": 62,
   "metadata": {},
   "outputs": [
    {
     "data": {
      "text/html": [
       "<style  type=\"text/css\" >\n",
       "</style><table id=\"T_a1c6af51_7ba4_11eb_999f_a0b3cc4a14ca\" ><thead>    <tr>        <th class=\"blank level0\" ></th>        <th class=\"col_heading level0 col0\" >education_id</th>        <th class=\"col_heading level0 col1\" >count</th>        <th class=\"col_heading level0 col2\" >mean</th>        <th class=\"col_heading level0 col3\" >education</th>    </tr></thead><tbody>\n",
       "                <tr>\n",
       "                        <th id=\"T_a1c6af51_7ba4_11eb_999f_a0b3cc4a14calevel0_row0\" class=\"row_heading level0 row0\" >0</th>\n",
       "                        <td id=\"T_a1c6af51_7ba4_11eb_999f_a0b3cc4a14carow0_col0\" class=\"data row0 col0\" >0</td>\n",
       "                        <td id=\"T_a1c6af51_7ba4_11eb_999f_a0b3cc4a14carow0_col1\" class=\"data row0 col1\" >5250</td>\n",
       "                        <td id=\"T_a1c6af51_7ba4_11eb_999f_a0b3cc4a14carow0_col2\" class=\"data row0 col2\" >5.30%</td>\n",
       "                        <td id=\"T_a1c6af51_7ba4_11eb_999f_a0b3cc4a14carow0_col3\" class=\"data row0 col3\" >высшее</td>\n",
       "            </tr>\n",
       "            <tr>\n",
       "                        <th id=\"T_a1c6af51_7ba4_11eb_999f_a0b3cc4a14calevel0_row1\" class=\"row_heading level0 row1\" >1</th>\n",
       "                        <td id=\"T_a1c6af51_7ba4_11eb_999f_a0b3cc4a14carow1_col0\" class=\"data row1 col0\" >1</td>\n",
       "                        <td id=\"T_a1c6af51_7ba4_11eb_999f_a0b3cc4a14carow1_col1\" class=\"data row1 col1\" >15172</td>\n",
       "                        <td id=\"T_a1c6af51_7ba4_11eb_999f_a0b3cc4a14carow1_col2\" class=\"data row1 col2\" >8.99%</td>\n",
       "                        <td id=\"T_a1c6af51_7ba4_11eb_999f_a0b3cc4a14carow1_col3\" class=\"data row1 col3\" >среднее</td>\n",
       "            </tr>\n",
       "            <tr>\n",
       "                        <th id=\"T_a1c6af51_7ba4_11eb_999f_a0b3cc4a14calevel0_row2\" class=\"row_heading level0 row2\" >2</th>\n",
       "                        <td id=\"T_a1c6af51_7ba4_11eb_999f_a0b3cc4a14carow2_col0\" class=\"data row2 col0\" >2</td>\n",
       "                        <td id=\"T_a1c6af51_7ba4_11eb_999f_a0b3cc4a14carow2_col1\" class=\"data row2 col1\" >743</td>\n",
       "                        <td id=\"T_a1c6af51_7ba4_11eb_999f_a0b3cc4a14carow2_col2\" class=\"data row2 col2\" >9.15%</td>\n",
       "                        <td id=\"T_a1c6af51_7ba4_11eb_999f_a0b3cc4a14carow2_col3\" class=\"data row2 col3\" >неоконченное высшее</td>\n",
       "            </tr>\n",
       "            <tr>\n",
       "                        <th id=\"T_a1c6af51_7ba4_11eb_999f_a0b3cc4a14calevel0_row3\" class=\"row_heading level0 row3\" >3</th>\n",
       "                        <td id=\"T_a1c6af51_7ba4_11eb_999f_a0b3cc4a14carow3_col0\" class=\"data row3 col0\" >3</td>\n",
       "                        <td id=\"T_a1c6af51_7ba4_11eb_999f_a0b3cc4a14carow3_col1\" class=\"data row3 col1\" >282</td>\n",
       "                        <td id=\"T_a1c6af51_7ba4_11eb_999f_a0b3cc4a14carow3_col2\" class=\"data row3 col2\" >10.99%</td>\n",
       "                        <td id=\"T_a1c6af51_7ba4_11eb_999f_a0b3cc4a14carow3_col3\" class=\"data row3 col3\" >начальное</td>\n",
       "            </tr>\n",
       "            <tr>\n",
       "                        <th id=\"T_a1c6af51_7ba4_11eb_999f_a0b3cc4a14calevel0_row4\" class=\"row_heading level0 row4\" >4</th>\n",
       "                        <td id=\"T_a1c6af51_7ba4_11eb_999f_a0b3cc4a14carow4_col0\" class=\"data row4 col0\" >4</td>\n",
       "                        <td id=\"T_a1c6af51_7ba4_11eb_999f_a0b3cc4a14carow4_col1\" class=\"data row4 col1\" >6</td>\n",
       "                        <td id=\"T_a1c6af51_7ba4_11eb_999f_a0b3cc4a14carow4_col2\" class=\"data row4 col2\" >0.00%</td>\n",
       "                        <td id=\"T_a1c6af51_7ba4_11eb_999f_a0b3cc4a14carow4_col3\" class=\"data row4 col3\" >ученая степень</td>\n",
       "            </tr>\n",
       "    </tbody></table>"
      ],
      "text/plain": [
       "<pandas.io.formats.style.Styler at 0x235bc76a4f0>"
      ]
     },
     "execution_count": 62,
     "metadata": {},
     "output_type": "execute_result"
    }
   ],
   "source": [
    "# сгруппируем данные по идентификатору уровня образования и оценим вероятность просрочки кредитов для каждой группы\n",
    "# дополнительно для удобства присоеденим к таблице расшифровку индентификаторов из словаря education_dict\n",
    "(data.groupby('education_id')['debt'].agg(['count','mean']).merge(education_dict, on='education_id')\n",
    "     .style.format({'mean': '{:.2%}'}))"
   ]
  },
  {
   "cell_type": "code",
   "execution_count": 63,
   "metadata": {},
   "outputs": [
    {
     "data": {
      "image/png": "[encoded data removed]",
      "text/plain": [
       "<Figure size 1080x360 with 1 Axes>"
      ]
     },
     "metadata": {
      "needs_background": "light"
     },
     "output_type": "display_data"
    }
   ],
   "source": [
    "(data.groupby('education_id')['debt'].agg(['mean']).plot(kind='bar', figsize=(15, 5), ylim=(0.05, 0.12), rot=0)\n",
    "     .set(xlabel='Идентификатор типа образования',\n",
    "          ylabel='Доля просрочки по кредитам',\n",
    "          title='Зависимость просрочки по кредитам от уровня образования'));"
   ]
  },
  {
   "cell_type": "markdown",
   "metadata": {},
   "source": [
    "### Вывод"
   ]
  },
  {
   "cell_type": "markdown",
   "metadata": {},
   "source": [
    "Уровень образования оказывает значительное влияние на возвратность кредитов. Если люди со средним образованием допускают просрочку в 9,0% случаев, то люди с высшим образованием только в 5,3% случаев. Таким образом зависимость между уровнем образования и возвратом кредита в срок имеется. Так же следует отметить что чаще всего за кредитами обращаются люди со средним образованием (в трое чаще чем люди с высшим образованием)"
   ]
  },
  {
   "cell_type": "markdown",
   "metadata": {},
   "source": [
    "- Есть ли зависимость между тем указывал ли заемщик данные о своих доходах или нет и возвратом кредита в срок?"
   ]
  },
  {
   "cell_type": "code",
   "execution_count": 64,
   "metadata": {
    "scrolled": true
   },
   "outputs": [
    {
     "data": {
      "text/html": [
       "<style  type=\"text/css\" >\n",
       "</style><table id=\"T_a2059d2a_7ba4_11eb_96e1_a0b3cc4a14ca\" ><thead>    <tr>        <th class=\"blank level0\" ></th>        <th class=\"col_heading level0 col0\" >count</th>        <th class=\"col_heading level0 col1\" >mean</th>    </tr>    <tr>        <th class=\"index_name level0\" >job_info</th>        <th class=\"blank\" ></th>        <th class=\"blank\" ></th>    </tr></thead><tbody>\n",
       "                <tr>\n",
       "                        <th id=\"T_a2059d2a_7ba4_11eb_96e1_a0b3cc4a14calevel0_row0\" class=\"row_heading level0 row0\" >False</th>\n",
       "                        <td id=\"T_a2059d2a_7ba4_11eb_96e1_a0b3cc4a14carow0_col0\" class=\"data row0 col0\" >2103</td>\n",
       "                        <td id=\"T_a2059d2a_7ba4_11eb_96e1_a0b3cc4a14carow0_col1\" class=\"data row0 col1\" >8.08%</td>\n",
       "            </tr>\n",
       "            <tr>\n",
       "                        <th id=\"T_a2059d2a_7ba4_11eb_96e1_a0b3cc4a14calevel0_row1\" class=\"row_heading level0 row1\" >True</th>\n",
       "                        <td id=\"T_a2059d2a_7ba4_11eb_96e1_a0b3cc4a14carow1_col0\" class=\"data row1 col0\" >19350</td>\n",
       "                        <td id=\"T_a2059d2a_7ba4_11eb_96e1_a0b3cc4a14carow1_col1\" class=\"data row1 col1\" >8.12%</td>\n",
       "            </tr>\n",
       "    </tbody></table>"
      ],
      "text/plain": [
       "<pandas.io.formats.style.Styler at 0x235bc187370>"
      ]
     },
     "execution_count": 64,
     "metadata": {},
     "output_type": "execute_result"
    }
   ],
   "source": [
    "data.groupby('job_info')['debt'].agg(['count','mean']).style.format({'mean': '{:.2%}'})"
   ]
  },
  {
   "cell_type": "markdown",
   "metadata": {},
   "source": [
    "### Вывод"
   ]
  },
  {
   "cell_type": "markdown",
   "metadata": {},
   "source": [
    "Зависимости между тем указывал ли заемщик данные о своих доходах или нет и возвратом кредита в срок не наблюдается, что говорит о высоком качестве скоринговой системы банка которая может оценить возвратность кредита даже в отсутствии априорной информации о доходах."
   ]
  },
  {
   "cell_type": "markdown",
   "metadata": {},
   "source": [
    "### Шаг 4. Общий вывод"
   ]
  },
  {
   "cell_type": "markdown",
   "metadata": {},
   "source": [
    "**В процессе данного исследования были проведены следующие работы:**\n",
    "1. Проведен обзор предоставленных данных, изучена общая информация выявленны ключевые проблемы которые необходимо решить на этапе предобработки данных (наличие пропусков и дубликатов, в данных имелись люди с нулевым возрастом, отрицательным количеством детей и трудовым стажем более 1000 лет)\n",
    "2. Проведена предобработка данных. Для заполнения пропусков были выявлены зависимости доходов заемщиков от пола, возраста, уровня образования и источника доходов. Замененены некорректные данные в столбцах с возрастом и количеством детей. Столбец  с трудовым стажем удален, так как информация из него не нужна для ответа на поставленные заказчиком вопросы\n",
    "3. Выделены леммы в столбце с целями получения кредита, проведена классификация каждой строки в данных по принадлежности к определенному типу кредита\n",
    "4. Исследованы поставленные Заказчиком вопросы и дополнительные предположения\n",
    "\n",
    "**По результатам исследования установлено:**\n",
    "*  Зависимость между наличием детей и возвратом кредита в срок имеется. Заемщики не имеющие детей реже всего допускают просрочку по кредитам (7,5%). Наличие хотя бы одного ребенка увеличивает вероятность просрочки у заемщика до 9,2%, а наличие двух детей до 9,5%\n",
    "* Зависимось между семейным положением и возвратом кредита в срок имеется.Чаще всего просрочку допускают не женатые / не замужние люди (порядка 9,8%), а так же люди живущие в гражданском браке (9,3%), а вот вероятность просрочки у женатых / замужних составляет всего 7,5%\n",
    "* Однозначной зависимости между уровнем дохода и возвратом кредита в срок установить не удалось. Вероятность просрочки с одной стороны увеличивается с увеличением зарплаты от диапазона 0-50000 к диапазону 150000-200000, с другой стороны при дальнейшем увеличении доходов снижается. Возможно влияет то, что в диапазоне доходов от 100000 до 200000 сосредоточена основная часть заемщиков, а как следствие основная часть просрочки ложиться на эту социальную группу.\n",
    "* С увеличением дохода выше 150 000 в месяц люди реже обращаются за кредитами.\n",
    "* Ипотека является наименее рискованным типом кредита для банка из всех рассмотреных. Доля просрочки по таким кредитам составляет порядка 7,2%. Чуть хуже возращаются кредиты на свадьбу - просрочка составляет 8,0%. Еще хуже обстоят дела с кредитами на образование и автомобили (9,2% и 9,4% соответственно)\n",
    "* Имеется зависимость между уровнем образования и возвратом кредита в срок. Если люди со средним образованием допускают просрочку в 9,0% случаев, то люди с высшим образованием только в 5,3% случаев.\n",
    "* Люди со средним образованием берут кредит практически в три раза чаще, чем люди с высшим образованиием, а люди имеющие ученую степень крайне редко обращаются за кредитами.\n",
    "* Образование так же оказывает существенное влияние на уровень доходов. Так люди с высшим образованием зарабатывают примерно на 30% больше чем люди со средним образованием, а люди с начальным образованием на 14 % меньше чем люди со средним образованием. \n",
    "* Медианный доход заемщиков достигает максимума в возрасте от 31 до 42 лет и далее с возрастом постепенно уменьшается. После 55 лет происходит значительное уменьшение доходов (более 15%), что связано с постепенным выходом людей на пенсию.\n",
    "* Женщины чаще становятся заемщиками чем мужчины, но их медианный доход ниже чем у мужчин.\n",
    "* Зависимости между тем указывал ли заемщик данные о своих доходах или нет и возвратом кредита в срок не наблюдается, что говорит о высоком качестве скоринговой системы банка.\n",
    "\n",
    "**Рекомендации:**\n",
    "1. Полученные зависимости между наличием детей, семейным положением, уровнем образования заемщика рекомендуется использовать при дальнейшем улучшении скоринговой системы.\n",
    "2. Рекомендуется рассмотреть возможность наращивания доли на рынке ипотечных кредитов так как ипотека является наименее рискованным типом займа для банка из рассмотренных. Так же хорошую возвратность имеют кредиты на свадьбу, но тут низкая вероятность просрочки скорее связана с тем что женатые / замужние люди впринципе чаще возвращают кредиты.\n",
    "3. В связи с тем риски невозврата кредита у людей с высшим образованием значительно ниже, учитывая что количество заемщиков с высшим образованием втрое ниже чем у заемщиков со средним образованием, рекомендуется рассмотреть возможность увеличения доли заемщиков с высшим образованием.\n",
    "4. Рекомендуется доработать форму для ввода данных о клиенте работниками банка следующим образом:\n",
    "    - дать работнику банка возможность выбирать из заранее заданного списка тип образования клиента, а не вводить его вручную\n",
    "    - исключить возможность введения отрицательного числа детей при заполнении соответствующей формы\n",
    "    - ввести всплывающие подсказки о необходимости заполнения граф возраст и пол клиента, так как эти данные в датасете для ряда клиентов были некорректно указаны.\n",
    "5. Рекомендуется провести отдельную работу с инженером предоставившим данные по графе стаж работы так как эта графа содержит большое число ошибок.\n"
   ]
  },
  {
   "cell_type": "markdown",
   "metadata": {},
   "source": [
    "### Чек-лист готовности проекта\n",
    "\n",
    "Поставьте 'x' в выполненных пунктах. Далее нажмите Shift+Enter."
   ]
  },
  {
   "cell_type": "markdown",
   "metadata": {},
   "source": [
    "- [x]  открыт файл;\n",
    "- [x]  файл изучен;\n",
    "- [x]  определены пропущенные значения;\n",
    "- [x]  заполнены пропущенные значения;\n",
    "- [x]  есть пояснение, какие пропущенные значения обнаружены;\n",
    "- [x]  описаны возможные причины появления пропусков в данных;\n",
    "- [x]  объяснено, по какому принципу заполнены пропуски;\n",
    "- [x]  заменен вещественный тип данных на целочисленный;\n",
    "- [x]  есть пояснение, какой метод используется для изменения типа данных и почему;\n",
    "- [x]  удалены дубликаты;\n",
    "- [x]  есть пояснение, какой метод используется для поиска и удаления дубликатов;\n",
    "- [x]  описаны возможные причины появления дубликатов в данных;\n",
    "- [x]  выделены леммы в значениях столбца с целями получения кредита;\n",
    "- [x]  описан процесс лемматизации;\n",
    "- [x]  данные категоризированы;\n",
    "- [x]  есть объяснение принципа категоризации данных;\n",
    "- [x]  есть ответ на вопрос: \"Есть ли зависимость между наличием детей и возвратом кредита в срок?\";\n",
    "- [x]  есть ответ на вопрос: \"Есть ли зависимость между семейным положением и возвратом кредита в срок?\";\n",
    "- [x]  есть ответ на вопрос: \"Есть ли зависимость между уровнем дохода и возвратом кредита в срок?\";\n",
    "- [x]  есть ответ на вопрос: \"Как разные цели кредита влияют на его возврат в срок?\";\n",
    "- [x]  в каждом этапе есть выводы;\n",
    "- [x]  есть общий вывод."
   ]
  },
  {
   "cell_type": "code",
   "execution_count": null,
   "metadata": {},
   "outputs": [],
   "source": []
  }
 ],
 "metadata": {
  "kernelspec": {
   "display_name": "Python 3",
   "language": "python",
   "name": "python3"
  },
  "language_info": {
   "codemirror_mode": {
    "name": "ipython",
    "version": 3
   },
   "file_extension": ".py",
   "mimetype": "text/x-python",
   "name": "python",
   "nbconvert_exporter": "python",
   "pygments_lexer": "ipython3",
   "version": "3.8.5"
  },
  "toc": {
   "base_numbering": 1,
   "nav_menu": {},
   "number_sections": true,
   "sideBar": true,
   "skip_h1_title": false,
   "title_cell": "Table of Contents",
   "title_sidebar": "Contents",
   "toc_cell": false,
   "toc_position": {},
   "toc_section_display": true,
   "toc_window_display": false
  }
 },
 "nbformat": 4,
 "nbformat_minor": 2
}
