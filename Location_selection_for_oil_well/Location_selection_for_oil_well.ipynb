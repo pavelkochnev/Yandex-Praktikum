{
 "cells": [
  {
   "cell_type": "markdown",
   "metadata": {},
   "source": [
    "# Выбор локации для нефтяной скважины"
   ]
  },
  {
   "cell_type": "markdown",
   "metadata": {},
   "source": [
    "Допустим, вы работаете в добывающей компании «ГлавРосГосНефть». Нужно решить, где бурить новую скважину.\n",
    "\n",
    "Вам предоставлены пробы нефти в трёх регионах: в каждом 10 000 месторождений, где измерили качество нефти и объём её запасов. Постройте модель машинного обучения, которая поможет определить регион, где добыча принесёт наибольшую прибыль. Проанализируйте возможную прибыль и риски техникой *Bootstrap.*\n",
    "\n",
    "Шаги для выбора локации:\n",
    "\n",
    "- В избранном регионе ищут месторождения, для каждого определяют значения признаков;\n",
    "- Строят модель и оценивают объём запасов;\n",
    "- Выбирают месторождения с самым высокими оценками значений. Количество месторождений зависит от бюджета компании и стоимости разработки одной скважины;\n",
    "- Прибыль равна суммарной прибыли отобранных месторождений.\n",
    "\n",
    "______\n",
    "\n",
    "###### Данное исследование разделено на несколько частей.\n",
    "\n",
    "* [1. Загрузка и подготовка данных.](#section1)\n",
    "* [2. Обучение и проверка модели.](#section2)\n",
    "* [3. Подготовка к расчету пибыли.](#section3)\n",
    "* [4. Расчет прибыли и рисков.](#section4)\n",
    "* [5. Выводы.](#section5)"
   ]
  },
  {
   "cell_type": "markdown",
   "metadata": {},
   "source": [
    "<a id='section1'> </a>\n",
    "\n",
    "# 1. Загрузка и подготовка данных"
   ]
  },
  {
   "cell_type": "code",
   "execution_count": 1,
   "metadata": {},
   "outputs": [],
   "source": [
    "import pandas as pd\n",
    "from sklearn.model_selection import train_test_split\n",
    "from sklearn.preprocessing import StandardScaler\n",
    "from sklearn.linear_model import LinearRegression\n",
    "from sklearn.metrics import mean_squared_error\n",
    "import numpy as np\n",
    "from numpy.random import RandomState"
   ]
  },
  {
   "cell_type": "markdown",
   "metadata": {},
   "source": [
    "Даны три файла с данными о геологоразведке трёх регионов. В файлах:\n",
    "* id — уникальный идентификатор скважины;\n",
    "* f0, f1, f2 — три признака точек (неважно, что они означают, но сами признаки значимы);\n",
    "* product — объём запасов в скважине (тыс. баррелей)."
   ]
  },
  {
   "cell_type": "code",
   "execution_count": 2,
   "metadata": {},
   "outputs": [],
   "source": [
    "df0 = pd.read_csv('./datasets/geo_data_0.csv')\n",
    "df1 = pd.read_csv('./datasets/geo_data_1.csv')\n",
    "df2 = pd.read_csv('./datasets/geo_data_2.csv')"
   ]
  },
  {
   "cell_type": "code",
   "execution_count": 3,
   "metadata": {},
   "outputs": [
    {
     "data": {
      "text/html": [
       "<div>\n",
       "<style scoped>\n",
       "    .dataframe tbody tr th:only-of-type {\n",
       "        vertical-align: middle;\n",
       "    }\n",
       "\n",
       "    .dataframe tbody tr th {\n",
       "        vertical-align: top;\n",
       "    }\n",
       "\n",
       "    .dataframe thead th {\n",
       "        text-align: right;\n",
       "    }\n",
       "</style>\n",
       "<table border=\"1\" class=\"dataframe\">\n",
       "  <thead>\n",
       "    <tr style=\"text-align: right;\">\n",
       "      <th></th>\n",
       "      <th>id</th>\n",
       "      <th>f0</th>\n",
       "      <th>f1</th>\n",
       "      <th>f2</th>\n",
       "      <th>product</th>\n",
       "    </tr>\n",
       "  </thead>\n",
       "  <tbody>\n",
       "    <tr>\n",
       "      <th>0</th>\n",
       "      <td>txEyH</td>\n",
       "      <td>0.705745</td>\n",
       "      <td>-0.497823</td>\n",
       "      <td>1.221170</td>\n",
       "      <td>105.280062</td>\n",
       "    </tr>\n",
       "    <tr>\n",
       "      <th>1</th>\n",
       "      <td>2acmU</td>\n",
       "      <td>1.334711</td>\n",
       "      <td>-0.340164</td>\n",
       "      <td>4.365080</td>\n",
       "      <td>73.037750</td>\n",
       "    </tr>\n",
       "    <tr>\n",
       "      <th>2</th>\n",
       "      <td>409Wp</td>\n",
       "      <td>1.022732</td>\n",
       "      <td>0.151990</td>\n",
       "      <td>1.419926</td>\n",
       "      <td>85.265647</td>\n",
       "    </tr>\n",
       "    <tr>\n",
       "      <th>3</th>\n",
       "      <td>iJLyR</td>\n",
       "      <td>-0.032172</td>\n",
       "      <td>0.139033</td>\n",
       "      <td>2.978566</td>\n",
       "      <td>168.620776</td>\n",
       "    </tr>\n",
       "    <tr>\n",
       "      <th>4</th>\n",
       "      <td>Xdl7t</td>\n",
       "      <td>1.988431</td>\n",
       "      <td>0.155413</td>\n",
       "      <td>4.751769</td>\n",
       "      <td>154.036647</td>\n",
       "    </tr>\n",
       "  </tbody>\n",
       "</table>\n",
       "</div>"
      ],
      "text/plain": [
       "      id        f0        f1        f2     product\n",
       "0  txEyH  0.705745 -0.497823  1.221170  105.280062\n",
       "1  2acmU  1.334711 -0.340164  4.365080   73.037750\n",
       "2  409Wp  1.022732  0.151990  1.419926   85.265647\n",
       "3  iJLyR -0.032172  0.139033  2.978566  168.620776\n",
       "4  Xdl7t  1.988431  0.155413  4.751769  154.036647"
      ]
     },
     "execution_count": 3,
     "metadata": {},
     "output_type": "execute_result"
    }
   ],
   "source": [
    "df0.head()"
   ]
  },
  {
   "cell_type": "code",
   "execution_count": 4,
   "metadata": {},
   "outputs": [],
   "source": [
    "# создадим словаь в котором в качестве ключа будем исользовать название месторождения, а в качестве значения соотв датафрейм\n",
    "# наличие словаря позволит избежать дублирования одинакового кода для разных датафреймов\n",
    "df_dict = {'Месторождение 0' : df0, 'Месторождение 1' : df1, 'Месторождение 2' : df2}"
   ]
  },
  {
   "cell_type": "code",
   "execution_count": 5,
   "metadata": {},
   "outputs": [
    {
     "name": "stdout",
     "output_type": "stream",
     "text": [
      "Месторождение 0\n",
      "<class 'pandas.core.frame.DataFrame'>\n",
      "RangeIndex: 100000 entries, 0 to 99999\n",
      "Data columns (total 5 columns):\n",
      " #   Column   Non-Null Count   Dtype  \n",
      "---  ------   --------------   -----  \n",
      " 0   id       100000 non-null  object \n",
      " 1   f0       100000 non-null  float64\n",
      " 2   f1       100000 non-null  float64\n",
      " 3   f2       100000 non-null  float64\n",
      " 4   product  100000 non-null  float64\n",
      "dtypes: float64(4), object(1)\n",
      "memory usage: 3.8+ MB\n",
      "\n",
      "Месторождение 1\n",
      "<class 'pandas.core.frame.DataFrame'>\n",
      "RangeIndex: 100000 entries, 0 to 99999\n",
      "Data columns (total 5 columns):\n",
      " #   Column   Non-Null Count   Dtype  \n",
      "---  ------   --------------   -----  \n",
      " 0   id       100000 non-null  object \n",
      " 1   f0       100000 non-null  float64\n",
      " 2   f1       100000 non-null  float64\n",
      " 3   f2       100000 non-null  float64\n",
      " 4   product  100000 non-null  float64\n",
      "dtypes: float64(4), object(1)\n",
      "memory usage: 3.8+ MB\n",
      "\n",
      "Месторождение 2\n",
      "<class 'pandas.core.frame.DataFrame'>\n",
      "RangeIndex: 100000 entries, 0 to 99999\n",
      "Data columns (total 5 columns):\n",
      " #   Column   Non-Null Count   Dtype  \n",
      "---  ------   --------------   -----  \n",
      " 0   id       100000 non-null  object \n",
      " 1   f0       100000 non-null  float64\n",
      " 2   f1       100000 non-null  float64\n",
      " 3   f2       100000 non-null  float64\n",
      " 4   product  100000 non-null  float64\n",
      "dtypes: float64(4), object(1)\n",
      "memory usage: 3.8+ MB\n",
      "\n"
     ]
    }
   ],
   "source": [
    "for key in df_dict:\n",
    "    print(key)\n",
    "    df_dict[key].info()\n",
    "    print()"
   ]
  },
  {
   "cell_type": "markdown",
   "metadata": {},
   "source": [
    "Все ячейки в данных заполнены, пропусков нет."
   ]
  },
  {
   "cell_type": "code",
   "execution_count": 6,
   "metadata": {},
   "outputs": [
    {
     "name": "stdout",
     "output_type": "stream",
     "text": [
      "Месторождение 0\n",
      "                  f0             f1             f2        product\n",
      "count  100000.000000  100000.000000  100000.000000  100000.000000\n",
      "mean        0.500419       0.250143       2.502647      92.500000\n",
      "std         0.871832       0.504433       3.248248      44.288691\n",
      "min        -1.408605      -0.848218     -12.088328       0.000000\n",
      "25%        -0.072580      -0.200881       0.287748      56.497507\n",
      "50%         0.502360       0.250252       2.515969      91.849972\n",
      "75%         1.073581       0.700646       4.715088     128.564089\n",
      "max         2.362331       1.343769      16.003790     185.364347\n",
      "\n",
      "\n",
      "Месторождение 1\n",
      "                  f0             f1             f2        product\n",
      "count  100000.000000  100000.000000  100000.000000  100000.000000\n",
      "mean        1.141296      -4.796579       2.494541      68.825000\n",
      "std         8.965932       5.119872       1.703572      45.944423\n",
      "min       -31.609576     -26.358598      -0.018144       0.000000\n",
      "25%        -6.298551      -8.267985       1.000021      26.953261\n",
      "50%         1.153055      -4.813172       2.011479      57.085625\n",
      "75%         8.621015      -1.332816       3.999904     107.813044\n",
      "max        29.421755      18.734063       5.019721     137.945408\n",
      "\n",
      "\n",
      "Месторождение 2\n",
      "                  f0             f1             f2        product\n",
      "count  100000.000000  100000.000000  100000.000000  100000.000000\n",
      "mean        0.002023      -0.002081       2.495128      95.000000\n",
      "std         1.732045       1.730417       3.473445      44.749921\n",
      "min        -8.760004      -7.084020     -11.970335       0.000000\n",
      "25%        -1.162288      -1.174820       0.130359      59.450441\n",
      "50%         0.009424      -0.009482       2.484236      94.925613\n",
      "75%         1.158535       1.163678       4.858794     130.595027\n",
      "max         7.238262       7.844801      16.739402     190.029838\n",
      "\n",
      "\n"
     ]
    }
   ],
   "source": [
    "for key in df_dict:\n",
    "    print(key)\n",
    "    print(df_dict[key].describe())\n",
    "    print()\n",
    "    print()"
   ]
  },
  {
   "cell_type": "markdown",
   "metadata": {},
   "source": [
    "Посмотрим на корреляцию параметров f0, f1, f2 с величиной запасов"
   ]
  },
  {
   "cell_type": "code",
   "execution_count": 7,
   "metadata": {},
   "outputs": [
    {
     "name": "stdout",
     "output_type": "stream",
     "text": [
      "Месторождение 0\n",
      "               f0        f1        f2   product\n",
      "f0       1.000000 -0.440723 -0.003153  0.143536\n",
      "f1      -0.440723  1.000000  0.001724 -0.192356\n",
      "f2      -0.003153  0.001724  1.000000  0.483663\n",
      "product  0.143536 -0.192356  0.483663  1.000000\n",
      "\n",
      "\n",
      "Месторождение 1\n",
      "               f0        f1        f2   product\n",
      "f0       1.000000  0.182287 -0.001777 -0.030491\n",
      "f1       0.182287  1.000000 -0.002595 -0.010155\n",
      "f2      -0.001777 -0.002595  1.000000  0.999397\n",
      "product -0.030491 -0.010155  0.999397  1.000000\n",
      "\n",
      "\n",
      "Месторождение 2\n",
      "               f0        f1        f2   product\n",
      "f0       1.000000  0.000528 -0.000448 -0.001987\n",
      "f1       0.000528  1.000000  0.000779 -0.001012\n",
      "f2      -0.000448  0.000779  1.000000  0.445871\n",
      "product -0.001987 -0.001012  0.445871  1.000000\n",
      "\n",
      "\n"
     ]
    }
   ],
   "source": [
    "for key in df_dict:\n",
    "    print(key)\n",
    "    print(df_dict[key].corr())\n",
    "    print()\n",
    "    print()"
   ]
  },
  {
   "cell_type": "markdown",
   "metadata": {},
   "source": [
    "Как видно из таблиц выше наибольшую корреляцию с величиной запасов имеет параметр f2, а на \"Месторождении 1\" корреляция вообще составляет почти 100%. Следует предположить что в виду высокой корреляции параметров на \"Месторождении 1\" модель будет предсказывать запасы с более высокой точностью, чем на других месторождениях. \n",
    "\n",
    "Разделим имеющиеся датафреймы на тренировочную и валидационную выборки. Аналогично самим датафреймам, тренировочную и валидационную выборку для разных месторождений объединим в словари.  "
   ]
  },
  {
   "cell_type": "code",
   "execution_count": 8,
   "metadata": {},
   "outputs": [
    {
     "name": "stdout",
     "output_type": "stream",
     "text": [
      "True\n",
      "True\n",
      "True\n"
     ]
    }
   ],
   "source": [
    "train_dict = {}\n",
    "valid_dict = {}\n",
    "\n",
    "for key in df_dict:\n",
    "    train_dict[key], valid_dict[key] = train_test_split(df_dict[key], test_size=0.25, random_state=42)\n",
    "    \n",
    "    # проверим что суммарные размеры выборок соответствуют исходным датафреймам\n",
    "    print((len(train_dict[key]) + len(valid_dict[key])) == len(df_dict[key]))"
   ]
  },
  {
   "cell_type": "markdown",
   "metadata": {},
   "source": [
    "<a id='section2'> </a>\n",
    "\n",
    "# 2. Обучение и проверка модели"
   ]
  },
  {
   "cell_type": "markdown",
   "metadata": {},
   "source": [
    "По условиям задачи допускается использовать только модель линейной регрессии. Обучим модель на датафреймах и оценим средний предсказаный запас и СКО оценки запаса"
   ]
  },
  {
   "cell_type": "code",
   "execution_count": 9,
   "metadata": {},
   "outputs": [
    {
     "name": "stdout",
     "output_type": "stream",
     "text": [
      "Месторождение 0\n",
      "Cредний предсказанный запас сырья: 92.3988 тыс. баррелей\n",
      "СКО оценки запаса сырья по модели: 37.7566 тыс. баррелей\n",
      "\n",
      "Месторождение 1\n",
      "Cредний предсказанный запас сырья: 68.7129 тыс. баррелей\n",
      "СКО оценки запаса сырья по модели: 0.8903 тыс. баррелей\n",
      "\n",
      "Месторождение 2\n",
      "Cредний предсказанный запас сырья: 94.7710 тыс. баррелей\n",
      "СКО оценки запаса сырья по модели: 40.1459 тыс. баррелей\n",
      "\n"
     ]
    }
   ],
   "source": [
    "y_col = ['product']\n",
    "x_col = ['f0', 'f1', 'f2']\n",
    "\n",
    "model = LinearRegression()\n",
    "model_rmse_score = {}\n",
    "\n",
    "for key in train_dict: \n",
    "    model.fit(train_dict[key][x_col], train_dict[key][y_col])\n",
    "    valid_dict[key] = valid_dict[key].copy()\n",
    "    valid_dict[key]['product_predict'] = model.predict(valid_dict[key][x_col])\n",
    "    model_rmse_score[key] = np.sqrt(mean_squared_error(valid_dict[key][y_col], valid_dict[key]['product_predict']))\n",
    "    print(key)\n",
    "    print('Cредний предсказанный запас сырья: {:.4f} тыс. баррелей'.format(valid_dict[key]['product_predict'].mean()))\n",
    "    print('СКО оценки запаса сырья по модели: {:.4f} тыс. баррелей'.format(model_rmse_score[key]))\n",
    "    print()"
   ]
  },
  {
   "cell_type": "markdown",
   "metadata": {},
   "source": [
    "Как и ожидалось, СКО оценки запасов на \"Месторождении 1\" ниже чем на других месторождениях. На этом месторождении модель отработала точнее."
   ]
  },
  {
   "cell_type": "markdown",
   "metadata": {},
   "source": [
    "<a id='section3'> </a>\n",
    "\n",
    "# 3. Подготовка к расчёту прибыли"
   ]
  },
  {
   "cell_type": "markdown",
   "metadata": {},
   "source": [
    "Создадим следующие константы соответствующие условиям задачи:\n",
    "* RESEARCH_POINTS   - количество исследуемых точек в регионе\n",
    "* SELECTED_POINTS   - количество точек которые выбирают для разработки\n",
    "* EARNINGS_PER_THOUSEND_BARRELS   - доход с тысячи баррелей (руб)\n",
    "* BUDGET   - бюджет на разработку скважин в регионе (руб)"
   ]
  },
  {
   "cell_type": "code",
   "execution_count": 10,
   "metadata": {},
   "outputs": [],
   "source": [
    "RESEARCH_POINTS = 500\n",
    "SELECTED_POINTS = 200\n",
    "EARNINGS_PER_THOUSEND_BARRELS = 450e3\n",
    "BUDGET = 10e9"
   ]
  },
  {
   "cell_type": "markdown",
   "metadata": {},
   "source": [
    "Оценим средний достаточный объём сырья в одной скважине для безубыточной разработки"
   ]
  },
  {
   "cell_type": "code",
   "execution_count": 11,
   "metadata": {},
   "outputs": [
    {
     "data": {
      "text/plain": [
       "111.11111111111111"
      ]
     },
     "execution_count": 11,
     "metadata": {},
     "output_type": "execute_result"
    }
   ],
   "source": [
    "BUDGET / EARNINGS_PER_THOUSEND_BARRELS / SELECTED_POINTS"
   ]
  },
  {
   "cell_type": "markdown",
   "metadata": {},
   "source": [
    "Для безубыточности проекта необходимо чтобы каждая из пробуренных скважен в среднем приносила не менее 111,11 тыс. баррелей. Что выше средних предсказанных моделью значений для всех трех месторождений. Оценим реальные средние запасы на месторождениях"
   ]
  },
  {
   "cell_type": "code",
   "execution_count": 12,
   "metadata": {},
   "outputs": [
    {
     "name": "stdout",
     "output_type": "stream",
     "text": [
      "Месторождение 0\n",
      "Cредний запас сырья 92.5000 тыс. баррелей\n",
      "\n",
      "Месторождение 1\n",
      "Cредний запас сырья 68.8250 тыс. баррелей\n",
      "\n",
      "Месторождение 2\n",
      "Cредний запас сырья 95.0000 тыс. баррелей\n",
      "\n"
     ]
    }
   ],
   "source": [
    "for key in df_dict:\n",
    "    print(key)\n",
    "    print('Cредний запас сырья {:.4f} тыс. баррелей'.format(df_dict[key]['product'].mean()))\n",
    "    print()"
   ]
  },
  {
   "cell_type": "markdown",
   "metadata": {},
   "source": [
    "Реальные средние оценки запасов близки средним запасам предсказанным моделью и ниже требуемого для безубыточности проекта. Оценим средний запас лучших точек на месторождениях:"
   ]
  },
  {
   "cell_type": "code",
   "execution_count": 13,
   "metadata": {},
   "outputs": [
    {
     "name": "stdout",
     "output_type": "stream",
     "text": [
      "Месторождение 0\n",
      "184.83373964536023 тыс. бареллей\n",
      "\n",
      "Месторождение 1\n",
      "137.94540774090612 тыс. бареллей\n",
      "\n",
      "Месторождение 2\n",
      "189.5514769817665 тыс. бареллей\n",
      "\n"
     ]
    }
   ],
   "source": [
    "for key in df_dict:\n",
    "    print(key)\n",
    "    print(df_dict[key].sort_values('product', ascending=False)[:SELECTED_POINTS]['product'].mean(), 'тыс. бареллей')\n",
    "    print()"
   ]
  },
  {
   "cell_type": "markdown",
   "metadata": {},
   "source": [
    "Если бы была возможность для каждого месторождения выбрать 200 лучших точек, то все три месторождения были бы окупаемы. Но так как точки выбираются случайно, создадим статистическую модель, которая оценит возможную прибыль и риски для каждого месторождения."
   ]
  },
  {
   "cell_type": "markdown",
   "metadata": {},
   "source": [
    "<a id='section4'> </a>\n",
    "\n",
    "# 4. Расчёт прибыли и рисков "
   ]
  },
  {
   "cell_type": "markdown",
   "metadata": {},
   "source": [
    "Создадим функцию income_calc которая принимает на вход датафрейм с реальными и предсказанными запасами на месторождении, случайным образом выбирает 500 точек из них выбирает 200 лучших точек по предсказанию модели и оценивает прибыль. За прибыль принята разность между суммой полученной от продажи всех запасов нефти на выбранных точках и бюджетом на разработку."
   ]
  },
  {
   "cell_type": "code",
   "execution_count": 14,
   "metadata": {},
   "outputs": [],
   "source": [
    "state = RandomState(42) \n",
    "def income_calc(df):\n",
    "    selected_index = (df.sample(RESEARCH_POINTS, replace=True, random_state=state)\n",
    "                        .sort_values('product_predict', ascending=False)[:SELECTED_POINTS]['product_predict']\n",
    "                        .index)\n",
    "    total_earnings = df.loc[selected_index]['product'].sum() * EARNINGS_PER_THOUSEND_BARRELS\n",
    "    income = total_earnings - BUDGET\n",
    "    return income"
   ]
  },
  {
   "cell_type": "markdown",
   "metadata": {},
   "source": [
    "Используя созданную функцию рассчитаем прибыль для одной конкретной реализации из 200 точек на каждом месторождении."
   ]
  },
  {
   "cell_type": "code",
   "execution_count": 15,
   "metadata": {},
   "outputs": [
    {
     "name": "stdout",
     "output_type": "stream",
     "text": [
      "Месторождение 0\n",
      "571.78 млн. руб.\n",
      "\n",
      "Месторождение 1\n",
      "517.68 млн. руб.\n",
      "\n",
      "Месторождение 2\n",
      "327.92 млн. руб.\n",
      "\n"
     ]
    }
   ],
   "source": [
    "for key in df_dict:\n",
    "    print(key)\n",
    "    print('{:.2f} млн. руб.'.format(income_calc(valid_dict[key]) / 1e6))\n",
    "    print()"
   ]
  },
  {
   "cell_type": "markdown",
   "metadata": {},
   "source": [
    "Для данной реализации все три месторождения оказались прибыльными. Оценим среднюю прибыль и риски при разработки месторождений. Под риском будем понимать возможность получения отрицательной прибыли. Для проведения данного эксперемента оценим возможную прибыль по 1000 реализаций. "
   ]
  },
  {
   "cell_type": "code",
   "execution_count": 16,
   "metadata": {},
   "outputs": [],
   "source": [
    "BOOSTRAP_NUM = 1000\n",
    "income_dict = {}\n",
    "loss_ctr_dict = {}\n",
    "\n",
    "for key in valid_dict:\n",
    "    income_dict[key] = []\n",
    "    loss_ctr_dict[key] = 0\n",
    "    for i in range(BOOSTRAP_NUM):\n",
    "        income = income_calc(valid_dict[key])\n",
    "        income_dict[key].append(income)\n",
    "        if income < 0:\n",
    "            loss_ctr_dict[key] += 1"
   ]
  },
  {
   "cell_type": "code",
   "execution_count": 17,
   "metadata": {
    "scrolled": true
   },
   "outputs": [
    {
     "name": "stdout",
     "output_type": "stream",
     "text": [
      "Месторождение 0\n",
      "Вероятность убытков на месторождении: 5.90%\n",
      "\n",
      "Месторождение 1\n",
      "Вероятность убытков на месторождении: 0.90%\n",
      "\n",
      "Месторождение 2\n",
      "Вероятность убытков на месторождении: 7.60%\n",
      "\n"
     ]
    }
   ],
   "source": [
    "loss_risk = {}\n",
    "for key in valid_dict:\n",
    "    loss_risk[key] = loss_ctr_dict[key] / BOOSTRAP_NUM\n",
    "    print(key)\n",
    "    print('Вероятность убытков на месторождении: {:.2%}'.format(loss_risk[key]))\n",
    "    print()"
   ]
  },
  {
   "cell_type": "code",
   "execution_count": 18,
   "metadata": {
    "scrolled": true
   },
   "outputs": [
    {
     "name": "stdout",
     "output_type": "stream",
     "text": [
      "Месторождение 0\n",
      "Средняя прибыль на месторождении: 399.62 млн. руб.\n",
      "\n",
      "Месторождение 1\n",
      "Средняя прибыль на месторождении: 452.57 млн. руб.\n",
      "\n",
      "Месторождение 2\n",
      "Средняя прибыль на месторождении: 378.48 млн. руб.\n",
      "\n"
     ]
    }
   ],
   "source": [
    "for key in valid_dict:\n",
    "    print(key)\n",
    "    print('Средняя прибыль на месторождении: {:.2f} млн. руб.'.format(pd.Series(income_dict[key]).mean() / 1e6))\n",
    "    print()"
   ]
  },
  {
   "cell_type": "code",
   "execution_count": 19,
   "metadata": {
    "scrolled": true
   },
   "outputs": [
    {
     "name": "stdout",
     "output_type": "stream",
     "text": [
      "Месторождение 0\n",
      "В 95% случаев доход будет не менее: -14.27 млн. руб.\n",
      "\n",
      "Месторождение 1\n",
      "В 95% случаев доход будет не менее: 110.04 млн. руб.\n",
      "\n",
      "Месторождение 2\n",
      "В 95% случаев доход будет не менее: -68.07 млн. руб.\n",
      "\n"
     ]
    }
   ],
   "source": [
    "for key in valid_dict:\n",
    "    print(key)\n",
    "    print('В 95% случаев доход будет не менее: {:.2f} млн. руб.'.format(pd.Series(income_dict[key]).quantile(0.05) / 1e6))\n",
    "    print()"
   ]
  },
  {
   "cell_type": "markdown",
   "metadata": {},
   "source": [
    "Риск убытков менее 2,5% только на \"Месторождении 1\". Кроме того только на этом месторождении прибыль положительна более чем в 95% случаев. В связи с этим из трех месторождений представленных на анализ для разработки рекомендуется \"Месторождение 1\"."
   ]
  },
  {
   "cell_type": "markdown",
   "metadata": {},
   "source": [
    "<a id='section5'> </a>\n",
    "\n",
    "# Выводы"
   ]
  },
  {
   "cell_type": "markdown",
   "metadata": {},
   "source": [
    "1. Высокую корреяцию с величиной запасов показывает параметр f2, причем на \"Месторождении 1\" корреляция почти 100%.\n",
    "2. При оценки запасов для месторождений 0 и 2 модель линейной регресии имеет высокое значение СКО (37,75 и 40,15 мил. баррелей), что сказывается на точности предсказаний. По условиям задачи допускалось использование только модели линейной регресии, однако использование дополнительнительных моделей могло бы снизить СКО оценок и как следствие помогло бы получить более высокую прибыль (в смысле 95% интервала). В связи с этим в перспективе рекомендуется проработать возможность использования более сложных моделей.\n",
    "3. Для заданной модели риск убытков менее 2,5% только для \"Месторождения 1\" (0,9%). С вероятностью 95% прибыль с данного месторождения будет выше 110 млн. руб.\n",
    "4. Для разработки рекомендуется \"Месторождение 1\"."
   ]
  }
 ],
 "metadata": {
  "kernelspec": {
   "display_name": "Python 3",
   "language": "python",
   "name": "python3"
  },
  "language_info": {
   "codemirror_mode": {
    "name": "ipython",
    "version": 3
   },
   "file_extension": ".py",
   "mimetype": "text/x-python",
   "name": "python",
   "nbconvert_exporter": "python",
   "pygments_lexer": "ipython3",
   "version": "3.8.5"
  }
 },
 "nbformat": 4,
 "nbformat_minor": 2
}
