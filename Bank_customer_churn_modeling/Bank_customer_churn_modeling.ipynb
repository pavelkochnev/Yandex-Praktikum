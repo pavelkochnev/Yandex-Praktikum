{
 "cells": [
  {
   "cell_type": "markdown",
   "metadata": {},
   "source": [
    "# Прогнозирование оттока клиентов банка"
   ]
  },
  {
   "cell_type": "markdown",
   "metadata": {},
   "source": [
    "Из «Бета-Банка» стали уходить клиенты. Каждый месяц. Немного, но заметно. Банковские маркетологи посчитали: сохранять текущих клиентов дешевле, чем привлекать новых.\n",
    "\n",
    "Нужно спрогнозировать, уйдёт клиент из банка в ближайшее время или нет. Вам предоставлены исторические данные о поведении клиентов и расторжении договоров с банком. \n",
    "\n",
    "Постройте модель с предельно большим значением *F1*-меры. Чтобы сдать проект успешно, нужно довести метрику до 0.59. Проверьте *F1*-меру на тестовой выборке самостоятельно.\n",
    "\n",
    "Дополнительно измеряйте *AUC-ROC*, сравнивайте её значение с *F1*-мерой.\n",
    "\n",
    "Источник данных: [https://www.kaggle.com/barelydedicated/bank-customer-churn-modeling](https://www.kaggle.com/barelydedicated/bank-customer-churn-modeling)\n",
    "\n",
    "______\n",
    "\n",
    "###### Данное исследование разделено на несколько частей.\n",
    "\n",
    "* [1. Подготовка данных.](#section1)\n",
    "* [2. Исследование задачи.](#section2)\n",
    "* [3. Борьба с дисбалансом.](#section3)\n",
    "* [4. Тестирование модели.](#section4)\n",
    "* [5. Выводы.](#section5)"
   ]
  },
  {
   "cell_type": "markdown",
   "metadata": {},
   "source": [
    "<a id='section1'> </a>\n",
    "\n",
    "# 1. Подготовка данных"
   ]
  },
  {
   "cell_type": "code",
   "execution_count": 44,
   "metadata": {},
   "outputs": [],
   "source": [
    "import pandas as pd\n",
    "import numpy as np\n",
    "from sklearn.model_selection import train_test_split, GridSearchCV\n",
    "from sklearn.preprocessing import StandardScaler\n",
    "from sklearn.ensemble import RandomForestClassifier, VotingClassifier\n",
    "from sklearn.linear_model import LogisticRegression\n",
    "from sklearn.neighbors import KNeighborsClassifier\n",
    "from sklearn.metrics import f1_score, roc_auc_score\n",
    "from sklearn.utils import shuffle\n",
    "from sklearn.dummy import DummyClassifier\n",
    "from catboost import CatBoostClassifier\n",
    "from tqdm.notebook import tqdm\n",
    "np.set_printoptions(precision=4)"
   ]
  },
  {
   "cell_type": "code",
   "execution_count": 45,
   "metadata": {},
   "outputs": [
    {
     "data": {
      "text/html": [
       "<div>\n",
       "<style scoped>\n",
       "    .dataframe tbody tr th:only-of-type {\n",
       "        vertical-align: middle;\n",
       "    }\n",
       "\n",
       "    .dataframe tbody tr th {\n",
       "        vertical-align: top;\n",
       "    }\n",
       "\n",
       "    .dataframe thead th {\n",
       "        text-align: right;\n",
       "    }\n",
       "</style>\n",
       "<table border=\"1\" class=\"dataframe\">\n",
       "  <thead>\n",
       "    <tr style=\"text-align: right;\">\n",
       "      <th></th>\n",
       "      <th>RowNumber</th>\n",
       "      <th>CustomerId</th>\n",
       "      <th>Surname</th>\n",
       "      <th>CreditScore</th>\n",
       "      <th>Geography</th>\n",
       "      <th>Gender</th>\n",
       "      <th>Age</th>\n",
       "      <th>Tenure</th>\n",
       "      <th>Balance</th>\n",
       "      <th>NumOfProducts</th>\n",
       "      <th>HasCrCard</th>\n",
       "      <th>IsActiveMember</th>\n",
       "      <th>EstimatedSalary</th>\n",
       "      <th>Exited</th>\n",
       "    </tr>\n",
       "  </thead>\n",
       "  <tbody>\n",
       "    <tr>\n",
       "      <th>0</th>\n",
       "      <td>1</td>\n",
       "      <td>15634602</td>\n",
       "      <td>Hargrave</td>\n",
       "      <td>619</td>\n",
       "      <td>France</td>\n",
       "      <td>Female</td>\n",
       "      <td>42</td>\n",
       "      <td>2.0</td>\n",
       "      <td>0.00</td>\n",
       "      <td>1</td>\n",
       "      <td>1</td>\n",
       "      <td>1</td>\n",
       "      <td>101348.88</td>\n",
       "      <td>1</td>\n",
       "    </tr>\n",
       "    <tr>\n",
       "      <th>1</th>\n",
       "      <td>2</td>\n",
       "      <td>15647311</td>\n",
       "      <td>Hill</td>\n",
       "      <td>608</td>\n",
       "      <td>Spain</td>\n",
       "      <td>Female</td>\n",
       "      <td>41</td>\n",
       "      <td>1.0</td>\n",
       "      <td>83807.86</td>\n",
       "      <td>1</td>\n",
       "      <td>0</td>\n",
       "      <td>1</td>\n",
       "      <td>112542.58</td>\n",
       "      <td>0</td>\n",
       "    </tr>\n",
       "    <tr>\n",
       "      <th>2</th>\n",
       "      <td>3</td>\n",
       "      <td>15619304</td>\n",
       "      <td>Onio</td>\n",
       "      <td>502</td>\n",
       "      <td>France</td>\n",
       "      <td>Female</td>\n",
       "      <td>42</td>\n",
       "      <td>8.0</td>\n",
       "      <td>159660.80</td>\n",
       "      <td>3</td>\n",
       "      <td>1</td>\n",
       "      <td>0</td>\n",
       "      <td>113931.57</td>\n",
       "      <td>1</td>\n",
       "    </tr>\n",
       "    <tr>\n",
       "      <th>3</th>\n",
       "      <td>4</td>\n",
       "      <td>15701354</td>\n",
       "      <td>Boni</td>\n",
       "      <td>699</td>\n",
       "      <td>France</td>\n",
       "      <td>Female</td>\n",
       "      <td>39</td>\n",
       "      <td>1.0</td>\n",
       "      <td>0.00</td>\n",
       "      <td>2</td>\n",
       "      <td>0</td>\n",
       "      <td>0</td>\n",
       "      <td>93826.63</td>\n",
       "      <td>0</td>\n",
       "    </tr>\n",
       "    <tr>\n",
       "      <th>4</th>\n",
       "      <td>5</td>\n",
       "      <td>15737888</td>\n",
       "      <td>Mitchell</td>\n",
       "      <td>850</td>\n",
       "      <td>Spain</td>\n",
       "      <td>Female</td>\n",
       "      <td>43</td>\n",
       "      <td>2.0</td>\n",
       "      <td>125510.82</td>\n",
       "      <td>1</td>\n",
       "      <td>1</td>\n",
       "      <td>1</td>\n",
       "      <td>79084.10</td>\n",
       "      <td>0</td>\n",
       "    </tr>\n",
       "    <tr>\n",
       "      <th>5</th>\n",
       "      <td>6</td>\n",
       "      <td>15574012</td>\n",
       "      <td>Chu</td>\n",
       "      <td>645</td>\n",
       "      <td>Spain</td>\n",
       "      <td>Male</td>\n",
       "      <td>44</td>\n",
       "      <td>8.0</td>\n",
       "      <td>113755.78</td>\n",
       "      <td>2</td>\n",
       "      <td>1</td>\n",
       "      <td>0</td>\n",
       "      <td>149756.71</td>\n",
       "      <td>1</td>\n",
       "    </tr>\n",
       "    <tr>\n",
       "      <th>6</th>\n",
       "      <td>7</td>\n",
       "      <td>15592531</td>\n",
       "      <td>Bartlett</td>\n",
       "      <td>822</td>\n",
       "      <td>France</td>\n",
       "      <td>Male</td>\n",
       "      <td>50</td>\n",
       "      <td>7.0</td>\n",
       "      <td>0.00</td>\n",
       "      <td>2</td>\n",
       "      <td>1</td>\n",
       "      <td>1</td>\n",
       "      <td>10062.80</td>\n",
       "      <td>0</td>\n",
       "    </tr>\n",
       "    <tr>\n",
       "      <th>7</th>\n",
       "      <td>8</td>\n",
       "      <td>15656148</td>\n",
       "      <td>Obinna</td>\n",
       "      <td>376</td>\n",
       "      <td>Germany</td>\n",
       "      <td>Female</td>\n",
       "      <td>29</td>\n",
       "      <td>4.0</td>\n",
       "      <td>115046.74</td>\n",
       "      <td>4</td>\n",
       "      <td>1</td>\n",
       "      <td>0</td>\n",
       "      <td>119346.88</td>\n",
       "      <td>1</td>\n",
       "    </tr>\n",
       "    <tr>\n",
       "      <th>8</th>\n",
       "      <td>9</td>\n",
       "      <td>15792365</td>\n",
       "      <td>He</td>\n",
       "      <td>501</td>\n",
       "      <td>France</td>\n",
       "      <td>Male</td>\n",
       "      <td>44</td>\n",
       "      <td>4.0</td>\n",
       "      <td>142051.07</td>\n",
       "      <td>2</td>\n",
       "      <td>0</td>\n",
       "      <td>1</td>\n",
       "      <td>74940.50</td>\n",
       "      <td>0</td>\n",
       "    </tr>\n",
       "    <tr>\n",
       "      <th>9</th>\n",
       "      <td>10</td>\n",
       "      <td>15592389</td>\n",
       "      <td>H?</td>\n",
       "      <td>684</td>\n",
       "      <td>France</td>\n",
       "      <td>Male</td>\n",
       "      <td>27</td>\n",
       "      <td>2.0</td>\n",
       "      <td>134603.88</td>\n",
       "      <td>1</td>\n",
       "      <td>1</td>\n",
       "      <td>1</td>\n",
       "      <td>71725.73</td>\n",
       "      <td>0</td>\n",
       "    </tr>\n",
       "  </tbody>\n",
       "</table>\n",
       "</div>"
      ],
      "text/plain": [
       "   RowNumber  CustomerId   Surname  CreditScore Geography  Gender  Age  \\\n",
       "0          1    15634602  Hargrave          619    France  Female   42   \n",
       "1          2    15647311      Hill          608     Spain  Female   41   \n",
       "2          3    15619304      Onio          502    France  Female   42   \n",
       "3          4    15701354      Boni          699    France  Female   39   \n",
       "4          5    15737888  Mitchell          850     Spain  Female   43   \n",
       "5          6    15574012       Chu          645     Spain    Male   44   \n",
       "6          7    15592531  Bartlett          822    France    Male   50   \n",
       "7          8    15656148    Obinna          376   Germany  Female   29   \n",
       "8          9    15792365        He          501    France    Male   44   \n",
       "9         10    15592389        H?          684    France    Male   27   \n",
       "\n",
       "   Tenure    Balance  NumOfProducts  HasCrCard  IsActiveMember  \\\n",
       "0     2.0       0.00              1          1               1   \n",
       "1     1.0   83807.86              1          0               1   \n",
       "2     8.0  159660.80              3          1               0   \n",
       "3     1.0       0.00              2          0               0   \n",
       "4     2.0  125510.82              1          1               1   \n",
       "5     8.0  113755.78              2          1               0   \n",
       "6     7.0       0.00              2          1               1   \n",
       "7     4.0  115046.74              4          1               0   \n",
       "8     4.0  142051.07              2          0               1   \n",
       "9     2.0  134603.88              1          1               1   \n",
       "\n",
       "   EstimatedSalary  Exited  \n",
       "0        101348.88       1  \n",
       "1        112542.58       0  \n",
       "2        113931.57       1  \n",
       "3         93826.63       0  \n",
       "4         79084.10       0  \n",
       "5        149756.71       1  \n",
       "6         10062.80       0  \n",
       "7        119346.88       1  \n",
       "8         74940.50       0  \n",
       "9         71725.73       0  "
      ]
     },
     "execution_count": 45,
     "metadata": {},
     "output_type": "execute_result"
    }
   ],
   "source": [
    "df = pd.read_csv('./datasets/Churn.csv')\n",
    "df.head(10)"
   ]
  },
  {
   "cell_type": "code",
   "execution_count": 46,
   "metadata": {},
   "outputs": [
    {
     "name": "stdout",
     "output_type": "stream",
     "text": [
      "<class 'pandas.core.frame.DataFrame'>\n",
      "RangeIndex: 10000 entries, 0 to 9999\n",
      "Data columns (total 14 columns):\n",
      " #   Column           Non-Null Count  Dtype  \n",
      "---  ------           --------------  -----  \n",
      " 0   RowNumber        10000 non-null  int64  \n",
      " 1   CustomerId       10000 non-null  int64  \n",
      " 2   Surname          10000 non-null  object \n",
      " 3   CreditScore      10000 non-null  int64  \n",
      " 4   Geography        10000 non-null  object \n",
      " 5   Gender           10000 non-null  object \n",
      " 6   Age              10000 non-null  int64  \n",
      " 7   Tenure           9091 non-null   float64\n",
      " 8   Balance          10000 non-null  float64\n",
      " 9   NumOfProducts    10000 non-null  int64  \n",
      " 10  HasCrCard        10000 non-null  int64  \n",
      " 11  IsActiveMember   10000 non-null  int64  \n",
      " 12  EstimatedSalary  10000 non-null  float64\n",
      " 13  Exited           10000 non-null  int64  \n",
      "dtypes: float64(3), int64(8), object(3)\n",
      "memory usage: 1.1+ MB\n"
     ]
    }
   ],
   "source": [
    "df.info()"
   ]
  },
  {
   "cell_type": "markdown",
   "metadata": {},
   "source": [
    "**Признаки**\n",
    "* RowNumber — индекс строки в данных\n",
    "* CustomerId — уникальный идентификатор клиента\n",
    "* Surname — фамилия\n",
    "* CreditScore — кредитный рейтинг\n",
    "* Geography — страна проживания\n",
    "* Gender — пол\n",
    "* Age — возраст\n",
    "* Tenure — количество недвижимости у клиента\n",
    "* Balance — баланс на счёте\n",
    "* NumOfProducts — количество продуктов банка, используемых клиентом\n",
    "* HasCrCard — наличие кредитной карты\n",
    "* IsActiveMember — активность клиента\n",
    "* EstimatedSalary — предполагаемая зарплата\n",
    "\n",
    "**Целевой признак**\n",
    "* Exited — факт ухода клиента"
   ]
  },
  {
   "cell_type": "code",
   "execution_count": 47,
   "metadata": {},
   "outputs": [
    {
     "data": {
      "text/html": [
       "<div>\n",
       "<style scoped>\n",
       "    .dataframe tbody tr th:only-of-type {\n",
       "        vertical-align: middle;\n",
       "    }\n",
       "\n",
       "    .dataframe tbody tr th {\n",
       "        vertical-align: top;\n",
       "    }\n",
       "\n",
       "    .dataframe thead th {\n",
       "        text-align: right;\n",
       "    }\n",
       "</style>\n",
       "<table border=\"1\" class=\"dataframe\">\n",
       "  <thead>\n",
       "    <tr style=\"text-align: right;\">\n",
       "      <th></th>\n",
       "      <th>RowNumber</th>\n",
       "      <th>CustomerId</th>\n",
       "      <th>CreditScore</th>\n",
       "      <th>Age</th>\n",
       "      <th>Tenure</th>\n",
       "      <th>Balance</th>\n",
       "      <th>NumOfProducts</th>\n",
       "      <th>HasCrCard</th>\n",
       "      <th>IsActiveMember</th>\n",
       "      <th>EstimatedSalary</th>\n",
       "      <th>Exited</th>\n",
       "    </tr>\n",
       "  </thead>\n",
       "  <tbody>\n",
       "    <tr>\n",
       "      <th>count</th>\n",
       "      <td>10000.00000</td>\n",
       "      <td>1.000000e+04</td>\n",
       "      <td>10000.000000</td>\n",
       "      <td>10000.000000</td>\n",
       "      <td>9091.000000</td>\n",
       "      <td>10000.000000</td>\n",
       "      <td>10000.000000</td>\n",
       "      <td>10000.00000</td>\n",
       "      <td>10000.000000</td>\n",
       "      <td>10000.000000</td>\n",
       "      <td>10000.000000</td>\n",
       "    </tr>\n",
       "    <tr>\n",
       "      <th>mean</th>\n",
       "      <td>5000.50000</td>\n",
       "      <td>1.569094e+07</td>\n",
       "      <td>650.528800</td>\n",
       "      <td>38.921800</td>\n",
       "      <td>4.997690</td>\n",
       "      <td>76485.889288</td>\n",
       "      <td>1.530200</td>\n",
       "      <td>0.70550</td>\n",
       "      <td>0.515100</td>\n",
       "      <td>100090.239881</td>\n",
       "      <td>0.203700</td>\n",
       "    </tr>\n",
       "    <tr>\n",
       "      <th>std</th>\n",
       "      <td>2886.89568</td>\n",
       "      <td>7.193619e+04</td>\n",
       "      <td>96.653299</td>\n",
       "      <td>10.487806</td>\n",
       "      <td>2.894723</td>\n",
       "      <td>62397.405202</td>\n",
       "      <td>0.581654</td>\n",
       "      <td>0.45584</td>\n",
       "      <td>0.499797</td>\n",
       "      <td>57510.492818</td>\n",
       "      <td>0.402769</td>\n",
       "    </tr>\n",
       "    <tr>\n",
       "      <th>min</th>\n",
       "      <td>1.00000</td>\n",
       "      <td>1.556570e+07</td>\n",
       "      <td>350.000000</td>\n",
       "      <td>18.000000</td>\n",
       "      <td>0.000000</td>\n",
       "      <td>0.000000</td>\n",
       "      <td>1.000000</td>\n",
       "      <td>0.00000</td>\n",
       "      <td>0.000000</td>\n",
       "      <td>11.580000</td>\n",
       "      <td>0.000000</td>\n",
       "    </tr>\n",
       "    <tr>\n",
       "      <th>25%</th>\n",
       "      <td>2500.75000</td>\n",
       "      <td>1.562853e+07</td>\n",
       "      <td>584.000000</td>\n",
       "      <td>32.000000</td>\n",
       "      <td>2.000000</td>\n",
       "      <td>0.000000</td>\n",
       "      <td>1.000000</td>\n",
       "      <td>0.00000</td>\n",
       "      <td>0.000000</td>\n",
       "      <td>51002.110000</td>\n",
       "      <td>0.000000</td>\n",
       "    </tr>\n",
       "    <tr>\n",
       "      <th>50%</th>\n",
       "      <td>5000.50000</td>\n",
       "      <td>1.569074e+07</td>\n",
       "      <td>652.000000</td>\n",
       "      <td>37.000000</td>\n",
       "      <td>5.000000</td>\n",
       "      <td>97198.540000</td>\n",
       "      <td>1.000000</td>\n",
       "      <td>1.00000</td>\n",
       "      <td>1.000000</td>\n",
       "      <td>100193.915000</td>\n",
       "      <td>0.000000</td>\n",
       "    </tr>\n",
       "    <tr>\n",
       "      <th>75%</th>\n",
       "      <td>7500.25000</td>\n",
       "      <td>1.575323e+07</td>\n",
       "      <td>718.000000</td>\n",
       "      <td>44.000000</td>\n",
       "      <td>7.000000</td>\n",
       "      <td>127644.240000</td>\n",
       "      <td>2.000000</td>\n",
       "      <td>1.00000</td>\n",
       "      <td>1.000000</td>\n",
       "      <td>149388.247500</td>\n",
       "      <td>0.000000</td>\n",
       "    </tr>\n",
       "    <tr>\n",
       "      <th>max</th>\n",
       "      <td>10000.00000</td>\n",
       "      <td>1.581569e+07</td>\n",
       "      <td>850.000000</td>\n",
       "      <td>92.000000</td>\n",
       "      <td>10.000000</td>\n",
       "      <td>250898.090000</td>\n",
       "      <td>4.000000</td>\n",
       "      <td>1.00000</td>\n",
       "      <td>1.000000</td>\n",
       "      <td>199992.480000</td>\n",
       "      <td>1.000000</td>\n",
       "    </tr>\n",
       "  </tbody>\n",
       "</table>\n",
       "</div>"
      ],
      "text/plain": [
       "         RowNumber    CustomerId   CreditScore           Age       Tenure  \\\n",
       "count  10000.00000  1.000000e+04  10000.000000  10000.000000  9091.000000   \n",
       "mean    5000.50000  1.569094e+07    650.528800     38.921800     4.997690   \n",
       "std     2886.89568  7.193619e+04     96.653299     10.487806     2.894723   \n",
       "min        1.00000  1.556570e+07    350.000000     18.000000     0.000000   \n",
       "25%     2500.75000  1.562853e+07    584.000000     32.000000     2.000000   \n",
       "50%     5000.50000  1.569074e+07    652.000000     37.000000     5.000000   \n",
       "75%     7500.25000  1.575323e+07    718.000000     44.000000     7.000000   \n",
       "max    10000.00000  1.581569e+07    850.000000     92.000000    10.000000   \n",
       "\n",
       "             Balance  NumOfProducts    HasCrCard  IsActiveMember  \\\n",
       "count   10000.000000   10000.000000  10000.00000    10000.000000   \n",
       "mean    76485.889288       1.530200      0.70550        0.515100   \n",
       "std     62397.405202       0.581654      0.45584        0.499797   \n",
       "min         0.000000       1.000000      0.00000        0.000000   \n",
       "25%         0.000000       1.000000      0.00000        0.000000   \n",
       "50%     97198.540000       1.000000      1.00000        1.000000   \n",
       "75%    127644.240000       2.000000      1.00000        1.000000   \n",
       "max    250898.090000       4.000000      1.00000        1.000000   \n",
       "\n",
       "       EstimatedSalary        Exited  \n",
       "count     10000.000000  10000.000000  \n",
       "mean     100090.239881      0.203700  \n",
       "std       57510.492818      0.402769  \n",
       "min          11.580000      0.000000  \n",
       "25%       51002.110000      0.000000  \n",
       "50%      100193.915000      0.000000  \n",
       "75%      149388.247500      0.000000  \n",
       "max      199992.480000      1.000000  "
      ]
     },
     "execution_count": 47,
     "metadata": {},
     "output_type": "execute_result"
    }
   ],
   "source": [
    "df.describe()"
   ]
  },
  {
   "cell_type": "markdown",
   "metadata": {},
   "source": [
    "В данных выявлены следующие проблемы которые необходимо устранить прежде чем переходить к следующему этапу:\n",
    "1. В столбце Tenure имеются пропуски их необходимо заполнить\n",
    "2. Столбец RowNumber дублирует индекс. Из данных его можно удалить"
   ]
  },
  {
   "cell_type": "code",
   "execution_count": 48,
   "metadata": {},
   "outputs": [],
   "source": [
    "df = df.drop('RowNumber', axis=1)"
   ]
  },
  {
   "cell_type": "markdown",
   "metadata": {},
   "source": [
    "Заполним пропуски в столбце Tenure. Для начала посмотрим какие уникальные значения могут принимать данные в столбце Tenure"
   ]
  },
  {
   "cell_type": "code",
   "execution_count": 49,
   "metadata": {},
   "outputs": [
    {
     "data": {
      "text/plain": [
       "array([ 0.,  1.,  2.,  3.,  4.,  5.,  6.,  7.,  8.,  9., 10., nan])"
      ]
     },
     "execution_count": 49,
     "metadata": {},
     "output_type": "execute_result"
    }
   ],
   "source": [
    "df['Tenure'].sort_values().unique()"
   ]
  },
  {
   "cell_type": "markdown",
   "metadata": {},
   "source": [
    "Создадим столбец Tenure_isna в который запишем True если для данной строчки данные отсутствовали и False в противном случае. Пропуски заполним нулями"
   ]
  },
  {
   "cell_type": "code",
   "execution_count": 50,
   "metadata": {},
   "outputs": [],
   "source": [
    "df['Tenure_isna'] = df['Tenure'].isna()\n",
    "df['Tenure'] = df['Tenure'].fillna(0)"
   ]
  },
  {
   "cell_type": "code",
   "execution_count": 51,
   "metadata": {},
   "outputs": [
    {
     "data": {
      "text/plain": [
       "array([ 0.,  1.,  2.,  3.,  4.,  5.,  6.,  7.,  8.,  9., 10.])"
      ]
     },
     "execution_count": 51,
     "metadata": {},
     "output_type": "execute_result"
    }
   ],
   "source": [
    "# убедимся что столбец Tenure больше не содержит незаполненных сток\n",
    "df['Tenure'].sort_values().unique()"
   ]
  },
  {
   "cell_type": "code",
   "execution_count": 52,
   "metadata": {},
   "outputs": [
    {
     "data": {
      "text/plain": [
       "False    9091\n",
       "True      909\n",
       "Name: Tenure_isna, dtype: int64"
      ]
     },
     "execution_count": 52,
     "metadata": {},
     "output_type": "execute_result"
    }
   ],
   "source": [
    "# убедимся что число нулей в столбце Tenure_isna равно количеству заполненных строк в исходных данных (9091)\n",
    "df['Tenure_isna'].value_counts()"
   ]
  },
  {
   "cell_type": "markdown",
   "metadata": {},
   "source": [
    "Проведем замену типов данных. Для начала выведем словарь с текущими типами данных, а затем на его основе создадим новый словарь по которому проведем замену типов"
   ]
  },
  {
   "cell_type": "code",
   "execution_count": 53,
   "metadata": {},
   "outputs": [
    {
     "data": {
      "text/plain": [
       "{'CustomerId': 'int64',\n",
       " 'Surname': 'object',\n",
       " 'CreditScore': 'int64',\n",
       " 'Geography': 'object',\n",
       " 'Gender': 'object',\n",
       " 'Age': 'int64',\n",
       " 'Tenure': 'float64',\n",
       " 'Balance': 'float64',\n",
       " 'NumOfProducts': 'int64',\n",
       " 'HasCrCard': 'int64',\n",
       " 'IsActiveMember': 'int64',\n",
       " 'EstimatedSalary': 'float64',\n",
       " 'Exited': 'int64',\n",
       " 'Tenure_isna': 'bool'}"
      ]
     },
     "execution_count": 53,
     "metadata": {},
     "output_type": "execute_result"
    }
   ],
   "source": [
    "df.dtypes.apply(lambda x: x.name).to_dict()"
   ]
  },
  {
   "cell_type": "code",
   "execution_count": 54,
   "metadata": {},
   "outputs": [
    {
     "name": "stdout",
     "output_type": "stream",
     "text": [
      "<class 'pandas.core.frame.DataFrame'>\n",
      "RangeIndex: 10000 entries, 0 to 9999\n",
      "Data columns (total 14 columns):\n",
      " #   Column           Non-Null Count  Dtype   \n",
      "---  ------           --------------  -----   \n",
      " 0   CustomerId       10000 non-null  int32   \n",
      " 1   Surname          10000 non-null  object  \n",
      " 2   CreditScore      10000 non-null  int16   \n",
      " 3   Geography        10000 non-null  category\n",
      " 4   Gender           10000 non-null  category\n",
      " 5   Age              10000 non-null  uint8   \n",
      " 6   Tenure           10000 non-null  uint8   \n",
      " 7   Balance          10000 non-null  float32 \n",
      " 8   NumOfProducts    10000 non-null  uint8   \n",
      " 9   HasCrCard        10000 non-null  uint8   \n",
      " 10  IsActiveMember   10000 non-null  uint8   \n",
      " 11  EstimatedSalary  10000 non-null  float32 \n",
      " 12  Exited           10000 non-null  uint8   \n",
      " 13  Tenure_isna      10000 non-null  uint8   \n",
      "dtypes: category(2), float32(2), int16(1), int32(1), object(1), uint8(7)\n",
      "memory usage: 303.1+ KB\n"
     ]
    }
   ],
   "source": [
    "# заменим типы в таблице по словарю df_type_dict\n",
    "df_type_dict = {\n",
    " 'CustomerId': 'int32',\n",
    " 'Surname': 'object',\n",
    " 'CreditScore': 'int16',\n",
    " 'Geography': 'category',\n",
    " 'Gender': 'category',\n",
    " 'Age': 'uint8',\n",
    " 'Tenure': 'uint8',\n",
    " 'Balance': 'float32',\n",
    " 'NumOfProducts': 'uint8',\n",
    " 'HasCrCard': 'uint8',\n",
    " 'IsActiveMember': 'uint8',\n",
    " 'EstimatedSalary': 'float32',\n",
    " 'Exited': 'uint8',\n",
    " 'Tenure_isna': 'uint8'\n",
    "}\n",
    "\n",
    "df = df.astype(df_type_dict)\n",
    "\n",
    "# убедимся что замена прошла так как задумано\n",
    "df.info()"
   ]
  },
  {
   "cell_type": "markdown",
   "metadata": {},
   "source": [
    "Замена типов помогла снизить объем исользуемой памяти с 1,1 МБ до  0,3 МБ (более чем в 3 раза)"
   ]
  },
  {
   "cell_type": "markdown",
   "metadata": {},
   "source": [
    "<a id='section2'> </a>\n",
    "\n",
    "# 2. Исследование задачи"
   ]
  },
  {
   "cell_type": "markdown",
   "metadata": {},
   "source": [
    "Столбцы Surname и CustomerId в данной задаче не являются информативными. Удалим данные столбцы из данных"
   ]
  },
  {
   "cell_type": "code",
   "execution_count": 55,
   "metadata": {},
   "outputs": [],
   "source": [
    "df = df.drop(['Surname', 'CustomerId'], axis=1)"
   ]
  },
  {
   "cell_type": "markdown",
   "metadata": {},
   "source": [
    "Заменим категориальные столбцы используя технику One-hot-encoding"
   ]
  },
  {
   "cell_type": "code",
   "execution_count": 56,
   "metadata": {
    "scrolled": true
   },
   "outputs": [
    {
     "data": {
      "text/html": [
       "<div>\n",
       "<style scoped>\n",
       "    .dataframe tbody tr th:only-of-type {\n",
       "        vertical-align: middle;\n",
       "    }\n",
       "\n",
       "    .dataframe tbody tr th {\n",
       "        vertical-align: top;\n",
       "    }\n",
       "\n",
       "    .dataframe thead th {\n",
       "        text-align: right;\n",
       "    }\n",
       "</style>\n",
       "<table border=\"1\" class=\"dataframe\">\n",
       "  <thead>\n",
       "    <tr style=\"text-align: right;\">\n",
       "      <th></th>\n",
       "      <th>CreditScore</th>\n",
       "      <th>Age</th>\n",
       "      <th>Tenure</th>\n",
       "      <th>Balance</th>\n",
       "      <th>NumOfProducts</th>\n",
       "      <th>HasCrCard</th>\n",
       "      <th>IsActiveMember</th>\n",
       "      <th>EstimatedSalary</th>\n",
       "      <th>Exited</th>\n",
       "      <th>Tenure_isna</th>\n",
       "      <th>Geography_Germany</th>\n",
       "      <th>Geography_Spain</th>\n",
       "      <th>Gender_Male</th>\n",
       "    </tr>\n",
       "  </thead>\n",
       "  <tbody>\n",
       "    <tr>\n",
       "      <th>0</th>\n",
       "      <td>619</td>\n",
       "      <td>42</td>\n",
       "      <td>2</td>\n",
       "      <td>0.000000</td>\n",
       "      <td>1</td>\n",
       "      <td>1</td>\n",
       "      <td>1</td>\n",
       "      <td>101348.882812</td>\n",
       "      <td>1</td>\n",
       "      <td>0</td>\n",
       "      <td>0</td>\n",
       "      <td>0</td>\n",
       "      <td>0</td>\n",
       "    </tr>\n",
       "    <tr>\n",
       "      <th>1</th>\n",
       "      <td>608</td>\n",
       "      <td>41</td>\n",
       "      <td>1</td>\n",
       "      <td>83807.859375</td>\n",
       "      <td>1</td>\n",
       "      <td>0</td>\n",
       "      <td>1</td>\n",
       "      <td>112542.578125</td>\n",
       "      <td>0</td>\n",
       "      <td>0</td>\n",
       "      <td>0</td>\n",
       "      <td>1</td>\n",
       "      <td>0</td>\n",
       "    </tr>\n",
       "    <tr>\n",
       "      <th>2</th>\n",
       "      <td>502</td>\n",
       "      <td>42</td>\n",
       "      <td>8</td>\n",
       "      <td>159660.796875</td>\n",
       "      <td>3</td>\n",
       "      <td>1</td>\n",
       "      <td>0</td>\n",
       "      <td>113931.570312</td>\n",
       "      <td>1</td>\n",
       "      <td>0</td>\n",
       "      <td>0</td>\n",
       "      <td>0</td>\n",
       "      <td>0</td>\n",
       "    </tr>\n",
       "    <tr>\n",
       "      <th>3</th>\n",
       "      <td>699</td>\n",
       "      <td>39</td>\n",
       "      <td>1</td>\n",
       "      <td>0.000000</td>\n",
       "      <td>2</td>\n",
       "      <td>0</td>\n",
       "      <td>0</td>\n",
       "      <td>93826.632812</td>\n",
       "      <td>0</td>\n",
       "      <td>0</td>\n",
       "      <td>0</td>\n",
       "      <td>0</td>\n",
       "      <td>0</td>\n",
       "    </tr>\n",
       "    <tr>\n",
       "      <th>4</th>\n",
       "      <td>850</td>\n",
       "      <td>43</td>\n",
       "      <td>2</td>\n",
       "      <td>125510.820312</td>\n",
       "      <td>1</td>\n",
       "      <td>1</td>\n",
       "      <td>1</td>\n",
       "      <td>79084.101562</td>\n",
       "      <td>0</td>\n",
       "      <td>0</td>\n",
       "      <td>0</td>\n",
       "      <td>1</td>\n",
       "      <td>0</td>\n",
       "    </tr>\n",
       "  </tbody>\n",
       "</table>\n",
       "</div>"
      ],
      "text/plain": [
       "   CreditScore  Age  Tenure        Balance  NumOfProducts  HasCrCard  \\\n",
       "0          619   42       2       0.000000              1          1   \n",
       "1          608   41       1   83807.859375              1          0   \n",
       "2          502   42       8  159660.796875              3          1   \n",
       "3          699   39       1       0.000000              2          0   \n",
       "4          850   43       2  125510.820312              1          1   \n",
       "\n",
       "   IsActiveMember  EstimatedSalary  Exited  Tenure_isna  Geography_Germany  \\\n",
       "0               1    101348.882812       1            0                  0   \n",
       "1               1    112542.578125       0            0                  0   \n",
       "2               0    113931.570312       1            0                  0   \n",
       "3               0     93826.632812       0            0                  0   \n",
       "4               1     79084.101562       0            0                  0   \n",
       "\n",
       "   Geography_Spain  Gender_Male  \n",
       "0                0            0  \n",
       "1                1            0  \n",
       "2                0            0  \n",
       "3                0            0  \n",
       "4                1            0  "
      ]
     },
     "execution_count": 56,
     "metadata": {},
     "output_type": "execute_result"
    }
   ],
   "source": [
    "df = pd.get_dummies(df, drop_first=True)\n",
    "df.head()"
   ]
  },
  {
   "cell_type": "markdown",
   "metadata": {},
   "source": [
    "Создадим список с названием колонок \"фичей\""
   ]
  },
  {
   "cell_type": "code",
   "execution_count": 57,
   "metadata": {},
   "outputs": [
    {
     "data": {
      "text/plain": [
       "Index(['CreditScore', 'Age', 'Tenure', 'Balance', 'NumOfProducts', 'HasCrCard',\n",
       "       'IsActiveMember', 'EstimatedSalary', 'Tenure_isna', 'Geography_Germany',\n",
       "       'Geography_Spain', 'Gender_Male'],\n",
       "      dtype='object')"
      ]
     },
     "execution_count": 57,
     "metadata": {},
     "output_type": "execute_result"
    }
   ],
   "source": [
    "y_col = ['Exited']\n",
    "x_col = df.columns.drop(y_col)\n",
    "x_col"
   ]
  },
  {
   "cell_type": "markdown",
   "metadata": {},
   "source": [
    "Разобьем данные сначала на тестовую и полную тренировачную выбоки, а полную тренировочную выбоку разобъем на неосредственно тренировочную выборку и валидационную выборку"
   ]
  },
  {
   "cell_type": "code",
   "execution_count": 58,
   "metadata": {},
   "outputs": [],
   "source": [
    "df_train_full, df_test = train_test_split(df, test_size=0.25, random_state=42)\n",
    "df_train, df_valid = train_test_split(df_train_full, test_size=0.25, random_state=42)"
   ]
  },
  {
   "cell_type": "markdown",
   "metadata": {},
   "source": [
    "Проверим что суммарные размеры выборок соответствуют исходным датафреймам"
   ]
  },
  {
   "cell_type": "code",
   "execution_count": 59,
   "metadata": {},
   "outputs": [
    {
     "data": {
      "text/plain": [
       "True"
      ]
     },
     "execution_count": 59,
     "metadata": {},
     "output_type": "execute_result"
    }
   ],
   "source": [
    "(len(df_train_full) + len(df_test)) == len(df)"
   ]
  },
  {
   "cell_type": "code",
   "execution_count": 60,
   "metadata": {},
   "outputs": [
    {
     "data": {
      "text/plain": [
       "True"
      ]
     },
     "execution_count": 60,
     "metadata": {},
     "output_type": "execute_result"
    }
   ],
   "source": [
    "(len(df_train) + len(df_valid)) == len(df_train_full)"
   ]
  },
  {
   "cell_type": "markdown",
   "metadata": {},
   "source": [
    "В списке num_col сохраним названия числовых колонок, после чего проведем масштабирование данных колонок в обучающей, тестовой и валидационной выборках"
   ]
  },
  {
   "cell_type": "code",
   "execution_count": 61,
   "metadata": {},
   "outputs": [
    {
     "data": {
      "text/html": [
       "<div>\n",
       "<style scoped>\n",
       "    .dataframe tbody tr th:only-of-type {\n",
       "        vertical-align: middle;\n",
       "    }\n",
       "\n",
       "    .dataframe tbody tr th {\n",
       "        vertical-align: top;\n",
       "    }\n",
       "\n",
       "    .dataframe thead th {\n",
       "        text-align: right;\n",
       "    }\n",
       "</style>\n",
       "<table border=\"1\" class=\"dataframe\">\n",
       "  <thead>\n",
       "    <tr style=\"text-align: right;\">\n",
       "      <th></th>\n",
       "      <th>CreditScore</th>\n",
       "      <th>Age</th>\n",
       "      <th>Tenure</th>\n",
       "      <th>Balance</th>\n",
       "      <th>NumOfProducts</th>\n",
       "      <th>HasCrCard</th>\n",
       "      <th>IsActiveMember</th>\n",
       "      <th>EstimatedSalary</th>\n",
       "      <th>Exited</th>\n",
       "      <th>Tenure_isna</th>\n",
       "      <th>Geography_Germany</th>\n",
       "      <th>Geography_Spain</th>\n",
       "      <th>Gender_Male</th>\n",
       "    </tr>\n",
       "  </thead>\n",
       "  <tbody>\n",
       "    <tr>\n",
       "      <th>9865</th>\n",
       "      <td>-0.652682</td>\n",
       "      <td>0.958119</td>\n",
       "      <td>-0.499617</td>\n",
       "      <td>-1.218629</td>\n",
       "      <td>0.811846</td>\n",
       "      <td>1</td>\n",
       "      <td>0</td>\n",
       "      <td>-0.874352</td>\n",
       "      <td>0</td>\n",
       "      <td>0</td>\n",
       "      <td>0</td>\n",
       "      <td>0</td>\n",
       "      <td>1</td>\n",
       "    </tr>\n",
       "    <tr>\n",
       "      <th>7389</th>\n",
       "      <td>0.138195</td>\n",
       "      <td>-0.467101</td>\n",
       "      <td>0.145328</td>\n",
       "      <td>-1.218629</td>\n",
       "      <td>0.811846</td>\n",
       "      <td>1</td>\n",
       "      <td>0</td>\n",
       "      <td>1.101323</td>\n",
       "      <td>0</td>\n",
       "      <td>0</td>\n",
       "      <td>0</td>\n",
       "      <td>1</td>\n",
       "      <td>0</td>\n",
       "    </tr>\n",
       "    <tr>\n",
       "      <th>4739</th>\n",
       "      <td>-0.486182</td>\n",
       "      <td>-0.657130</td>\n",
       "      <td>0.467800</td>\n",
       "      <td>-1.218629</td>\n",
       "      <td>0.811846</td>\n",
       "      <td>0</td>\n",
       "      <td>0</td>\n",
       "      <td>1.661347</td>\n",
       "      <td>0</td>\n",
       "      <td>0</td>\n",
       "      <td>0</td>\n",
       "      <td>0</td>\n",
       "      <td>0</td>\n",
       "    </tr>\n",
       "    <tr>\n",
       "      <th>75</th>\n",
       "      <td>0.845823</td>\n",
       "      <td>-1.702291</td>\n",
       "      <td>-1.144562</td>\n",
       "      <td>1.642116</td>\n",
       "      <td>0.811846</td>\n",
       "      <td>1</td>\n",
       "      <td>0</td>\n",
       "      <td>-1.356259</td>\n",
       "      <td>0</td>\n",
       "      <td>0</td>\n",
       "      <td>0</td>\n",
       "      <td>0</td>\n",
       "      <td>0</td>\n",
       "    </tr>\n",
       "    <tr>\n",
       "      <th>8967</th>\n",
       "      <td>1.886451</td>\n",
       "      <td>-1.322232</td>\n",
       "      <td>0.790272</td>\n",
       "      <td>-1.218629</td>\n",
       "      <td>0.811846</td>\n",
       "      <td>1</td>\n",
       "      <td>1</td>\n",
       "      <td>-0.295305</td>\n",
       "      <td>0</td>\n",
       "      <td>0</td>\n",
       "      <td>0</td>\n",
       "      <td>0</td>\n",
       "      <td>1</td>\n",
       "    </tr>\n",
       "  </tbody>\n",
       "</table>\n",
       "</div>"
      ],
      "text/plain": [
       "      CreditScore       Age    Tenure   Balance  NumOfProducts  HasCrCard  \\\n",
       "9865    -0.652682  0.958119 -0.499617 -1.218629       0.811846          1   \n",
       "7389     0.138195 -0.467101  0.145328 -1.218629       0.811846          1   \n",
       "4739    -0.486182 -0.657130  0.467800 -1.218629       0.811846          0   \n",
       "75       0.845823 -1.702291 -1.144562  1.642116       0.811846          1   \n",
       "8967     1.886451 -1.322232  0.790272 -1.218629       0.811846          1   \n",
       "\n",
       "      IsActiveMember  EstimatedSalary  Exited  Tenure_isna  Geography_Germany  \\\n",
       "9865               0        -0.874352       0            0                  0   \n",
       "7389               0         1.101323       0            0                  0   \n",
       "4739               0         1.661347       0            0                  0   \n",
       "75                 0        -1.356259       0            0                  0   \n",
       "8967               1        -0.295305       0            0                  0   \n",
       "\n",
       "      Geography_Spain  Gender_Male  \n",
       "9865                0            1  \n",
       "7389                1            0  \n",
       "4739                0            0  \n",
       "75                  0            0  \n",
       "8967                0            1  "
      ]
     },
     "execution_count": 61,
     "metadata": {},
     "output_type": "execute_result"
    }
   ],
   "source": [
    "num_col = ['CreditScore', 'Age', 'Tenure', 'Balance', 'NumOfProducts', 'EstimatedSalary']\n",
    "scaler = StandardScaler()\n",
    "scaler.fit(df_train[num_col])\n",
    "df_train_scaled = df_train.copy()\n",
    "df_train_scaled[num_col] = scaler.transform(df_train[num_col])\n",
    "df_train_scaled.head()"
   ]
  },
  {
   "cell_type": "code",
   "execution_count": 62,
   "metadata": {},
   "outputs": [],
   "source": [
    "df_valid_scaled = df_valid.copy()\n",
    "df_valid_scaled[num_col] = scaler.transform(df_valid[num_col])\n",
    "df_test_scaled = df_test.copy()\n",
    "df_test_scaled[num_col] = scaler.transform(df_test[num_col])"
   ]
  },
  {
   "cell_type": "markdown",
   "metadata": {},
   "source": [
    "Далее проведем обучение различных моделей на подготовленных данных"
   ]
  },
  {
   "cell_type": "markdown",
   "metadata": {},
   "source": [
    "### Логистическая регрессия"
   ]
  },
  {
   "cell_type": "code",
   "execution_count": 63,
   "metadata": {},
   "outputs": [
    {
     "name": "stdout",
     "output_type": "stream",
     "text": [
      "F1 мера на валидационной выбоке: 0.2734\n",
      "ROC AUC на валидационной выбоке: 0.5719\n"
     ]
    }
   ],
   "source": [
    "logistic_regression_model = LogisticRegression(random_state=42, solver='saga', penalty='l1')\n",
    "logistic_regression_model.fit(df_train_scaled[x_col], df_train_scaled[y_col].values.ravel())\n",
    "logistic_regression_predict = logistic_regression_model.predict(df_valid_scaled[x_col])\n",
    "\n",
    "logistic_regression_f1_score = f1_score(df_valid_scaled[y_col], logistic_regression_predict)\n",
    "logistic_regression_roc_auc_score = roc_auc_score(df_valid_scaled[y_col], logistic_regression_predict)\n",
    "print('F1 мера на валидационной выбоке: {:.4f}'.format(logistic_regression_f1_score))\n",
    "print('ROC AUC на валидационной выбоке: {:.4f}'.format(logistic_regression_roc_auc_score))"
   ]
  },
  {
   "cell_type": "markdown",
   "metadata": {},
   "source": [
    "### Случайный лес"
   ]
  },
  {
   "cell_type": "code",
   "execution_count": 64,
   "metadata": {},
   "outputs": [
    {
     "data": {
      "application/vnd.jupyter.widget-view+json": {
       "model_id": "9dbb6cc02a644d1c9d88ac99548e566f",
       "version_major": 2,
       "version_minor": 0
      },
      "text/plain": [
       "HBox(children=(HTML(value=''), FloatProgress(value=0.0, max=50.0), HTML(value='')))"
      ]
     },
     "metadata": {},
     "output_type": "display_data"
    },
    {
     "name": "stdout",
     "output_type": "stream",
     "text": [
      "\n",
      "F1 мера на валидационной выбоке: 0.5782 для деревьев глубиной 18\n",
      "Число деревьев: 45\n",
      "ROC AUC на валидационной выбоке: 0.7156\n"
     ]
    }
   ],
   "source": [
    "best_forest_model = None\n",
    "best_forest_depth = 0\n",
    "best_forest_n_estimators = 0\n",
    "best_forest_f1_score = 0\n",
    "for n_estimators in tqdm(range (1, 51)):\n",
    "    for depth in range(1, 21):\n",
    "        model = RandomForestClassifier(n_estimators=n_estimators, max_depth=depth, random_state=42)\n",
    "        model.fit(df_train_scaled[x_col], df_train_scaled[y_col].values.ravel())\n",
    "        model_predict = model.predict(df_valid_scaled[x_col])\n",
    "        if model_predict.sum() != 0:\n",
    "            score = f1_score(df_valid_scaled[y_col], model_predict)\n",
    "            if score > best_forest_f1_score:\n",
    "                best_forest_model = model\n",
    "                best_forest_depth = depth\n",
    "                best_forest_n_estimators = n_estimators\n",
    "                best_forest_f1_score = score\n",
    "\n",
    "best_forest_roc_auc_score = roc_auc_score(df_valid_scaled[y_col], best_forest_model.predict(df_valid_scaled[x_col]))\n",
    "print('F1 мера на валидационной выбоке: {:.4f}'.format(best_forest_f1_score), 'для деревьев глубиной', best_forest_depth)\n",
    "print('Число деревьев:', best_forest_n_estimators)\n",
    "print('ROC AUC на валидационной выбоке: {:.4f}'.format(best_forest_roc_auc_score))"
   ]
  },
  {
   "cell_type": "markdown",
   "metadata": {},
   "source": [
    "### k ближайших соседей"
   ]
  },
  {
   "cell_type": "code",
   "execution_count": 65,
   "metadata": {},
   "outputs": [
    {
     "data": {
      "application/vnd.jupyter.widget-view+json": {
       "model_id": "795b74f044f7411ab05c689f606e14b9",
       "version_major": 2,
       "version_minor": 0
      },
      "text/plain": [
       "HBox(children=(HTML(value=''), FloatProgress(value=0.0, max=49.0), HTML(value='')))"
      ]
     },
     "metadata": {},
     "output_type": "display_data"
    },
    {
     "name": "stdout",
     "output_type": "stream",
     "text": [
      "\n",
      "F1 мера на валидационной выбоке: 0.5154\n",
      "Для числа соседей: 4\n",
      "ROC AUC на валидационной выбоке: 0.6873\n"
     ]
    }
   ],
   "source": [
    "best_knn_model = None\n",
    "best_n_neighbors = 0\n",
    "best_knn_f1_score = 0\n",
    "for n_neighbors in tqdm(range(1, 50)):\n",
    "    knn_model = KNeighborsClassifier(n_neighbors=n_neighbors, weights='distance')\n",
    "    knn_model.fit(df_train_scaled[x_col], df_train_scaled[y_col].values.ravel())\n",
    "    knn_model_predict = knn_model.predict(df_valid_scaled[x_col])\n",
    "    knn_f1_score = f1_score(df_valid_scaled[y_col], knn_model_predict)\n",
    "    if knn_f1_score > best_knn_f1_score:\n",
    "        best_knn_model = knn_model\n",
    "        best_n_neighbors = n_neighbors\n",
    "        best_knn_f1_score = knn_f1_score\n",
    "        \n",
    "best_knn_roc_auc_score = roc_auc_score(df_valid_scaled[y_col], best_knn_model.predict(df_valid_scaled[x_col]))\n",
    "\n",
    "print('F1 мера на валидационной выбоке: {:.4f}'.format(best_knn_f1_score))\n",
    "print('Для числа соседей:', best_n_neighbors)\n",
    "print('ROC AUC на валидационной выбоке: {:.4f}'.format(best_knn_roc_auc_score))"
   ]
  },
  {
   "cell_type": "markdown",
   "metadata": {},
   "source": [
    "### CatBoost"
   ]
  },
  {
   "cell_type": "code",
   "execution_count": 66,
   "metadata": {},
   "outputs": [
    {
     "name": "stdout",
     "output_type": "stream",
     "text": [
      "F1 мера на валидационной выбоке: 0.6166\n",
      "ROC AUC на валидационной выбоке: 0.7385\n"
     ]
    }
   ],
   "source": [
    "cat_boost_model = CatBoostClassifier(verbose=False, random_state=42, custom_metric='F1', \n",
    "                                    eval_metric='F1', iterations=200, learning_rate=0.11)\n",
    "cat_boost_model.fit(df_train_scaled[x_col], df_train_scaled[y_col].values.ravel(),\n",
    "                    eval_set=(df_valid_scaled[x_col], df_valid_scaled[y_col].values.ravel()))\n",
    "\n",
    "cat_boost_f1_score = f1_score(df_valid_scaled[y_col], cat_boost_model.predict(df_valid_scaled[x_col]))\n",
    "cat_boost_roc_auc_score = roc_auc_score(df_valid_scaled[y_col], cat_boost_model.predict(df_valid_scaled[x_col]))\n",
    "\n",
    "print('F1 мера на валидационной выбоке: {:.4f}'.format(cat_boost_f1_score))\n",
    "print('ROC AUC на валидационной выбоке: {:.4f}'.format(cat_boost_roc_auc_score))"
   ]
  },
  {
   "cell_type": "markdown",
   "metadata": {},
   "source": [
    "Из всех рассмотренных моделей только CatBoost на валидацонной выборке отвечает заданному критерию (F1-мера должна быть не менее 0,59). Попробуем улучшить качество модели путем комбинирования нескольких моделей"
   ]
  },
  {
   "cell_type": "markdown",
   "metadata": {},
   "source": [
    "### Голосующая модель"
   ]
  },
  {
   "cell_type": "code",
   "execution_count": 67,
   "metadata": {
    "scrolled": true
   },
   "outputs": [],
   "source": [
    "# # ниже представлен код который переберает веса моделей и ищет наилучший голосующий классификатор по заданному критерию\n",
    "# # так как перебор весов занимает порядка 30 мин код закомментирован.  \n",
    "# # модель с уже найдеными весами представлена в следующей ячейке\n",
    "\n",
    "# best_voiting_classifier = None\n",
    "# best_voting_classifier_f1_score = 0\n",
    "# best_weights = []\n",
    "# for w0 in tqdm(np.arange(0,1.1,0.1)):\n",
    "#     for w1 in np.arange(0,1.1,0.1):\n",
    "#         for w2 in np.arange(0.1,1.1,0.1):\n",
    "#             voting_classifier = VotingClassifier(estimators=[('lr', logistic_regression_model), \n",
    "#                                                              ('rf', best_forest_model), \n",
    "#                                                              ('cb', cat_boost_model)], \n",
    "#                                                  voting='soft', weights=[w0,w1,w2])\n",
    "\n",
    "#             voting_classifier.fit(df_train_scaled[x_col], df_train_scaled[y_col].values.ravel())\n",
    "#             voting_classifier_predict = voting_classifier.predict(df_valid_scaled[x_col])\n",
    "#             voting_classifier_f1_score = f1_score(df_valid_scaled[y_col], voting_classifier_predict)\n",
    "#             if voting_classifier_f1_score > best_voting_classifier_f1_score:\n",
    "#                 best_voiting_classifier = voting_classifier\n",
    "#                 best_voting_classifier_f1_score = voting_classifier_f1_score\n",
    "#                 best_weights = [w0, w1, w2]\n",
    "# print('F1 мера на валидационной выбоке: {:.4f}'.format(best_voting_classifier_f1_score))\n",
    "# print('Веса моделей', best_weights)"
   ]
  },
  {
   "cell_type": "code",
   "execution_count": 68,
   "metadata": {},
   "outputs": [],
   "source": [
    "best_voting_classifier = VotingClassifier(estimators=[('lr', logistic_regression_model), \n",
    "                                                      ('rf', best_forest_model), \n",
    "                                                      ('cb', cat_boost_model)], \n",
    "                                          voting='soft', weights=[0.0, 0.1, 0.3])\n",
    "\n",
    "best_voting_classifier.fit(df_train_scaled[x_col], df_train_scaled[y_col].values.ravel());"
   ]
  },
  {
   "cell_type": "code",
   "execution_count": 69,
   "metadata": {},
   "outputs": [
    {
     "name": "stdout",
     "output_type": "stream",
     "text": [
      "F1 мера на валидационной выбоке: 0.6022\n",
      "ROC AUC на валидационной выбоке: 0.7292\n"
     ]
    }
   ],
   "source": [
    "voting_classifier_predict = best_voting_classifier.predict(df_valid_scaled[x_col])\n",
    "voting_classifier_f1_score = f1_score(df_valid_scaled[y_col], voting_classifier_predict)\n",
    "voting_classifier_roc_auc_score = roc_auc_score(df_valid_scaled[y_col], voting_classifier_predict)\n",
    "print('F1 мера на валидационной выбоке: {:.4f}'.format(voting_classifier_f1_score))\n",
    "print('ROC AUC на валидационной выбоке: {:.4f}'.format(voting_classifier_roc_auc_score))"
   ]
  },
  {
   "cell_type": "markdown",
   "metadata": {},
   "source": [
    "Голосующая модель удовлетворяет заданному требованию (F1-мера не менее 0,59) на валидационной выборке. Проверим как ведет себя модель на тестовой выборке"
   ]
  },
  {
   "cell_type": "code",
   "execution_count": 70,
   "metadata": {},
   "outputs": [
    {
     "name": "stdout",
     "output_type": "stream",
     "text": [
      "F1 мера на тестовой выбоке: 0.5956\n",
      "ROC AUC на тестовой выбоке: 0.7255\n"
     ]
    }
   ],
   "source": [
    "voting_classifier_predict = best_voting_classifier.predict(df_test_scaled[x_col])\n",
    "voting_classifier_f1_score = f1_score(df_test_scaled[y_col], voting_classifier_predict)\n",
    "voting_classifier_roc_auc_score = roc_auc_score(df_test_scaled[y_col], voting_classifier_predict)\n",
    "print('F1 мера на тестовой выбоке: {:.4f}'.format(voting_classifier_f1_score))\n",
    "print('ROC AUC на тестовой выбоке: {:.4f}'.format(voting_classifier_roc_auc_score))"
   ]
  },
  {
   "cell_type": "markdown",
   "metadata": {},
   "source": [
    "На тестовой выборке модель укладывается в заданные требования \"в притык\", что плохо. Основной причиной низкого качества модели является небаланс классов. Посмотрим на соотношение классов в исходном датафрейме"
   ]
  },
  {
   "cell_type": "code",
   "execution_count": 71,
   "metadata": {},
   "outputs": [
    {
     "data": {
      "text/plain": [
       "0    0.7963\n",
       "1    0.2037\n",
       "Name: Exited, dtype: float64"
      ]
     },
     "execution_count": 71,
     "metadata": {},
     "output_type": "execute_result"
    }
   ],
   "source": [
    "df['Exited'].value_counts(normalize=True)"
   ]
  },
  {
   "cell_type": "markdown",
   "metadata": {},
   "source": [
    "Соотношение примерно 80/20. Попробуем улучшить модель применяя техники борьбы с дисбалансом."
   ]
  },
  {
   "cell_type": "markdown",
   "metadata": {},
   "source": [
    "<a id='section3'> </a>\n",
    "\n",
    "# 3. Борьба с дисбалансом"
   ]
  },
  {
   "cell_type": "markdown",
   "metadata": {},
   "source": [
    "## Upsampling \n",
    "Попробуем улучшить модель путем \"генерации\" большего числа строк класса \"1\""
   ]
  },
  {
   "cell_type": "code",
   "execution_count": 72,
   "metadata": {},
   "outputs": [],
   "source": [
    "def upsample(df, repeat):\n",
    "    df_zeros = df[df['Exited'] == 0]\n",
    "    df_ones = df[df['Exited'] == 1]\n",
    "    df_upsampled = pd.concat([df_zeros] + [df_ones] * repeat)\n",
    "    \n",
    "    return shuffle(df_upsampled, random_state=42)"
   ]
  },
  {
   "cell_type": "code",
   "execution_count": 73,
   "metadata": {},
   "outputs": [
    {
     "data": {
      "text/plain": [
       "1    0.505741\n",
       "0    0.494259\n",
       "Name: Exited, dtype: float64"
      ]
     },
     "execution_count": 73,
     "metadata": {},
     "output_type": "execute_result"
    }
   ],
   "source": [
    "upsample(df, 4)['Exited'].value_counts(normalize=True)"
   ]
  },
  {
   "cell_type": "code",
   "execution_count": 74,
   "metadata": {},
   "outputs": [],
   "source": [
    "df_train_upsampled = upsample(df_train_scaled, 4)"
   ]
  },
  {
   "cell_type": "markdown",
   "metadata": {},
   "source": [
    "Обучим ранее рассмотренные модели на увеличенной выборке и оценим как изменились метрики"
   ]
  },
  {
   "cell_type": "markdown",
   "metadata": {},
   "source": [
    "### Логистическая регрессия"
   ]
  },
  {
   "cell_type": "code",
   "execution_count": 75,
   "metadata": {},
   "outputs": [
    {
     "name": "stdout",
     "output_type": "stream",
     "text": [
      "F1 мера на валидационной выбоке: 0.4806\n",
      "ROC AUC на валидационной выбоке: 0.6904\n"
     ]
    }
   ],
   "source": [
    "logistic_regression_model = LogisticRegression(random_state=42, solver='saga', penalty='l1')\n",
    "logistic_regression_model.fit(df_train_upsampled[x_col], df_train_upsampled[y_col].values.ravel())\n",
    "logistic_regression_predict = logistic_regression_model.predict(df_valid_scaled[x_col])\n",
    "logistic_regression_f1_score = f1_score(df_valid_scaled[y_col], logistic_regression_predict)\n",
    "logistic_regression_roc_auc_score = roc_auc_score(df_valid_scaled[y_col], logistic_regression_predict)\n",
    "print('F1 мера на валидационной выбоке: {:.4f}'.format(logistic_regression_f1_score))\n",
    "print('ROC AUC на валидационной выбоке: {:.4f}'.format(logistic_regression_roc_auc_score))"
   ]
  },
  {
   "cell_type": "markdown",
   "metadata": {},
   "source": [
    "Применение увелечения выборки (Upsampling) позволило увеличить F1 меру для модели логистической регресии на валидационной выбоке с 0.2734 до 0.4806"
   ]
  },
  {
   "cell_type": "markdown",
   "metadata": {},
   "source": [
    "### Случайный лес"
   ]
  },
  {
   "cell_type": "code",
   "execution_count": 76,
   "metadata": {},
   "outputs": [
    {
     "data": {
      "application/vnd.jupyter.widget-view+json": {
       "model_id": "54806bc966624087a54b801106c8f6a3",
       "version_major": 2,
       "version_minor": 0
      },
      "text/plain": [
       "HBox(children=(HTML(value=''), FloatProgress(value=0.0, max=50.0), HTML(value='')))"
      ]
     },
     "metadata": {},
     "output_type": "display_data"
    },
    {
     "name": "stdout",
     "output_type": "stream",
     "text": [
      "\n",
      "F1 мера на валидационной выбоке: 0.6269 для деревьев глубиной 12\n",
      "Число деревьев: 38\n",
      "ROC AUC на валидационной выбоке: 0.7707\n"
     ]
    }
   ],
   "source": [
    "best_forest_model = None\n",
    "best_forest_depth = 0\n",
    "best_forest_n_estimators = 0\n",
    "best_forest_f1_score = 0\n",
    "for n_estimators in tqdm(range (1, 51)):\n",
    "    for depth in range(1, 21):\n",
    "        model = RandomForestClassifier(n_estimators=n_estimators, max_depth=depth, random_state=42)\n",
    "        model.fit(df_train_upsampled[x_col], df_train_upsampled[y_col].values.ravel())\n",
    "        model_predict = model.predict(df_valid_scaled[x_col])\n",
    "        if model_predict.sum() != 0:\n",
    "            score = f1_score(df_valid_scaled[y_col], model_predict)\n",
    "            if score > best_forest_f1_score:\n",
    "                best_forest_model = model\n",
    "                best_forest_depth = depth\n",
    "                best_forest_n_estimators = n_estimators\n",
    "                best_forest_f1_score = score\n",
    "\n",
    "best_forest_roc_auc_score = roc_auc_score(df_valid_scaled[y_col], best_forest_model.predict(df_valid_scaled[x_col]))\n",
    "print('F1 мера на валидационной выбоке: {:.4f}'.format(best_forest_f1_score), 'для деревьев глубиной', best_forest_depth)\n",
    "print('Число деревьев:', best_forest_n_estimators)\n",
    "print('ROC AUC на валидационной выбоке: {:.4f}'.format(best_forest_roc_auc_score))"
   ]
  },
  {
   "cell_type": "markdown",
   "metadata": {},
   "source": [
    "Применение увелечения выборки для модели случайного леса позволило несколько увеличить F1 меру на валидационной выбоке с 0.5782 до 0.6269"
   ]
  },
  {
   "cell_type": "markdown",
   "metadata": {},
   "source": [
    "### k ближайших соседей"
   ]
  },
  {
   "cell_type": "code",
   "execution_count": 77,
   "metadata": {},
   "outputs": [
    {
     "data": {
      "application/vnd.jupyter.widget-view+json": {
       "model_id": "d87bb6d56c474bcaac81bdc67fdaa5a8",
       "version_major": 2,
       "version_minor": 0
      },
      "text/plain": [
       "HBox(children=(HTML(value=''), FloatProgress(value=0.0, max=49.0), HTML(value='')))"
      ]
     },
     "metadata": {},
     "output_type": "display_data"
    },
    {
     "name": "stdout",
     "output_type": "stream",
     "text": [
      "\n",
      "F1 мера на валидационной выбоке: 0.5846\n",
      "Для числа соседей: 49\n",
      "ROC AUC на валидационной выбоке: 0.7738\n"
     ]
    }
   ],
   "source": [
    "best_knn_model = None\n",
    "best_n_neighbors = 0\n",
    "best_knn_f1_score = 0\n",
    "for n_neighbors in tqdm(range(1, 50)):\n",
    "    knn_model = KNeighborsClassifier(n_neighbors=n_neighbors, weights='distance')\n",
    "    knn_model.fit(df_train_upsampled[x_col], df_train_upsampled[y_col].values.ravel())\n",
    "    knn_model_predict = knn_model.predict(df_valid_scaled[x_col])\n",
    "    knn_f1_score = f1_score(df_valid_scaled[y_col], knn_model_predict)\n",
    "    if knn_f1_score > best_knn_f1_score:\n",
    "        best_knn_model = knn_model\n",
    "        best_n_neighbors = n_neighbors\n",
    "        best_knn_f1_score = knn_f1_score\n",
    "        \n",
    "best_knn_roc_auc_score = roc_auc_score(df_valid_scaled[y_col], best_knn_model.predict(df_valid_scaled[x_col]))\n",
    "\n",
    "print('F1 мера на валидационной выбоке: {:.4f}'.format(best_knn_f1_score))\n",
    "print('Для числа соседей:', best_n_neighbors)\n",
    "print('ROC AUC на валидационной выбоке: {:.4f}'.format(best_knn_roc_auc_score))"
   ]
  },
  {
   "cell_type": "markdown",
   "metadata": {},
   "source": [
    "Применение увелечения выборки для модели k случайных соседей позволило увеличить F1 меру на валидационной выбоке с 0.5154 до 0.5846"
   ]
  },
  {
   "cell_type": "markdown",
   "metadata": {},
   "source": [
    "### CatBoost"
   ]
  },
  {
   "cell_type": "code",
   "execution_count": 78,
   "metadata": {},
   "outputs": [
    {
     "name": "stdout",
     "output_type": "stream",
     "text": [
      "F1 мера на валидационной выбоке: 0.6259\n",
      "ROC AUC на валидационной выбоке: 0.7982\n"
     ]
    }
   ],
   "source": [
    "cat_boost_model = CatBoostClassifier(verbose=False, random_state=42, custom_metric='F1', \n",
    "                                    eval_metric='F1', iterations=200, learning_rate=0.11)\n",
    "cat_boost_model.fit(df_train_upsampled[x_col], df_train_upsampled[y_col].values.ravel(),\n",
    "                    eval_set=(df_valid_scaled[x_col], df_valid_scaled[y_col].values.ravel()))\n",
    "\n",
    "cat_boost_f1_score = f1_score(df_valid_scaled[y_col], cat_boost_model.predict(df_valid_scaled[x_col]))\n",
    "cat_boost_roc_auc_score = roc_auc_score(df_valid_scaled[y_col], cat_boost_model.predict(df_valid_scaled[x_col]))\n",
    "\n",
    "print('F1 мера на валидационной выбоке: {:.4f}'.format(cat_boost_f1_score))\n",
    "print('ROC AUC на валидационной выбоке: {:.4f}'.format(cat_boost_roc_auc_score))"
   ]
  },
  {
   "cell_type": "markdown",
   "metadata": {},
   "source": [
    "Применение увелечения выборки для модели CatBoost привело к незначительному увеличению F1 меры на валидационной выбоке с 0.6166 до 0.6259"
   ]
  },
  {
   "cell_type": "markdown",
   "metadata": {},
   "source": [
    "## Взвешивание классов"
   ]
  },
  {
   "cell_type": "markdown",
   "metadata": {},
   "source": [
    "Второй путь борьбы с дисбаланосом классов - указание соответствующих параметров для каждой модели. Повторно рассмотрим уже знакомые нам модели"
   ]
  },
  {
   "cell_type": "markdown",
   "metadata": {},
   "source": [
    "### Логистическая регрессия\n",
    "Укажем параметр class_weight='balanced'"
   ]
  },
  {
   "cell_type": "code",
   "execution_count": 79,
   "metadata": {},
   "outputs": [
    {
     "name": "stdout",
     "output_type": "stream",
     "text": [
      "F1 мера на валидационной выбоке: 0.4802\n",
      "ROC AUC на валидационной выбоке: 0.6889\n"
     ]
    }
   ],
   "source": [
    "logistic_regression_model = LogisticRegression(random_state=42, solver='saga', penalty='l1', class_weight='balanced')\n",
    "logistic_regression_model.fit(df_train_scaled[x_col], df_train_scaled[y_col].values.ravel())\n",
    "logistic_regression_predict = logistic_regression_model.predict(df_valid_scaled[x_col])\n",
    "logistic_regression_f1_score = f1_score(df_valid_scaled[y_col], logistic_regression_predict)\n",
    "logistic_regression_roc_auc_score = roc_auc_score(df_valid_scaled[y_col], logistic_regression_predict)\n",
    "print('F1 мера на валидационной выбоке: {:.4f}'.format(logistic_regression_f1_score))\n",
    "print('ROC AUC на валидационной выбоке: {:.4f}'.format(logistic_regression_roc_auc_score))"
   ]
  },
  {
   "cell_type": "markdown",
   "metadata": {},
   "source": [
    "F1 мера для модели логистической регресии при взвешивании класов на валидационной выборке практически идентична мере при upsampling: 0.4802 и 0.4806"
   ]
  },
  {
   "cell_type": "markdown",
   "metadata": {},
   "source": [
    "### Случайный лес\n",
    "Укажем параметр class_weight='balanced'"
   ]
  },
  {
   "cell_type": "code",
   "execution_count": 80,
   "metadata": {},
   "outputs": [
    {
     "data": {
      "application/vnd.jupyter.widget-view+json": {
       "model_id": "01f4490846914e81b9ebf30e0f21aed4",
       "version_major": 2,
       "version_minor": 0
      },
      "text/plain": [
       "HBox(children=(HTML(value=''), FloatProgress(value=0.0, max=50.0), HTML(value='')))"
      ]
     },
     "metadata": {},
     "output_type": "display_data"
    },
    {
     "name": "stdout",
     "output_type": "stream",
     "text": [
      "\n",
      "F1 мера на валидационной выбоке: 0.6253 для деревьев глубиной 9\n",
      "Число деревьев: 9\n",
      "ROC AUC на валидационной выбоке: 0.7728\n"
     ]
    }
   ],
   "source": [
    "best_forest_model = None\n",
    "best_forest_depth = 0\n",
    "best_forest_n_estimators = 0\n",
    "best_forest_f1_score = 0\n",
    "for n_estimators in tqdm(range (1, 51)):\n",
    "    for depth in range(1, 21):\n",
    "        model = RandomForestClassifier(n_estimators=n_estimators, max_depth=depth, random_state=42, class_weight='balanced')\n",
    "        model.fit(df_train_scaled[x_col], df_train_scaled[y_col].values.ravel())\n",
    "        model_predict = model.predict(df_valid_scaled[x_col])\n",
    "        if model_predict.sum() != 0:\n",
    "            score = f1_score(df_valid_scaled[y_col], model_predict)\n",
    "            if score > best_forest_f1_score:\n",
    "                best_forest_model = model\n",
    "                best_forest_depth = depth\n",
    "                best_forest_n_estimators = n_estimators\n",
    "                best_forest_f1_score = score\n",
    "\n",
    "best_forest_roc_auc_score = roc_auc_score(df_valid_scaled[y_col], best_forest_model.predict(df_valid_scaled[x_col]))\n",
    "print('F1 мера на валидационной выбоке: {:.4f}'.format(best_forest_f1_score), 'для деревьев глубиной', best_forest_depth)\n",
    "print('Число деревьев:', best_forest_n_estimators)\n",
    "print('ROC AUC на валидационной выбоке: {:.4f}'.format(best_forest_roc_auc_score))"
   ]
  },
  {
   "cell_type": "markdown",
   "metadata": {},
   "source": [
    "F1 мера для модели случайного леса при взвешивании класов практически идентична мере при upsampling: 0.6253 и 0.6269"
   ]
  },
  {
   "cell_type": "markdown",
   "metadata": {},
   "source": [
    "### CatBoost\n",
    "Добавим гиперпараметр модели: scale_pos_weight=4"
   ]
  },
  {
   "cell_type": "code",
   "execution_count": 81,
   "metadata": {},
   "outputs": [
    {
     "name": "stdout",
     "output_type": "stream",
     "text": [
      "F1 мера на валидационной выбоке: 0.6155\n",
      "ROC AUC на валидационной выбоке: 0.7900\n"
     ]
    }
   ],
   "source": [
    "cat_boost_model = CatBoostClassifier(verbose=False, random_state=42, custom_metric='F1', \n",
    "                                    eval_metric='F1', iterations=100, scale_pos_weight=4, learning_rate=0.0619)\n",
    "cat_boost_model.fit(df_train_scaled[x_col], df_train_scaled[y_col].values.ravel(),\n",
    "                    eval_set=(df_valid_scaled[x_col], df_valid_scaled[y_col].values.ravel()))\n",
    "\n",
    "cat_boost_f1_score = f1_score(df_valid_scaled[y_col], cat_boost_model.predict(df_valid_scaled[x_col]))\n",
    "cat_boost_roc_auc_score = roc_auc_score(df_valid_scaled[y_col], cat_boost_model.predict(df_valid_scaled[x_col]))\n",
    "\n",
    "print('F1 мера на валидационной выбоке: {:.4f}'.format(cat_boost_f1_score))\n",
    "print('ROC AUC на валидационной выбоке: {:.4f}'.format(cat_boost_roc_auc_score))"
   ]
  },
  {
   "cell_type": "markdown",
   "metadata": {},
   "source": [
    "F1 мера для модели CatBoost при взвешивании класов практически идентична мере при upsampling: 0.6155 и 0.6259"
   ]
  },
  {
   "cell_type": "markdown",
   "metadata": {},
   "source": [
    "### Голосующая модель\n",
    "В качестве итоговой модели примем голосующую модель. В ней вероятности для классов которые предсказывают ранее проверенные по отдельности модели складываются с определенными весами. Такая модель должна быть более робастной и может несколько улучшить итоговую оценку"
   ]
  },
  {
   "cell_type": "code",
   "execution_count": 82,
   "metadata": {},
   "outputs": [],
   "source": [
    "# # ниже представлен код который переберает веса моделей и ищет лучший голосующий классификатор\n",
    "# # так как перебор весов занимает порядка 18 мин код закомментирован.  \n",
    "# # модель с уже найдеными весами представлена в следующей ячейке\n",
    "\n",
    "# best_voiting_classifier = None\n",
    "# best_voting_classifier_f1_score = 0\n",
    "# best_weights = []\n",
    "# for w0 in tqdm(np.arange(0,1.2,0.2)):\n",
    "#     for w1 in np.arange(0,1.2,0.2):\n",
    "#         for w2 in np.arange(0.2,1.2,0.2):\n",
    "#             voting_classifier = VotingClassifier(estimators=[('lr', logistic_regression_model), \n",
    "#                                                              ('rf', best_forest_model), \n",
    "#                                                              ('cb', cat_boost_model)], \n",
    "#                                                  voting='soft', weights=[w0,w1,w2])\n",
    "\n",
    "#             voting_classifier.fit(df_train_scaled[x_col], df_train_scaled[y_col].values.ravel())\n",
    "#             voting_classifier_predict = voting_classifier.predict(df_valid_scaled[x_col])\n",
    "#             voting_classifier_f1_score = f1_score(df_valid_scaled[y_col], voting_classifier_predict)\n",
    "#             if voting_classifier_f1_score > best_voting_classifier_f1_score:\n",
    "#                 best_voiting_classifier = voting_classifier\n",
    "#                 best_voting_classifier_f1_score = voting_classifier_f1_score\n",
    "#                 best_weights = [w0, w1, w2]\n",
    "# print('F1 мера на валидационной выбоке: {:.4f}'.format(best_voting_classifier_f1_score))\n",
    "# print('Веса моделей', best_weights)"
   ]
  },
  {
   "cell_type": "code",
   "execution_count": 83,
   "metadata": {},
   "outputs": [],
   "source": [
    "best_voting_classifier = VotingClassifier(estimators=[('lr', logistic_regression_model), \n",
    "                                                      ('rf', best_forest_model), \n",
    "                                                      ('cb', cat_boost_model)], \n",
    "                                          voting='soft', weights=[0.2, 0.6, 1.0])\n",
    "\n",
    "best_voting_classifier.fit(df_train_scaled[x_col], df_train_scaled[y_col].values.ravel());"
   ]
  },
  {
   "cell_type": "code",
   "execution_count": 84,
   "metadata": {},
   "outputs": [
    {
     "name": "stdout",
     "output_type": "stream",
     "text": [
      "F1 мера на валидационной выбоке: 0.6236\n",
      "ROC AUC на валидационной выбоке: 0.7876\n"
     ]
    }
   ],
   "source": [
    "voting_classifier_predict = best_voting_classifier.predict(df_valid_scaled[x_col])\n",
    "voting_classifier_f1_score = f1_score(df_valid_scaled[y_col], voting_classifier_predict)\n",
    "voting_classifier_roc_auc_score = roc_auc_score(df_valid_scaled[y_col], voting_classifier_predict)\n",
    "print('F1 мера на валидационной выбоке: {:.4f}'.format(voting_classifier_f1_score))\n",
    "print('ROC AUC на валидационной выбоке: {:.4f}'.format(voting_classifier_roc_auc_score))"
   ]
  },
  {
   "cell_type": "markdown",
   "metadata": {},
   "source": [
    "F1 мера на валидационной выбоке для итоговой модели составила 0.6236, что соответствует заданному критерию (не менее 0.59). Проверим как работает модель на тестовой выборке."
   ]
  },
  {
   "cell_type": "markdown",
   "metadata": {},
   "source": [
    "<a id='section4'> </a>\n",
    "\n",
    "# 4. Тестирование модели"
   ]
  },
  {
   "cell_type": "code",
   "execution_count": 85,
   "metadata": {},
   "outputs": [
    {
     "name": "stdout",
     "output_type": "stream",
     "text": [
      "F1 мера на тестовой выбоке: 0.6271\n",
      "ROC AUC на тестовой выбоке: 0.7941\n"
     ]
    }
   ],
   "source": [
    "voting_classifier_predict = best_voting_classifier.predict(df_test_scaled[x_col])\n",
    "voting_classifier_f1_score = f1_score(df_test_scaled[y_col], voting_classifier_predict)\n",
    "voting_classifier_roc_auc_score = roc_auc_score(df_test_scaled[y_col], voting_classifier_predict)\n",
    "print('F1 мера на тестовой выбоке: {:.4f}'.format(voting_classifier_f1_score))\n",
    "print('ROC AUC на тестовой выбоке: {:.4f}'.format(voting_classifier_roc_auc_score))"
   ]
  },
  {
   "cell_type": "markdown",
   "metadata": {},
   "source": [
    "F1 мера на валидационной и тестовой выборке отличается незначительно, что может говорить о стабильной работе алгоритма."
   ]
  },
  {
   "cell_type": "markdown",
   "metadata": {},
   "source": [
    "### Проверка модели на адекватность"
   ]
  },
  {
   "cell_type": "code",
   "execution_count": 86,
   "metadata": {},
   "outputs": [
    {
     "name": "stdout",
     "output_type": "stream",
     "text": [
      "F1 мера : 0.3317\n",
      "ROC AUC : 0.5000\n"
     ]
    }
   ],
   "source": [
    "dummy_classifier = DummyClassifier(random_state=42, strategy='constant', constant=[1])\n",
    "dummy_classifier.fit(df_train_scaled[x_col], df_train_scaled[y_col].values.ravel())\n",
    "dummy_classifier_predict = dummy_classifier.predict(df_test_scaled[x_col])\n",
    "dummy_classifier_f1_score = f1_score(df_test_scaled[y_col], dummy_classifier_predict)\n",
    "dummy_classifier_roc_auc_score = roc_auc_score(df_test_scaled[y_col], dummy_classifier_predict)\n",
    "print('F1 мера : {:.4f}'.format(dummy_classifier_f1_score))\n",
    "print('ROC AUC : {:.4f}'.format(dummy_classifier_roc_auc_score))"
   ]
  },
  {
   "cell_type": "markdown",
   "metadata": {},
   "source": [
    "Константная модель дает F1 меру 0.3317, итоговая модель на тестовой выборке 0.6271, что говорит об адекватности модели"
   ]
  },
  {
   "cell_type": "markdown",
   "metadata": {},
   "source": [
    "<a id='section5'> </a>\n",
    "\n",
    "# Выводы"
   ]
  },
  {
   "cell_type": "markdown",
   "metadata": {},
   "source": [
    "1. В работе была оценена возможность использования следующих алгоритмов:\n",
    "    * дерево решений\n",
    "    * случайный лес\n",
    "    * k ближвйших соседей\n",
    "    * логистическая регрессия\n",
    "    * CatBoost\n",
    "    \n",
    "* Оптимизированы параметры алгоритмов\n",
    "* Проработано два варианта балансировки выборки:\n",
    "    * upsampling\n",
    "    * взвешивание классов\n",
    "  \n",
    "  Оба подхода дают близкую F1 меру для одной и той же модели на одних и тех же данных. Оба подхода дают выйгрыш по сравнению с подходом когда небаланс классов не учитывается\n",
    "  \n",
    "* Предложено решающее правило по которому сформирована итоговая модель\n",
    "* Проведена оценка F1 меры и ROC AUC для каждой из рассмотренных моделей\n",
    "* Итоговая модель имеет F1 меру на тестовой выборке 62,7 % и ROC AUC - 0,79"
   ]
  }
 ],
 "metadata": {
  "kernelspec": {
   "display_name": "Python 3",
   "language": "python",
   "name": "python3"
  },
  "language_info": {
   "codemirror_mode": {
    "name": "ipython",
    "version": 3
   },
   "file_extension": ".py",
   "mimetype": "text/x-python",
   "name": "python",
   "nbconvert_exporter": "python",
   "pygments_lexer": "ipython3",
   "version": "3.8.5"
  },
  "toc": {
   "base_numbering": 1,
   "nav_menu": {},
   "number_sections": true,
   "sideBar": true,
   "skip_h1_title": true,
   "title_cell": "Table of Contents",
   "title_sidebar": "Contents",
   "toc_cell": false,
   "toc_position": {},
   "toc_section_display": true,
   "toc_window_display": false
  }
 },
 "nbformat": 4,
 "nbformat_minor": 2
}
