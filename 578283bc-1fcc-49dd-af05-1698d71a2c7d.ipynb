{
 "cells": [
  {
   "cell_type": "markdown",
   "metadata": {},
   "source": [
    "<h3 class=\"alert-heading\">Комментарий от ревьюера</h3>\n",
    "<p>Павел, привет!</p>\n",
    "<p>Меня зовут Алексей Секоцкий. Поздравляю с подготовкой очередного проекта. Предлагаю обращаться друг к другу на «ты» если нет возражений. Ниже стандартный блок с условными обозначениями и напоминанием не удалять мои комментарии:</p>\n",
    "<div class=\"alert alert-success\" role=\"alert\">\n",
    "всё отлично\n",
    "</div>\n",
    "<div class=\"alert alert-warning\" role=\"alert\">\n",
    "рекомендации на будущее (не требующие доработки проекта)\n",
    "</div>\n",
    "<div class=\"alert alert-danger\" role=\"alert\">\n",
    "критичные моменты требующие внимания (доработки)\n",
    "</div>\n",
    "<div class=\"alert alert-info\">\n",
    "итоговый комментарий\n",
    "</div>\n",
    "\n",
    "<hr>\n",
    "<p>Пожалуйста, не изменяй и не удаляй мои комментарии – они потребуются для повторной проверки (при необходимости). Задавай вопросы, реагируй на мои комментарии, описывай сделанные изменения, помечая их любым удобным наглядным способом</b>.\n",
    "</p>"
   ]
  },
  {
   "cell_type": "markdown",
   "metadata": {},
   "source": [
    "# Оценка рыночной стоимости автомобиля на основе исторических данных\n",
    "\n",
    "Сервис по продаже автомобилей с пробегом «Не бит, не крашен» разрабатывает приложение для привлечения новых клиентов. В нём можно быстро узнать рыночную стоимость своего автомобиля. В вашем распоряжении исторические данные: технические характеристики, комплектации и цены автомобилей. Вам нужно построить модель для определения стоимости. \n",
    "\n",
    "Заказчику важны:\n",
    "\n",
    "- качество предсказания;\n",
    "- скорость предсказания;\n",
    "- время обучения.\n",
    "\n",
    "______\n",
    "\n",
    "###### Данное исследование разделено на несколько частей.\n",
    "\n",
    "* [1. Подготовка данных.](#section1)\n",
    "* [2. Обучение моделей.](#section2)\n",
    "* [3. Анализ моделей](#section3)\n",
    "* [4. Выводы](#section4)\n",
    "\n"
   ]
  },
  {
   "cell_type": "markdown",
   "metadata": {},
   "source": [
    "<a id='section1'> </a>\n",
    "\n",
    "# 1. Подготовка данных"
   ]
  },
  {
   "cell_type": "code",
   "execution_count": 1,
   "metadata": {},
   "outputs": [],
   "source": [
    "import pandas as pd\n",
    "import numpy as np\n",
    "import lightgbm as lgb\n",
    "from catboost import CatBoostRegressor, Pool\n",
    "from sklearn.metrics import mean_squared_error\n",
    "from sklearn.model_selection import train_test_split\n",
    "from sklearn.preprocessing import StandardScaler\n",
    "from sklearn.linear_model import LinearRegression\n",
    "from sklearn.neighbors import KNeighborsRegressor"
   ]
  },
  {
   "cell_type": "code",
   "execution_count": 2,
   "metadata": {},
   "outputs": [
    {
     "data": {
      "text/html": [
       "<div>\n",
       "<style scoped>\n",
       "    .dataframe tbody tr th:only-of-type {\n",
       "        vertical-align: middle;\n",
       "    }\n",
       "\n",
       "    .dataframe tbody tr th {\n",
       "        vertical-align: top;\n",
       "    }\n",
       "\n",
       "    .dataframe thead th {\n",
       "        text-align: right;\n",
       "    }\n",
       "</style>\n",
       "<table border=\"1\" class=\"dataframe\">\n",
       "  <thead>\n",
       "    <tr style=\"text-align: right;\">\n",
       "      <th></th>\n",
       "      <th>DateCrawled</th>\n",
       "      <th>Price</th>\n",
       "      <th>VehicleType</th>\n",
       "      <th>RegistrationYear</th>\n",
       "      <th>Gearbox</th>\n",
       "      <th>Power</th>\n",
       "      <th>Model</th>\n",
       "      <th>Kilometer</th>\n",
       "      <th>RegistrationMonth</th>\n",
       "      <th>FuelType</th>\n",
       "      <th>Brand</th>\n",
       "      <th>NotRepaired</th>\n",
       "      <th>DateCreated</th>\n",
       "      <th>NumberOfPictures</th>\n",
       "      <th>PostalCode</th>\n",
       "      <th>LastSeen</th>\n",
       "    </tr>\n",
       "  </thead>\n",
       "  <tbody>\n",
       "    <tr>\n",
       "      <td>0</td>\n",
       "      <td>2016-03-24 11:52:17</td>\n",
       "      <td>480</td>\n",
       "      <td>NaN</td>\n",
       "      <td>1993</td>\n",
       "      <td>manual</td>\n",
       "      <td>0</td>\n",
       "      <td>golf</td>\n",
       "      <td>150000</td>\n",
       "      <td>0</td>\n",
       "      <td>petrol</td>\n",
       "      <td>volkswagen</td>\n",
       "      <td>NaN</td>\n",
       "      <td>2016-03-24 00:00:00</td>\n",
       "      <td>0</td>\n",
       "      <td>70435</td>\n",
       "      <td>2016-04-07 03:16:57</td>\n",
       "    </tr>\n",
       "    <tr>\n",
       "      <td>1</td>\n",
       "      <td>2016-03-24 10:58:45</td>\n",
       "      <td>18300</td>\n",
       "      <td>coupe</td>\n",
       "      <td>2011</td>\n",
       "      <td>manual</td>\n",
       "      <td>190</td>\n",
       "      <td>NaN</td>\n",
       "      <td>125000</td>\n",
       "      <td>5</td>\n",
       "      <td>gasoline</td>\n",
       "      <td>audi</td>\n",
       "      <td>yes</td>\n",
       "      <td>2016-03-24 00:00:00</td>\n",
       "      <td>0</td>\n",
       "      <td>66954</td>\n",
       "      <td>2016-04-07 01:46:50</td>\n",
       "    </tr>\n",
       "    <tr>\n",
       "      <td>2</td>\n",
       "      <td>2016-03-14 12:52:21</td>\n",
       "      <td>9800</td>\n",
       "      <td>suv</td>\n",
       "      <td>2004</td>\n",
       "      <td>auto</td>\n",
       "      <td>163</td>\n",
       "      <td>grand</td>\n",
       "      <td>125000</td>\n",
       "      <td>8</td>\n",
       "      <td>gasoline</td>\n",
       "      <td>jeep</td>\n",
       "      <td>NaN</td>\n",
       "      <td>2016-03-14 00:00:00</td>\n",
       "      <td>0</td>\n",
       "      <td>90480</td>\n",
       "      <td>2016-04-05 12:47:46</td>\n",
       "    </tr>\n",
       "    <tr>\n",
       "      <td>3</td>\n",
       "      <td>2016-03-17 16:54:04</td>\n",
       "      <td>1500</td>\n",
       "      <td>small</td>\n",
       "      <td>2001</td>\n",
       "      <td>manual</td>\n",
       "      <td>75</td>\n",
       "      <td>golf</td>\n",
       "      <td>150000</td>\n",
       "      <td>6</td>\n",
       "      <td>petrol</td>\n",
       "      <td>volkswagen</td>\n",
       "      <td>no</td>\n",
       "      <td>2016-03-17 00:00:00</td>\n",
       "      <td>0</td>\n",
       "      <td>91074</td>\n",
       "      <td>2016-03-17 17:40:17</td>\n",
       "    </tr>\n",
       "    <tr>\n",
       "      <td>4</td>\n",
       "      <td>2016-03-31 17:25:20</td>\n",
       "      <td>3600</td>\n",
       "      <td>small</td>\n",
       "      <td>2008</td>\n",
       "      <td>manual</td>\n",
       "      <td>69</td>\n",
       "      <td>fabia</td>\n",
       "      <td>90000</td>\n",
       "      <td>7</td>\n",
       "      <td>gasoline</td>\n",
       "      <td>skoda</td>\n",
       "      <td>no</td>\n",
       "      <td>2016-03-31 00:00:00</td>\n",
       "      <td>0</td>\n",
       "      <td>60437</td>\n",
       "      <td>2016-04-06 10:17:21</td>\n",
       "    </tr>\n",
       "  </tbody>\n",
       "</table>\n",
       "</div>"
      ],
      "text/plain": [
       "           DateCrawled  Price VehicleType  RegistrationYear Gearbox  Power  \\\n",
       "0  2016-03-24 11:52:17    480         NaN              1993  manual      0   \n",
       "1  2016-03-24 10:58:45  18300       coupe              2011  manual    190   \n",
       "2  2016-03-14 12:52:21   9800         suv              2004    auto    163   \n",
       "3  2016-03-17 16:54:04   1500       small              2001  manual     75   \n",
       "4  2016-03-31 17:25:20   3600       small              2008  manual     69   \n",
       "\n",
       "   Model  Kilometer  RegistrationMonth  FuelType       Brand NotRepaired  \\\n",
       "0   golf     150000                  0    petrol  volkswagen         NaN   \n",
       "1    NaN     125000                  5  gasoline        audi         yes   \n",
       "2  grand     125000                  8  gasoline        jeep         NaN   \n",
       "3   golf     150000                  6    petrol  volkswagen          no   \n",
       "4  fabia      90000                  7  gasoline       skoda          no   \n",
       "\n",
       "           DateCreated  NumberOfPictures  PostalCode             LastSeen  \n",
       "0  2016-03-24 00:00:00                 0       70435  2016-04-07 03:16:57  \n",
       "1  2016-03-24 00:00:00                 0       66954  2016-04-07 01:46:50  \n",
       "2  2016-03-14 00:00:00                 0       90480  2016-04-05 12:47:46  \n",
       "3  2016-03-17 00:00:00                 0       91074  2016-03-17 17:40:17  \n",
       "4  2016-03-31 00:00:00                 0       60437  2016-04-06 10:17:21  "
      ]
     },
     "execution_count": 2,
     "metadata": {},
     "output_type": "execute_result"
    }
   ],
   "source": [
    "df = pd.read_csv('/datasets/autos.csv')\n",
    "df.head()"
   ]
  },
  {
   "cell_type": "markdown",
   "metadata": {},
   "source": [
    "**Признаки**\n",
    "* DateCrawled — дата скачивания анкеты из базы\n",
    "* VehicleType — тип автомобильного кузова\n",
    "* RegistrationYear — год регистрации автомобиля\n",
    "* Gearbox — тип коробки передач\n",
    "* Power — мощность (л. с.)\n",
    "* Model — модель автомобиля\n",
    "* Kilometer — пробег (км)\n",
    "* RegistrationMonth — месяц регистрации автомобиля\n",
    "* FuelType — тип топлива\n",
    "* Brand — марка автомобиля\n",
    "* NotRepaired — была машина в ремонте или нет\n",
    "* DateCreated — дата создания анкеты\n",
    "* NumberOfPictures — количество фотографий автомобиля\n",
    "* PostalCode — почтовый индекс владельца анкеты (пользователя)\n",
    "* LastSeen — дата последней активности пользователя\n",
    "\n",
    "\n",
    "**Целевой признак**\n",
    "* Price — цена (евро)"
   ]
  },
  {
   "cell_type": "code",
   "execution_count": 3,
   "metadata": {},
   "outputs": [
    {
     "name": "stdout",
     "output_type": "stream",
     "text": [
      "<class 'pandas.core.frame.DataFrame'>\n",
      "RangeIndex: 354369 entries, 0 to 354368\n",
      "Data columns (total 16 columns):\n",
      "DateCrawled          354369 non-null object\n",
      "Price                354369 non-null int64\n",
      "VehicleType          316879 non-null object\n",
      "RegistrationYear     354369 non-null int64\n",
      "Gearbox              334536 non-null object\n",
      "Power                354369 non-null int64\n",
      "Model                334664 non-null object\n",
      "Kilometer            354369 non-null int64\n",
      "RegistrationMonth    354369 non-null int64\n",
      "FuelType             321474 non-null object\n",
      "Brand                354369 non-null object\n",
      "NotRepaired          283215 non-null object\n",
      "DateCreated          354369 non-null object\n",
      "NumberOfPictures     354369 non-null int64\n",
      "PostalCode           354369 non-null int64\n",
      "LastSeen             354369 non-null object\n",
      "dtypes: int64(7), object(9)\n",
      "memory usage: 43.3+ MB\n"
     ]
    }
   ],
   "source": [
    "df.info()"
   ]
  },
  {
   "cell_type": "code",
   "execution_count": 4,
   "metadata": {
    "scrolled": true
   },
   "outputs": [
    {
     "data": {
      "text/html": [
       "<div>\n",
       "<style scoped>\n",
       "    .dataframe tbody tr th:only-of-type {\n",
       "        vertical-align: middle;\n",
       "    }\n",
       "\n",
       "    .dataframe tbody tr th {\n",
       "        vertical-align: top;\n",
       "    }\n",
       "\n",
       "    .dataframe thead th {\n",
       "        text-align: right;\n",
       "    }\n",
       "</style>\n",
       "<table border=\"1\" class=\"dataframe\">\n",
       "  <thead>\n",
       "    <tr style=\"text-align: right;\">\n",
       "      <th></th>\n",
       "      <th>Price</th>\n",
       "      <th>RegistrationYear</th>\n",
       "      <th>Power</th>\n",
       "      <th>Kilometer</th>\n",
       "      <th>RegistrationMonth</th>\n",
       "      <th>NumberOfPictures</th>\n",
       "      <th>PostalCode</th>\n",
       "    </tr>\n",
       "  </thead>\n",
       "  <tbody>\n",
       "    <tr>\n",
       "      <td>count</td>\n",
       "      <td>354369.000000</td>\n",
       "      <td>354369.000000</td>\n",
       "      <td>354369.000000</td>\n",
       "      <td>354369.000000</td>\n",
       "      <td>354369.000000</td>\n",
       "      <td>354369.0</td>\n",
       "      <td>354369.000000</td>\n",
       "    </tr>\n",
       "    <tr>\n",
       "      <td>mean</td>\n",
       "      <td>4416.656776</td>\n",
       "      <td>2004.234448</td>\n",
       "      <td>110.094337</td>\n",
       "      <td>128211.172535</td>\n",
       "      <td>5.714645</td>\n",
       "      <td>0.0</td>\n",
       "      <td>50508.689087</td>\n",
       "    </tr>\n",
       "    <tr>\n",
       "      <td>std</td>\n",
       "      <td>4514.158514</td>\n",
       "      <td>90.227958</td>\n",
       "      <td>189.850405</td>\n",
       "      <td>37905.341530</td>\n",
       "      <td>3.726421</td>\n",
       "      <td>0.0</td>\n",
       "      <td>25783.096248</td>\n",
       "    </tr>\n",
       "    <tr>\n",
       "      <td>min</td>\n",
       "      <td>0.000000</td>\n",
       "      <td>1000.000000</td>\n",
       "      <td>0.000000</td>\n",
       "      <td>5000.000000</td>\n",
       "      <td>0.000000</td>\n",
       "      <td>0.0</td>\n",
       "      <td>1067.000000</td>\n",
       "    </tr>\n",
       "    <tr>\n",
       "      <td>25%</td>\n",
       "      <td>1050.000000</td>\n",
       "      <td>1999.000000</td>\n",
       "      <td>69.000000</td>\n",
       "      <td>125000.000000</td>\n",
       "      <td>3.000000</td>\n",
       "      <td>0.0</td>\n",
       "      <td>30165.000000</td>\n",
       "    </tr>\n",
       "    <tr>\n",
       "      <td>50%</td>\n",
       "      <td>2700.000000</td>\n",
       "      <td>2003.000000</td>\n",
       "      <td>105.000000</td>\n",
       "      <td>150000.000000</td>\n",
       "      <td>6.000000</td>\n",
       "      <td>0.0</td>\n",
       "      <td>49413.000000</td>\n",
       "    </tr>\n",
       "    <tr>\n",
       "      <td>75%</td>\n",
       "      <td>6400.000000</td>\n",
       "      <td>2008.000000</td>\n",
       "      <td>143.000000</td>\n",
       "      <td>150000.000000</td>\n",
       "      <td>9.000000</td>\n",
       "      <td>0.0</td>\n",
       "      <td>71083.000000</td>\n",
       "    </tr>\n",
       "    <tr>\n",
       "      <td>max</td>\n",
       "      <td>20000.000000</td>\n",
       "      <td>9999.000000</td>\n",
       "      <td>20000.000000</td>\n",
       "      <td>150000.000000</td>\n",
       "      <td>12.000000</td>\n",
       "      <td>0.0</td>\n",
       "      <td>99998.000000</td>\n",
       "    </tr>\n",
       "  </tbody>\n",
       "</table>\n",
       "</div>"
      ],
      "text/plain": [
       "               Price  RegistrationYear          Power      Kilometer  \\\n",
       "count  354369.000000     354369.000000  354369.000000  354369.000000   \n",
       "mean     4416.656776       2004.234448     110.094337  128211.172535   \n",
       "std      4514.158514         90.227958     189.850405   37905.341530   \n",
       "min         0.000000       1000.000000       0.000000    5000.000000   \n",
       "25%      1050.000000       1999.000000      69.000000  125000.000000   \n",
       "50%      2700.000000       2003.000000     105.000000  150000.000000   \n",
       "75%      6400.000000       2008.000000     143.000000  150000.000000   \n",
       "max     20000.000000       9999.000000   20000.000000  150000.000000   \n",
       "\n",
       "       RegistrationMonth  NumberOfPictures     PostalCode  \n",
       "count      354369.000000          354369.0  354369.000000  \n",
       "mean            5.714645               0.0   50508.689087  \n",
       "std             3.726421               0.0   25783.096248  \n",
       "min             0.000000               0.0    1067.000000  \n",
       "25%             3.000000               0.0   30165.000000  \n",
       "50%             6.000000               0.0   49413.000000  \n",
       "75%             9.000000               0.0   71083.000000  \n",
       "max            12.000000               0.0   99998.000000  "
      ]
     },
     "execution_count": 4,
     "metadata": {},
     "output_type": "execute_result"
    }
   ],
   "source": [
    "df.describe()"
   ]
  },
  {
   "cell_type": "markdown",
   "metadata": {},
   "source": [
    "В данных выявлены следующие проблемы:\n",
    "1. В столбцах VehicleType, Gearbox, Model, FuelType, NotRepaired имеются пропуски. Необходимо их заполнить или удалить часть строк.\n",
    "2. В данных есть строки для которых в столбцах Price, Power или RegistrationMonth указаны нулевые значения, что является аномалией.\n",
    "3. В столбце с годом регистрации автомобиля встречаются аномалии с очень низкими (min 1000) и очень высокими значениями (9999).\n",
    "4. Необходимо произвести замену типов данных (в часности столбцы с датами DateCrawled, DateCreated, LastSeen необходимо привести к численным значениям).\n",
    "5. В столбце NumberOfPictures все значения нулевые. Данный столбец можно удалить.\n"
   ]
  },
  {
   "cell_type": "markdown",
   "metadata": {},
   "source": [
    "<div class=\"alert alert-warning\">\n",
    "<h4> Комментарий от ревьюера</h4>\n",
    "\n",
    "Хороший анализ. Отмечены пропуски и другие особенности данных.<br>\n",
    "    \n",
    "Что можно было бы улучшить: помимо NumberOfPictures у нас есть еще как минимум 3 (а то и 5) не очень полезных нам признаков.\n",
    "</div>"
   ]
  },
  {
   "cell_type": "code",
   "execution_count": 5,
   "metadata": {},
   "outputs": [
    {
     "data": {
      "text/plain": [
       "array([0])"
      ]
     },
     "execution_count": 5,
     "metadata": {},
     "output_type": "execute_result"
    }
   ],
   "source": [
    "# убедимся что в столбце NumberOfPictures только нули\n",
    "df['NumberOfPictures'].unique()"
   ]
  },
  {
   "cell_type": "code",
   "execution_count": 6,
   "metadata": {},
   "outputs": [],
   "source": [
    "# удалим неинформативный столбец\n",
    "df = df.drop('NumberOfPictures', axis='columns')"
   ]
  },
  {
   "cell_type": "markdown",
   "metadata": {},
   "source": [
    "Посморим на распределение целевого признака в датасете."
   ]
  },
  {
   "cell_type": "code",
   "execution_count": 7,
   "metadata": {},
   "outputs": [
    {
     "data": {
      "image/png": "[encoded data removed]",
      "text/plain": [
       "<Figure size 1080x360 with 1 Axes>"
      ]
     },
     "metadata": {
      "needs_background": "light"
     },
     "output_type": "display_data"
    }
   ],
   "source": [
    "(df['Price'].hist(bins=151, figsize=(15,5))\n",
    "     .set(xlabel='Цена автомобиля (в евро)', \n",
    "      ylabel='Количество записей',  \n",
    "      title='Распределение стоимости автомобилей в датасете'));"
   ]
  },
  {
   "cell_type": "markdown",
   "metadata": {},
   "source": [
    "Из линейчатости гистограммы можно сделать вывод, что люди предпочитают устанавливать \"куглые\" цены на автомобили. Так же на гистограмме имеется ярковыраженный пик в области нулевых цен. Оценим долю строк для которых указана цена автомобиля менее 100 евро"
   ]
  },
  {
   "cell_type": "code",
   "execution_count": 8,
   "metadata": {},
   "outputs": [
    {
     "data": {
      "text/plain": [
       "0.04048040319553911"
      ]
     },
     "execution_count": 8,
     "metadata": {},
     "output_type": "execute_result"
    }
   ],
   "source": [
    "len(df[df['Price']<=100]) / len(df)"
   ]
  },
  {
   "cell_type": "markdown",
   "metadata": {},
   "source": [
    "Удалим эти строки так как это явная анамалия и в рамках задачи предсказания цены на реальные автомобили данные строки не представляют интереса. Построим гистограмму повторно."
   ]
  },
  {
   "cell_type": "code",
   "execution_count": 9,
   "metadata": {},
   "outputs": [
    {
     "data": {
      "image/png": "[encoded data removed]",
      "text/plain": [
       "<Figure size 1080x360 with 1 Axes>"
      ]
     },
     "metadata": {
      "needs_background": "light"
     },
     "output_type": "display_data"
    }
   ],
   "source": [
    "df = df.drop(df.index[df['Price']<=100], axis='index')\n",
    "\n",
    "(df['Price'].hist(bins=151, figsize=(15,5))\n",
    "     .set(xlabel='Цена автомобиля (в евро)', \n",
    "      ylabel='Количество записей',  \n",
    "      title='Распределение стоимости автомобилей в датасете'));"
   ]
  },
  {
   "cell_type": "markdown",
   "metadata": {},
   "source": [
    "Так же дополнительно создадим в датафейме колонку с округленными до 100 евро ценами на автомобили. Попробуем обучить одну из моделей на этом целевом признаке и сравним точность предсказания с моделью обученной на исходном таргете."
   ]
  },
  {
   "cell_type": "code",
   "execution_count": 10,
   "metadata": {},
   "outputs": [],
   "source": [
    "df['PriceRounded'] = (np.round(df['Price'] / 100) * 100).astype('int32')"
   ]
  },
  {
   "cell_type": "markdown",
   "metadata": {},
   "source": [
    "Рассмотрим колонку с мощностью двигателя. По состоянию на 2019 г. самым мощным серийным автомобилем был электрический гиперкар Owl компании Aspark с силовой установкой порядка 2000 л.с. До 60 миль в час (97 километров в час) он разгоняется за 1,69 секунды. \n",
    "\n",
    "Удалим из данных все строки с мощностью двигателя более 2500 л.с, а так же с нулевой мощностью и построим гистограмму"
   ]
  },
  {
   "cell_type": "code",
   "execution_count": 11,
   "metadata": {},
   "outputs": [],
   "source": [
    "df = df.drop((df.index[df['Power']>=2500]) | (df.index[df['Power']==0]), axis='index')"
   ]
  },
  {
   "cell_type": "code",
   "execution_count": 12,
   "metadata": {},
   "outputs": [
    {
     "data": {
      "image/png": "[encoded data removed]",
      "text/plain": [
       "<Figure size 1080x360 with 1 Axes>"
      ]
     },
     "metadata": {
      "needs_background": "light"
     },
     "output_type": "display_data"
    }
   ],
   "source": [
    "(df['Power'].hist(bins=151, figsize=(15,5))\n",
    ".set(xlim=(0, 2500),\n",
    "    xlabel='Мощность двигателя (л.с.)', \n",
    "    ylabel='Количество записей',  \n",
    "    title='Распределение мощности двигателей автомобилей в датасете'));"
   ]
  },
  {
   "cell_type": "markdown",
   "metadata": {},
   "source": [
    "Рассмотим распределение автомобилей по году регистрации. Ограничим свое рассмотрение только послевоенными годами (с 1945 по наст. вр.)"
   ]
  },
  {
   "cell_type": "markdown",
   "metadata": {},
   "source": [
    "<div class=\"alert alert-warning\">\n",
    "<h4> Комментарий от ревьюера</h4>\n",
    "\n",
    "Нет аргументации почему 1945. Почему ни 1930?\n",
    "</div>"
   ]
  },
  {
   "cell_type": "code",
   "execution_count": 13,
   "metadata": {},
   "outputs": [
    {
     "data": {
      "image/png": "[encoded data removed]",
      "text/plain": [
       "<Figure size 1080x360 with 1 Axes>"
      ]
     },
     "metadata": {
      "needs_background": "light"
     },
     "output_type": "display_data"
    }
   ],
   "source": [
    "(df['RegistrationYear'].hist(bins=151, figsize=(15,5))\n",
    " .set(xlim=(1945, 2021),\n",
    "    xlabel='Год регистрации', \n",
    "    ylabel='Количество записей',  \n",
    "    title='Распределение автомобилей по году регистрации'));"
   ]
  },
  {
   "cell_type": "markdown",
   "metadata": {},
   "source": [
    "Поскольку в данных встречаются аномалии с очень низкими значениями (min 1000) и очень высокими значениями (9999), то гистограмма оказалась искаженной. Удалим строки не относящиеся к рассматриваемому периоду и построим гистограмму повторно."
   ]
  },
  {
   "cell_type": "code",
   "execution_count": 14,
   "metadata": {},
   "outputs": [],
   "source": [
    "df = df.drop(df.index[(df['RegistrationYear']<=1945) | (df['RegistrationYear']>=2021)], axis='index')"
   ]
  },
  {
   "cell_type": "code",
   "execution_count": 15,
   "metadata": {
    "scrolled": true
   },
   "outputs": [
    {
     "data": {
      "image/png": "[encoded data removed]",
      "text/plain": [
       "<Figure size 1080x360 with 1 Axes>"
      ]
     },
     "metadata": {
      "needs_background": "light"
     },
     "output_type": "display_data"
    }
   ],
   "source": [
    "(df['RegistrationYear'].hist(bins=75, figsize=(15,5))\n",
    " .set(xlim=(1945, 2021),\n",
    "    xticks=[x for x in range(1945,2021,4)],\n",
    "    xlabel='Год регистрации', \n",
    "    ylabel='Количество записей',  \n",
    "    title='Распределение автомобилей по году регистрации'));"
   ]
  },
  {
   "cell_type": "markdown",
   "metadata": {},
   "source": [
    "По гистограмме видно, что значительное снижение регистрации автомобилей произошло после кризиса 2008-2009 годов, а восстановление рынка началось только в 2015 году.\n",
    "\n",
    "Посмотрим на уникальные значения которые встречаются в столбце RegistrationMonth"
   ]
  },
  {
   "cell_type": "code",
   "execution_count": 16,
   "metadata": {},
   "outputs": [
    {
     "data": {
      "text/plain": [
       "array([ 0,  1,  2,  3,  4,  5,  6,  7,  8,  9, 10, 11, 12])"
      ]
     },
     "execution_count": 16,
     "metadata": {},
     "output_type": "execute_result"
    }
   ],
   "source": [
    "df['RegistrationMonth'].sort_values().unique()"
   ]
  },
  {
   "cell_type": "markdown",
   "metadata": {},
   "source": [
    "Столбец содержит 13 уникальных значений. Удалим строки для которых указан нулевой месяц регистрации."
   ]
  },
  {
   "cell_type": "code",
   "execution_count": 17,
   "metadata": {},
   "outputs": [
    {
     "data": {
      "text/plain": [
       "array([ 1,  2,  3,  4,  5,  6,  7,  8,  9, 10, 11, 12])"
      ]
     },
     "execution_count": 17,
     "metadata": {},
     "output_type": "execute_result"
    }
   ],
   "source": [
    "df = df.drop(df.index[df['RegistrationMonth']==0], axis='index')\n",
    "df['RegistrationMonth'].sort_values().unique()"
   ]
  },
  {
   "cell_type": "markdown",
   "metadata": {},
   "source": [
    "<div class=\"alert alert-warning\">\n",
    "<h4> Комментарий от ревьюера</h4>\n",
    "\n",
    "Что показывает данный признак? ;)\n",
    "</div>"
   ]
  },
  {
   "cell_type": "markdown",
   "metadata": {},
   "source": [
    "В столбцах NotRepaired, FuelType, VehicleType, Gearbox, Model незаполненные значения заполним значением 'unknown'"
   ]
  },
  {
   "cell_type": "code",
   "execution_count": 18,
   "metadata": {},
   "outputs": [
    {
     "data": {
      "text/plain": [
       "array(['yes', nan, 'no'], dtype=object)"
      ]
     },
     "execution_count": 18,
     "metadata": {},
     "output_type": "execute_result"
    }
   ],
   "source": [
    "df['NotRepaired'].unique()"
   ]
  },
  {
   "cell_type": "code",
   "execution_count": 19,
   "metadata": {},
   "outputs": [
    {
     "data": {
      "text/plain": [
       "array(['yes', 'unknown', 'no'], dtype=object)"
      ]
     },
     "execution_count": 19,
     "metadata": {},
     "output_type": "execute_result"
    }
   ],
   "source": [
    "df['NotRepaired'] = df['NotRepaired'].fillna('unknown')\n",
    "df['NotRepaired'].unique()"
   ]
  },
  {
   "cell_type": "code",
   "execution_count": 20,
   "metadata": {},
   "outputs": [
    {
     "data": {
      "text/plain": [
       "array(['gasoline', 'petrol', nan, 'lpg', 'other', 'hybrid', 'cng',\n",
       "       'electric'], dtype=object)"
      ]
     },
     "execution_count": 20,
     "metadata": {},
     "output_type": "execute_result"
    }
   ],
   "source": [
    "df['FuelType'].unique()"
   ]
  },
  {
   "cell_type": "code",
   "execution_count": 21,
   "metadata": {},
   "outputs": [
    {
     "data": {
      "text/plain": [
       "array(['gasoline', 'petrol', 'unknown', 'lpg', 'other', 'hybrid', 'cng',\n",
       "       'electric'], dtype=object)"
      ]
     },
     "execution_count": 21,
     "metadata": {},
     "output_type": "execute_result"
    }
   ],
   "source": [
    "df['FuelType'] = df['FuelType'].fillna('unknown')\n",
    "df['FuelType'].unique()"
   ]
  },
  {
   "cell_type": "code",
   "execution_count": 22,
   "metadata": {},
   "outputs": [
    {
     "data": {
      "text/plain": [
       "array(['coupe', 'suv', 'small', 'sedan', 'convertible', 'bus', 'wagon',\n",
       "       nan, 'other'], dtype=object)"
      ]
     },
     "execution_count": 22,
     "metadata": {},
     "output_type": "execute_result"
    }
   ],
   "source": [
    "df['VehicleType'].unique()"
   ]
  },
  {
   "cell_type": "code",
   "execution_count": 23,
   "metadata": {},
   "outputs": [
    {
     "data": {
      "text/plain": [
       "array(['coupe', 'suv', 'small', 'sedan', 'convertible', 'bus', 'wagon',\n",
       "       'other'], dtype=object)"
      ]
     },
     "execution_count": 23,
     "metadata": {},
     "output_type": "execute_result"
    }
   ],
   "source": [
    "df['VehicleType'] = df['VehicleType'].fillna('other')\n",
    "df['VehicleType'].unique()"
   ]
  },
  {
   "cell_type": "code",
   "execution_count": 24,
   "metadata": {},
   "outputs": [
    {
     "data": {
      "text/plain": [
       "array(['manual', 'auto', nan], dtype=object)"
      ]
     },
     "execution_count": 24,
     "metadata": {},
     "output_type": "execute_result"
    }
   ],
   "source": [
    "df['Gearbox'].unique()"
   ]
  },
  {
   "cell_type": "code",
   "execution_count": 25,
   "metadata": {},
   "outputs": [
    {
     "data": {
      "text/plain": [
       "array(['manual', 'auto', 'unknown'], dtype=object)"
      ]
     },
     "execution_count": 25,
     "metadata": {},
     "output_type": "execute_result"
    }
   ],
   "source": [
    "df['Gearbox'] = df['Gearbox'].fillna('unknown')\n",
    "df['Gearbox'].unique()"
   ]
  },
  {
   "cell_type": "code",
   "execution_count": 26,
   "metadata": {
    "scrolled": true
   },
   "outputs": [
    {
     "data": {
      "text/plain": [
       "array([nan, 'grand', 'golf', 'fabia', '3er', '2_reihe', 'c_max',\n",
       "       '3_reihe', 'passat', 'navara', 'twingo', 'a_klasse', 'scirocco',\n",
       "       '5er', 'meriva', 'arosa', 'other', 'c4', 'civic', 'transporter',\n",
       "       'punto', 'e_klasse', 'clio', 'one', 'fortwo', '1er', 'b_klasse',\n",
       "       'a8', 'jetta', 'astra', 'fiesta', 'c_klasse', 'micra', 'vito',\n",
       "       'sprinter', 'escort', 'forester', 'xc_reihe', 'scenic', 'a1',\n",
       "       'focus', 'a4', 'tt', 'a6', 'jazz', 'omega', 'polo', 'slk', '7er',\n",
       "       'combo', '80', '147', 'z_reihe', 'sportage', 'sorento', 'ibiza',\n",
       "       'mustang', 'eos', 'touran', 'getz', 'insignia', 'ka', 'almera',\n",
       "       'megane', 'a3', 'lupo', 'r19', 'mondeo', 'cordoba', 'colt',\n",
       "       'corsa', 'vectra', 'berlingo', 'tiguan', '6_reihe', 'panda', 'up',\n",
       "       'i_reihe', 'ceed', 'kangoo', '5_reihe', 'yeti', 'octavia',\n",
       "       'zafira', 'mii', 'rx_reihe', '6er', 'fox', 'matiz', 'beetle',\n",
       "       'rio', 'touareg', 'logan', 'caddy', 'spider', 'cuore', 's_max',\n",
       "       'modus', 'a2', 'galaxy', 'c3', 'viano', 's_klasse', '1_reihe',\n",
       "       'sharan', 'avensis', 'roomster', 'sl', 'kaefer', 'santa', 'leon',\n",
       "       'cooper', '4_reihe', 'a5', 'ptcruiser', 'clk', 'primera', 'espace',\n",
       "       'exeo', '159', 'transit', 'juke', 'x_reihe', 'v40', 'carisma',\n",
       "       'accord', 'corolla', 'phaeton', 'verso', 'swift', 'rav', 'qashqai',\n",
       "       'picanto', 'boxster', 'superb', 'stilo', 'alhambra', 'roadster',\n",
       "       'ypsilon', 'galant', 'justy', '90', 'sirion', 'signum',\n",
       "       'crossfire', 'agila', 'duster', 'v50', 'mx_reihe', '500',\n",
       "       'c_reihe', 'v_klasse', 'm_klasse', 'yaris', 'c5', 'aygo',\n",
       "       'seicento', 'cc', 'carnival', 'fusion', 'bora', 'forfour', 'cl',\n",
       "       'tigra', '156', '300c', '100', 'cr_reihe', 'spark', 'kuga',\n",
       "       'impreza', 'x_type', 'ducato', 's_type', 'x_trail', 'toledo',\n",
       "       'altea', 'voyager', 'v70', 'bravo', 'tucson', 'c1', 'kadett',\n",
       "       'citigo', 'jimny', 'cayenne', 'wrangler', 'lybra', 'lancer',\n",
       "       'captiva', 'laguna', 'c2', 'discovery', 'freelander', 'sandero',\n",
       "       'q7', 'note', 'antara', '900', 'clubman', 'defender', '601',\n",
       "       'cx_reihe', 'legacy', 'pajero', 'auris', 'niva', 's60', 'm_reihe',\n",
       "       'nubira', 'vivaro', 'lanos', 'g_klasse', 'cherokee', 'lodgy',\n",
       "       'range_rover', '850', 'q3', 'serie_2', 'calibra', 'glk', 'charade',\n",
       "       'croma', '911', 'outlander', 'doblo', 'musa', '9000', 'kalos',\n",
       "       'v60', 'aveo', '200', '145', 'b_max', 'range_rover_sport', 'move',\n",
       "       'rangerover', 'q5', 'range_rover_evoque', 'materia', 'delta',\n",
       "       'terios', 'gl', 'kalina', 'elefantino', 'i3', 'samara', 'amarok',\n",
       "       'kappa', 'serie_3'], dtype=object)"
      ]
     },
     "execution_count": 26,
     "metadata": {},
     "output_type": "execute_result"
    }
   ],
   "source": [
    "df['Model'].unique()"
   ]
  },
  {
   "cell_type": "code",
   "execution_count": 27,
   "metadata": {},
   "outputs": [],
   "source": [
    "df['Model'] = df['Model'].fillna('unknown')"
   ]
  },
  {
   "cell_type": "markdown",
   "metadata": {},
   "source": [
    "Убедимся что данные больше не содержат строк с незаполненными значениями."
   ]
  },
  {
   "cell_type": "code",
   "execution_count": 28,
   "metadata": {},
   "outputs": [
    {
     "name": "stdout",
     "output_type": "stream",
     "text": [
      "<class 'pandas.core.frame.DataFrame'>\n",
      "Int64Index: 285659 entries, 1 to 354368\n",
      "Data columns (total 16 columns):\n",
      "DateCrawled          285659 non-null object\n",
      "Price                285659 non-null int64\n",
      "VehicleType          285659 non-null object\n",
      "RegistrationYear     285659 non-null int64\n",
      "Gearbox              285659 non-null object\n",
      "Power                285659 non-null int64\n",
      "Model                285659 non-null object\n",
      "Kilometer            285659 non-null int64\n",
      "RegistrationMonth    285659 non-null int64\n",
      "FuelType             285659 non-null object\n",
      "Brand                285659 non-null object\n",
      "NotRepaired          285659 non-null object\n",
      "DateCreated          285659 non-null object\n",
      "PostalCode           285659 non-null int64\n",
      "LastSeen             285659 non-null object\n",
      "PriceRounded         285659 non-null int32\n",
      "dtypes: int32(1), int64(6), object(9)\n",
      "memory usage: 36.0+ MB\n"
     ]
    }
   ],
   "source": [
    "df.info()"
   ]
  },
  {
   "cell_type": "markdown",
   "metadata": {},
   "source": [
    "Преобразуем данные с датами к численным значениям."
   ]
  },
  {
   "cell_type": "code",
   "execution_count": 29,
   "metadata": {},
   "outputs": [],
   "source": [
    "df['DateCrawled'] = pd.to_datetime(df['DateCrawled'], format='%Y-%m-%d %H:%M:%S').astype(int) / 10**9\n",
    "df['DateCreated'] = pd.to_datetime(df['DateCreated'], format='%Y-%m-%d %H:%M:%S').astype(int) / 10**9\n",
    "df['LastSeen'] = pd.to_datetime(df['LastSeen'], format='%Y-%m-%d %H:%M:%S').astype(int) / 10**9"
   ]
  },
  {
   "cell_type": "markdown",
   "metadata": {},
   "source": [
    "<div class=\"alert alert-warning\">\n",
    "<h4> Комментарий от ревьюера</h4>\n",
    "\n",
    "Какую ценность несут для нас эти признаки? Как они могут повлиять на цену?\n",
    "</div>"
   ]
  },
  {
   "cell_type": "markdown",
   "metadata": {},
   "source": [
    "Выведем текущие типы данных в датафрейме в виде словаря."
   ]
  },
  {
   "cell_type": "code",
   "execution_count": 30,
   "metadata": {},
   "outputs": [
    {
     "data": {
      "text/plain": [
       "{'DateCrawled': 'float64',\n",
       " 'Price': 'int64',\n",
       " 'VehicleType': 'object',\n",
       " 'RegistrationYear': 'int64',\n",
       " 'Gearbox': 'object',\n",
       " 'Power': 'int64',\n",
       " 'Model': 'object',\n",
       " 'Kilometer': 'int64',\n",
       " 'RegistrationMonth': 'int64',\n",
       " 'FuelType': 'object',\n",
       " 'Brand': 'object',\n",
       " 'NotRepaired': 'object',\n",
       " 'DateCreated': 'float64',\n",
       " 'PostalCode': 'int64',\n",
       " 'LastSeen': 'float64',\n",
       " 'PriceRounded': 'int32'}"
      ]
     },
     "execution_count": 30,
     "metadata": {},
     "output_type": "execute_result"
    }
   ],
   "source": [
    "df.dtypes.apply(lambda x: x.name).to_dict()"
   ]
  },
  {
   "cell_type": "code",
   "execution_count": 31,
   "metadata": {},
   "outputs": [
    {
     "name": "stdout",
     "output_type": "stream",
     "text": [
      "<class 'pandas.core.frame.DataFrame'>\n",
      "Int64Index: 285659 entries, 1 to 354368\n",
      "Data columns (total 16 columns):\n",
      "DateCrawled          285659 non-null float64\n",
      "Price                285659 non-null int32\n",
      "VehicleType          285659 non-null category\n",
      "RegistrationYear     285659 non-null uint16\n",
      "Gearbox              285659 non-null category\n",
      "Power                285659 non-null uint16\n",
      "Model                285659 non-null category\n",
      "Kilometer            285659 non-null int32\n",
      "RegistrationMonth    285659 non-null uint8\n",
      "FuelType             285659 non-null category\n",
      "Brand                285659 non-null category\n",
      "NotRepaired          285659 non-null category\n",
      "DateCreated          285659 non-null float64\n",
      "PostalCode           285659 non-null int32\n",
      "LastSeen             285659 non-null float64\n",
      "PriceRounded         285659 non-null int32\n",
      "dtypes: category(6), float64(3), int32(4), uint16(2), uint8(1)\n",
      "memory usage: 16.4 MB\n"
     ]
    }
   ],
   "source": [
    "# заменим типы в таблице по словарю df_type_dict\n",
    "df_type_dict = {'DateCrawled': 'float64',\n",
    " 'Price': 'int32',\n",
    " 'VehicleType': 'category',\n",
    " 'RegistrationYear': 'uint16',\n",
    " 'Gearbox': 'category',\n",
    " 'Power': 'uint16',\n",
    " 'Model': 'category',\n",
    " 'Kilometer': 'int32',\n",
    " 'RegistrationMonth': 'uint8',\n",
    " 'FuelType': 'category',\n",
    " 'Brand': 'category',\n",
    " 'NotRepaired': 'category',\n",
    " 'DateCreated': 'float64',\n",
    " 'PostalCode': 'int32',\n",
    " 'LastSeen': 'float64',\n",
    " 'PriceRounded': 'int32'}\n",
    "\n",
    "df = df.astype(df_type_dict)\n",
    "\n",
    "# убедимся что замена прошла так как задумано\n",
    "df.info()"
   ]
  },
  {
   "cell_type": "markdown",
   "metadata": {},
   "source": [
    "<div class=\"alert alert-success\">\n",
    "<h4> Комментарий от ревьюера</h4>\n",
    "\n",
    "Инетересный подход использовать изменение типа данных вместо кодирования.\n",
    "</div>"
   ]
  },
  {
   "cell_type": "markdown",
   "metadata": {},
   "source": [
    "Данные подготовлены, теперь можно переходить к обучению моделей"
   ]
  },
  {
   "cell_type": "markdown",
   "metadata": {},
   "source": [
    "<a id='section2'> </a>\n",
    "\n",
    "# 2. Обучение моделей"
   ]
  },
  {
   "cell_type": "markdown",
   "metadata": {},
   "source": [
    "Создадим списки с названиями целевой переменной и фич, затем разделим выборку на тестовую, тренировачную и валидационную"
   ]
  },
  {
   "cell_type": "code",
   "execution_count": 32,
   "metadata": {},
   "outputs": [
    {
     "data": {
      "text/plain": [
       "Index(['DateCrawled', 'VehicleType', 'RegistrationYear', 'Gearbox', 'Power',\n",
       "       'Model', 'Kilometer', 'RegistrationMonth', 'FuelType', 'Brand',\n",
       "       'NotRepaired', 'DateCreated', 'PostalCode', 'LastSeen'],\n",
       "      dtype='object')"
      ]
     },
     "execution_count": 32,
     "metadata": {},
     "output_type": "execute_result"
    }
   ],
   "source": [
    "y_col = ['Price']\n",
    "x_col = df.columns.drop(y_col + ['PriceRounded'])\n",
    "x_col"
   ]
  },
  {
   "cell_type": "code",
   "execution_count": 33,
   "metadata": {},
   "outputs": [],
   "source": [
    "train_full, test = train_test_split(df, test_size=0.2, random_state=42)"
   ]
  },
  {
   "cell_type": "code",
   "execution_count": 34,
   "metadata": {},
   "outputs": [
    {
     "data": {
      "text/plain": [
       "228527"
      ]
     },
     "execution_count": 34,
     "metadata": {},
     "output_type": "execute_result"
    }
   ],
   "source": [
    "len(train_full)"
   ]
  },
  {
   "cell_type": "code",
   "execution_count": 35,
   "metadata": {},
   "outputs": [
    {
     "data": {
      "text/plain": [
       "57132"
      ]
     },
     "execution_count": 35,
     "metadata": {},
     "output_type": "execute_result"
    }
   ],
   "source": [
    "len(test)"
   ]
  },
  {
   "cell_type": "code",
   "execution_count": 36,
   "metadata": {},
   "outputs": [
    {
     "data": {
      "text/plain": [
       "True"
      ]
     },
     "execution_count": 36,
     "metadata": {},
     "output_type": "execute_result"
    }
   ],
   "source": [
    "# проверим соответствие длин датафреймов\n",
    "len(train_full) + len(test) == len(df)"
   ]
  },
  {
   "cell_type": "code",
   "execution_count": 37,
   "metadata": {},
   "outputs": [],
   "source": [
    "train, val = train_test_split(train_full, test_size=0.2, random_state=42)"
   ]
  },
  {
   "cell_type": "code",
   "execution_count": 38,
   "metadata": {},
   "outputs": [
    {
     "data": {
      "text/plain": [
       "True"
      ]
     },
     "execution_count": 38,
     "metadata": {},
     "output_type": "execute_result"
    }
   ],
   "source": [
    "len(train) + len(val) == len(train_full)"
   ]
  },
  {
   "cell_type": "markdown",
   "metadata": {},
   "source": [
    "### LightGBM"
   ]
  },
  {
   "cell_type": "code",
   "execution_count": 39,
   "metadata": {},
   "outputs": [
    {
     "name": "stdout",
     "output_type": "stream",
     "text": [
      "[50]\tvalid_0's rmse: 1655.39\n",
      "[100]\tvalid_0's rmse: 1586.31\n",
      "[150]\tvalid_0's rmse: 1563.03\n",
      "[200]\tvalid_0's rmse: 1550.76\n",
      "[250]\tvalid_0's rmse: 1540.98\n",
      "[300]\tvalid_0's rmse: 1534.52\n",
      "[350]\tvalid_0's rmse: 1526.45\n",
      "[400]\tvalid_0's rmse: 1521.99\n",
      "[450]\tvalid_0's rmse: 1518.32\n",
      "[500]\tvalid_0's rmse: 1515.96\n",
      "[550]\tvalid_0's rmse: 1513.63\n",
      "[600]\tvalid_0's rmse: 1510.76\n",
      "[650]\tvalid_0's rmse: 1508.78\n",
      "[700]\tvalid_0's rmse: 1506.11\n",
      "[750]\tvalid_0's rmse: 1505.58\n",
      "[800]\tvalid_0's rmse: 1504.8\n",
      "[850]\tvalid_0's rmse: 1502.77\n",
      "[900]\tvalid_0's rmse: 1500.99\n",
      "[950]\tvalid_0's rmse: 1499.49\n",
      "[1000]\tvalid_0's rmse: 1497.96\n",
      "CPU times: user 32min 1s, sys: 11.6 s, total: 32min 13s\n",
      "Wall time: 32min 34s\n"
     ]
    },
    {
     "data": {
      "text/plain": [
       "LGBMRegressor(boosting_type='gbdt', class_weight=None, colsample_bytree=1.0,\n",
       "              importance_type='split', learning_rate=0.1, max_depth=-1,\n",
       "              metric='rmse', min_child_samples=20, min_child_weight=0.001,\n",
       "              min_split_gain=0.0, n_estimators=1000, n_jobs=-1, num_leaves=31,\n",
       "              objective=None, random_state=42, reg_alpha=0.0, reg_lambda=0.0,\n",
       "              silent=True, subsample=1.0, subsample_for_bin=200000,\n",
       "              subsample_freq=0)"
      ]
     },
     "execution_count": 39,
     "metadata": {},
     "output_type": "execute_result"
    }
   ],
   "source": [
    "%%time\n",
    "\n",
    "lgbm_model = lgb.LGBMRegressor(metric='rmse', n_estimators=1000, random_state=42)\n",
    "\n",
    "lgbm_model.fit(train[x_col], train[y_col], \n",
    "               eval_set=(val[x_col], val[y_col]), \n",
    "               verbose=50)"
   ]
  },
  {
   "cell_type": "code",
   "execution_count": 40,
   "metadata": {},
   "outputs": [
    {
     "name": "stdout",
     "output_type": "stream",
     "text": [
      "CPU times: user 5.71 s, sys: 23.8 ms, total: 5.73 s\n",
      "Wall time: 5.71 s\n"
     ]
    }
   ],
   "source": [
    "%%time\n",
    "lgbm_val_predict = lgbm_model.predict(val[x_col])"
   ]
  },
  {
   "cell_type": "code",
   "execution_count": 41,
   "metadata": {},
   "outputs": [
    {
     "name": "stdout",
     "output_type": "stream",
     "text": [
      "СКО на валидационной выборке: 1497.9557455373886\n"
     ]
    }
   ],
   "source": [
    "lgbm_val_score = np.sqrt(mean_squared_error(val[y_col], lgbm_val_predict))\n",
    "print('СКО на валидационной выборке:', lgbm_val_score)"
   ]
  },
  {
   "cell_type": "code",
   "execution_count": 42,
   "metadata": {},
   "outputs": [
    {
     "name": "stdout",
     "output_type": "stream",
     "text": [
      "CPU times: user 7.22 s, sys: 10.7 ms, total: 7.23 s\n",
      "Wall time: 7.41 s\n"
     ]
    }
   ],
   "source": [
    "%%time\n",
    "lgbm_test_predict = lgbm_model.predict(test[x_col])"
   ]
  },
  {
   "cell_type": "code",
   "execution_count": 43,
   "metadata": {},
   "outputs": [
    {
     "name": "stdout",
     "output_type": "stream",
     "text": [
      "СКО на тестовой выборке: 1504.885642456331\n"
     ]
    }
   ],
   "source": [
    "lgbm_test_score = np.sqrt(mean_squared_error(test[y_col], lgbm_test_predict))\n",
    "print('СКО на тестовой выборке:', lgbm_test_score)"
   ]
  },
  {
   "cell_type": "markdown",
   "metadata": {},
   "source": [
    "<div class=\"alert alert-success\">\n",
    "<h4> Комментарий от ревьюера</h4>\n",
    "\n",
    "Отличный результат для наших данных.    \n",
    "</div>"
   ]
  },
  {
   "cell_type": "markdown",
   "metadata": {},
   "source": [
    "Попробуем обучить моделель на этом целевом признаке с округлением до 100 евро и сравним точность предсказания с моделью обученной на исходном таргете."
   ]
  },
  {
   "cell_type": "code",
   "execution_count": 44,
   "metadata": {},
   "outputs": [
    {
     "name": "stdout",
     "output_type": "stream",
     "text": [
      "[50]\tvalid_0's rmse: 1657.11\n",
      "[100]\tvalid_0's rmse: 1587.77\n",
      "[150]\tvalid_0's rmse: 1563.76\n",
      "[200]\tvalid_0's rmse: 1551.54\n",
      "[250]\tvalid_0's rmse: 1543.45\n",
      "[300]\tvalid_0's rmse: 1537.64\n",
      "[350]\tvalid_0's rmse: 1530.88\n",
      "[400]\tvalid_0's rmse: 1526.46\n",
      "[450]\tvalid_0's rmse: 1521.32\n",
      "[500]\tvalid_0's rmse: 1517.43\n",
      "[550]\tvalid_0's rmse: 1513.91\n",
      "[600]\tvalid_0's rmse: 1511.78\n",
      "[650]\tvalid_0's rmse: 1510.2\n",
      "[700]\tvalid_0's rmse: 1506.76\n",
      "[750]\tvalid_0's rmse: 1503.82\n",
      "[800]\tvalid_0's rmse: 1502.5\n",
      "[850]\tvalid_0's rmse: 1500.52\n",
      "[900]\tvalid_0's rmse: 1499.48\n",
      "[950]\tvalid_0's rmse: 1498.18\n",
      "[1000]\tvalid_0's rmse: 1496.12\n",
      "CPU times: user 1min 28s, sys: 422 ms, total: 1min 29s\n",
      "Wall time: 1min 30s\n"
     ]
    },
    {
     "data": {
      "text/plain": [
       "LGBMRegressor(boosting_type='gbdt', class_weight=None, colsample_bytree=1.0,\n",
       "              importance_type='split', learning_rate=0.1, max_depth=-1,\n",
       "              metric='rmse', min_child_samples=20, min_child_weight=0.001,\n",
       "              min_split_gain=0.0, n_estimators=1000, n_jobs=-1, num_leaves=31,\n",
       "              objective=None, random_state=42, reg_alpha=0.0, reg_lambda=0.0,\n",
       "              silent=True, subsample=1.0, subsample_for_bin=200000,\n",
       "              subsample_freq=0)"
      ]
     },
     "execution_count": 44,
     "metadata": {},
     "output_type": "execute_result"
    }
   ],
   "source": [
    "%%time\n",
    "\n",
    "lgbm_model_rounded = lgb.LGBMRegressor(metric='rmse', n_estimators=1000, random_state=42)\n",
    "\n",
    "lgbm_model_rounded.fit(train[x_col], train['PriceRounded'].values, \n",
    "                       eval_set=(val[x_col], val['PriceRounded'].values), \n",
    "                       verbose=50)"
   ]
  },
  {
   "cell_type": "code",
   "execution_count": 45,
   "metadata": {},
   "outputs": [
    {
     "name": "stdout",
     "output_type": "stream",
     "text": [
      "СКО на тестовой выборке: 1506.850311686366\n"
     ]
    }
   ],
   "source": [
    "print('СКО на тестовой выборке:', np.sqrt(mean_squared_error(test[y_col], lgbm_model_rounded.predict(test[x_col]))))"
   ]
  },
  {
   "cell_type": "markdown",
   "metadata": {},
   "source": [
    "Обе модели дают близкое СКО на тестовых данных. Округление таргета не дает существенного прироста качества модели."
   ]
  },
  {
   "cell_type": "markdown",
   "metadata": {},
   "source": [
    "### CatBoost"
   ]
  },
  {
   "cell_type": "code",
   "execution_count": 46,
   "metadata": {},
   "outputs": [
    {
     "name": "stdout",
     "output_type": "stream",
     "text": [
      "CPU times: user 235 ms, sys: 16.8 ms, total: 252 ms\n",
      "Wall time: 287 ms\n"
     ]
    }
   ],
   "source": [
    "%%time\n",
    "cat_features = ['VehicleType', 'Gearbox', 'Model', 'FuelType', 'Brand', 'NotRepaired']\n",
    "train_pool = Pool(train[x_col], train[y_col], cat_features=cat_features)\n",
    "val_pool = Pool(val[x_col], val[y_col], cat_features=cat_features)"
   ]
  },
  {
   "cell_type": "code",
   "execution_count": 47,
   "metadata": {},
   "outputs": [
    {
     "name": "stdout",
     "output_type": "stream",
     "text": [
      "0:\tlearn: 3227.9856137\ttest: 3221.8655107\tbest: 3221.8655107 (0)\ttotal: 818ms\tremaining: 13m 37s\n",
      "50:\tlearn: 1667.5101108\ttest: 1672.7509011\tbest: 1672.7509011 (50)\ttotal: 36.2s\tremaining: 11m 12s\n",
      "100:\tlearn: 1583.6002533\ttest: 1617.2184373\tbest: 1617.2184373 (100)\ttotal: 1m 11s\tremaining: 10m 40s\n",
      "150:\tlearn: 1534.9473787\ttest: 1596.0839070\tbest: 1595.7663846 (148)\ttotal: 1m 47s\tremaining: 10m 4s\n",
      "200:\tlearn: 1503.2446890\ttest: 1586.3328158\tbest: 1586.3328158 (200)\ttotal: 2m 23s\tremaining: 9m 32s\n",
      "250:\tlearn: 1476.6601170\ttest: 1580.6589824\tbest: 1580.6589824 (250)\ttotal: 3m 2s\tremaining: 9m 3s\n",
      "300:\tlearn: 1456.0966716\ttest: 1576.1034972\tbest: 1576.1034972 (300)\ttotal: 3m 39s\tremaining: 8m 30s\n",
      "350:\tlearn: 1437.7032997\ttest: 1572.9658601\tbest: 1572.9625040 (349)\ttotal: 4m 17s\tremaining: 7m 56s\n",
      "400:\tlearn: 1420.2032092\ttest: 1569.1782051\tbest: 1569.1782051 (400)\ttotal: 4m 55s\tremaining: 7m 21s\n",
      "450:\tlearn: 1404.1060879\ttest: 1563.9121542\tbest: 1563.9121542 (450)\ttotal: 5m 31s\tremaining: 6m 44s\n",
      "500:\tlearn: 1389.9102399\ttest: 1562.1913798\tbest: 1561.8120234 (493)\ttotal: 6m 9s\tremaining: 6m 8s\n",
      "550:\tlearn: 1376.4126585\ttest: 1559.6362398\tbest: 1559.5349005 (548)\ttotal: 6m 46s\tremaining: 5m 31s\n",
      "600:\tlearn: 1363.5573505\ttest: 1557.8785660\tbest: 1556.8965863 (591)\ttotal: 7m 24s\tremaining: 4m 54s\n",
      "650:\tlearn: 1352.5562484\ttest: 1557.7034236\tbest: 1556.8965863 (591)\ttotal: 8m 1s\tremaining: 4m 18s\n",
      "700:\tlearn: 1340.2192183\ttest: 1555.6262100\tbest: 1555.4968000 (696)\ttotal: 8m 38s\tremaining: 3m 41s\n",
      "750:\tlearn: 1330.3683496\ttest: 1555.2505343\tbest: 1555.2024013 (744)\ttotal: 9m 16s\tremaining: 3m 4s\n",
      "800:\tlearn: 1321.1760357\ttest: 1554.7368042\tbest: 1553.9698046 (788)\ttotal: 9m 53s\tremaining: 2m 27s\n",
      "850:\tlearn: 1310.7876085\ttest: 1553.4054438\tbest: 1553.1125602 (828)\ttotal: 10m 32s\tremaining: 1m 50s\n",
      "900:\tlearn: 1301.9325216\ttest: 1553.6490581\tbest: 1553.1046894 (887)\ttotal: 11m 9s\tremaining: 1m 13s\n",
      "950:\tlearn: 1292.6986139\ttest: 1552.3938696\tbest: 1552.1433157 (945)\ttotal: 11m 47s\tremaining: 36.5s\n",
      "999:\tlearn: 1285.6174263\ttest: 1553.1500878\tbest: 1552.1433157 (945)\ttotal: 12m 25s\tremaining: 0us\n",
      "\n",
      "bestTest = 1552.143316\n",
      "bestIteration = 945\n",
      "\n",
      "Shrink model to first 946 iterations.\n",
      "CPU times: user 11min 28s, sys: 58.7 s, total: 12min 27s\n",
      "Wall time: 12min 32s\n"
     ]
    },
    {
     "data": {
      "text/plain": [
       "<catboost.core.CatBoostRegressor at 0x7f27c844f710>"
      ]
     },
     "execution_count": 47,
     "metadata": {},
     "output_type": "execute_result"
    }
   ],
   "source": [
    "%%time\n",
    "cb_model = CatBoostRegressor(loss_function='RMSE', \n",
    "                             eval_metric='RMSE', \n",
    "                             random_state=42, \n",
    "                             verbose=50, \n",
    "                             learning_rate=0.52)\n",
    "\n",
    "cb_model.fit(train_pool, eval_set=[val_pool])"
   ]
  },
  {
   "cell_type": "code",
   "execution_count": 48,
   "metadata": {},
   "outputs": [
    {
     "name": "stdout",
     "output_type": "stream",
     "text": [
      "CPU times: user 925 ms, sys: 62.8 ms, total: 987 ms\n",
      "Wall time: 933 ms\n"
     ]
    }
   ],
   "source": [
    "%%time\n",
    "cb_val_predict = cb_model.predict(val[x_col])"
   ]
  },
  {
   "cell_type": "code",
   "execution_count": 49,
   "metadata": {},
   "outputs": [
    {
     "name": "stdout",
     "output_type": "stream",
     "text": [
      "СКО на валидационной выборке: 1552.1433157348863\n"
     ]
    }
   ],
   "source": [
    "cb_val_score = np.sqrt(mean_squared_error(val[y_col], cb_val_predict))\n",
    "print('СКО на валидационной выборке:', cb_val_score)"
   ]
  },
  {
   "cell_type": "code",
   "execution_count": 50,
   "metadata": {},
   "outputs": [
    {
     "name": "stdout",
     "output_type": "stream",
     "text": [
      "CPU times: user 1.17 s, sys: 41.6 ms, total: 1.21 s\n",
      "Wall time: 1.21 s\n"
     ]
    }
   ],
   "source": [
    "%%time\n",
    "cb_test_predict = cb_model.predict(test[x_col])"
   ]
  },
  {
   "cell_type": "code",
   "execution_count": 51,
   "metadata": {},
   "outputs": [
    {
     "name": "stdout",
     "output_type": "stream",
     "text": [
      "СКО на тестовой выборке: 1548.6244160335532\n"
     ]
    }
   ],
   "source": [
    "cb_test_score = np.sqrt(mean_squared_error(test[y_col], cb_test_predict))\n",
    "print('СКО на тестовой выборке:', cb_test_score)"
   ]
  },
  {
   "cell_type": "markdown",
   "metadata": {},
   "source": [
    "<div class=\"alert alert-success\">\n",
    "<h4> Комментарий от ревьюера</h4>\n",
    "\n",
    "Здесь тоже отличный результат :)\n",
    "</div>"
   ]
  },
  {
   "cell_type": "markdown",
   "metadata": {},
   "source": [
    "### Линейная регрессия"
   ]
  },
  {
   "cell_type": "markdown",
   "metadata": {},
   "source": [
    "Прежде чем применять линейные алгоритмы необходимо отмасштабировать числовые признаки"
   ]
  },
  {
   "cell_type": "code",
   "execution_count": 52,
   "metadata": {},
   "outputs": [
    {
     "data": {
      "text/plain": [
       "Index(['DateCrawled', 'RegistrationYear', 'Power', 'Kilometer',\n",
       "       'RegistrationMonth', 'DateCreated', 'PostalCode', 'LastSeen'],\n",
       "      dtype='object')"
      ]
     },
     "execution_count": 52,
     "metadata": {},
     "output_type": "execute_result"
    }
   ],
   "source": [
    "num_col = x_col.drop(cat_features)\n",
    "num_col"
   ]
  },
  {
   "cell_type": "code",
   "execution_count": 53,
   "metadata": {},
   "outputs": [
    {
     "data": {
      "text/plain": [
       "StandardScaler(copy=True, with_mean=True, with_std=True)"
      ]
     },
     "execution_count": 53,
     "metadata": {},
     "output_type": "execute_result"
    }
   ],
   "source": [
    "scaler = StandardScaler()\n",
    "scaler.fit(train[num_col])"
   ]
  },
  {
   "cell_type": "code",
   "execution_count": 54,
   "metadata": {},
   "outputs": [],
   "source": [
    "train_scaled = train.copy()\n",
    "train_scaled[num_col] = scaler.transform(train_scaled[num_col])\n",
    "val_scaled = val.copy()\n",
    "val_scaled[num_col] = scaler.transform(val_scaled[num_col])\n",
    "test_scaled = test.copy()\n",
    "test_scaled[num_col] = scaler.transform(test_scaled[num_col])"
   ]
  },
  {
   "cell_type": "markdown",
   "metadata": {},
   "source": [
    "Так же заменим категориальные переменные используя технику OHE"
   ]
  },
  {
   "cell_type": "markdown",
   "metadata": {},
   "source": [
    "<div class=\"alert alert-success\">\n",
    "<h4> Комментарий от ревьюера</h4>\n",
    "\n",
    "Супер, что не забыл под Линейную регрессию закодировать призанаки.\n",
    "</div>"
   ]
  },
  {
   "cell_type": "code",
   "execution_count": 55,
   "metadata": {},
   "outputs": [],
   "source": [
    "train_scaled = pd.get_dummies(train_scaled, drop_first=True)\n",
    "val_scaled = pd.get_dummies(val_scaled, drop_first=True)\n",
    "test_scaled = pd.get_dummies(test_scaled, drop_first=True)"
   ]
  },
  {
   "cell_type": "code",
   "execution_count": 56,
   "metadata": {},
   "outputs": [
    {
     "data": {
      "text/plain": [
       "Index(['DateCrawled', 'RegistrationYear', 'Power', 'Kilometer',\n",
       "       'RegistrationMonth', 'DateCreated', 'PostalCode', 'LastSeen',\n",
       "       'VehicleType_convertible', 'VehicleType_coupe',\n",
       "       ...\n",
       "       'Brand_smart', 'Brand_sonstige_autos', 'Brand_subaru', 'Brand_suzuki',\n",
       "       'Brand_toyota', 'Brand_trabant', 'Brand_volkswagen', 'Brand_volvo',\n",
       "       'NotRepaired_unknown', 'NotRepaired_yes'],\n",
       "      dtype='object', length=314)"
      ]
     },
     "execution_count": 56,
     "metadata": {},
     "output_type": "execute_result"
    }
   ],
   "source": [
    "x_col_lr = train_scaled.columns.drop(y_col + ['PriceRounded'])\n",
    "x_col_lr"
   ]
  },
  {
   "cell_type": "code",
   "execution_count": 57,
   "metadata": {},
   "outputs": [
    {
     "name": "stdout",
     "output_type": "stream",
     "text": [
      "CPU times: user 16 s, sys: 4.68 s, total: 20.6 s\n",
      "Wall time: 20.7 s\n"
     ]
    },
    {
     "data": {
      "text/plain": [
       "LinearRegression(copy_X=True, fit_intercept=True, n_jobs=None, normalize=False)"
      ]
     },
     "execution_count": 57,
     "metadata": {},
     "output_type": "execute_result"
    }
   ],
   "source": [
    "%%time\n",
    "lr_model = LinearRegression()\n",
    "lr_model.fit(train_scaled[x_col_lr], train_scaled[y_col])"
   ]
  },
  {
   "cell_type": "code",
   "execution_count": 58,
   "metadata": {},
   "outputs": [
    {
     "name": "stdout",
     "output_type": "stream",
     "text": [
      "CPU times: user 129 ms, sys: 51.8 ms, total: 181 ms\n",
      "Wall time: 190 ms\n"
     ]
    }
   ],
   "source": [
    "%%time\n",
    "lr_val_predict = lr_model.predict(val_scaled[x_col_lr])"
   ]
  },
  {
   "cell_type": "code",
   "execution_count": 59,
   "metadata": {},
   "outputs": [
    {
     "name": "stdout",
     "output_type": "stream",
     "text": [
      "СКО на валидационной выборке: 2657.503452767828\n"
     ]
    }
   ],
   "source": [
    "lr_val_score = np.sqrt(mean_squared_error(val_scaled[y_col], lr_val_predict))\n",
    "print('СКО на валидационной выборке:', lr_val_score)"
   ]
  },
  {
   "cell_type": "code",
   "execution_count": 60,
   "metadata": {},
   "outputs": [
    {
     "name": "stdout",
     "output_type": "stream",
     "text": [
      "CPU times: user 79.7 ms, sys: 56.1 ms, total: 136 ms\n",
      "Wall time: 114 ms\n"
     ]
    }
   ],
   "source": [
    "%%time\n",
    "lr_test_predict = lr_model.predict(test_scaled[x_col_lr])"
   ]
  },
  {
   "cell_type": "code",
   "execution_count": 61,
   "metadata": {},
   "outputs": [
    {
     "name": "stdout",
     "output_type": "stream",
     "text": [
      "СКО на тестовой выборке: 2673.488519081716\n"
     ]
    }
   ],
   "source": [
    "lr_test_score = np.sqrt(mean_squared_error(test_scaled[y_col], lr_test_predict))\n",
    "print('СКО на тестовой выборке:', lr_test_score)"
   ]
  },
  {
   "cell_type": "markdown",
   "metadata": {},
   "source": [
    "### K ближайших соседей"
   ]
  },
  {
   "cell_type": "code",
   "execution_count": 62,
   "metadata": {},
   "outputs": [
    {
     "name": "stdout",
     "output_type": "stream",
     "text": [
      "CPU times: user 9.72 s, sys: 315 ms, total: 10 s\n",
      "Wall time: 10.1 s\n"
     ]
    },
    {
     "data": {
      "text/plain": [
       "KNeighborsRegressor(algorithm='auto', leaf_size=30, metric='minkowski',\n",
       "                    metric_params=None, n_jobs=None, n_neighbors=5, p=2,\n",
       "                    weights='uniform')"
      ]
     },
     "execution_count": 62,
     "metadata": {},
     "output_type": "execute_result"
    }
   ],
   "source": [
    "%%time\n",
    "knn_model = KNeighborsRegressor()\n",
    "knn_model.fit(train_scaled[x_col_lr], train_scaled[y_col])"
   ]
  },
  {
   "cell_type": "code",
   "execution_count": 63,
   "metadata": {},
   "outputs": [
    {
     "name": "stdout",
     "output_type": "stream",
     "text": [
      "CPU times: user 13min 50s, sys: 0 ns, total: 13min 50s\n",
      "Wall time: 13min 59s\n"
     ]
    }
   ],
   "source": [
    "%%time\n",
    "knn_val_predict = knn_model.predict(val_scaled[x_col_lr])"
   ]
  },
  {
   "cell_type": "code",
   "execution_count": 64,
   "metadata": {},
   "outputs": [
    {
     "name": "stdout",
     "output_type": "stream",
     "text": [
      "СКО на валидационной выборке: 2118.345495244401\n"
     ]
    }
   ],
   "source": [
    "knn_val_score = np.sqrt(mean_squared_error(val_scaled[y_col], knn_val_predict))\n",
    "print('СКО на валидационной выборке:', knn_val_score)"
   ]
  },
  {
   "cell_type": "code",
   "execution_count": null,
   "metadata": {},
   "outputs": [],
   "source": [
    "%%time\n",
    "knn_test_predict = knn_model.predict(test_scaled[x_col_lr])"
   ]
  },
  {
   "cell_type": "markdown",
   "metadata": {},
   "source": [
    "<div class=\"alert alert-warning\">\n",
    "<h4> Комментарий от ревьюера</h4>\n",
    "\n",
    "Очень долгое обучение для такого качества модели.\n",
    "</div>"
   ]
  },
  {
   "cell_type": "code",
   "execution_count": null,
   "metadata": {},
   "outputs": [],
   "source": [
    "knn_test_score = np.sqrt(mean_squared_error(test_scaled[y_col], knn_test_predict))\n",
    "print('СКО на тестовой выборке:', lr_test_score)"
   ]
  },
  {
   "cell_type": "markdown",
   "metadata": {},
   "source": [
    "<a id='section3'> </a>\n",
    "\n",
    "# 3. Анализ моделей"
   ]
  },
  {
   "cell_type": "markdown",
   "metadata": {},
   "source": [
    "Составим сводную таблицу на осове данных полученых в процессе обучения"
   ]
  },
  {
   "cell_type": "code",
   "execution_count": null,
   "metadata": {},
   "outputs": [],
   "source": [
    "pd.DataFrame({'Модель': ['LightGBM', 'CatBoost', 'Линейная регрессия', 'K ближайших соседей'],\n",
    "'СКО оценки стоимости на валидационной выборке, евро': [lgbm_val_score, cb_val_score, lr_val_score, knn_val_score],\n",
    "'СКО оценки стоимости на тестовой выборке, евро': [lgbm_test_score, cb_test_score, lr_test_score, knn_test_score], \n",
    "'Время обучения модели': ['1min 5s', '12min 28s', '20.8 s', '11.3 s'],\n",
    "'Время вычисления предсказаний на валидационной выборке': ['5.99 s', '918 ms', '144 ms', '14min 35s'],\n",
    "'Время вычисления предсказаний на тестовой выборке': ['7.43 s', '1.27 s', '115 ms', '19min 51s'],\n",
    "})"
   ]
  },
  {
   "cell_type": "markdown",
   "metadata": {},
   "source": [
    "Наибольшей точностью оценки стоимости автомобилей по предоставленным данным обладает модель LightGBM (СКО ~1505 евро). Близкой по точности является модель CatBoost (СКО ~1552 евро). При этом CatBoost формирует предсказания примерно в 6 раз быстрее, чем LightGBM (порядка 1 с против 6 с у LightGBM). Недостатком CatBoost является большее время на обучение модели (12 мин против 1 мин у LightGBM)."
   ]
  },
  {
   "cell_type": "markdown",
   "metadata": {},
   "source": [
    "<div class=\"alert alert-success\">\n",
    "<h4> Комментарий от ревьюера</h4>\n",
    "\n",
    "Хорошее решение сводить результаты в одну табличку. Могу порекомендовать в будущем сравнивать полученные результаты с константной моделью (медианой или средним).\n",
    "</div>"
   ]
  },
  {
   "cell_type": "markdown",
   "metadata": {},
   "source": [
    "<a id='section4'> </a>\n",
    "\n",
    "# Выводы"
   ]
  },
  {
   "cell_type": "markdown",
   "metadata": {},
   "source": [
    "В процессе исследования были выполнены следующие работы:\n",
    "1. Проведена подготовка данных (устранены аномалии, заполнены пропуски)\n",
    "2. Обучено несколько моделей прогнозирования цены на автомобили. Рассмотренные модели:\n",
    "    * LightGBM\n",
    "    * CatBoost\n",
    "    * Линейная регрессия\n",
    "    * K ближайших соседей\n",
    "3. Проведен анализ эффективности моделей\n",
    "\n",
    "Наибольшей точностью оценки стоимости автомобилей по предоставленным данным обладает модель LightGBM (СКО 1505 евро). При этом в случае если для пользователей небходимо предсказывать цену в режиме близком к реальному времени, рекумендуется использовать модель CatBoost. Данная модель дает близкое СКО (~1552 евро), но существенный выйгрыш по времени предсказания. В случае если скорость обучения модели важнее скорости предсказания, рекомендуется использовать модель LightGBM."
   ]
  },
  {
   "cell_type": "markdown",
   "metadata": {},
   "source": [
    "<div class=\"alert alert-info\">\n",
    "<h4> Итоговый комментарий от ревьюера</h4>\n",
    "\n",
    "Классный проект! Видно глубокое понимание темы и умение работать с разными способами кодирования и моделями. Оформление и выводы тоже на высоте. Желаю успехов в дальнейшем обучении! Впереди ещё много интересных тем :)\n",
    "</div>"
   ]
  },
  {
   "cell_type": "markdown",
   "metadata": {},
   "source": [
    "## Чек-лист проверки"
   ]
  },
  {
   "cell_type": "markdown",
   "metadata": {},
   "source": [
    "Поставьте 'x' в выполненных пунктах. Далее нажмите Shift+Enter."
   ]
  },
  {
   "cell_type": "markdown",
   "metadata": {},
   "source": [
    "- [x]  Jupyter Notebook открыт\n",
    "- [x]  Весь код выполняется без ошибок\n",
    "- [x]  Ячейки с кодом расположены в порядке исполнения\n",
    "- [x]  Выполнена загрузка и подготовка данных\n",
    "- [x]  Выполнено обучение моделей\n",
    "- [x]  Есть анализ скорости работы и качества моделей"
   ]
  },
  {
   "cell_type": "code",
   "execution_count": null,
   "metadata": {},
   "outputs": [],
   "source": []
  }
 ],
 "metadata": {
  "kernelspec": {
   "display_name": "Python 3",
   "language": "python",
   "name": "python3"
  },
  "language_info": {
   "codemirror_mode": {
    "name": "ipython",
    "version": 3
   },
   "file_extension": ".py",
   "mimetype": "text/x-python",
   "name": "python",
   "nbconvert_exporter": "python",
   "pygments_lexer": "ipython3",
   "version": "3.7.8"
  },
  "toc": {
   "base_numbering": 1,
   "nav_menu": {},
   "number_sections": true,
   "sideBar": true,
   "skip_h1_title": false,
   "title_cell": "Table of Contents",
   "title_sidebar": "Contents",
   "toc_cell": false,
   "toc_position": {},
   "toc_section_display": true,
   "toc_window_display": false
  }
 },
 "nbformat": 4,
 "nbformat_minor": 2
}
