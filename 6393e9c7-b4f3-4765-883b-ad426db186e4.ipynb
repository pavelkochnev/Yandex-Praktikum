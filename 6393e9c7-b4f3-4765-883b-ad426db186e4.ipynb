{
 "cells": [
  {
   "cell_type": "markdown",
   "metadata": {},
   "source": [
    "<div style=\"border:solid purple 2px; padding: 20px\">\n",
    "    \n",
    "Павел привет! 👋 Меня зовут Рустам и мы уже знакомы, я проверял твою первую работу) Коротко обозначу вступление, я оставил комментарии, разных цветов, обрати в первую очередь на красные (если они будут 😊). Свои изменения прошу как-то выделять и также прошу не перемещать и не удалять мои комментарии\n",
    "    \n",
    "Мне понравился твой проект, как и прошлый)))) После того, как ты все доработаешь, я смогу его принять!) В конце есть чек-лист 😉\n",
    "\n",
    "</div>"
   ]
  },
  {
   "cell_type": "markdown",
   "metadata": {},
   "source": [
    "<div class=\"alert alert-success\">\n",
    "<h2> Комментарий ревьюера v2 </h2>\n",
    "\n",
    "Спасибо за быструю и качественную доработку комментариев! Работу я принимаю\n",
    "    \n",
    "Сильная работа, отличное завершение первого модуля, позравляю! Не сбавляй темпы, впереди много интересного, желаю удачи 😊\n",
    "    \n",
    "</div>"
   ]
  },
  {
   "cell_type": "markdown",
   "metadata": {},
   "source": [
    "#  Выявление закономерностей определяющих успешность компьютерной игры \n",
    "\n",
    "_____\n",
    "Данное исследование предназначено для выявления закономеностей оределяющих усешность игр. Это позволит сделать ставку на потенциально популярный продукт и спланировать рекламные кампании.\n",
    "\n",
    "______\n",
    "\n",
    "###### Данное исследование разделено на несколько частей.\n",
    "\n",
    "* [1.  Изучение файла с данными, получение общей информации.](#section1)\n",
    "* [2. Подготовка данных.](#section2)\n",
    "* [3. Исследовательский анализ данных.](#section3)\n",
    "* [4. Оценка портрета пользователя каждого региона (NA, EU, JP).](#section4)\n",
    "* [5. Проверка гипотез.](#section5)\n",
    "* [6. Выводы.](#section6)\n",
    "\n"
   ]
  },
  {
   "cell_type": "markdown",
   "metadata": {},
   "source": [
    "<div class=\"alert alert-success\">\n",
    "<h2> Комментарий ревьюера </h2>\n",
    "\n",
    "Отличное оформление вводной части, удобная навигация по проекту, молодец. Сразу вижу динамику развития скилов)\n",
    "\n",
    "</div>"
   ]
  },
  {
   "cell_type": "markdown",
   "metadata": {},
   "source": [
    "<a id='section1'> </a>\n",
    "\n",
    "## Шаг 1. Изучение файла с данными, получение общей информации"
   ]
  },
  {
   "cell_type": "code",
   "execution_count": 65,
   "metadata": {},
   "outputs": [],
   "source": [
    "import pandas as pd\n",
    "import numpy as np"
   ]
  },
  {
   "cell_type": "code",
   "execution_count": 66,
   "metadata": {},
   "outputs": [
    {
     "data": {
      "text/html": [
       "<div>\n",
       "<style scoped>\n",
       "    .dataframe tbody tr th:only-of-type {\n",
       "        vertical-align: middle;\n",
       "    }\n",
       "\n",
       "    .dataframe tbody tr th {\n",
       "        vertical-align: top;\n",
       "    }\n",
       "\n",
       "    .dataframe thead th {\n",
       "        text-align: right;\n",
       "    }\n",
       "</style>\n",
       "<table border=\"1\" class=\"dataframe\">\n",
       "  <thead>\n",
       "    <tr style=\"text-align: right;\">\n",
       "      <th></th>\n",
       "      <th>Name</th>\n",
       "      <th>Platform</th>\n",
       "      <th>Year_of_Release</th>\n",
       "      <th>Genre</th>\n",
       "      <th>NA_sales</th>\n",
       "      <th>EU_sales</th>\n",
       "      <th>JP_sales</th>\n",
       "      <th>Other_sales</th>\n",
       "      <th>Critic_Score</th>\n",
       "      <th>User_Score</th>\n",
       "      <th>Rating</th>\n",
       "    </tr>\n",
       "  </thead>\n",
       "  <tbody>\n",
       "    <tr>\n",
       "      <td>0</td>\n",
       "      <td>Wii Sports</td>\n",
       "      <td>Wii</td>\n",
       "      <td>2006.0</td>\n",
       "      <td>Sports</td>\n",
       "      <td>41.36</td>\n",
       "      <td>28.96</td>\n",
       "      <td>3.77</td>\n",
       "      <td>8.45</td>\n",
       "      <td>76.0</td>\n",
       "      <td>8</td>\n",
       "      <td>E</td>\n",
       "    </tr>\n",
       "    <tr>\n",
       "      <td>1</td>\n",
       "      <td>Super Mario Bros.</td>\n",
       "      <td>NES</td>\n",
       "      <td>1985.0</td>\n",
       "      <td>Platform</td>\n",
       "      <td>29.08</td>\n",
       "      <td>3.58</td>\n",
       "      <td>6.81</td>\n",
       "      <td>0.77</td>\n",
       "      <td>NaN</td>\n",
       "      <td>NaN</td>\n",
       "      <td>NaN</td>\n",
       "    </tr>\n",
       "    <tr>\n",
       "      <td>2</td>\n",
       "      <td>Mario Kart Wii</td>\n",
       "      <td>Wii</td>\n",
       "      <td>2008.0</td>\n",
       "      <td>Racing</td>\n",
       "      <td>15.68</td>\n",
       "      <td>12.76</td>\n",
       "      <td>3.79</td>\n",
       "      <td>3.29</td>\n",
       "      <td>82.0</td>\n",
       "      <td>8.3</td>\n",
       "      <td>E</td>\n",
       "    </tr>\n",
       "    <tr>\n",
       "      <td>3</td>\n",
       "      <td>Wii Sports Resort</td>\n",
       "      <td>Wii</td>\n",
       "      <td>2009.0</td>\n",
       "      <td>Sports</td>\n",
       "      <td>15.61</td>\n",
       "      <td>10.93</td>\n",
       "      <td>3.28</td>\n",
       "      <td>2.95</td>\n",
       "      <td>80.0</td>\n",
       "      <td>8</td>\n",
       "      <td>E</td>\n",
       "    </tr>\n",
       "    <tr>\n",
       "      <td>4</td>\n",
       "      <td>Pokemon Red/Pokemon Blue</td>\n",
       "      <td>GB</td>\n",
       "      <td>1996.0</td>\n",
       "      <td>Role-Playing</td>\n",
       "      <td>11.27</td>\n",
       "      <td>8.89</td>\n",
       "      <td>10.22</td>\n",
       "      <td>1.00</td>\n",
       "      <td>NaN</td>\n",
       "      <td>NaN</td>\n",
       "      <td>NaN</td>\n",
       "    </tr>\n",
       "    <tr>\n",
       "      <td>5</td>\n",
       "      <td>Tetris</td>\n",
       "      <td>GB</td>\n",
       "      <td>1989.0</td>\n",
       "      <td>Puzzle</td>\n",
       "      <td>23.20</td>\n",
       "      <td>2.26</td>\n",
       "      <td>4.22</td>\n",
       "      <td>0.58</td>\n",
       "      <td>NaN</td>\n",
       "      <td>NaN</td>\n",
       "      <td>NaN</td>\n",
       "    </tr>\n",
       "    <tr>\n",
       "      <td>6</td>\n",
       "      <td>New Super Mario Bros.</td>\n",
       "      <td>DS</td>\n",
       "      <td>2006.0</td>\n",
       "      <td>Platform</td>\n",
       "      <td>11.28</td>\n",
       "      <td>9.14</td>\n",
       "      <td>6.50</td>\n",
       "      <td>2.88</td>\n",
       "      <td>89.0</td>\n",
       "      <td>8.5</td>\n",
       "      <td>E</td>\n",
       "    </tr>\n",
       "    <tr>\n",
       "      <td>7</td>\n",
       "      <td>Wii Play</td>\n",
       "      <td>Wii</td>\n",
       "      <td>2006.0</td>\n",
       "      <td>Misc</td>\n",
       "      <td>13.96</td>\n",
       "      <td>9.18</td>\n",
       "      <td>2.93</td>\n",
       "      <td>2.84</td>\n",
       "      <td>58.0</td>\n",
       "      <td>6.6</td>\n",
       "      <td>E</td>\n",
       "    </tr>\n",
       "    <tr>\n",
       "      <td>8</td>\n",
       "      <td>New Super Mario Bros. Wii</td>\n",
       "      <td>Wii</td>\n",
       "      <td>2009.0</td>\n",
       "      <td>Platform</td>\n",
       "      <td>14.44</td>\n",
       "      <td>6.94</td>\n",
       "      <td>4.70</td>\n",
       "      <td>2.24</td>\n",
       "      <td>87.0</td>\n",
       "      <td>8.4</td>\n",
       "      <td>E</td>\n",
       "    </tr>\n",
       "    <tr>\n",
       "      <td>9</td>\n",
       "      <td>Duck Hunt</td>\n",
       "      <td>NES</td>\n",
       "      <td>1984.0</td>\n",
       "      <td>Shooter</td>\n",
       "      <td>26.93</td>\n",
       "      <td>0.63</td>\n",
       "      <td>0.28</td>\n",
       "      <td>0.47</td>\n",
       "      <td>NaN</td>\n",
       "      <td>NaN</td>\n",
       "      <td>NaN</td>\n",
       "    </tr>\n",
       "  </tbody>\n",
       "</table>\n",
       "</div>"
      ],
      "text/plain": [
       "                        Name Platform  Year_of_Release         Genre  \\\n",
       "0                 Wii Sports      Wii           2006.0        Sports   \n",
       "1          Super Mario Bros.      NES           1985.0      Platform   \n",
       "2             Mario Kart Wii      Wii           2008.0        Racing   \n",
       "3          Wii Sports Resort      Wii           2009.0        Sports   \n",
       "4   Pokemon Red/Pokemon Blue       GB           1996.0  Role-Playing   \n",
       "5                     Tetris       GB           1989.0        Puzzle   \n",
       "6      New Super Mario Bros.       DS           2006.0      Platform   \n",
       "7                   Wii Play      Wii           2006.0          Misc   \n",
       "8  New Super Mario Bros. Wii      Wii           2009.0      Platform   \n",
       "9                  Duck Hunt      NES           1984.0       Shooter   \n",
       "\n",
       "   NA_sales  EU_sales  JP_sales  Other_sales  Critic_Score User_Score Rating  \n",
       "0     41.36     28.96      3.77         8.45          76.0          8      E  \n",
       "1     29.08      3.58      6.81         0.77           NaN        NaN    NaN  \n",
       "2     15.68     12.76      3.79         3.29          82.0        8.3      E  \n",
       "3     15.61     10.93      3.28         2.95          80.0          8      E  \n",
       "4     11.27      8.89     10.22         1.00           NaN        NaN    NaN  \n",
       "5     23.20      2.26      4.22         0.58           NaN        NaN    NaN  \n",
       "6     11.28      9.14      6.50         2.88          89.0        8.5      E  \n",
       "7     13.96      9.18      2.93         2.84          58.0        6.6      E  \n",
       "8     14.44      6.94      4.70         2.24          87.0        8.4      E  \n",
       "9     26.93      0.63      0.28         0.47           NaN        NaN    NaN  "
      ]
     },
     "execution_count": 66,
     "metadata": {},
     "output_type": "execute_result"
    }
   ],
   "source": [
    "df = pd.read_csv('/datasets/games.csv')\n",
    "df.head(10)"
   ]
  },
  {
   "cell_type": "code",
   "execution_count": 67,
   "metadata": {},
   "outputs": [
    {
     "name": "stdout",
     "output_type": "stream",
     "text": [
      "<class 'pandas.core.frame.DataFrame'>\n",
      "RangeIndex: 16715 entries, 0 to 16714\n",
      "Data columns (total 11 columns):\n",
      "Name               16713 non-null object\n",
      "Platform           16715 non-null object\n",
      "Year_of_Release    16446 non-null float64\n",
      "Genre              16713 non-null object\n",
      "NA_sales           16715 non-null float64\n",
      "EU_sales           16715 non-null float64\n",
      "JP_sales           16715 non-null float64\n",
      "Other_sales        16715 non-null float64\n",
      "Critic_Score       8137 non-null float64\n",
      "User_Score         10014 non-null object\n",
      "Rating             9949 non-null object\n",
      "dtypes: float64(6), object(5)\n",
      "memory usage: 1.4+ MB\n"
     ]
    }
   ],
   "source": [
    "# сохраним исходную длину массива в переменной df_len_init\n",
    "df_len_init = len(df)\n",
    "\n",
    "df.info()"
   ]
  },
  {
   "cell_type": "markdown",
   "metadata": {},
   "source": [
    "<div class=\"alert alert-success\">\n",
    "<h2> Комментарий ревьюера</h2>\n",
    "\n",
    "Ты наверное знаешь, но все же, чтобы получить размерность датафрема, можно использовать метод [shape()](https://pandas.pydata.org/pandas-docs/stable/reference/api/pandas.DataFrame.shape.html)\n",
    "\n",
    "</div>"
   ]
  },
  {
   "cell_type": "code",
   "execution_count": 68,
   "metadata": {},
   "outputs": [
    {
     "data": {
      "text/html": [
       "<div>\n",
       "<style scoped>\n",
       "    .dataframe tbody tr th:only-of-type {\n",
       "        vertical-align: middle;\n",
       "    }\n",
       "\n",
       "    .dataframe tbody tr th {\n",
       "        vertical-align: top;\n",
       "    }\n",
       "\n",
       "    .dataframe thead th {\n",
       "        text-align: right;\n",
       "    }\n",
       "</style>\n",
       "<table border=\"1\" class=\"dataframe\">\n",
       "  <thead>\n",
       "    <tr style=\"text-align: right;\">\n",
       "      <th></th>\n",
       "      <th>Year_of_Release</th>\n",
       "      <th>NA_sales</th>\n",
       "      <th>EU_sales</th>\n",
       "      <th>JP_sales</th>\n",
       "      <th>Other_sales</th>\n",
       "      <th>Critic_Score</th>\n",
       "    </tr>\n",
       "  </thead>\n",
       "  <tbody>\n",
       "    <tr>\n",
       "      <td>count</td>\n",
       "      <td>16446.000000</td>\n",
       "      <td>16715.000000</td>\n",
       "      <td>16715.000000</td>\n",
       "      <td>16715.000000</td>\n",
       "      <td>16715.000000</td>\n",
       "      <td>8137.000000</td>\n",
       "    </tr>\n",
       "    <tr>\n",
       "      <td>mean</td>\n",
       "      <td>2006.484616</td>\n",
       "      <td>0.263377</td>\n",
       "      <td>0.145060</td>\n",
       "      <td>0.077617</td>\n",
       "      <td>0.047342</td>\n",
       "      <td>68.967679</td>\n",
       "    </tr>\n",
       "    <tr>\n",
       "      <td>std</td>\n",
       "      <td>5.877050</td>\n",
       "      <td>0.813604</td>\n",
       "      <td>0.503339</td>\n",
       "      <td>0.308853</td>\n",
       "      <td>0.186731</td>\n",
       "      <td>13.938165</td>\n",
       "    </tr>\n",
       "    <tr>\n",
       "      <td>min</td>\n",
       "      <td>1980.000000</td>\n",
       "      <td>0.000000</td>\n",
       "      <td>0.000000</td>\n",
       "      <td>0.000000</td>\n",
       "      <td>0.000000</td>\n",
       "      <td>13.000000</td>\n",
       "    </tr>\n",
       "    <tr>\n",
       "      <td>25%</td>\n",
       "      <td>2003.000000</td>\n",
       "      <td>0.000000</td>\n",
       "      <td>0.000000</td>\n",
       "      <td>0.000000</td>\n",
       "      <td>0.000000</td>\n",
       "      <td>60.000000</td>\n",
       "    </tr>\n",
       "    <tr>\n",
       "      <td>50%</td>\n",
       "      <td>2007.000000</td>\n",
       "      <td>0.080000</td>\n",
       "      <td>0.020000</td>\n",
       "      <td>0.000000</td>\n",
       "      <td>0.010000</td>\n",
       "      <td>71.000000</td>\n",
       "    </tr>\n",
       "    <tr>\n",
       "      <td>75%</td>\n",
       "      <td>2010.000000</td>\n",
       "      <td>0.240000</td>\n",
       "      <td>0.110000</td>\n",
       "      <td>0.040000</td>\n",
       "      <td>0.030000</td>\n",
       "      <td>79.000000</td>\n",
       "    </tr>\n",
       "    <tr>\n",
       "      <td>max</td>\n",
       "      <td>2016.000000</td>\n",
       "      <td>41.360000</td>\n",
       "      <td>28.960000</td>\n",
       "      <td>10.220000</td>\n",
       "      <td>10.570000</td>\n",
       "      <td>98.000000</td>\n",
       "    </tr>\n",
       "  </tbody>\n",
       "</table>\n",
       "</div>"
      ],
      "text/plain": [
       "       Year_of_Release      NA_sales      EU_sales      JP_sales  \\\n",
       "count     16446.000000  16715.000000  16715.000000  16715.000000   \n",
       "mean       2006.484616      0.263377      0.145060      0.077617   \n",
       "std           5.877050      0.813604      0.503339      0.308853   \n",
       "min        1980.000000      0.000000      0.000000      0.000000   \n",
       "25%        2003.000000      0.000000      0.000000      0.000000   \n",
       "50%        2007.000000      0.080000      0.020000      0.000000   \n",
       "75%        2010.000000      0.240000      0.110000      0.040000   \n",
       "max        2016.000000     41.360000     28.960000     10.220000   \n",
       "\n",
       "        Other_sales  Critic_Score  \n",
       "count  16715.000000   8137.000000  \n",
       "mean       0.047342     68.967679  \n",
       "std        0.186731     13.938165  \n",
       "min        0.000000     13.000000  \n",
       "25%        0.000000     60.000000  \n",
       "50%        0.010000     71.000000  \n",
       "75%        0.030000     79.000000  \n",
       "max       10.570000     98.000000  "
      ]
     },
     "execution_count": 68,
     "metadata": {},
     "output_type": "execute_result"
    }
   ],
   "source": [
    "df.describe()"
   ]
  },
  {
   "cell_type": "markdown",
   "metadata": {},
   "source": [
    "Столбцы в данных имеют следующее значение:\n",
    "\n",
    "* Name — название игры\n",
    "* Platform — платформа\n",
    "* Year_of_Release — год выпуска\n",
    "* Genre — жанр игры\n",
    "* NA_sales — продажи в Северной Америке (миллионы проданных копий)\n",
    "* EU_sales — продажи в Европе (миллионы проданных копий)\n",
    "* JP_sales — продажи в Японии (миллионы проданных копий)\n",
    "* Other_sales — продажи в других странах (миллионы проданных копий)\n",
    "* Critic_Score — оценка критиков (максимум 100)\n",
    "* User_Score — оценка пользователей (максимум 10)\n",
    "* Rating — рейтинг от организации ESRB (англ. Entertainment Software Rating Board). Эта ассоциация определяет рейтинг компьютерных игр и присваивает им подходящую возрастную категорию.\n",
    "\n",
    "### Выводы\n",
    "\n",
    "1. В данных имеются пропуски их необходимо заполнить\n",
    "2. В данных есть строкии с нулевыми продажами. Необходимо дополнительно исследовать эти строки\n",
    "3. Тип столбца User_Score определился как object, а не int64 или float64. Это значит в столбце встречаются строковые значения их необходимо каким-либо образом исключить"
   ]
  },
  {
   "cell_type": "markdown",
   "metadata": {},
   "source": [
    "<a id='section2'></a>\n",
    "\n",
    "## Шаг 2. Подготовка данных\n",
    "Приведем все названия столбцов к нижнему регистру."
   ]
  },
  {
   "cell_type": "code",
   "execution_count": 69,
   "metadata": {},
   "outputs": [
    {
     "name": "stdout",
     "output_type": "stream",
     "text": [
      "<class 'pandas.core.frame.DataFrame'>\n",
      "RangeIndex: 16715 entries, 0 to 16714\n",
      "Data columns (total 11 columns):\n",
      "name               16713 non-null object\n",
      "platform           16715 non-null object\n",
      "year_of_release    16446 non-null float64\n",
      "genre              16713 non-null object\n",
      "na_sales           16715 non-null float64\n",
      "eu_sales           16715 non-null float64\n",
      "jp_sales           16715 non-null float64\n",
      "other_sales        16715 non-null float64\n",
      "critic_score       8137 non-null float64\n",
      "user_score         10014 non-null object\n",
      "rating             9949 non-null object\n",
      "dtypes: float64(6), object(5)\n",
      "memory usage: 1.4+ MB\n"
     ]
    }
   ],
   "source": [
    "df.columns = df.columns.str.lower()\n",
    "df.info()"
   ]
  },
  {
   "cell_type": "markdown",
   "metadata": {},
   "source": [
    "### Замена типов данных\n",
    "Проведем замену типов данных. \n",
    "* Столбцам platform, genre и rating установим тип category так как данные столбцы являются категориальными\n",
    "* Столбцу year_of_release установим тип Int16 так как данные в том столбце - целые числа\n",
    "* Столбцам na_sales, eu_sales, jp_sales и other_sales устоновим тип float32 так как двойная точность для этих данных является избыточной\n",
    "* Столбцу critic_score установим тип Int8 так как данные в этом столбце целые и их значение не превышает 127\n",
    "* Тип столбца user_score пока оставим без изменений. Заменим тип данного столбца после исключения строковых значений"
   ]
  },
  {
   "cell_type": "code",
   "execution_count": 70,
   "metadata": {},
   "outputs": [
    {
     "data": {
      "text/plain": [
       "{'name': 'object',\n",
       " 'platform': 'object',\n",
       " 'year_of_release': 'float64',\n",
       " 'genre': 'object',\n",
       " 'na_sales': 'float64',\n",
       " 'eu_sales': 'float64',\n",
       " 'jp_sales': 'float64',\n",
       " 'other_sales': 'float64',\n",
       " 'critic_score': 'float64',\n",
       " 'user_score': 'object',\n",
       " 'rating': 'object'}"
      ]
     },
     "execution_count": 70,
     "metadata": {},
     "output_type": "execute_result"
    }
   ],
   "source": [
    "# выведем названия колонок и их текущие типы в виде словаря\n",
    "df.dtypes.apply(lambda x: x.name).to_dict()"
   ]
  },
  {
   "cell_type": "code",
   "execution_count": 71,
   "metadata": {},
   "outputs": [
    {
     "name": "stdout",
     "output_type": "stream",
     "text": [
      "<class 'pandas.core.frame.DataFrame'>\n",
      "RangeIndex: 16715 entries, 0 to 16714\n",
      "Data columns (total 11 columns):\n",
      "name               16713 non-null object\n",
      "platform           16715 non-null category\n",
      "year_of_release    16446 non-null Int16\n",
      "genre              16713 non-null category\n",
      "na_sales           16715 non-null float32\n",
      "eu_sales           16715 non-null float32\n",
      "jp_sales           16715 non-null float32\n",
      "other_sales        16715 non-null float32\n",
      "critic_score       8137 non-null Int8\n",
      "user_score         10014 non-null object\n",
      "rating             9949 non-null category\n",
      "dtypes: Int16(1), Int8(1), category(3), float32(4), object(2)\n",
      "memory usage: 655.3+ KB\n"
     ]
    }
   ],
   "source": [
    "# заменим типы в таблице по словарю df_type_dict\n",
    "df_type_dict = {'name': 'object',\n",
    " 'platform': 'category',\n",
    " 'year_of_release': 'Int16',\n",
    " 'genre': 'category',\n",
    " 'na_sales': 'float32',\n",
    " 'eu_sales': 'float32',\n",
    " 'jp_sales': 'float32',\n",
    " 'other_sales': 'float32',\n",
    " 'critic_score': 'Int8',\n",
    " 'user_score': 'object',\n",
    " 'rating': 'category'}\n",
    "\n",
    "df = df.astype(df_type_dict)\n",
    "\n",
    "# убедимся что замена прошла так как задумано\n",
    "df.info()"
   ]
  },
  {
   "cell_type": "markdown",
   "metadata": {},
   "source": [
    "<div class=\"alert alert-success\">\n",
    "<h2> Комментарий ревьюера </h2>\n",
    "\n",
    "Ты отлично умеешь пользоваться словарями, это очень похвально.\n",
    "\n",
    "</div>"
   ]
  },
  {
   "cell_type": "markdown",
   "metadata": {},
   "source": [
    "Замена типов помогла сократить занимаемую таблицей память более чем в два раза."
   ]
  },
  {
   "cell_type": "markdown",
   "metadata": {},
   "source": [
    "### Обработка пропусков\n",
    "Для начала исследуем столбец user_score."
   ]
  },
  {
   "cell_type": "code",
   "execution_count": 72,
   "metadata": {},
   "outputs": [
    {
     "data": {
      "text/plain": [
       "array(['0', '0.2', '0.3', '0.5', '0.6', '0.7', '0.9', '1', '1.1', '1.2',\n",
       "       '1.3', '1.4', '1.5', '1.6', '1.7', '1.8', '1.9', '2', '2.1', '2.2',\n",
       "       '2.3', '2.4', '2.5', '2.6', '2.7', '2.8', '2.9', '3', '3.1', '3.2',\n",
       "       '3.3', '3.4', '3.5', '3.6', '3.7', '3.8', '3.9', '4', '4.1', '4.2',\n",
       "       '4.3', '4.4', '4.5', '4.6', '4.7', '4.8', '4.9', '5', '5.1', '5.2',\n",
       "       '5.3', '5.4', '5.5', '5.6', '5.7', '5.8', '5.9', '6', '6.1', '6.2',\n",
       "       '6.3', '6.4', '6.5', '6.6', '6.7', '6.8', '6.9', '7', '7.1', '7.2',\n",
       "       '7.3', '7.4', '7.5', '7.6', '7.7', '7.8', '7.9', '8', '8.1', '8.2',\n",
       "       '8.3', '8.4', '8.5', '8.6', '8.7', '8.8', '8.9', '9', '9.1', '9.2',\n",
       "       '9.3', '9.4', '9.5', '9.6', '9.7', 'tbd', nan], dtype=object)"
      ]
     },
     "execution_count": 72,
     "metadata": {},
     "output_type": "execute_result"
    }
   ],
   "source": [
    "df['user_score'].sort_values().unique()"
   ]
  },
  {
   "cell_type": "markdown",
   "metadata": {},
   "source": [
    "В столбце user_score встречается аббревиатура tbd.\n",
    "TBD - аббревиатура от английского To Be Determined (будет определено) или To Be Decided (будет решено). Используется, если какая-то информация еще не определена или решение по вопросу не принято. Акроним служит для отметки неясностей или пропусков, которые надо заполнить.\n",
    "http://mobilradio.ru/information/vocabulary/tbd.htm\n",
    "\n",
    "По всей видимости для ряда игр пользовательский рейтинг либо не был указан, либо источник из которого подгружались данные о пользовательском рейтинге оказался недоступен. Заменим tbd в столбце user_score на nan"
   ]
  },
  {
   "cell_type": "code",
   "execution_count": 73,
   "metadata": {},
   "outputs": [
    {
     "data": {
      "text/plain": [
       "array(['0', '0.2', '0.3', '0.5', '0.6', '0.7', '0.9', '1', '1.1', '1.2',\n",
       "       '1.3', '1.4', '1.5', '1.6', '1.7', '1.8', '1.9', '2', '2.1', '2.2',\n",
       "       '2.3', '2.4', '2.5', '2.6', '2.7', '2.8', '2.9', '3', '3.1', '3.2',\n",
       "       '3.3', '3.4', '3.5', '3.6', '3.7', '3.8', '3.9', '4', '4.1', '4.2',\n",
       "       '4.3', '4.4', '4.5', '4.6', '4.7', '4.8', '4.9', '5', '5.1', '5.2',\n",
       "       '5.3', '5.4', '5.5', '5.6', '5.7', '5.8', '5.9', '6', '6.1', '6.2',\n",
       "       '6.3', '6.4', '6.5', '6.6', '6.7', '6.8', '6.9', '7', '7.1', '7.2',\n",
       "       '7.3', '7.4', '7.5', '7.6', '7.7', '7.8', '7.9', '8', '8.1', '8.2',\n",
       "       '8.3', '8.4', '8.5', '8.6', '8.7', '8.8', '8.9', '9', '9.1', '9.2',\n",
       "       '9.3', '9.4', '9.5', '9.6', '9.7', nan], dtype=object)"
      ]
     },
     "execution_count": 73,
     "metadata": {},
     "output_type": "execute_result"
    }
   ],
   "source": [
    "df['user_score'].mask(df['user_score'] == 'tbd', other=np.nan, inplace=True)\n",
    "\n",
    "# убедимся что в столбце больше не осталось строк со значением 'tbd'\n",
    "df['user_score'].sort_values().unique()"
   ]
  },
  {
   "cell_type": "markdown",
   "metadata": {},
   "source": [
    "<div class=\"alert alert-success\">\n",
    "<h2> Комментарий ревьюера</h2>\n",
    "\n",
    "Все верно, отличное применение `mask`, идем дальше\n",
    "\n",
    "</div>"
   ]
  },
  {
   "cell_type": "code",
   "execution_count": 74,
   "metadata": {},
   "outputs": [
    {
     "name": "stdout",
     "output_type": "stream",
     "text": [
      "<class 'pandas.core.frame.DataFrame'>\n",
      "RangeIndex: 16715 entries, 0 to 16714\n",
      "Data columns (total 11 columns):\n",
      "name               16713 non-null object\n",
      "platform           16715 non-null category\n",
      "year_of_release    16446 non-null Int16\n",
      "genre              16713 non-null category\n",
      "na_sales           16715 non-null float32\n",
      "eu_sales           16715 non-null float32\n",
      "jp_sales           16715 non-null float32\n",
      "other_sales        16715 non-null float32\n",
      "critic_score       8137 non-null Int8\n",
      "user_score         7590 non-null float32\n",
      "rating             9949 non-null category\n",
      "dtypes: Int16(1), Int8(1), category(3), float32(5), object(1)\n",
      "memory usage: 590.0+ KB\n"
     ]
    }
   ],
   "source": [
    "df['user_score'] = df['user_score'].astype('float32')\n",
    "df.info()"
   ]
  },
  {
   "cell_type": "markdown",
   "metadata": {},
   "source": [
    "Посмотрим имеются ли проблемы в столбце platform, а за одно и какие платформы преобладают по количеству выпущенных игр на полном наборе данных."
   ]
  },
  {
   "cell_type": "code",
   "execution_count": 75,
   "metadata": {},
   "outputs": [
    {
     "data": {
      "text/plain": [
       "PS2     0.129285\n",
       "DS      0.128687\n",
       "PS3     0.079629\n",
       "Wii     0.078971\n",
       "X360    0.075501\n",
       "PSP     0.072330\n",
       "PS      0.071612\n",
       "PC      0.058271\n",
       "XB      0.049297\n",
       "GBA     0.049177\n",
       "GC      0.033264\n",
       "3DS     0.031110\n",
       "PSV     0.025725\n",
       "PS4     0.023452\n",
       "N64     0.019085\n",
       "XOne    0.014777\n",
       "SNES    0.014299\n",
       "SAT     0.010350\n",
       "WiiU    0.008794\n",
       "2600    0.007957\n",
       "NES     0.005863\n",
       "GB      0.005863\n",
       "DC      0.003111\n",
       "GEN     0.001735\n",
       "NG      0.000718\n",
       "SCD     0.000359\n",
       "WS      0.000359\n",
       "3DO     0.000179\n",
       "TG16    0.000120\n",
       "PCFX    0.000060\n",
       "GG      0.000060\n",
       "Name: platform, dtype: float64"
      ]
     },
     "execution_count": 75,
     "metadata": {},
     "output_type": "execute_result"
    }
   ],
   "source": [
    "df['platform'].value_counts(normalize=True)"
   ]
  },
  {
   "cell_type": "markdown",
   "metadata": {},
   "source": [
    "Наиболее популярными платформами в датасете яаляются PS2 и DS. Только на эти две платформы приходится более четверти игр. Проблем в столбце platform (например названий типа unknown и т.п.) не выявлено. Аналогично рассмотрим столбец с жанром игр."
   ]
  },
  {
   "cell_type": "code",
   "execution_count": 76,
   "metadata": {},
   "outputs": [
    {
     "data": {
      "text/plain": [
       "Action          0.201580\n",
       "Sports          0.140489\n",
       "Misc            0.104709\n",
       "Role-Playing    0.089631\n",
       "Shooter         0.079160\n",
       "Adventure       0.077963\n",
       "Racing          0.074732\n",
       "Platform        0.053132\n",
       "Simulation      0.052235\n",
       "Fighting        0.050799\n",
       "Strategy        0.040866\n",
       "Puzzle          0.034704\n",
       "Name: genre, dtype: float64"
      ]
     },
     "execution_count": 76,
     "metadata": {},
     "output_type": "execute_result"
    }
   ],
   "source": [
    "df['genre'].value_counts(normalize=True)"
   ]
  },
  {
   "cell_type": "markdown",
   "metadata": {},
   "source": [
    "Наиболее часто встречающимися жанрами игр являются Action и Sports. На эти два жанра приходится более трети записей."
   ]
  },
  {
   "cell_type": "markdown",
   "metadata": {},
   "source": [
    "Посмотрим строки для которых не указано название игры"
   ]
  },
  {
   "cell_type": "code",
   "execution_count": 77,
   "metadata": {},
   "outputs": [
    {
     "data": {
      "text/html": [
       "<div>\n",
       "<style scoped>\n",
       "    .dataframe tbody tr th:only-of-type {\n",
       "        vertical-align: middle;\n",
       "    }\n",
       "\n",
       "    .dataframe tbody tr th {\n",
       "        vertical-align: top;\n",
       "    }\n",
       "\n",
       "    .dataframe thead th {\n",
       "        text-align: right;\n",
       "    }\n",
       "</style>\n",
       "<table border=\"1\" class=\"dataframe\">\n",
       "  <thead>\n",
       "    <tr style=\"text-align: right;\">\n",
       "      <th></th>\n",
       "      <th>name</th>\n",
       "      <th>platform</th>\n",
       "      <th>year_of_release</th>\n",
       "      <th>genre</th>\n",
       "      <th>na_sales</th>\n",
       "      <th>eu_sales</th>\n",
       "      <th>jp_sales</th>\n",
       "      <th>other_sales</th>\n",
       "      <th>critic_score</th>\n",
       "      <th>user_score</th>\n",
       "      <th>rating</th>\n",
       "    </tr>\n",
       "  </thead>\n",
       "  <tbody>\n",
       "    <tr>\n",
       "      <td>659</td>\n",
       "      <td>NaN</td>\n",
       "      <td>GEN</td>\n",
       "      <td>1993</td>\n",
       "      <td>NaN</td>\n",
       "      <td>1.78</td>\n",
       "      <td>0.53</td>\n",
       "      <td>0.00</td>\n",
       "      <td>0.08</td>\n",
       "      <td>NaN</td>\n",
       "      <td>NaN</td>\n",
       "      <td>NaN</td>\n",
       "    </tr>\n",
       "    <tr>\n",
       "      <td>14244</td>\n",
       "      <td>NaN</td>\n",
       "      <td>GEN</td>\n",
       "      <td>1993</td>\n",
       "      <td>NaN</td>\n",
       "      <td>0.00</td>\n",
       "      <td>0.00</td>\n",
       "      <td>0.03</td>\n",
       "      <td>0.00</td>\n",
       "      <td>NaN</td>\n",
       "      <td>NaN</td>\n",
       "      <td>NaN</td>\n",
       "    </tr>\n",
       "  </tbody>\n",
       "</table>\n",
       "</div>"
      ],
      "text/plain": [
       "      name platform  year_of_release genre  na_sales  eu_sales  jp_sales  \\\n",
       "659    NaN      GEN             1993   NaN      1.78      0.53      0.00   \n",
       "14244  NaN      GEN             1993   NaN      0.00      0.00      0.03   \n",
       "\n",
       "       other_sales  critic_score  user_score rating  \n",
       "659           0.08           NaN         NaN    NaN  \n",
       "14244         0.00           NaN         NaN    NaN  "
      ]
     },
     "execution_count": 77,
     "metadata": {},
     "output_type": "execute_result"
    }
   ],
   "source": [
    "df[df['name'].isna()]"
   ]
  },
  {
   "cell_type": "markdown",
   "metadata": {},
   "source": [
    "Можно заметить, что для строк в которых не указано название игры так же не указан и ее жанр. Так как таких строк не много в общем массиве данных, удалим эти строки"
   ]
  },
  {
   "cell_type": "code",
   "execution_count": 78,
   "metadata": {},
   "outputs": [
    {
     "data": {
      "text/plain": [
       "0"
      ]
     },
     "execution_count": 78,
     "metadata": {},
     "output_type": "execute_result"
    }
   ],
   "source": [
    "df = df.drop(df[df['name'].isna()].index)\n",
    "\n",
    "# убедимся что датафрейм больше не содержит данных с отсутствующим названием игры\n",
    "len(df[df['name'].isna()])"
   ]
  },
  {
   "cell_type": "code",
   "execution_count": 79,
   "metadata": {},
   "outputs": [
    {
     "name": "stdout",
     "output_type": "stream",
     "text": [
      "<class 'pandas.core.frame.DataFrame'>\n",
      "Int64Index: 16713 entries, 0 to 16714\n",
      "Data columns (total 11 columns):\n",
      "name               16713 non-null object\n",
      "platform           16713 non-null category\n",
      "year_of_release    16444 non-null Int16\n",
      "genre              16713 non-null category\n",
      "na_sales           16713 non-null float32\n",
      "eu_sales           16713 non-null float32\n",
      "jp_sales           16713 non-null float32\n",
      "other_sales        16713 non-null float32\n",
      "critic_score       8137 non-null Int8\n",
      "user_score         7590 non-null float32\n",
      "rating             9949 non-null category\n",
      "dtypes: Int16(1), Int8(1), category(3), float32(5), object(1)\n",
      "memory usage: 720.4+ KB\n"
     ]
    }
   ],
   "source": [
    "df.info()"
   ]
  },
  {
   "cell_type": "markdown",
   "metadata": {},
   "source": [
    "Пропущеных значений как в столбце name, так и в столбце genre больше не осталось.\n",
    "\n",
    "Оценим долю игр для которых не указан год выпуска."
   ]
  },
  {
   "cell_type": "code",
   "execution_count": 80,
   "metadata": {},
   "outputs": [
    {
     "name": "stdout",
     "output_type": "stream",
     "text": [
      "Доля игр в датасете для которых не указан год выпуска 1.6%\n"
     ]
    }
   ],
   "source": [
    "print('Доля игр в датасете для которых не указан год выпуска {:.1%}'.format(len(df[df['year_of_release'].isna()]) / len(df)))"
   ]
  },
  {
   "cell_type": "markdown",
   "metadata": {},
   "source": [
    "В виду того что доля игр с неуказанным годом выпуска невелика, такие строки из таблицы можно удалить без существенного влияния на выборку"
   ]
  },
  {
   "cell_type": "code",
   "execution_count": 81,
   "metadata": {},
   "outputs": [
    {
     "data": {
      "text/plain": [
       "0"
      ]
     },
     "execution_count": 81,
     "metadata": {},
     "output_type": "execute_result"
    }
   ],
   "source": [
    "df = df.drop(df[df['year_of_release'].isna()].index)\n",
    "\n",
    "# убедимся что датафрейм больше не содержит удаленных данных\n",
    "len(df[df['year_of_release'].isna()])"
   ]
  },
  {
   "cell_type": "markdown",
   "metadata": {},
   "source": [
    "Пропуски в столбцах critic_score, user_score и rating заполнять не будем так как для их заполнения в датасете недостаточно данных."
   ]
  },
  {
   "cell_type": "markdown",
   "metadata": {},
   "source": [
    "### Рассчет суммарных продаж"
   ]
  },
  {
   "cell_type": "code",
   "execution_count": 82,
   "metadata": {},
   "outputs": [
    {
     "data": {
      "text/plain": [
       "count    16444.000000\n",
       "mean         0.536023\n",
       "std          1.558786\n",
       "min          0.000000\n",
       "25%          0.060000\n",
       "50%          0.170000\n",
       "75%          0.470000\n",
       "max         82.539993\n",
       "Name: total_sales, dtype: float64"
      ]
     },
     "execution_count": 82,
     "metadata": {},
     "output_type": "execute_result"
    }
   ],
   "source": [
    "df['total_sales'] = df['na_sales'] + df['eu_sales'] + df['jp_sales'] + df['other_sales']\n",
    "df['total_sales'].describe()"
   ]
  },
  {
   "cell_type": "markdown",
   "metadata": {},
   "source": [
    "Видно, что в данных есть строки с нулевыми продажами по всему миру. Посмотрим на эти строки:"
   ]
  },
  {
   "cell_type": "code",
   "execution_count": 83,
   "metadata": {},
   "outputs": [
    {
     "data": {
      "text/html": [
       "<div>\n",
       "<style scoped>\n",
       "    .dataframe tbody tr th:only-of-type {\n",
       "        vertical-align: middle;\n",
       "    }\n",
       "\n",
       "    .dataframe tbody tr th {\n",
       "        vertical-align: top;\n",
       "    }\n",
       "\n",
       "    .dataframe thead th {\n",
       "        text-align: right;\n",
       "    }\n",
       "</style>\n",
       "<table border=\"1\" class=\"dataframe\">\n",
       "  <thead>\n",
       "    <tr style=\"text-align: right;\">\n",
       "      <th></th>\n",
       "      <th>name</th>\n",
       "      <th>platform</th>\n",
       "      <th>year_of_release</th>\n",
       "      <th>genre</th>\n",
       "      <th>na_sales</th>\n",
       "      <th>eu_sales</th>\n",
       "      <th>jp_sales</th>\n",
       "      <th>other_sales</th>\n",
       "      <th>critic_score</th>\n",
       "      <th>user_score</th>\n",
       "      <th>rating</th>\n",
       "      <th>total_sales</th>\n",
       "    </tr>\n",
       "  </thead>\n",
       "  <tbody>\n",
       "    <tr>\n",
       "      <td>16676</td>\n",
       "      <td>G1 Jockey 4 2008</td>\n",
       "      <td>PS3</td>\n",
       "      <td>2008</td>\n",
       "      <td>Sports</td>\n",
       "      <td>0.0</td>\n",
       "      <td>0.0</td>\n",
       "      <td>0.0</td>\n",
       "      <td>0.0</td>\n",
       "      <td>NaN</td>\n",
       "      <td>NaN</td>\n",
       "      <td>NaN</td>\n",
       "      <td>0.0</td>\n",
       "    </tr>\n",
       "    <tr>\n",
       "      <td>16709</td>\n",
       "      <td>SCORE International Baja 1000: The Official Game</td>\n",
       "      <td>PS2</td>\n",
       "      <td>2008</td>\n",
       "      <td>Racing</td>\n",
       "      <td>0.0</td>\n",
       "      <td>0.0</td>\n",
       "      <td>0.0</td>\n",
       "      <td>0.0</td>\n",
       "      <td>NaN</td>\n",
       "      <td>NaN</td>\n",
       "      <td>NaN</td>\n",
       "      <td>0.0</td>\n",
       "    </tr>\n",
       "  </tbody>\n",
       "</table>\n",
       "</div>"
      ],
      "text/plain": [
       "                                                   name platform  \\\n",
       "16676                                  G1 Jockey 4 2008      PS3   \n",
       "16709  SCORE International Baja 1000: The Official Game      PS2   \n",
       "\n",
       "       year_of_release   genre  na_sales  eu_sales  jp_sales  other_sales  \\\n",
       "16676             2008  Sports       0.0       0.0       0.0          0.0   \n",
       "16709             2008  Racing       0.0       0.0       0.0          0.0   \n",
       "\n",
       "       critic_score  user_score rating  total_sales  \n",
       "16676           NaN         NaN    NaN          0.0  \n",
       "16709           NaN         NaN    NaN          0.0  "
      ]
     },
     "execution_count": 83,
     "metadata": {},
     "output_type": "execute_result"
    }
   ],
   "source": [
    "df[df['total_sales']==0]"
   ]
  },
  {
   "cell_type": "markdown",
   "metadata": {},
   "source": [
    "Так как число таких строк не велико их можно удалить без ущерба для остальных данных"
   ]
  },
  {
   "cell_type": "code",
   "execution_count": 84,
   "metadata": {},
   "outputs": [
    {
     "data": {
      "text/plain": [
       "0"
      ]
     },
     "execution_count": 84,
     "metadata": {},
     "output_type": "execute_result"
    }
   ],
   "source": [
    "df = df.drop(df[df['total_sales']==0].index)\n",
    "\n",
    "# убедимся что датафрейм больше не содержит удаленных данных\n",
    "len(df[df['total_sales']==0])"
   ]
  },
  {
   "cell_type": "markdown",
   "metadata": {},
   "source": [
    "Оценим суммарное количество удаленных строк в процессе предобработки"
   ]
  },
  {
   "cell_type": "code",
   "execution_count": 85,
   "metadata": {},
   "outputs": [
    {
     "name": "stdout",
     "output_type": "stream",
     "text": [
      "Суммарное количество удаленных в процессе предобработки строк 1.6%\n"
     ]
    }
   ],
   "source": [
    "print('Суммарное количество удаленных в процессе предобработки строк {:.1%}'.format(1 - (len(df) / df_len_init)))"
   ]
  },
  {
   "cell_type": "markdown",
   "metadata": {},
   "source": [
    "В процессе предобработки удалено не более двух процентов строк, что не является существенными потерями. Качество данных следует признать удовлетворительным."
   ]
  },
  {
   "cell_type": "markdown",
   "metadata": {},
   "source": [
    "<div class=\"alert alert-success\">\n",
    "<h2> Комментарий ревьюера</h2>\n",
    "\n",
    "Соглашусь с тобой\n",
    "\n",
    "</div>"
   ]
  },
  {
   "cell_type": "markdown",
   "metadata": {},
   "source": [
    "<a id='section3'></a>\n",
    "\n",
    "## Шаг 3. Исследовательский анализ данных\n",
    "### Количество выпускаемых игр по годам\n",
    "Оценим количество выпускаемых игр по по годам для всех платформ"
   ]
  },
  {
   "cell_type": "code",
   "execution_count": 86,
   "metadata": {
    "scrolled": true
   },
   "outputs": [
    {
     "data": {
      "image/png": "[encoded data removed]",
      "text/plain": [
       "<Figure size 1080x360 with 1 Axes>"
      ]
     },
     "metadata": {
      "needs_background": "light"
     },
     "output_type": "display_data"
    }
   ],
   "source": [
    "(df.groupby('year_of_release')['total_sales'].count().plot(figsize=(15,5), grid=True)\n",
    " .set(xlabel='Год выпуска игры', \n",
    "      ylabel='Количество выпущеных игр',  \n",
    "      title='Изменение количества выпущеных игр по годам'));"
   ]
  },
  {
   "cell_type": "markdown",
   "metadata": {},
   "source": [
    "<div class=\"alert alert-success\">\n",
    "<h2> Комментарий ревьюера</h2>\n",
    "\n",
    "Отличное оформление графиков, приятно видеть, что комментарии с прошлого проекта не остались без внимания)\n",
    "\n",
    "</div>"
   ]
  },
  {
   "cell_type": "code",
   "execution_count": 87,
   "metadata": {},
   "outputs": [
    {
     "data": {
      "text/plain": [
       "platform\n",
       "PS2     2126\n",
       "DS      2121\n",
       "PS3     1305\n",
       "Wii     1286\n",
       "X360    1232\n",
       "PSP     1193\n",
       "PS      1190\n",
       "PC       957\n",
       "GBA      811\n",
       "XB       803\n",
       "GC       542\n",
       "3DS      512\n",
       "PSV      429\n",
       "PS4      392\n",
       "N64      316\n",
       "XOne     247\n",
       "SNES     239\n",
       "SAT      173\n",
       "WiiU     147\n",
       "2600     116\n",
       "NES       98\n",
       "GB        97\n",
       "DC        52\n",
       "GEN       27\n",
       "NG        12\n",
       "SCD        6\n",
       "WS         6\n",
       "3DO        3\n",
       "TG16       2\n",
       "PCFX       1\n",
       "GG         1\n",
       "Name: total_sales, dtype: int64"
      ]
     },
     "execution_count": 87,
     "metadata": {},
     "output_type": "execute_result"
    }
   ],
   "source": [
    "df.groupby('platform')['total_sales'].count().sort_values(ascending=False)"
   ]
  },
  {
   "cell_type": "markdown",
   "metadata": {},
   "source": [
    "Так же посмотрим на суммарные продажи игр по годам."
   ]
  },
  {
   "cell_type": "code",
   "execution_count": 88,
   "metadata": {
    "scrolled": false
   },
   "outputs": [
    {
     "data": {
      "image/png": "[encoded data removed]",
      "text/plain": [
       "<Figure size 1080x360 with 1 Axes>"
      ]
     },
     "metadata": {
      "needs_background": "light"
     },
     "output_type": "display_data"
    }
   ],
   "source": [
    "(df.groupby('year_of_release')['total_sales'].sum().plot(figsize=(15,5), grid=True)\n",
    " .set(xlabel='Год выпуска игры', \n",
    "      ylabel='Суммарные продажи игр (млн. копий)',  \n",
    "      title='Изменение суммарных продаж игр в мире'));"
   ]
  },
  {
   "cell_type": "code",
   "execution_count": 89,
   "metadata": {},
   "outputs": [
    {
     "data": {
      "text/plain": [
       "platform\n",
       "PS2     1233.559937\n",
       "X360     961.239990\n",
       "PS3      931.339966\n",
       "Wii      891.179993\n",
       "DS       802.780029\n",
       "PS       727.580017\n",
       "PS4      314.140015\n",
       "GBA      312.880005\n",
       "PSP      289.529999\n",
       "3DS      257.809998\n",
       "PC       255.759995\n",
       "GB       254.429993\n",
       "XB       251.569992\n",
       "NES      251.050003\n",
       "N64      218.009995\n",
       "SNES     200.039993\n",
       "GC       196.729996\n",
       "XOne     159.320007\n",
       "2600      86.480003\n",
       "WiiU      82.190002\n",
       "PSV       53.810001\n",
       "SAT       33.590000\n",
       "GEN       28.350000\n",
       "DC        15.950000\n",
       "SCD        1.860000\n",
       "NG         1.440000\n",
       "WS         1.420000\n",
       "TG16       0.160000\n",
       "3DO        0.100000\n",
       "GG         0.040000\n",
       "PCFX       0.030000\n",
       "Name: total_sales, dtype: float32"
      ]
     },
     "execution_count": 89,
     "metadata": {},
     "output_type": "execute_result"
    }
   ],
   "source": [
    "df.groupby('platform')['total_sales'].sum().sort_values(ascending=False)"
   ]
  },
  {
   "cell_type": "markdown",
   "metadata": {},
   "source": [
    "По количеству выпущенных игр топ-5 платформ выглядит следующим образом: PS2, DS, PS3, Wii, X360. Однако не смотря на это по количеству проданных копий топ-5 выглядит по другому: PS2, X360, PS3, Wii, DS.\n",
    "\n",
    "Посмотрим как во времени менялись продажи по отдельным платформам."
   ]
  },
  {
   "cell_type": "code",
   "execution_count": 90,
   "metadata": {},
   "outputs": [
    {
     "data": {
      "image/png": "[encoded data removed]",
      "text/plain": [
       "<Figure size 1080x360 with 1 Axes>"
      ]
     },
     "metadata": {
      "needs_background": "light"
     },
     "output_type": "display_data"
    }
   ],
   "source": [
    "# создадим список top_platforms который содержит семь самых популярных платформ по числу проданых копий\n",
    "top_platforms = (df.groupby('platform')['total_sales'].sum().sort_values(ascending=False)\n",
    "                      .reset_index().loc[0:6, 'platform'])\n",
    "\n",
    "for platform in top_platforms:\n",
    "    (df[df['platform']==platform].groupby('year_of_release')['total_sales'].sum()\n",
    "     .plot(figsize=(15,5), label=platform, legend=True, grid=True, xlim=(1991, 2016))\n",
    "     .set(xlabel='Год выпуска игры', ylabel='Число продаж, млн. копий', \n",
    "          title='Число продаваемых игр в зависимости от платформы', xticks=range(1991, 2016))\n",
    "    );\n"
   ]
  },
  {
   "cell_type": "markdown",
   "metadata": {},
   "source": [
    "По графикам видно, что каждая платформа имеет свой жизненный цикл в процессе которого вначале количество продаваемых копий игр растет, а затем так же снижается. Если оценивать длительность жизненного цикла по поливене от максимума продаж, то для рассматриваемых платформ типовой жизненный цикл составляет порядка 5...10 лет. Для постоения прогноза на будующие периоды необходимо рассмативать только актуальные платфомы, а на платформы заканчивающие свой жизненный цикл обращать меньше внимания. Примем актуальный пеиод равный четыем годам (с 2013 по 2016). Сформируем новый датафрейм и посмотрим график популярности топ-7 платформ, но уже за последние четыре года."
   ]
  },
  {
   "cell_type": "markdown",
   "metadata": {},
   "source": [
    "<div class=\"alert alert-success\">\n",
    "<h2> Комментарий от ревьюера</h2>\n",
    "\n",
    "Ты верно определил время жизни платформ, молодец.\n",
    "\n",
    "</div>"
   ]
  },
  {
   "cell_type": "code",
   "execution_count": 91,
   "metadata": {},
   "outputs": [
    {
     "name": "stdout",
     "output_type": "stream",
     "text": [
      "<class 'pandas.core.frame.DataFrame'>\n",
      "Int64Index: 2233 entries, 16 to 16714\n",
      "Data columns (total 12 columns):\n",
      "name               2233 non-null object\n",
      "platform           2233 non-null category\n",
      "year_of_release    2233 non-null Int16\n",
      "genre              2233 non-null category\n",
      "na_sales           2233 non-null float32\n",
      "eu_sales           2233 non-null float32\n",
      "jp_sales           2233 non-null float32\n",
      "other_sales        2233 non-null float32\n",
      "critic_score       991 non-null Int8\n",
      "user_score         1192 non-null float32\n",
      "rating             1256 non-null category\n",
      "total_sales        2233 non-null float32\n",
      "dtypes: Int16(1), Int8(1), category(3), float32(6), object(1)\n",
      "memory usage: 106.9+ KB\n"
     ]
    }
   ],
   "source": [
    "df_actual = df[df['year_of_release']>=2013].copy()\n",
    "df_actual.info()"
   ]
  },
  {
   "cell_type": "code",
   "execution_count": 92,
   "metadata": {},
   "outputs": [
    {
     "data": {
      "image/png": "[encoded data removed]",
      "text/plain": [
       "<Figure size 1080x360 with 1 Axes>"
      ]
     },
     "metadata": {
      "needs_background": "light"
     },
     "output_type": "display_data"
    }
   ],
   "source": [
    "top_platforms = (df_actual.groupby('platform')['total_sales'].sum().sort_values(ascending=False)\n",
    "                      .reset_index().loc[0:6, 'platform'])\n",
    "\n",
    "for platform in top_platforms:\n",
    "    (df_actual[df_actual['platform']==platform].groupby('year_of_release')['total_sales'].sum()\n",
    "     .plot(figsize=(15,5), label=platform, legend=True, grid=True, xlim=(2013, 2016))\n",
    "     .set(xlabel='Год выпуска игры', ylabel='Число продаж, млн. копий', \n",
    "          title='Число продаваемых игр в зависимости от платформы')\n",
    "    );"
   ]
  },
  {
   "cell_type": "markdown",
   "metadata": {},
   "source": [
    "Из графика видно что в последние четыре года топ-7 платформ отличается от топ-7 платформ за все времена. С 2013 по 2016 годы набирает популярность платформы PS4 и XOne, а вот PS3 и X360 свой жизненный цикл заканчивают. Так же следет отметить что за последние четыре года продажи игр на платформах PC и WiiU остаются достаточно стабильными (данные за 2016 г не полные и график к 2016 году снижается для всех платформ в основном из-за этого).\n",
    "\n",
    "Посмотрим на глобальные продажи за последние четыре года в разбивке по платформам"
   ]
  },
  {
   "cell_type": "code",
   "execution_count": 93,
   "metadata": {},
   "outputs": [
    {
     "data": {
      "image/png": "[encoded data removed]",
      "text/plain": [
       "<Figure size 1080x360 with 1 Axes>"
      ]
     },
     "metadata": {
      "needs_background": "light"
     },
     "output_type": "display_data"
    }
   ],
   "source": [
    "# временно изменим тип столбца platform с category на object для того чтобы boxplot отобажал только те платфомы которые есть в \n",
    "# актуальной выборке\n",
    "df_actual['platform'] = df_actual['platform'].astype('object')\n",
    "\n",
    "# отключим предупреждения\n",
    "np.warnings.filterwarnings('ignore', category=np.VisibleDeprecationWarning)\n",
    "\n",
    "(df_actual.boxplot(column='total_sales', by='platform', figsize=(15,5), showfliers=False)\n",
    " .set(xlabel='Платформа', \n",
    "      ylabel='Суммарные продажи игр (млн. копий)',  \n",
    "      title='Распределение суммарных продаж игр в мире с 2013 по 2016 гг в разбивке по платформам'));\n",
    "\n",
    "# изменим тип столбца platform обратно на category\n",
    "df_actual['platform'] = df_actual['platform'].astype('category')"
   ]
  },
  {
   "cell_type": "markdown",
   "metadata": {},
   "source": [
    "<div class=\"alert alert-warning\">\n",
    "<h2> Комментарий ревьюера </h2>\n",
    "\n",
    "Здесь выходит предупреждение `VisibleDeprecationWarning`, подсвеченное розовым цветом (а значит, оно важно для качества кода). Оно обусловлено тем, что `boxplot` предполагает создание  N-размерного массива, а в нашем случае в группах разное кол-во данных. Можно отключить данное предупреждение прописав `numpy.warnings.filterwarnings('ignore', category=numpy.VisibleDeprecationWarning)`. \n",
    "\n",
    "</div>"
   ]
  },
  {
   "cell_type": "markdown",
   "metadata": {},
   "source": [
    "<div class=\"alert alert-warning\">\n",
    "<h2> Комментарий ревьюера </h2>\n",
    "\n",
    "Также ты можешь заметить, что в используемой таблице всего 7 платформ, а боксплоты строятся по всем. Это происходит из-за того что столбец `platform` имеет тип данных `category`. Переведи в `object`, тогда на графике будут отображаться только 7 платформ. Плюс, у `boxplot` есть параметр [showfliers](https://matplotlib.org/3.1.0/gallery/pyplots/boxplot_demo_pyplot.html#sphx-glr-gallery-pyplots-boxplot-demo-pyplot-py), он позволяет строить ящик с усами без выбросов. Мне кажется, в данном случае он отлично поможет. Задай его как `False`\n",
    "\n",
    "</div>"
   ]
  },
  {
   "cell_type": "markdown",
   "metadata": {},
   "source": [
    "<div class=\"alert alert-block alert-info\">\n",
    "<b>КОММЕНТАРИЙ ОТ УЧЕНИКА:</b>\n",
    "    \n",
    "Предупреждения отключены. Для построения графика только по актуальным платформам тип столбца platform временно изменен на object, параметр showfliers установлен в значение False, добавлены соответствующие комментарии.\n",
    "    \n",
    "</div>"
   ]
  },
  {
   "cell_type": "markdown",
   "metadata": {},
   "source": [
    "<div class=\"alert alert-success\">\n",
    "<h2> Комментарий ревьюера v2 </h2>\n",
    "\n",
    "Отличная работа!\n",
    "    \n",
    "</div>"
   ]
  },
  {
   "cell_type": "markdown",
   "metadata": {},
   "source": [
    "Рассматривая график приведенный выше можно сказать, что большинство платформ имеющихся в датасете к рассматриваемому периоду стали неактуальны. Анализируя распределения по актуальным платформам так же можно заключит что все они имеют длинные хвосты т.е. большая часть выпускаемых игр имеет весьма небольшой тираж, однако есть отдельные \"хиты\" которые продаются огромными тиражами. Для примера рассмотрим гистограмму распределения продаж для платформы PS4"
   ]
  },
  {
   "cell_type": "code",
   "execution_count": 94,
   "metadata": {},
   "outputs": [
    {
     "data": {
      "image/png": "[encoded data removed]",
      "text/plain": [
       "<Figure size 1080x360 with 1 Axes>"
      ]
     },
     "metadata": {
      "needs_background": "light"
     },
     "output_type": "display_data"
    }
   ],
   "source": [
    "(df_actual[df_actual['platform']=='PS4']['total_sales'].hist(bins=75, figsize=(15, 5), alpha = 0.75)\n",
    " .set(xlabel='Суммарные продажи игр (млн. копий)', \n",
    "      ylabel='Количество записей',  \n",
    "      title='Распределение суммарных продаж игр на платформе PS4'));"
   ]
  },
  {
   "cell_type": "code",
   "execution_count": 95,
   "metadata": {},
   "outputs": [
    {
     "data": {
      "text/plain": [
       "count    392.000000\n",
       "mean       0.801378\n",
       "std        1.609456\n",
       "min        0.010000\n",
       "25%        0.060000\n",
       "50%        0.200000\n",
       "75%        0.730000\n",
       "max       14.630000\n",
       "Name: total_sales, dtype: float64"
      ]
     },
     "execution_count": 95,
     "metadata": {},
     "output_type": "execute_result"
    }
   ],
   "source": [
    "df_actual[df_actual['platform']=='PS4']['total_sales'].describe()"
   ]
  },
  {
   "cell_type": "code",
   "execution_count": 96,
   "metadata": {},
   "outputs": [
    {
     "data": {
      "text/html": [
       "<div>\n",
       "<style scoped>\n",
       "    .dataframe tbody tr th:only-of-type {\n",
       "        vertical-align: middle;\n",
       "    }\n",
       "\n",
       "    .dataframe tbody tr th {\n",
       "        vertical-align: top;\n",
       "    }\n",
       "\n",
       "    .dataframe thead th {\n",
       "        text-align: right;\n",
       "    }\n",
       "</style>\n",
       "<table border=\"1\" class=\"dataframe\">\n",
       "  <thead>\n",
       "    <tr style=\"text-align: right;\">\n",
       "      <th></th>\n",
       "      <th>name</th>\n",
       "      <th>platform</th>\n",
       "      <th>year_of_release</th>\n",
       "      <th>genre</th>\n",
       "      <th>na_sales</th>\n",
       "      <th>eu_sales</th>\n",
       "      <th>jp_sales</th>\n",
       "      <th>other_sales</th>\n",
       "      <th>critic_score</th>\n",
       "      <th>user_score</th>\n",
       "      <th>rating</th>\n",
       "      <th>total_sales</th>\n",
       "    </tr>\n",
       "  </thead>\n",
       "  <tbody>\n",
       "    <tr>\n",
       "      <td>31</td>\n",
       "      <td>Call of Duty: Black Ops 3</td>\n",
       "      <td>PS4</td>\n",
       "      <td>2015</td>\n",
       "      <td>Shooter</td>\n",
       "      <td>6.03</td>\n",
       "      <td>5.86</td>\n",
       "      <td>0.36</td>\n",
       "      <td>2.38</td>\n",
       "      <td>NaN</td>\n",
       "      <td>NaN</td>\n",
       "      <td>NaN</td>\n",
       "      <td>14.630000</td>\n",
       "    </tr>\n",
       "    <tr>\n",
       "      <td>42</td>\n",
       "      <td>Grand Theft Auto V</td>\n",
       "      <td>PS4</td>\n",
       "      <td>2014</td>\n",
       "      <td>Action</td>\n",
       "      <td>3.96</td>\n",
       "      <td>6.31</td>\n",
       "      <td>0.38</td>\n",
       "      <td>1.97</td>\n",
       "      <td>97</td>\n",
       "      <td>8.3</td>\n",
       "      <td>M</td>\n",
       "      <td>12.620001</td>\n",
       "    </tr>\n",
       "  </tbody>\n",
       "</table>\n",
       "</div>"
      ],
      "text/plain": [
       "                         name platform  year_of_release    genre  na_sales  \\\n",
       "31  Call of Duty: Black Ops 3      PS4             2015  Shooter      6.03   \n",
       "42         Grand Theft Auto V      PS4             2014   Action      3.96   \n",
       "\n",
       "    eu_sales  jp_sales  other_sales  critic_score  user_score rating  \\\n",
       "31      5.86      0.36         2.38           NaN         NaN    NaN   \n",
       "42      6.31      0.38         1.97            97         8.3      M   \n",
       "\n",
       "    total_sales  \n",
       "31    14.630000  \n",
       "42    12.620001  "
      ]
     },
     "execution_count": 96,
     "metadata": {},
     "output_type": "execute_result"
    }
   ],
   "source": [
    "df_actual[(df_actual['platform']=='PS4') & (df_actual['total_sales']>=10)]"
   ]
  },
  {
   "cell_type": "markdown",
   "metadata": {},
   "source": [
    "50% игр на платформе PS4 продается тиражем не более 0,2 млн. копий, 75% не более 0,73 млн. Однако два \"хита\" Call of Duty: Black Ops 3 и Grand Theft Auto V продавались более чем 10 мил. раз каждый.\n",
    "\n",
    "Рассмотрим как  влияют на продажи игр на платформе PS4 оценки пользователей и критиков. Для этого оценим корреляционную матрицу"
   ]
  },
  {
   "cell_type": "code",
   "execution_count": 97,
   "metadata": {},
   "outputs": [
    {
     "data": {
      "text/html": [
       "<div>\n",
       "<style scoped>\n",
       "    .dataframe tbody tr th:only-of-type {\n",
       "        vertical-align: middle;\n",
       "    }\n",
       "\n",
       "    .dataframe tbody tr th {\n",
       "        vertical-align: top;\n",
       "    }\n",
       "\n",
       "    .dataframe thead th {\n",
       "        text-align: right;\n",
       "    }\n",
       "</style>\n",
       "<table border=\"1\" class=\"dataframe\">\n",
       "  <thead>\n",
       "    <tr style=\"text-align: right;\">\n",
       "      <th></th>\n",
       "      <th>year_of_release</th>\n",
       "      <th>na_sales</th>\n",
       "      <th>eu_sales</th>\n",
       "      <th>jp_sales</th>\n",
       "      <th>other_sales</th>\n",
       "      <th>critic_score</th>\n",
       "      <th>user_score</th>\n",
       "      <th>total_sales</th>\n",
       "    </tr>\n",
       "  </thead>\n",
       "  <tbody>\n",
       "    <tr>\n",
       "      <td>year_of_release</td>\n",
       "      <td>1.000000</td>\n",
       "      <td>-0.248961</td>\n",
       "      <td>-0.208306</td>\n",
       "      <td>-0.060993</td>\n",
       "      <td>-0.234796</td>\n",
       "      <td>-0.021142</td>\n",
       "      <td>0.152447</td>\n",
       "      <td>-0.235032</td>\n",
       "    </tr>\n",
       "    <tr>\n",
       "      <td>na_sales</td>\n",
       "      <td>-0.248961</td>\n",
       "      <td>1.000000</td>\n",
       "      <td>0.785362</td>\n",
       "      <td>0.472981</td>\n",
       "      <td>0.944259</td>\n",
       "      <td>0.415008</td>\n",
       "      <td>-0.020933</td>\n",
       "      <td>0.928160</td>\n",
       "    </tr>\n",
       "    <tr>\n",
       "      <td>eu_sales</td>\n",
       "      <td>-0.208306</td>\n",
       "      <td>0.785362</td>\n",
       "      <td>1.000000</td>\n",
       "      <td>0.464563</td>\n",
       "      <td>0.944698</td>\n",
       "      <td>0.346720</td>\n",
       "      <td>-0.048925</td>\n",
       "      <td>0.958157</td>\n",
       "    </tr>\n",
       "    <tr>\n",
       "      <td>jp_sales</td>\n",
       "      <td>-0.060993</td>\n",
       "      <td>0.472981</td>\n",
       "      <td>0.464563</td>\n",
       "      <td>1.000000</td>\n",
       "      <td>0.496467</td>\n",
       "      <td>0.322358</td>\n",
       "      <td>0.171332</td>\n",
       "      <td>0.527129</td>\n",
       "    </tr>\n",
       "    <tr>\n",
       "      <td>other_sales</td>\n",
       "      <td>-0.234796</td>\n",
       "      <td>0.944259</td>\n",
       "      <td>0.944698</td>\n",
       "      <td>0.496467</td>\n",
       "      <td>1.000000</td>\n",
       "      <td>0.409191</td>\n",
       "      <td>-0.035639</td>\n",
       "      <td>0.998051</td>\n",
       "    </tr>\n",
       "    <tr>\n",
       "      <td>critic_score</td>\n",
       "      <td>-0.021142</td>\n",
       "      <td>0.415008</td>\n",
       "      <td>0.346720</td>\n",
       "      <td>0.322358</td>\n",
       "      <td>0.409191</td>\n",
       "      <td>1.000000</td>\n",
       "      <td>0.557654</td>\n",
       "      <td>0.406568</td>\n",
       "    </tr>\n",
       "    <tr>\n",
       "      <td>user_score</td>\n",
       "      <td>0.152447</td>\n",
       "      <td>-0.020933</td>\n",
       "      <td>-0.048925</td>\n",
       "      <td>0.171332</td>\n",
       "      <td>-0.035639</td>\n",
       "      <td>0.557654</td>\n",
       "      <td>1.000000</td>\n",
       "      <td>-0.031957</td>\n",
       "    </tr>\n",
       "    <tr>\n",
       "      <td>total_sales</td>\n",
       "      <td>-0.235032</td>\n",
       "      <td>0.928160</td>\n",
       "      <td>0.958157</td>\n",
       "      <td>0.527129</td>\n",
       "      <td>0.998051</td>\n",
       "      <td>0.406568</td>\n",
       "      <td>-0.031957</td>\n",
       "      <td>1.000000</td>\n",
       "    </tr>\n",
       "  </tbody>\n",
       "</table>\n",
       "</div>"
      ],
      "text/plain": [
       "                 year_of_release  na_sales  eu_sales  jp_sales  other_sales  \\\n",
       "year_of_release         1.000000 -0.248961 -0.208306 -0.060993    -0.234796   \n",
       "na_sales               -0.248961  1.000000  0.785362  0.472981     0.944259   \n",
       "eu_sales               -0.208306  0.785362  1.000000  0.464563     0.944698   \n",
       "jp_sales               -0.060993  0.472981  0.464563  1.000000     0.496467   \n",
       "other_sales            -0.234796  0.944259  0.944698  0.496467     1.000000   \n",
       "critic_score           -0.021142  0.415008  0.346720  0.322358     0.409191   \n",
       "user_score              0.152447 -0.020933 -0.048925  0.171332    -0.035639   \n",
       "total_sales            -0.235032  0.928160  0.958157  0.527129     0.998051   \n",
       "\n",
       "                 critic_score  user_score  total_sales  \n",
       "year_of_release     -0.021142    0.152447    -0.235032  \n",
       "na_sales             0.415008   -0.020933     0.928160  \n",
       "eu_sales             0.346720   -0.048925     0.958157  \n",
       "jp_sales             0.322358    0.171332     0.527129  \n",
       "other_sales          0.409191   -0.035639     0.998051  \n",
       "critic_score         1.000000    0.557654     0.406568  \n",
       "user_score           0.557654    1.000000    -0.031957  \n",
       "total_sales          0.406568   -0.031957     1.000000  "
      ]
     },
     "execution_count": 97,
     "metadata": {},
     "output_type": "execute_result"
    }
   ],
   "source": [
    "df_actual[df_actual['platform']=='PS4'].corr()"
   ]
  },
  {
   "cell_type": "markdown",
   "metadata": {},
   "source": [
    "Интересно, что наблюдается прямая корреляция между общими продажами игр и оценкой критиков (коээффицент корреляции 0,4), однако имеется практичкски нулевая связь между продажами и оценкой пользователей. Возможно это связано с тем что большинство пользователей пишут отзывы уже после того как купили игру и потратили на нее какое-то время. Помотрим на график зависимости числа продаж от оценки критиков"
   ]
  },
  {
   "cell_type": "code",
   "execution_count": 98,
   "metadata": {
    "scrolled": true
   },
   "outputs": [
    {
     "data": {
      "image/png": "[encoded data removed]",
      "text/plain": [
       "<Figure size 1080x360 with 1 Axes>"
      ]
     },
     "metadata": {
      "needs_background": "light"
     },
     "output_type": "display_data"
    }
   ],
   "source": [
    "(df_actual[df_actual['platform']=='PS4'].plot(x='critic_score', y='total_sales', kind='scatter', figsize=(15,5), grid=True)\n",
    " .set(xlabel='Оценка критиков', \n",
    "      ylabel='Суммарные продажи игр (млн. копий)',  \n",
    "      title='Зависимость суммарных продаж игр на платформе PS4 от оценки критиков'));"
   ]
  },
  {
   "cell_type": "markdown",
   "metadata": {},
   "source": [
    "По графику видно, что большинство игр имеющих оценку критоков 60 и меньше имеют небольшие продажи. При оценке критиков 70 и выше вероятность получить \"хит\" значительно возрастает. Оценим является ли этот эффект существенным для всех платформ из актуального датасета или это только особенность платформы PS4. Для этого посмотрим корреляционную матрицу по всему актуальному датасету"
   ]
  },
  {
   "cell_type": "code",
   "execution_count": 99,
   "metadata": {},
   "outputs": [
    {
     "data": {
      "text/html": [
       "<div>\n",
       "<style scoped>\n",
       "    .dataframe tbody tr th:only-of-type {\n",
       "        vertical-align: middle;\n",
       "    }\n",
       "\n",
       "    .dataframe tbody tr th {\n",
       "        vertical-align: top;\n",
       "    }\n",
       "\n",
       "    .dataframe thead th {\n",
       "        text-align: right;\n",
       "    }\n",
       "</style>\n",
       "<table border=\"1\" class=\"dataframe\">\n",
       "  <thead>\n",
       "    <tr style=\"text-align: right;\">\n",
       "      <th></th>\n",
       "      <th>year_of_release</th>\n",
       "      <th>na_sales</th>\n",
       "      <th>eu_sales</th>\n",
       "      <th>jp_sales</th>\n",
       "      <th>other_sales</th>\n",
       "      <th>critic_score</th>\n",
       "      <th>user_score</th>\n",
       "      <th>total_sales</th>\n",
       "    </tr>\n",
       "  </thead>\n",
       "  <tbody>\n",
       "    <tr>\n",
       "      <td>year_of_release</td>\n",
       "      <td>1.000000</td>\n",
       "      <td>-0.124551</td>\n",
       "      <td>-0.087983</td>\n",
       "      <td>-0.074142</td>\n",
       "      <td>-0.090225</td>\n",
       "      <td>0.064322</td>\n",
       "      <td>0.039318</td>\n",
       "      <td>-0.117878</td>\n",
       "    </tr>\n",
       "    <tr>\n",
       "      <td>na_sales</td>\n",
       "      <td>-0.124551</td>\n",
       "      <td>1.000000</td>\n",
       "      <td>0.769995</td>\n",
       "      <td>0.264513</td>\n",
       "      <td>0.817367</td>\n",
       "      <td>0.301130</td>\n",
       "      <td>-0.020010</td>\n",
       "      <td>0.922617</td>\n",
       "    </tr>\n",
       "    <tr>\n",
       "      <td>eu_sales</td>\n",
       "      <td>-0.087983</td>\n",
       "      <td>0.769995</td>\n",
       "      <td>1.000000</td>\n",
       "      <td>0.244616</td>\n",
       "      <td>0.934796</td>\n",
       "      <td>0.280785</td>\n",
       "      <td>-0.027040</td>\n",
       "      <td>0.928031</td>\n",
       "    </tr>\n",
       "    <tr>\n",
       "      <td>jp_sales</td>\n",
       "      <td>-0.074142</td>\n",
       "      <td>0.264513</td>\n",
       "      <td>0.244616</td>\n",
       "      <td>1.000000</td>\n",
       "      <td>0.195192</td>\n",
       "      <td>0.134143</td>\n",
       "      <td>0.194025</td>\n",
       "      <td>0.434394</td>\n",
       "    </tr>\n",
       "    <tr>\n",
       "      <td>other_sales</td>\n",
       "      <td>-0.090225</td>\n",
       "      <td>0.817367</td>\n",
       "      <td>0.934796</td>\n",
       "      <td>0.195192</td>\n",
       "      <td>1.000000</td>\n",
       "      <td>0.275289</td>\n",
       "      <td>-0.011500</td>\n",
       "      <td>0.921370</td>\n",
       "    </tr>\n",
       "    <tr>\n",
       "      <td>critic_score</td>\n",
       "      <td>0.064322</td>\n",
       "      <td>0.301130</td>\n",
       "      <td>0.280785</td>\n",
       "      <td>0.134143</td>\n",
       "      <td>0.275289</td>\n",
       "      <td>1.000000</td>\n",
       "      <td>0.502221</td>\n",
       "      <td>0.313700</td>\n",
       "    </tr>\n",
       "    <tr>\n",
       "      <td>user_score</td>\n",
       "      <td>0.039318</td>\n",
       "      <td>-0.020010</td>\n",
       "      <td>-0.027040</td>\n",
       "      <td>0.194025</td>\n",
       "      <td>-0.011500</td>\n",
       "      <td>0.502221</td>\n",
       "      <td>1.000000</td>\n",
       "      <td>-0.002608</td>\n",
       "    </tr>\n",
       "    <tr>\n",
       "      <td>total_sales</td>\n",
       "      <td>-0.117878</td>\n",
       "      <td>0.922617</td>\n",
       "      <td>0.928031</td>\n",
       "      <td>0.434394</td>\n",
       "      <td>0.921370</td>\n",
       "      <td>0.313700</td>\n",
       "      <td>-0.002608</td>\n",
       "      <td>1.000000</td>\n",
       "    </tr>\n",
       "  </tbody>\n",
       "</table>\n",
       "</div>"
      ],
      "text/plain": [
       "                 year_of_release  na_sales  eu_sales  jp_sales  other_sales  \\\n",
       "year_of_release         1.000000 -0.124551 -0.087983 -0.074142    -0.090225   \n",
       "na_sales               -0.124551  1.000000  0.769995  0.264513     0.817367   \n",
       "eu_sales               -0.087983  0.769995  1.000000  0.244616     0.934796   \n",
       "jp_sales               -0.074142  0.264513  0.244616  1.000000     0.195192   \n",
       "other_sales            -0.090225  0.817367  0.934796  0.195192     1.000000   \n",
       "critic_score            0.064322  0.301130  0.280785  0.134143     0.275289   \n",
       "user_score              0.039318 -0.020010 -0.027040  0.194025    -0.011500   \n",
       "total_sales            -0.117878  0.922617  0.928031  0.434394     0.921370   \n",
       "\n",
       "                 critic_score  user_score  total_sales  \n",
       "year_of_release      0.064322    0.039318    -0.117878  \n",
       "na_sales             0.301130   -0.020010     0.922617  \n",
       "eu_sales             0.280785   -0.027040     0.928031  \n",
       "jp_sales             0.134143    0.194025     0.434394  \n",
       "other_sales          0.275289   -0.011500     0.921370  \n",
       "critic_score         1.000000    0.502221     0.313700  \n",
       "user_score           0.502221    1.000000    -0.002608  \n",
       "total_sales          0.313700   -0.002608     1.000000  "
      ]
     },
     "execution_count": 99,
     "metadata": {},
     "output_type": "execute_result"
    }
   ],
   "source": [
    "df_actual.corr()"
   ]
  },
  {
   "cell_type": "code",
   "execution_count": 100,
   "metadata": {},
   "outputs": [
    {
     "data": {
      "image/png": "[encoded data removed]",
      "text/plain": [
       "<Figure size 1080x360 with 1 Axes>"
      ]
     },
     "metadata": {
      "needs_background": "light"
     },
     "output_type": "display_data"
    }
   ],
   "source": [
    "(df_actual.plot(x='critic_score', y='total_sales', kind='scatter', figsize=(15,5), grid=True)\n",
    " .set(xlabel='Оценка критиков', \n",
    "      ylabel='Суммарные продажи игр (млн. копий)',  \n",
    "      title='Зависимость суммарных продаж игр на всех платформах от оценки критиков'));"
   ]
  },
  {
   "cell_type": "markdown",
   "metadata": {},
   "source": [
    "По всему актуальному датасету кореляция между числом продаж и оценкой критиков несколько уменьшилась (0,3) однако по прежнему при оценке критиков выше 70 наблюдается значительный рост количества выбросов (игр с высокими продажами, \"хитов\").\n",
    "Таким образом оценка критиков является существенным параметром определяющим успешность продаж."
   ]
  },
  {
   "cell_type": "markdown",
   "metadata": {},
   "source": [
    "<div class=\"alert alert-warning\">\n",
    "<h2> Комментарий от ревьюера</h2>\n",
    "\n",
    "Молодец! Ты сделал правильно всё, что связано с оценкой корреляции показетелей: построил диаграмму рассеяния, оценил влияние отзывов пользователей и критиков, рассчитал показатель корреляции и объяснил результат, который следует из этого показателя. Единственное, я бы провел анализ по всем перспективным платформам\n",
    "\n",
    "</div>"
   ]
  },
  {
   "cell_type": "markdown",
   "metadata": {},
   "source": [
    "### Распределение игр по жанрам"
   ]
  },
  {
   "cell_type": "code",
   "execution_count": 101,
   "metadata": {},
   "outputs": [
    {
     "data": {
      "image/png": "[encoded data removed]",
      "text/plain": [
       "<Figure size 1080x360 with 1 Axes>"
      ]
     },
     "metadata": {
      "needs_background": "light"
     },
     "output_type": "display_data"
    }
   ],
   "source": [
    "(df_actual.groupby('genre')['total_sales'].sum().sort_values(ascending=False).plot(kind='bar', figsize=(15,5), rot=0)\n",
    " .set(xlabel='Игровой жанр', \n",
    "      ylabel='Суммарные продажи игр (млн. копий)',\n",
    "      title='Распределение продаж игр по жанрам во всем мире'));"
   ]
  },
  {
   "cell_type": "markdown",
   "metadata": {},
   "source": [
    "<div class=\"alert alert-warning\">\n",
    "<h2> Комментарий ревьюера</h2>\n",
    "\n",
    "Не советую здесь использовать пироговые диаграммы. Такая диаграмма затрудняет понимание (особенно если сегментов будет больше 4х). Также, на этом типе диаграмм сложно визуально увидеть разницу между сегментами. Рекомендую использовать обычные столбчатые диаграммы вместо пироговых\n",
    "\n",
    "</div>"
   ]
  },
  {
   "cell_type": "markdown",
   "metadata": {},
   "source": [
    "<div class=\"alert alert-block alert-info\">\n",
    "<b>КОММЕНТАРИЙ ОТ УЧЕНИКА:</b>\n",
    "    \n",
    "Здесь и далее круговые диагаммы заменены на столбчатые\n",
    "    \n",
    "</div>"
   ]
  },
  {
   "cell_type": "markdown",
   "metadata": {},
   "source": [
    "<div class=\"alert alert-success\">\n",
    "<h2> Комментарий ревьюера v2 </h2>\n",
    "\n",
    "Супер, то что нужно\n",
    "    \n",
    "</div>"
   ]
  },
  {
   "cell_type": "code",
   "execution_count": 102,
   "metadata": {},
   "outputs": [
    {
     "data": {
      "text/html": [
       "<div>\n",
       "<style scoped>\n",
       "    .dataframe tbody tr th:only-of-type {\n",
       "        vertical-align: middle;\n",
       "    }\n",
       "\n",
       "    .dataframe tbody tr th {\n",
       "        vertical-align: top;\n",
       "    }\n",
       "\n",
       "    .dataframe thead th {\n",
       "        text-align: right;\n",
       "    }\n",
       "</style>\n",
       "<table border=\"1\" class=\"dataframe\">\n",
       "  <thead>\n",
       "    <tr style=\"text-align: right;\">\n",
       "      <th></th>\n",
       "      <th>sum</th>\n",
       "      <th>mean</th>\n",
       "      <th>count</th>\n",
       "    </tr>\n",
       "    <tr>\n",
       "      <th>genre</th>\n",
       "      <th></th>\n",
       "      <th></th>\n",
       "      <th></th>\n",
       "    </tr>\n",
       "  </thead>\n",
       "  <tbody>\n",
       "    <tr>\n",
       "      <td>Action</td>\n",
       "      <td>321.869995</td>\n",
       "      <td>0.420196</td>\n",
       "      <td>766</td>\n",
       "    </tr>\n",
       "    <tr>\n",
       "      <td>Shooter</td>\n",
       "      <td>232.979996</td>\n",
       "      <td>1.245882</td>\n",
       "      <td>187</td>\n",
       "    </tr>\n",
       "    <tr>\n",
       "      <td>Sports</td>\n",
       "      <td>150.649994</td>\n",
       "      <td>0.703972</td>\n",
       "      <td>214</td>\n",
       "    </tr>\n",
       "    <tr>\n",
       "      <td>Role-Playing</td>\n",
       "      <td>145.889999</td>\n",
       "      <td>0.499623</td>\n",
       "      <td>292</td>\n",
       "    </tr>\n",
       "    <tr>\n",
       "      <td>Misc</td>\n",
       "      <td>62.820000</td>\n",
       "      <td>0.405290</td>\n",
       "      <td>155</td>\n",
       "    </tr>\n",
       "    <tr>\n",
       "      <td>Platform</td>\n",
       "      <td>42.630001</td>\n",
       "      <td>0.576081</td>\n",
       "      <td>74</td>\n",
       "    </tr>\n",
       "    <tr>\n",
       "      <td>Racing</td>\n",
       "      <td>39.889999</td>\n",
       "      <td>0.469294</td>\n",
       "      <td>85</td>\n",
       "    </tr>\n",
       "    <tr>\n",
       "      <td>Fighting</td>\n",
       "      <td>35.310001</td>\n",
       "      <td>0.441375</td>\n",
       "      <td>80</td>\n",
       "    </tr>\n",
       "    <tr>\n",
       "      <td>Adventure</td>\n",
       "      <td>23.639999</td>\n",
       "      <td>0.096490</td>\n",
       "      <td>245</td>\n",
       "    </tr>\n",
       "    <tr>\n",
       "      <td>Simulation</td>\n",
       "      <td>21.760000</td>\n",
       "      <td>0.350968</td>\n",
       "      <td>62</td>\n",
       "    </tr>\n",
       "    <tr>\n",
       "      <td>Strategy</td>\n",
       "      <td>10.080000</td>\n",
       "      <td>0.180000</td>\n",
       "      <td>56</td>\n",
       "    </tr>\n",
       "    <tr>\n",
       "      <td>Puzzle</td>\n",
       "      <td>3.170000</td>\n",
       "      <td>0.186471</td>\n",
       "      <td>17</td>\n",
       "    </tr>\n",
       "  </tbody>\n",
       "</table>\n",
       "</div>"
      ],
      "text/plain": [
       "                     sum      mean  count\n",
       "genre                                    \n",
       "Action        321.869995  0.420196    766\n",
       "Shooter       232.979996  1.245882    187\n",
       "Sports        150.649994  0.703972    214\n",
       "Role-Playing  145.889999  0.499623    292\n",
       "Misc           62.820000  0.405290    155\n",
       "Platform       42.630001  0.576081     74\n",
       "Racing         39.889999  0.469294     85\n",
       "Fighting       35.310001  0.441375     80\n",
       "Adventure      23.639999  0.096490    245\n",
       "Simulation     21.760000  0.350968     62\n",
       "Strategy       10.080000  0.180000     56\n",
       "Puzzle          3.170000  0.186471     17"
      ]
     },
     "execution_count": 102,
     "metadata": {},
     "output_type": "execute_result"
    }
   ],
   "source": [
    "df_actual.groupby('genre')['total_sales'].agg(['sum', 'mean', 'count']).sort_values(by='sum', ascending=False)"
   ]
  },
  {
   "cell_type": "markdown",
   "metadata": {},
   "source": [
    "Наиболее прибыльными жанрами за последние 4 года из рассматриваемых являются (в порядке убывания) Action, Shooter, Sports, Role-Playing. Данные четыре жанра занимают 78% мировых продаж. Наиболее низкие продажи при тех же условиях наблюдаются в жанрах (в порядке убывания) Adventure, Simulation, Strategy, Puzzle."
   ]
  },
  {
   "cell_type": "markdown",
   "metadata": {},
   "source": [
    "<div class=\"alert alert-danger\">\n",
    "<h2> Комментарий ревьюера </h2>\n",
    "\n",
    "В работе также требуют выделить жанры с высокими и низкими продажами, для этого отлично подойдет сводная таблица, в которой по жанру считаются `sum`, `mean` и `count`\n",
    "\n",
    "</div>"
   ]
  },
  {
   "cell_type": "markdown",
   "metadata": {},
   "source": [
    "<div class=\"alert alert-block alert-info\">\n",
    "<b>КОММЕНТАРИЙ ОТ УЧЕНИКА:</b>\n",
    "    \n",
    "Метод sum() заменен на метод agg(), в выводе добавлена фраза про жанры с низкими продажами.\n",
    "    \n",
    "</div>"
   ]
  },
  {
   "cell_type": "markdown",
   "metadata": {},
   "source": [
    "<a id='section4'></a>\n",
    "\n",
    "## Шаг 4. Оценка портрета пользователя каждого региона (NA, EU, JP)\n",
    "### Оценка портрета пользователя Северной Америки (NA)\n",
    "**Оценка Топ-5 популярных платформ**"
   ]
  },
  {
   "cell_type": "code",
   "execution_count": 103,
   "metadata": {},
   "outputs": [
    {
     "data": {
      "image/png": "[encoded data removed]",
      "text/plain": [
       "<Figure size 1080x360 with 1 Axes>"
      ]
     },
     "metadata": {
      "needs_background": "light"
     },
     "output_type": "display_data"
    }
   ],
   "source": [
    "(df_actual.groupby('platform')['na_sales'].sum().sort_values(ascending=False).plot(kind='bar', figsize=(15,5), rot=0)\n",
    " .set(xlabel='Платформа',\n",
    "      ylabel='Суммарные продажи игр (млн. копий)',\n",
    "      title='Распределение продаж игр по платформам в Северной Америке'));"
   ]
  },
  {
   "cell_type": "code",
   "execution_count": 104,
   "metadata": {},
   "outputs": [
    {
     "data": {
      "text/plain": [
       "platform\n",
       "PS4     108.739998\n",
       "XOne     93.120003\n",
       "X360     81.659996\n",
       "PS3      63.500000\n",
       "3DS      38.200001\n",
       "Name: na_sales, dtype: float32"
      ]
     },
     "execution_count": 104,
     "metadata": {},
     "output_type": "execute_result"
    }
   ],
   "source": [
    "df_actual.groupby('platform')['na_sales'].sum().sort_values(ascending=False).head()"
   ]
  },
  {
   "cell_type": "markdown",
   "metadata": {},
   "source": [
    "**Оценка Топ-5 популярных игровых жанров**"
   ]
  },
  {
   "cell_type": "code",
   "execution_count": 105,
   "metadata": {},
   "outputs": [
    {
     "data": {
      "image/png": "[encoded data removed]",
      "text/plain": [
       "<Figure size 1080x360 with 1 Axes>"
      ]
     },
     "metadata": {
      "needs_background": "light"
     },
     "output_type": "display_data"
    }
   ],
   "source": [
    "(df_actual.groupby('genre')['na_sales'].sum().sort_values(ascending=False).plot(kind='bar', figsize=(15,5), rot=0)\n",
    " .set(xlabel='Игровой жанр', \n",
    "      ylabel='Суммарные продажи игр (млн. копий)',\n",
    "      title='Распределение продаж игр по жанрам в Северной Америке'));"
   ]
  },
  {
   "cell_type": "code",
   "execution_count": 106,
   "metadata": {
    "scrolled": true
   },
   "outputs": [
    {
     "data": {
      "text/plain": [
       "genre\n",
       "Action          126.050003\n",
       "Shooter         109.739998\n",
       "Sports           65.269997\n",
       "Role-Playing     46.400002\n",
       "Misc             27.490000\n",
       "Name: na_sales, dtype: float32"
      ]
     },
     "execution_count": 106,
     "metadata": {},
     "output_type": "execute_result"
    }
   ],
   "source": [
    "df_actual.groupby('genre')['na_sales'].sum().sort_values(ascending=False).head()"
   ]
  },
  {
   "cell_type": "markdown",
   "metadata": {},
   "source": [
    "В Северной Америке более трех четвертей рынка занимают четыре платформы: PS4, XOne, X360, PS3. Наиболее популярные игровые жанры в Северной Америке соответствуют общемировым (Action, Shooter, Sports, Role-Playing)"
   ]
  },
  {
   "cell_type": "markdown",
   "metadata": {},
   "source": [
    "### Оценка портрета пользователя в Европе (EU)\n",
    "**Оценка Топ-5 популярных платформ**"
   ]
  },
  {
   "cell_type": "code",
   "execution_count": 107,
   "metadata": {},
   "outputs": [
    {
     "data": {
      "image/png": "[encoded data removed]",
      "text/plain": [
       "<Figure size 1080x360 with 1 Axes>"
      ]
     },
     "metadata": {
      "needs_background": "light"
     },
     "output_type": "display_data"
    }
   ],
   "source": [
    "(df_actual.groupby('platform')['eu_sales'].sum().sort_values(ascending=False).plot(kind='bar', figsize=(15,5), rot=0)\n",
    " .set(xlabel='Платформа',\n",
    "      ylabel='Суммарные продажи игр (млн. копий)',\n",
    "      title='Распределение продаж игр по платформам в Европе'));"
   ]
  },
  {
   "cell_type": "code",
   "execution_count": 108,
   "metadata": {},
   "outputs": [
    {
     "data": {
      "text/plain": [
       "platform\n",
       "PS4     141.089996\n",
       "PS3      67.809998\n",
       "XOne     51.590000\n",
       "X360     42.520000\n",
       "3DS      30.959999\n",
       "Name: eu_sales, dtype: float32"
      ]
     },
     "execution_count": 108,
     "metadata": {},
     "output_type": "execute_result"
    }
   ],
   "source": [
    "df_actual.groupby('platform')['eu_sales'].sum().sort_values(ascending=False).head()"
   ]
  },
  {
   "cell_type": "markdown",
   "metadata": {},
   "source": [
    "**Оценка Топ-5 популярных игровых жанров**"
   ]
  },
  {
   "cell_type": "code",
   "execution_count": 109,
   "metadata": {},
   "outputs": [
    {
     "data": {
      "image/png": "[encoded data removed]",
      "text/plain": [
       "<Figure size 1080x360 with 1 Axes>"
      ]
     },
     "metadata": {
      "needs_background": "light"
     },
     "output_type": "display_data"
    }
   ],
   "source": [
    "(df_actual.groupby('genre')['eu_sales'].sum().sort_values(ascending=False).plot(kind='bar', figsize=(15,5), rot=0)\n",
    " .set(xlabel='Игровой жанр', \n",
    "      ylabel='Суммарные продажи игр (млн. копий)',\n",
    "      title='Распределение продаж игр по жанрам в Европе'));"
   ]
  },
  {
   "cell_type": "code",
   "execution_count": 110,
   "metadata": {},
   "outputs": [
    {
     "data": {
      "text/plain": [
       "genre\n",
       "Action          118.129997\n",
       "Shooter          87.860001\n",
       "Sports           60.520000\n",
       "Role-Playing     36.970001\n",
       "Racing           20.190001\n",
       "Name: eu_sales, dtype: float32"
      ]
     },
     "execution_count": 110,
     "metadata": {},
     "output_type": "execute_result"
    }
   ],
   "source": [
    "df_actual.groupby('genre')['eu_sales'].sum().sort_values(ascending=False).head()"
   ]
  },
  {
   "cell_type": "markdown",
   "metadata": {},
   "source": [
    "В Европе более трех четвертей рынка занимают четыре платформы: PS4, PS3, XOne, X360. Несмотря на то, что топ-4 игровых платформ такие же как и в Северной Америке, порядок их следования (по количеству продаж игр) иной. Если в Северной Америке заканчивающие свой жизненный цикл платформы (X360 и PS3) имеют меньшую долю продаж, то в Европе PS3 занимает второе место по продажам, что говорит о некотором временном лаге между распространением трендов из Севеной Америки в Европу. Наиболее популярные игровые жанры в Европе соответствуют общемировым (Action, Shooter, Sports, Role-Playing)"
   ]
  },
  {
   "cell_type": "markdown",
   "metadata": {},
   "source": [
    "### Оценка портрета пользователя в Японии (JP)\n",
    "**Оценка Топ-5 популярных платформ**"
   ]
  },
  {
   "cell_type": "code",
   "execution_count": 111,
   "metadata": {},
   "outputs": [
    {
     "data": {
      "image/png": "[encoded data removed]",
      "text/plain": [
       "<Figure size 1080x360 with 1 Axes>"
      ]
     },
     "metadata": {
      "needs_background": "light"
     },
     "output_type": "display_data"
    }
   ],
   "source": [
    "(df_actual.groupby('platform')['jp_sales'].sum().sort_values(ascending=False).plot(kind='bar', figsize=(15,5), rot=0)\n",
    " .set(xlabel='Платформа',\n",
    "      ylabel='Суммарные продажи игр (млн. копий)',\n",
    "      title='Распределение продаж игр по платформам в Японии'));"
   ]
  },
  {
   "cell_type": "code",
   "execution_count": 112,
   "metadata": {},
   "outputs": [
    {
     "data": {
      "text/plain": [
       "platform\n",
       "3DS     67.809998\n",
       "PS3     23.350000\n",
       "PSV     18.590000\n",
       "PS4     15.960000\n",
       "WiiU    10.880000\n",
       "Name: jp_sales, dtype: float32"
      ]
     },
     "execution_count": 112,
     "metadata": {},
     "output_type": "execute_result"
    }
   ],
   "source": [
    "df_actual.groupby('platform')['jp_sales'].sum().sort_values(ascending=False).head()"
   ]
  },
  {
   "cell_type": "markdown",
   "metadata": {},
   "source": [
    "**Оценка Топ-5 популярных игровых жанров**"
   ]
  },
  {
   "cell_type": "code",
   "execution_count": 113,
   "metadata": {},
   "outputs": [
    {
     "data": {
      "image/png": "[encoded data removed]",
      "text/plain": [
       "<Figure size 1080x360 with 1 Axes>"
      ]
     },
     "metadata": {
      "needs_background": "light"
     },
     "output_type": "display_data"
    }
   ],
   "source": [
    "(df_actual.groupby('genre')['jp_sales'].sum().sort_values(ascending=False).plot(kind='bar', figsize=(15,5), rot=0)\n",
    " .set(xlabel='Игровой жанр', \n",
    "      ylabel='Суммарные продажи игр (млн. копий)',\n",
    "      title='Распределение продаж игр по жанрам в Японии'));"
   ]
  },
  {
   "cell_type": "code",
   "execution_count": 114,
   "metadata": {
    "scrolled": true
   },
   "outputs": [
    {
     "data": {
      "text/plain": [
       "genre\n",
       "Role-Playing    51.040001\n",
       "Action          40.490002\n",
       "Misc             9.200000\n",
       "Fighting         7.650000\n",
       "Shooter          6.610000\n",
       "Name: jp_sales, dtype: float32"
      ]
     },
     "execution_count": 114,
     "metadata": {},
     "output_type": "execute_result"
    }
   ],
   "source": [
    "df_actual.groupby('genre')['jp_sales'].sum().sort_values(ascending=False).head()"
   ]
  },
  {
   "cell_type": "markdown",
   "metadata": {},
   "source": [
    "В Японии более трех четвертей рынка занимают три платформы: 3DS, PS3, PSV. Рынок Японии координально отличается от рынков Европы и Северной Америки. Особую популяность в Японии имет платфома 3DS от японской комании Nintendo (доля приближается к половине рынка). А популярными в Европе и Северной Америке платформами от Microsoft (XOne, X360) японские геймеры практически не пользуются. Так же в Японии отличается структура потребления игр по жанрам. В основном японцы предпочитат жанры Role-Playing и Action, а вот популярные в остальном мире жаны Shooter и Sports японцы приобретают со значительно меньшим энтузиазмом."
   ]
  },
  {
   "cell_type": "markdown",
   "metadata": {},
   "source": [
    "### Оценка влияния рейтинга ESRB на продажи в отдельном регионе\n",
    "Прежде чем перейти к оценке влияния рейтинга ESRB на продажи в отдельном регионе посмотрим какие значения может принимать столбец rating."
   ]
  },
  {
   "cell_type": "code",
   "execution_count": 115,
   "metadata": {},
   "outputs": [
    {
     "data": {
      "text/plain": [
       "[M, NaN, E, T, E10+]\n",
       "Categories (4, object): [M, E, T, E10+]"
      ]
     },
     "execution_count": 115,
     "metadata": {},
     "output_type": "execute_result"
    }
   ],
   "source": [
    "df_actual['rating'].unique()"
   ]
  },
  {
   "cell_type": "markdown",
   "metadata": {},
   "source": [
    "Видно что основные возрастные категории это M, E, T, E10+. Однако помимо этих возрастных категорий столбец содержит игры с неопределенным возрастным рейтингом (NaN). Заполним ячейки с неуказанным возрастным рейтингом значением Unknown"
   ]
  },
  {
   "cell_type": "code",
   "execution_count": 116,
   "metadata": {},
   "outputs": [
    {
     "name": "stdout",
     "output_type": "stream",
     "text": [
      "<class 'pandas.core.frame.DataFrame'>\n",
      "Int64Index: 2233 entries, 16 to 16714\n",
      "Data columns (total 12 columns):\n",
      "name               2233 non-null object\n",
      "platform           2233 non-null category\n",
      "year_of_release    2233 non-null Int16\n",
      "genre              2233 non-null category\n",
      "na_sales           2233 non-null float32\n",
      "eu_sales           2233 non-null float32\n",
      "jp_sales           2233 non-null float32\n",
      "other_sales        2233 non-null float32\n",
      "critic_score       991 non-null Int8\n",
      "user_score         1192 non-null float32\n",
      "rating             2233 non-null category\n",
      "total_sales        2233 non-null float32\n",
      "dtypes: Int16(1), Int8(1), category(3), float32(6), object(1)\n",
      "memory usage: 185.7+ KB\n"
     ]
    }
   ],
   "source": [
    "df_actual['rating'] = df_actual['rating'].astype('object').fillna('Unknown').astype('category')\n",
    "\n",
    "# проверим что столбец rating больше не содержит незаполненных значений\n",
    "df_actual.info()"
   ]
  },
  {
   "cell_type": "markdown",
   "metadata": {},
   "source": [
    "**Северная Америка (NA)**"
   ]
  },
  {
   "cell_type": "code",
   "execution_count": 117,
   "metadata": {},
   "outputs": [
    {
     "data": {
      "image/png": "[encoded data removed]",
      "text/plain": [
       "<Figure size 1080x360 with 1 Axes>"
      ]
     },
     "metadata": {
      "needs_background": "light"
     },
     "output_type": "display_data"
    }
   ],
   "source": [
    "(df_actual.groupby('rating')['na_sales'].sum().sort_values(ascending=False).plot(kind='bar', figsize=(15,5), rot=0)\n",
    " .set(xlabel='Возрастной рейтинг', \n",
    "      ylabel='Суммарные продажи игр (млн. копий)',\n",
    "      title='Распределение продаж игр по возрастному рейтингу в Северной Америке'));"
   ]
  },
  {
   "cell_type": "code",
   "execution_count": 118,
   "metadata": {
    "scrolled": false
   },
   "outputs": [
    {
     "data": {
      "text/html": [
       "<div>\n",
       "<style scoped>\n",
       "    .dataframe tbody tr th:only-of-type {\n",
       "        vertical-align: middle;\n",
       "    }\n",
       "\n",
       "    .dataframe tbody tr th {\n",
       "        vertical-align: top;\n",
       "    }\n",
       "\n",
       "    .dataframe thead th {\n",
       "        text-align: right;\n",
       "    }\n",
       "</style>\n",
       "<table border=\"1\" class=\"dataframe\">\n",
       "  <thead>\n",
       "    <tr style=\"text-align: right;\">\n",
       "      <th></th>\n",
       "      <th>count</th>\n",
       "      <th>mean</th>\n",
       "      <th>median</th>\n",
       "      <th>sum</th>\n",
       "    </tr>\n",
       "    <tr>\n",
       "      <th>rating</th>\n",
       "      <th></th>\n",
       "      <th></th>\n",
       "      <th></th>\n",
       "      <th></th>\n",
       "    </tr>\n",
       "  </thead>\n",
       "  <tbody>\n",
       "    <tr>\n",
       "      <td>M</td>\n",
       "      <td>369</td>\n",
       "      <td>0.447724</td>\n",
       "      <td>0.14</td>\n",
       "      <td>165.210007</td>\n",
       "    </tr>\n",
       "    <tr>\n",
       "      <td>Unknown</td>\n",
       "      <td>977</td>\n",
       "      <td>0.091525</td>\n",
       "      <td>0.00</td>\n",
       "      <td>89.419998</td>\n",
       "    </tr>\n",
       "    <tr>\n",
       "      <td>E</td>\n",
       "      <td>302</td>\n",
       "      <td>0.261755</td>\n",
       "      <td>0.05</td>\n",
       "      <td>79.050003</td>\n",
       "    </tr>\n",
       "    <tr>\n",
       "      <td>E10+</td>\n",
       "      <td>252</td>\n",
       "      <td>0.215238</td>\n",
       "      <td>0.12</td>\n",
       "      <td>54.240002</td>\n",
       "    </tr>\n",
       "    <tr>\n",
       "      <td>T</td>\n",
       "      <td>333</td>\n",
       "      <td>0.149520</td>\n",
       "      <td>0.04</td>\n",
       "      <td>49.790001</td>\n",
       "    </tr>\n",
       "  </tbody>\n",
       "</table>\n",
       "</div>"
      ],
      "text/plain": [
       "         count      mean  median         sum\n",
       "rating                                      \n",
       "M          369  0.447724    0.14  165.210007\n",
       "Unknown    977  0.091525    0.00   89.419998\n",
       "E          302  0.261755    0.05   79.050003\n",
       "E10+       252  0.215238    0.12   54.240002\n",
       "T          333  0.149520    0.04   49.790001"
      ]
     },
     "execution_count": 118,
     "metadata": {},
     "output_type": "execute_result"
    }
   ],
   "source": [
    "df_actual.groupby('rating')['na_sales'].agg(['count', 'mean', 'median', 'sum']).sort_values(by='sum', ascending=False)"
   ]
  },
  {
   "cell_type": "markdown",
   "metadata": {},
   "source": [
    "Большую часть продаж в Северной Америке занимают игры с рейтингом M («Mature» — «Для взрослых»), оставшуюся часть делят между собой игры с рейтингами E («Everyone» — «Для всех»), E10+ («Everyone 10 and older» — «Для всех от 10 лет и старше») и T («Teen» — «Подросткам»)"
   ]
  },
  {
   "cell_type": "markdown",
   "metadata": {},
   "source": [
    "**Европа (EU)**"
   ]
  },
  {
   "cell_type": "code",
   "execution_count": 119,
   "metadata": {},
   "outputs": [
    {
     "data": {
      "image/png": "[encoded data removed]",
      "text/plain": [
       "<Figure size 1080x360 with 1 Axes>"
      ]
     },
     "metadata": {
      "needs_background": "light"
     },
     "output_type": "display_data"
    }
   ],
   "source": [
    "(df_actual.groupby('rating')['eu_sales'].sum().sort_values(ascending=False).plot(kind='bar', figsize=(15,5), rot=0)\n",
    " .set(xlabel='Возрастной рейтинг', \n",
    "      ylabel='Суммарные продажи игр (млн. копий)',\n",
    "      title='Распределение продаж игр по возрастному рейтингу в Европе'));"
   ]
  },
  {
   "cell_type": "code",
   "execution_count": 120,
   "metadata": {},
   "outputs": [
    {
     "data": {
      "text/html": [
       "<div>\n",
       "<style scoped>\n",
       "    .dataframe tbody tr th:only-of-type {\n",
       "        vertical-align: middle;\n",
       "    }\n",
       "\n",
       "    .dataframe tbody tr th {\n",
       "        vertical-align: top;\n",
       "    }\n",
       "\n",
       "    .dataframe thead th {\n",
       "        text-align: right;\n",
       "    }\n",
       "</style>\n",
       "<table border=\"1\" class=\"dataframe\">\n",
       "  <thead>\n",
       "    <tr style=\"text-align: right;\">\n",
       "      <th></th>\n",
       "      <th>count</th>\n",
       "      <th>mean</th>\n",
       "      <th>median</th>\n",
       "      <th>sum</th>\n",
       "    </tr>\n",
       "    <tr>\n",
       "      <th>rating</th>\n",
       "      <th></th>\n",
       "      <th></th>\n",
       "      <th></th>\n",
       "      <th></th>\n",
       "    </tr>\n",
       "  </thead>\n",
       "  <tbody>\n",
       "    <tr>\n",
       "      <td>M</td>\n",
       "      <td>369</td>\n",
       "      <td>0.393821</td>\n",
       "      <td>0.130</td>\n",
       "      <td>145.320007</td>\n",
       "    </tr>\n",
       "    <tr>\n",
       "      <td>E</td>\n",
       "      <td>302</td>\n",
       "      <td>0.276026</td>\n",
       "      <td>0.055</td>\n",
       "      <td>83.360001</td>\n",
       "    </tr>\n",
       "    <tr>\n",
       "      <td>Unknown</td>\n",
       "      <td>977</td>\n",
       "      <td>0.080768</td>\n",
       "      <td>0.000</td>\n",
       "      <td>78.909996</td>\n",
       "    </tr>\n",
       "    <tr>\n",
       "      <td>E10+</td>\n",
       "      <td>252</td>\n",
       "      <td>0.169405</td>\n",
       "      <td>0.100</td>\n",
       "      <td>42.689999</td>\n",
       "    </tr>\n",
       "    <tr>\n",
       "      <td>T</td>\n",
       "      <td>333</td>\n",
       "      <td>0.125976</td>\n",
       "      <td>0.040</td>\n",
       "      <td>41.950001</td>\n",
       "    </tr>\n",
       "  </tbody>\n",
       "</table>\n",
       "</div>"
      ],
      "text/plain": [
       "         count      mean  median         sum\n",
       "rating                                      \n",
       "M          369  0.393821   0.130  145.320007\n",
       "E          302  0.276026   0.055   83.360001\n",
       "Unknown    977  0.080768   0.000   78.909996\n",
       "E10+       252  0.169405   0.100   42.689999\n",
       "T          333  0.125976   0.040   41.950001"
      ]
     },
     "execution_count": 120,
     "metadata": {},
     "output_type": "execute_result"
    }
   ],
   "source": [
    "df_actual.groupby('rating')['eu_sales'].agg(['count', 'mean', 'median', 'sum']).sort_values(by='sum', ascending=False)"
   ]
  },
  {
   "cell_type": "markdown",
   "metadata": {},
   "source": [
    "Структура потребления игр в Европе по возрастному рейтингу в целом соответствует структуре потребления в Северной Америке"
   ]
  },
  {
   "cell_type": "markdown",
   "metadata": {},
   "source": [
    "**Япония (JP)**"
   ]
  },
  {
   "cell_type": "code",
   "execution_count": 121,
   "metadata": {
    "scrolled": false
   },
   "outputs": [
    {
     "data": {
      "image/png": "[encoded data removed]",
      "text/plain": [
       "<Figure size 1080x360 with 1 Axes>"
      ]
     },
     "metadata": {
      "needs_background": "light"
     },
     "output_type": "display_data"
    }
   ],
   "source": [
    "(df_actual.groupby('rating')['jp_sales'].sum().sort_values(ascending=False).plot(kind='bar', figsize=(15,5), rot=0)\n",
    " .set(xlabel='Возрастной рейтинг', \n",
    "      ylabel='Суммарные продажи игр (млн. копий)',\n",
    "      title='Распределение продаж игр по возрастному рейтингу в Японии'));"
   ]
  },
  {
   "cell_type": "code",
   "execution_count": 122,
   "metadata": {},
   "outputs": [
    {
     "data": {
      "text/html": [
       "<div>\n",
       "<style scoped>\n",
       "    .dataframe tbody tr th:only-of-type {\n",
       "        vertical-align: middle;\n",
       "    }\n",
       "\n",
       "    .dataframe tbody tr th {\n",
       "        vertical-align: top;\n",
       "    }\n",
       "\n",
       "    .dataframe thead th {\n",
       "        text-align: right;\n",
       "    }\n",
       "</style>\n",
       "<table border=\"1\" class=\"dataframe\">\n",
       "  <thead>\n",
       "    <tr style=\"text-align: right;\">\n",
       "      <th></th>\n",
       "      <th>count</th>\n",
       "      <th>mean</th>\n",
       "      <th>median</th>\n",
       "      <th>sum</th>\n",
       "    </tr>\n",
       "    <tr>\n",
       "      <th>rating</th>\n",
       "      <th></th>\n",
       "      <th></th>\n",
       "      <th></th>\n",
       "      <th></th>\n",
       "    </tr>\n",
       "  </thead>\n",
       "  <tbody>\n",
       "    <tr>\n",
       "      <td>Unknown</td>\n",
       "      <td>977</td>\n",
       "      <td>0.087052</td>\n",
       "      <td>0.02</td>\n",
       "      <td>85.050003</td>\n",
       "    </tr>\n",
       "    <tr>\n",
       "      <td>T</td>\n",
       "      <td>333</td>\n",
       "      <td>0.061832</td>\n",
       "      <td>0.01</td>\n",
       "      <td>20.590000</td>\n",
       "    </tr>\n",
       "    <tr>\n",
       "      <td>E</td>\n",
       "      <td>302</td>\n",
       "      <td>0.050132</td>\n",
       "      <td>0.00</td>\n",
       "      <td>15.140000</td>\n",
       "    </tr>\n",
       "    <tr>\n",
       "      <td>M</td>\n",
       "      <td>369</td>\n",
       "      <td>0.038238</td>\n",
       "      <td>0.00</td>\n",
       "      <td>14.110000</td>\n",
       "    </tr>\n",
       "    <tr>\n",
       "      <td>E10+</td>\n",
       "      <td>252</td>\n",
       "      <td>0.023373</td>\n",
       "      <td>0.00</td>\n",
       "      <td>5.890000</td>\n",
       "    </tr>\n",
       "  </tbody>\n",
       "</table>\n",
       "</div>"
      ],
      "text/plain": [
       "         count      mean  median        sum\n",
       "rating                                     \n",
       "Unknown    977  0.087052    0.02  85.050003\n",
       "T          333  0.061832    0.01  20.590000\n",
       "E          302  0.050132    0.00  15.140000\n",
       "M          369  0.038238    0.00  14.110000\n",
       "E10+       252  0.023373    0.00   5.890000"
      ]
     },
     "execution_count": 122,
     "metadata": {},
     "output_type": "execute_result"
    }
   ],
   "source": [
    "df_actual.groupby('rating')['jp_sales'].agg(['count', 'mean', 'median', 'sum']).sort_values(by='sum', ascending=False)"
   ]
  },
  {
   "cell_type": "markdown",
   "metadata": {},
   "source": [
    "В случае рейтинга, как и в случае платформ и жанров, рынок Японии имеет отличную структуру от рынков Европы и Северной Америки.\n",
    "Наибольшую долю имеют игры с рейтингом T («Teen» — «Подросткам»), второе место в доле продаж занимают игры с рейтингом E («Everyone» — «Для всех»); третье и четвертое места делят M («Mature» — «Для взрослых») и E10+ («Everyone 10 and older» — «Для всех от 10 лет и старше»). Высокая доля продаж игр с неустановленным рейтингом от ESRB может быть объяснено тем, что в Японии имеется своя рейтинговая организация (CERO), которая выполняет аналогичные функции."
   ]
  },
  {
   "cell_type": "markdown",
   "metadata": {},
   "source": [
    "<div class=\"alert alert-danger\">\n",
    "<h2> Комментарий ревьюера </h2>\n",
    "\n",
    "В данном разделе ты не учел продажи без рейтингов (там где пропуски). В одном из регионов они занимают лидирующие позиции, добавь пожалуйста, и предположи, с чем это может быть связано\n",
    "\n",
    "</div>"
   ]
  },
  {
   "cell_type": "markdown",
   "metadata": {},
   "source": [
    "<div class=\"alert alert-block alert-info\">\n",
    "<b>КОММЕНТАРИЙ ОТ УЧЕНИКА:</b>\n",
    "    \n",
    "В начале подраздела добавлено заполнение пропусков в столбце rating. В выводах добавлена фраза о наличии собственного рейтнгового агенства в Японии.\n",
    "    \n",
    "</div>"
   ]
  },
  {
   "cell_type": "markdown",
   "metadata": {},
   "source": [
    "<div class=\"alert alert-success\">\n",
    "<h2> Комментарий ревьюера v2 </h2>\n",
    "\n",
    "Все верно\n",
    "    \n",
    "</div>"
   ]
  },
  {
   "cell_type": "markdown",
   "metadata": {},
   "source": [
    "<a id='section5'></a>\n",
    "\n",
    "## Шаг 5. Проверка гипотез\n",
    "### Провека гиотезы о равенстве средних пользовательских рейтингов платформ Xbox One и PC\n",
    "Проверку гиотезы будем проводить исользуя статистический критерий Стьюдента. Выдвенем следующие гипотезы:\n",
    "\n",
    "    H0: Средние пользовательские рейтинги платформ Xbox One и PC равны.\n",
    "    \n",
    "    H1: Средние пользовательские рейтинги платформ Xbox One и PC отличаются."
   ]
  },
  {
   "cell_type": "markdown",
   "metadata": {},
   "source": [
    "<div class=\"alert alert-success\">\n",
    "<h2> Комментарий ревьюера </h2>\n",
    "\n",
    "Отлично, гипотезы сформулированы правильно\n",
    "\n",
    "</div>"
   ]
  },
  {
   "cell_type": "code",
   "execution_count": 123,
   "metadata": {},
   "outputs": [
    {
     "data": {
      "text/plain": [
       "count    182.000000\n",
       "mean       6.521428\n",
       "std        1.380941\n",
       "min        1.600000\n",
       "25%        5.800000\n",
       "50%        6.800000\n",
       "75%        7.500000\n",
       "max        9.200000\n",
       "Name: user_score, dtype: float64"
      ]
     },
     "execution_count": 123,
     "metadata": {},
     "output_type": "execute_result"
    }
   ],
   "source": [
    "df_actual[(df_actual['platform']=='XOne') & (df_actual['user_score'].notna())]['user_score'].describe()"
   ]
  },
  {
   "cell_type": "code",
   "execution_count": 124,
   "metadata": {},
   "outputs": [
    {
     "data": {
      "text/plain": [
       "count    155.000000\n",
       "mean       6.269678\n",
       "std        1.742381\n",
       "min        1.400000\n",
       "25%        5.300000\n",
       "50%        6.800000\n",
       "75%        7.600000\n",
       "max        9.300000\n",
       "Name: user_score, dtype: float64"
      ]
     },
     "execution_count": 124,
     "metadata": {},
     "output_type": "execute_result"
    }
   ],
   "source": [
    "df_actual[(df_actual['platform']=='PC') & (df_actual['user_score'].notna())]['user_score'].describe()"
   ]
  },
  {
   "cell_type": "code",
   "execution_count": 125,
   "metadata": {},
   "outputs": [
    {
     "name": "stdout",
     "output_type": "stream",
     "text": [
      "Вероятность того, что дисесии двух выборок одинаковые: 0.00389754886889314\n",
      "p-значение:  0.14759702913383088\n",
      "Не получилось отвергнуть гипотезу о равенстве средних пользовательских рейтингов платформ Xbox One и PC\n"
     ]
    }
   ],
   "source": [
    "from scipy import stats as st\n",
    "\n",
    "alpha = 0.05\n",
    "\n",
    "stat, p = st.levene(df_actual[(df_actual['platform']=='XOne') & (df_actual['user_score'].notna())]['user_score'],\n",
    "                 df_actual[(df_actual['platform']=='PC') & (df_actual['user_score'].notna())]['user_score'])\n",
    "print('Вероятность того, что дисесии двух выборок одинаковые:', p)\n",
    "\n",
    "results = st.ttest_ind(df_actual[(df_actual['platform']=='XOne') & (df_actual['user_score'].notna())]['user_score'],\n",
    "                       df_actual[(df_actual['platform']=='PC') & (df_actual['user_score'].notna())]['user_score'],\n",
    "                       equal_var=False)\n",
    "\n",
    "print('p-значение: ', results.pvalue)\n",
    "if results.pvalue < alpha:\n",
    "    print('Гипотеза о равенстве средних пользовательских рейтингов платформ Xbox One и PC отвергнута')\n",
    "else:\n",
    "    print('Не получилось отвергнуть гипотезу о равенстве средних пользовательских рейтингов платформ Xbox One и PC')"
   ]
  },
  {
   "cell_type": "markdown",
   "metadata": {},
   "source": [
    "<div class=\"alert alert-warning\">\n",
    "<h2> Комментарий ревьюера </h2>\n",
    "\n",
    "У тебя отличная работа и я хочу, чтобы она стала еще лучше. Поэтому, прежде чем произвести проверку гипотезы через T-критерий Стьюдента произведи проверку дисперсии выборок, чтобы понять с каким параметром `equal_var` использовать метод проверки `ttest_ind` (по дефолту True). Здесь можно вручную посчитать [дисперсии](https://numpy.org/doc/stable/reference/generated/numpy.var.html) (обрати внимание на параметр `ddof`), либо воспользоваться [стат.тестом Левене](https://docs.scipy.org/doc/scipy/reference/generated/scipy.stats.levene.html) (там в конце есть неплохой пример) или [тестом Барлетта](https://docs.scipy.org/doc/scipy/reference/generated/scipy.stats.bartlett.html). В чем разница в тестах, думаю ты разберешься 🙂\n",
    "\n",
    "</div>"
   ]
  },
  {
   "cell_type": "markdown",
   "metadata": {},
   "source": [
    "<div class=\"alert alert-block alert-info\">\n",
    "<b>КОММЕНТАРИЙ ОТ УЧЕНИКА:</b>\n",
    "    \n",
    "Добавлена проверка одинаковости дисперсий двух выборок. Поскольку дисерсии выборок с высокой долей вероятности разные, параметр equal_var установлен в значение False.\n",
    "    \n",
    "</div>"
   ]
  },
  {
   "cell_type": "markdown",
   "metadata": {},
   "source": [
    "<div class=\"alert alert-success\">\n",
    "<h2> Комментарий ревьюера v2 </h2>\n",
    "\n",
    "👏👏👏\n",
    "    \n",
    "</div>"
   ]
  },
  {
   "cell_type": "markdown",
   "metadata": {},
   "source": [
    "Таким образом имеется отличная от нуля вероятность, что средние пользовательские рейтинги платформ Xbox One и PC равны."
   ]
  },
  {
   "cell_type": "markdown",
   "metadata": {},
   "source": [
    "### Провека гиотезы об отличии средних пользовательских рейтингов жанов Action и Sports\n",
    "Проверку гиотезы будем проводить исользуя статистический критерий Стьюдента. Выдвенем следующие гипотезы:\n",
    "\n",
    "    H0: Средние пользовательские рейтинги жанов Action и Sports равны.\n",
    "    \n",
    "    H1: Средние пользовательские рейтинги жанов Action и Sports отличаются."
   ]
  },
  {
   "cell_type": "code",
   "execution_count": 126,
   "metadata": {},
   "outputs": [
    {
     "data": {
      "text/plain": [
       "count    389.000000\n",
       "mean       6.837532\n",
       "std        1.330173\n",
       "min        2.000000\n",
       "25%        6.300000\n",
       "50%        7.100000\n",
       "75%        7.800000\n",
       "max        9.100000\n",
       "Name: user_score, dtype: float64"
      ]
     },
     "execution_count": 126,
     "metadata": {},
     "output_type": "execute_result"
    }
   ],
   "source": [
    "df_actual[(df_actual['genre']=='Action') & (df_actual['user_score'].notna())]['user_score'].describe()"
   ]
  },
  {
   "cell_type": "code",
   "execution_count": 127,
   "metadata": {},
   "outputs": [
    {
     "data": {
      "text/plain": [
       "count    160.000000\n",
       "mean       5.238125\n",
       "std        1.783427\n",
       "min        0.200000\n",
       "25%        4.100000\n",
       "50%        5.500000\n",
       "75%        6.500000\n",
       "max        8.800000\n",
       "Name: user_score, dtype: float64"
      ]
     },
     "execution_count": 127,
     "metadata": {},
     "output_type": "execute_result"
    }
   ],
   "source": [
    "df_actual[(df_actual['genre']=='Sports') & (df_actual['user_score'].notna())]['user_score'].describe()"
   ]
  },
  {
   "cell_type": "code",
   "execution_count": 128,
   "metadata": {},
   "outputs": [
    {
     "name": "stdout",
     "output_type": "stream",
     "text": [
      "Вероятность того, что дисесии двух выборок одинаковые: 0.00389754886889314\n",
      "p-значение:  1.445999656754529e-20\n",
      "Гипотеза о равенстве средних пользовательских рейтингов жанов Action и Sports отвергнута\n"
     ]
    }
   ],
   "source": [
    "alpha = 0.05\n",
    "\n",
    "stat, p = st.levene(df_actual[(df_actual['platform']=='XOne') & (df_actual['user_score'].notna())]['user_score'],\n",
    "                 df_actual[(df_actual['platform']=='PC') & (df_actual['user_score'].notna())]['user_score'])\n",
    "print('Вероятность того, что дисесии двух выборок одинаковые:', p)\n",
    "\n",
    "results = st.ttest_ind(df_actual[(df_actual['genre']=='Action') & (df_actual['user_score'].notna())]['user_score'],\n",
    "                       df_actual[(df_actual['genre']=='Sports') & (df_actual['user_score'].notna())]['user_score'],\n",
    "                       equal_var=False)\n",
    "\n",
    "print('p-значение: ', results.pvalue)\n",
    "if results.pvalue < alpha:\n",
    "    print('Гипотеза о равенстве средних пользовательских рейтингов жанов Action и Sports отвергнута')\n",
    "else:\n",
    "    print('Не получилось отвергнуть гипотезу о равенстве средних пользовательских рейтингов жанов Action и Sports')"
   ]
  },
  {
   "cell_type": "markdown",
   "metadata": {},
   "source": [
    "Гипотеза о равенстве средних пользовательских рейтингов жанов Action и Sports отвергнута т.е. средние пользовательские рейтинги жанов Action и Sports отличаются."
   ]
  },
  {
   "cell_type": "markdown",
   "metadata": {},
   "source": [
    "<a id='section6'></a>\n",
    "\n",
    "## Шаг 6. Выводы"
   ]
  },
  {
   "cell_type": "markdown",
   "metadata": {},
   "source": [
    "**В процессе данного исследования были проведены следующие работы:**\n",
    "1. Проведен обзор предоставленных данных, изучена общая информация\n",
    "2. Проведена подготовка данных, заменены типы данных, обработаны пропуски\n",
    "3. Оценено как менялись продажи по различным платформам во времени, выбран актуальный период для проведения дальнейшего исследования, оценено как влияют на продажи отзывы пользователей и критиков, выявлены жанры с высокими и низкими продажами\n",
    "4. Составлены портреты пользователей каждого региона (Северная Америка, Европа, Япония)\n",
    "5. Проверены гипотезы о том что средние пользовательские рейтинги платформ Xbox One и PC одинаковые и средние пользовательские рейтинги жанров Action и Sports разные.\n",
    "\n",
    "**По результатам исследования установлено:**\n",
    "* Исторически наиболее популярными платформами (по количеству выпущенных игр) являются PS2 и DS. Только на эти две платформы приходится более четверти выпущеных за все время в мире игр. \n",
    "* За все время наблюдения по количеству выпущенных игр топ-5 платформ выглядит следующим образом: PS2, DS, PS3, Wii, X360. Однако не смотря на это по количеству проданных копий топ-5 выглядит по другому: PS2, X360, PS3, Wii, DS.\n",
    "* Исторически наиболее часто встречающимися жанрами игр являются Action и Sports. На эти два жанра приходится более трети выпущенных в мире игр.\n",
    "* Каждая платформа имеет свой жизненный цикл в процессе которого вначале количество продаваемых копий игр растет, а затем так же снижается. Если оценивать длительность жизненного цикла по поливене от максимума продаж, то для рассматриваемых платформ типовой жизненный цикл составляет порядка 5...10 лет. В связи с этим в исследовании актуальный период был принят равным четырем годам.\n",
    "* С 2013 по 2016 годы набирают популярность платформы PS4 и XOne, а вот PS3 и X360 свой жизненный цикл заканчивают.\n",
    "* Наиболее прибыльными жанрами за последние 4 года являются (в порядке убывания) Action, Shooter, Sports, Role-Playing. Данные четыре жанра занимают 78% мировых продаж.\n",
    "* Наблюдается прямая корреляция между общими продажами игр и оценкой критиков, однако имеется практичкски нулевая связь между продажами и оценкой пользователей. При оценке критиков 70 и выше вероятность получить игру с высокими продажами значительно возрастает.\n",
    "* Портреты игроков в Севеной Америке и Европе очень похожи. В основном они предочитают платфомы от Sony (PS4, PS3) или Microsoft (XOne, X360) и игровые жанры популярные и во всем мире (Action, Shooter, Sports, Role-Playing). При этом основную долю продаж занимают игры с возрастным рейтингом M («Mature» — «Для взрослых»). Так же наблюдается некоторый временной лаг между распространением трендов из Севеной Америки в Европу.\n",
    "* Портрет игрока в Японии сильно отличается от портрета игроков в  Севеной Америке и Европе. В Японии педочитают платфомы от Nintendo (3DS) и Sony (PS3, PSV). Указанные платфомы занимают более трех четвертей рынка. В основном японцы предпочитат жанры Role-Playing и Action, а вот популярные в остальном мире жаны Shooter и Sports японцы приобретают со значительно меньшим энтузиазмом. Наибольшую долю в продажах в Японии имеют игры с рейтингом T («Teen» — «Подросткам»).\n",
    "*  В процессе иследований не получилось отвергнуть гипотезу о равенстве средних пользовательских рейтингов платформ Xbox One и PC. Средние пользовательские рейтинги платформ Xbox One и PC могут быть равны.\n",
    "* В процессе исследования установлено, что средние пользовательские рейтинги жанов Action и Sports отличаются.\n",
    "\n",
    "\n",
    "**При определении потенциально популярного продукта и планиовании рекламных компаний рекомендуется**\n",
    "1. Обащать в внимание на текущий этап жизненного цикла платформы для которой выпущена игра. Наиболее перспективными являются платформы PS4 и XOne\n",
    "2. Обращать внимание на оценки критиков. Чем выше оценка критиков тем больше вероятность что продукт может стать хитом.\n",
    "3. Большее внимание сосредоточить на игровых жанрах Action, Shooter, Sports и Role-Playing\n",
    "4. Учитывать особенности игрового потребления по регионам\n"
   ]
  },
  {
   "cell_type": "markdown",
   "metadata": {},
   "source": [
    "<div class=\"alert alert-success\">\n",
    "<h2> Комментарий ревьюера </h2>\n",
    "\n",
    "Excellent 👏 И снова отличный вывод \n",
    "\n",
    "</div>"
   ]
  },
  {
   "cell_type": "markdown",
   "metadata": {},
   "source": [
    "<div style=\"border:solid purple 2px; padding: 20px\">\n",
    "\n",
    "Спасибо за твой интересный проект! Ты отлично поработал. Ты хорошо отлично визуализируешь распределения, на каждом шаге аргументируешь свой выбор. Мне понравился твой очень вдумчивый подход к работе.\n",
    "\n",
    "Остались небольшие доработки:\n",
    "\n",
    "- В шаге 4 добавить аналитику по играм с пустыми рейтингами;\n",
    "- В шаге 3 необходимо выделить жанры с высокими и низкими продажами\n",
    "\n",
    "Я уверен, ты легко справишься с доработками, жду твоих исправлений 😊\n",
    "\n",
    "<div>"
   ]
  },
  {
   "cell_type": "code",
   "execution_count": null,
   "metadata": {},
   "outputs": [],
   "source": []
  }
 ],
 "metadata": {
  "kernelspec": {
   "display_name": "Python 3",
   "language": "python",
   "name": "python3"
  },
  "language_info": {
   "codemirror_mode": {
    "name": "ipython",
    "version": 3
   },
   "file_extension": ".py",
   "mimetype": "text/x-python",
   "name": "python",
   "nbconvert_exporter": "python",
   "pygments_lexer": "ipython3",
   "version": "3.7.8"
  },
  "toc": {
   "base_numbering": 1,
   "nav_menu": {},
   "number_sections": true,
   "sideBar": true,
   "skip_h1_title": false,
   "title_cell": "Table of Contents",
   "title_sidebar": "Contents",
   "toc_cell": false,
   "toc_position": {},
   "toc_section_display": true,
   "toc_window_display": false
  }
 },
 "nbformat": 4,
 "nbformat_minor": 2
}
