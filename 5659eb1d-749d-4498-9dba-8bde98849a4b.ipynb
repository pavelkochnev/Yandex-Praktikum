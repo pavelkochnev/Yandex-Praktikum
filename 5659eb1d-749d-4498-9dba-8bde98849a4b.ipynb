{
 "cells": [
  {
   "cell_type": "markdown",
   "metadata": {},
   "source": [
    "## <span style=\"color:green\">Привет, Павел!</span>\n",
    "\n",
    "Отличная работа и еще больше отличного в доработках) Давай по порядку:\n",
    "\n",
    "Проект принят ✔\n",
    "\n",
    "1. Все (или почти все) реализовано через автоматизацию. Функции повсюду, а это значит нет лишнего кода и рутины.\n",
    "\n",
    "2. Прекрасная визуализация. Графики не напрягают, комфортны, понятны. Подобрана правильная цветовая схема.Короче, и понятно и для глаза приятно.\n",
    "\n",
    "3. Все рассуждения верные. Очень логичные и осмысленные. Ничего лишнего, все по полкам. Выводы правильные, хоть я где-то и не согласился, но аналитик тут ты, и ты очень грамотно обосновываешь свою точку зрения.\n",
    "\n",
    "4. Ты понял статистику, уже знаешь много крутых фич.\n",
    "\n",
    "\n",
    "Короче, молодец! Я желаю тебе успехов в учебе, а с твоим подходом, уситчивостью и старанием, я думаю, успех не заставит долго ждать. Удачи!\n",
    "<img src=\"https://russiaedu.ru/media/cache/image_md_resize/uploads/upload-images/2018/05/28/rdBrF8Lpz2s.jpg\" width=\"300\">\n",
    "\n",
    "Поздравляю с переходом на следующий этап. Впереди еще много интересного (и сложного))\n",
    "\n",
    "Полистай комментарии V2"
   ]
  },
  {
   "cell_type": "markdown",
   "metadata": {},
   "source": [
    "## <span style=\"color:magenta\">Привет, Павел !</span>\n",
    "\n",
    "Меня зовут **Александр Сушков** и я - ревьювер, буду проверять твой проект. Ревьювер, это твой коллега, который не указавает тебе на совершенные тобою ошибки, а делится своим опытом и помогает тебе стать аналитиком данных. Ты уже проделал большую работу над проектом, но давай сделаем его еще лучше.\n",
    "\n",
    "Если не против, я буду обращаться к тебе на \"ТЫ\". Если это неприемлемо, обязательно напиши мне в комментариях - мы прейдем на \"ВЫ\".\n",
    "\n",
    "Спасибо, что сдал задание:) Далее в файле ты сможешь найти мои комментарии в подобных ячейках. Пострайся учесть эти комментарии в ходе выполнения дальнейших проектов.\n",
    "\n",
    "Мне очень понравился твой проект. Видно, что ты достаточно проработал теоритическую часть. Я вижу, что ты интересуешься материалом, которого не было, или пока не было, в теоритической части Практикума. Это очень здОрово! Тем не менее, в проекте обнаружились недочёты, которые необходимо будет исправить. Это не плохо, это - нормально.\n",
    "\n",
    "Обрати внимание, для твоего удобства, я буду выделять свои комментарии цветом, в зависимости от того, какие действия, важность и особенности тебя ждут в процессе проверки:\n",
    "\n",
    "<div class=\"alert alert-block alert-success\">\n",
    "<h2>Комментарий от ревьювера (все здОрово)</h2> \n",
    "    \n",
    "Такими комментариями я буду помечать хорошо проделаную работу, а так же хорошо проделаную работу над ошибками:)\n",
    "</div>\n",
    "\n",
    "<div class=\"alert alert-block alert-warning\">\n",
    "<h2>Комментарий от ревьювера (принимаем к размышлению)</h2> \n",
    "    \n",
    "В таких комментариях я постараюсь подсказать тебе более элегантное или легкое решение. Поскажу некоторые хитрости и фишки. Дам рекомендации на будущее, ссылки для доп. изучения. Части проекта, помеченные такими комментариями, можно не исправлять, но рекомендую обратить на них внимание.\n",
    "</div>\n",
    "\n",
    "<div class=\"alert alert-block alert-danger\">\n",
    "<h2>Комментарий от ревьювера (недочет, который нужно доработать)</h2> \n",
    "    \n",
    "Если ты видишь такой комментарий, значит я указываю тебе на недочёт, его нужно исправить. Без такого исправления я не приму твою работу:)\n",
    "</div>\n",
    "\n",
    "\n",
    "\n",
    "#### Пожалуста, не удаляй мои комментарии и относись к ним бережно. При повторной проверке, я буду ориентироваться на них. \n",
    "\n",
    "###### Можешь под моими комментариями оставлять свои, в которых опиши свои испарвления. Это облегчит процесс проверки и мне, и тебе:) Например, вот так:\n",
    "\n",
    "<div class=\"alert alert-block alert-info\">\n",
    "<b>КОММЕНТАРИЙ ОТ УЧЕНИКА:</b>\n",
    "</div>"
   ]
  },
  {
   "cell_type": "markdown",
   "metadata": {},
   "source": [
    "# Определение перспективного тарифа для телеком компании\n",
    "\n",
    "Вы аналитик компании «Мегалайн» — федерального оператора сотовой связи. Клиентам предлагают два тарифных плана: «Смарт» и «Ультра». Чтобы скорректировать рекламный бюджет, коммерческий департамент хочет понять, какой тариф приносит больше денег.\n",
    "Вам предстоит сделать предварительный анализ тарифов на небольшой выборке клиентов. В вашем распоряжении данные 500 пользователей «Мегалайна»: кто они, откуда, каким тарифом пользуются, сколько звонков и сообщений каждый отправил за 2018 год. Нужно проанализировать поведение клиентов и сделать вывод — какой тариф лучше."
   ]
  },
  {
   "cell_type": "markdown",
   "metadata": {},
   "source": [
    "<div class=\"alert alert-block alert-warning\">\n",
    "<h2>Комментарий от ревьювера (принимаем к размышлению)</h2> \n",
    "\n",
    "Немного про оформление:) Ты просто скопировал задание себе в тетрадку. В некоторых случаях это тоже выход:) Но я бы порекомендовал тебе составлять план, похожий больше на книжное содержание.\n",
    "Например:\n",
    "\n",
    "### Определение чего-то очень важного.\n",
    "_____\n",
    "##### В данном исследовании представлены несколько таблиц с очень важной информацией.\n",
    "______\n",
    "\n",
    "###### Данное исследование разделим на несколько частей.\n",
    "\n",
    "##### Часть 1. Изучение общей информации:\n",
    "* [1. Изученеие файлов с данными, получение общей информации, загрузка библиотек.](#1-bullet)\n",
    "* [2. Нахождение и ликвидация пропусков.](#2-bullet)\n",
    "\n",
    "##### Часть 2. Подготовка данных:\n",
    "* [1. Приведение данных к нужным типам.](#3-bullet)\n",
    "* [2. Нахождение и исправление аномалий и ошибок.](#4-bullet)\n",
    "\n",
    "и т.д\n",
    "\n",
    "Старайся выполнять свой проект в порядке, прописанном в твоем плане. Да, такое оформление займет больше времени, но позволит тебе не путаться в будущем:)\n",
    "_________________\n",
    "\n",
    "Обрати внимание, что пункты в частях у меня в виде ссылок. Это очень удобно, когда нужно переходить по разным частям проекта.\n",
    "Вот тут почитай, как сделать <a href=\"https://sebastianraschka.com/Articles/2014_ipython_internal_links.html\">кликабельные разделы</a>\n",
    "\n",
    "**Почему это важно?** Когда ты будешь в будущем выполнять тестовые задания, просто скопировав присланную тебе задачу и не составив плана, ты можешь смутить будущего работодателя. А грамотно сконфигурированный план покажет тебя как ответсвенного и усидчивого специалиста. И, просто поверь мне, с расписанием легче:)"
   ]
  },
  {
   "cell_type": "markdown",
   "metadata": {},
   "source": [
    "## Шаг 1. Откройте файл с данными и изучите общую информацию"
   ]
  },
  {
   "cell_type": "code",
   "execution_count": 1,
   "metadata": {},
   "outputs": [],
   "source": [
    "import pandas as pd\n",
    "import numpy as np"
   ]
  },
  {
   "cell_type": "code",
   "execution_count": 2,
   "metadata": {},
   "outputs": [],
   "source": [
    "calls = pd.read_csv('/datasets/calls.csv')\n",
    "internet = pd.read_csv('/datasets/internet.csv')\n",
    "messages = pd.read_csv('/datasets/messages.csv')\n",
    "tariffs = pd.read_csv('/datasets/tariffs.csv')\n",
    "users = pd.read_csv('/datasets/users.csv')"
   ]
  },
  {
   "cell_type": "markdown",
   "metadata": {},
   "source": [
    "**Таблица users (информация о пользователях):**\n",
    "* user_id — уникальный идентификатор пользователя\n",
    "* first_name — имя пользователя\n",
    "* last_name — фамилия пользователя\n",
    "* age — возраст пользователя (годы)\n",
    "* reg_date — дата подключения тарифа (день, месяц, год)\n",
    "* churn_date — дата прекращения пользования тарифом (если значение пропущено, то тариф ещё действовал на момент выгрузки данных)\n",
    "* city — город проживания пользователя\n",
    "* tariff — название тарифного плана"
   ]
  },
  {
   "cell_type": "code",
   "execution_count": 3,
   "metadata": {
    "scrolled": true
   },
   "outputs": [
    {
     "data": {
      "text/html": [
       "<div>\n",
       "<style scoped>\n",
       "    .dataframe tbody tr th:only-of-type {\n",
       "        vertical-align: middle;\n",
       "    }\n",
       "\n",
       "    .dataframe tbody tr th {\n",
       "        vertical-align: top;\n",
       "    }\n",
       "\n",
       "    .dataframe thead th {\n",
       "        text-align: right;\n",
       "    }\n",
       "</style>\n",
       "<table border=\"1\" class=\"dataframe\">\n",
       "  <thead>\n",
       "    <tr style=\"text-align: right;\">\n",
       "      <th></th>\n",
       "      <th>user_id</th>\n",
       "      <th>age</th>\n",
       "      <th>churn_date</th>\n",
       "      <th>city</th>\n",
       "      <th>first_name</th>\n",
       "      <th>last_name</th>\n",
       "      <th>reg_date</th>\n",
       "      <th>tariff</th>\n",
       "    </tr>\n",
       "  </thead>\n",
       "  <tbody>\n",
       "    <tr>\n",
       "      <td>0</td>\n",
       "      <td>1000</td>\n",
       "      <td>52</td>\n",
       "      <td>NaN</td>\n",
       "      <td>Краснодар</td>\n",
       "      <td>Рафаил</td>\n",
       "      <td>Верещагин</td>\n",
       "      <td>2018-05-25</td>\n",
       "      <td>ultra</td>\n",
       "    </tr>\n",
       "    <tr>\n",
       "      <td>1</td>\n",
       "      <td>1001</td>\n",
       "      <td>41</td>\n",
       "      <td>NaN</td>\n",
       "      <td>Москва</td>\n",
       "      <td>Иван</td>\n",
       "      <td>Ежов</td>\n",
       "      <td>2018-11-01</td>\n",
       "      <td>smart</td>\n",
       "    </tr>\n",
       "    <tr>\n",
       "      <td>2</td>\n",
       "      <td>1002</td>\n",
       "      <td>59</td>\n",
       "      <td>NaN</td>\n",
       "      <td>Стерлитамак</td>\n",
       "      <td>Евгений</td>\n",
       "      <td>Абрамович</td>\n",
       "      <td>2018-06-17</td>\n",
       "      <td>smart</td>\n",
       "    </tr>\n",
       "    <tr>\n",
       "      <td>3</td>\n",
       "      <td>1003</td>\n",
       "      <td>23</td>\n",
       "      <td>NaN</td>\n",
       "      <td>Москва</td>\n",
       "      <td>Белла</td>\n",
       "      <td>Белякова</td>\n",
       "      <td>2018-08-17</td>\n",
       "      <td>ultra</td>\n",
       "    </tr>\n",
       "    <tr>\n",
       "      <td>4</td>\n",
       "      <td>1004</td>\n",
       "      <td>68</td>\n",
       "      <td>NaN</td>\n",
       "      <td>Новокузнецк</td>\n",
       "      <td>Татьяна</td>\n",
       "      <td>Авдеенко</td>\n",
       "      <td>2018-05-14</td>\n",
       "      <td>ultra</td>\n",
       "    </tr>\n",
       "    <tr>\n",
       "      <td>5</td>\n",
       "      <td>1005</td>\n",
       "      <td>67</td>\n",
       "      <td>NaN</td>\n",
       "      <td>Набережные Челны</td>\n",
       "      <td>Афанасий</td>\n",
       "      <td>Горлов</td>\n",
       "      <td>2018-01-25</td>\n",
       "      <td>smart</td>\n",
       "    </tr>\n",
       "    <tr>\n",
       "      <td>6</td>\n",
       "      <td>1006</td>\n",
       "      <td>21</td>\n",
       "      <td>NaN</td>\n",
       "      <td>Ульяновск</td>\n",
       "      <td>Леонид</td>\n",
       "      <td>Ермолаев</td>\n",
       "      <td>2018-02-26</td>\n",
       "      <td>smart</td>\n",
       "    </tr>\n",
       "    <tr>\n",
       "      <td>7</td>\n",
       "      <td>1007</td>\n",
       "      <td>65</td>\n",
       "      <td>NaN</td>\n",
       "      <td>Москва</td>\n",
       "      <td>Юна</td>\n",
       "      <td>Березина</td>\n",
       "      <td>2018-04-19</td>\n",
       "      <td>smart</td>\n",
       "    </tr>\n",
       "    <tr>\n",
       "      <td>8</td>\n",
       "      <td>1008</td>\n",
       "      <td>63</td>\n",
       "      <td>NaN</td>\n",
       "      <td>Челябинск</td>\n",
       "      <td>Рустэм</td>\n",
       "      <td>Пономарёв</td>\n",
       "      <td>2018-12-19</td>\n",
       "      <td>smart</td>\n",
       "    </tr>\n",
       "    <tr>\n",
       "      <td>9</td>\n",
       "      <td>1009</td>\n",
       "      <td>24</td>\n",
       "      <td>NaN</td>\n",
       "      <td>Пермь</td>\n",
       "      <td>Василиса</td>\n",
       "      <td>Блинова</td>\n",
       "      <td>2018-03-22</td>\n",
       "      <td>smart</td>\n",
       "    </tr>\n",
       "  </tbody>\n",
       "</table>\n",
       "</div>"
      ],
      "text/plain": [
       "   user_id  age churn_date              city first_name  last_name  \\\n",
       "0     1000   52        NaN         Краснодар     Рафаил  Верещагин   \n",
       "1     1001   41        NaN            Москва       Иван       Ежов   \n",
       "2     1002   59        NaN       Стерлитамак    Евгений  Абрамович   \n",
       "3     1003   23        NaN            Москва      Белла   Белякова   \n",
       "4     1004   68        NaN       Новокузнецк    Татьяна   Авдеенко   \n",
       "5     1005   67        NaN  Набережные Челны   Афанасий     Горлов   \n",
       "6     1006   21        NaN         Ульяновск     Леонид   Ермолаев   \n",
       "7     1007   65        NaN            Москва        Юна   Березина   \n",
       "8     1008   63        NaN         Челябинск     Рустэм  Пономарёв   \n",
       "9     1009   24        NaN             Пермь   Василиса    Блинова   \n",
       "\n",
       "     reg_date tariff  \n",
       "0  2018-05-25  ultra  \n",
       "1  2018-11-01  smart  \n",
       "2  2018-06-17  smart  \n",
       "3  2018-08-17  ultra  \n",
       "4  2018-05-14  ultra  \n",
       "5  2018-01-25  smart  \n",
       "6  2018-02-26  smart  \n",
       "7  2018-04-19  smart  \n",
       "8  2018-12-19  smart  \n",
       "9  2018-03-22  smart  "
      ]
     },
     "execution_count": 3,
     "metadata": {},
     "output_type": "execute_result"
    }
   ],
   "source": [
    "users.head(10)"
   ]
  },
  {
   "cell_type": "code",
   "execution_count": 4,
   "metadata": {
    "scrolled": true
   },
   "outputs": [
    {
     "name": "stdout",
     "output_type": "stream",
     "text": [
      "<class 'pandas.core.frame.DataFrame'>\n",
      "RangeIndex: 500 entries, 0 to 499\n",
      "Data columns (total 8 columns):\n",
      "user_id       500 non-null int64\n",
      "age           500 non-null int64\n",
      "churn_date    38 non-null object\n",
      "city          500 non-null object\n",
      "first_name    500 non-null object\n",
      "last_name     500 non-null object\n",
      "reg_date      500 non-null object\n",
      "tariff        500 non-null object\n",
      "dtypes: int64(2), object(6)\n",
      "memory usage: 31.4+ KB\n"
     ]
    }
   ],
   "source": [
    "users.info()"
   ]
  },
  {
   "cell_type": "markdown",
   "metadata": {},
   "source": [
    "**Таблица calls (информация о звонках):**\n",
    "* id — уникальный номер звонка\n",
    "* call_date — дата звонка\n",
    "* duration — длительность звонка в минутах\n",
    "* user_id — идентификатор пользователя, сделавшего звонок"
   ]
  },
  {
   "cell_type": "code",
   "execution_count": 5,
   "metadata": {},
   "outputs": [
    {
     "data": {
      "text/html": [
       "<div>\n",
       "<style scoped>\n",
       "    .dataframe tbody tr th:only-of-type {\n",
       "        vertical-align: middle;\n",
       "    }\n",
       "\n",
       "    .dataframe tbody tr th {\n",
       "        vertical-align: top;\n",
       "    }\n",
       "\n",
       "    .dataframe thead th {\n",
       "        text-align: right;\n",
       "    }\n",
       "</style>\n",
       "<table border=\"1\" class=\"dataframe\">\n",
       "  <thead>\n",
       "    <tr style=\"text-align: right;\">\n",
       "      <th></th>\n",
       "      <th>id</th>\n",
       "      <th>call_date</th>\n",
       "      <th>duration</th>\n",
       "      <th>user_id</th>\n",
       "    </tr>\n",
       "  </thead>\n",
       "  <tbody>\n",
       "    <tr>\n",
       "      <td>0</td>\n",
       "      <td>1000_0</td>\n",
       "      <td>2018-07-25</td>\n",
       "      <td>0.00</td>\n",
       "      <td>1000</td>\n",
       "    </tr>\n",
       "    <tr>\n",
       "      <td>1</td>\n",
       "      <td>1000_1</td>\n",
       "      <td>2018-08-17</td>\n",
       "      <td>0.00</td>\n",
       "      <td>1000</td>\n",
       "    </tr>\n",
       "    <tr>\n",
       "      <td>2</td>\n",
       "      <td>1000_2</td>\n",
       "      <td>2018-06-11</td>\n",
       "      <td>2.85</td>\n",
       "      <td>1000</td>\n",
       "    </tr>\n",
       "    <tr>\n",
       "      <td>3</td>\n",
       "      <td>1000_3</td>\n",
       "      <td>2018-09-21</td>\n",
       "      <td>13.80</td>\n",
       "      <td>1000</td>\n",
       "    </tr>\n",
       "    <tr>\n",
       "      <td>4</td>\n",
       "      <td>1000_4</td>\n",
       "      <td>2018-12-15</td>\n",
       "      <td>5.18</td>\n",
       "      <td>1000</td>\n",
       "    </tr>\n",
       "    <tr>\n",
       "      <td>5</td>\n",
       "      <td>1000_5</td>\n",
       "      <td>2018-11-02</td>\n",
       "      <td>0.00</td>\n",
       "      <td>1000</td>\n",
       "    </tr>\n",
       "    <tr>\n",
       "      <td>6</td>\n",
       "      <td>1000_6</td>\n",
       "      <td>2018-10-18</td>\n",
       "      <td>0.00</td>\n",
       "      <td>1000</td>\n",
       "    </tr>\n",
       "    <tr>\n",
       "      <td>7</td>\n",
       "      <td>1000_7</td>\n",
       "      <td>2018-08-22</td>\n",
       "      <td>18.31</td>\n",
       "      <td>1000</td>\n",
       "    </tr>\n",
       "    <tr>\n",
       "      <td>8</td>\n",
       "      <td>1000_8</td>\n",
       "      <td>2018-09-15</td>\n",
       "      <td>18.44</td>\n",
       "      <td>1000</td>\n",
       "    </tr>\n",
       "    <tr>\n",
       "      <td>9</td>\n",
       "      <td>1000_9</td>\n",
       "      <td>2018-08-15</td>\n",
       "      <td>0.00</td>\n",
       "      <td>1000</td>\n",
       "    </tr>\n",
       "  </tbody>\n",
       "</table>\n",
       "</div>"
      ],
      "text/plain": [
       "       id   call_date  duration  user_id\n",
       "0  1000_0  2018-07-25      0.00     1000\n",
       "1  1000_1  2018-08-17      0.00     1000\n",
       "2  1000_2  2018-06-11      2.85     1000\n",
       "3  1000_3  2018-09-21     13.80     1000\n",
       "4  1000_4  2018-12-15      5.18     1000\n",
       "5  1000_5  2018-11-02      0.00     1000\n",
       "6  1000_6  2018-10-18      0.00     1000\n",
       "7  1000_7  2018-08-22     18.31     1000\n",
       "8  1000_8  2018-09-15     18.44     1000\n",
       "9  1000_9  2018-08-15      0.00     1000"
      ]
     },
     "execution_count": 5,
     "metadata": {},
     "output_type": "execute_result"
    }
   ],
   "source": [
    "calls.head(10)"
   ]
  },
  {
   "cell_type": "code",
   "execution_count": 6,
   "metadata": {},
   "outputs": [
    {
     "name": "stdout",
     "output_type": "stream",
     "text": [
      "<class 'pandas.core.frame.DataFrame'>\n",
      "RangeIndex: 202607 entries, 0 to 202606\n",
      "Data columns (total 4 columns):\n",
      "id           202607 non-null object\n",
      "call_date    202607 non-null object\n",
      "duration     202607 non-null float64\n",
      "user_id      202607 non-null int64\n",
      "dtypes: float64(1), int64(1), object(2)\n",
      "memory usage: 6.2+ MB\n"
     ]
    }
   ],
   "source": [
    "calls.info()"
   ]
  },
  {
   "cell_type": "markdown",
   "metadata": {},
   "source": [
    "**Таблица messages (информация о сообщениях):**\n",
    "* id — уникальный номер сообщения\n",
    "* message_date — дата сообщения\n",
    "* user_id — идентификатор пользователя, отправившего сообщение"
   ]
  },
  {
   "cell_type": "code",
   "execution_count": 7,
   "metadata": {},
   "outputs": [
    {
     "data": {
      "text/html": [
       "<div>\n",
       "<style scoped>\n",
       "    .dataframe tbody tr th:only-of-type {\n",
       "        vertical-align: middle;\n",
       "    }\n",
       "\n",
       "    .dataframe tbody tr th {\n",
       "        vertical-align: top;\n",
       "    }\n",
       "\n",
       "    .dataframe thead th {\n",
       "        text-align: right;\n",
       "    }\n",
       "</style>\n",
       "<table border=\"1\" class=\"dataframe\">\n",
       "  <thead>\n",
       "    <tr style=\"text-align: right;\">\n",
       "      <th></th>\n",
       "      <th>id</th>\n",
       "      <th>message_date</th>\n",
       "      <th>user_id</th>\n",
       "    </tr>\n",
       "  </thead>\n",
       "  <tbody>\n",
       "    <tr>\n",
       "      <td>0</td>\n",
       "      <td>1000_0</td>\n",
       "      <td>2018-06-27</td>\n",
       "      <td>1000</td>\n",
       "    </tr>\n",
       "    <tr>\n",
       "      <td>1</td>\n",
       "      <td>1000_1</td>\n",
       "      <td>2018-10-08</td>\n",
       "      <td>1000</td>\n",
       "    </tr>\n",
       "    <tr>\n",
       "      <td>2</td>\n",
       "      <td>1000_2</td>\n",
       "      <td>2018-08-04</td>\n",
       "      <td>1000</td>\n",
       "    </tr>\n",
       "    <tr>\n",
       "      <td>3</td>\n",
       "      <td>1000_3</td>\n",
       "      <td>2018-06-16</td>\n",
       "      <td>1000</td>\n",
       "    </tr>\n",
       "    <tr>\n",
       "      <td>4</td>\n",
       "      <td>1000_4</td>\n",
       "      <td>2018-12-05</td>\n",
       "      <td>1000</td>\n",
       "    </tr>\n",
       "    <tr>\n",
       "      <td>5</td>\n",
       "      <td>1000_5</td>\n",
       "      <td>2018-06-20</td>\n",
       "      <td>1000</td>\n",
       "    </tr>\n",
       "    <tr>\n",
       "      <td>6</td>\n",
       "      <td>1000_6</td>\n",
       "      <td>2018-11-19</td>\n",
       "      <td>1000</td>\n",
       "    </tr>\n",
       "    <tr>\n",
       "      <td>7</td>\n",
       "      <td>1000_7</td>\n",
       "      <td>2018-10-29</td>\n",
       "      <td>1000</td>\n",
       "    </tr>\n",
       "    <tr>\n",
       "      <td>8</td>\n",
       "      <td>1000_8</td>\n",
       "      <td>2018-06-25</td>\n",
       "      <td>1000</td>\n",
       "    </tr>\n",
       "    <tr>\n",
       "      <td>9</td>\n",
       "      <td>1000_9</td>\n",
       "      <td>2018-12-18</td>\n",
       "      <td>1000</td>\n",
       "    </tr>\n",
       "  </tbody>\n",
       "</table>\n",
       "</div>"
      ],
      "text/plain": [
       "       id message_date  user_id\n",
       "0  1000_0   2018-06-27     1000\n",
       "1  1000_1   2018-10-08     1000\n",
       "2  1000_2   2018-08-04     1000\n",
       "3  1000_3   2018-06-16     1000\n",
       "4  1000_4   2018-12-05     1000\n",
       "5  1000_5   2018-06-20     1000\n",
       "6  1000_6   2018-11-19     1000\n",
       "7  1000_7   2018-10-29     1000\n",
       "8  1000_8   2018-06-25     1000\n",
       "9  1000_9   2018-12-18     1000"
      ]
     },
     "execution_count": 7,
     "metadata": {},
     "output_type": "execute_result"
    }
   ],
   "source": [
    "messages.head(10)"
   ]
  },
  {
   "cell_type": "code",
   "execution_count": 8,
   "metadata": {},
   "outputs": [
    {
     "name": "stdout",
     "output_type": "stream",
     "text": [
      "<class 'pandas.core.frame.DataFrame'>\n",
      "RangeIndex: 123036 entries, 0 to 123035\n",
      "Data columns (total 3 columns):\n",
      "id              123036 non-null object\n",
      "message_date    123036 non-null object\n",
      "user_id         123036 non-null int64\n",
      "dtypes: int64(1), object(2)\n",
      "memory usage: 2.8+ MB\n"
     ]
    }
   ],
   "source": [
    "messages.info()"
   ]
  },
  {
   "cell_type": "markdown",
   "metadata": {},
   "source": [
    "**Таблица internet (информация об интернет-сессиях):**\n",
    "* id — уникальный номер сессии\n",
    "* mb_used — объём потраченного за сессию интернет-трафика (в мегабайтах)\n",
    "* session_date — дата интернет-сессии\n",
    "* user_id — идентификатор пользователя"
   ]
  },
  {
   "cell_type": "code",
   "execution_count": 9,
   "metadata": {},
   "outputs": [
    {
     "data": {
      "text/html": [
       "<div>\n",
       "<style scoped>\n",
       "    .dataframe tbody tr th:only-of-type {\n",
       "        vertical-align: middle;\n",
       "    }\n",
       "\n",
       "    .dataframe tbody tr th {\n",
       "        vertical-align: top;\n",
       "    }\n",
       "\n",
       "    .dataframe thead th {\n",
       "        text-align: right;\n",
       "    }\n",
       "</style>\n",
       "<table border=\"1\" class=\"dataframe\">\n",
       "  <thead>\n",
       "    <tr style=\"text-align: right;\">\n",
       "      <th></th>\n",
       "      <th>Unnamed: 0</th>\n",
       "      <th>id</th>\n",
       "      <th>mb_used</th>\n",
       "      <th>session_date</th>\n",
       "      <th>user_id</th>\n",
       "    </tr>\n",
       "  </thead>\n",
       "  <tbody>\n",
       "    <tr>\n",
       "      <td>0</td>\n",
       "      <td>0</td>\n",
       "      <td>1000_0</td>\n",
       "      <td>112.95</td>\n",
       "      <td>2018-11-25</td>\n",
       "      <td>1000</td>\n",
       "    </tr>\n",
       "    <tr>\n",
       "      <td>1</td>\n",
       "      <td>1</td>\n",
       "      <td>1000_1</td>\n",
       "      <td>1052.81</td>\n",
       "      <td>2018-09-07</td>\n",
       "      <td>1000</td>\n",
       "    </tr>\n",
       "    <tr>\n",
       "      <td>2</td>\n",
       "      <td>2</td>\n",
       "      <td>1000_2</td>\n",
       "      <td>1197.26</td>\n",
       "      <td>2018-06-25</td>\n",
       "      <td>1000</td>\n",
       "    </tr>\n",
       "    <tr>\n",
       "      <td>3</td>\n",
       "      <td>3</td>\n",
       "      <td>1000_3</td>\n",
       "      <td>550.27</td>\n",
       "      <td>2018-08-22</td>\n",
       "      <td>1000</td>\n",
       "    </tr>\n",
       "    <tr>\n",
       "      <td>4</td>\n",
       "      <td>4</td>\n",
       "      <td>1000_4</td>\n",
       "      <td>302.56</td>\n",
       "      <td>2018-09-24</td>\n",
       "      <td>1000</td>\n",
       "    </tr>\n",
       "    <tr>\n",
       "      <td>5</td>\n",
       "      <td>5</td>\n",
       "      <td>1000_5</td>\n",
       "      <td>399.97</td>\n",
       "      <td>2018-10-02</td>\n",
       "      <td>1000</td>\n",
       "    </tr>\n",
       "    <tr>\n",
       "      <td>6</td>\n",
       "      <td>6</td>\n",
       "      <td>1000_6</td>\n",
       "      <td>540.08</td>\n",
       "      <td>2018-09-07</td>\n",
       "      <td>1000</td>\n",
       "    </tr>\n",
       "    <tr>\n",
       "      <td>7</td>\n",
       "      <td>7</td>\n",
       "      <td>1000_7</td>\n",
       "      <td>415.70</td>\n",
       "      <td>2018-07-11</td>\n",
       "      <td>1000</td>\n",
       "    </tr>\n",
       "    <tr>\n",
       "      <td>8</td>\n",
       "      <td>8</td>\n",
       "      <td>1000_8</td>\n",
       "      <td>505.40</td>\n",
       "      <td>2018-10-08</td>\n",
       "      <td>1000</td>\n",
       "    </tr>\n",
       "    <tr>\n",
       "      <td>9</td>\n",
       "      <td>9</td>\n",
       "      <td>1000_9</td>\n",
       "      <td>345.54</td>\n",
       "      <td>2018-09-03</td>\n",
       "      <td>1000</td>\n",
       "    </tr>\n",
       "  </tbody>\n",
       "</table>\n",
       "</div>"
      ],
      "text/plain": [
       "   Unnamed: 0      id  mb_used session_date  user_id\n",
       "0           0  1000_0   112.95   2018-11-25     1000\n",
       "1           1  1000_1  1052.81   2018-09-07     1000\n",
       "2           2  1000_2  1197.26   2018-06-25     1000\n",
       "3           3  1000_3   550.27   2018-08-22     1000\n",
       "4           4  1000_4   302.56   2018-09-24     1000\n",
       "5           5  1000_5   399.97   2018-10-02     1000\n",
       "6           6  1000_6   540.08   2018-09-07     1000\n",
       "7           7  1000_7   415.70   2018-07-11     1000\n",
       "8           8  1000_8   505.40   2018-10-08     1000\n",
       "9           9  1000_9   345.54   2018-09-03     1000"
      ]
     },
     "execution_count": 9,
     "metadata": {},
     "output_type": "execute_result"
    }
   ],
   "source": [
    "internet.head(10)"
   ]
  },
  {
   "cell_type": "code",
   "execution_count": 10,
   "metadata": {},
   "outputs": [
    {
     "name": "stdout",
     "output_type": "stream",
     "text": [
      "<class 'pandas.core.frame.DataFrame'>\n",
      "RangeIndex: 149396 entries, 0 to 149395\n",
      "Data columns (total 5 columns):\n",
      "Unnamed: 0      149396 non-null int64\n",
      "id              149396 non-null object\n",
      "mb_used         149396 non-null float64\n",
      "session_date    149396 non-null object\n",
      "user_id         149396 non-null int64\n",
      "dtypes: float64(1), int64(2), object(2)\n",
      "memory usage: 5.7+ MB\n"
     ]
    }
   ],
   "source": [
    "internet.info()"
   ]
  },
  {
   "cell_type": "markdown",
   "metadata": {},
   "source": [
    "**Таблица tariffs (информация о тарифах):**\n",
    "* tariff_name — название тарифа\n",
    "* rub_monthly_fee — ежемесячная абонентская плата в рублях\n",
    "* minutes_included — количество минут разговора в месяц, включённых в абонентскую плату\n",
    "* messages_included — количество сообщений в месяц, включённых в абонентскую плату\n",
    "* mb_per_month_included — объём интернет-трафика, включённого в абонентскую плату (в мегабайтах)\n",
    "* rub_per_minute — стоимость минуты разговора сверх тарифного пакета (например, если в тарифе 100 минут разговора в месяц, то со 101 минуты будет взиматься плата)\n",
    "* rub_per_message — стоимость отправки сообщения сверх тарифного пакета\n",
    "* rub_per_gb — стоимость дополнительного гигабайта интернет-трафика сверх тарифного пакета (1 гигабайт = 1024 мегабайта)"
   ]
  },
  {
   "cell_type": "code",
   "execution_count": 11,
   "metadata": {},
   "outputs": [
    {
     "data": {
      "text/html": [
       "<div>\n",
       "<style scoped>\n",
       "    .dataframe tbody tr th:only-of-type {\n",
       "        vertical-align: middle;\n",
       "    }\n",
       "\n",
       "    .dataframe tbody tr th {\n",
       "        vertical-align: top;\n",
       "    }\n",
       "\n",
       "    .dataframe thead th {\n",
       "        text-align: right;\n",
       "    }\n",
       "</style>\n",
       "<table border=\"1\" class=\"dataframe\">\n",
       "  <thead>\n",
       "    <tr style=\"text-align: right;\">\n",
       "      <th></th>\n",
       "      <th>messages_included</th>\n",
       "      <th>mb_per_month_included</th>\n",
       "      <th>minutes_included</th>\n",
       "      <th>rub_monthly_fee</th>\n",
       "      <th>rub_per_gb</th>\n",
       "      <th>rub_per_message</th>\n",
       "      <th>rub_per_minute</th>\n",
       "      <th>tariff_name</th>\n",
       "    </tr>\n",
       "  </thead>\n",
       "  <tbody>\n",
       "    <tr>\n",
       "      <td>0</td>\n",
       "      <td>50</td>\n",
       "      <td>15360</td>\n",
       "      <td>500</td>\n",
       "      <td>550</td>\n",
       "      <td>200</td>\n",
       "      <td>3</td>\n",
       "      <td>3</td>\n",
       "      <td>smart</td>\n",
       "    </tr>\n",
       "    <tr>\n",
       "      <td>1</td>\n",
       "      <td>1000</td>\n",
       "      <td>30720</td>\n",
       "      <td>3000</td>\n",
       "      <td>1950</td>\n",
       "      <td>150</td>\n",
       "      <td>1</td>\n",
       "      <td>1</td>\n",
       "      <td>ultra</td>\n",
       "    </tr>\n",
       "  </tbody>\n",
       "</table>\n",
       "</div>"
      ],
      "text/plain": [
       "   messages_included  mb_per_month_included  minutes_included  \\\n",
       "0                 50                  15360               500   \n",
       "1               1000                  30720              3000   \n",
       "\n",
       "   rub_monthly_fee  rub_per_gb  rub_per_message  rub_per_minute tariff_name  \n",
       "0              550         200                3               3       smart  \n",
       "1             1950         150                1               1       ultra  "
      ]
     },
     "execution_count": 11,
     "metadata": {},
     "output_type": "execute_result"
    }
   ],
   "source": [
    "tariffs.head()"
   ]
  },
  {
   "cell_type": "code",
   "execution_count": 12,
   "metadata": {},
   "outputs": [
    {
     "name": "stdout",
     "output_type": "stream",
     "text": [
      "<class 'pandas.core.frame.DataFrame'>\n",
      "RangeIndex: 2 entries, 0 to 1\n",
      "Data columns (total 8 columns):\n",
      "messages_included        2 non-null int64\n",
      "mb_per_month_included    2 non-null int64\n",
      "minutes_included         2 non-null int64\n",
      "rub_monthly_fee          2 non-null int64\n",
      "rub_per_gb               2 non-null int64\n",
      "rub_per_message          2 non-null int64\n",
      "rub_per_minute           2 non-null int64\n",
      "tariff_name              2 non-null object\n",
      "dtypes: int64(7), object(1)\n",
      "memory usage: 256.0+ bytes\n"
     ]
    }
   ],
   "source": [
    "tariffs.info()"
   ]
  },
  {
   "cell_type": "markdown",
   "metadata": {},
   "source": [
    "### Выводы\n",
    "1. Во всех представленных таблицах все данные заполнены (за исключением столбца churn_date в таблице users)\n",
    "2. В таблице internet есть лишняя колонка Unnamed: 0 которая дублирует индекс. Ее нужно удалить\n",
    "3. В таблице users колонка с тарифами называется tariff, а в таблице tariffs - tariff_name. Лучше привести одноименные параметри к единому имени"
   ]
  },
  {
   "cell_type": "markdown",
   "metadata": {},
   "source": [
    "<div class=\"alert alert-block alert-success\">\n",
    "<h2>Комментарий от ревьювера (все здОрово)</h2> \n",
    "\n",
    "Отлично! Замечательные выкладки. Молодец что используешь только метод info. значит понимаешь, как он работает. Другие методы, shape, isnull и т.д. -  это уже избыточно)"
   ]
  },
  {
   "cell_type": "markdown",
   "metadata": {},
   "source": [
    "## Шаг 2. Подготовьте данные\n",
    "### Приведение данных к нужным типам\n",
    "#### Таблица users"
   ]
  },
  {
   "cell_type": "code",
   "execution_count": 13,
   "metadata": {},
   "outputs": [],
   "source": [
    "users['reg_date'] = pd.to_datetime(users['reg_date'], format='%Y-%m-%d')\n",
    "users['churn_date'] = pd.to_datetime(users['churn_date'], format='%Y-%m-%d')"
   ]
  },
  {
   "cell_type": "code",
   "execution_count": 14,
   "metadata": {},
   "outputs": [],
   "source": [
    "# изменяем название столбца tariff на tariff_name\n",
    "users.columns = ['user_id', 'age', 'churn_date', 'city', 'first_name', 'last_name', 'reg_date', 'tariff_name']"
   ]
  },
  {
   "cell_type": "markdown",
   "metadata": {},
   "source": [
    "<div class=\"alert alert-block alert-warning\">\n",
    "<h2>Комментарий от ревьювера (принимаем к размышлению)</h2> \n",
    "\n",
    "Есть вот такой классный метод - https://pandas.pydata.org/pandas-docs/stable/reference/api/pandas.DataFrame.rename.html\n",
    "</div>"
   ]
  },
  {
   "cell_type": "code",
   "execution_count": 15,
   "metadata": {},
   "outputs": [
    {
     "data": {
      "text/plain": [
       "{'user_id': 'int64',\n",
       " 'age': 'int64',\n",
       " 'churn_date': 'datetime64[ns]',\n",
       " 'city': 'object',\n",
       " 'first_name': 'object',\n",
       " 'last_name': 'object',\n",
       " 'reg_date': 'datetime64[ns]',\n",
       " 'tariff_name': 'object'}"
      ]
     },
     "execution_count": 15,
     "metadata": {},
     "output_type": "execute_result"
    }
   ],
   "source": [
    "# выведем названия колонок и их текущие типы в виде словаря\n",
    "users.dtypes.apply(lambda x: x.name).to_dict()"
   ]
  },
  {
   "cell_type": "markdown",
   "metadata": {},
   "source": [
    "Столбцы churn_date и reg_date уже приведены к типу datetime. Так как возраст всегда является положительным числом и его значение никогда не превышает 255, то для столбца age используем тип uint8. Так как чсло пользователей в выборке мало то для столбца user_id используем тип int16. Столбец tariff_name по своей сути является категориальным. Произведем замену типов в таблице"
   ]
  },
  {
   "cell_type": "code",
   "execution_count": 16,
   "metadata": {},
   "outputs": [
    {
     "name": "stdout",
     "output_type": "stream",
     "text": [
      "<class 'pandas.core.frame.DataFrame'>\n",
      "RangeIndex: 500 entries, 0 to 499\n",
      "Data columns (total 8 columns):\n",
      "user_id        500 non-null int16\n",
      "age            500 non-null uint8\n",
      "churn_date     38 non-null datetime64[ns]\n",
      "city           500 non-null category\n",
      "first_name     500 non-null object\n",
      "last_name      500 non-null object\n",
      "reg_date       500 non-null datetime64[ns]\n",
      "tariff_name    500 non-null category\n",
      "dtypes: category(2), datetime64[ns](2), int16(1), object(2), uint8(1)\n",
      "memory usage: 21.4+ KB\n"
     ]
    }
   ],
   "source": [
    "# заменим типы в таблице по словарю users_type_dict\n",
    "users_type_dict = {\n",
    " 'user_id': 'int16',\n",
    " 'age': 'uint8',\n",
    " 'churn_date': 'datetime64[ns]',\n",
    " 'city': 'category',\n",
    " 'first_name': 'object',\n",
    " 'last_name': 'object',\n",
    " 'reg_date': 'datetime64[ns]',\n",
    " 'tariff_name': 'category'\n",
    "}\n",
    "\n",
    "users = users.astype(users_type_dict)\n",
    "\n",
    "# убедимся что замена прошла так как задумано\n",
    "users.info()"
   ]
  },
  {
   "cell_type": "markdown",
   "metadata": {},
   "source": [
    "Замена типов помогла сократить память занимаемую таблицей примерно в 1,5 раза"
   ]
  },
  {
   "cell_type": "markdown",
   "metadata": {},
   "source": [
    "<div class=\"alert alert-block alert-success\">\n",
    "<h2>Комментарий от ревьювера (все здОрово)</h2> \n",
    "\n",
    "Шикарный подход - молодец)"
   ]
  },
  {
   "cell_type": "markdown",
   "metadata": {},
   "source": [
    "#### Таблица calls"
   ]
  },
  {
   "cell_type": "code",
   "execution_count": 17,
   "metadata": {},
   "outputs": [],
   "source": [
    "calls['call_date'] = pd.to_datetime(calls['call_date'], format='%Y-%m-%d')"
   ]
  },
  {
   "cell_type": "code",
   "execution_count": 18,
   "metadata": {},
   "outputs": [
    {
     "data": {
      "text/plain": [
       "{'id': 'object',\n",
       " 'call_date': 'datetime64[ns]',\n",
       " 'duration': 'float64',\n",
       " 'user_id': 'int64'}"
      ]
     },
     "execution_count": 18,
     "metadata": {},
     "output_type": "execute_result"
    }
   ],
   "source": [
    "calls.dtypes.apply(lambda x: x.name).to_dict()"
   ]
  },
  {
   "cell_type": "code",
   "execution_count": 19,
   "metadata": {},
   "outputs": [
    {
     "name": "stdout",
     "output_type": "stream",
     "text": [
      "<class 'pandas.core.frame.DataFrame'>\n",
      "RangeIndex: 202607 entries, 0 to 202606\n",
      "Data columns (total 4 columns):\n",
      "id           202607 non-null object\n",
      "call_date    202607 non-null datetime64[ns]\n",
      "duration     202607 non-null float32\n",
      "user_id      202607 non-null int16\n",
      "dtypes: datetime64[ns](1), float32(1), int16(1), object(1)\n",
      "memory usage: 4.3+ MB\n"
     ]
    }
   ],
   "source": [
    "calls_type_dict = {'id': 'object',\n",
    " 'call_date': 'datetime64[ns]',\n",
    " 'duration': 'float32',\n",
    " 'user_id': 'int16'}\n",
    "\n",
    "calls = calls.astype(calls_type_dict)\n",
    "calls.info()"
   ]
  },
  {
   "cell_type": "markdown",
   "metadata": {},
   "source": [
    "Замена типов помогла сократить память занимаемую таблицей в 1,44 раза"
   ]
  },
  {
   "cell_type": "markdown",
   "metadata": {},
   "source": [
    "#### Таблица messages"
   ]
  },
  {
   "cell_type": "code",
   "execution_count": 20,
   "metadata": {},
   "outputs": [],
   "source": [
    "messages['message_date'] = pd.to_datetime(messages['message_date'], format='%Y-%m-%d')"
   ]
  },
  {
   "cell_type": "code",
   "execution_count": 21,
   "metadata": {},
   "outputs": [
    {
     "data": {
      "text/plain": [
       "{'id': 'object', 'message_date': 'datetime64[ns]', 'user_id': 'int64'}"
      ]
     },
     "execution_count": 21,
     "metadata": {},
     "output_type": "execute_result"
    }
   ],
   "source": [
    "messages.dtypes.apply(lambda x: x.name).to_dict()"
   ]
  },
  {
   "cell_type": "code",
   "execution_count": 22,
   "metadata": {},
   "outputs": [
    {
     "name": "stdout",
     "output_type": "stream",
     "text": [
      "<class 'pandas.core.frame.DataFrame'>\n",
      "RangeIndex: 123036 entries, 0 to 123035\n",
      "Data columns (total 3 columns):\n",
      "id              123036 non-null object\n",
      "message_date    123036 non-null datetime64[ns]\n",
      "user_id         123036 non-null int16\n",
      "dtypes: datetime64[ns](1), int16(1), object(1)\n",
      "memory usage: 2.1+ MB\n"
     ]
    }
   ],
   "source": [
    "messages_type_dict = {'id': 'object', 'message_date': 'datetime64[ns]', 'user_id': 'int16'}\n",
    "\n",
    "messages = messages.astype(messages_type_dict)\n",
    "messages.info()"
   ]
  },
  {
   "cell_type": "markdown",
   "metadata": {},
   "source": [
    "Замена типов помогла сократить память занимаемую таблицей в 1,33 раза"
   ]
  },
  {
   "cell_type": "markdown",
   "metadata": {},
   "source": [
    "#### Таблица internet"
   ]
  },
  {
   "cell_type": "code",
   "execution_count": 23,
   "metadata": {},
   "outputs": [],
   "source": [
    "# удалим лишний столбец Unnamed: 0 из таблицы\n",
    "internet = internet.drop('Unnamed: 0', axis=1)\n",
    "internet['session_date'] = pd.to_datetime(internet['session_date'], format='%Y-%m-%d')"
   ]
  },
  {
   "cell_type": "code",
   "execution_count": 24,
   "metadata": {},
   "outputs": [
    {
     "data": {
      "text/plain": [
       "{'id': 'object',\n",
       " 'mb_used': 'float64',\n",
       " 'session_date': 'datetime64[ns]',\n",
       " 'user_id': 'int64'}"
      ]
     },
     "execution_count": 24,
     "metadata": {},
     "output_type": "execute_result"
    }
   ],
   "source": [
    "internet.dtypes.apply(lambda x: x.name).to_dict()"
   ]
  },
  {
   "cell_type": "code",
   "execution_count": 25,
   "metadata": {},
   "outputs": [
    {
     "name": "stdout",
     "output_type": "stream",
     "text": [
      "<class 'pandas.core.frame.DataFrame'>\n",
      "RangeIndex: 149396 entries, 0 to 149395\n",
      "Data columns (total 4 columns):\n",
      "id              149396 non-null object\n",
      "mb_used         149396 non-null float32\n",
      "session_date    149396 non-null datetime64[ns]\n",
      "user_id         149396 non-null int16\n",
      "dtypes: datetime64[ns](1), float32(1), int16(1), object(1)\n",
      "memory usage: 3.1+ MB\n"
     ]
    }
   ],
   "source": [
    "internet_type_dict = {'id': 'object',\n",
    " 'mb_used': 'float32',\n",
    " 'session_date': 'datetime64[ns]',\n",
    " 'user_id': 'int16'}\n",
    "\n",
    "internet = internet.astype(internet_type_dict)\n",
    "internet.info()"
   ]
  },
  {
   "cell_type": "markdown",
   "metadata": {},
   "source": [
    "Удаление столбца дублирубщего индекс столбца и замена типов помогла сократить память занимаемую таблицей в 1,84 раза"
   ]
  },
  {
   "cell_type": "markdown",
   "metadata": {},
   "source": [
    "#### Таблица tariffs"
   ]
  },
  {
   "cell_type": "code",
   "execution_count": 26,
   "metadata": {},
   "outputs": [
    {
     "data": {
      "text/plain": [
       "{'messages_included': 'int64',\n",
       " 'mb_per_month_included': 'int64',\n",
       " 'minutes_included': 'int64',\n",
       " 'rub_monthly_fee': 'int64',\n",
       " 'rub_per_gb': 'int64',\n",
       " 'rub_per_message': 'int64',\n",
       " 'rub_per_minute': 'int64',\n",
       " 'tariff_name': 'object'}"
      ]
     },
     "execution_count": 26,
     "metadata": {},
     "output_type": "execute_result"
    }
   ],
   "source": [
    "tariffs.dtypes.apply(lambda x: x.name).to_dict()"
   ]
  },
  {
   "cell_type": "code",
   "execution_count": 27,
   "metadata": {},
   "outputs": [
    {
     "name": "stdout",
     "output_type": "stream",
     "text": [
      "<class 'pandas.core.frame.DataFrame'>\n",
      "RangeIndex: 2 entries, 0 to 1\n",
      "Data columns (total 8 columns):\n",
      "messages_included        2 non-null uint16\n",
      "mb_per_month_included    2 non-null int32\n",
      "minutes_included         2 non-null uint16\n",
      "rub_monthly_fee          2 non-null uint16\n",
      "rub_per_gb               2 non-null uint16\n",
      "rub_per_message          2 non-null uint16\n",
      "rub_per_minute           2 non-null uint16\n",
      "tariff_name              2 non-null category\n",
      "dtypes: category(1), int32(1), uint16(6)\n",
      "memory usage: 258.0 bytes\n"
     ]
    }
   ],
   "source": [
    "tariffs_type_dict = {'messages_included': 'uint16',\n",
    " 'mb_per_month_included': 'int32',\n",
    " 'minutes_included': 'uint16',\n",
    " 'rub_monthly_fee': 'uint16',\n",
    " 'rub_per_gb': 'uint16',\n",
    " 'rub_per_message': 'uint16',\n",
    " 'rub_per_minute': 'uint16',\n",
    " 'tariff_name': 'category'\n",
    "}\n",
    "\n",
    "tariffs = tariffs.astype(tariffs_type_dict)\n",
    "tariffs.info()"
   ]
  },
  {
   "cell_type": "markdown",
   "metadata": {},
   "source": [
    "В силу малости таблицы tariffs замена типов не отразилась на величине памяти занимаемой таблицей"
   ]
  },
  {
   "cell_type": "markdown",
   "metadata": {},
   "source": [
    "<div class=\"alert alert-block alert-success\">\n",
    "<h2>Комментарий от ревьювера (все здОрово)</h2> \n",
    "\n",
    "Отличные исследования, очень все подробно и скурпулёзно изучено, чувствуется погружение в предметную область, все исследования проведены на очень высоком, профессиональном уровне) Выводы и рассуждения тоже на высоте - очень подробные и лаконичные) Молодец) "
   ]
  },
  {
   "cell_type": "markdown",
   "metadata": {},
   "source": [
    "### Исправление ошибок в данных\n",
    "#### Анализ длительности звонков"
   ]
  },
  {
   "cell_type": "code",
   "execution_count": 28,
   "metadata": {
    "scrolled": true
   },
   "outputs": [
    {
     "data": {
      "image/png": "[encoded data removed]",
      "text/plain": [
       "<Figure size 1080x360 with 1 Axes>"
      ]
     },
     "metadata": {
      "needs_background": "light"
     },
     "output_type": "display_data"
    }
   ],
   "source": [
    "(calls['duration'].hist(bins=100, figsize=(15, 5), alpha = 0.75)\n",
    " .set(xlabel='Длительность звонков', \n",
    "      ylabel='Количество записей',  \n",
    "      title='Распределение длительности звонков в выборке'));"
   ]
  },
  {
   "cell_type": "markdown",
   "metadata": {},
   "source": [
    "<div class=\"alert alert-block alert-success\">\n",
    "<h2>Комментарий от ревьювера (все здОрово)</h2> \n",
    "\n",
    "Молодец, что грамотно оформляешь графики - молодец)"
   ]
  },
  {
   "cell_type": "code",
   "execution_count": 29,
   "metadata": {},
   "outputs": [
    {
     "data": {
      "text/plain": [
       "count    202607.000000\n",
       "mean          6.755887\n",
       "std           5.843365\n",
       "min           0.000000\n",
       "25%           1.300000\n",
       "50%           6.000000\n",
       "75%          10.700000\n",
       "max          38.000000\n",
       "Name: duration, dtype: float64"
      ]
     },
     "execution_count": 29,
     "metadata": {},
     "output_type": "execute_result"
    }
   ],
   "source": [
    "calls['duration'].describe()"
   ]
  },
  {
   "cell_type": "markdown",
   "metadata": {},
   "source": [
    "По гистограмме видно, что в области нулевых длительностей имеется большой пик. Скорее всего это связано с тем, что система сотового оператора помимо непосредственно разговоров так же фиксирует пропущенные звонки. Посмотрим на распределение длительности звонков исключив из него нулевые значения"
   ]
  },
  {
   "cell_type": "code",
   "execution_count": 30,
   "metadata": {},
   "outputs": [
    {
     "data": {
      "image/png": "[encoded data removed]",
      "text/plain": [
       "<Figure size 1080x360 with 1 Axes>"
      ]
     },
     "metadata": {
      "needs_background": "light"
     },
     "output_type": "display_data"
    }
   ],
   "source": [
    "(calls['duration'].drop(calls[calls['duration']==0].index).hist(bins=101, figsize=(15, 5), alpha = 0.75)\n",
    " .set(xlabel='Длительность звонков', \n",
    "      ylabel='Количество записей',  \n",
    "      title='Распределение длительности звонков в выборке после исключения нулевых значений'));"
   ]
  },
  {
   "cell_type": "code",
   "execution_count": 31,
   "metadata": {
    "scrolled": true
   },
   "outputs": [
    {
     "data": {
      "text/plain": [
       "count    162994.000000\n",
       "mean          8.397794\n",
       "std           5.353022\n",
       "min           0.010000\n",
       "25%           4.170000\n",
       "50%           7.740000\n",
       "75%          11.850000\n",
       "max          38.000000\n",
       "Name: duration, dtype: float64"
      ]
     },
     "execution_count": 31,
     "metadata": {},
     "output_type": "execute_result"
    }
   ],
   "source": [
    "calls['duration'].drop(calls[calls['duration']==0].index).describe()"
   ]
  },
  {
   "cell_type": "markdown",
   "metadata": {},
   "source": [
    "После исключения нулевых значений несколько увеличилась средняя продолжительность разговора (8,4 мин против 6,8 мин до исключения нулей) и незначительно снизилось СКО (5,35 мин против 5,84 мин). В виду того, что в конечном счете нас интересует прибыль которую приносит пользователь в течении месяца, то разговоры с нулевой длительностью никак не влияют на нашу целевую переменную. Таким образом разговоры с нулевой длительностью можно из датасета не исключать."
   ]
  },
  {
   "cell_type": "markdown",
   "metadata": {},
   "source": [
    "<div class=\"alert alert-block alert-success\">\n",
    "<h2>Комментарий от ревьювера (все здОрово)</h2> \n",
    "\n",
    "Согласен полоностью)"
   ]
  },
  {
   "cell_type": "markdown",
   "metadata": {},
   "source": [
    "#### Анализ количества отправленных сообщений"
   ]
  },
  {
   "cell_type": "code",
   "execution_count": 32,
   "metadata": {},
   "outputs": [
    {
     "data": {
      "image/png": "[encoded data removed]",
      "text/plain": [
       "<Figure size 1080x360 with 1 Axes>"
      ]
     },
     "metadata": {
      "needs_background": "light"
     },
     "output_type": "display_data"
    }
   ],
   "source": [
    "(messages.groupby('user_id')['id'].count().hist(bins=20, figsize=(15, 5), alpha = 0.75)\n",
    " .set(xlabel='Количество сообщений отправленных одним пользователем', \n",
    "      ylabel='Количество пользователей',  \n",
    "      title='Распределение количества сообщений отправленных одним пользователем в выборке'));"
   ]
  },
  {
   "cell_type": "code",
   "execution_count": 33,
   "metadata": {},
   "outputs": [
    {
     "data": {
      "text/plain": [
       "count     426.000000\n",
       "mean      288.816901\n",
       "std       267.607552\n",
       "min         1.000000\n",
       "25%        85.750000\n",
       "50%       215.500000\n",
       "75%       414.000000\n",
       "max      1463.000000\n",
       "Name: id, dtype: float64"
      ]
     },
     "execution_count": 33,
     "metadata": {},
     "output_type": "execute_result"
    }
   ],
   "source": [
    "messages.groupby('user_id')['id'].count().describe()"
   ]
  },
  {
   "cell_type": "markdown",
   "metadata": {},
   "source": [
    "В среднем за год один пользователь отправляет 289 сообщений, однако есть отдельные любители общения которые могут отправлять порядка 1400 сообщений в год. 1463 сообщения в год соответсвуют примерно четырем сообщениям в день, что выглядит возможным. Ошибок в таблице с сообщениями не выявлено"
   ]
  },
  {
   "cell_type": "markdown",
   "metadata": {},
   "source": [
    "#### Анализ объёма потраченного за сессию интернет-трафика"
   ]
  },
  {
   "cell_type": "code",
   "execution_count": 34,
   "metadata": {},
   "outputs": [
    {
     "data": {
      "image/png": "[encoded data removed]",
      "text/plain": [
       "<Figure size 1080x360 with 1 Axes>"
      ]
     },
     "metadata": {
      "needs_background": "light"
     },
     "output_type": "display_data"
    }
   ],
   "source": [
    "(internet['mb_used'].hist(bins=101, figsize=(15, 5), alpha = 0.75)\n",
    " .set(xlabel='Объем потраченного за сессию интерней трафика (МБ)', \n",
    "      ylabel='Количество записей',  \n",
    "      title='Распределение объема потраченного за сессию интернет трафика'));"
   ]
  },
  {
   "cell_type": "code",
   "execution_count": 35,
   "metadata": {},
   "outputs": [
    {
     "data": {
      "text/plain": [
       "count    149396.000000\n",
       "mean        370.192444\n",
       "std         278.300964\n",
       "min           0.000000\n",
       "25%         138.187496\n",
       "50%         348.014999\n",
       "75%         559.552490\n",
       "max        1724.829956\n",
       "Name: mb_used, dtype: float64"
      ]
     },
     "execution_count": 35,
     "metadata": {},
     "output_type": "execute_result"
    }
   ],
   "source": [
    "internet['mb_used'].describe()"
   ]
  },
  {
   "cell_type": "markdown",
   "metadata": {},
   "source": [
    "Как и в случае с длительностью звонков, таблица с потребленным трафиком содержит большое количество записей с нулевым значением. Посмотрим распределение трафика исключив нулевые значения"
   ]
  },
  {
   "cell_type": "code",
   "execution_count": 36,
   "metadata": {},
   "outputs": [
    {
     "data": {
      "image/png": "[encoded data removed]",
      "text/plain": [
       "<Figure size 1080x360 with 1 Axes>"
      ]
     },
     "metadata": {
      "needs_background": "light"
     },
     "output_type": "display_data"
    }
   ],
   "source": [
    "(internet['mb_used'].drop(internet[internet['mb_used']==0].index).hist(bins=101, figsize=(15, 5), alpha = 0.75)\n",
    " .set(xlabel='Объем потраченного за сессию интерней трафика (МБ)', \n",
    "      ylabel='Количество записей',  \n",
    "      title='Распределение объема потраченного за сессию интернет трафика после исключения нулевых значений'));"
   ]
  },
  {
   "cell_type": "code",
   "execution_count": 37,
   "metadata": {},
   "outputs": [
    {
     "data": {
      "text/plain": [
       "count    129798.000000\n",
       "mean        426.087219\n",
       "std         255.596451\n",
       "min           0.030000\n",
       "25%         227.460007\n",
       "50%         400.540009\n",
       "75%         592.947510\n",
       "max        1724.829956\n",
       "Name: mb_used, dtype: float64"
      ]
     },
     "execution_count": 37,
     "metadata": {},
     "output_type": "execute_result"
    }
   ],
   "source": [
    "internet['mb_used'].drop(internet[internet['mb_used']==0].index).describe()"
   ]
  },
  {
   "cell_type": "markdown",
   "metadata": {},
   "source": [
    "Как и в случае с длительностью звонков, исключение нулевых значений несколько увеличило величину среднего потребляемого трафика (с 370 МБ до 426 МБ) и незначительно снизило СКО распределения (с 278 МБ до 256 МБ). Поскольку конечной целью исследования является оценка прибыли которую приносит пользователь в течении месяца, то сессии с нулевым трафиком никак не влияют на нашу целевую переменную. Таким образом такие сессии можно из датасета не исключать"
   ]
  },
  {
   "cell_type": "markdown",
   "metadata": {},
   "source": [
    "<div class=\"alert alert-block alert-success\">\n",
    "<h2>Комментарий от ревьювера (все здОрово)</h2> \n",
    "\n",
    "Снова согласен)"
   ]
  },
  {
   "cell_type": "markdown",
   "metadata": {},
   "source": [
    "## Шаг 3. Проанализируйте данные"
   ]
  },
  {
   "cell_type": "markdown",
   "metadata": {},
   "source": [
    "* количество сделанных звонков и израсходованных минут разговора по месяцам"
   ]
  },
  {
   "cell_type": "code",
   "execution_count": 38,
   "metadata": {},
   "outputs": [
    {
     "data": {
      "text/html": [
       "<div>\n",
       "<style scoped>\n",
       "    .dataframe tbody tr th:only-of-type {\n",
       "        vertical-align: middle;\n",
       "    }\n",
       "\n",
       "    .dataframe tbody tr th {\n",
       "        vertical-align: top;\n",
       "    }\n",
       "\n",
       "    .dataframe thead th {\n",
       "        text-align: right;\n",
       "    }\n",
       "</style>\n",
       "<table border=\"1\" class=\"dataframe\">\n",
       "  <thead>\n",
       "    <tr style=\"text-align: right;\">\n",
       "      <th></th>\n",
       "      <th>id</th>\n",
       "      <th>call_date</th>\n",
       "      <th>duration</th>\n",
       "      <th>user_id</th>\n",
       "      <th>month</th>\n",
       "    </tr>\n",
       "  </thead>\n",
       "  <tbody>\n",
       "    <tr>\n",
       "      <td>0</td>\n",
       "      <td>1000_0</td>\n",
       "      <td>2018-07-25</td>\n",
       "      <td>0.00</td>\n",
       "      <td>1000</td>\n",
       "      <td>7</td>\n",
       "    </tr>\n",
       "    <tr>\n",
       "      <td>1</td>\n",
       "      <td>1000_1</td>\n",
       "      <td>2018-08-17</td>\n",
       "      <td>0.00</td>\n",
       "      <td>1000</td>\n",
       "      <td>8</td>\n",
       "    </tr>\n",
       "    <tr>\n",
       "      <td>2</td>\n",
       "      <td>1000_2</td>\n",
       "      <td>2018-06-11</td>\n",
       "      <td>2.85</td>\n",
       "      <td>1000</td>\n",
       "      <td>6</td>\n",
       "    </tr>\n",
       "    <tr>\n",
       "      <td>3</td>\n",
       "      <td>1000_3</td>\n",
       "      <td>2018-09-21</td>\n",
       "      <td>13.80</td>\n",
       "      <td>1000</td>\n",
       "      <td>9</td>\n",
       "    </tr>\n",
       "    <tr>\n",
       "      <td>4</td>\n",
       "      <td>1000_4</td>\n",
       "      <td>2018-12-15</td>\n",
       "      <td>5.18</td>\n",
       "      <td>1000</td>\n",
       "      <td>12</td>\n",
       "    </tr>\n",
       "  </tbody>\n",
       "</table>\n",
       "</div>"
      ],
      "text/plain": [
       "       id  call_date  duration  user_id  month\n",
       "0  1000_0 2018-07-25      0.00     1000      7\n",
       "1  1000_1 2018-08-17      0.00     1000      8\n",
       "2  1000_2 2018-06-11      2.85     1000      6\n",
       "3  1000_3 2018-09-21     13.80     1000      9\n",
       "4  1000_4 2018-12-15      5.18     1000     12"
      ]
     },
     "execution_count": 38,
     "metadata": {},
     "output_type": "execute_result"
    }
   ],
   "source": [
    "# введем в таблицу calls столбец month для последующей группировки по нему\n",
    "calls['month'] = calls['call_date'].dt.month\n",
    "calls.head()"
   ]
  },
  {
   "cell_type": "markdown",
   "metadata": {},
   "source": [
    "Так как «Мегалайн» всегда округляет вверх значения минут (если пользователь проговорил всего 1 секунду, в тарифе засчитывается целая минута), то округлим значения в столбце duration вверх до целых"
   ]
  },
  {
   "cell_type": "code",
   "execution_count": 39,
   "metadata": {},
   "outputs": [
    {
     "data": {
      "text/plain": [
       "0     0\n",
       "1     0\n",
       "2     3\n",
       "3    14\n",
       "4     6\n",
       "5     0\n",
       "6     0\n",
       "7    19\n",
       "8    19\n",
       "9     0\n",
       "Name: duration, dtype: int32"
      ]
     },
     "execution_count": 39,
     "metadata": {},
     "output_type": "execute_result"
    }
   ],
   "source": [
    "calls['duration'] = np.ceil(calls['duration']).astype('int32')\n",
    "calls['duration'].head(10)"
   ]
  },
  {
   "cell_type": "markdown",
   "metadata": {},
   "source": [
    "<div class=\"alert alert-block alert-danger\">\n",
    "<h2>Комментарий от ревьювера (недочет, который нужно доработать)</h2> \n",
    "    \n",
    " np.floor округляет в меньшую сторону, для округления в большую нужен другой метод)"
   ]
  },
  {
   "cell_type": "markdown",
   "metadata": {},
   "source": [
    "<div class=\"alert alert-block alert-info\">\n",
    "<b>КОММЕНТАРИЙ ОТ УЧЕНИКА:</b>\n",
    "    Ошибочно примененная функция np.floor заменена на np.ceil\n",
    "</div>"
   ]
  },
  {
   "cell_type": "markdown",
   "metadata": {},
   "source": [
    "<div class=\"alert alert-block alert-success\">\n",
    "<h2>Комментарий от ревьювера V2</h2> \n",
    "\n",
    "Отлично)"
   ]
  },
  {
   "cell_type": "code",
   "execution_count": 40,
   "metadata": {},
   "outputs": [
    {
     "data": {
      "text/html": [
       "<div>\n",
       "<style scoped>\n",
       "    .dataframe tbody tr th:only-of-type {\n",
       "        vertical-align: middle;\n",
       "    }\n",
       "\n",
       "    .dataframe tbody tr th {\n",
       "        vertical-align: top;\n",
       "    }\n",
       "\n",
       "    .dataframe thead th {\n",
       "        text-align: right;\n",
       "    }\n",
       "</style>\n",
       "<table border=\"1\" class=\"dataframe\">\n",
       "  <thead>\n",
       "    <tr style=\"text-align: right;\">\n",
       "      <th></th>\n",
       "      <th></th>\n",
       "      <th>calls_sum</th>\n",
       "      <th>calls_count_with_zero</th>\n",
       "      <th>calls_mean_with_zero</th>\n",
       "      <th>calls_count_without_zero</th>\n",
       "      <th>calls_mean_without_zero</th>\n",
       "    </tr>\n",
       "    <tr>\n",
       "      <th>user_id</th>\n",
       "      <th>month</th>\n",
       "      <th></th>\n",
       "      <th></th>\n",
       "      <th></th>\n",
       "      <th></th>\n",
       "      <th></th>\n",
       "    </tr>\n",
       "  </thead>\n",
       "  <tbody>\n",
       "    <tr>\n",
       "      <td rowspan=\"8\" valign=\"top\">1000</td>\n",
       "      <td>5</td>\n",
       "      <td>159</td>\n",
       "      <td>22</td>\n",
       "      <td>7.227273</td>\n",
       "      <td>17.0</td>\n",
       "      <td>9.352941</td>\n",
       "    </tr>\n",
       "    <tr>\n",
       "      <td>6</td>\n",
       "      <td>172</td>\n",
       "      <td>43</td>\n",
       "      <td>4.000000</td>\n",
       "      <td>28.0</td>\n",
       "      <td>6.142857</td>\n",
       "    </tr>\n",
       "    <tr>\n",
       "      <td>7</td>\n",
       "      <td>340</td>\n",
       "      <td>47</td>\n",
       "      <td>7.234043</td>\n",
       "      <td>41.0</td>\n",
       "      <td>8.292683</td>\n",
       "    </tr>\n",
       "    <tr>\n",
       "      <td>8</td>\n",
       "      <td>408</td>\n",
       "      <td>52</td>\n",
       "      <td>7.846154</td>\n",
       "      <td>42.0</td>\n",
       "      <td>9.714286</td>\n",
       "    </tr>\n",
       "    <tr>\n",
       "      <td>9</td>\n",
       "      <td>466</td>\n",
       "      <td>58</td>\n",
       "      <td>8.034483</td>\n",
       "      <td>46.0</td>\n",
       "      <td>10.130435</td>\n",
       "    </tr>\n",
       "    <tr>\n",
       "      <td>10</td>\n",
       "      <td>350</td>\n",
       "      <td>57</td>\n",
       "      <td>6.140351</td>\n",
       "      <td>44.0</td>\n",
       "      <td>7.954545</td>\n",
       "    </tr>\n",
       "    <tr>\n",
       "      <td>11</td>\n",
       "      <td>338</td>\n",
       "      <td>43</td>\n",
       "      <td>7.860465</td>\n",
       "      <td>37.0</td>\n",
       "      <td>9.135135</td>\n",
       "    </tr>\n",
       "    <tr>\n",
       "      <td>12</td>\n",
       "      <td>333</td>\n",
       "      <td>46</td>\n",
       "      <td>7.239130</td>\n",
       "      <td>38.0</td>\n",
       "      <td>8.763158</td>\n",
       "    </tr>\n",
       "    <tr>\n",
       "      <td rowspan=\"2\" valign=\"top\">1001</td>\n",
       "      <td>11</td>\n",
       "      <td>430</td>\n",
       "      <td>59</td>\n",
       "      <td>7.288136</td>\n",
       "      <td>45.0</td>\n",
       "      <td>9.555556</td>\n",
       "    </tr>\n",
       "    <tr>\n",
       "      <td>12</td>\n",
       "      <td>414</td>\n",
       "      <td>63</td>\n",
       "      <td>6.571429</td>\n",
       "      <td>47.0</td>\n",
       "      <td>8.808511</td>\n",
       "    </tr>\n",
       "    <tr>\n",
       "      <td rowspan=\"5\" valign=\"top\">1002</td>\n",
       "      <td>6</td>\n",
       "      <td>117</td>\n",
       "      <td>15</td>\n",
       "      <td>7.800000</td>\n",
       "      <td>14.0</td>\n",
       "      <td>8.357143</td>\n",
       "    </tr>\n",
       "    <tr>\n",
       "      <td>7</td>\n",
       "      <td>214</td>\n",
       "      <td>26</td>\n",
       "      <td>8.230769</td>\n",
       "      <td>21.0</td>\n",
       "      <td>10.190476</td>\n",
       "    </tr>\n",
       "    <tr>\n",
       "      <td>8</td>\n",
       "      <td>289</td>\n",
       "      <td>42</td>\n",
       "      <td>6.880952</td>\n",
       "      <td>37.0</td>\n",
       "      <td>7.810811</td>\n",
       "    </tr>\n",
       "    <tr>\n",
       "      <td>9</td>\n",
       "      <td>206</td>\n",
       "      <td>36</td>\n",
       "      <td>5.722222</td>\n",
       "      <td>25.0</td>\n",
       "      <td>8.240000</td>\n",
       "    </tr>\n",
       "    <tr>\n",
       "      <td>10</td>\n",
       "      <td>212</td>\n",
       "      <td>33</td>\n",
       "      <td>6.424242</td>\n",
       "      <td>24.0</td>\n",
       "      <td>8.833333</td>\n",
       "    </tr>\n",
       "  </tbody>\n",
       "</table>\n",
       "</div>"
      ],
      "text/plain": [
       "               calls_sum  calls_count_with_zero  calls_mean_with_zero  \\\n",
       "user_id month                                                           \n",
       "1000    5            159                     22              7.227273   \n",
       "        6            172                     43              4.000000   \n",
       "        7            340                     47              7.234043   \n",
       "        8            408                     52              7.846154   \n",
       "        9            466                     58              8.034483   \n",
       "        10           350                     57              6.140351   \n",
       "        11           338                     43              7.860465   \n",
       "        12           333                     46              7.239130   \n",
       "1001    11           430                     59              7.288136   \n",
       "        12           414                     63              6.571429   \n",
       "1002    6            117                     15              7.800000   \n",
       "        7            214                     26              8.230769   \n",
       "        8            289                     42              6.880952   \n",
       "        9            206                     36              5.722222   \n",
       "        10           212                     33              6.424242   \n",
       "\n",
       "               calls_count_without_zero  calls_mean_without_zero  \n",
       "user_id month                                                     \n",
       "1000    5                          17.0                 9.352941  \n",
       "        6                          28.0                 6.142857  \n",
       "        7                          41.0                 8.292683  \n",
       "        8                          42.0                 9.714286  \n",
       "        9                          46.0                10.130435  \n",
       "        10                         44.0                 7.954545  \n",
       "        11                         37.0                 9.135135  \n",
       "        12                         38.0                 8.763158  \n",
       "1001    11                         45.0                 9.555556  \n",
       "        12                         47.0                 8.808511  \n",
       "1002    6                          14.0                 8.357143  \n",
       "        7                          21.0                10.190476  \n",
       "        8                          37.0                 7.810811  \n",
       "        9                          25.0                 8.240000  \n",
       "        10                         24.0                 8.833333  "
      ]
     },
     "execution_count": 40,
     "metadata": {},
     "output_type": "execute_result"
    }
   ],
   "source": [
    "# сформируем сводную таблицу с учетом звонков нулевой продолжительности\n",
    "calls_pivot = calls.groupby(['user_id', 'month'])['duration'].agg(['sum', 'count', 'mean'])\n",
    "# заменим названия столбцов\n",
    "calls_pivot.columns = ['calls_sum', 'calls_count_with_zero', 'calls_mean_with_zero']\n",
    "\n",
    "# добавим в сводную таблицу столбец с числом звонков без учета \"нулевых\" звонков\n",
    "calls_pivot['calls_count_without_zero'] = (calls.drop(calls[calls['duration']==0].index)\n",
    "                                     .groupby(['user_id', 'month'])['duration'].agg(['count']))\n",
    "\n",
    "# добавим в сводную таблицу столбец со средней продолжительностью звонка без учета \"нулевых\" звонков\n",
    "calls_pivot['calls_mean_without_zero'] = (calls.drop(calls[calls['duration']==0].index)\n",
    "                                     .groupby(['user_id', 'month'])['duration'].agg(['mean']))\n",
    "\n",
    "calls_pivot.head(15)"
   ]
  },
  {
   "cell_type": "markdown",
   "metadata": {},
   "source": [
    "Построим гистограммы количества звонков по месяцам с учетом \"нулевых\" звонков и без них"
   ]
  },
  {
   "cell_type": "code",
   "execution_count": 41,
   "metadata": {},
   "outputs": [
    {
     "data": {
      "image/png": "[encoded data removed]",
      "text/plain": [
       "<Figure size 1080x360 with 1 Axes>"
      ]
     },
     "metadata": {
      "needs_background": "light"
     },
     "output_type": "display_data"
    }
   ],
   "source": [
    "(calls_pivot['calls_count_with_zero'].hist(bins=25, figsize=(15, 5), alpha = 0.75)\n",
    " .set(xlabel='Количество звонков сделаных одним пользователем за месяц', \n",
    "      ylabel='Количество записей',  \n",
    "      title='Распределение количества звонков сделаных одним пользователем за месяц с учетом звонков нулевой длительности'));"
   ]
  },
  {
   "cell_type": "code",
   "execution_count": 42,
   "metadata": {},
   "outputs": [
    {
     "data": {
      "text/plain": [
       "count    3174.000000\n",
       "mean       63.833333\n",
       "std        32.678036\n",
       "min         1.000000\n",
       "25%        41.000000\n",
       "50%        63.000000\n",
       "75%        83.000000\n",
       "max       244.000000\n",
       "Name: calls_count_with_zero, dtype: float64"
      ]
     },
     "execution_count": 42,
     "metadata": {},
     "output_type": "execute_result"
    }
   ],
   "source": [
    "calls_pivot['calls_count_with_zero'].describe()"
   ]
  },
  {
   "cell_type": "code",
   "execution_count": 43,
   "metadata": {},
   "outputs": [
    {
     "data": {
      "image/png": "[encoded data removed]",
      "text/plain": [
       "<Figure size 1080x360 with 1 Axes>"
      ]
     },
     "metadata": {
      "needs_background": "light"
     },
     "output_type": "display_data"
    }
   ],
   "source": [
    "(calls_pivot['calls_count_without_zero'].hist(bins=25, figsize=(15, 5), alpha = 0.75)\n",
    " .set(xlabel='Количество звонков сделаных одним пользователем за месяц', \n",
    "      ylabel='Количество записей',  \n",
    "      title='Распределение количества звонков сделаных одним пользователем за месяц без учета звонков нулевой длительности'));"
   ]
  },
  {
   "cell_type": "code",
   "execution_count": 44,
   "metadata": {},
   "outputs": [
    {
     "data": {
      "text/plain": [
       "count    3168.000000\n",
       "mean       51.450126\n",
       "std        26.439188\n",
       "min         1.000000\n",
       "25%        33.000000\n",
       "50%        50.000000\n",
       "75%        67.000000\n",
       "max       190.000000\n",
       "Name: calls_count_without_zero, dtype: float64"
      ]
     },
     "execution_count": 44,
     "metadata": {},
     "output_type": "execute_result"
    }
   ],
   "source": [
    "calls_pivot['calls_count_without_zero'].describe()"
   ]
  },
  {
   "cell_type": "markdown",
   "metadata": {},
   "source": [
    "В среднем пользователь в месяц совершает 51 разговор и еще 13 звонков (64-51) остаются без ответа. Посмотрим на гистограмму длительностей разговора "
   ]
  },
  {
   "cell_type": "code",
   "execution_count": 45,
   "metadata": {},
   "outputs": [
    {
     "data": {
      "image/png": "[encoded data removed]",
      "text/plain": [
       "<Figure size 1080x360 with 1 Axes>"
      ]
     },
     "metadata": {
      "needs_background": "light"
     },
     "output_type": "display_data"
    }
   ],
   "source": [
    "(calls_pivot['calls_sum'].hist(bins=25, figsize=(15, 5), alpha = 0.75)\n",
    " .set(xlabel='Длительность звонков сделаных одним пользователем за месяц (мин)', \n",
    "      ylabel='Количество записей',  \n",
    "      title='Распределение длительности звонков сделаных одним пользователем за месяц'));"
   ]
  },
  {
   "cell_type": "code",
   "execution_count": 46,
   "metadata": {},
   "outputs": [
    {
     "data": {
      "text/plain": [
       "count    3174.000000\n",
       "mean      456.931632\n",
       "std       238.031270\n",
       "min         0.000000\n",
       "25%       290.000000\n",
       "50%       447.000000\n",
       "75%       592.000000\n",
       "max      1673.000000\n",
       "Name: calls_sum, dtype: float64"
      ]
     },
     "execution_count": 46,
     "metadata": {},
     "output_type": "execute_result"
    }
   ],
   "source": [
    "calls_pivot['calls_sum'].describe()"
   ]
  },
  {
   "cell_type": "markdown",
   "metadata": {},
   "source": [
    "В среднем пользователи тратят 457 минут (порядка 8 ч) в месяц на разговоры"
   ]
  },
  {
   "cell_type": "markdown",
   "metadata": {},
   "source": [
    "* количество отправленных сообщений по месяцам"
   ]
  },
  {
   "cell_type": "code",
   "execution_count": 47,
   "metadata": {},
   "outputs": [
    {
     "data": {
      "text/html": [
       "<div>\n",
       "<style scoped>\n",
       "    .dataframe tbody tr th:only-of-type {\n",
       "        vertical-align: middle;\n",
       "    }\n",
       "\n",
       "    .dataframe tbody tr th {\n",
       "        vertical-align: top;\n",
       "    }\n",
       "\n",
       "    .dataframe thead th {\n",
       "        text-align: right;\n",
       "    }\n",
       "</style>\n",
       "<table border=\"1\" class=\"dataframe\">\n",
       "  <thead>\n",
       "    <tr style=\"text-align: right;\">\n",
       "      <th></th>\n",
       "      <th>id</th>\n",
       "      <th>message_date</th>\n",
       "      <th>user_id</th>\n",
       "      <th>month</th>\n",
       "    </tr>\n",
       "  </thead>\n",
       "  <tbody>\n",
       "    <tr>\n",
       "      <td>0</td>\n",
       "      <td>1000_0</td>\n",
       "      <td>2018-06-27</td>\n",
       "      <td>1000</td>\n",
       "      <td>6</td>\n",
       "    </tr>\n",
       "    <tr>\n",
       "      <td>1</td>\n",
       "      <td>1000_1</td>\n",
       "      <td>2018-10-08</td>\n",
       "      <td>1000</td>\n",
       "      <td>10</td>\n",
       "    </tr>\n",
       "    <tr>\n",
       "      <td>2</td>\n",
       "      <td>1000_2</td>\n",
       "      <td>2018-08-04</td>\n",
       "      <td>1000</td>\n",
       "      <td>8</td>\n",
       "    </tr>\n",
       "    <tr>\n",
       "      <td>3</td>\n",
       "      <td>1000_3</td>\n",
       "      <td>2018-06-16</td>\n",
       "      <td>1000</td>\n",
       "      <td>6</td>\n",
       "    </tr>\n",
       "    <tr>\n",
       "      <td>4</td>\n",
       "      <td>1000_4</td>\n",
       "      <td>2018-12-05</td>\n",
       "      <td>1000</td>\n",
       "      <td>12</td>\n",
       "    </tr>\n",
       "  </tbody>\n",
       "</table>\n",
       "</div>"
      ],
      "text/plain": [
       "       id message_date  user_id  month\n",
       "0  1000_0   2018-06-27     1000      6\n",
       "1  1000_1   2018-10-08     1000     10\n",
       "2  1000_2   2018-08-04     1000      8\n",
       "3  1000_3   2018-06-16     1000      6\n",
       "4  1000_4   2018-12-05     1000     12"
      ]
     },
     "execution_count": 47,
     "metadata": {},
     "output_type": "execute_result"
    }
   ],
   "source": [
    "messages['month'] = messages['message_date'].dt.month\n",
    "messages.head()"
   ]
  },
  {
   "cell_type": "code",
   "execution_count": 48,
   "metadata": {},
   "outputs": [
    {
     "data": {
      "text/html": [
       "<div>\n",
       "<style scoped>\n",
       "    .dataframe tbody tr th:only-of-type {\n",
       "        vertical-align: middle;\n",
       "    }\n",
       "\n",
       "    .dataframe tbody tr th {\n",
       "        vertical-align: top;\n",
       "    }\n",
       "\n",
       "    .dataframe thead th {\n",
       "        text-align: right;\n",
       "    }\n",
       "</style>\n",
       "<table border=\"1\" class=\"dataframe\">\n",
       "  <thead>\n",
       "    <tr style=\"text-align: right;\">\n",
       "      <th></th>\n",
       "      <th></th>\n",
       "      <th>message_counts</th>\n",
       "    </tr>\n",
       "    <tr>\n",
       "      <th>user_id</th>\n",
       "      <th>month</th>\n",
       "      <th></th>\n",
       "    </tr>\n",
       "  </thead>\n",
       "  <tbody>\n",
       "    <tr>\n",
       "      <td rowspan=\"8\" valign=\"top\">1000</td>\n",
       "      <td>5</td>\n",
       "      <td>22</td>\n",
       "    </tr>\n",
       "    <tr>\n",
       "      <td>6</td>\n",
       "      <td>60</td>\n",
       "    </tr>\n",
       "    <tr>\n",
       "      <td>7</td>\n",
       "      <td>75</td>\n",
       "    </tr>\n",
       "    <tr>\n",
       "      <td>8</td>\n",
       "      <td>81</td>\n",
       "    </tr>\n",
       "    <tr>\n",
       "      <td>9</td>\n",
       "      <td>57</td>\n",
       "    </tr>\n",
       "    <tr>\n",
       "      <td>10</td>\n",
       "      <td>73</td>\n",
       "    </tr>\n",
       "    <tr>\n",
       "      <td>11</td>\n",
       "      <td>58</td>\n",
       "    </tr>\n",
       "    <tr>\n",
       "      <td>12</td>\n",
       "      <td>70</td>\n",
       "    </tr>\n",
       "    <tr>\n",
       "      <td rowspan=\"2\" valign=\"top\">1002</td>\n",
       "      <td>6</td>\n",
       "      <td>4</td>\n",
       "    </tr>\n",
       "    <tr>\n",
       "      <td>7</td>\n",
       "      <td>11</td>\n",
       "    </tr>\n",
       "  </tbody>\n",
       "</table>\n",
       "</div>"
      ],
      "text/plain": [
       "               message_counts\n",
       "user_id month                \n",
       "1000    5                  22\n",
       "        6                  60\n",
       "        7                  75\n",
       "        8                  81\n",
       "        9                  57\n",
       "        10                 73\n",
       "        11                 58\n",
       "        12                 70\n",
       "1002    6                   4\n",
       "        7                  11"
      ]
     },
     "execution_count": 48,
     "metadata": {},
     "output_type": "execute_result"
    }
   ],
   "source": [
    "messages_pivot = messages.groupby(['user_id', 'month'])['id'].agg(['count'])\n",
    "messages_pivot.columns = ['message_counts']\n",
    "messages_pivot.head(10)"
   ]
  },
  {
   "cell_type": "code",
   "execution_count": 49,
   "metadata": {},
   "outputs": [
    {
     "data": {
      "image/png": "[encoded data removed]",
      "text/plain": [
       "<Figure size 1080x360 with 1 Axes>"
      ]
     },
     "metadata": {
      "needs_background": "light"
     },
     "output_type": "display_data"
    }
   ],
   "source": [
    "(messages_pivot['message_counts'].hist(bins=25, figsize=(15, 5), alpha = 0.75)\n",
    " .set(xlabel='Количество сообщений сделаных одним пользователем за месяц', \n",
    "      ylabel='Количество записей',  \n",
    "      title='Распределение количества сообщений сделаных одним пользователем за месяц'));"
   ]
  },
  {
   "cell_type": "code",
   "execution_count": 50,
   "metadata": {},
   "outputs": [
    {
     "data": {
      "text/plain": [
       "count    2717.000000\n",
       "mean       45.283769\n",
       "std        35.051363\n",
       "min         1.000000\n",
       "25%        19.000000\n",
       "50%        38.000000\n",
       "75%        63.000000\n",
       "max       224.000000\n",
       "Name: message_counts, dtype: float64"
      ]
     },
     "execution_count": 50,
     "metadata": {},
     "output_type": "execute_result"
    }
   ],
   "source": [
    "messages_pivot['message_counts'].describe()"
   ]
  },
  {
   "cell_type": "markdown",
   "metadata": {},
   "source": [
    "В среднем один пользователь отправляет 45 сообщений в месяц"
   ]
  },
  {
   "cell_type": "markdown",
   "metadata": {},
   "source": [
    "* объем израсходованного интернет-трафика по месяцам"
   ]
  },
  {
   "cell_type": "code",
   "execution_count": 51,
   "metadata": {},
   "outputs": [
    {
     "data": {
      "text/html": [
       "<div>\n",
       "<style scoped>\n",
       "    .dataframe tbody tr th:only-of-type {\n",
       "        vertical-align: middle;\n",
       "    }\n",
       "\n",
       "    .dataframe tbody tr th {\n",
       "        vertical-align: top;\n",
       "    }\n",
       "\n",
       "    .dataframe thead th {\n",
       "        text-align: right;\n",
       "    }\n",
       "</style>\n",
       "<table border=\"1\" class=\"dataframe\">\n",
       "  <thead>\n",
       "    <tr style=\"text-align: right;\">\n",
       "      <th></th>\n",
       "      <th>id</th>\n",
       "      <th>mb_used</th>\n",
       "      <th>session_date</th>\n",
       "      <th>user_id</th>\n",
       "      <th>month</th>\n",
       "    </tr>\n",
       "  </thead>\n",
       "  <tbody>\n",
       "    <tr>\n",
       "      <td>0</td>\n",
       "      <td>1000_0</td>\n",
       "      <td>112.949997</td>\n",
       "      <td>2018-11-25</td>\n",
       "      <td>1000</td>\n",
       "      <td>11</td>\n",
       "    </tr>\n",
       "    <tr>\n",
       "      <td>1</td>\n",
       "      <td>1000_1</td>\n",
       "      <td>1052.810059</td>\n",
       "      <td>2018-09-07</td>\n",
       "      <td>1000</td>\n",
       "      <td>9</td>\n",
       "    </tr>\n",
       "    <tr>\n",
       "      <td>2</td>\n",
       "      <td>1000_2</td>\n",
       "      <td>1197.260010</td>\n",
       "      <td>2018-06-25</td>\n",
       "      <td>1000</td>\n",
       "      <td>6</td>\n",
       "    </tr>\n",
       "    <tr>\n",
       "      <td>3</td>\n",
       "      <td>1000_3</td>\n",
       "      <td>550.270020</td>\n",
       "      <td>2018-08-22</td>\n",
       "      <td>1000</td>\n",
       "      <td>8</td>\n",
       "    </tr>\n",
       "    <tr>\n",
       "      <td>4</td>\n",
       "      <td>1000_4</td>\n",
       "      <td>302.559998</td>\n",
       "      <td>2018-09-24</td>\n",
       "      <td>1000</td>\n",
       "      <td>9</td>\n",
       "    </tr>\n",
       "  </tbody>\n",
       "</table>\n",
       "</div>"
      ],
      "text/plain": [
       "       id      mb_used session_date  user_id  month\n",
       "0  1000_0   112.949997   2018-11-25     1000     11\n",
       "1  1000_1  1052.810059   2018-09-07     1000      9\n",
       "2  1000_2  1197.260010   2018-06-25     1000      6\n",
       "3  1000_3   550.270020   2018-08-22     1000      8\n",
       "4  1000_4   302.559998   2018-09-24     1000      9"
      ]
     },
     "execution_count": 51,
     "metadata": {},
     "output_type": "execute_result"
    }
   ],
   "source": [
    "internet['month'] = internet['session_date'].dt.month\n",
    "internet.head()"
   ]
  },
  {
   "cell_type": "markdown",
   "metadata": {},
   "source": [
    "Так как «Мегалайн» всегда округляет вверх значения мегабайт, то округлим значения в столбце mb_used вверх до целых"
   ]
  },
  {
   "cell_type": "code",
   "execution_count": 52,
   "metadata": {},
   "outputs": [
    {
     "data": {
      "text/plain": [
       "0     113\n",
       "1    1053\n",
       "2    1198\n",
       "3     551\n",
       "4     303\n",
       "5     400\n",
       "6     541\n",
       "7     416\n",
       "8     506\n",
       "9     346\n",
       "Name: mb_used, dtype: int32"
      ]
     },
     "execution_count": 52,
     "metadata": {},
     "output_type": "execute_result"
    }
   ],
   "source": [
    "internet['mb_used'] = np.ceil(internet['mb_used']).astype('int32')\n",
    "internet['mb_used'].head(10)"
   ]
  },
  {
   "cell_type": "code",
   "execution_count": 53,
   "metadata": {
    "scrolled": true
   },
   "outputs": [
    {
     "data": {
      "text/html": [
       "<div>\n",
       "<style scoped>\n",
       "    .dataframe tbody tr th:only-of-type {\n",
       "        vertical-align: middle;\n",
       "    }\n",
       "\n",
       "    .dataframe tbody tr th {\n",
       "        vertical-align: top;\n",
       "    }\n",
       "\n",
       "    .dataframe thead th {\n",
       "        text-align: right;\n",
       "    }\n",
       "</style>\n",
       "<table border=\"1\" class=\"dataframe\">\n",
       "  <thead>\n",
       "    <tr style=\"text-align: right;\">\n",
       "      <th></th>\n",
       "      <th></th>\n",
       "      <th>mb_used_sum</th>\n",
       "      <th>internet_sessions_count</th>\n",
       "      <th>mb_used_mean</th>\n",
       "    </tr>\n",
       "    <tr>\n",
       "      <th>user_id</th>\n",
       "      <th>month</th>\n",
       "      <th></th>\n",
       "      <th></th>\n",
       "      <th></th>\n",
       "    </tr>\n",
       "  </thead>\n",
       "  <tbody>\n",
       "    <tr>\n",
       "      <td rowspan=\"8\" valign=\"top\">1000</td>\n",
       "      <td>5</td>\n",
       "      <td>2256</td>\n",
       "      <td>5</td>\n",
       "      <td>451.200000</td>\n",
       "    </tr>\n",
       "    <tr>\n",
       "      <td>6</td>\n",
       "      <td>23257</td>\n",
       "      <td>49</td>\n",
       "      <td>474.632653</td>\n",
       "    </tr>\n",
       "    <tr>\n",
       "      <td>7</td>\n",
       "      <td>14016</td>\n",
       "      <td>29</td>\n",
       "      <td>483.310345</td>\n",
       "    </tr>\n",
       "    <tr>\n",
       "      <td>8</td>\n",
       "      <td>14070</td>\n",
       "      <td>29</td>\n",
       "      <td>485.172414</td>\n",
       "    </tr>\n",
       "    <tr>\n",
       "      <td>9</td>\n",
       "      <td>14581</td>\n",
       "      <td>27</td>\n",
       "      <td>540.037037</td>\n",
       "    </tr>\n",
       "    <tr>\n",
       "      <td>10</td>\n",
       "      <td>14717</td>\n",
       "      <td>27</td>\n",
       "      <td>545.074074</td>\n",
       "    </tr>\n",
       "    <tr>\n",
       "      <td>11</td>\n",
       "      <td>14768</td>\n",
       "      <td>24</td>\n",
       "      <td>615.333333</td>\n",
       "    </tr>\n",
       "    <tr>\n",
       "      <td>12</td>\n",
       "      <td>9827</td>\n",
       "      <td>21</td>\n",
       "      <td>467.952381</td>\n",
       "    </tr>\n",
       "    <tr>\n",
       "      <td rowspan=\"2\" valign=\"top\">1001</td>\n",
       "      <td>11</td>\n",
       "      <td>18452</td>\n",
       "      <td>55</td>\n",
       "      <td>335.490909</td>\n",
       "    </tr>\n",
       "    <tr>\n",
       "      <td>12</td>\n",
       "      <td>14053</td>\n",
       "      <td>41</td>\n",
       "      <td>342.756098</td>\n",
       "    </tr>\n",
       "  </tbody>\n",
       "</table>\n",
       "</div>"
      ],
      "text/plain": [
       "               mb_used_sum  internet_sessions_count  mb_used_mean\n",
       "user_id month                                                    \n",
       "1000    5             2256                        5    451.200000\n",
       "        6            23257                       49    474.632653\n",
       "        7            14016                       29    483.310345\n",
       "        8            14070                       29    485.172414\n",
       "        9            14581                       27    540.037037\n",
       "        10           14717                       27    545.074074\n",
       "        11           14768                       24    615.333333\n",
       "        12            9827                       21    467.952381\n",
       "1001    11           18452                       55    335.490909\n",
       "        12           14053                       41    342.756098"
      ]
     },
     "execution_count": 53,
     "metadata": {},
     "output_type": "execute_result"
    }
   ],
   "source": [
    "internet_pivot = internet.groupby(['user_id', 'month'])['mb_used'].agg(['sum', 'count', 'mean'])\n",
    "internet_pivot.columns = ['mb_used_sum', 'internet_sessions_count', 'mb_used_mean']\n",
    "internet_pivot.head(10)"
   ]
  },
  {
   "cell_type": "markdown",
   "metadata": {},
   "source": [
    "<div class=\"alert alert-block alert-success\">\n",
    "<h2>Комментарий от ревьювера (все здОрово)</h2> \n",
    "\n",
    "Супер! С группировками справляешься на отлично)"
   ]
  },
  {
   "cell_type": "code",
   "execution_count": 54,
   "metadata": {},
   "outputs": [
    {
     "data": {
      "image/png": "[encoded data removed]",
      "text/plain": [
       "<Figure size 1080x360 with 1 Axes>"
      ]
     },
     "metadata": {
      "needs_background": "light"
     },
     "output_type": "display_data"
    }
   ],
   "source": [
    "(internet_pivot['mb_used_sum'].hist(bins=25, figsize=(15, 5), alpha = 0.75)\n",
    " .set(xlabel='Количество трафика потраченного одним пользователем за месяц (МБ)', \n",
    "      ylabel='Количество записей',  \n",
    "      title='Распределение количества трафика потраченного одним пользователем за месяц'));"
   ]
  },
  {
   "cell_type": "code",
   "execution_count": 55,
   "metadata": {},
   "outputs": [
    {
     "data": {
      "text/plain": [
       "count     3203.000000\n",
       "mean     17286.749610\n",
       "std       7523.580332\n",
       "min          0.000000\n",
       "25%      12543.000000\n",
       "50%      16985.000000\n",
       "75%      21455.500000\n",
       "max      49789.000000\n",
       "Name: mb_used_sum, dtype: float64"
      ]
     },
     "execution_count": 55,
     "metadata": {},
     "output_type": "execute_result"
    }
   ],
   "source": [
    "internet_pivot['mb_used_sum'].describe()"
   ]
  },
  {
   "cell_type": "markdown",
   "metadata": {},
   "source": [
    "В среднем каждый пользователь потребляет порядка 17 ГБ трафика в месяц."
   ]
  },
  {
   "cell_type": "markdown",
   "metadata": {},
   "source": [
    "* рассчет помесячной выручки с каждого пользователя.\n",
    "\n",
    "Для того чтобы рассчитать помесячную выручку с каждого пользователя объединим все таблицы в единый дата фрейм, после чего добавим в объединенный дата фрейм столбцы в которых содержится превышение пользователем выделенных для его тарифа минут, сообщений и трафика и в заключении рассчитаем доход который приносит пользователь в соответствующем месяце, как сумма которую он платит за тариф и за превышение выделенных ему в рамках тарифа ресурсов"
   ]
  },
  {
   "cell_type": "code",
   "execution_count": 56,
   "metadata": {
    "scrolled": false
   },
   "outputs": [
    {
     "data": {
      "text/html": [
       "<div>\n",
       "<style scoped>\n",
       "    .dataframe tbody tr th:only-of-type {\n",
       "        vertical-align: middle;\n",
       "    }\n",
       "\n",
       "    .dataframe tbody tr th {\n",
       "        vertical-align: top;\n",
       "    }\n",
       "\n",
       "    .dataframe thead th {\n",
       "        text-align: right;\n",
       "    }\n",
       "</style>\n",
       "<table border=\"1\" class=\"dataframe\">\n",
       "  <thead>\n",
       "    <tr style=\"text-align: right;\">\n",
       "      <th></th>\n",
       "      <th>user_id</th>\n",
       "      <th>month</th>\n",
       "      <th>calls_sum</th>\n",
       "      <th>calls_count_with_zero</th>\n",
       "      <th>calls_mean_with_zero</th>\n",
       "      <th>calls_count_without_zero</th>\n",
       "      <th>calls_mean_without_zero</th>\n",
       "      <th>message_counts</th>\n",
       "      <th>mb_used_sum</th>\n",
       "      <th>internet_sessions_count</th>\n",
       "      <th>...</th>\n",
       "      <th>last_name</th>\n",
       "      <th>reg_date</th>\n",
       "      <th>tariff_name</th>\n",
       "      <th>messages_included</th>\n",
       "      <th>mb_per_month_included</th>\n",
       "      <th>minutes_included</th>\n",
       "      <th>rub_monthly_fee</th>\n",
       "      <th>rub_per_gb</th>\n",
       "      <th>rub_per_message</th>\n",
       "      <th>rub_per_minute</th>\n",
       "    </tr>\n",
       "  </thead>\n",
       "  <tbody>\n",
       "    <tr>\n",
       "      <td>0</td>\n",
       "      <td>1000</td>\n",
       "      <td>5</td>\n",
       "      <td>159</td>\n",
       "      <td>22</td>\n",
       "      <td>7.227273</td>\n",
       "      <td>17.0</td>\n",
       "      <td>9.352941</td>\n",
       "      <td>22.0</td>\n",
       "      <td>2256.0</td>\n",
       "      <td>5.0</td>\n",
       "      <td>...</td>\n",
       "      <td>Верещагин</td>\n",
       "      <td>2018-05-25</td>\n",
       "      <td>ultra</td>\n",
       "      <td>1000</td>\n",
       "      <td>30720</td>\n",
       "      <td>3000</td>\n",
       "      <td>1950</td>\n",
       "      <td>150</td>\n",
       "      <td>1</td>\n",
       "      <td>1</td>\n",
       "    </tr>\n",
       "    <tr>\n",
       "      <td>1</td>\n",
       "      <td>1000</td>\n",
       "      <td>6</td>\n",
       "      <td>172</td>\n",
       "      <td>43</td>\n",
       "      <td>4.000000</td>\n",
       "      <td>28.0</td>\n",
       "      <td>6.142857</td>\n",
       "      <td>60.0</td>\n",
       "      <td>23257.0</td>\n",
       "      <td>49.0</td>\n",
       "      <td>...</td>\n",
       "      <td>Верещагин</td>\n",
       "      <td>2018-05-25</td>\n",
       "      <td>ultra</td>\n",
       "      <td>1000</td>\n",
       "      <td>30720</td>\n",
       "      <td>3000</td>\n",
       "      <td>1950</td>\n",
       "      <td>150</td>\n",
       "      <td>1</td>\n",
       "      <td>1</td>\n",
       "    </tr>\n",
       "    <tr>\n",
       "      <td>2</td>\n",
       "      <td>1000</td>\n",
       "      <td>7</td>\n",
       "      <td>340</td>\n",
       "      <td>47</td>\n",
       "      <td>7.234043</td>\n",
       "      <td>41.0</td>\n",
       "      <td>8.292683</td>\n",
       "      <td>75.0</td>\n",
       "      <td>14016.0</td>\n",
       "      <td>29.0</td>\n",
       "      <td>...</td>\n",
       "      <td>Верещагин</td>\n",
       "      <td>2018-05-25</td>\n",
       "      <td>ultra</td>\n",
       "      <td>1000</td>\n",
       "      <td>30720</td>\n",
       "      <td>3000</td>\n",
       "      <td>1950</td>\n",
       "      <td>150</td>\n",
       "      <td>1</td>\n",
       "      <td>1</td>\n",
       "    </tr>\n",
       "    <tr>\n",
       "      <td>3</td>\n",
       "      <td>1000</td>\n",
       "      <td>8</td>\n",
       "      <td>408</td>\n",
       "      <td>52</td>\n",
       "      <td>7.846154</td>\n",
       "      <td>42.0</td>\n",
       "      <td>9.714286</td>\n",
       "      <td>81.0</td>\n",
       "      <td>14070.0</td>\n",
       "      <td>29.0</td>\n",
       "      <td>...</td>\n",
       "      <td>Верещагин</td>\n",
       "      <td>2018-05-25</td>\n",
       "      <td>ultra</td>\n",
       "      <td>1000</td>\n",
       "      <td>30720</td>\n",
       "      <td>3000</td>\n",
       "      <td>1950</td>\n",
       "      <td>150</td>\n",
       "      <td>1</td>\n",
       "      <td>1</td>\n",
       "    </tr>\n",
       "    <tr>\n",
       "      <td>4</td>\n",
       "      <td>1000</td>\n",
       "      <td>9</td>\n",
       "      <td>466</td>\n",
       "      <td>58</td>\n",
       "      <td>8.034483</td>\n",
       "      <td>46.0</td>\n",
       "      <td>10.130435</td>\n",
       "      <td>57.0</td>\n",
       "      <td>14581.0</td>\n",
       "      <td>27.0</td>\n",
       "      <td>...</td>\n",
       "      <td>Верещагин</td>\n",
       "      <td>2018-05-25</td>\n",
       "      <td>ultra</td>\n",
       "      <td>1000</td>\n",
       "      <td>30720</td>\n",
       "      <td>3000</td>\n",
       "      <td>1950</td>\n",
       "      <td>150</td>\n",
       "      <td>1</td>\n",
       "      <td>1</td>\n",
       "    </tr>\n",
       "    <tr>\n",
       "      <td>5</td>\n",
       "      <td>1000</td>\n",
       "      <td>10</td>\n",
       "      <td>350</td>\n",
       "      <td>57</td>\n",
       "      <td>6.140351</td>\n",
       "      <td>44.0</td>\n",
       "      <td>7.954545</td>\n",
       "      <td>73.0</td>\n",
       "      <td>14717.0</td>\n",
       "      <td>27.0</td>\n",
       "      <td>...</td>\n",
       "      <td>Верещагин</td>\n",
       "      <td>2018-05-25</td>\n",
       "      <td>ultra</td>\n",
       "      <td>1000</td>\n",
       "      <td>30720</td>\n",
       "      <td>3000</td>\n",
       "      <td>1950</td>\n",
       "      <td>150</td>\n",
       "      <td>1</td>\n",
       "      <td>1</td>\n",
       "    </tr>\n",
       "    <tr>\n",
       "      <td>6</td>\n",
       "      <td>1000</td>\n",
       "      <td>11</td>\n",
       "      <td>338</td>\n",
       "      <td>43</td>\n",
       "      <td>7.860465</td>\n",
       "      <td>37.0</td>\n",
       "      <td>9.135135</td>\n",
       "      <td>58.0</td>\n",
       "      <td>14768.0</td>\n",
       "      <td>24.0</td>\n",
       "      <td>...</td>\n",
       "      <td>Верещагин</td>\n",
       "      <td>2018-05-25</td>\n",
       "      <td>ultra</td>\n",
       "      <td>1000</td>\n",
       "      <td>30720</td>\n",
       "      <td>3000</td>\n",
       "      <td>1950</td>\n",
       "      <td>150</td>\n",
       "      <td>1</td>\n",
       "      <td>1</td>\n",
       "    </tr>\n",
       "    <tr>\n",
       "      <td>7</td>\n",
       "      <td>1000</td>\n",
       "      <td>12</td>\n",
       "      <td>333</td>\n",
       "      <td>46</td>\n",
       "      <td>7.239130</td>\n",
       "      <td>38.0</td>\n",
       "      <td>8.763158</td>\n",
       "      <td>70.0</td>\n",
       "      <td>9827.0</td>\n",
       "      <td>21.0</td>\n",
       "      <td>...</td>\n",
       "      <td>Верещагин</td>\n",
       "      <td>2018-05-25</td>\n",
       "      <td>ultra</td>\n",
       "      <td>1000</td>\n",
       "      <td>30720</td>\n",
       "      <td>3000</td>\n",
       "      <td>1950</td>\n",
       "      <td>150</td>\n",
       "      <td>1</td>\n",
       "      <td>1</td>\n",
       "    </tr>\n",
       "    <tr>\n",
       "      <td>8</td>\n",
       "      <td>1003</td>\n",
       "      <td>8</td>\n",
       "      <td>380</td>\n",
       "      <td>55</td>\n",
       "      <td>6.909091</td>\n",
       "      <td>43.0</td>\n",
       "      <td>8.837209</td>\n",
       "      <td>37.0</td>\n",
       "      <td>8571.0</td>\n",
       "      <td>15.0</td>\n",
       "      <td>...</td>\n",
       "      <td>Белякова</td>\n",
       "      <td>2018-08-17</td>\n",
       "      <td>ultra</td>\n",
       "      <td>1000</td>\n",
       "      <td>30720</td>\n",
       "      <td>3000</td>\n",
       "      <td>1950</td>\n",
       "      <td>150</td>\n",
       "      <td>1</td>\n",
       "      <td>1</td>\n",
       "    </tr>\n",
       "    <tr>\n",
       "      <td>9</td>\n",
       "      <td>1003</td>\n",
       "      <td>9</td>\n",
       "      <td>961</td>\n",
       "      <td>134</td>\n",
       "      <td>7.171642</td>\n",
       "      <td>105.0</td>\n",
       "      <td>9.152381</td>\n",
       "      <td>91.0</td>\n",
       "      <td>12479.0</td>\n",
       "      <td>22.0</td>\n",
       "      <td>...</td>\n",
       "      <td>Белякова</td>\n",
       "      <td>2018-08-17</td>\n",
       "      <td>ultra</td>\n",
       "      <td>1000</td>\n",
       "      <td>30720</td>\n",
       "      <td>3000</td>\n",
       "      <td>1950</td>\n",
       "      <td>150</td>\n",
       "      <td>1</td>\n",
       "      <td>1</td>\n",
       "    </tr>\n",
       "  </tbody>\n",
       "</table>\n",
       "<p>10 rows × 25 columns</p>\n",
       "</div>"
      ],
      "text/plain": [
       "   user_id  month  calls_sum  calls_count_with_zero  calls_mean_with_zero  \\\n",
       "0     1000      5        159                     22              7.227273   \n",
       "1     1000      6        172                     43              4.000000   \n",
       "2     1000      7        340                     47              7.234043   \n",
       "3     1000      8        408                     52              7.846154   \n",
       "4     1000      9        466                     58              8.034483   \n",
       "5     1000     10        350                     57              6.140351   \n",
       "6     1000     11        338                     43              7.860465   \n",
       "7     1000     12        333                     46              7.239130   \n",
       "8     1003      8        380                     55              6.909091   \n",
       "9     1003      9        961                    134              7.171642   \n",
       "\n",
       "   calls_count_without_zero  calls_mean_without_zero  message_counts  \\\n",
       "0                      17.0                 9.352941            22.0   \n",
       "1                      28.0                 6.142857            60.0   \n",
       "2                      41.0                 8.292683            75.0   \n",
       "3                      42.0                 9.714286            81.0   \n",
       "4                      46.0                10.130435            57.0   \n",
       "5                      44.0                 7.954545            73.0   \n",
       "6                      37.0                 9.135135            58.0   \n",
       "7                      38.0                 8.763158            70.0   \n",
       "8                      43.0                 8.837209            37.0   \n",
       "9                     105.0                 9.152381            91.0   \n",
       "\n",
       "   mb_used_sum  internet_sessions_count  ...  last_name   reg_date  \\\n",
       "0       2256.0                      5.0  ...  Верещагин 2018-05-25   \n",
       "1      23257.0                     49.0  ...  Верещагин 2018-05-25   \n",
       "2      14016.0                     29.0  ...  Верещагин 2018-05-25   \n",
       "3      14070.0                     29.0  ...  Верещагин 2018-05-25   \n",
       "4      14581.0                     27.0  ...  Верещагин 2018-05-25   \n",
       "5      14717.0                     27.0  ...  Верещагин 2018-05-25   \n",
       "6      14768.0                     24.0  ...  Верещагин 2018-05-25   \n",
       "7       9827.0                     21.0  ...  Верещагин 2018-05-25   \n",
       "8       8571.0                     15.0  ...   Белякова 2018-08-17   \n",
       "9      12479.0                     22.0  ...   Белякова 2018-08-17   \n",
       "\n",
       "  tariff_name messages_included mb_per_month_included minutes_included  \\\n",
       "0       ultra              1000                 30720             3000   \n",
       "1       ultra              1000                 30720             3000   \n",
       "2       ultra              1000                 30720             3000   \n",
       "3       ultra              1000                 30720             3000   \n",
       "4       ultra              1000                 30720             3000   \n",
       "5       ultra              1000                 30720             3000   \n",
       "6       ultra              1000                 30720             3000   \n",
       "7       ultra              1000                 30720             3000   \n",
       "8       ultra              1000                 30720             3000   \n",
       "9       ultra              1000                 30720             3000   \n",
       "\n",
       "  rub_monthly_fee rub_per_gb  rub_per_message  rub_per_minute  \n",
       "0            1950        150                1               1  \n",
       "1            1950        150                1               1  \n",
       "2            1950        150                1               1  \n",
       "3            1950        150                1               1  \n",
       "4            1950        150                1               1  \n",
       "5            1950        150                1               1  \n",
       "6            1950        150                1               1  \n",
       "7            1950        150                1               1  \n",
       "8            1950        150                1               1  \n",
       "9            1950        150                1               1  \n",
       "\n",
       "[10 rows x 25 columns]"
      ]
     },
     "execution_count": 56,
     "metadata": {},
     "output_type": "execute_result"
    }
   ],
   "source": [
    "df = calls_pivot.copy()\n",
    "df = df.join(messages_pivot).join(internet_pivot).reset_index().merge(users, on='user_id').merge(tariffs, on='tariff_name')\n",
    "df.head(10)"
   ]
  },
  {
   "cell_type": "markdown",
   "metadata": {},
   "source": [
    "<div class=\"alert alert-block alert-success\">\n",
    "<h2>Комментарий от ревьювера (все здОрово)</h2> \n",
    "    \n",
    "Отличная часть, классно \"джойнишь\". Это не так просто, как кажется)\n",
    "</div>"
   ]
  },
  {
   "cell_type": "code",
   "execution_count": 57,
   "metadata": {},
   "outputs": [],
   "source": [
    "# функция рассчитывает превышение пользователем выделенных ему минут в тарифе\n",
    "def out_of_tariff_minutes_calc(data):\n",
    "    if data['calls_sum'] > data['minutes_included']:\n",
    "        return data['calls_sum'] - data['minutes_included']\n",
    "    else:\n",
    "        return 0"
   ]
  },
  {
   "cell_type": "code",
   "execution_count": 58,
   "metadata": {},
   "outputs": [
    {
     "data": {
      "text/plain": [
       "count    3174.000000\n",
       "mean       29.218336\n",
       "std        73.464047\n",
       "min         0.000000\n",
       "25%         0.000000\n",
       "50%         0.000000\n",
       "75%         0.000000\n",
       "max       935.000000\n",
       "Name: out_of_tariff_minutes, dtype: float64"
      ]
     },
     "execution_count": 58,
     "metadata": {},
     "output_type": "execute_result"
    }
   ],
   "source": [
    "df['out_of_tariff_minutes'] = df.apply(out_of_tariff_minutes_calc, axis=1)\n",
    "df['out_of_tariff_minutes'].describe()"
   ]
  },
  {
   "cell_type": "markdown",
   "metadata": {},
   "source": [
    "В большинстве случаев пользователи не превышают количетво выделенных им в тарифе минут, однако те кто превышают делают это в cреднем на 29 минут."
   ]
  },
  {
   "cell_type": "code",
   "execution_count": 59,
   "metadata": {},
   "outputs": [],
   "source": [
    "# функция рассчитывает превышение пользователем выделенных ему сообщений в тарифе\n",
    "def out_of_tariff_messages_calc(data):\n",
    "    if data['message_counts'] > data['messages_included']:\n",
    "        return data['message_counts'] - data['messages_included']\n",
    "    else:\n",
    "        return 0"
   ]
  },
  {
   "cell_type": "code",
   "execution_count": 60,
   "metadata": {},
   "outputs": [
    {
     "data": {
      "text/plain": [
       "count    3174.000000\n",
       "mean        4.073094\n",
       "std        11.572311\n",
       "min         0.000000\n",
       "25%         0.000000\n",
       "50%         0.000000\n",
       "75%         0.000000\n",
       "max        93.000000\n",
       "Name: out_of_tariff_messages, dtype: float64"
      ]
     },
     "execution_count": 60,
     "metadata": {},
     "output_type": "execute_result"
    }
   ],
   "source": [
    "df['out_of_tariff_messages'] = df.apply(out_of_tariff_messages_calc, axis=1)\n",
    "df['out_of_tariff_messages'].describe()"
   ]
  },
  {
   "cell_type": "markdown",
   "metadata": {},
   "source": [
    "Опять же в большинстве случаев пользователи не превышают число выделенных им сообщений, а те кто превышают делают это в среднем на 4 сообщения"
   ]
  },
  {
   "cell_type": "code",
   "execution_count": 61,
   "metadata": {},
   "outputs": [],
   "source": [
    "# функция рассчитывает превышение пользователем выделенного ему трафика\n",
    "def out_of_tariff_mb_calc(data):\n",
    "    if data['mb_used_sum'] > data['mb_per_month_included']:\n",
    "        return data['mb_used_sum'] - data['mb_per_month_included']\n",
    "    else:\n",
    "        return 0"
   ]
  },
  {
   "cell_type": "markdown",
   "metadata": {},
   "source": [
    "<div class=\"alert alert-block alert-warning\">\n",
    "<h2>Комментарий от ревьювера (принимаем к размышлению)</h2> \n",
    "    \n",
    "Можно все твои расчетные функции объеденить в одну) Впрочем, у тебя не ошибка, тут больше вопрос рациональности)\n",
    "</div>"
   ]
  },
  {
   "cell_type": "code",
   "execution_count": 62,
   "metadata": {},
   "outputs": [
    {
     "data": {
      "text/plain": [
       "count     3174.000000\n",
       "mean      2170.484877\n",
       "std       3430.645335\n",
       "min          0.000000\n",
       "25%          0.000000\n",
       "50%          0.000000\n",
       "75%       3608.750000\n",
       "max      23250.000000\n",
       "Name: out_of_tariff_mb, dtype: float64"
      ]
     },
     "execution_count": 62,
     "metadata": {},
     "output_type": "execute_result"
    }
   ],
   "source": [
    "df['out_of_tariff_mb'] = df.apply(out_of_tariff_mb_calc, axis=1)\n",
    "df['out_of_tariff_mb'].describe()"
   ]
  },
  {
   "cell_type": "markdown",
   "metadata": {},
   "source": [
    "Людей которые превышают размер выделенного им трафика гораздо больше чем людей превышающих выделенное количество минут или сообщений (75% квантиль не нулевой в отличии от предыдущих случаев) и делают они это в среднем на 2 ГБ."
   ]
  },
  {
   "cell_type": "code",
   "execution_count": 63,
   "metadata": {},
   "outputs": [],
   "source": [
    "# функция рассчитывает общий доход от пользователя за месяц\n",
    "def user_income_calc(data):\n",
    "    user_income = (data['out_of_tariff_minutes'] * data['rub_per_minute'] +\n",
    "                  data['out_of_tariff_messages'] * data['rub_per_message'] +\n",
    "                  np.ceil(data['out_of_tariff_mb'] / 1024) * data['rub_per_gb'] +\n",
    "                  data['rub_monthly_fee'])\n",
    "    return user_income"
   ]
  },
  {
   "cell_type": "markdown",
   "metadata": {},
   "source": [
    "<div class=\"alert alert-block alert-danger\">\n",
    "<h2>Комментарий от ревьювера (недочет, который нужно доработать)</h2> \n",
    "    \n",
    "Смотри, тут есть небольшая неточность.   После приведения мегабайт в гигабайты, у тебя получилось нейкое дробное число. А оператор берет деньги строго за 1 гигабайт сверх лимита:) т.е. если человек потратил 12,2 Гб, то оплатит он 13 Гб)\n",
    "</div>"
   ]
  },
  {
   "cell_type": "markdown",
   "metadata": {},
   "source": [
    "<div class=\"alert alert-block alert-info\">\n",
    "<b>КОММЕНТАРИЙ ОТ УЧЕНИКА:</b> Добавлено округление количества потраченных ГБ вверх\n",
    "</div>"
   ]
  },
  {
   "cell_type": "code",
   "execution_count": 64,
   "metadata": {},
   "outputs": [
    {
     "data": {
      "text/plain": [
       "count    3174.000000\n",
       "mean     1528.182420\n",
       "std       801.873337\n",
       "min       550.000000\n",
       "25%       750.000000\n",
       "50%      1638.500000\n",
       "75%      1950.000000\n",
       "max      6770.000000\n",
       "Name: user_income, dtype: float64"
      ]
     },
     "execution_count": 64,
     "metadata": {},
     "output_type": "execute_result"
    }
   ],
   "source": [
    "df['user_income'] = df.apply(user_income_calc, axis=1)\n",
    "df['user_income'].describe()"
   ]
  },
  {
   "cell_type": "markdown",
   "metadata": {},
   "source": [
    "В среднем один пользователь в представленной выборке приносит 1528 руб в месяц."
   ]
  },
  {
   "cell_type": "markdown",
   "metadata": {},
   "source": [
    "<div class=\"alert alert-block alert-danger\">\n",
    "<h2>Комментарий от ревьювера (недочет, который нужно доработать)</h2> \n",
    "    \n",
    "Кажется, у тебя пропущена, ну или неполная часть \n",
    "    \n",
    "    Опишите поведение клиентов оператора, исходя из выборки. Сколько минут разговора, сколько сообщений и какой объём интернет-трафика требуется пользователям каждого тарифа в месяц? Посчитайте среднее количество, дисперсию и стандартное отклонение. Постройте гистограммы. Опишите распределения.\n",
    "    \n",
    "Давай сделаем отдельтную часть, куда перенесем(дополним) исследования.\n",
    "</div>"
   ]
  },
  {
   "cell_type": "markdown",
   "metadata": {},
   "source": [
    "### Оценка поведения клиентов оператора исходя из выборки\n",
    "#### Оценка длительности разговора\n",
    "Гистограмма распределения длительности звонков сделаных одним пользователем за месяц приведена выше. Распределение близко к нормальному распределению. Оценим среднюю длительность, СКО и дисперсию распределения"
   ]
  },
  {
   "cell_type": "code",
   "execution_count": 65,
   "metadata": {},
   "outputs": [
    {
     "data": {
      "text/plain": [
       "mean      456.931632\n",
       "std       238.031270\n",
       "var     56658.885649\n",
       "Name: calls_sum, dtype: float64"
      ]
     },
     "execution_count": 65,
     "metadata": {},
     "output_type": "execute_result"
    }
   ],
   "source": [
    "calls_pivot['calls_sum'].agg(['mean', 'std', 'var'])"
   ]
  },
  {
   "cell_type": "markdown",
   "metadata": {},
   "source": [
    "В среднем разговор длится 457 минут. Порядка 95% разговоров укладывается в диапазон от 0 до 933 минут (mean+2\\*std)"
   ]
  },
  {
   "cell_type": "markdown",
   "metadata": {},
   "source": [
    "#### Оценка количества сообщений\n",
    "Гистограмма распределения количества сообщений сделаных одним пользователем за месяц приведена выше. Распределение является скошенным. Оценим среднее количество отправленных сообщений, СКО и дисперсию распределения"
   ]
  },
  {
   "cell_type": "code",
   "execution_count": 66,
   "metadata": {},
   "outputs": [
    {
     "data": {
      "text/plain": [
       "mean      45.283769\n",
       "std       35.051363\n",
       "var     1228.598017\n",
       "Name: message_counts, dtype: float64"
      ]
     },
     "execution_count": 66,
     "metadata": {},
     "output_type": "execute_result"
    }
   ],
   "source": [
    "messages_pivot['message_counts'].agg(['mean', 'std', 'var'])"
   ]
  },
  {
   "cell_type": "markdown",
   "metadata": {},
   "source": [
    "В среднем пользователь отправляет 45 сообщений в месяц. Большинство пользователей отправляют не более 115 сообщений в месяц (mean+2*std)"
   ]
  },
  {
   "cell_type": "markdown",
   "metadata": {},
   "source": [
    "#### Оценка объема интернет-трафика\n",
    "Гистограмма распределения количества трафика потраченного одним пользователем за месяц приведена выше. Распределение близко к нормальному. Оценим среднюю величину потребляемого трафика, СКО и дисперсию распределения"
   ]
  },
  {
   "cell_type": "code",
   "execution_count": 67,
   "metadata": {
    "scrolled": true
   },
   "outputs": [
    {
     "data": {
      "text/plain": [
       "mean    1.728675e+04\n",
       "std     7.523580e+03\n",
       "var     5.660426e+07\n",
       "Name: mb_used_sum, dtype: float64"
      ]
     },
     "execution_count": 67,
     "metadata": {},
     "output_type": "execute_result"
    }
   ],
   "source": [
    "internet_pivot['mb_used_sum'].agg(['mean', 'std', 'var'])"
   ]
  },
  {
   "cell_type": "markdown",
   "metadata": {},
   "source": [
    "В среднем пользователь потребляет 17 ГБ трафика в месяц. Порядка 95% пользователей в месяц потребляют от 2 ГБ (mean-2\\*std) до 32 ГБ (mean+2\\*std)"
   ]
  },
  {
   "cell_type": "markdown",
   "metadata": {},
   "source": [
    "<div class=\"alert alert-block alert-success\">\n",
    "<h2>Комментарий от ревьювера V2</h2> \n",
    "\n",
    "Хорошо, молодец, что заметил склонность к нормальному распределению)"
   ]
  },
  {
   "cell_type": "markdown",
   "metadata": {},
   "source": [
    "## Шаг 4. Проверьте гипотезы\n",
    "### Проверим различается ли средняя выручка пользователей тарифов «Ультра» и «Смарт»\n",
    "Построим гистограммы месячной доходности пользователей отдельно для тарифов \"смарт\" и \"ультра\""
   ]
  },
  {
   "cell_type": "code",
   "execution_count": 68,
   "metadata": {},
   "outputs": [],
   "source": [
    "user_income_by_smart_tariff = df[df['tariff_name']=='smart']['user_income']\n",
    "user_income_by_ultra_tariff = df[df['tariff_name']=='ultra']['user_income']"
   ]
  },
  {
   "cell_type": "code",
   "execution_count": 69,
   "metadata": {
    "scrolled": true
   },
   "outputs": [
    {
     "data": {
      "image/png": "[encoded data removed]",
      "text/plain": [
       "<Figure size 1080x360 with 1 Axes>"
      ]
     },
     "metadata": {
      "needs_background": "light"
     },
     "output_type": "display_data"
    }
   ],
   "source": [
    "(user_income_by_smart_tariff.hist(bins=51, range=(0, 6000) , figsize=(15, 5), alpha=0.75)\n",
    " .set(xlabel='Прибыль от одного пользователя за месяц (руб)', \n",
    "      ylabel='Количество пользователей',  \n",
    "      title='Распределение прибыли приносимой одним пользователем тарифа \"Смарт\" за месяц'));"
   ]
  },
  {
   "cell_type": "code",
   "execution_count": 70,
   "metadata": {
    "scrolled": true
   },
   "outputs": [
    {
     "data": {
      "text/plain": [
       "count    2223.000000\n",
       "mean     1295.569501\n",
       "std       821.648034\n",
       "min       550.000000\n",
       "25%       550.000000\n",
       "50%      1039.000000\n",
       "75%      1750.000000\n",
       "max      6770.000000\n",
       "Name: user_income, dtype: float64"
      ]
     },
     "execution_count": 70,
     "metadata": {},
     "output_type": "execute_result"
    }
   ],
   "source": [
    "user_income_by_smart_tariff.describe()"
   ]
  },
  {
   "cell_type": "code",
   "execution_count": 71,
   "metadata": {},
   "outputs": [
    {
     "data": {
      "image/png": "[encoded data removed]",
      "text/plain": [
       "<Figure size 1080x360 with 1 Axes>"
      ]
     },
     "metadata": {
      "needs_background": "light"
     },
     "output_type": "display_data"
    }
   ],
   "source": [
    "(user_income_by_ultra_tariff.hist(bins=51, range=(0, 6000) , figsize=(15, 5), alpha=0.75)\n",
    " .set(xlabel='Прибыль от одного пользователя за месяц (руб)', \n",
    "      ylabel='Количество пользователей',  \n",
    "      title='Распределение прибыли приносимой одним пользователем тарифа \"Ультра\" за месяц'));"
   ]
  },
  {
   "cell_type": "code",
   "execution_count": 72,
   "metadata": {},
   "outputs": [
    {
     "data": {
      "text/plain": [
       "count     951.000000\n",
       "mean     2071.924290\n",
       "std       382.106872\n",
       "min      1950.000000\n",
       "25%      1950.000000\n",
       "50%      1950.000000\n",
       "75%      1950.000000\n",
       "max      4800.000000\n",
       "Name: user_income, dtype: float64"
      ]
     },
     "execution_count": 72,
     "metadata": {},
     "output_type": "execute_result"
    }
   ],
   "source": [
    "user_income_by_ultra_tariff.describe()"
   ]
  },
  {
   "cell_type": "markdown",
   "metadata": {},
   "source": [
    "Средняя выручка пользователей тарифа \"Смарт\" по выборке в 1,6 раза ниже средней выручки пользователей тарифа \"Ультра\" (1295 руб против 2072 руб). При этом суммарное количество месяцев в выборке которым пользуются тарифом \"Смарт\" более чем в два раза выше чем аналогичный параметр у второго тарифа (2223 против 951).\n",
    "Для того чтобы убедится в том что такие результаты могут быть достоверными проведем t-тест. В качестве нулевой гипотезы примем, что доходы от пользователей обоих тарифов равны, альтернативная же гипотеза заключается в том что пользователи одного из тарифов приносят большую выручку."
   ]
  },
  {
   "cell_type": "markdown",
   "metadata": {},
   "source": [
    "<div class=\"alert alert-block alert-warning\">\n",
    "<h2>Комментарий от ревьювера (принимаем к размышлению)</h2> \n",
    "    \n",
    "Лучше всего, если это будет выглядеть так.\n",
    "\n",
    "    H0: Средняя выручка оператора от пользователей из Москвы равна средней выручке пользователей из регионов.\n",
    "    \n",
    "    H1: Средняя выручка оператора от пользователей из Москвы отличается от выручки пользователей из регионов.\n",
    "</div>"
   ]
  },
  {
   "cell_type": "code",
   "execution_count": 73,
   "metadata": {},
   "outputs": [
    {
     "name": "stdout",
     "output_type": "stream",
     "text": [
      "p-значение:  1.8405224159827356e-241\n",
      "Гипотеза о равенстве средних выручек двух тарифов отвергнута\n"
     ]
    }
   ],
   "source": [
    "from scipy import stats as st\n",
    "\n",
    "alpha = 0.05\n",
    "\n",
    "results = st.ttest_ind(user_income_by_smart_tariff, user_income_by_ultra_tariff, equal_var = False)\n",
    "\n",
    "print('p-значение: ', results.pvalue)\n",
    "if results.pvalue < alpha:\n",
    "    print('Гипотеза о равенстве средних выручек двух тарифов отвергнута')\n",
    "else:\n",
    "    print('Не получилось отвергнуть гипотезу о равенстве средних выручек двух тарифов')"
   ]
  },
  {
   "cell_type": "markdown",
   "metadata": {},
   "source": [
    "Таким образом, учитывая что средний доход от пользователей тарифа \"Ультра\" выше, можно сделать вывод, что привлечение пользователей на данный тариф принесет большую выручку."
   ]
  },
  {
   "cell_type": "markdown",
   "metadata": {},
   "source": [
    "### Проверим различается ли средняя выручка пользователей из Москвы от выручки пользователей из других регионов\n",
    "Построим гистограммы месячной доходности пользователей отдельно для Москвы и остальных регионов"
   ]
  },
  {
   "cell_type": "code",
   "execution_count": 74,
   "metadata": {},
   "outputs": [],
   "source": [
    "user_income_in_moscow = df[df['city']=='Москва']['user_income']\n",
    "user_income_in_other_cities = df[df['city']!='Москва']['user_income']"
   ]
  },
  {
   "cell_type": "code",
   "execution_count": 75,
   "metadata": {},
   "outputs": [
    {
     "data": {
      "image/png": "[encoded data removed]",
      "text/plain": [
       "<Figure size 1080x360 with 1 Axes>"
      ]
     },
     "metadata": {
      "needs_background": "light"
     },
     "output_type": "display_data"
    }
   ],
   "source": [
    "(user_income_in_moscow.hist(bins=51, range=(0, 6000) , figsize=(15, 5))\n",
    " .set(xlabel='Прибыль от одного пользователя за месяц (руб)', \n",
    "      ylabel='Количество пользователей',  \n",
    "      title='Распределение прибыли приносимой одним пользователем из Москвы за месяц'));"
   ]
  },
  {
   "cell_type": "code",
   "execution_count": 76,
   "metadata": {},
   "outputs": [
    {
     "data": {
      "text/plain": [
       "count     610.000000\n",
       "mean     1550.150820\n",
       "std       752.894829\n",
       "min       550.000000\n",
       "25%       798.000000\n",
       "50%      1750.000000\n",
       "75%      1950.000000\n",
       "max      5321.000000\n",
       "Name: user_income, dtype: float64"
      ]
     },
     "execution_count": 76,
     "metadata": {},
     "output_type": "execute_result"
    }
   ],
   "source": [
    "user_income_in_moscow.describe()"
   ]
  },
  {
   "cell_type": "code",
   "execution_count": 77,
   "metadata": {},
   "outputs": [
    {
     "data": {
      "image/png": "[encoded data removed]",
      "text/plain": [
       "<Figure size 1080x360 with 1 Axes>"
      ]
     },
     "metadata": {
      "needs_background": "light"
     },
     "output_type": "display_data"
    }
   ],
   "source": [
    "(user_income_in_other_cities.hist(bins=51, range=(0, 6000) , figsize=(15, 5))\n",
    " .set(xlabel='Прибыль от одного пользователя за месяц (руб)', \n",
    "      ylabel='Количество пользователей',  \n",
    "      title='Распределение прибыли приносимой одним пользователем из остальных регионов за месяц'));"
   ]
  },
  {
   "cell_type": "code",
   "execution_count": 78,
   "metadata": {},
   "outputs": [
    {
     "data": {
      "text/plain": [
       "count    2564.000000\n",
       "mean     1522.955928\n",
       "std       813.144365\n",
       "min       550.000000\n",
       "25%       750.000000\n",
       "50%      1557.500000\n",
       "75%      1950.000000\n",
       "max      6770.000000\n",
       "Name: user_income, dtype: float64"
      ]
     },
     "execution_count": 78,
     "metadata": {},
     "output_type": "execute_result"
    }
   ],
   "source": [
    "user_income_in_other_cities.describe()"
   ]
  },
  {
   "cell_type": "markdown",
   "metadata": {},
   "source": [
    "Средняя выручка в месяц приходящаяся на одного пользователя из Москвы составляет 1550 руб. Пользователь из регионов приносит в среднем сопоставимую сумму - 1523 руб в месяц. Проверим гипотезу о равенстве выручек от пользователей в Москве и в регионах (нулевая гипотеза). Альтернативная гипотеза состоит в том что выручки от пользователей а Москве и регионах не одинаковые"
   ]
  },
  {
   "cell_type": "code",
   "execution_count": 79,
   "metadata": {},
   "outputs": [
    {
     "name": "stdout",
     "output_type": "stream",
     "text": [
      "p-значение:  0.4516335152984994\n",
      "Не получилось отвергнуть гипотезу о равенстве средних выручек в Москве и других регионах\n"
     ]
    }
   ],
   "source": [
    "alpha = 0.05\n",
    "\n",
    "results = st.ttest_ind(user_income_in_moscow, user_income_in_other_cities, equal_var = True)\n",
    "\n",
    "print('p-значение: ', results.pvalue)\n",
    "if results.pvalue < alpha:\n",
    "    print('Гипотеза о равенстве средних выручек в Москве и других регионах отвергнута')\n",
    "else:\n",
    "    print('Не получилось отвергнуть гипотезу о равенстве средних выручек в Москве и других регионах')"
   ]
  },
  {
   "cell_type": "markdown",
   "metadata": {},
   "source": [
    "То, что пользователи в Москве и в других регионах могут приносить оператору одинаковую выручку - вероятно."
   ]
  },
  {
   "cell_type": "markdown",
   "metadata": {},
   "source": [
    "<div class=\"alert alert-block alert-warning\">\n",
    "<h2>Комментарий от ревьювера (принимаем к размышлению)</h2> \n",
    "    \n",
    "Если мы используем т-тест, нужно это обосновать, типа \"В данном тесте мы используем статистический критерий Стьюдента, потому что то-то и то-то, данные распределены так-то, и представляют из себя ...\" Это исправлять не нужно, но на будущее учти)\n",
    "\n",
    "Посмотри тут: https://www.youtube.com/watch?v=ZaZYy0YUdY8&feature=emb_logo\n",
    "\n",
    "А чтоб окончательно взорвать тебе мозг, прочитай тут: https://drive.google.com/file/d/1SqcimkyF4iGjgT8Yhlmx-tOXV-ejmFev/view?usp=sharing\n",
    "</div>"
   ]
  },
  {
   "cell_type": "markdown",
   "metadata": {},
   "source": [
    "<div class=\"alert alert-block alert-danger\">\n",
    "<h2>Комментарий от ревьювера (недочет, который нужно доработать)</h2> \n",
    "    \n",
    "Прокоментируй, как ты определяешь параметр equal_var. Лучше сравнить дисперсии, чтоб определиться правильно)"
   ]
  },
  {
   "cell_type": "markdown",
   "metadata": {},
   "source": [
    "<div class=\"alert alert-block alert-info\">\n",
    "<b>КОММЕНТАРИЙ ОТ УЧЕНИКА: </b>\n",
    "    \n",
    "   1. В случае сравнения средних выручек двух тарифов можно посмотреть на СКО выручки одного тарифа и второго из метода describe (822 руб для тарифа \"смарт\" и 382 руб для тарифа \"Ультра\"). Поскольку дисперсия это квадрат СКО, то в случае существенных различий СКО (более чем в два раза в данном случае) так же существенно будет отличатся и дисперсия двух выборок, поэтому в первом случае после анализа данных полученных методом describe параметр equal_var стоит в значении False.\n",
    "    \n",
    "   2. Во втором случае СКО распределений, а как следствие и дисперсии близки. Поэтому во втором случае параметр equal_var установлен в значении True\n",
    "</div>"
   ]
  },
  {
   "cell_type": "markdown",
   "metadata": {},
   "source": [
    "<div class=\"alert alert-block alert-success\">\n",
    "<h2>Комментарий от ревьювера V2</h2> \n",
    "\n",
    "Все верно - молодец)"
   ]
  },
  {
   "cell_type": "markdown",
   "metadata": {},
   "source": [
    "## Шаг 5. Общий вывод"
   ]
  },
  {
   "cell_type": "markdown",
   "metadata": {},
   "source": [
    "**В процессе данного исследования были проведены следующие работы:**\n",
    "1. Проведен обзор предоставленных данных, изучена общая информация\n",
    "2. Проведена подготовка данных, заменены типы данных\n",
    "3. Оценено количество сделанных звонков и израсходованных минут разговора пользователей по месяцам, количество отправленных сообщений по месяцам, объем израсходованного интернет-трафика по месяцам, месячная выручка с каждого пользователя.\n",
    "4. Проверены гипотезы о том что средняя выручка пользователей тарифов «Ультра» и «Смарт» различается и о том что средняя выручка пользователей из Москвы отличается от выручки пользователей из других регионов\n",
    "\n",
    "**По результатам исследования установлено:**\n",
    "* В среднем пользователи тратят 457 минут (порядка 8 ч) в месяц на разговоры, при этом средняя продолжительность разговора в выборке составляет - 8,4 мин. Средний пользователь в месяц совершает 51 разговор и еще 13 звонков остаются без ответа.\n",
    "* В среднем один пользователь отправляет 45 сообщений в месяц\n",
    "* В среднем каждый пользователь потребляет порядка 17 ГБ трафика в месяц, средний потребляемый за сессию трафик составляет 426 МБ\n",
    "* Людей которые превышают размер выделенного им трафика гораздо больше чем людей превышающих выделенное количество минут или сообщений и делают они это в среднем на 2 ГБ.\n",
    "* Один средний пользователь в представленной выборке приносит 1528 руб в месяц.\n",
    "* Средняя выручка пользователей тарифа \"Смарт\" по выборке в 1,6 раза ниже средней выручки пользователей тарифа \"Ультра\" (1295 руб против 2072 руб).\n",
    "* Гипотеза о том что средняя выручка пользователей тарифов «Ультра» и «Смарт» одинакова отвергнута. Средняя выручка отличается.\n",
    "* Средняя выручка в месяц приходящаяся на одного пользователя в выборке из Москвы составляет 1550 руб. \n",
    "* Пользователь из регионов приносит в среднем - 1523 руб в месяц.\n",
    "* То, что пользователи в Москве и в других регионах могут приносить оператору одинаковую выручку - вероятно.\n",
    "\n",
    "\n",
    "**Рекомендации:**\n",
    "* Учитывая что средний доход от пользователей тарифа \"Ультра\" выше, а количество пользователей меньше, рекомендуется проработать возможность увеличения количества пользователей привлекаемых на данный тариф."
   ]
  },
  {
   "cell_type": "markdown",
   "metadata": {},
   "source": [
    "## <span style=\"color:magenta\">В заключении) </span>\n",
    "\n",
    "Мне очень понравилась твоя работа! Все рассуждения верные. Очень логичные и осмысленные. Ничего лишнего, все по полкам. \n",
    "\n",
    "Ты показываешь хорошее владение всем изучаемым в модуле материалом. Уверенно пользуешься pandas, строишь отличные наглядные таблички, отличные визуализации. Делаешь четкие обоснованные выводы.\n",
    "\n",
    "Поисправляй недочеты, и проект будет просто класс!\n",
    "\n",
    "Короче, молодец! Жду твоих исправлений)\n",
    "\n",
    "<img src=\"https://avatars.mds.yandex.net/get-pdb/2402172/12f53009-3c0e-4655-87c6-606d139bbf8e/s1200?webp=false\" width=\"300\">"
   ]
  }
 ],
 "metadata": {
  "kernelspec": {
   "display_name": "Python 3",
   "language": "python",
   "name": "python3"
  },
  "language_info": {
   "codemirror_mode": {
    "name": "ipython",
    "version": 3
   },
   "file_extension": ".py",
   "mimetype": "text/x-python",
   "name": "python",
   "nbconvert_exporter": "python",
   "pygments_lexer": "ipython3",
   "version": "3.7.6"
  }
 },
 "nbformat": 4,
 "nbformat_minor": 2
}
