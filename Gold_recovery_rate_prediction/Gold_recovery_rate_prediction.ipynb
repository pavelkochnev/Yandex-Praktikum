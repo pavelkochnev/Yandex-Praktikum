{
 "cells": [
  {
   "cell_type": "markdown",
   "metadata": {},
   "source": [
    "# Предсказание коэффициента восстановления золота\n",
    "\n",
    "Необходимо подготовить прототип модели машинного обучения для «Цифры». Компания разрабатывает решения для эффективной работы промышленных предприятий.\n",
    "\n",
    "Модель должна предсказать коэффициент восстановления золота из золотосодержащей руды. В распоряжении имеются данные с параметрами добычи и очистки. \n",
    "\n",
    "Модель поможет оптимизировать производство, чтобы не запускать предприятие с убыточными характеристиками.\n",
    "\n",
    "______\n",
    "\n",
    "###### Данное исследование разделено на несколько частей.\n",
    "\n",
    "* [1. Подготовка данных.](#section1)\n",
    "* [2. Исследовательский анализ.](#section2)\n",
    "* [3. Построение модели.](#section3)\n",
    "* [4. Выводы.](#section4)\n",
    "\n",
    "______"
   ]
  },
  {
   "cell_type": "markdown",
   "metadata": {},
   "source": [
    "<a id='section1'> </a>\n",
    "\n",
    "# 1. Подготовка данных"
   ]
  },
  {
   "cell_type": "code",
   "execution_count": 1,
   "metadata": {},
   "outputs": [],
   "source": [
    "import pandas as pd\n",
    "import numpy as np\n",
    "from sklearn.metrics import mean_absolute_error, make_scorer\n",
    "from sklearn.model_selection import train_test_split, cross_val_score\n",
    "from sklearn.preprocessing import StandardScaler\n",
    "from sklearn.linear_model import LinearRegression\n",
    "from sklearn.ensemble import RandomForestRegressor, VotingRegressor\n",
    "from sklearn.dummy import DummyRegressor\n",
    "from tqdm.notebook import tqdm\n",
    "from catboost import Pool, cv, CatBoostRegressor\n",
    "np.set_printoptions(precision=4)"
   ]
  },
  {
   "cell_type": "code",
   "execution_count": 2,
   "metadata": {},
   "outputs": [],
   "source": [
    "train = pd.read_csv('./datasets/gold_recovery_train.csv')\n",
    "train_init_len = len(train)"
   ]
  },
  {
   "cell_type": "code",
   "execution_count": 3,
   "metadata": {},
   "outputs": [
    {
     "data": {
      "text/html": [
       "<div>\n",
       "<style scoped>\n",
       "    .dataframe tbody tr th:only-of-type {\n",
       "        vertical-align: middle;\n",
       "    }\n",
       "\n",
       "    .dataframe tbody tr th {\n",
       "        vertical-align: top;\n",
       "    }\n",
       "\n",
       "    .dataframe thead th {\n",
       "        text-align: right;\n",
       "    }\n",
       "</style>\n",
       "<table border=\"1\" class=\"dataframe\">\n",
       "  <thead>\n",
       "    <tr style=\"text-align: right;\">\n",
       "      <th></th>\n",
       "      <th>date</th>\n",
       "      <th>final.output.concentrate_ag</th>\n",
       "      <th>final.output.concentrate_pb</th>\n",
       "      <th>final.output.concentrate_sol</th>\n",
       "      <th>final.output.concentrate_au</th>\n",
       "      <th>final.output.recovery</th>\n",
       "      <th>final.output.tail_ag</th>\n",
       "      <th>final.output.tail_pb</th>\n",
       "      <th>final.output.tail_sol</th>\n",
       "      <th>final.output.tail_au</th>\n",
       "      <th>...</th>\n",
       "      <th>secondary_cleaner.state.floatbank4_a_air</th>\n",
       "      <th>secondary_cleaner.state.floatbank4_a_level</th>\n",
       "      <th>secondary_cleaner.state.floatbank4_b_air</th>\n",
       "      <th>secondary_cleaner.state.floatbank4_b_level</th>\n",
       "      <th>secondary_cleaner.state.floatbank5_a_air</th>\n",
       "      <th>secondary_cleaner.state.floatbank5_a_level</th>\n",
       "      <th>secondary_cleaner.state.floatbank5_b_air</th>\n",
       "      <th>secondary_cleaner.state.floatbank5_b_level</th>\n",
       "      <th>secondary_cleaner.state.floatbank6_a_air</th>\n",
       "      <th>secondary_cleaner.state.floatbank6_a_level</th>\n",
       "    </tr>\n",
       "  </thead>\n",
       "  <tbody>\n",
       "    <tr>\n",
       "      <th>0</th>\n",
       "      <td>2016-01-15 00:00:00</td>\n",
       "      <td>6.055403</td>\n",
       "      <td>9.889648</td>\n",
       "      <td>5.507324</td>\n",
       "      <td>42.192020</td>\n",
       "      <td>70.541216</td>\n",
       "      <td>10.411962</td>\n",
       "      <td>0.895447</td>\n",
       "      <td>16.904297</td>\n",
       "      <td>2.143149</td>\n",
       "      <td>...</td>\n",
       "      <td>14.016835</td>\n",
       "      <td>-502.488007</td>\n",
       "      <td>12.099931</td>\n",
       "      <td>-504.715942</td>\n",
       "      <td>9.925633</td>\n",
       "      <td>-498.310211</td>\n",
       "      <td>8.079666</td>\n",
       "      <td>-500.470978</td>\n",
       "      <td>14.151341</td>\n",
       "      <td>-605.841980</td>\n",
       "    </tr>\n",
       "    <tr>\n",
       "      <th>1</th>\n",
       "      <td>2016-01-15 01:00:00</td>\n",
       "      <td>6.029369</td>\n",
       "      <td>9.968944</td>\n",
       "      <td>5.257781</td>\n",
       "      <td>42.701629</td>\n",
       "      <td>69.266198</td>\n",
       "      <td>10.462676</td>\n",
       "      <td>0.927452</td>\n",
       "      <td>16.634514</td>\n",
       "      <td>2.224930</td>\n",
       "      <td>...</td>\n",
       "      <td>13.992281</td>\n",
       "      <td>-505.503262</td>\n",
       "      <td>11.950531</td>\n",
       "      <td>-501.331529</td>\n",
       "      <td>10.039245</td>\n",
       "      <td>-500.169983</td>\n",
       "      <td>7.984757</td>\n",
       "      <td>-500.582168</td>\n",
       "      <td>13.998353</td>\n",
       "      <td>-599.787184</td>\n",
       "    </tr>\n",
       "    <tr>\n",
       "      <th>2</th>\n",
       "      <td>2016-01-15 02:00:00</td>\n",
       "      <td>6.055926</td>\n",
       "      <td>10.213995</td>\n",
       "      <td>5.383759</td>\n",
       "      <td>42.657501</td>\n",
       "      <td>68.116445</td>\n",
       "      <td>10.507046</td>\n",
       "      <td>0.953716</td>\n",
       "      <td>16.208849</td>\n",
       "      <td>2.257889</td>\n",
       "      <td>...</td>\n",
       "      <td>14.015015</td>\n",
       "      <td>-502.520901</td>\n",
       "      <td>11.912783</td>\n",
       "      <td>-501.133383</td>\n",
       "      <td>10.070913</td>\n",
       "      <td>-500.129135</td>\n",
       "      <td>8.013877</td>\n",
       "      <td>-500.517572</td>\n",
       "      <td>14.028663</td>\n",
       "      <td>-601.427363</td>\n",
       "    </tr>\n",
       "    <tr>\n",
       "      <th>3</th>\n",
       "      <td>2016-01-15 03:00:00</td>\n",
       "      <td>6.047977</td>\n",
       "      <td>9.977019</td>\n",
       "      <td>4.858634</td>\n",
       "      <td>42.689819</td>\n",
       "      <td>68.347543</td>\n",
       "      <td>10.422762</td>\n",
       "      <td>0.883763</td>\n",
       "      <td>16.532835</td>\n",
       "      <td>2.146849</td>\n",
       "      <td>...</td>\n",
       "      <td>14.036510</td>\n",
       "      <td>-500.857308</td>\n",
       "      <td>11.999550</td>\n",
       "      <td>-501.193686</td>\n",
       "      <td>9.970366</td>\n",
       "      <td>-499.201640</td>\n",
       "      <td>7.977324</td>\n",
       "      <td>-500.255908</td>\n",
       "      <td>14.005551</td>\n",
       "      <td>-599.996129</td>\n",
       "    </tr>\n",
       "    <tr>\n",
       "      <th>4</th>\n",
       "      <td>2016-01-15 04:00:00</td>\n",
       "      <td>6.148599</td>\n",
       "      <td>10.142511</td>\n",
       "      <td>4.939416</td>\n",
       "      <td>42.774141</td>\n",
       "      <td>66.927016</td>\n",
       "      <td>10.360302</td>\n",
       "      <td>0.792826</td>\n",
       "      <td>16.525686</td>\n",
       "      <td>2.055292</td>\n",
       "      <td>...</td>\n",
       "      <td>14.027298</td>\n",
       "      <td>-499.838632</td>\n",
       "      <td>11.953070</td>\n",
       "      <td>-501.053894</td>\n",
       "      <td>9.925709</td>\n",
       "      <td>-501.686727</td>\n",
       "      <td>7.894242</td>\n",
       "      <td>-500.356035</td>\n",
       "      <td>13.996647</td>\n",
       "      <td>-601.496691</td>\n",
       "    </tr>\n",
       "  </tbody>\n",
       "</table>\n",
       "<p>5 rows × 87 columns</p>\n",
       "</div>"
      ],
      "text/plain": [
       "                  date  final.output.concentrate_ag  \\\n",
       "0  2016-01-15 00:00:00                     6.055403   \n",
       "1  2016-01-15 01:00:00                     6.029369   \n",
       "2  2016-01-15 02:00:00                     6.055926   \n",
       "3  2016-01-15 03:00:00                     6.047977   \n",
       "4  2016-01-15 04:00:00                     6.148599   \n",
       "\n",
       "   final.output.concentrate_pb  final.output.concentrate_sol  \\\n",
       "0                     9.889648                      5.507324   \n",
       "1                     9.968944                      5.257781   \n",
       "2                    10.213995                      5.383759   \n",
       "3                     9.977019                      4.858634   \n",
       "4                    10.142511                      4.939416   \n",
       "\n",
       "   final.output.concentrate_au  final.output.recovery  final.output.tail_ag  \\\n",
       "0                    42.192020              70.541216             10.411962   \n",
       "1                    42.701629              69.266198             10.462676   \n",
       "2                    42.657501              68.116445             10.507046   \n",
       "3                    42.689819              68.347543             10.422762   \n",
       "4                    42.774141              66.927016             10.360302   \n",
       "\n",
       "   final.output.tail_pb  final.output.tail_sol  final.output.tail_au  ...  \\\n",
       "0              0.895447              16.904297              2.143149  ...   \n",
       "1              0.927452              16.634514              2.224930  ...   \n",
       "2              0.953716              16.208849              2.257889  ...   \n",
       "3              0.883763              16.532835              2.146849  ...   \n",
       "4              0.792826              16.525686              2.055292  ...   \n",
       "\n",
       "   secondary_cleaner.state.floatbank4_a_air  \\\n",
       "0                                 14.016835   \n",
       "1                                 13.992281   \n",
       "2                                 14.015015   \n",
       "3                                 14.036510   \n",
       "4                                 14.027298   \n",
       "\n",
       "   secondary_cleaner.state.floatbank4_a_level  \\\n",
       "0                                 -502.488007   \n",
       "1                                 -505.503262   \n",
       "2                                 -502.520901   \n",
       "3                                 -500.857308   \n",
       "4                                 -499.838632   \n",
       "\n",
       "   secondary_cleaner.state.floatbank4_b_air  \\\n",
       "0                                 12.099931   \n",
       "1                                 11.950531   \n",
       "2                                 11.912783   \n",
       "3                                 11.999550   \n",
       "4                                 11.953070   \n",
       "\n",
       "   secondary_cleaner.state.floatbank4_b_level  \\\n",
       "0                                 -504.715942   \n",
       "1                                 -501.331529   \n",
       "2                                 -501.133383   \n",
       "3                                 -501.193686   \n",
       "4                                 -501.053894   \n",
       "\n",
       "   secondary_cleaner.state.floatbank5_a_air  \\\n",
       "0                                  9.925633   \n",
       "1                                 10.039245   \n",
       "2                                 10.070913   \n",
       "3                                  9.970366   \n",
       "4                                  9.925709   \n",
       "\n",
       "   secondary_cleaner.state.floatbank5_a_level  \\\n",
       "0                                 -498.310211   \n",
       "1                                 -500.169983   \n",
       "2                                 -500.129135   \n",
       "3                                 -499.201640   \n",
       "4                                 -501.686727   \n",
       "\n",
       "   secondary_cleaner.state.floatbank5_b_air  \\\n",
       "0                                  8.079666   \n",
       "1                                  7.984757   \n",
       "2                                  8.013877   \n",
       "3                                  7.977324   \n",
       "4                                  7.894242   \n",
       "\n",
       "   secondary_cleaner.state.floatbank5_b_level  \\\n",
       "0                                 -500.470978   \n",
       "1                                 -500.582168   \n",
       "2                                 -500.517572   \n",
       "3                                 -500.255908   \n",
       "4                                 -500.356035   \n",
       "\n",
       "   secondary_cleaner.state.floatbank6_a_air  \\\n",
       "0                                 14.151341   \n",
       "1                                 13.998353   \n",
       "2                                 14.028663   \n",
       "3                                 14.005551   \n",
       "4                                 13.996647   \n",
       "\n",
       "   secondary_cleaner.state.floatbank6_a_level  \n",
       "0                                 -605.841980  \n",
       "1                                 -599.787184  \n",
       "2                                 -601.427363  \n",
       "3                                 -599.996129  \n",
       "4                                 -601.496691  \n",
       "\n",
       "[5 rows x 87 columns]"
      ]
     },
     "execution_count": 3,
     "metadata": {},
     "output_type": "execute_result"
    }
   ],
   "source": [
    "train.head()"
   ]
  },
  {
   "cell_type": "code",
   "execution_count": 4,
   "metadata": {},
   "outputs": [
    {
     "name": "stdout",
     "output_type": "stream",
     "text": [
      "<class 'pandas.core.frame.DataFrame'>\n",
      "RangeIndex: 16860 entries, 0 to 16859\n",
      "Data columns (total 87 columns):\n",
      " #   Column                                              Non-Null Count  Dtype  \n",
      "---  ------                                              --------------  -----  \n",
      " 0   date                                                16860 non-null  object \n",
      " 1   final.output.concentrate_ag                         16788 non-null  float64\n",
      " 2   final.output.concentrate_pb                         16788 non-null  float64\n",
      " 3   final.output.concentrate_sol                        16490 non-null  float64\n",
      " 4   final.output.concentrate_au                         16789 non-null  float64\n",
      " 5   final.output.recovery                               15339 non-null  float64\n",
      " 6   final.output.tail_ag                                16794 non-null  float64\n",
      " 7   final.output.tail_pb                                16677 non-null  float64\n",
      " 8   final.output.tail_sol                               16715 non-null  float64\n",
      " 9   final.output.tail_au                                16794 non-null  float64\n",
      " 10  primary_cleaner.input.sulfate                       15553 non-null  float64\n",
      " 11  primary_cleaner.input.depressant                    15598 non-null  float64\n",
      " 12  primary_cleaner.input.feed_size                     16860 non-null  float64\n",
      " 13  primary_cleaner.input.xanthate                      15875 non-null  float64\n",
      " 14  primary_cleaner.output.concentrate_ag               16778 non-null  float64\n",
      " 15  primary_cleaner.output.concentrate_pb               16502 non-null  float64\n",
      " 16  primary_cleaner.output.concentrate_sol              16224 non-null  float64\n",
      " 17  primary_cleaner.output.concentrate_au               16778 non-null  float64\n",
      " 18  primary_cleaner.output.tail_ag                      16777 non-null  float64\n",
      " 19  primary_cleaner.output.tail_pb                      16761 non-null  float64\n",
      " 20  primary_cleaner.output.tail_sol                     16579 non-null  float64\n",
      " 21  primary_cleaner.output.tail_au                      16777 non-null  float64\n",
      " 22  primary_cleaner.state.floatbank8_a_air              16820 non-null  float64\n",
      " 23  primary_cleaner.state.floatbank8_a_level            16827 non-null  float64\n",
      " 24  primary_cleaner.state.floatbank8_b_air              16820 non-null  float64\n",
      " 25  primary_cleaner.state.floatbank8_b_level            16833 non-null  float64\n",
      " 26  primary_cleaner.state.floatbank8_c_air              16822 non-null  float64\n",
      " 27  primary_cleaner.state.floatbank8_c_level            16833 non-null  float64\n",
      " 28  primary_cleaner.state.floatbank8_d_air              16821 non-null  float64\n",
      " 29  primary_cleaner.state.floatbank8_d_level            16833 non-null  float64\n",
      " 30  rougher.calculation.sulfate_to_au_concentrate       16833 non-null  float64\n",
      " 31  rougher.calculation.floatbank10_sulfate_to_au_feed  16833 non-null  float64\n",
      " 32  rougher.calculation.floatbank11_sulfate_to_au_feed  16833 non-null  float64\n",
      " 33  rougher.calculation.au_pb_ratio                     15618 non-null  float64\n",
      " 34  rougher.input.feed_ag                               16778 non-null  float64\n",
      " 35  rougher.input.feed_pb                               16632 non-null  float64\n",
      " 36  rougher.input.feed_rate                             16347 non-null  float64\n",
      " 37  rougher.input.feed_size                             16443 non-null  float64\n",
      " 38  rougher.input.feed_sol                              16568 non-null  float64\n",
      " 39  rougher.input.feed_au                               16777 non-null  float64\n",
      " 40  rougher.input.floatbank10_sulfate                   15816 non-null  float64\n",
      " 41  rougher.input.floatbank10_xanthate                  16514 non-null  float64\n",
      " 42  rougher.input.floatbank11_sulfate                   16237 non-null  float64\n",
      " 43  rougher.input.floatbank11_xanthate                  14956 non-null  float64\n",
      " 44  rougher.output.concentrate_ag                       16778 non-null  float64\n",
      " 45  rougher.output.concentrate_pb                       16778 non-null  float64\n",
      " 46  rougher.output.concentrate_sol                      16698 non-null  float64\n",
      " 47  rougher.output.concentrate_au                       16778 non-null  float64\n",
      " 48  rougher.output.recovery                             14287 non-null  float64\n",
      " 49  rougher.output.tail_ag                              14610 non-null  float64\n",
      " 50  rougher.output.tail_pb                              16778 non-null  float64\n",
      " 51  rougher.output.tail_sol                             14611 non-null  float64\n",
      " 52  rougher.output.tail_au                              14611 non-null  float64\n",
      " 53  rougher.state.floatbank10_a_air                     16807 non-null  float64\n",
      " 54  rougher.state.floatbank10_a_level                   16807 non-null  float64\n",
      " 55  rougher.state.floatbank10_b_air                     16807 non-null  float64\n",
      " 56  rougher.state.floatbank10_b_level                   16807 non-null  float64\n",
      " 57  rougher.state.floatbank10_c_air                     16807 non-null  float64\n",
      " 58  rougher.state.floatbank10_c_level                   16814 non-null  float64\n",
      " 59  rougher.state.floatbank10_d_air                     16802 non-null  float64\n",
      " 60  rougher.state.floatbank10_d_level                   16809 non-null  float64\n",
      " 61  rougher.state.floatbank10_e_air                     16257 non-null  float64\n",
      " 62  rougher.state.floatbank10_e_level                   16809 non-null  float64\n",
      " 63  rougher.state.floatbank10_f_air                     16802 non-null  float64\n",
      " 64  rougher.state.floatbank10_f_level                   16802 non-null  float64\n",
      " 65  secondary_cleaner.output.tail_ag                    16776 non-null  float64\n",
      " 66  secondary_cleaner.output.tail_pb                    16764 non-null  float64\n",
      " 67  secondary_cleaner.output.tail_sol                   14874 non-null  float64\n",
      " 68  secondary_cleaner.output.tail_au                    16778 non-null  float64\n",
      " 69  secondary_cleaner.state.floatbank2_a_air            16497 non-null  float64\n",
      " 70  secondary_cleaner.state.floatbank2_a_level          16751 non-null  float64\n",
      " 71  secondary_cleaner.state.floatbank2_b_air            16705 non-null  float64\n",
      " 72  secondary_cleaner.state.floatbank2_b_level          16748 non-null  float64\n",
      " 73  secondary_cleaner.state.floatbank3_a_air            16763 non-null  float64\n",
      " 74  secondary_cleaner.state.floatbank3_a_level          16747 non-null  float64\n",
      " 75  secondary_cleaner.state.floatbank3_b_air            16752 non-null  float64\n",
      " 76  secondary_cleaner.state.floatbank3_b_level          16750 non-null  float64\n",
      " 77  secondary_cleaner.state.floatbank4_a_air            16731 non-null  float64\n",
      " 78  secondary_cleaner.state.floatbank4_a_level          16747 non-null  float64\n",
      " 79  secondary_cleaner.state.floatbank4_b_air            16768 non-null  float64\n",
      " 80  secondary_cleaner.state.floatbank4_b_level          16767 non-null  float64\n",
      " 81  secondary_cleaner.state.floatbank5_a_air            16775 non-null  float64\n",
      " 82  secondary_cleaner.state.floatbank5_a_level          16775 non-null  float64\n",
      " 83  secondary_cleaner.state.floatbank5_b_air            16775 non-null  float64\n",
      " 84  secondary_cleaner.state.floatbank5_b_level          16776 non-null  float64\n",
      " 85  secondary_cleaner.state.floatbank6_a_air            16757 non-null  float64\n",
      " 86  secondary_cleaner.state.floatbank6_a_level          16775 non-null  float64\n",
      "dtypes: float64(86), object(1)\n",
      "memory usage: 11.2+ MB\n"
     ]
    }
   ],
   "source": [
    "train.info()"
   ]
  },
  {
   "cell_type": "markdown",
   "metadata": {},
   "source": [
    "Практически все колонки в данных - числовые. Единственным исключением является колонка date которую далее необходимо преобразовать к типу datetime. Так же в данных имеются пропуски их необходимо заполнить до создания моделей. Прочитаем остальные таблицы."
   ]
  },
  {
   "cell_type": "code",
   "execution_count": 5,
   "metadata": {},
   "outputs": [
    {
     "data": {
      "text/html": [
       "<div>\n",
       "<style scoped>\n",
       "    .dataframe tbody tr th:only-of-type {\n",
       "        vertical-align: middle;\n",
       "    }\n",
       "\n",
       "    .dataframe tbody tr th {\n",
       "        vertical-align: top;\n",
       "    }\n",
       "\n",
       "    .dataframe thead th {\n",
       "        text-align: right;\n",
       "    }\n",
       "</style>\n",
       "<table border=\"1\" class=\"dataframe\">\n",
       "  <thead>\n",
       "    <tr style=\"text-align: right;\">\n",
       "      <th></th>\n",
       "      <th>date</th>\n",
       "      <th>primary_cleaner.input.sulfate</th>\n",
       "      <th>primary_cleaner.input.depressant</th>\n",
       "      <th>primary_cleaner.input.feed_size</th>\n",
       "      <th>primary_cleaner.input.xanthate</th>\n",
       "      <th>primary_cleaner.state.floatbank8_a_air</th>\n",
       "      <th>primary_cleaner.state.floatbank8_a_level</th>\n",
       "      <th>primary_cleaner.state.floatbank8_b_air</th>\n",
       "      <th>primary_cleaner.state.floatbank8_b_level</th>\n",
       "      <th>primary_cleaner.state.floatbank8_c_air</th>\n",
       "      <th>...</th>\n",
       "      <th>secondary_cleaner.state.floatbank4_a_air</th>\n",
       "      <th>secondary_cleaner.state.floatbank4_a_level</th>\n",
       "      <th>secondary_cleaner.state.floatbank4_b_air</th>\n",
       "      <th>secondary_cleaner.state.floatbank4_b_level</th>\n",
       "      <th>secondary_cleaner.state.floatbank5_a_air</th>\n",
       "      <th>secondary_cleaner.state.floatbank5_a_level</th>\n",
       "      <th>secondary_cleaner.state.floatbank5_b_air</th>\n",
       "      <th>secondary_cleaner.state.floatbank5_b_level</th>\n",
       "      <th>secondary_cleaner.state.floatbank6_a_air</th>\n",
       "      <th>secondary_cleaner.state.floatbank6_a_level</th>\n",
       "    </tr>\n",
       "  </thead>\n",
       "  <tbody>\n",
       "    <tr>\n",
       "      <th>0</th>\n",
       "      <td>2016-09-01 00:59:59</td>\n",
       "      <td>210.800909</td>\n",
       "      <td>14.993118</td>\n",
       "      <td>8.080000</td>\n",
       "      <td>1.005021</td>\n",
       "      <td>1398.981301</td>\n",
       "      <td>-500.225577</td>\n",
       "      <td>1399.144926</td>\n",
       "      <td>-499.919735</td>\n",
       "      <td>1400.102998</td>\n",
       "      <td>...</td>\n",
       "      <td>12.023554</td>\n",
       "      <td>-497.795834</td>\n",
       "      <td>8.016656</td>\n",
       "      <td>-501.289139</td>\n",
       "      <td>7.946562</td>\n",
       "      <td>-432.317850</td>\n",
       "      <td>4.872511</td>\n",
       "      <td>-500.037437</td>\n",
       "      <td>26.705889</td>\n",
       "      <td>-499.709414</td>\n",
       "    </tr>\n",
       "    <tr>\n",
       "      <th>1</th>\n",
       "      <td>2016-09-01 01:59:59</td>\n",
       "      <td>215.392455</td>\n",
       "      <td>14.987471</td>\n",
       "      <td>8.080000</td>\n",
       "      <td>0.990469</td>\n",
       "      <td>1398.777912</td>\n",
       "      <td>-500.057435</td>\n",
       "      <td>1398.055362</td>\n",
       "      <td>-499.778182</td>\n",
       "      <td>1396.151033</td>\n",
       "      <td>...</td>\n",
       "      <td>12.058140</td>\n",
       "      <td>-498.695773</td>\n",
       "      <td>8.130979</td>\n",
       "      <td>-499.634209</td>\n",
       "      <td>7.958270</td>\n",
       "      <td>-525.839648</td>\n",
       "      <td>4.878850</td>\n",
       "      <td>-500.162375</td>\n",
       "      <td>25.019940</td>\n",
       "      <td>-499.819438</td>\n",
       "    </tr>\n",
       "    <tr>\n",
       "      <th>2</th>\n",
       "      <td>2016-09-01 02:59:59</td>\n",
       "      <td>215.259946</td>\n",
       "      <td>12.884934</td>\n",
       "      <td>7.786667</td>\n",
       "      <td>0.996043</td>\n",
       "      <td>1398.493666</td>\n",
       "      <td>-500.868360</td>\n",
       "      <td>1398.860436</td>\n",
       "      <td>-499.764529</td>\n",
       "      <td>1398.075709</td>\n",
       "      <td>...</td>\n",
       "      <td>11.962366</td>\n",
       "      <td>-498.767484</td>\n",
       "      <td>8.096893</td>\n",
       "      <td>-500.827423</td>\n",
       "      <td>8.071056</td>\n",
       "      <td>-500.801673</td>\n",
       "      <td>4.905125</td>\n",
       "      <td>-499.828510</td>\n",
       "      <td>24.994862</td>\n",
       "      <td>-500.622559</td>\n",
       "    </tr>\n",
       "    <tr>\n",
       "      <th>3</th>\n",
       "      <td>2016-09-01 03:59:59</td>\n",
       "      <td>215.336236</td>\n",
       "      <td>12.006805</td>\n",
       "      <td>7.640000</td>\n",
       "      <td>0.863514</td>\n",
       "      <td>1399.618111</td>\n",
       "      <td>-498.863574</td>\n",
       "      <td>1397.440120</td>\n",
       "      <td>-499.211024</td>\n",
       "      <td>1400.129303</td>\n",
       "      <td>...</td>\n",
       "      <td>12.033091</td>\n",
       "      <td>-498.350935</td>\n",
       "      <td>8.074946</td>\n",
       "      <td>-499.474407</td>\n",
       "      <td>7.897085</td>\n",
       "      <td>-500.868509</td>\n",
       "      <td>4.931400</td>\n",
       "      <td>-499.963623</td>\n",
       "      <td>24.948919</td>\n",
       "      <td>-498.709987</td>\n",
       "    </tr>\n",
       "    <tr>\n",
       "      <th>4</th>\n",
       "      <td>2016-09-01 04:59:59</td>\n",
       "      <td>199.099327</td>\n",
       "      <td>10.682530</td>\n",
       "      <td>7.530000</td>\n",
       "      <td>0.805575</td>\n",
       "      <td>1401.268123</td>\n",
       "      <td>-500.808305</td>\n",
       "      <td>1398.128818</td>\n",
       "      <td>-499.504543</td>\n",
       "      <td>1402.172226</td>\n",
       "      <td>...</td>\n",
       "      <td>12.025367</td>\n",
       "      <td>-500.786497</td>\n",
       "      <td>8.054678</td>\n",
       "      <td>-500.397500</td>\n",
       "      <td>8.107890</td>\n",
       "      <td>-509.526725</td>\n",
       "      <td>4.957674</td>\n",
       "      <td>-500.360026</td>\n",
       "      <td>25.003331</td>\n",
       "      <td>-500.856333</td>\n",
       "    </tr>\n",
       "  </tbody>\n",
       "</table>\n",
       "<p>5 rows × 53 columns</p>\n",
       "</div>"
      ],
      "text/plain": [
       "                  date  primary_cleaner.input.sulfate  \\\n",
       "0  2016-09-01 00:59:59                     210.800909   \n",
       "1  2016-09-01 01:59:59                     215.392455   \n",
       "2  2016-09-01 02:59:59                     215.259946   \n",
       "3  2016-09-01 03:59:59                     215.336236   \n",
       "4  2016-09-01 04:59:59                     199.099327   \n",
       "\n",
       "   primary_cleaner.input.depressant  primary_cleaner.input.feed_size  \\\n",
       "0                         14.993118                         8.080000   \n",
       "1                         14.987471                         8.080000   \n",
       "2                         12.884934                         7.786667   \n",
       "3                         12.006805                         7.640000   \n",
       "4                         10.682530                         7.530000   \n",
       "\n",
       "   primary_cleaner.input.xanthate  primary_cleaner.state.floatbank8_a_air  \\\n",
       "0                        1.005021                             1398.981301   \n",
       "1                        0.990469                             1398.777912   \n",
       "2                        0.996043                             1398.493666   \n",
       "3                        0.863514                             1399.618111   \n",
       "4                        0.805575                             1401.268123   \n",
       "\n",
       "   primary_cleaner.state.floatbank8_a_level  \\\n",
       "0                               -500.225577   \n",
       "1                               -500.057435   \n",
       "2                               -500.868360   \n",
       "3                               -498.863574   \n",
       "4                               -500.808305   \n",
       "\n",
       "   primary_cleaner.state.floatbank8_b_air  \\\n",
       "0                             1399.144926   \n",
       "1                             1398.055362   \n",
       "2                             1398.860436   \n",
       "3                             1397.440120   \n",
       "4                             1398.128818   \n",
       "\n",
       "   primary_cleaner.state.floatbank8_b_level  \\\n",
       "0                               -499.919735   \n",
       "1                               -499.778182   \n",
       "2                               -499.764529   \n",
       "3                               -499.211024   \n",
       "4                               -499.504543   \n",
       "\n",
       "   primary_cleaner.state.floatbank8_c_air  ...  \\\n",
       "0                             1400.102998  ...   \n",
       "1                             1396.151033  ...   \n",
       "2                             1398.075709  ...   \n",
       "3                             1400.129303  ...   \n",
       "4                             1402.172226  ...   \n",
       "\n",
       "   secondary_cleaner.state.floatbank4_a_air  \\\n",
       "0                                 12.023554   \n",
       "1                                 12.058140   \n",
       "2                                 11.962366   \n",
       "3                                 12.033091   \n",
       "4                                 12.025367   \n",
       "\n",
       "   secondary_cleaner.state.floatbank4_a_level  \\\n",
       "0                                 -497.795834   \n",
       "1                                 -498.695773   \n",
       "2                                 -498.767484   \n",
       "3                                 -498.350935   \n",
       "4                                 -500.786497   \n",
       "\n",
       "   secondary_cleaner.state.floatbank4_b_air  \\\n",
       "0                                  8.016656   \n",
       "1                                  8.130979   \n",
       "2                                  8.096893   \n",
       "3                                  8.074946   \n",
       "4                                  8.054678   \n",
       "\n",
       "   secondary_cleaner.state.floatbank4_b_level  \\\n",
       "0                                 -501.289139   \n",
       "1                                 -499.634209   \n",
       "2                                 -500.827423   \n",
       "3                                 -499.474407   \n",
       "4                                 -500.397500   \n",
       "\n",
       "   secondary_cleaner.state.floatbank5_a_air  \\\n",
       "0                                  7.946562   \n",
       "1                                  7.958270   \n",
       "2                                  8.071056   \n",
       "3                                  7.897085   \n",
       "4                                  8.107890   \n",
       "\n",
       "   secondary_cleaner.state.floatbank5_a_level  \\\n",
       "0                                 -432.317850   \n",
       "1                                 -525.839648   \n",
       "2                                 -500.801673   \n",
       "3                                 -500.868509   \n",
       "4                                 -509.526725   \n",
       "\n",
       "   secondary_cleaner.state.floatbank5_b_air  \\\n",
       "0                                  4.872511   \n",
       "1                                  4.878850   \n",
       "2                                  4.905125   \n",
       "3                                  4.931400   \n",
       "4                                  4.957674   \n",
       "\n",
       "   secondary_cleaner.state.floatbank5_b_level  \\\n",
       "0                                 -500.037437   \n",
       "1                                 -500.162375   \n",
       "2                                 -499.828510   \n",
       "3                                 -499.963623   \n",
       "4                                 -500.360026   \n",
       "\n",
       "   secondary_cleaner.state.floatbank6_a_air  \\\n",
       "0                                 26.705889   \n",
       "1                                 25.019940   \n",
       "2                                 24.994862   \n",
       "3                                 24.948919   \n",
       "4                                 25.003331   \n",
       "\n",
       "   secondary_cleaner.state.floatbank6_a_level  \n",
       "0                                 -499.709414  \n",
       "1                                 -499.819438  \n",
       "2                                 -500.622559  \n",
       "3                                 -498.709987  \n",
       "4                                 -500.856333  \n",
       "\n",
       "[5 rows x 53 columns]"
      ]
     },
     "execution_count": 5,
     "metadata": {},
     "output_type": "execute_result"
    }
   ],
   "source": [
    "test = pd.read_csv('./datasets/gold_recovery_test.csv')\n",
    "test.head()"
   ]
  },
  {
   "cell_type": "code",
   "execution_count": 6,
   "metadata": {},
   "outputs": [
    {
     "name": "stdout",
     "output_type": "stream",
     "text": [
      "<class 'pandas.core.frame.DataFrame'>\n",
      "RangeIndex: 5856 entries, 0 to 5855\n",
      "Data columns (total 53 columns):\n",
      " #   Column                                      Non-Null Count  Dtype  \n",
      "---  ------                                      --------------  -----  \n",
      " 0   date                                        5856 non-null   object \n",
      " 1   primary_cleaner.input.sulfate               5554 non-null   float64\n",
      " 2   primary_cleaner.input.depressant            5572 non-null   float64\n",
      " 3   primary_cleaner.input.feed_size             5856 non-null   float64\n",
      " 4   primary_cleaner.input.xanthate              5690 non-null   float64\n",
      " 5   primary_cleaner.state.floatbank8_a_air      5840 non-null   float64\n",
      " 6   primary_cleaner.state.floatbank8_a_level    5840 non-null   float64\n",
      " 7   primary_cleaner.state.floatbank8_b_air      5840 non-null   float64\n",
      " 8   primary_cleaner.state.floatbank8_b_level    5840 non-null   float64\n",
      " 9   primary_cleaner.state.floatbank8_c_air      5840 non-null   float64\n",
      " 10  primary_cleaner.state.floatbank8_c_level    5840 non-null   float64\n",
      " 11  primary_cleaner.state.floatbank8_d_air      5840 non-null   float64\n",
      " 12  primary_cleaner.state.floatbank8_d_level    5840 non-null   float64\n",
      " 13  rougher.input.feed_ag                       5840 non-null   float64\n",
      " 14  rougher.input.feed_pb                       5840 non-null   float64\n",
      " 15  rougher.input.feed_rate                     5816 non-null   float64\n",
      " 16  rougher.input.feed_size                     5834 non-null   float64\n",
      " 17  rougher.input.feed_sol                      5789 non-null   float64\n",
      " 18  rougher.input.feed_au                       5840 non-null   float64\n",
      " 19  rougher.input.floatbank10_sulfate           5599 non-null   float64\n",
      " 20  rougher.input.floatbank10_xanthate          5733 non-null   float64\n",
      " 21  rougher.input.floatbank11_sulfate           5801 non-null   float64\n",
      " 22  rougher.input.floatbank11_xanthate          5503 non-null   float64\n",
      " 23  rougher.state.floatbank10_a_air             5839 non-null   float64\n",
      " 24  rougher.state.floatbank10_a_level           5840 non-null   float64\n",
      " 25  rougher.state.floatbank10_b_air             5839 non-null   float64\n",
      " 26  rougher.state.floatbank10_b_level           5840 non-null   float64\n",
      " 27  rougher.state.floatbank10_c_air             5839 non-null   float64\n",
      " 28  rougher.state.floatbank10_c_level           5840 non-null   float64\n",
      " 29  rougher.state.floatbank10_d_air             5839 non-null   float64\n",
      " 30  rougher.state.floatbank10_d_level           5840 non-null   float64\n",
      " 31  rougher.state.floatbank10_e_air             5839 non-null   float64\n",
      " 32  rougher.state.floatbank10_e_level           5840 non-null   float64\n",
      " 33  rougher.state.floatbank10_f_air             5839 non-null   float64\n",
      " 34  rougher.state.floatbank10_f_level           5840 non-null   float64\n",
      " 35  secondary_cleaner.state.floatbank2_a_air    5836 non-null   float64\n",
      " 36  secondary_cleaner.state.floatbank2_a_level  5840 non-null   float64\n",
      " 37  secondary_cleaner.state.floatbank2_b_air    5833 non-null   float64\n",
      " 38  secondary_cleaner.state.floatbank2_b_level  5840 non-null   float64\n",
      " 39  secondary_cleaner.state.floatbank3_a_air    5822 non-null   float64\n",
      " 40  secondary_cleaner.state.floatbank3_a_level  5840 non-null   float64\n",
      " 41  secondary_cleaner.state.floatbank3_b_air    5840 non-null   float64\n",
      " 42  secondary_cleaner.state.floatbank3_b_level  5840 non-null   float64\n",
      " 43  secondary_cleaner.state.floatbank4_a_air    5840 non-null   float64\n",
      " 44  secondary_cleaner.state.floatbank4_a_level  5840 non-null   float64\n",
      " 45  secondary_cleaner.state.floatbank4_b_air    5840 non-null   float64\n",
      " 46  secondary_cleaner.state.floatbank4_b_level  5840 non-null   float64\n",
      " 47  secondary_cleaner.state.floatbank5_a_air    5840 non-null   float64\n",
      " 48  secondary_cleaner.state.floatbank5_a_level  5840 non-null   float64\n",
      " 49  secondary_cleaner.state.floatbank5_b_air    5840 non-null   float64\n",
      " 50  secondary_cleaner.state.floatbank5_b_level  5840 non-null   float64\n",
      " 51  secondary_cleaner.state.floatbank6_a_air    5840 non-null   float64\n",
      " 52  secondary_cleaner.state.floatbank6_a_level  5840 non-null   float64\n",
      "dtypes: float64(52), object(1)\n",
      "memory usage: 2.4+ MB\n"
     ]
    }
   ],
   "source": [
    "test.info()"
   ]
  },
  {
   "cell_type": "code",
   "execution_count": 7,
   "metadata": {},
   "outputs": [],
   "source": [
    "full = pd.read_csv('./datasets/gold_recovery_full.csv')"
   ]
  },
  {
   "cell_type": "code",
   "execution_count": 8,
   "metadata": {},
   "outputs": [
    {
     "name": "stdout",
     "output_type": "stream",
     "text": [
      "<class 'pandas.core.frame.DataFrame'>\n",
      "RangeIndex: 22716 entries, 0 to 22715\n",
      "Data columns (total 87 columns):\n",
      " #   Column                                              Non-Null Count  Dtype  \n",
      "---  ------                                              --------------  -----  \n",
      " 0   date                                                22716 non-null  object \n",
      " 1   final.output.concentrate_ag                         22627 non-null  float64\n",
      " 2   final.output.concentrate_pb                         22629 non-null  float64\n",
      " 3   final.output.concentrate_sol                        22331 non-null  float64\n",
      " 4   final.output.concentrate_au                         22630 non-null  float64\n",
      " 5   final.output.recovery                               20753 non-null  float64\n",
      " 6   final.output.tail_ag                                22633 non-null  float64\n",
      " 7   final.output.tail_pb                                22516 non-null  float64\n",
      " 8   final.output.tail_sol                               22445 non-null  float64\n",
      " 9   final.output.tail_au                                22635 non-null  float64\n",
      " 10  primary_cleaner.input.sulfate                       21107 non-null  float64\n",
      " 11  primary_cleaner.input.depressant                    21170 non-null  float64\n",
      " 12  primary_cleaner.input.feed_size                     22716 non-null  float64\n",
      " 13  primary_cleaner.input.xanthate                      21565 non-null  float64\n",
      " 14  primary_cleaner.output.concentrate_ag               22618 non-null  float64\n",
      " 15  primary_cleaner.output.concentrate_pb               22268 non-null  float64\n",
      " 16  primary_cleaner.output.concentrate_sol              21918 non-null  float64\n",
      " 17  primary_cleaner.output.concentrate_au               22618 non-null  float64\n",
      " 18  primary_cleaner.output.tail_ag                      22614 non-null  float64\n",
      " 19  primary_cleaner.output.tail_pb                      22594 non-null  float64\n",
      " 20  primary_cleaner.output.tail_sol                     22365 non-null  float64\n",
      " 21  primary_cleaner.output.tail_au                      22617 non-null  float64\n",
      " 22  primary_cleaner.state.floatbank8_a_air              22660 non-null  float64\n",
      " 23  primary_cleaner.state.floatbank8_a_level            22667 non-null  float64\n",
      " 24  primary_cleaner.state.floatbank8_b_air              22660 non-null  float64\n",
      " 25  primary_cleaner.state.floatbank8_b_level            22673 non-null  float64\n",
      " 26  primary_cleaner.state.floatbank8_c_air              22662 non-null  float64\n",
      " 27  primary_cleaner.state.floatbank8_c_level            22673 non-null  float64\n",
      " 28  primary_cleaner.state.floatbank8_d_air              22661 non-null  float64\n",
      " 29  primary_cleaner.state.floatbank8_d_level            22673 non-null  float64\n",
      " 30  rougher.calculation.sulfate_to_au_concentrate       22672 non-null  float64\n",
      " 31  rougher.calculation.floatbank10_sulfate_to_au_feed  22672 non-null  float64\n",
      " 32  rougher.calculation.floatbank11_sulfate_to_au_feed  22672 non-null  float64\n",
      " 33  rougher.calculation.au_pb_ratio                     21089 non-null  float64\n",
      " 34  rougher.input.feed_ag                               22618 non-null  float64\n",
      " 35  rougher.input.feed_pb                               22472 non-null  float64\n",
      " 36  rougher.input.feed_rate                             22163 non-null  float64\n",
      " 37  rougher.input.feed_size                             22277 non-null  float64\n",
      " 38  rougher.input.feed_sol                              22357 non-null  float64\n",
      " 39  rougher.input.feed_au                               22617 non-null  float64\n",
      " 40  rougher.input.floatbank10_sulfate                   21415 non-null  float64\n",
      " 41  rougher.input.floatbank10_xanthate                  22247 non-null  float64\n",
      " 42  rougher.input.floatbank11_sulfate                   22038 non-null  float64\n",
      " 43  rougher.input.floatbank11_xanthate                  20459 non-null  float64\n",
      " 44  rougher.output.concentrate_ag                       22618 non-null  float64\n",
      " 45  rougher.output.concentrate_pb                       22618 non-null  float64\n",
      " 46  rougher.output.concentrate_sol                      22526 non-null  float64\n",
      " 47  rougher.output.concentrate_au                       22618 non-null  float64\n",
      " 48  rougher.output.recovery                             19597 non-null  float64\n",
      " 49  rougher.output.tail_ag                              19979 non-null  float64\n",
      " 50  rougher.output.tail_pb                              22618 non-null  float64\n",
      " 51  rougher.output.tail_sol                             19980 non-null  float64\n",
      " 52  rougher.output.tail_au                              19980 non-null  float64\n",
      " 53  rougher.state.floatbank10_a_air                     22646 non-null  float64\n",
      " 54  rougher.state.floatbank10_a_level                   22647 non-null  float64\n",
      " 55  rougher.state.floatbank10_b_air                     22646 non-null  float64\n",
      " 56  rougher.state.floatbank10_b_level                   22647 non-null  float64\n",
      " 57  rougher.state.floatbank10_c_air                     22646 non-null  float64\n",
      " 58  rougher.state.floatbank10_c_level                   22654 non-null  float64\n",
      " 59  rougher.state.floatbank10_d_air                     22641 non-null  float64\n",
      " 60  rougher.state.floatbank10_d_level                   22649 non-null  float64\n",
      " 61  rougher.state.floatbank10_e_air                     22096 non-null  float64\n",
      " 62  rougher.state.floatbank10_e_level                   22649 non-null  float64\n",
      " 63  rougher.state.floatbank10_f_air                     22641 non-null  float64\n",
      " 64  rougher.state.floatbank10_f_level                   22642 non-null  float64\n",
      " 65  secondary_cleaner.output.tail_ag                    22616 non-null  float64\n",
      " 66  secondary_cleaner.output.tail_pb                    22600 non-null  float64\n",
      " 67  secondary_cleaner.output.tail_sol                   20501 non-null  float64\n",
      " 68  secondary_cleaner.output.tail_au                    22618 non-null  float64\n",
      " 69  secondary_cleaner.state.floatbank2_a_air            22333 non-null  float64\n",
      " 70  secondary_cleaner.state.floatbank2_a_level          22591 non-null  float64\n",
      " 71  secondary_cleaner.state.floatbank2_b_air            22538 non-null  float64\n",
      " 72  secondary_cleaner.state.floatbank2_b_level          22588 non-null  float64\n",
      " 73  secondary_cleaner.state.floatbank3_a_air            22585 non-null  float64\n",
      " 74  secondary_cleaner.state.floatbank3_a_level          22587 non-null  float64\n",
      " 75  secondary_cleaner.state.floatbank3_b_air            22592 non-null  float64\n",
      " 76  secondary_cleaner.state.floatbank3_b_level          22590 non-null  float64\n",
      " 77  secondary_cleaner.state.floatbank4_a_air            22571 non-null  float64\n",
      " 78  secondary_cleaner.state.floatbank4_a_level          22587 non-null  float64\n",
      " 79  secondary_cleaner.state.floatbank4_b_air            22608 non-null  float64\n",
      " 80  secondary_cleaner.state.floatbank4_b_level          22607 non-null  float64\n",
      " 81  secondary_cleaner.state.floatbank5_a_air            22615 non-null  float64\n",
      " 82  secondary_cleaner.state.floatbank5_a_level          22615 non-null  float64\n",
      " 83  secondary_cleaner.state.floatbank5_b_air            22615 non-null  float64\n",
      " 84  secondary_cleaner.state.floatbank5_b_level          22616 non-null  float64\n",
      " 85  secondary_cleaner.state.floatbank6_a_air            22597 non-null  float64\n",
      " 86  secondary_cleaner.state.floatbank6_a_level          22615 non-null  float64\n",
      "dtypes: float64(86), object(1)\n",
      "memory usage: 15.1+ MB\n"
     ]
    }
   ],
   "source": [
    "full.info()"
   ]
  },
  {
   "cell_type": "markdown",
   "metadata": {},
   "source": [
    "Проверим что сумма длин тестовой и обучающей выборки равна длине полной выборки "
   ]
  },
  {
   "cell_type": "code",
   "execution_count": 9,
   "metadata": {},
   "outputs": [
    {
     "data": {
      "text/plain": [
       "True"
      ]
     },
     "execution_count": 9,
     "metadata": {},
     "output_type": "execute_result"
    }
   ],
   "source": [
    "len(test) + len(train) == len(full)"
   ]
  },
  {
   "cell_type": "markdown",
   "metadata": {},
   "source": [
    "Преобразуем столбец date во всех датафреймах к типу datetime"
   ]
  },
  {
   "cell_type": "code",
   "execution_count": 10,
   "metadata": {},
   "outputs": [
    {
     "data": {
      "text/plain": [
       "0        2016-01-15 00:00:00\n",
       "1        2016-01-15 01:00:00\n",
       "2        2016-01-15 02:00:00\n",
       "3        2016-01-15 03:00:00\n",
       "4        2016-01-15 04:00:00\n",
       "                ...         \n",
       "16855    2018-08-18 06:59:59\n",
       "16856    2018-08-18 07:59:59\n",
       "16857    2018-08-18 08:59:59\n",
       "16858    2018-08-18 09:59:59\n",
       "16859    2018-08-18 10:59:59\n",
       "Name: date, Length: 16860, dtype: object"
      ]
     },
     "execution_count": 10,
     "metadata": {},
     "output_type": "execute_result"
    }
   ],
   "source": [
    "train['date']"
   ]
  },
  {
   "cell_type": "code",
   "execution_count": 11,
   "metadata": {},
   "outputs": [
    {
     "data": {
      "text/plain": [
       "0       2016-01-15 00:00:00\n",
       "1       2016-01-15 01:00:00\n",
       "2       2016-01-15 02:00:00\n",
       "3       2016-01-15 03:00:00\n",
       "4       2016-01-15 04:00:00\n",
       "                ...        \n",
       "16855   2018-08-18 06:59:59\n",
       "16856   2018-08-18 07:59:59\n",
       "16857   2018-08-18 08:59:59\n",
       "16858   2018-08-18 09:59:59\n",
       "16859   2018-08-18 10:59:59\n",
       "Name: date, Length: 16860, dtype: datetime64[ns]"
      ]
     },
     "execution_count": 11,
     "metadata": {},
     "output_type": "execute_result"
    }
   ],
   "source": [
    "train['date'] = pd.to_datetime(train['date'], format='%Y-%m-%d %H:%M:%S')\n",
    "train['date']"
   ]
  },
  {
   "cell_type": "code",
   "execution_count": 12,
   "metadata": {},
   "outputs": [],
   "source": [
    "test['date'] = pd.to_datetime(test['date'], format='%Y-%m-%d %H:%M:%S')\n",
    "full['date'] = pd.to_datetime(full['date'], format='%Y-%m-%d %H:%M:%S')"
   ]
  },
  {
   "cell_type": "markdown",
   "metadata": {},
   "source": [
    "Заполним пропуски в данных. Для начала оценим какая доля данных пропущена в столбце rougher.output.concentrate_au"
   ]
  },
  {
   "cell_type": "code",
   "execution_count": 13,
   "metadata": {},
   "outputs": [
    {
     "data": {
      "text/plain": [
       "0.004863582443653618"
      ]
     },
     "execution_count": 13,
     "metadata": {},
     "output_type": "execute_result"
    }
   ],
   "source": [
    "train['rougher.output.concentrate_au'].isna().mean()"
   ]
  },
  {
   "cell_type": "markdown",
   "metadata": {},
   "source": [
    "Так как доля данных строк заниемает менее 0,5% данные строки можно удалить из датасетов "
   ]
  },
  {
   "cell_type": "code",
   "execution_count": 14,
   "metadata": {},
   "outputs": [],
   "source": [
    "train = train.drop(train.index[train['rougher.output.concentrate_au'].isna()])\n",
    "full = full.drop(full.index[full['rougher.output.concentrate_au'].isna()])"
   ]
  },
  {
   "cell_type": "code",
   "execution_count": 15,
   "metadata": {},
   "outputs": [
    {
     "data": {
      "text/plain": [
       "0.0"
      ]
     },
     "execution_count": 15,
     "metadata": {},
     "output_type": "execute_result"
    }
   ],
   "source": [
    "# проверим что функция сработала так как задуманно\n",
    "train['rougher.output.concentrate_au'].isna().mean()"
   ]
  },
  {
   "cell_type": "markdown",
   "metadata": {},
   "source": [
    "Аналогично оценим долю пропущеных данных в столбце rougher.input.feed_au. Так как нас интересуют предсказания доли золота по окончанию техпроцесса, то строки для которых доля золота в исходном сырье равна нулю так же из датасетов исключим"
   ]
  },
  {
   "cell_type": "code",
   "execution_count": 16,
   "metadata": {},
   "outputs": [
    {
     "data": {
      "text/plain": [
       "5.960185957801883e-05"
      ]
     },
     "execution_count": 16,
     "metadata": {},
     "output_type": "execute_result"
    }
   ],
   "source": [
    "train['rougher.input.feed_au'].isna().mean()"
   ]
  },
  {
   "cell_type": "code",
   "execution_count": 17,
   "metadata": {},
   "outputs": [
    {
     "data": {
      "text/plain": [
       "0.06907855525092382"
      ]
     },
     "execution_count": 17,
     "metadata": {},
     "output_type": "execute_result"
    }
   ],
   "source": [
    "(train['rougher.input.feed_au'] == 0).mean()"
   ]
  },
  {
   "cell_type": "code",
   "execution_count": 18,
   "metadata": {},
   "outputs": [],
   "source": [
    "# удалим из обучающего датасета строки в которых данные о содержании золота в исходном сырье незаполнены\n",
    "# или содержание золота равно нулю\n",
    "train = train.drop(train.index[train['rougher.input.feed_au'].isna()])\n",
    "train = train.drop(train.index[train['rougher.input.feed_au'] == 0])\n",
    "test = test.drop(test.index[test['rougher.input.feed_au'].isna()])\n",
    "test = test.drop(test.index[test['rougher.input.feed_au'] == 0])\n",
    "full = full.drop(full.index[full['rougher.input.feed_au'].isna()])\n",
    "full = full.drop(full.index[full['rougher.input.feed_au'] == 0])"
   ]
  },
  {
   "cell_type": "code",
   "execution_count": 19,
   "metadata": {},
   "outputs": [
    {
     "data": {
      "text/plain": [
       "0.0"
      ]
     },
     "execution_count": 19,
     "metadata": {},
     "output_type": "execute_result"
    }
   ],
   "source": [
    "# проверим что функция сработала так как задуманно\n",
    "full['rougher.input.feed_au'].isna().mean()"
   ]
  },
  {
   "cell_type": "markdown",
   "metadata": {},
   "source": [
    "Оценим долю незаполненных строк в столбце rougher.output.tail_au"
   ]
  },
  {
   "cell_type": "code",
   "execution_count": 20,
   "metadata": {},
   "outputs": [
    {
     "data": {
      "text/plain": [
       "0.0567594480534876"
      ]
     },
     "execution_count": 20,
     "metadata": {},
     "output_type": "execute_result"
    }
   ],
   "source": [
    "full['rougher.output.tail_au'].isna().mean()"
   ]
  },
  {
   "cell_type": "markdown",
   "metadata": {},
   "source": [
    "Доля незаполненных строк в данном столбце приближается к 6% и удалять их не желательно. Оценим распределение по данному параметру"
   ]
  },
  {
   "cell_type": "code",
   "execution_count": 21,
   "metadata": {},
   "outputs": [
    {
     "data": {
      "image/png": "[encoded data removed]",
      "text/plain": [
       "<Figure size 1080x360 with 1 Axes>"
      ]
     },
     "metadata": {
      "needs_background": "light"
     },
     "output_type": "display_data"
    }
   ],
   "source": [
    "(full['rougher.output.tail_au'].hist(bins=101, figsize=(15,5))\n",
    " .set(xlabel='Содержание золота в отвальных хвостах, %', \n",
    "      ylabel='Количество записей',  \n",
    "      title='Распределение содержания золота в отвальных хвостах'));"
   ]
  },
  {
   "cell_type": "code",
   "execution_count": 22,
   "metadata": {},
   "outputs": [
    {
     "data": {
      "text/plain": [
       "count    14547.000000\n",
       "mean         1.761855\n",
       "std          0.730830\n",
       "min          0.020676\n",
       "25%          1.310091\n",
       "50%          1.744990\n",
       "75%          2.188485\n",
       "max          9.688980\n",
       "Name: rougher.output.tail_au, dtype: float64"
      ]
     },
     "execution_count": 22,
     "metadata": {},
     "output_type": "execute_result"
    }
   ],
   "source": [
    "train['rougher.output.tail_au'].describe()"
   ]
  },
  {
   "cell_type": "markdown",
   "metadata": {},
   "source": [
    "Распределение близко к нормальному. Медиана не сильно отличается от среднего значения, а значит в распределении не существенных выбросов. Заполним пропуски средними значениями расчитанными по тестовой выборке"
   ]
  },
  {
   "cell_type": "code",
   "execution_count": 23,
   "metadata": {},
   "outputs": [],
   "source": [
    "train['rougher.output.tail_au'] = train['rougher.output.tail_au'].fillna(train['rougher.output.tail_au'].mean())\n",
    "full['rougher.output.tail_au'] = full['rougher.output.tail_au'].fillna(train['rougher.output.tail_au'].mean())"
   ]
  },
  {
   "cell_type": "code",
   "execution_count": 24,
   "metadata": {},
   "outputs": [
    {
     "data": {
      "text/plain": [
       "0.0"
      ]
     },
     "execution_count": 24,
     "metadata": {},
     "output_type": "execute_result"
    }
   ],
   "source": [
    "# проверим что замена прошла так как задуманно\n",
    "(full['rougher.output.tail_au']).isna().mean()"
   ]
  },
  {
   "cell_type": "markdown",
   "metadata": {},
   "source": [
    "Так же исключим из данных случаи когда на стадии флотаци все выходное золото остается в \"хвостах\""
   ]
  },
  {
   "cell_type": "code",
   "execution_count": 25,
   "metadata": {},
   "outputs": [],
   "source": [
    "train = train.drop(train.index[train['rougher.output.concentrate_au'] == train['rougher.output.tail_au']])\n",
    "full = full.drop(full.index[full['rougher.output.concentrate_au'] == full['rougher.output.tail_au']])"
   ]
  },
  {
   "cell_type": "code",
   "execution_count": 26,
   "metadata": {},
   "outputs": [
    {
     "data": {
      "text/plain": [
       "0.0"
      ]
     },
     "execution_count": 26,
     "metadata": {},
     "output_type": "execute_result"
    }
   ],
   "source": [
    "# проверка\n",
    "(train['rougher.output.concentrate_au'] == train['rougher.output.tail_au']).mean()"
   ]
  },
  {
   "cell_type": "markdown",
   "metadata": {},
   "source": [
    "Так же из данных необходимо исключить случаи когда содержание золота в \"хвостах\" больше чем содержание золота в исходном сырье"
   ]
  },
  {
   "cell_type": "code",
   "execution_count": 27,
   "metadata": {},
   "outputs": [
    {
     "data": {
      "text/plain": [
       "0.028364707388910233"
      ]
     },
     "execution_count": 27,
     "metadata": {},
     "output_type": "execute_result"
    }
   ],
   "source": [
    "(train['rougher.input.feed_au'] < train['rougher.output.tail_au']).mean()"
   ]
  },
  {
   "cell_type": "code",
   "execution_count": 28,
   "metadata": {},
   "outputs": [
    {
     "data": {
      "text/plain": [
       "0.0"
      ]
     },
     "execution_count": 28,
     "metadata": {},
     "output_type": "execute_result"
    }
   ],
   "source": [
    "train = train.drop(train.index[train['rougher.input.feed_au'] < train['rougher.output.tail_au']])\n",
    "full = full.drop(full.index[full['rougher.input.feed_au'] < full['rougher.output.tail_au']])\n",
    "# проверка\n",
    "(train['rougher.input.feed_au'] < train['rougher.output.tail_au']).mean()"
   ]
  },
  {
   "cell_type": "markdown",
   "metadata": {},
   "source": [
    "Оценим эффективность обогащения на стадии флотации на тестовой выборке по заданным формулам"
   ]
  },
  {
   "cell_type": "code",
   "execution_count": 29,
   "metadata": {},
   "outputs": [],
   "source": [
    "c = train['rougher.output.concentrate_au']\n",
    "f = train['rougher.input.feed_au']\n",
    "t = train['rougher.output.tail_au']\n",
    "train['rougher.output.recovery_manual_calc'] = (c * (f - t)) / (f * (c - t)) * 100"
   ]
  },
  {
   "cell_type": "code",
   "execution_count": 30,
   "metadata": {},
   "outputs": [],
   "source": [
    "c = full['rougher.output.concentrate_au']\n",
    "f = full['rougher.input.feed_au']\n",
    "t = full['rougher.output.tail_au']\n",
    "full['rougher.output.recovery_manual_calc'] = (c * (f - t)) / (f * (c - t)) * 100"
   ]
  },
  {
   "cell_type": "markdown",
   "metadata": {},
   "source": [
    "Оценим на сколько близка оценка обогащения полученная по формуле к оценке приведенной в датасете (для заполненных строк)"
   ]
  },
  {
   "cell_type": "code",
   "execution_count": 31,
   "metadata": {},
   "outputs": [
    {
     "data": {
      "text/plain": [
       "9.823469458453012e-15"
      ]
     },
     "execution_count": 31,
     "metadata": {},
     "output_type": "execute_result"
    }
   ],
   "source": [
    "full_rougher_notna_index = full.index[full['rougher.output.recovery'].notna()]\n",
    "mean_absolute_error(full.loc[full_rougher_notna_index, 'rougher.output.recovery'], \n",
    "                    full.loc[full_rougher_notna_index, 'rougher.output.recovery_manual_calc'])"
   ]
  },
  {
   "cell_type": "markdown",
   "metadata": {},
   "source": [
    "Оценки практически идентичны. \n",
    "\n",
    "Аналогично подготовим исходные данные и оценим по формуле эффективность обогащения по итогам всего техпроцесса"
   ]
  },
  {
   "cell_type": "code",
   "execution_count": 32,
   "metadata": {},
   "outputs": [
    {
     "data": {
      "text/plain": [
       "0.00032948929159802305"
      ]
     },
     "execution_count": 32,
     "metadata": {},
     "output_type": "execute_result"
    }
   ],
   "source": [
    "# доля строк для которых финальная концентрация золота равна нулю\n",
    "train['final.output.concentrate_au'].isna().mean()"
   ]
  },
  {
   "cell_type": "code",
   "execution_count": 33,
   "metadata": {},
   "outputs": [
    {
     "data": {
      "text/plain": [
       "0.0"
      ]
     },
     "execution_count": 33,
     "metadata": {},
     "output_type": "execute_result"
    }
   ],
   "source": [
    "train = train.drop(train.index[train['final.output.concentrate_au'].isna()])\n",
    "full = full.drop(full.index[full['final.output.concentrate_au'].isna()])\n",
    "train['final.output.concentrate_au'].isna().mean()"
   ]
  },
  {
   "cell_type": "code",
   "execution_count": 34,
   "metadata": {},
   "outputs": [
    {
     "data": {
      "text/plain": [
       "0.00988793671720501"
      ]
     },
     "execution_count": 34,
     "metadata": {},
     "output_type": "execute_result"
    }
   ],
   "source": [
    "#доля строк для которых концентрация золота по выходу первичной очистки равна нулю\n",
    "(train['primary_cleaner.output.concentrate_au'] == 0).mean()"
   ]
  },
  {
   "cell_type": "code",
   "execution_count": 35,
   "metadata": {},
   "outputs": [
    {
     "data": {
      "text/plain": [
       "0.0"
      ]
     },
     "execution_count": 35,
     "metadata": {},
     "output_type": "execute_result"
    }
   ],
   "source": [
    "train = train.drop(train.index[train['primary_cleaner.output.concentrate_au'] == 0])\n",
    "full = full.drop(full.index[full['primary_cleaner.output.concentrate_au'] == 0])\n",
    "(train['primary_cleaner.output.concentrate_au'] == 0).mean()"
   ]
  },
  {
   "cell_type": "code",
   "execution_count": 36,
   "metadata": {},
   "outputs": [],
   "source": [
    "# так же удалим строки для которых итоговая концентрация равна концентрации в хвостах\n",
    "train = train.drop(train.index[train['final.output.concentrate_au'] == train['final.output.tail_au']])\n",
    "full = full.drop(full.index[full['final.output.concentrate_au'] == full['final.output.tail_au']])"
   ]
  },
  {
   "cell_type": "code",
   "execution_count": 37,
   "metadata": {},
   "outputs": [
    {
     "data": {
      "text/plain": [
       "0.011412934659280519"
      ]
     },
     "execution_count": 37,
     "metadata": {},
     "output_type": "execute_result"
    }
   ],
   "source": [
    "# строки в которых содержание золота в исходном сырье меньше чем содержание золота в хвостах\n",
    "(train['primary_cleaner.output.concentrate_au'] < train['final.output.tail_au']).mean()"
   ]
  },
  {
   "cell_type": "code",
   "execution_count": 38,
   "metadata": {},
   "outputs": [
    {
     "data": {
      "text/plain": [
       "0.0"
      ]
     },
     "execution_count": 38,
     "metadata": {},
     "output_type": "execute_result"
    }
   ],
   "source": [
    "train = train.drop(train.index[train['primary_cleaner.output.concentrate_au'] < train['final.output.tail_au']])\n",
    "full = full.drop(full.index[full['primary_cleaner.output.concentrate_au'] < full['final.output.tail_au']])\n",
    "# проверка\n",
    "(train['primary_cleaner.output.concentrate_au'] < train['final.output.tail_au']).mean()"
   ]
  },
  {
   "cell_type": "code",
   "execution_count": 39,
   "metadata": {},
   "outputs": [],
   "source": [
    "c = train['final.output.concentrate_au']\n",
    "f = train['primary_cleaner.output.concentrate_au']\n",
    "t = train['final.output.tail_au']\n",
    "train['final.output.recovery_manual_calc'] = (c * (f - t)) / (f * (c - t)) * 100"
   ]
  },
  {
   "cell_type": "code",
   "execution_count": 40,
   "metadata": {},
   "outputs": [],
   "source": [
    "c = full['final.output.concentrate_au']\n",
    "f = full['primary_cleaner.output.concentrate_au']\n",
    "t = full['final.output.tail_au']\n",
    "full['final.output.recovery_manual_calc'] = (c * (f - t)) / (f * (c - t)) * 100"
   ]
  },
  {
   "cell_type": "markdown",
   "metadata": {},
   "source": [
    "Оценим на сколько близка оценка обогащения полученная по формуле к оценке приведенной в датасете (для заполненных строк)"
   ]
  },
  {
   "cell_type": "code",
   "execution_count": 41,
   "metadata": {},
   "outputs": [
    {
     "data": {
      "text/plain": [
       "29.65250364043836"
      ]
     },
     "execution_count": 41,
     "metadata": {},
     "output_type": "execute_result"
    }
   ],
   "source": [
    "full_final_notna_index = full.index[(full['final.output.recovery'].notna()) & \n",
    "                                    (full['final.output.recovery_manual_calc'].notna())]\n",
    "mean_absolute_error(full.loc[full_final_notna_index, 'final.output.recovery'], \n",
    "                    full.loc[full_final_notna_index, 'final.output.recovery_manual_calc'])"
   ]
  },
  {
   "cell_type": "markdown",
   "metadata": {},
   "source": [
    "Точность оценки обогащения по результатам всех стадий технологического цикла (по формуле) ниже, чем точность отдельно для стадии флотации. Запролним пропущенные строки расчетными значениями."
   ]
  },
  {
   "cell_type": "code",
   "execution_count": 42,
   "metadata": {},
   "outputs": [
    {
     "data": {
      "text/plain": [
       "0.0"
      ]
     },
     "execution_count": 42,
     "metadata": {},
     "output_type": "execute_result"
    }
   ],
   "source": [
    "train['rougher.output.recovery'] = train['rougher.output.recovery'].fillna(train['rougher.output.recovery_manual_calc'])\n",
    "train['rougher.output.recovery'].isna().mean()"
   ]
  },
  {
   "cell_type": "code",
   "execution_count": 43,
   "metadata": {},
   "outputs": [
    {
     "data": {
      "text/plain": [
       "0.0"
      ]
     },
     "execution_count": 43,
     "metadata": {},
     "output_type": "execute_result"
    }
   ],
   "source": [
    "train['final.output.recovery'] = train['final.output.recovery'].fillna(train['final.output.recovery_manual_calc'])\n",
    "train['final.output.recovery'].isna().mean()"
   ]
  },
  {
   "cell_type": "code",
   "execution_count": 44,
   "metadata": {},
   "outputs": [],
   "source": [
    "full['rougher.output.recovery'] = full['rougher.output.recovery'].fillna(full['rougher.output.recovery_manual_calc'])\n",
    "full['final.output.recovery'] = full['final.output.recovery'].fillna(full['final.output.recovery_manual_calc'])"
   ]
  },
  {
   "cell_type": "markdown",
   "metadata": {},
   "source": [
    "Построим гистограмму распределения эффективности обогащения после стадии флотации и финальной стадии."
   ]
  },
  {
   "cell_type": "code",
   "execution_count": 45,
   "metadata": {},
   "outputs": [
    {
     "data": {
      "image/png": "[encoded data removed]",
      "text/plain": [
       "<Figure size 1080x360 with 1 Axes>"
      ]
     },
     "metadata": {
      "needs_background": "light"
     },
     "output_type": "display_data"
    }
   ],
   "source": [
    "(full['rougher.output.recovery'].hist(bins=101, figsize=(15,5))\n",
    " .set(xlabel='Эффективность обогащения, %', \n",
    "      ylabel='Количество записей',  \n",
    "      title='Эффективность обогощения золота на стадии флотации'));"
   ]
  },
  {
   "cell_type": "code",
   "execution_count": 46,
   "metadata": {},
   "outputs": [
    {
     "data": {
      "image/png": "[encoded data removed]",
      "text/plain": [
       "<Figure size 1080x360 with 1 Axes>"
      ]
     },
     "metadata": {
      "needs_background": "light"
     },
     "output_type": "display_data"
    }
   ],
   "source": [
    "(full['final.output.recovery'].hist(bins=101, figsize=(15,5))\n",
    " .set(xlabel='Эффективность обогащения, %', \n",
    "      ylabel='Количество записей',  \n",
    "      title='Эффективность обогощения золота после всего технологического цикла'));"
   ]
  },
  {
   "cell_type": "markdown",
   "metadata": {},
   "source": [
    "Видно, что в распределениях встечаются аномалии. Удалим из датасетов все значения меньше либо равные нулю и более либо равные 100 %"
   ]
  },
  {
   "cell_type": "code",
   "execution_count": 47,
   "metadata": {},
   "outputs": [
    {
     "data": {
      "text/plain": [
       "0.03645692681609506"
      ]
     },
     "execution_count": 47,
     "metadata": {},
     "output_type": "execute_result"
    }
   ],
   "source": [
    "((train['rougher.output.recovery'] <= 0) | (train['rougher.output.recovery'] >= 100)).mean()"
   ]
  },
  {
   "cell_type": "code",
   "execution_count": 48,
   "metadata": {},
   "outputs": [],
   "source": [
    "train = train.drop(train.index[(train['rougher.output.recovery'] <= 0) | (train['rougher.output.recovery'] >= 100)])\n",
    "train = train.drop(train.index[(train['final.output.recovery'] <= 0) | (train['final.output.recovery'] >= 100)])\n",
    "full = full.drop(full.index[(full['rougher.output.recovery'] <= 0) | (full['rougher.output.recovery'] >= 100)])\n",
    "full = full.drop(full.index[(full['final.output.recovery'] <= 0) | (full['final.output.recovery'] >= 100)])"
   ]
  },
  {
   "cell_type": "markdown",
   "metadata": {},
   "source": [
    "Еще раз посмотрим на гистограммы после удаления аномалий"
   ]
  },
  {
   "cell_type": "code",
   "execution_count": 49,
   "metadata": {
    "scrolled": true
   },
   "outputs": [
    {
     "data": {
      "image/png": "[encoded data removed]",
      "text/plain": [
       "<Figure size 1080x360 with 1 Axes>"
      ]
     },
     "metadata": {
      "needs_background": "light"
     },
     "output_type": "display_data"
    }
   ],
   "source": [
    "(full['rougher.output.recovery'].hist(bins=101, figsize=(15,5))\n",
    " .set(xlabel='Эффективность обогащения, %', \n",
    "      ylabel='Количество записей',  \n",
    "      title='Эффективность обогощения золота на стадии флотации'));"
   ]
  },
  {
   "cell_type": "code",
   "execution_count": 50,
   "metadata": {},
   "outputs": [
    {
     "data": {
      "image/png": "[encoded data removed]",
      "text/plain": [
       "<Figure size 1080x360 with 1 Axes>"
      ]
     },
     "metadata": {
      "needs_background": "light"
     },
     "output_type": "display_data"
    }
   ],
   "source": [
    "(full['final.output.recovery'].hist(bins=101, figsize=(15,5))\n",
    " .set(xlabel='Эффективность обогащения, %', \n",
    "      ylabel='Количество записей',  \n",
    "      title='Эффективность обогощения золота после всего технологического цикла'));"
   ]
  },
  {
   "cell_type": "markdown",
   "metadata": {},
   "source": [
    "Добавим в тестовую выборку столбцы rougher.output.recovery и final.output.recovery по соответствующим датам"
   ]
  },
  {
   "cell_type": "code",
   "execution_count": 51,
   "metadata": {},
   "outputs": [],
   "source": [
    "test = test.merge(full.loc[:,['date','rougher.output.recovery', 'final.output.recovery']], on='date', how='left')"
   ]
  },
  {
   "cell_type": "markdown",
   "metadata": {},
   "source": [
    "Строки в которых целевые признаки заменить не удалось удалим"
   ]
  },
  {
   "cell_type": "code",
   "execution_count": 52,
   "metadata": {},
   "outputs": [
    {
     "data": {
      "text/plain": [
       "0"
      ]
     },
     "execution_count": 52,
     "metadata": {},
     "output_type": "execute_result"
    }
   ],
   "source": [
    "test = test.drop(test.index[test['final.output.recovery'].isna()])\n",
    "test['final.output.recovery'].isna().sum()"
   ]
  },
  {
   "cell_type": "code",
   "execution_count": 53,
   "metadata": {},
   "outputs": [
    {
     "data": {
      "text/plain": [
       "0"
      ]
     },
     "execution_count": 53,
     "metadata": {},
     "output_type": "execute_result"
    }
   ],
   "source": [
    "test = test.drop(test.index[test['rougher.output.recovery'].isna()])\n",
    "test['rougher.output.recovery'].isna().sum()"
   ]
  },
  {
   "cell_type": "markdown",
   "metadata": {},
   "source": [
    "Поскольку данные упорядочены по дате, а по условиям задачи соседние по времени параметры похожи, то остальные проруски в данных заполним ближайшими значениямиями. Заполнять будем только те столбцы которые имеются в тестовой выборке (в тестовой выборке нет признаков final.* и * .calculation.* )"
   ]
  },
  {
   "cell_type": "code",
   "execution_count": 54,
   "metadata": {},
   "outputs": [],
   "source": [
    "train[test.columns] = train[test.columns].fillna(method='ffill')\n",
    "test = test.fillna(method='ffill')"
   ]
  },
  {
   "cell_type": "markdown",
   "metadata": {},
   "source": [
    "Проверим что в датасетах больше нет пропусков"
   ]
  },
  {
   "cell_type": "code",
   "execution_count": 55,
   "metadata": {},
   "outputs": [
    {
     "name": "stdout",
     "output_type": "stream",
     "text": [
      "<class 'pandas.core.frame.DataFrame'>\n",
      "Int64Index: 14063 entries, 0 to 16859\n",
      "Data columns (total 55 columns):\n",
      " #   Column                                      Non-Null Count  Dtype         \n",
      "---  ------                                      --------------  -----         \n",
      " 0   date                                        14063 non-null  datetime64[ns]\n",
      " 1   primary_cleaner.input.sulfate               14063 non-null  float64       \n",
      " 2   primary_cleaner.input.depressant            14063 non-null  float64       \n",
      " 3   primary_cleaner.input.feed_size             14063 non-null  float64       \n",
      " 4   primary_cleaner.input.xanthate              14063 non-null  float64       \n",
      " 5   primary_cleaner.state.floatbank8_a_air      14063 non-null  float64       \n",
      " 6   primary_cleaner.state.floatbank8_a_level    14063 non-null  float64       \n",
      " 7   primary_cleaner.state.floatbank8_b_air      14063 non-null  float64       \n",
      " 8   primary_cleaner.state.floatbank8_b_level    14063 non-null  float64       \n",
      " 9   primary_cleaner.state.floatbank8_c_air      14063 non-null  float64       \n",
      " 10  primary_cleaner.state.floatbank8_c_level    14063 non-null  float64       \n",
      " 11  primary_cleaner.state.floatbank8_d_air      14063 non-null  float64       \n",
      " 12  primary_cleaner.state.floatbank8_d_level    14063 non-null  float64       \n",
      " 13  rougher.input.feed_ag                       14063 non-null  float64       \n",
      " 14  rougher.input.feed_pb                       14063 non-null  float64       \n",
      " 15  rougher.input.feed_rate                     14063 non-null  float64       \n",
      " 16  rougher.input.feed_size                     14063 non-null  float64       \n",
      " 17  rougher.input.feed_sol                      14063 non-null  float64       \n",
      " 18  rougher.input.feed_au                       14063 non-null  float64       \n",
      " 19  rougher.input.floatbank10_sulfate           14063 non-null  float64       \n",
      " 20  rougher.input.floatbank10_xanthate          14063 non-null  float64       \n",
      " 21  rougher.input.floatbank11_sulfate           14063 non-null  float64       \n",
      " 22  rougher.input.floatbank11_xanthate          14063 non-null  float64       \n",
      " 23  rougher.state.floatbank10_a_air             14063 non-null  float64       \n",
      " 24  rougher.state.floatbank10_a_level           14063 non-null  float64       \n",
      " 25  rougher.state.floatbank10_b_air             14063 non-null  float64       \n",
      " 26  rougher.state.floatbank10_b_level           14063 non-null  float64       \n",
      " 27  rougher.state.floatbank10_c_air             14063 non-null  float64       \n",
      " 28  rougher.state.floatbank10_c_level           14063 non-null  float64       \n",
      " 29  rougher.state.floatbank10_d_air             14063 non-null  float64       \n",
      " 30  rougher.state.floatbank10_d_level           14063 non-null  float64       \n",
      " 31  rougher.state.floatbank10_e_air             14063 non-null  float64       \n",
      " 32  rougher.state.floatbank10_e_level           14063 non-null  float64       \n",
      " 33  rougher.state.floatbank10_f_air             14063 non-null  float64       \n",
      " 34  rougher.state.floatbank10_f_level           14063 non-null  float64       \n",
      " 35  secondary_cleaner.state.floatbank2_a_air    14063 non-null  float64       \n",
      " 36  secondary_cleaner.state.floatbank2_a_level  14063 non-null  float64       \n",
      " 37  secondary_cleaner.state.floatbank2_b_air    14063 non-null  float64       \n",
      " 38  secondary_cleaner.state.floatbank2_b_level  14063 non-null  float64       \n",
      " 39  secondary_cleaner.state.floatbank3_a_air    14063 non-null  float64       \n",
      " 40  secondary_cleaner.state.floatbank3_a_level  14063 non-null  float64       \n",
      " 41  secondary_cleaner.state.floatbank3_b_air    14063 non-null  float64       \n",
      " 42  secondary_cleaner.state.floatbank3_b_level  14063 non-null  float64       \n",
      " 43  secondary_cleaner.state.floatbank4_a_air    14063 non-null  float64       \n",
      " 44  secondary_cleaner.state.floatbank4_a_level  14063 non-null  float64       \n",
      " 45  secondary_cleaner.state.floatbank4_b_air    14063 non-null  float64       \n",
      " 46  secondary_cleaner.state.floatbank4_b_level  14063 non-null  float64       \n",
      " 47  secondary_cleaner.state.floatbank5_a_air    14063 non-null  float64       \n",
      " 48  secondary_cleaner.state.floatbank5_a_level  14063 non-null  float64       \n",
      " 49  secondary_cleaner.state.floatbank5_b_air    14063 non-null  float64       \n",
      " 50  secondary_cleaner.state.floatbank5_b_level  14063 non-null  float64       \n",
      " 51  secondary_cleaner.state.floatbank6_a_air    14063 non-null  float64       \n",
      " 52  secondary_cleaner.state.floatbank6_a_level  14063 non-null  float64       \n",
      " 53  rougher.output.recovery                     14063 non-null  float64       \n",
      " 54  final.output.recovery                       14063 non-null  float64       \n",
      "dtypes: datetime64[ns](1), float64(54)\n",
      "memory usage: 6.0 MB\n"
     ]
    }
   ],
   "source": [
    "train[test.columns].info()"
   ]
  },
  {
   "cell_type": "code",
   "execution_count": 56,
   "metadata": {},
   "outputs": [
    {
     "name": "stdout",
     "output_type": "stream",
     "text": [
      "<class 'pandas.core.frame.DataFrame'>\n",
      "Int64Index: 5171 entries, 0 to 5470\n",
      "Data columns (total 55 columns):\n",
      " #   Column                                      Non-Null Count  Dtype         \n",
      "---  ------                                      --------------  -----         \n",
      " 0   date                                        5171 non-null   datetime64[ns]\n",
      " 1   primary_cleaner.input.sulfate               5171 non-null   float64       \n",
      " 2   primary_cleaner.input.depressant            5171 non-null   float64       \n",
      " 3   primary_cleaner.input.feed_size             5171 non-null   float64       \n",
      " 4   primary_cleaner.input.xanthate              5171 non-null   float64       \n",
      " 5   primary_cleaner.state.floatbank8_a_air      5171 non-null   float64       \n",
      " 6   primary_cleaner.state.floatbank8_a_level    5171 non-null   float64       \n",
      " 7   primary_cleaner.state.floatbank8_b_air      5171 non-null   float64       \n",
      " 8   primary_cleaner.state.floatbank8_b_level    5171 non-null   float64       \n",
      " 9   primary_cleaner.state.floatbank8_c_air      5171 non-null   float64       \n",
      " 10  primary_cleaner.state.floatbank8_c_level    5171 non-null   float64       \n",
      " 11  primary_cleaner.state.floatbank8_d_air      5171 non-null   float64       \n",
      " 12  primary_cleaner.state.floatbank8_d_level    5171 non-null   float64       \n",
      " 13  rougher.input.feed_ag                       5171 non-null   float64       \n",
      " 14  rougher.input.feed_pb                       5171 non-null   float64       \n",
      " 15  rougher.input.feed_rate                     5171 non-null   float64       \n",
      " 16  rougher.input.feed_size                     5171 non-null   float64       \n",
      " 17  rougher.input.feed_sol                      5171 non-null   float64       \n",
      " 18  rougher.input.feed_au                       5171 non-null   float64       \n",
      " 19  rougher.input.floatbank10_sulfate           5171 non-null   float64       \n",
      " 20  rougher.input.floatbank10_xanthate          5171 non-null   float64       \n",
      " 21  rougher.input.floatbank11_sulfate           5171 non-null   float64       \n",
      " 22  rougher.input.floatbank11_xanthate          5171 non-null   float64       \n",
      " 23  rougher.state.floatbank10_a_air             5171 non-null   float64       \n",
      " 24  rougher.state.floatbank10_a_level           5171 non-null   float64       \n",
      " 25  rougher.state.floatbank10_b_air             5171 non-null   float64       \n",
      " 26  rougher.state.floatbank10_b_level           5171 non-null   float64       \n",
      " 27  rougher.state.floatbank10_c_air             5171 non-null   float64       \n",
      " 28  rougher.state.floatbank10_c_level           5171 non-null   float64       \n",
      " 29  rougher.state.floatbank10_d_air             5171 non-null   float64       \n",
      " 30  rougher.state.floatbank10_d_level           5171 non-null   float64       \n",
      " 31  rougher.state.floatbank10_e_air             5171 non-null   float64       \n",
      " 32  rougher.state.floatbank10_e_level           5171 non-null   float64       \n",
      " 33  rougher.state.floatbank10_f_air             5171 non-null   float64       \n",
      " 34  rougher.state.floatbank10_f_level           5171 non-null   float64       \n",
      " 35  secondary_cleaner.state.floatbank2_a_air    5171 non-null   float64       \n",
      " 36  secondary_cleaner.state.floatbank2_a_level  5171 non-null   float64       \n",
      " 37  secondary_cleaner.state.floatbank2_b_air    5171 non-null   float64       \n",
      " 38  secondary_cleaner.state.floatbank2_b_level  5171 non-null   float64       \n",
      " 39  secondary_cleaner.state.floatbank3_a_air    5171 non-null   float64       \n",
      " 40  secondary_cleaner.state.floatbank3_a_level  5171 non-null   float64       \n",
      " 41  secondary_cleaner.state.floatbank3_b_air    5171 non-null   float64       \n",
      " 42  secondary_cleaner.state.floatbank3_b_level  5171 non-null   float64       \n",
      " 43  secondary_cleaner.state.floatbank4_a_air    5171 non-null   float64       \n",
      " 44  secondary_cleaner.state.floatbank4_a_level  5171 non-null   float64       \n",
      " 45  secondary_cleaner.state.floatbank4_b_air    5171 non-null   float64       \n",
      " 46  secondary_cleaner.state.floatbank4_b_level  5171 non-null   float64       \n",
      " 47  secondary_cleaner.state.floatbank5_a_air    5171 non-null   float64       \n",
      " 48  secondary_cleaner.state.floatbank5_a_level  5171 non-null   float64       \n",
      " 49  secondary_cleaner.state.floatbank5_b_air    5171 non-null   float64       \n",
      " 50  secondary_cleaner.state.floatbank5_b_level  5171 non-null   float64       \n",
      " 51  secondary_cleaner.state.floatbank6_a_air    5171 non-null   float64       \n",
      " 52  secondary_cleaner.state.floatbank6_a_level  5171 non-null   float64       \n",
      " 53  rougher.output.recovery                     5171 non-null   float64       \n",
      " 54  final.output.recovery                       5171 non-null   float64       \n",
      "dtypes: datetime64[ns](1), float64(54)\n",
      "memory usage: 2.4 MB\n"
     ]
    }
   ],
   "source": [
    "test.info()"
   ]
  },
  {
   "cell_type": "markdown",
   "metadata": {},
   "source": [
    "В заключении данного раздела оценим суммарное количество строк в обучающей выборке, удаленных в процессе предобработки"
   ]
  },
  {
   "cell_type": "code",
   "execution_count": 57,
   "metadata": {},
   "outputs": [
    {
     "name": "stdout",
     "output_type": "stream",
     "text": [
      "Суммарное количество удаленных в процессе предобработки строк в обучающей выборке 16.6%\n"
     ]
    }
   ],
   "source": [
    "print('Суммарное количество удаленных в процессе предобработки строк в обучающей выборке {:.1%}'.format(\n",
    "                                                                                            1 - (len(train) / train_init_len)))"
   ]
  },
  {
   "cell_type": "markdown",
   "metadata": {},
   "source": [
    "<a id='section2'> </a>\n",
    "\n",
    "# 2. Анализ данных"
   ]
  },
  {
   "cell_type": "markdown",
   "metadata": {},
   "source": [
    "## 2.1 Оценка изменения концентрации металлов (Au, Ag, Pb) на различных этапах очистки"
   ]
  },
  {
   "cell_type": "markdown",
   "metadata": {},
   "source": [
    "**Золото**\n",
    "\n",
    "Оценим как меняется концентрация золота при переходе от одной стадии техпроцесса к другой. Построим на графике первые 10 реализаций процесса."
   ]
  },
  {
   "cell_type": "code",
   "execution_count": 58,
   "metadata": {},
   "outputs": [],
   "source": [
    "au = train[['rougher.input.feed_au', 'rougher.output.concentrate_au', 'primary_cleaner.output.concentrate_au',\n",
    "            'final.output.concentrate_au']]"
   ]
  },
  {
   "cell_type": "code",
   "execution_count": 59,
   "metadata": {},
   "outputs": [
    {
     "data": {
      "image/png": "[encoded data removed]",
      "text/plain": [
       "<Figure size 1080x360 with 1 Axes>"
      ]
     },
     "metadata": {
      "needs_background": "light"
     },
     "output_type": "display_data"
    }
   ],
   "source": [
    "for i in range(0,10):\n",
    "    (au.loc[i].plot(rot=90, grid=True, figsize=(15, 5)) \n",
    "     .set(xlabel='Стадия техпроцесса', \n",
    "      ylabel='Концентрация золота, %',  \n",
    "      title='Изменение концентрации золота по техпроцессу'));"
   ]
  },
  {
   "cell_type": "markdown",
   "metadata": {},
   "source": [
    "Видно что концентрация золота от стадии к стадии растет. Проведем аналогичное исследование для концентрации серебра\n",
    "\n",
    "**Серебро**"
   ]
  },
  {
   "cell_type": "code",
   "execution_count": 60,
   "metadata": {},
   "outputs": [],
   "source": [
    "ag = train[['rougher.input.feed_ag', 'rougher.output.concentrate_ag', 'primary_cleaner.output.concentrate_ag',\n",
    "            'final.output.concentrate_ag']]"
   ]
  },
  {
   "cell_type": "code",
   "execution_count": 61,
   "metadata": {},
   "outputs": [
    {
     "data": {
      "image/png": "[encoded data removed]",
      "text/plain": [
       "<Figure size 1080x360 with 1 Axes>"
      ]
     },
     "metadata": {
      "needs_background": "light"
     },
     "output_type": "display_data"
    }
   ],
   "source": [
    "for i in range(0,10):\n",
    "    (ag.loc[i].plot(rot=90, grid=True, figsize=(15, 5))\n",
    "      .set(xlabel='Стадия техпроцесса', \n",
    "      ylabel='Концентрация серебра, %',  \n",
    "      title='Изменение концентрации серебра по техпроцессу'));"
   ]
  },
  {
   "cell_type": "markdown",
   "metadata": {},
   "source": [
    "Концентрация серебра растет на стадии флотации и затем уменшается на стадиях очистки\n",
    "\n",
    "**Свинец**"
   ]
  },
  {
   "cell_type": "code",
   "execution_count": 62,
   "metadata": {},
   "outputs": [],
   "source": [
    "pb = train[['rougher.input.feed_pb', 'rougher.output.concentrate_pb', 'primary_cleaner.output.concentrate_pb',\n",
    "            'final.output.concentrate_ag']]"
   ]
  },
  {
   "cell_type": "code",
   "execution_count": 63,
   "metadata": {},
   "outputs": [
    {
     "data": {
      "image/png": "[encoded data removed]",
      "text/plain": [
       "<Figure size 1080x360 with 1 Axes>"
      ]
     },
     "metadata": {
      "needs_background": "light"
     },
     "output_type": "display_data"
    }
   ],
   "source": [
    "for i in range(0,10):\n",
    "    (pb.loc[i].plot(rot=90, grid=True, figsize=(15, 5))\n",
    "      .set(xlabel='Стадия техпроцесса', \n",
    "      ylabel='Концентрация свинца, %',  \n",
    "      title='Изменение концентрации свинца по техпроцессу'));"
   ]
  },
  {
   "cell_type": "markdown",
   "metadata": {},
   "source": [
    "Концентрация свинца растет на стадиях флотации и первичной очистки и уменьшается на втором этапе очистки"
   ]
  },
  {
   "cell_type": "markdown",
   "metadata": {},
   "source": [
    "## 2.2 Сравнение размеров гранул сырья на обучающей и тестовой выборках"
   ]
  },
  {
   "cell_type": "markdown",
   "metadata": {},
   "source": [
    "Сравним распределения размеров гранул сырья на обучающей и тестовой выборках. Если распределения сильно отличаются друг от друга, оценка модели может быть неправильной."
   ]
  },
  {
   "cell_type": "code",
   "execution_count": 64,
   "metadata": {},
   "outputs": [
    {
     "data": {
      "image/png": "[encoded data removed]",
      "text/plain": [
       "<Figure size 1080x360 with 1 Axes>"
      ]
     },
     "metadata": {
      "needs_background": "light"
     },
     "output_type": "display_data"
    }
   ],
   "source": [
    "(train['rougher.input.feed_size'].hist(bins=101, figsize=(15,5))\n",
    " .set(xlabel='Размер гранул', \n",
    "      ylabel='Количество записей',  \n",
    "      title='Распределение размера гранул в обучающей выборке'));"
   ]
  },
  {
   "cell_type": "code",
   "execution_count": 65,
   "metadata": {},
   "outputs": [
    {
     "data": {
      "text/plain": [
       "count    14063.000000\n",
       "mean        60.051421\n",
       "std         23.352223\n",
       "min          9.659576\n",
       "25%         48.872120\n",
       "50%         55.190726\n",
       "75%         65.775326\n",
       "max        484.967466\n",
       "Name: rougher.input.feed_size, dtype: float64"
      ]
     },
     "execution_count": 65,
     "metadata": {},
     "output_type": "execute_result"
    }
   ],
   "source": [
    "train['rougher.input.feed_size'].describe()"
   ]
  },
  {
   "cell_type": "code",
   "execution_count": 66,
   "metadata": {},
   "outputs": [
    {
     "data": {
      "image/png": "[encoded data removed]",
      "text/plain": [
       "<Figure size 1080x360 with 1 Axes>"
      ]
     },
     "metadata": {
      "needs_background": "light"
     },
     "output_type": "display_data"
    }
   ],
   "source": [
    "(test['rougher.input.feed_size'].hist(bins=101, figsize=(15,5))\n",
    " .set(xlabel='Размер гранул', \n",
    "      ylabel='Количество записей',  \n",
    "      title='Распределение размера гранул в тестовой выборке'));"
   ]
  },
  {
   "cell_type": "code",
   "execution_count": 67,
   "metadata": {},
   "outputs": [
    {
     "data": {
      "text/plain": [
       "count    5171.000000\n",
       "mean       56.457237\n",
       "std        22.012336\n",
       "min         0.046369\n",
       "25%        43.878942\n",
       "50%        51.154707\n",
       "75%        62.587821\n",
       "max       477.445473\n",
       "Name: rougher.input.feed_size, dtype: float64"
      ]
     },
     "execution_count": 67,
     "metadata": {},
     "output_type": "execute_result"
    }
   ],
   "source": [
    "test['rougher.input.feed_size'].describe()"
   ]
  },
  {
   "cell_type": "markdown",
   "metadata": {},
   "source": [
    "Распределения достаточно близки. Можно переходить к следующей стадии"
   ]
  },
  {
   "cell_type": "markdown",
   "metadata": {},
   "source": [
    "## Исследование суммарной концентрации всех веществ на разных стадиях\n",
    "### Стадия флотации"
   ]
  },
  {
   "cell_type": "code",
   "execution_count": 68,
   "metadata": {},
   "outputs": [
    {
     "data": {
      "image/png": "[encoded data removed]",
      "text/plain": [
       "<Figure size 1080x360 with 1 Axes>"
      ]
     },
     "metadata": {
      "needs_background": "light"
     },
     "output_type": "display_data"
    }
   ],
   "source": [
    "full['rougher.input.feed_sum'] = (full['rougher.input.feed_ag'] + full['rougher.input.feed_pb'] +\n",
    "                                  full['rougher.input.feed_sol'] + full['rougher.input.feed_au'] +\n",
    "                                  full['rougher.input.floatbank10_sulfate'] + full['rougher.input.floatbank10_xanthate'] +\n",
    "                                  full['rougher.input.floatbank11_sulfate'] + full['rougher.input.floatbank11_xanthate']\n",
    "                                  )\n",
    "(full['rougher.input.feed_sum'].hist(bins=101, figsize=(15,5))\n",
    " .set(xlabel='Суммарная концентрация веществ', \n",
    "      ylabel='Количество записей',  \n",
    "      title='Распределение суммарной концентрации веществ на стадии флотации'));"
   ]
  },
  {
   "cell_type": "code",
   "execution_count": 69,
   "metadata": {},
   "outputs": [
    {
     "data": {
      "text/plain": [
       "count    18627.000000\n",
       "mean        94.156282\n",
       "std         12.324680\n",
       "min         11.563012\n",
       "25%         86.956098\n",
       "50%         94.571452\n",
       "75%        101.863163\n",
       "max        148.804721\n",
       "Name: rougher.input.feed_sum, dtype: float64"
      ]
     },
     "execution_count": 69,
     "metadata": {},
     "output_type": "execute_result"
    }
   ],
   "source": [
    "full['rougher.input.feed_sum'].describe()"
   ]
  },
  {
   "cell_type": "markdown",
   "metadata": {},
   "source": [
    "Так как в данных речь идет о двух флоатационных установках, то сумма всех веществ может быть больше 100%. Тем не менее очень низкие значения исходных веществ являются аномалиями. Оценим количество строк с низкими суммарными значениями и удалим их."
   ]
  },
  {
   "cell_type": "code",
   "execution_count": 70,
   "metadata": {},
   "outputs": [
    {
     "data": {
      "text/plain": [
       "0.004107309971924717"
      ]
     },
     "execution_count": 70,
     "metadata": {},
     "output_type": "execute_result"
    }
   ],
   "source": [
    "ROUGHER_INPUT_FEED_SUM_TRH = 50\n",
    "(full['rougher.input.feed_sum'] < ROUGHER_INPUT_FEED_SUM_TRH).mean()"
   ]
  },
  {
   "cell_type": "code",
   "execution_count": 71,
   "metadata": {},
   "outputs": [
    {
     "data": {
      "text/plain": [
       "0.0"
      ]
     },
     "execution_count": 71,
     "metadata": {},
     "output_type": "execute_result"
    }
   ],
   "source": [
    "train = train.drop(train.index[train['date'].isin(full[full['rougher.input.feed_sum'] < ROUGHER_INPUT_FEED_SUM_TRH]['date'])])\n",
    "test = test.drop(test.index[test['date'].isin(full[full['rougher.input.feed_sum'] < ROUGHER_INPUT_FEED_SUM_TRH]['date'])])\n",
    "full = full.drop(full.index[full['rougher.input.feed_sum'] < ROUGHER_INPUT_FEED_SUM_TRH])\n",
    "(full['rougher.input.feed_sum'] < ROUGHER_INPUT_FEED_SUM_TRH).mean()"
   ]
  },
  {
   "cell_type": "markdown",
   "metadata": {},
   "source": [
    "### Стадия первичной очистки"
   ]
  },
  {
   "cell_type": "code",
   "execution_count": 72,
   "metadata": {},
   "outputs": [
    {
     "data": {
      "image/png": "[encoded data removed]",
      "text/plain": [
       "<Figure size 1080x360 with 1 Axes>"
      ]
     },
     "metadata": {
      "needs_background": "light"
     },
     "output_type": "display_data"
    }
   ],
   "source": [
    "full['primary_cleaner.input.feed_sum'] = (full['primary_cleaner.input.sulfate'] + \n",
    "                                          full['primary_cleaner.input.depressant'] + \n",
    "                                          full['primary_cleaner.input.xanthate']\n",
    "                                          )\n",
    "(full['primary_cleaner.input.feed_sum'].hist(bins=101, figsize=(15,5))\n",
    " .set(xlabel='Суммарная концентрация веществ', \n",
    "      ylabel='Количество записей',  \n",
    "      title='Распределение суммарной концентрации веществ на стадии первичной очистки'));"
   ]
  },
  {
   "cell_type": "code",
   "execution_count": 73,
   "metadata": {},
   "outputs": [
    {
     "data": {
      "text/plain": [
       "count    19042.000000\n",
       "mean       155.273336\n",
       "std         46.075931\n",
       "min          2.996929\n",
       "25%        123.780778\n",
       "50%        153.588641\n",
       "75%        186.569113\n",
       "max        275.590625\n",
       "Name: primary_cleaner.input.feed_sum, dtype: float64"
      ]
     },
     "execution_count": 73,
     "metadata": {},
     "output_type": "execute_result"
    }
   ],
   "source": [
    "full['primary_cleaner.input.feed_sum'].describe()"
   ]
  },
  {
   "cell_type": "code",
   "execution_count": 74,
   "metadata": {},
   "outputs": [
    {
     "data": {
      "text/plain": [
       "0.001096319498825372"
      ]
     },
     "execution_count": 74,
     "metadata": {},
     "output_type": "execute_result"
    }
   ],
   "source": [
    "PRIMARY_CLEANER_INPUT_FEED_SUM_LOW_TRH = 25\n",
    "(full['primary_cleaner.input.feed_sum'] < PRIMARY_CLEANER_INPUT_FEED_SUM_LOW_TRH).mean()"
   ]
  },
  {
   "cell_type": "code",
   "execution_count": 75,
   "metadata": {},
   "outputs": [
    {
     "data": {
      "text/plain": [
       "0.004333072304881232"
      ]
     },
     "execution_count": 75,
     "metadata": {},
     "output_type": "execute_result"
    }
   ],
   "source": [
    "PRIMARY_CLEANER_INPUT_FEED_SUM_HI_TRH = 262.5\n",
    "(full['primary_cleaner.input.feed_sum'] > PRIMARY_CLEANER_INPUT_FEED_SUM_HI_TRH).mean()"
   ]
  },
  {
   "cell_type": "code",
   "execution_count": 76,
   "metadata": {},
   "outputs": [
    {
     "data": {
      "text/plain": [
       "0.0"
      ]
     },
     "execution_count": 76,
     "metadata": {},
     "output_type": "execute_result"
    }
   ],
   "source": [
    "drop_date = full[(full['primary_cleaner.input.feed_sum'] < PRIMARY_CLEANER_INPUT_FEED_SUM_LOW_TRH) |\n",
    "                 (full['primary_cleaner.input.feed_sum'] > PRIMARY_CLEANER_INPUT_FEED_SUM_HI_TRH)]['date']\n",
    "\n",
    "train = train.drop(train.index[train['date'].isin(drop_date)])\n",
    "test = test.drop(test.index[test['date'].isin(drop_date)])\n",
    "full = full.drop(full.index[full['date'].isin(drop_date)])\n",
    "((full['primary_cleaner.input.feed_sum'] < PRIMARY_CLEANER_INPUT_FEED_SUM_LOW_TRH) |\n",
    " (full['primary_cleaner.input.feed_sum'] > PRIMARY_CLEANER_INPUT_FEED_SUM_HI_TRH)).mean()"
   ]
  },
  {
   "cell_type": "markdown",
   "metadata": {},
   "source": [
    "<a id='section3'> </a>\n",
    "\n",
    "# 3. Модель"
   ]
  },
  {
   "cell_type": "markdown",
   "metadata": {},
   "source": [
    "Создадим функции для вычисления sMAPE и итогового sMAPE"
   ]
  },
  {
   "cell_type": "code",
   "execution_count": 77,
   "metadata": {},
   "outputs": [],
   "source": [
    "def sMAPE_score(y_true, y_pred):\n",
    "    if ((np.abs(y_true) + np.abs(y_pred)) == 0).any():\n",
    "        print('Деление на ноль')\n",
    "        return np.nan\n",
    "    else:\n",
    "        return np.sum(np.abs(y_true - y_pred) / ((np.abs(y_true) + np.abs(y_pred)) / 2)) / len(y_true)"
   ]
  },
  {
   "cell_type": "code",
   "execution_count": 78,
   "metadata": {},
   "outputs": [],
   "source": [
    "def total_sMAPE_score(y_true, y_pred):\n",
    "    y_rougher_true = y_true[:, 0]\n",
    "    y_final_true = y_true[:, 1]\n",
    "    y_rougher_pred = y_pred [:, 0]\n",
    "    y_final_pred =  y_pred [:, 1]\n",
    "    return 0.25 * sMAPE_score(y_rougher_true, y_rougher_pred) + 0.75 * sMAPE_score(y_final_true, y_final_pred)"
   ]
  },
  {
   "cell_type": "code",
   "execution_count": 79,
   "metadata": {},
   "outputs": [
    {
     "data": {
      "text/plain": [
       "Index(['primary_cleaner.input.sulfate', 'primary_cleaner.input.depressant',\n",
       "       'primary_cleaner.input.feed_size', 'primary_cleaner.input.xanthate',\n",
       "       'primary_cleaner.state.floatbank8_a_air',\n",
       "       'primary_cleaner.state.floatbank8_a_level',\n",
       "       'primary_cleaner.state.floatbank8_b_air',\n",
       "       'primary_cleaner.state.floatbank8_b_level',\n",
       "       'primary_cleaner.state.floatbank8_c_air',\n",
       "       'primary_cleaner.state.floatbank8_c_level',\n",
       "       'primary_cleaner.state.floatbank8_d_air',\n",
       "       'primary_cleaner.state.floatbank8_d_level', 'rougher.input.feed_ag',\n",
       "       'rougher.input.feed_pb', 'rougher.input.feed_rate',\n",
       "       'rougher.input.feed_size', 'rougher.input.feed_sol',\n",
       "       'rougher.input.feed_au', 'rougher.input.floatbank10_sulfate',\n",
       "       'rougher.input.floatbank10_xanthate',\n",
       "       'rougher.input.floatbank11_sulfate',\n",
       "       'rougher.input.floatbank11_xanthate', 'rougher.state.floatbank10_a_air',\n",
       "       'rougher.state.floatbank10_a_level', 'rougher.state.floatbank10_b_air',\n",
       "       'rougher.state.floatbank10_b_level', 'rougher.state.floatbank10_c_air',\n",
       "       'rougher.state.floatbank10_c_level', 'rougher.state.floatbank10_d_air',\n",
       "       'rougher.state.floatbank10_d_level', 'rougher.state.floatbank10_e_air',\n",
       "       'rougher.state.floatbank10_e_level', 'rougher.state.floatbank10_f_air',\n",
       "       'rougher.state.floatbank10_f_level',\n",
       "       'secondary_cleaner.state.floatbank2_a_air',\n",
       "       'secondary_cleaner.state.floatbank2_a_level',\n",
       "       'secondary_cleaner.state.floatbank2_b_air',\n",
       "       'secondary_cleaner.state.floatbank2_b_level',\n",
       "       'secondary_cleaner.state.floatbank3_a_air',\n",
       "       'secondary_cleaner.state.floatbank3_a_level',\n",
       "       'secondary_cleaner.state.floatbank3_b_air',\n",
       "       'secondary_cleaner.state.floatbank3_b_level',\n",
       "       'secondary_cleaner.state.floatbank4_a_air',\n",
       "       'secondary_cleaner.state.floatbank4_a_level',\n",
       "       'secondary_cleaner.state.floatbank4_b_air',\n",
       "       'secondary_cleaner.state.floatbank4_b_level',\n",
       "       'secondary_cleaner.state.floatbank5_a_air',\n",
       "       'secondary_cleaner.state.floatbank5_a_level',\n",
       "       'secondary_cleaner.state.floatbank5_b_air',\n",
       "       'secondary_cleaner.state.floatbank5_b_level',\n",
       "       'secondary_cleaner.state.floatbank6_a_air',\n",
       "       'secondary_cleaner.state.floatbank6_a_level'],\n",
       "      dtype='object')"
      ]
     },
     "execution_count": 79,
     "metadata": {},
     "output_type": "execute_result"
    }
   ],
   "source": [
    "y_col = ['rougher.output.recovery', 'final.output.recovery']\n",
    "x_col = test.columns.drop(['date'] + y_col)\n",
    "x_col"
   ]
  },
  {
   "cell_type": "markdown",
   "metadata": {},
   "source": [
    "Отмасштабируем числовые признаки"
   ]
  },
  {
   "cell_type": "code",
   "execution_count": 80,
   "metadata": {
    "scrolled": false
   },
   "outputs": [
    {
     "data": {
      "text/html": [
       "<div>\n",
       "<style scoped>\n",
       "    .dataframe tbody tr th:only-of-type {\n",
       "        vertical-align: middle;\n",
       "    }\n",
       "\n",
       "    .dataframe tbody tr th {\n",
       "        vertical-align: top;\n",
       "    }\n",
       "\n",
       "    .dataframe thead th {\n",
       "        text-align: right;\n",
       "    }\n",
       "</style>\n",
       "<table border=\"1\" class=\"dataframe\">\n",
       "  <thead>\n",
       "    <tr style=\"text-align: right;\">\n",
       "      <th></th>\n",
       "      <th>date</th>\n",
       "      <th>final.output.concentrate_ag</th>\n",
       "      <th>final.output.concentrate_pb</th>\n",
       "      <th>final.output.concentrate_sol</th>\n",
       "      <th>final.output.concentrate_au</th>\n",
       "      <th>final.output.recovery</th>\n",
       "      <th>final.output.tail_ag</th>\n",
       "      <th>final.output.tail_pb</th>\n",
       "      <th>final.output.tail_sol</th>\n",
       "      <th>final.output.tail_au</th>\n",
       "      <th>...</th>\n",
       "      <th>secondary_cleaner.state.floatbank4_b_air</th>\n",
       "      <th>secondary_cleaner.state.floatbank4_b_level</th>\n",
       "      <th>secondary_cleaner.state.floatbank5_a_air</th>\n",
       "      <th>secondary_cleaner.state.floatbank5_a_level</th>\n",
       "      <th>secondary_cleaner.state.floatbank5_b_air</th>\n",
       "      <th>secondary_cleaner.state.floatbank5_b_level</th>\n",
       "      <th>secondary_cleaner.state.floatbank6_a_air</th>\n",
       "      <th>secondary_cleaner.state.floatbank6_a_level</th>\n",
       "      <th>rougher.output.recovery_manual_calc</th>\n",
       "      <th>final.output.recovery_manual_calc</th>\n",
       "    </tr>\n",
       "  </thead>\n",
       "  <tbody>\n",
       "    <tr>\n",
       "      <th>0</th>\n",
       "      <td>2016-01-15 00:00:00</td>\n",
       "      <td>6.055403</td>\n",
       "      <td>9.889648</td>\n",
       "      <td>5.507324</td>\n",
       "      <td>42.192020</td>\n",
       "      <td>70.541216</td>\n",
       "      <td>10.411962</td>\n",
       "      <td>0.895447</td>\n",
       "      <td>16.904297</td>\n",
       "      <td>2.143149</td>\n",
       "      <td>...</td>\n",
       "      <td>-0.634824</td>\n",
       "      <td>-0.755698</td>\n",
       "      <td>-1.162139</td>\n",
       "      <td>-0.379454</td>\n",
       "      <td>-0.860018</td>\n",
       "      <td>-0.427504</td>\n",
       "      <td>-0.943996</td>\n",
       "      <td>-2.636206</td>\n",
       "      <td>87.107763</td>\n",
       "      <td>98.744534</td>\n",
       "    </tr>\n",
       "    <tr>\n",
       "      <th>1</th>\n",
       "      <td>2016-01-15 01:00:00</td>\n",
       "      <td>6.029369</td>\n",
       "      <td>9.968944</td>\n",
       "      <td>5.257781</td>\n",
       "      <td>42.701629</td>\n",
       "      <td>69.266198</td>\n",
       "      <td>10.462676</td>\n",
       "      <td>0.927452</td>\n",
       "      <td>16.634514</td>\n",
       "      <td>2.224930</td>\n",
       "      <td>...</td>\n",
       "      <td>-0.663304</td>\n",
       "      <td>-0.697565</td>\n",
       "      <td>-1.142620</td>\n",
       "      <td>-0.428003</td>\n",
       "      <td>-0.876585</td>\n",
       "      <td>-0.430356</td>\n",
       "      <td>-0.970720</td>\n",
       "      <td>-2.475028</td>\n",
       "      <td>86.843261</td>\n",
       "      <td>98.617181</td>\n",
       "    </tr>\n",
       "    <tr>\n",
       "      <th>2</th>\n",
       "      <td>2016-01-15 02:00:00</td>\n",
       "      <td>6.055926</td>\n",
       "      <td>10.213995</td>\n",
       "      <td>5.383759</td>\n",
       "      <td>42.657501</td>\n",
       "      <td>68.116445</td>\n",
       "      <td>10.507046</td>\n",
       "      <td>0.953716</td>\n",
       "      <td>16.208849</td>\n",
       "      <td>2.257889</td>\n",
       "      <td>...</td>\n",
       "      <td>-0.670500</td>\n",
       "      <td>-0.694162</td>\n",
       "      <td>-1.137179</td>\n",
       "      <td>-0.426937</td>\n",
       "      <td>-0.871502</td>\n",
       "      <td>-0.428699</td>\n",
       "      <td>-0.965426</td>\n",
       "      <td>-2.518689</td>\n",
       "      <td>86.842308</td>\n",
       "      <td>98.570585</td>\n",
       "    </tr>\n",
       "    <tr>\n",
       "      <th>3</th>\n",
       "      <td>2016-01-15 03:00:00</td>\n",
       "      <td>6.047977</td>\n",
       "      <td>9.977019</td>\n",
       "      <td>4.858634</td>\n",
       "      <td>42.689819</td>\n",
       "      <td>68.347543</td>\n",
       "      <td>10.422762</td>\n",
       "      <td>0.883763</td>\n",
       "      <td>16.532835</td>\n",
       "      <td>2.146849</td>\n",
       "      <td>...</td>\n",
       "      <td>-0.653959</td>\n",
       "      <td>-0.695198</td>\n",
       "      <td>-1.154454</td>\n",
       "      <td>-0.402725</td>\n",
       "      <td>-0.877882</td>\n",
       "      <td>-0.421988</td>\n",
       "      <td>-0.969463</td>\n",
       "      <td>-2.480590</td>\n",
       "      <td>87.226430</td>\n",
       "      <td>97.296409</td>\n",
       "    </tr>\n",
       "    <tr>\n",
       "      <th>4</th>\n",
       "      <td>2016-01-15 04:00:00</td>\n",
       "      <td>6.148599</td>\n",
       "      <td>10.142511</td>\n",
       "      <td>4.939416</td>\n",
       "      <td>42.774141</td>\n",
       "      <td>66.927016</td>\n",
       "      <td>10.360302</td>\n",
       "      <td>0.792826</td>\n",
       "      <td>16.525686</td>\n",
       "      <td>2.055292</td>\n",
       "      <td>...</td>\n",
       "      <td>-0.662820</td>\n",
       "      <td>-0.692796</td>\n",
       "      <td>-1.162126</td>\n",
       "      <td>-0.467598</td>\n",
       "      <td>-0.892384</td>\n",
       "      <td>-0.424556</td>\n",
       "      <td>-0.971018</td>\n",
       "      <td>-2.520535</td>\n",
       "      <td>86.688794</td>\n",
       "      <td>98.513891</td>\n",
       "    </tr>\n",
       "  </tbody>\n",
       "</table>\n",
       "<p>5 rows × 89 columns</p>\n",
       "</div>"
      ],
      "text/plain": [
       "                 date  final.output.concentrate_ag  \\\n",
       "0 2016-01-15 00:00:00                     6.055403   \n",
       "1 2016-01-15 01:00:00                     6.029369   \n",
       "2 2016-01-15 02:00:00                     6.055926   \n",
       "3 2016-01-15 03:00:00                     6.047977   \n",
       "4 2016-01-15 04:00:00                     6.148599   \n",
       "\n",
       "   final.output.concentrate_pb  final.output.concentrate_sol  \\\n",
       "0                     9.889648                      5.507324   \n",
       "1                     9.968944                      5.257781   \n",
       "2                    10.213995                      5.383759   \n",
       "3                     9.977019                      4.858634   \n",
       "4                    10.142511                      4.939416   \n",
       "\n",
       "   final.output.concentrate_au  final.output.recovery  final.output.tail_ag  \\\n",
       "0                    42.192020              70.541216             10.411962   \n",
       "1                    42.701629              69.266198             10.462676   \n",
       "2                    42.657501              68.116445             10.507046   \n",
       "3                    42.689819              68.347543             10.422762   \n",
       "4                    42.774141              66.927016             10.360302   \n",
       "\n",
       "   final.output.tail_pb  final.output.tail_sol  final.output.tail_au  ...  \\\n",
       "0              0.895447              16.904297              2.143149  ...   \n",
       "1              0.927452              16.634514              2.224930  ...   \n",
       "2              0.953716              16.208849              2.257889  ...   \n",
       "3              0.883763              16.532835              2.146849  ...   \n",
       "4              0.792826              16.525686              2.055292  ...   \n",
       "\n",
       "   secondary_cleaner.state.floatbank4_b_air  \\\n",
       "0                                 -0.634824   \n",
       "1                                 -0.663304   \n",
       "2                                 -0.670500   \n",
       "3                                 -0.653959   \n",
       "4                                 -0.662820   \n",
       "\n",
       "   secondary_cleaner.state.floatbank4_b_level  \\\n",
       "0                                   -0.755698   \n",
       "1                                   -0.697565   \n",
       "2                                   -0.694162   \n",
       "3                                   -0.695198   \n",
       "4                                   -0.692796   \n",
       "\n",
       "   secondary_cleaner.state.floatbank5_a_air  \\\n",
       "0                                 -1.162139   \n",
       "1                                 -1.142620   \n",
       "2                                 -1.137179   \n",
       "3                                 -1.154454   \n",
       "4                                 -1.162126   \n",
       "\n",
       "   secondary_cleaner.state.floatbank5_a_level  \\\n",
       "0                                   -0.379454   \n",
       "1                                   -0.428003   \n",
       "2                                   -0.426937   \n",
       "3                                   -0.402725   \n",
       "4                                   -0.467598   \n",
       "\n",
       "   secondary_cleaner.state.floatbank5_b_air  \\\n",
       "0                                 -0.860018   \n",
       "1                                 -0.876585   \n",
       "2                                 -0.871502   \n",
       "3                                 -0.877882   \n",
       "4                                 -0.892384   \n",
       "\n",
       "   secondary_cleaner.state.floatbank5_b_level  \\\n",
       "0                                   -0.427504   \n",
       "1                                   -0.430356   \n",
       "2                                   -0.428699   \n",
       "3                                   -0.421988   \n",
       "4                                   -0.424556   \n",
       "\n",
       "   secondary_cleaner.state.floatbank6_a_air  \\\n",
       "0                                 -0.943996   \n",
       "1                                 -0.970720   \n",
       "2                                 -0.965426   \n",
       "3                                 -0.969463   \n",
       "4                                 -0.971018   \n",
       "\n",
       "   secondary_cleaner.state.floatbank6_a_level  \\\n",
       "0                                   -2.636206   \n",
       "1                                   -2.475028   \n",
       "2                                   -2.518689   \n",
       "3                                   -2.480590   \n",
       "4                                   -2.520535   \n",
       "\n",
       "   rougher.output.recovery_manual_calc  final.output.recovery_manual_calc  \n",
       "0                            87.107763                          98.744534  \n",
       "1                            86.843261                          98.617181  \n",
       "2                            86.842308                          98.570585  \n",
       "3                            87.226430                          97.296409  \n",
       "4                            86.688794                          98.513891  \n",
       "\n",
       "[5 rows x 89 columns]"
      ]
     },
     "execution_count": 80,
     "metadata": {},
     "output_type": "execute_result"
    }
   ],
   "source": [
    "num_col = x_col\n",
    "scaler = StandardScaler()\n",
    "scaler.fit(train[num_col])\n",
    "df_train_scaled = train.copy()\n",
    "df_train_scaled[num_col] = scaler.transform(train[num_col])\n",
    "df_train_scaled.head()"
   ]
  },
  {
   "cell_type": "code",
   "execution_count": 81,
   "metadata": {},
   "outputs": [],
   "source": [
    "df_test_scaled = test.copy()\n",
    "df_test_scaled[num_col] = scaler.transform(test[num_col])"
   ]
  },
  {
   "cell_type": "code",
   "execution_count": 82,
   "metadata": {},
   "outputs": [
    {
     "data": {
      "text/plain": [
       "(13963, 52)"
      ]
     },
     "execution_count": 82,
     "metadata": {},
     "output_type": "execute_result"
    }
   ],
   "source": [
    "df_train_scaled[x_col].shape"
   ]
  },
  {
   "cell_type": "markdown",
   "metadata": {},
   "source": [
    "### Линейная регрессия"
   ]
  },
  {
   "cell_type": "code",
   "execution_count": 83,
   "metadata": {},
   "outputs": [
    {
     "data": {
      "text/plain": [
       "array([-0.1139, -0.0891, -0.0935, -0.0767, -0.121 ])"
      ]
     },
     "execution_count": 83,
     "metadata": {},
     "output_type": "execute_result"
    }
   ],
   "source": [
    "linear_regression_model = LinearRegression()\n",
    "scores = cross_val_score(linear_regression_model, df_train_scaled[x_col], df_train_scaled[y_col].values, cv=5, \n",
    "                         scoring = make_scorer(total_sMAPE_score, greater_is_better=False), n_jobs=-1)\n",
    "scores"
   ]
  },
  {
   "cell_type": "code",
   "execution_count": 84,
   "metadata": {},
   "outputs": [
    {
     "name": "stdout",
     "output_type": "stream",
     "text": [
      "Модель показывает sMAPE: 0.0989. СКО оценки при этом: 0.0163\n"
     ]
    }
   ],
   "source": [
    "print(\"Модель показывает sMAPE: %0.4f. СКО оценки при этом: %0.4f\" % (-scores.mean(), scores.std()))"
   ]
  },
  {
   "cell_type": "markdown",
   "metadata": {},
   "source": [
    "### Случайный лес"
   ]
  },
  {
   "cell_type": "code",
   "execution_count": 85,
   "metadata": {
    "scrolled": true
   },
   "outputs": [],
   "source": [
    "# # ниже представлен код который переберает число деревьев и их глубину и ищет наилучшую модель по заданному критерию\n",
    "# # так как перебор занимает порядка 4 часов код закомментирован.  \n",
    "# # модель с уже найдеными лучшими параметрами представлена в следующей ячейке\n",
    "\n",
    "# best_forest_depth = 1\n",
    "# best_forest_n_estimators = 1\n",
    "# best_forest_mean_score = 100\n",
    "# best_forest_std_score = 0\n",
    "# for n_estimators in tqdm(range(1, 151, 10)):\n",
    "#     for depth in range(1, 21, 2):\n",
    "#         random_forest_model = RandomForestRegressor(n_estimators=n_estimators, max_depth=depth, random_state=42, n_jobs=-1)\n",
    "#         scores = cross_val_score(random_forest_model, df_train_scaled[x_col], df_train_scaled[y_col].values, cv=5, \n",
    "#                                  scoring = make_scorer(total_sMAPE_score, greater_is_better=False), n_jobs=-1)\n",
    "#         if -scores.mean() < best_forest_mean_score:\n",
    "#             best_forest_depth = depth\n",
    "#             best_forest_n_estimators = n_estimators\n",
    "#             best_forest_mean_score = -scores.mean()\n",
    "#             best_forest_std_score = scores.std()\n",
    "\n",
    "# print(\"Модель показывает итоговый sMAPE: %0.4f. СКО оценки при этом: %0.4f\" % (best_forest_mean_score, best_forest_std_score))\n",
    "# print('Число деревьев:', best_forest_n_estimators)\n",
    "# print('Глубина деревьев %0.4f' % (best_forest_depth))"
   ]
  },
  {
   "cell_type": "code",
   "execution_count": 86,
   "metadata": {},
   "outputs": [
    {
     "name": "stdout",
     "output_type": "stream",
     "text": [
      "Модель показывает итоговый sMAPE: 0.0860. СКО оценки при этом: 0.0075\n"
     ]
    }
   ],
   "source": [
    "best_random_forest_model = RandomForestRegressor(n_estimators=91,\n",
    "                                                 max_depth=3, random_state=42)\n",
    "scores = cross_val_score(best_random_forest_model, df_train_scaled[x_col], df_train_scaled[y_col].values, cv=5, \n",
    "                                 scoring = make_scorer(total_sMAPE_score, greater_is_better=False), n_jobs=-1)\n",
    "\n",
    "print(\"Модель показывает итоговый sMAPE: %0.4f. СКО оценки при этом: %0.4f\" % (-scores.mean(), scores.std()))"
   ]
  },
  {
   "cell_type": "markdown",
   "metadata": {},
   "source": [
    "### CatBoost"
   ]
  },
  {
   "cell_type": "markdown",
   "metadata": {},
   "source": [
    "Проверим на кросвалидации модель CatBoost создадим отдельную модель для оценки эффективности восстановления золота после всего техцикла и после этапа флотации. Начнем с полного техцикла"
   ]
  },
  {
   "cell_type": "code",
   "execution_count": 87,
   "metadata": {},
   "outputs": [
    {
     "name": "stdout",
     "output_type": "stream",
     "text": [
      "0:\tlearn: 66.2725004\ttest: 66.3976286\tbest: 66.3976286 (0)\ttotal: 1.61s\tremaining: 2m 39s\n",
      "10:\tlearn: 9.1182255\ttest: 9.3970187\tbest: 9.3970187 (10)\ttotal: 16.2s\tremaining: 2m 10s\n",
      "20:\tlearn: 8.1006745\ttest: 8.4576197\tbest: 8.4576197 (20)\ttotal: 31.8s\tremaining: 1m 59s\n",
      "30:\tlearn: 7.9223955\ttest: 8.3809232\tbest: 8.3796052 (29)\ttotal: 47.2s\tremaining: 1m 45s\n",
      "40:\tlearn: 7.8521963\ttest: 8.3588391\tbest: 8.3588391 (40)\ttotal: 1m 2s\tremaining: 1m 29s\n",
      "50:\tlearn: 7.7940053\ttest: 8.3452146\tbest: 8.3452146 (50)\ttotal: 1m 17s\tremaining: 1m 14s\n",
      "60:\tlearn: 7.7509304\ttest: 8.3350259\tbest: 8.3350259 (60)\ttotal: 1m 33s\tremaining: 59.7s\n",
      "70:\tlearn: 7.7012057\ttest: 8.3121604\tbest: 8.3121604 (70)\ttotal: 1m 47s\tremaining: 44s\n",
      "80:\tlearn: 7.6433393\ttest: 8.2844740\tbest: 8.2841609 (78)\ttotal: 2m 3s\tremaining: 28.9s\n",
      "90:\tlearn: 7.6130264\ttest: 8.2701194\tbest: 8.2701194 (90)\ttotal: 2m 19s\tremaining: 13.8s\n",
      "99:\tlearn: 7.5790692\ttest: 8.2489582\tbest: 8.2489582 (99)\ttotal: 2m 32s\tremaining: 0us\n"
     ]
    }
   ],
   "source": [
    "cv_final_pool = Pool(df_train_scaled[x_col], df_train_scaled[y_col].values[:, 1])\n",
    "\n",
    "params = {\"learning_rate\": 0.5,\n",
    "          \"iterations\": 100,\n",
    "          \"loss_function\": \"MAPE\",\n",
    "          \"eval_metric\": \"SMAPE\",\n",
    "          \"random_state\": 42,\n",
    "          \"verbose\": 10}\n",
    "\n",
    "scores = cv(cv_final_pool, params, fold_count=5)"
   ]
  },
  {
   "cell_type": "code",
   "execution_count": 88,
   "metadata": {
    "scrolled": true
   },
   "outputs": [
    {
     "data": {
      "text/html": [
       "<div>\n",
       "<style scoped>\n",
       "    .dataframe tbody tr th:only-of-type {\n",
       "        vertical-align: middle;\n",
       "    }\n",
       "\n",
       "    .dataframe tbody tr th {\n",
       "        vertical-align: top;\n",
       "    }\n",
       "\n",
       "    .dataframe thead th {\n",
       "        text-align: right;\n",
       "    }\n",
       "</style>\n",
       "<table border=\"1\" class=\"dataframe\">\n",
       "  <thead>\n",
       "    <tr style=\"text-align: right;\">\n",
       "      <th></th>\n",
       "      <th>iterations</th>\n",
       "      <th>test-SMAPE-mean</th>\n",
       "      <th>test-SMAPE-std</th>\n",
       "      <th>train-SMAPE-mean</th>\n",
       "      <th>train-SMAPE-std</th>\n",
       "      <th>test-MAPE-mean</th>\n",
       "      <th>test-MAPE-std</th>\n",
       "      <th>train-MAPE-mean</th>\n",
       "      <th>train-MAPE-std</th>\n",
       "    </tr>\n",
       "  </thead>\n",
       "  <tbody>\n",
       "    <tr>\n",
       "      <th>95</th>\n",
       "      <td>95</td>\n",
       "      <td>8.262986</td>\n",
       "      <td>0.303188</td>\n",
       "      <td>7.597908</td>\n",
       "      <td>0.218584</td>\n",
       "      <td>0.104728</td>\n",
       "      <td>0.007339</td>\n",
       "      <td>0.080898</td>\n",
       "      <td>0.002540</td>\n",
       "    </tr>\n",
       "    <tr>\n",
       "      <th>96</th>\n",
       "      <td>96</td>\n",
       "      <td>8.258249</td>\n",
       "      <td>0.309737</td>\n",
       "      <td>7.587467</td>\n",
       "      <td>0.231360</td>\n",
       "      <td>0.104700</td>\n",
       "      <td>0.007244</td>\n",
       "      <td>0.080776</td>\n",
       "      <td>0.002679</td>\n",
       "    </tr>\n",
       "    <tr>\n",
       "      <th>97</th>\n",
       "      <td>97</td>\n",
       "      <td>8.254646</td>\n",
       "      <td>0.310634</td>\n",
       "      <td>7.584516</td>\n",
       "      <td>0.232177</td>\n",
       "      <td>0.104505</td>\n",
       "      <td>0.006960</td>\n",
       "      <td>0.080739</td>\n",
       "      <td>0.002690</td>\n",
       "    </tr>\n",
       "    <tr>\n",
       "      <th>98</th>\n",
       "      <td>98</td>\n",
       "      <td>8.251807</td>\n",
       "      <td>0.313180</td>\n",
       "      <td>7.582043</td>\n",
       "      <td>0.233197</td>\n",
       "      <td>0.105790</td>\n",
       "      <td>0.009309</td>\n",
       "      <td>0.080724</td>\n",
       "      <td>0.002687</td>\n",
       "    </tr>\n",
       "    <tr>\n",
       "      <th>99</th>\n",
       "      <td>99</td>\n",
       "      <td>8.248958</td>\n",
       "      <td>0.313571</td>\n",
       "      <td>7.579069</td>\n",
       "      <td>0.234118</td>\n",
       "      <td>0.105551</td>\n",
       "      <td>0.008956</td>\n",
       "      <td>0.080691</td>\n",
       "      <td>0.002696</td>\n",
       "    </tr>\n",
       "  </tbody>\n",
       "</table>\n",
       "</div>"
      ],
      "text/plain": [
       "    iterations  test-SMAPE-mean  test-SMAPE-std  train-SMAPE-mean  \\\n",
       "95          95         8.262986        0.303188          7.597908   \n",
       "96          96         8.258249        0.309737          7.587467   \n",
       "97          97         8.254646        0.310634          7.584516   \n",
       "98          98         8.251807        0.313180          7.582043   \n",
       "99          99         8.248958        0.313571          7.579069   \n",
       "\n",
       "    train-SMAPE-std  test-MAPE-mean  test-MAPE-std  train-MAPE-mean  \\\n",
       "95         0.218584        0.104728       0.007339         0.080898   \n",
       "96         0.231360        0.104700       0.007244         0.080776   \n",
       "97         0.232177        0.104505       0.006960         0.080739   \n",
       "98         0.233197        0.105790       0.009309         0.080724   \n",
       "99         0.234118        0.105551       0.008956         0.080691   \n",
       "\n",
       "    train-MAPE-std  \n",
       "95        0.002540  \n",
       "96        0.002679  \n",
       "97        0.002690  \n",
       "98        0.002687  \n",
       "99        0.002696  "
      ]
     },
     "execution_count": 88,
     "metadata": {},
     "output_type": "execute_result"
    }
   ],
   "source": [
    "scores.tail()"
   ]
  },
  {
   "cell_type": "markdown",
   "metadata": {},
   "source": [
    "Модель дает средний sMAPE для данного параметра на валидации 8,37 при СКО 0,13. Оценим sMAPE для прогноза восстановления золота после этапа флотации"
   ]
  },
  {
   "cell_type": "code",
   "execution_count": null,
   "metadata": {},
   "outputs": [
    {
     "name": "stdout",
     "output_type": "stream",
     "text": [
      "0:\tlearn: 66.3333602\ttest: 66.4048808\tbest: 66.4048808 (0)\ttotal: 1.56s\tremaining: 2m 34s\n",
      "10:\tlearn: 5.1545445\ttest: 5.3289013\tbest: 5.3289013 (10)\ttotal: 18.5s\tremaining: 2m 29s\n",
      "20:\tlearn: 4.2873227\ttest: 4.5242387\tbest: 4.5242387 (20)\ttotal: 35.2s\tremaining: 2m 12s\n",
      "30:\tlearn: 3.9895829\ttest: 4.3103194\tbest: 4.3103194 (30)\ttotal: 49.3s\tremaining: 1m 49s\n"
     ]
    }
   ],
   "source": [
    "cv_rougher_pool = Pool(df_train_scaled[x_col], df_train_scaled[y_col].values[:, 0])\n",
    "\n",
    "params = {\"learning_rate\": 0.5,\n",
    "          \"iterations\": 100,\n",
    "          \"loss_function\": \"MAPE\",\n",
    "          \"eval_metric\": \"SMAPE\",\n",
    "          \"random_state\": 42,\n",
    "          \"verbose\": 10}\n",
    "\n",
    "scores = cv(cv_rougher_pool, params, fold_count=5)"
   ]
  },
  {
   "cell_type": "code",
   "execution_count": null,
   "metadata": {},
   "outputs": [],
   "source": [
    "scores.tail()"
   ]
  },
  {
   "cell_type": "markdown",
   "metadata": {},
   "source": [
    "Модель дает средний sMAPE для данного параметра на валидации 3,98 при СКО 0,19. \n",
    "\n",
    "Создадим модели с требуемыми параметрами"
   ]
  },
  {
   "cell_type": "code",
   "execution_count": null,
   "metadata": {},
   "outputs": [],
   "source": [
    "catboost_rougher_model = CatBoostRegressor(learning_rate=0.5, iterations=100,\n",
    "                                          loss_function='MAPE', eval_metric='SMAPE', random_state=42, verbose=10)\n",
    "catboost_rougher_model.fit(cv_rougher_pool)"
   ]
  },
  {
   "cell_type": "code",
   "execution_count": null,
   "metadata": {},
   "outputs": [],
   "source": [
    "catboost_final_model = CatBoostRegressor(learning_rate=0.5, iterations=100,\n",
    "                                          loss_function='MAPE', eval_metric='SMAPE', random_state=42, verbose=10)\n",
    "catboost_final_model.fit(cv_final_pool)"
   ]
  },
  {
   "cell_type": "markdown",
   "metadata": {},
   "source": [
    "### Тестирование модели"
   ]
  },
  {
   "cell_type": "code",
   "execution_count": null,
   "metadata": {},
   "outputs": [],
   "source": [
    "# создадим массив y_true_test в который вложены пары истинных значений целевых переменных \n",
    "# (аналогично тому как возвращает предсказания метод predict в sklearn)\n",
    "\n",
    "y_true_test = []\n",
    "for i in df_test_scaled.index:\n",
    "    y_true_test.append([df_test_scaled.loc[i, 'rougher.output.recovery'], \n",
    "                        df_test_scaled.loc[i, 'final.output.recovery']])\n",
    "y_true_test = np.array(y_true_test)\n",
    "y_true_test"
   ]
  },
  {
   "cell_type": "code",
   "execution_count": null,
   "metadata": {},
   "outputs": [],
   "source": [
    "# аналогично создадим массив предсказаний модели catboost\n",
    "\n",
    "y_pred_cb = []\n",
    "y_pred_rougher = catboost_rougher_model.predict(df_test_scaled[x_col])\n",
    "y_pred_final = catboost_final_model.predict(df_test_scaled[x_col])\n",
    "for i, j in zip(y_pred_rougher, y_pred_final):\n",
    "    y_pred_cb.append([i, j])\n",
    "    \n",
    "y_pred_cb = np.array(y_pred_cb)\n",
    "y_pred_cb"
   ]
  },
  {
   "cell_type": "code",
   "execution_count": null,
   "metadata": {},
   "outputs": [],
   "source": [
    "print('Итоговый sMAPE для модели catboost на тестовой выборке: %0.4f' \n",
    "      % total_sMAPE_score(y_true_test, y_pred_cb))"
   ]
  },
  {
   "cell_type": "code",
   "execution_count": null,
   "metadata": {},
   "outputs": [],
   "source": [
    "best_random_forest_model.fit(df_train_scaled[x_col], df_train_scaled[y_col])\n",
    "print('Итоговый sMAPE для модели случайного леса на тестовой выборке: %0.4f' \n",
    "      % total_sMAPE_score(y_true_test, best_random_forest_model.predict(df_test_scaled[x_col])))"
   ]
  },
  {
   "cell_type": "code",
   "execution_count": null,
   "metadata": {},
   "outputs": [],
   "source": [
    "linear_regression_model.fit(df_train_scaled[x_col], df_train_scaled[y_col])\n",
    "print('Итоговый sMAPE для модели линейной регрессии на тестовой выборке: %0.4f'\n",
    "     % total_sMAPE_score(y_true_test, linear_regression_model.predict(df_test_scaled[x_col])))"
   ]
  },
  {
   "cell_type": "markdown",
   "metadata": {},
   "source": [
    "### Проверка модели на адекватность\n",
    "Заполним предсказания медианой и оценим итоговый sMAPE"
   ]
  },
  {
   "cell_type": "code",
   "execution_count": null,
   "metadata": {},
   "outputs": [],
   "source": [
    "dummy_regressor = DummyRegressor(strategy='median')\n",
    "dummy_regressor.fit(df_train_scaled[x_col], df_train_scaled[y_col])\n",
    "total_sMAPE_score(y_true_test, dummy_regressor.predict(df_test_scaled[x_col]))"
   ]
  },
  {
   "cell_type": "markdown",
   "metadata": {},
   "source": [
    "Итоговый sMAPE предсказания по медиане 0,07374"
   ]
  },
  {
   "cell_type": "markdown",
   "metadata": {},
   "source": [
    "<a id='section4'> </a>\n",
    "\n",
    "# Выводы"
   ]
  },
  {
   "cell_type": "markdown",
   "metadata": {},
   "source": [
    "В процессе исследования были проведены следующие работы:\n",
    "1. Проведена подготовка данных (проверена формула вычисления эффективности обогощения, проведена предобработка данных, заполнены пропуски)\n",
    "2. Проанализированы данные (исследовано изменение концентрации металлов при переходе по стадиям технологического цикла, проанализированы распределения размеров гранул на обучающей и тестовой выборках, исследованы суммарные концентрации)\n",
    "3. Построена модель прогнозирования (написана функция вычисления итогового sMAPE, обучены и проверены модели линейной регресии, случайного леса, catboost)\n",
    "\n",
    "\n",
    "По результатам исследования сделаны следующие выводы:\n",
    "* Концентрация золота увеличивается при переходе от одной стадии технологического цикла к следующей\n",
    "* Концентрация серебра растет на стадии флотации и затем уменшается на стадиях очистки\n",
    "* Концентрация свинца растет на стадиях флотации и первичной очистки и уменьшается на втором этапе очистки\n",
    "* Распределения размеров гранул сырья на тестовой и обучающей выборке достаточно близки\n",
    "* Заполнение целевых признаков медианой дает значение итогового sMAPE - 0,07374\n",
    "* Из рассмотренных моделей наилучший результат по итоговму sMAPE на тестовой выборке показал catboost - 0,0664, второй по данному показателю оказалась модель линейной регрессии с результатом 0,0708\n",
    "* модель случайного леса проигрывает другим рассмотренным моделям, а так же предсказанию по медиане и показывает результат 0.0825\n",
    "\n",
    "\n",
    "Для дальнейшей работы рекомендуется рассмотреть возможность внедрения разработанной модели на основе catboost, а так же оценить возможность объединения предсказаний нескольких моделей для повышения точности."
   ]
  }
 ],
 "metadata": {
  "kernelspec": {
   "display_name": "Python 3",
   "language": "python",
   "name": "python3"
  },
  "language_info": {
   "codemirror_mode": {
    "name": "ipython",
    "version": 3
   },
   "file_extension": ".py",
   "mimetype": "text/x-python",
   "name": "python",
   "nbconvert_exporter": "python",
   "pygments_lexer": "ipython3",
   "version": "3.8.5"
  }
 },
 "nbformat": 4,
 "nbformat_minor": 2
}
