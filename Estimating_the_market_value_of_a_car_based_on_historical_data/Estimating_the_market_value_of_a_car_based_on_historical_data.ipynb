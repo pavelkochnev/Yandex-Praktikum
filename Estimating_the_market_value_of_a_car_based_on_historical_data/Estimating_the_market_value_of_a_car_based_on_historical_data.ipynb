{
 "cells": [
  {
   "cell_type": "markdown",
   "metadata": {},
   "source": [
    "# Оценка рыночной стоимости автомобиля на основе исторических данных\n",
    "\n",
    "Сервис по продаже автомобилей с пробегом «Не бит, не крашен» разрабатывает приложение для привлечения новых клиентов. В нём можно быстро узнать рыночную стоимость своего автомобиля. В вашем распоряжении исторические данные: технические характеристики, комплектации и цены автомобилей. Вам нужно построить модель для определения стоимости. \n",
    "\n",
    "Заказчику важны:\n",
    "\n",
    "- качество предсказания;\n",
    "- скорость предсказания;\n",
    "- время обучения.\n",
    "\n",
    "______\n",
    "\n",
    "###### Данное исследование разделено на несколько частей.\n",
    "\n",
    "* [1. Подготовка данных.](#section1)\n",
    "* [2. Обучение моделей.](#section2)\n",
    "* [3. Анализ моделей](#section3)\n",
    "* [4. Выводы](#section4)\n"
   ]
  },
  {
   "cell_type": "markdown",
   "metadata": {},
   "source": [
    "<a id='section1'> </a>\n",
    "\n",
    "# 1. Подготовка данных"
   ]
  },
  {
   "cell_type": "code",
   "execution_count": 1,
   "metadata": {},
   "outputs": [],
   "source": [
    "import pandas as pd\n",
    "import numpy as np\n",
    "import lightgbm as lgb\n",
    "from catboost import CatBoostRegressor, Pool\n",
    "from sklearn.metrics import mean_squared_error\n",
    "from sklearn.model_selection import train_test_split\n",
    "from sklearn.preprocessing import StandardScaler\n",
    "from sklearn.linear_model import LinearRegression\n",
    "from sklearn.neighbors import KNeighborsRegressor"
   ]
  },
  {
   "cell_type": "code",
   "execution_count": 2,
   "metadata": {},
   "outputs": [
    {
     "data": {
      "text/html": [
       "<div>\n",
       "<style scoped>\n",
       "    .dataframe tbody tr th:only-of-type {\n",
       "        vertical-align: middle;\n",
       "    }\n",
       "\n",
       "    .dataframe tbody tr th {\n",
       "        vertical-align: top;\n",
       "    }\n",
       "\n",
       "    .dataframe thead th {\n",
       "        text-align: right;\n",
       "    }\n",
       "</style>\n",
       "<table border=\"1\" class=\"dataframe\">\n",
       "  <thead>\n",
       "    <tr style=\"text-align: right;\">\n",
       "      <th></th>\n",
       "      <th>DateCrawled</th>\n",
       "      <th>Price</th>\n",
       "      <th>VehicleType</th>\n",
       "      <th>RegistrationYear</th>\n",
       "      <th>Gearbox</th>\n",
       "      <th>Power</th>\n",
       "      <th>Model</th>\n",
       "      <th>Kilometer</th>\n",
       "      <th>RegistrationMonth</th>\n",
       "      <th>FuelType</th>\n",
       "      <th>Brand</th>\n",
       "      <th>NotRepaired</th>\n",
       "      <th>DateCreated</th>\n",
       "      <th>NumberOfPictures</th>\n",
       "      <th>PostalCode</th>\n",
       "      <th>LastSeen</th>\n",
       "    </tr>\n",
       "  </thead>\n",
       "  <tbody>\n",
       "    <tr>\n",
       "      <th>0</th>\n",
       "      <td>2016-03-24 11:52:17</td>\n",
       "      <td>480</td>\n",
       "      <td>NaN</td>\n",
       "      <td>1993</td>\n",
       "      <td>manual</td>\n",
       "      <td>0</td>\n",
       "      <td>golf</td>\n",
       "      <td>150000</td>\n",
       "      <td>0</td>\n",
       "      <td>petrol</td>\n",
       "      <td>volkswagen</td>\n",
       "      <td>NaN</td>\n",
       "      <td>2016-03-24 00:00:00</td>\n",
       "      <td>0</td>\n",
       "      <td>70435</td>\n",
       "      <td>2016-04-07 03:16:57</td>\n",
       "    </tr>\n",
       "    <tr>\n",
       "      <th>1</th>\n",
       "      <td>2016-03-24 10:58:45</td>\n",
       "      <td>18300</td>\n",
       "      <td>coupe</td>\n",
       "      <td>2011</td>\n",
       "      <td>manual</td>\n",
       "      <td>190</td>\n",
       "      <td>NaN</td>\n",
       "      <td>125000</td>\n",
       "      <td>5</td>\n",
       "      <td>gasoline</td>\n",
       "      <td>audi</td>\n",
       "      <td>yes</td>\n",
       "      <td>2016-03-24 00:00:00</td>\n",
       "      <td>0</td>\n",
       "      <td>66954</td>\n",
       "      <td>2016-04-07 01:46:50</td>\n",
       "    </tr>\n",
       "    <tr>\n",
       "      <th>2</th>\n",
       "      <td>2016-03-14 12:52:21</td>\n",
       "      <td>9800</td>\n",
       "      <td>suv</td>\n",
       "      <td>2004</td>\n",
       "      <td>auto</td>\n",
       "      <td>163</td>\n",
       "      <td>grand</td>\n",
       "      <td>125000</td>\n",
       "      <td>8</td>\n",
       "      <td>gasoline</td>\n",
       "      <td>jeep</td>\n",
       "      <td>NaN</td>\n",
       "      <td>2016-03-14 00:00:00</td>\n",
       "      <td>0</td>\n",
       "      <td>90480</td>\n",
       "      <td>2016-04-05 12:47:46</td>\n",
       "    </tr>\n",
       "    <tr>\n",
       "      <th>3</th>\n",
       "      <td>2016-03-17 16:54:04</td>\n",
       "      <td>1500</td>\n",
       "      <td>small</td>\n",
       "      <td>2001</td>\n",
       "      <td>manual</td>\n",
       "      <td>75</td>\n",
       "      <td>golf</td>\n",
       "      <td>150000</td>\n",
       "      <td>6</td>\n",
       "      <td>petrol</td>\n",
       "      <td>volkswagen</td>\n",
       "      <td>no</td>\n",
       "      <td>2016-03-17 00:00:00</td>\n",
       "      <td>0</td>\n",
       "      <td>91074</td>\n",
       "      <td>2016-03-17 17:40:17</td>\n",
       "    </tr>\n",
       "    <tr>\n",
       "      <th>4</th>\n",
       "      <td>2016-03-31 17:25:20</td>\n",
       "      <td>3600</td>\n",
       "      <td>small</td>\n",
       "      <td>2008</td>\n",
       "      <td>manual</td>\n",
       "      <td>69</td>\n",
       "      <td>fabia</td>\n",
       "      <td>90000</td>\n",
       "      <td>7</td>\n",
       "      <td>gasoline</td>\n",
       "      <td>skoda</td>\n",
       "      <td>no</td>\n",
       "      <td>2016-03-31 00:00:00</td>\n",
       "      <td>0</td>\n",
       "      <td>60437</td>\n",
       "      <td>2016-04-06 10:17:21</td>\n",
       "    </tr>\n",
       "  </tbody>\n",
       "</table>\n",
       "</div>"
      ],
      "text/plain": [
       "           DateCrawled  Price VehicleType  RegistrationYear Gearbox  Power  \\\n",
       "0  2016-03-24 11:52:17    480         NaN              1993  manual      0   \n",
       "1  2016-03-24 10:58:45  18300       coupe              2011  manual    190   \n",
       "2  2016-03-14 12:52:21   9800         suv              2004    auto    163   \n",
       "3  2016-03-17 16:54:04   1500       small              2001  manual     75   \n",
       "4  2016-03-31 17:25:20   3600       small              2008  manual     69   \n",
       "\n",
       "   Model  Kilometer  RegistrationMonth  FuelType       Brand NotRepaired  \\\n",
       "0   golf     150000                  0    petrol  volkswagen         NaN   \n",
       "1    NaN     125000                  5  gasoline        audi         yes   \n",
       "2  grand     125000                  8  gasoline        jeep         NaN   \n",
       "3   golf     150000                  6    petrol  volkswagen          no   \n",
       "4  fabia      90000                  7  gasoline       skoda          no   \n",
       "\n",
       "           DateCreated  NumberOfPictures  PostalCode             LastSeen  \n",
       "0  2016-03-24 00:00:00                 0       70435  2016-04-07 03:16:57  \n",
       "1  2016-03-24 00:00:00                 0       66954  2016-04-07 01:46:50  \n",
       "2  2016-03-14 00:00:00                 0       90480  2016-04-05 12:47:46  \n",
       "3  2016-03-17 00:00:00                 0       91074  2016-03-17 17:40:17  \n",
       "4  2016-03-31 00:00:00                 0       60437  2016-04-06 10:17:21  "
      ]
     },
     "execution_count": 2,
     "metadata": {},
     "output_type": "execute_result"
    }
   ],
   "source": [
    "df = pd.read_csv('./datasets/autos.csv')\n",
    "df.head()"
   ]
  },
  {
   "cell_type": "markdown",
   "metadata": {},
   "source": [
    "**Признаки**\n",
    "* DateCrawled — дата скачивания анкеты из базы\n",
    "* VehicleType — тип автомобильного кузова\n",
    "* RegistrationYear — год регистрации автомобиля\n",
    "* Gearbox — тип коробки передач\n",
    "* Power — мощность (л. с.)\n",
    "* Model — модель автомобиля\n",
    "* Kilometer — пробег (км)\n",
    "* RegistrationMonth — месяц регистрации автомобиля\n",
    "* FuelType — тип топлива\n",
    "* Brand — марка автомобиля\n",
    "* NotRepaired — была машина в ремонте или нет\n",
    "* DateCreated — дата создания анкеты\n",
    "* NumberOfPictures — количество фотографий автомобиля\n",
    "* PostalCode — почтовый индекс владельца анкеты (пользователя)\n",
    "* LastSeen — дата последней активности пользователя\n",
    "\n",
    "\n",
    "**Целевой признак**\n",
    "* Price — цена (евро)"
   ]
  },
  {
   "cell_type": "code",
   "execution_count": 3,
   "metadata": {},
   "outputs": [
    {
     "name": "stdout",
     "output_type": "stream",
     "text": [
      "<class 'pandas.core.frame.DataFrame'>\n",
      "RangeIndex: 354369 entries, 0 to 354368\n",
      "Data columns (total 16 columns):\n",
      " #   Column             Non-Null Count   Dtype \n",
      "---  ------             --------------   ----- \n",
      " 0   DateCrawled        354369 non-null  object\n",
      " 1   Price              354369 non-null  int64 \n",
      " 2   VehicleType        316879 non-null  object\n",
      " 3   RegistrationYear   354369 non-null  int64 \n",
      " 4   Gearbox            334536 non-null  object\n",
      " 5   Power              354369 non-null  int64 \n",
      " 6   Model              334664 non-null  object\n",
      " 7   Kilometer          354369 non-null  int64 \n",
      " 8   RegistrationMonth  354369 non-null  int64 \n",
      " 9   FuelType           321474 non-null  object\n",
      " 10  Brand              354369 non-null  object\n",
      " 11  NotRepaired        283215 non-null  object\n",
      " 12  DateCreated        354369 non-null  object\n",
      " 13  NumberOfPictures   354369 non-null  int64 \n",
      " 14  PostalCode         354369 non-null  int64 \n",
      " 15  LastSeen           354369 non-null  object\n",
      "dtypes: int64(7), object(9)\n",
      "memory usage: 43.3+ MB\n"
     ]
    }
   ],
   "source": [
    "df.info()"
   ]
  },
  {
   "cell_type": "code",
   "execution_count": 4,
   "metadata": {
    "scrolled": true
   },
   "outputs": [
    {
     "data": {
      "text/html": [
       "<div>\n",
       "<style scoped>\n",
       "    .dataframe tbody tr th:only-of-type {\n",
       "        vertical-align: middle;\n",
       "    }\n",
       "\n",
       "    .dataframe tbody tr th {\n",
       "        vertical-align: top;\n",
       "    }\n",
       "\n",
       "    .dataframe thead th {\n",
       "        text-align: right;\n",
       "    }\n",
       "</style>\n",
       "<table border=\"1\" class=\"dataframe\">\n",
       "  <thead>\n",
       "    <tr style=\"text-align: right;\">\n",
       "      <th></th>\n",
       "      <th>Price</th>\n",
       "      <th>RegistrationYear</th>\n",
       "      <th>Power</th>\n",
       "      <th>Kilometer</th>\n",
       "      <th>RegistrationMonth</th>\n",
       "      <th>NumberOfPictures</th>\n",
       "      <th>PostalCode</th>\n",
       "    </tr>\n",
       "  </thead>\n",
       "  <tbody>\n",
       "    <tr>\n",
       "      <th>count</th>\n",
       "      <td>354369.000000</td>\n",
       "      <td>354369.000000</td>\n",
       "      <td>354369.000000</td>\n",
       "      <td>354369.000000</td>\n",
       "      <td>354369.000000</td>\n",
       "      <td>354369.0</td>\n",
       "      <td>354369.000000</td>\n",
       "    </tr>\n",
       "    <tr>\n",
       "      <th>mean</th>\n",
       "      <td>4416.656776</td>\n",
       "      <td>2004.234448</td>\n",
       "      <td>110.094337</td>\n",
       "      <td>128211.172535</td>\n",
       "      <td>5.714645</td>\n",
       "      <td>0.0</td>\n",
       "      <td>50508.689087</td>\n",
       "    </tr>\n",
       "    <tr>\n",
       "      <th>std</th>\n",
       "      <td>4514.158514</td>\n",
       "      <td>90.227958</td>\n",
       "      <td>189.850405</td>\n",
       "      <td>37905.341530</td>\n",
       "      <td>3.726421</td>\n",
       "      <td>0.0</td>\n",
       "      <td>25783.096248</td>\n",
       "    </tr>\n",
       "    <tr>\n",
       "      <th>min</th>\n",
       "      <td>0.000000</td>\n",
       "      <td>1000.000000</td>\n",
       "      <td>0.000000</td>\n",
       "      <td>5000.000000</td>\n",
       "      <td>0.000000</td>\n",
       "      <td>0.0</td>\n",
       "      <td>1067.000000</td>\n",
       "    </tr>\n",
       "    <tr>\n",
       "      <th>25%</th>\n",
       "      <td>1050.000000</td>\n",
       "      <td>1999.000000</td>\n",
       "      <td>69.000000</td>\n",
       "      <td>125000.000000</td>\n",
       "      <td>3.000000</td>\n",
       "      <td>0.0</td>\n",
       "      <td>30165.000000</td>\n",
       "    </tr>\n",
       "    <tr>\n",
       "      <th>50%</th>\n",
       "      <td>2700.000000</td>\n",
       "      <td>2003.000000</td>\n",
       "      <td>105.000000</td>\n",
       "      <td>150000.000000</td>\n",
       "      <td>6.000000</td>\n",
       "      <td>0.0</td>\n",
       "      <td>49413.000000</td>\n",
       "    </tr>\n",
       "    <tr>\n",
       "      <th>75%</th>\n",
       "      <td>6400.000000</td>\n",
       "      <td>2008.000000</td>\n",
       "      <td>143.000000</td>\n",
       "      <td>150000.000000</td>\n",
       "      <td>9.000000</td>\n",
       "      <td>0.0</td>\n",
       "      <td>71083.000000</td>\n",
       "    </tr>\n",
       "    <tr>\n",
       "      <th>max</th>\n",
       "      <td>20000.000000</td>\n",
       "      <td>9999.000000</td>\n",
       "      <td>20000.000000</td>\n",
       "      <td>150000.000000</td>\n",
       "      <td>12.000000</td>\n",
       "      <td>0.0</td>\n",
       "      <td>99998.000000</td>\n",
       "    </tr>\n",
       "  </tbody>\n",
       "</table>\n",
       "</div>"
      ],
      "text/plain": [
       "               Price  RegistrationYear          Power      Kilometer  \\\n",
       "count  354369.000000     354369.000000  354369.000000  354369.000000   \n",
       "mean     4416.656776       2004.234448     110.094337  128211.172535   \n",
       "std      4514.158514         90.227958     189.850405   37905.341530   \n",
       "min         0.000000       1000.000000       0.000000    5000.000000   \n",
       "25%      1050.000000       1999.000000      69.000000  125000.000000   \n",
       "50%      2700.000000       2003.000000     105.000000  150000.000000   \n",
       "75%      6400.000000       2008.000000     143.000000  150000.000000   \n",
       "max     20000.000000       9999.000000   20000.000000  150000.000000   \n",
       "\n",
       "       RegistrationMonth  NumberOfPictures     PostalCode  \n",
       "count      354369.000000          354369.0  354369.000000  \n",
       "mean            5.714645               0.0   50508.689087  \n",
       "std             3.726421               0.0   25783.096248  \n",
       "min             0.000000               0.0    1067.000000  \n",
       "25%             3.000000               0.0   30165.000000  \n",
       "50%             6.000000               0.0   49413.000000  \n",
       "75%             9.000000               0.0   71083.000000  \n",
       "max            12.000000               0.0   99998.000000  "
      ]
     },
     "execution_count": 4,
     "metadata": {},
     "output_type": "execute_result"
    }
   ],
   "source": [
    "df.describe()"
   ]
  },
  {
   "cell_type": "markdown",
   "metadata": {},
   "source": [
    "В данных выявлены следующие проблемы:\n",
    "1. В столбцах VehicleType, Gearbox, Model, FuelType, NotRepaired имеются пропуски. Необходимо их заполнить или удалить часть строк.\n",
    "2. В данных есть строки для которых в столбцах Price, Power или RegistrationMonth указаны нулевые значения, что является аномалией.\n",
    "3. В столбце с годом регистрации автомобиля встречаются аномалии с очень низкими (min 1000) и очень высокими значениями (9999).\n",
    "4. Необходимо произвести замену типов данных (в часности столбцы с датами DateCrawled, DateCreated, LastSeen необходимо привести к численным значениям).\n",
    "5. В столбце NumberOfPictures все значения нулевые. Данный столбец можно удалить.\n"
   ]
  },
  {
   "cell_type": "code",
   "execution_count": 5,
   "metadata": {},
   "outputs": [
    {
     "data": {
      "text/plain": [
       "array([0], dtype=int64)"
      ]
     },
     "execution_count": 5,
     "metadata": {},
     "output_type": "execute_result"
    }
   ],
   "source": [
    "# убедимся что в столбце NumberOfPictures только нули\n",
    "df['NumberOfPictures'].unique()"
   ]
  },
  {
   "cell_type": "code",
   "execution_count": 6,
   "metadata": {},
   "outputs": [],
   "source": [
    "# удалим неинформативный столбец\n",
    "df = df.drop('NumberOfPictures', axis='columns')"
   ]
  },
  {
   "cell_type": "markdown",
   "metadata": {},
   "source": [
    "Посморим на распределение целевого признака в датасете."
   ]
  },
  {
   "cell_type": "code",
   "execution_count": 7,
   "metadata": {},
   "outputs": [
    {
     "data": {
      "image/png": "[encoded data removed]",
      "text/plain": [
       "<Figure size 1080x360 with 1 Axes>"
      ]
     },
     "metadata": {
      "needs_background": "light"
     },
     "output_type": "display_data"
    }
   ],
   "source": [
    "(df['Price'].hist(bins=151, figsize=(15,5))\n",
    "     .set(xlabel='Цена автомобиля (в евро)', \n",
    "      ylabel='Количество записей',  \n",
    "      title='Распределение стоимости автомобилей в датасете'));"
   ]
  },
  {
   "cell_type": "markdown",
   "metadata": {},
   "source": [
    "Из линейчатости гистограммы можно сделать вывод, что люди предпочитают устанавливать \"куглые\" цены на автомобили. Так же на гистограмме имеется ярковыраженный пик в области нулевых цен. \n",
    "\n",
    "Оценим долю строк для которых указана цена автомобиля менее 100 евро."
   ]
  },
  {
   "cell_type": "code",
   "execution_count": 8,
   "metadata": {},
   "outputs": [
    {
     "data": {
      "text/plain": [
       "0.04048040319553911"
      ]
     },
     "execution_count": 8,
     "metadata": {},
     "output_type": "execute_result"
    }
   ],
   "source": [
    "len(df[df['Price']<=100]) / len(df)"
   ]
  },
  {
   "cell_type": "markdown",
   "metadata": {},
   "source": [
    "Удалим эти строки так как это явная анамалия и в рамках задачи предсказания цены на реальные автомобили данные строки не представляют интереса. Построим гистограмму повторно."
   ]
  },
  {
   "cell_type": "code",
   "execution_count": 9,
   "metadata": {},
   "outputs": [
    {
     "data": {
      "image/png": "[encoded data removed]",
      "text/plain": [
       "<Figure size 1080x360 with 1 Axes>"
      ]
     },
     "metadata": {
      "needs_background": "light"
     },
     "output_type": "display_data"
    }
   ],
   "source": [
    "df = df.drop(df.index[df['Price']<=100], axis='index')\n",
    "\n",
    "(df['Price'].hist(bins=151, figsize=(15,5))\n",
    "     .set(xlabel='Цена автомобиля (в евро)', \n",
    "      ylabel='Количество записей',  \n",
    "      title='Распределение стоимости автомобилей в датасете'));"
   ]
  },
  {
   "cell_type": "markdown",
   "metadata": {},
   "source": [
    "Так же дополнительно создадим в датафейме колонку с округленными до 100 евро ценами на автомобили. Попробуем обучить одну из моделей на этом целевом признаке и сравним точность предсказания с моделью обученной на исходном таргете."
   ]
  },
  {
   "cell_type": "code",
   "execution_count": 10,
   "metadata": {},
   "outputs": [],
   "source": [
    "df['PriceRounded'] = (np.round(df['Price'] / 100) * 100).astype('int32')"
   ]
  },
  {
   "cell_type": "markdown",
   "metadata": {},
   "source": [
    "Рассмотрим колонку с мощностью двигателя. По состоянию на 2019 г. самым мощным серийным автомобилем был электрический гиперкар Owl компании Aspark с силовой установкой порядка 2000 л.с. До 60 миль в час (97 километров в час) он разгоняется за 1,69 секунды. \n",
    "\n",
    "Удалим из данных все строки с мощностью двигателя более 2500 л.с, а так же с нулевой мощностью и построим гистограмму"
   ]
  },
  {
   "cell_type": "code",
   "execution_count": 11,
   "metadata": {},
   "outputs": [],
   "source": [
    "df = df.drop((df.index[df['Power']>=2500]) | (df.index[df['Power']==0]), axis='index')"
   ]
  },
  {
   "cell_type": "code",
   "execution_count": 12,
   "metadata": {},
   "outputs": [
    {
     "data": {
      "image/png": "[encoded data removed]",
      "text/plain": [
       "<Figure size 1080x360 with 1 Axes>"
      ]
     },
     "metadata": {
      "needs_background": "light"
     },
     "output_type": "display_data"
    }
   ],
   "source": [
    "(df['Power'].hist(bins=151, figsize=(15,5))\n",
    ".set(xlim=(0, 2500),\n",
    "    xlabel='Мощность двигателя (л.с.)', \n",
    "    ylabel='Количество записей',  \n",
    "    title='Распределение мощности двигателей автомобилей в датасете'));"
   ]
  },
  {
   "cell_type": "markdown",
   "metadata": {},
   "source": [
    "Рассмотим распределение автомобилей по году регистрации. Ограничим свое рассмотрение только послевоенными годами (с 1945 по наст. вр.)"
   ]
  },
  {
   "cell_type": "code",
   "execution_count": 13,
   "metadata": {},
   "outputs": [
    {
     "data": {
      "image/png": "[encoded data removed]",
      "text/plain": [
       "<Figure size 1080x360 with 1 Axes>"
      ]
     },
     "metadata": {
      "needs_background": "light"
     },
     "output_type": "display_data"
    }
   ],
   "source": [
    "(df['RegistrationYear'].hist(bins=151, figsize=(15,5))\n",
    " .set(xlim=(1945, 2021),\n",
    "    xlabel='Год регистрации', \n",
    "    ylabel='Количество записей',  \n",
    "    title='Распределение автомобилей по году регистрации'));"
   ]
  },
  {
   "cell_type": "markdown",
   "metadata": {},
   "source": [
    "Поскольку в данных встречаются аномалии с очень низкими значениями (min 1000) и очень высокими значениями (9999), то гистограмма оказалась искаженной. Удалим строки не относящиеся к рассматриваемому периоду и построим гистограмму повторно."
   ]
  },
  {
   "cell_type": "code",
   "execution_count": 14,
   "metadata": {},
   "outputs": [],
   "source": [
    "df = df.drop(df.index[(df['RegistrationYear']<=1945) | (df['RegistrationYear']>=2021)], axis='index')"
   ]
  },
  {
   "cell_type": "code",
   "execution_count": 15,
   "metadata": {
    "scrolled": true
   },
   "outputs": [
    {
     "data": {
      "image/png": "[encoded data removed]",
      "text/plain": [
       "<Figure size 1080x360 with 1 Axes>"
      ]
     },
     "metadata": {
      "needs_background": "light"
     },
     "output_type": "display_data"
    }
   ],
   "source": [
    "(df['RegistrationYear'].hist(bins=75, figsize=(15,5))\n",
    " .set(xlim=(1945, 2021),\n",
    "    xticks=[x for x in range(1945,2021,4)],\n",
    "    xlabel='Год регистрации', \n",
    "    ylabel='Количество записей',  \n",
    "    title='Распределение автомобилей по году регистрации'));"
   ]
  },
  {
   "cell_type": "markdown",
   "metadata": {},
   "source": [
    "По гистограмме видно, что значительное снижение регистрации автомобилей произошло после кризиса 2008-2009 годов, а восстановление рынка началось только в 2015 году.\n",
    "\n",
    "Посмотрим на уникальные значения которые встречаются в столбце RegistrationMonth"
   ]
  },
  {
   "cell_type": "code",
   "execution_count": 16,
   "metadata": {},
   "outputs": [
    {
     "data": {
      "text/plain": [
       "array([ 0,  1,  2,  3,  4,  5,  6,  7,  8,  9, 10, 11, 12], dtype=int64)"
      ]
     },
     "execution_count": 16,
     "metadata": {},
     "output_type": "execute_result"
    }
   ],
   "source": [
    "df['RegistrationMonth'].sort_values().unique()"
   ]
  },
  {
   "cell_type": "markdown",
   "metadata": {},
   "source": [
    "Столбец содержит 13 уникальных значений. Удалим строки для которых указан нулевой месяц регистрации."
   ]
  },
  {
   "cell_type": "code",
   "execution_count": 17,
   "metadata": {},
   "outputs": [
    {
     "data": {
      "text/plain": [
       "array([ 1,  2,  3,  4,  5,  6,  7,  8,  9, 10, 11, 12], dtype=int64)"
      ]
     },
     "execution_count": 17,
     "metadata": {},
     "output_type": "execute_result"
    }
   ],
   "source": [
    "df = df.drop(df.index[df['RegistrationMonth']==0], axis='index')\n",
    "df['RegistrationMonth'].sort_values().unique()"
   ]
  },
  {
   "cell_type": "markdown",
   "metadata": {},
   "source": [
    "В столбцах NotRepaired, FuelType, VehicleType, Gearbox, Model незаполненные значения заполним значением 'unknown'"
   ]
  },
  {
   "cell_type": "code",
   "execution_count": 18,
   "metadata": {},
   "outputs": [
    {
     "data": {
      "text/plain": [
       "array(['yes', nan, 'no'], dtype=object)"
      ]
     },
     "execution_count": 18,
     "metadata": {},
     "output_type": "execute_result"
    }
   ],
   "source": [
    "df['NotRepaired'].unique()"
   ]
  },
  {
   "cell_type": "code",
   "execution_count": 19,
   "metadata": {},
   "outputs": [
    {
     "data": {
      "text/plain": [
       "array(['yes', 'unknown', 'no'], dtype=object)"
      ]
     },
     "execution_count": 19,
     "metadata": {},
     "output_type": "execute_result"
    }
   ],
   "source": [
    "df['NotRepaired'] = df['NotRepaired'].fillna('unknown')\n",
    "df['NotRepaired'].unique()"
   ]
  },
  {
   "cell_type": "code",
   "execution_count": 20,
   "metadata": {},
   "outputs": [
    {
     "data": {
      "text/plain": [
       "array(['gasoline', 'petrol', nan, 'lpg', 'other', 'hybrid', 'cng',\n",
       "       'electric'], dtype=object)"
      ]
     },
     "execution_count": 20,
     "metadata": {},
     "output_type": "execute_result"
    }
   ],
   "source": [
    "df['FuelType'].unique()"
   ]
  },
  {
   "cell_type": "code",
   "execution_count": 21,
   "metadata": {},
   "outputs": [
    {
     "data": {
      "text/plain": [
       "array(['gasoline', 'petrol', 'unknown', 'lpg', 'other', 'hybrid', 'cng',\n",
       "       'electric'], dtype=object)"
      ]
     },
     "execution_count": 21,
     "metadata": {},
     "output_type": "execute_result"
    }
   ],
   "source": [
    "df['FuelType'] = df['FuelType'].fillna('unknown')\n",
    "df['FuelType'].unique()"
   ]
  },
  {
   "cell_type": "code",
   "execution_count": 22,
   "metadata": {},
   "outputs": [
    {
     "data": {
      "text/plain": [
       "array(['coupe', 'suv', 'small', 'sedan', 'convertible', 'bus', 'wagon',\n",
       "       nan, 'other'], dtype=object)"
      ]
     },
     "execution_count": 22,
     "metadata": {},
     "output_type": "execute_result"
    }
   ],
   "source": [
    "df['VehicleType'].unique()"
   ]
  },
  {
   "cell_type": "code",
   "execution_count": 23,
   "metadata": {},
   "outputs": [
    {
     "data": {
      "text/plain": [
       "array(['coupe', 'suv', 'small', 'sedan', 'convertible', 'bus', 'wagon',\n",
       "       'other'], dtype=object)"
      ]
     },
     "execution_count": 23,
     "metadata": {},
     "output_type": "execute_result"
    }
   ],
   "source": [
    "df['VehicleType'] = df['VehicleType'].fillna('other')\n",
    "df['VehicleType'].unique()"
   ]
  },
  {
   "cell_type": "code",
   "execution_count": 24,
   "metadata": {},
   "outputs": [
    {
     "data": {
      "text/plain": [
       "array(['manual', 'auto', nan], dtype=object)"
      ]
     },
     "execution_count": 24,
     "metadata": {},
     "output_type": "execute_result"
    }
   ],
   "source": [
    "df['Gearbox'].unique()"
   ]
  },
  {
   "cell_type": "code",
   "execution_count": 25,
   "metadata": {},
   "outputs": [
    {
     "data": {
      "text/plain": [
       "array(['manual', 'auto', 'unknown'], dtype=object)"
      ]
     },
     "execution_count": 25,
     "metadata": {},
     "output_type": "execute_result"
    }
   ],
   "source": [
    "df['Gearbox'] = df['Gearbox'].fillna('unknown')\n",
    "df['Gearbox'].unique()"
   ]
  },
  {
   "cell_type": "code",
   "execution_count": 26,
   "metadata": {
    "scrolled": true
   },
   "outputs": [
    {
     "data": {
      "text/plain": [
       "array([nan, 'grand', 'golf', 'fabia', '3er', '2_reihe', 'c_max',\n",
       "       '3_reihe', 'passat', 'navara', 'twingo', 'a_klasse', 'scirocco',\n",
       "       '5er', 'meriva', 'arosa', 'other', 'c4', 'civic', 'transporter',\n",
       "       'punto', 'e_klasse', 'clio', 'one', 'fortwo', '1er', 'b_klasse',\n",
       "       'a8', 'jetta', 'astra', 'fiesta', 'c_klasse', 'micra', 'vito',\n",
       "       'sprinter', 'escort', 'forester', 'xc_reihe', 'scenic', 'a1',\n",
       "       'focus', 'a4', 'tt', 'a6', 'jazz', 'omega', 'polo', 'slk', '7er',\n",
       "       'combo', '80', '147', 'z_reihe', 'sportage', 'sorento', 'ibiza',\n",
       "       'mustang', 'eos', 'touran', 'getz', 'insignia', 'ka', 'almera',\n",
       "       'megane', 'a3', 'lupo', 'r19', 'mondeo', 'cordoba', 'colt',\n",
       "       'corsa', 'vectra', 'berlingo', 'tiguan', '6_reihe', 'panda', 'up',\n",
       "       'i_reihe', 'ceed', 'kangoo', '5_reihe', 'yeti', 'octavia',\n",
       "       'zafira', 'mii', 'rx_reihe', '6er', 'fox', 'matiz', 'beetle',\n",
       "       'rio', 'touareg', 'logan', 'caddy', 'spider', 'cuore', 's_max',\n",
       "       'modus', 'a2', 'galaxy', 'c3', 'viano', 's_klasse', '1_reihe',\n",
       "       'sharan', 'avensis', 'roomster', 'sl', 'kaefer', 'santa', 'leon',\n",
       "       'cooper', '4_reihe', 'a5', 'ptcruiser', 'clk', 'primera', 'espace',\n",
       "       'exeo', '159', 'transit', 'juke', 'x_reihe', 'v40', 'carisma',\n",
       "       'accord', 'corolla', 'phaeton', 'verso', 'swift', 'rav', 'qashqai',\n",
       "       'picanto', 'boxster', 'superb', 'stilo', 'alhambra', 'roadster',\n",
       "       'ypsilon', 'galant', 'justy', '90', 'sirion', 'signum',\n",
       "       'crossfire', 'agila', 'duster', 'v50', 'mx_reihe', '500',\n",
       "       'c_reihe', 'v_klasse', 'm_klasse', 'yaris', 'c5', 'aygo',\n",
       "       'seicento', 'cc', 'carnival', 'fusion', 'bora', 'forfour', 'cl',\n",
       "       'tigra', '156', '300c', '100', 'cr_reihe', 'spark', 'kuga',\n",
       "       'impreza', 'x_type', 'ducato', 's_type', 'x_trail', 'toledo',\n",
       "       'altea', 'voyager', 'v70', 'bravo', 'tucson', 'c1', 'kadett',\n",
       "       'citigo', 'jimny', 'cayenne', 'wrangler', 'lybra', 'lancer',\n",
       "       'captiva', 'laguna', 'c2', 'discovery', 'freelander', 'sandero',\n",
       "       'q7', 'note', 'antara', '900', 'clubman', 'defender', '601',\n",
       "       'cx_reihe', 'legacy', 'pajero', 'auris', 'niva', 's60', 'm_reihe',\n",
       "       'nubira', 'vivaro', 'lanos', 'g_klasse', 'cherokee', 'lodgy',\n",
       "       'range_rover', '850', 'q3', 'serie_2', 'calibra', 'glk', 'charade',\n",
       "       'croma', '911', 'outlander', 'doblo', 'musa', '9000', 'kalos',\n",
       "       'v60', 'aveo', '200', '145', 'b_max', 'range_rover_sport', 'move',\n",
       "       'rangerover', 'q5', 'range_rover_evoque', 'materia', 'delta',\n",
       "       'terios', 'gl', 'kalina', 'elefantino', 'i3', 'samara', 'amarok',\n",
       "       'kappa', 'serie_3'], dtype=object)"
      ]
     },
     "execution_count": 26,
     "metadata": {},
     "output_type": "execute_result"
    }
   ],
   "source": [
    "df['Model'].unique()"
   ]
  },
  {
   "cell_type": "code",
   "execution_count": 27,
   "metadata": {},
   "outputs": [],
   "source": [
    "df['Model'] = df['Model'].fillna('unknown')"
   ]
  },
  {
   "cell_type": "markdown",
   "metadata": {},
   "source": [
    "Убедимся что данные больше не содержат строк с незаполненными значениями."
   ]
  },
  {
   "cell_type": "code",
   "execution_count": 28,
   "metadata": {},
   "outputs": [
    {
     "name": "stdout",
     "output_type": "stream",
     "text": [
      "<class 'pandas.core.frame.DataFrame'>\n",
      "Int64Index: 285659 entries, 1 to 354368\n",
      "Data columns (total 16 columns):\n",
      " #   Column             Non-Null Count   Dtype \n",
      "---  ------             --------------   ----- \n",
      " 0   DateCrawled        285659 non-null  object\n",
      " 1   Price              285659 non-null  int64 \n",
      " 2   VehicleType        285659 non-null  object\n",
      " 3   RegistrationYear   285659 non-null  int64 \n",
      " 4   Gearbox            285659 non-null  object\n",
      " 5   Power              285659 non-null  int64 \n",
      " 6   Model              285659 non-null  object\n",
      " 7   Kilometer          285659 non-null  int64 \n",
      " 8   RegistrationMonth  285659 non-null  int64 \n",
      " 9   FuelType           285659 non-null  object\n",
      " 10  Brand              285659 non-null  object\n",
      " 11  NotRepaired        285659 non-null  object\n",
      " 12  DateCreated        285659 non-null  object\n",
      " 13  PostalCode         285659 non-null  int64 \n",
      " 14  LastSeen           285659 non-null  object\n",
      " 15  PriceRounded       285659 non-null  int32 \n",
      "dtypes: int32(1), int64(6), object(9)\n",
      "memory usage: 36.0+ MB\n"
     ]
    }
   ],
   "source": [
    "df.info()"
   ]
  },
  {
   "cell_type": "markdown",
   "metadata": {},
   "source": [
    "Преобразуем данные с датами к численным значениям."
   ]
  },
  {
   "cell_type": "code",
   "execution_count": 29,
   "metadata": {},
   "outputs": [],
   "source": [
    "df['DateCrawled'] = pd.to_datetime(df['DateCrawled'], format='%Y-%m-%d %H:%M:%S').astype('int64') / 10**9\n",
    "df['DateCreated'] = pd.to_datetime(df['DateCreated'], format='%Y-%m-%d %H:%M:%S').astype('int64') / 10**9\n",
    "df['LastSeen'] = pd.to_datetime(df['LastSeen'], format='%Y-%m-%d %H:%M:%S').astype('int64') / 10**9"
   ]
  },
  {
   "cell_type": "markdown",
   "metadata": {},
   "source": [
    "Выведем текущие типы данных в датафрейме в виде словаря."
   ]
  },
  {
   "cell_type": "code",
   "execution_count": 30,
   "metadata": {},
   "outputs": [
    {
     "data": {
      "text/plain": [
       "{'DateCrawled': 'float64',\n",
       " 'Price': 'int64',\n",
       " 'VehicleType': 'object',\n",
       " 'RegistrationYear': 'int64',\n",
       " 'Gearbox': 'object',\n",
       " 'Power': 'int64',\n",
       " 'Model': 'object',\n",
       " 'Kilometer': 'int64',\n",
       " 'RegistrationMonth': 'int64',\n",
       " 'FuelType': 'object',\n",
       " 'Brand': 'object',\n",
       " 'NotRepaired': 'object',\n",
       " 'DateCreated': 'float64',\n",
       " 'PostalCode': 'int64',\n",
       " 'LastSeen': 'float64',\n",
       " 'PriceRounded': 'int32'}"
      ]
     },
     "execution_count": 30,
     "metadata": {},
     "output_type": "execute_result"
    }
   ],
   "source": [
    "df.dtypes.apply(lambda x: x.name).to_dict()"
   ]
  },
  {
   "cell_type": "code",
   "execution_count": 31,
   "metadata": {},
   "outputs": [
    {
     "name": "stdout",
     "output_type": "stream",
     "text": [
      "<class 'pandas.core.frame.DataFrame'>\n",
      "Int64Index: 285659 entries, 1 to 354368\n",
      "Data columns (total 16 columns):\n",
      " #   Column             Non-Null Count   Dtype   \n",
      "---  ------             --------------   -----   \n",
      " 0   DateCrawled        285659 non-null  float64 \n",
      " 1   Price              285659 non-null  int32   \n",
      " 2   VehicleType        285659 non-null  category\n",
      " 3   RegistrationYear   285659 non-null  uint16  \n",
      " 4   Gearbox            285659 non-null  category\n",
      " 5   Power              285659 non-null  uint16  \n",
      " 6   Model              285659 non-null  category\n",
      " 7   Kilometer          285659 non-null  int32   \n",
      " 8   RegistrationMonth  285659 non-null  uint8   \n",
      " 9   FuelType           285659 non-null  category\n",
      " 10  Brand              285659 non-null  category\n",
      " 11  NotRepaired        285659 non-null  category\n",
      " 12  DateCreated        285659 non-null  float64 \n",
      " 13  PostalCode         285659 non-null  int32   \n",
      " 14  LastSeen           285659 non-null  float64 \n",
      " 15  PriceRounded       285659 non-null  int32   \n",
      "dtypes: category(6), float64(3), int32(4), uint16(2), uint8(1)\n",
      "memory usage: 16.4 MB\n"
     ]
    }
   ],
   "source": [
    "# заменим типы в таблице по словарю df_type_dict\n",
    "df_type_dict = {'DateCrawled': 'float64',\n",
    " 'Price': 'int32',\n",
    " 'VehicleType': 'category',\n",
    " 'RegistrationYear': 'uint16',\n",
    " 'Gearbox': 'category',\n",
    " 'Power': 'uint16',\n",
    " 'Model': 'category',\n",
    " 'Kilometer': 'int32',\n",
    " 'RegistrationMonth': 'uint8',\n",
    " 'FuelType': 'category',\n",
    " 'Brand': 'category',\n",
    " 'NotRepaired': 'category',\n",
    " 'DateCreated': 'float64',\n",
    " 'PostalCode': 'int32',\n",
    " 'LastSeen': 'float64',\n",
    " 'PriceRounded': 'int32'}\n",
    "\n",
    "df = df.astype(df_type_dict)\n",
    "\n",
    "# убедимся что замена прошла так как задумано\n",
    "df.info()"
   ]
  },
  {
   "cell_type": "markdown",
   "metadata": {},
   "source": [
    "Данные подготовлены, теперь можно переходить к обучению моделей"
   ]
  },
  {
   "cell_type": "markdown",
   "metadata": {},
   "source": [
    "<a id='section2'> </a>\n",
    "\n",
    "# 2. Обучение моделей"
   ]
  },
  {
   "cell_type": "markdown",
   "metadata": {},
   "source": [
    "Создадим списки с названиями целевой переменной и фич, затем разделим выборку на тестовую, тренировачную и валидационную"
   ]
  },
  {
   "cell_type": "code",
   "execution_count": 32,
   "metadata": {},
   "outputs": [
    {
     "data": {
      "text/plain": [
       "Index(['DateCrawled', 'VehicleType', 'RegistrationYear', 'Gearbox', 'Power',\n",
       "       'Model', 'Kilometer', 'RegistrationMonth', 'FuelType', 'Brand',\n",
       "       'NotRepaired', 'DateCreated', 'PostalCode', 'LastSeen'],\n",
       "      dtype='object')"
      ]
     },
     "execution_count": 32,
     "metadata": {},
     "output_type": "execute_result"
    }
   ],
   "source": [
    "y_col = ['Price']\n",
    "x_col = df.columns.drop(y_col + ['PriceRounded'])\n",
    "x_col"
   ]
  },
  {
   "cell_type": "code",
   "execution_count": 33,
   "metadata": {},
   "outputs": [],
   "source": [
    "train_full, test = train_test_split(df, test_size=0.2, random_state=42)"
   ]
  },
  {
   "cell_type": "code",
   "execution_count": 34,
   "metadata": {},
   "outputs": [
    {
     "data": {
      "text/plain": [
       "228527"
      ]
     },
     "execution_count": 34,
     "metadata": {},
     "output_type": "execute_result"
    }
   ],
   "source": [
    "len(train_full)"
   ]
  },
  {
   "cell_type": "code",
   "execution_count": 35,
   "metadata": {},
   "outputs": [
    {
     "data": {
      "text/plain": [
       "57132"
      ]
     },
     "execution_count": 35,
     "metadata": {},
     "output_type": "execute_result"
    }
   ],
   "source": [
    "len(test)"
   ]
  },
  {
   "cell_type": "code",
   "execution_count": 36,
   "metadata": {},
   "outputs": [
    {
     "data": {
      "text/plain": [
       "True"
      ]
     },
     "execution_count": 36,
     "metadata": {},
     "output_type": "execute_result"
    }
   ],
   "source": [
    "# проверим соответствие длин датафреймов\n",
    "len(train_full) + len(test) == len(df)"
   ]
  },
  {
   "cell_type": "code",
   "execution_count": 37,
   "metadata": {},
   "outputs": [],
   "source": [
    "train, val = train_test_split(train_full, test_size=0.2, random_state=42)"
   ]
  },
  {
   "cell_type": "code",
   "execution_count": 38,
   "metadata": {},
   "outputs": [
    {
     "data": {
      "text/plain": [
       "True"
      ]
     },
     "execution_count": 38,
     "metadata": {},
     "output_type": "execute_result"
    }
   ],
   "source": [
    "len(train) + len(val) == len(train_full)"
   ]
  },
  {
   "cell_type": "markdown",
   "metadata": {},
   "source": [
    "### LightGBM"
   ]
  },
  {
   "cell_type": "code",
   "execution_count": 39,
   "metadata": {},
   "outputs": [
    {
     "name": "stderr",
     "output_type": "stream",
     "text": [
      "C:\\ProgramData\\Anaconda3\\lib\\site-packages\\lightgbm\\basic.py:1286: UserWarning: Overriding the parameters from Reference Dataset.\n",
      "  warnings.warn('Overriding the parameters from Reference Dataset.')\n",
      "C:\\ProgramData\\Anaconda3\\lib\\site-packages\\lightgbm\\basic.py:1098: UserWarning: categorical_column in param dict is overridden.\n",
      "  warnings.warn('{} in param dict is overridden.'.format(cat_alias))\n"
     ]
    },
    {
     "name": "stdout",
     "output_type": "stream",
     "text": [
      "[50]\tvalid_0's rmse: 1656.37\n",
      "[100]\tvalid_0's rmse: 1587.84\n",
      "[150]\tvalid_0's rmse: 1563.98\n",
      "[200]\tvalid_0's rmse: 1553.73\n",
      "[250]\tvalid_0's rmse: 1543.26\n",
      "[300]\tvalid_0's rmse: 1535.75\n",
      "[350]\tvalid_0's rmse: 1529.6\n",
      "[400]\tvalid_0's rmse: 1524.99\n",
      "[450]\tvalid_0's rmse: 1520.54\n",
      "[500]\tvalid_0's rmse: 1518.99\n",
      "[550]\tvalid_0's rmse: 1516.69\n",
      "[600]\tvalid_0's rmse: 1514.97\n",
      "[650]\tvalid_0's rmse: 1513\n",
      "[700]\tvalid_0's rmse: 1512.15\n",
      "[750]\tvalid_0's rmse: 1509.63\n",
      "[800]\tvalid_0's rmse: 1506.83\n",
      "[850]\tvalid_0's rmse: 1503.99\n",
      "[900]\tvalid_0's rmse: 1501.84\n",
      "[950]\tvalid_0's rmse: 1501.05\n",
      "[1000]\tvalid_0's rmse: 1499.61\n",
      "Wall time: 8.1 s\n"
     ]
    },
    {
     "data": {
      "text/plain": [
       "LGBMRegressor(metric='rmse', n_estimators=1000, random_state=42)"
      ]
     },
     "execution_count": 39,
     "metadata": {},
     "output_type": "execute_result"
    }
   ],
   "source": [
    "%%time\n",
    "\n",
    "lgbm_model = lgb.LGBMRegressor(metric='rmse', n_estimators=1000, random_state=42)\n",
    "\n",
    "lgbm_model.fit(train[x_col], train[y_col], \n",
    "               eval_set=(val[x_col], val[y_col]), \n",
    "               verbose=50)"
   ]
  },
  {
   "cell_type": "code",
   "execution_count": 40,
   "metadata": {},
   "outputs": [
    {
     "name": "stdout",
     "output_type": "stream",
     "text": [
      "Wall time: 886 ms\n"
     ]
    }
   ],
   "source": [
    "%%time\n",
    "lgbm_val_predict = lgbm_model.predict(val[x_col])"
   ]
  },
  {
   "cell_type": "code",
   "execution_count": 41,
   "metadata": {},
   "outputs": [
    {
     "name": "stdout",
     "output_type": "stream",
     "text": [
      "СКО на валидационной выборке: 1499.6062994611098\n"
     ]
    }
   ],
   "source": [
    "lgbm_val_score = np.sqrt(mean_squared_error(val[y_col], lgbm_val_predict))\n",
    "print('СКО на валидационной выборке:', lgbm_val_score)"
   ]
  },
  {
   "cell_type": "code",
   "execution_count": 42,
   "metadata": {},
   "outputs": [
    {
     "name": "stdout",
     "output_type": "stream",
     "text": [
      "Wall time: 1.33 s\n"
     ]
    }
   ],
   "source": [
    "%%time\n",
    "lgbm_test_predict = lgbm_model.predict(test[x_col])"
   ]
  },
  {
   "cell_type": "code",
   "execution_count": 43,
   "metadata": {},
   "outputs": [
    {
     "name": "stdout",
     "output_type": "stream",
     "text": [
      "СКО на тестовой выборке: 1508.6777304071622\n"
     ]
    }
   ],
   "source": [
    "lgbm_test_score = np.sqrt(mean_squared_error(test[y_col], lgbm_test_predict))\n",
    "print('СКО на тестовой выборке:', lgbm_test_score)"
   ]
  },
  {
   "cell_type": "markdown",
   "metadata": {},
   "source": [
    "Попробуем обучить моделель на этом целевом признаке с округлением до 100 евро и сравним точность предсказания с моделью обученной на исходном таргете."
   ]
  },
  {
   "cell_type": "code",
   "execution_count": 44,
   "metadata": {},
   "outputs": [
    {
     "name": "stderr",
     "output_type": "stream",
     "text": [
      "C:\\ProgramData\\Anaconda3\\lib\\site-packages\\lightgbm\\basic.py:1286: UserWarning: Overriding the parameters from Reference Dataset.\n",
      "  warnings.warn('Overriding the parameters from Reference Dataset.')\n",
      "C:\\ProgramData\\Anaconda3\\lib\\site-packages\\lightgbm\\basic.py:1098: UserWarning: categorical_column in param dict is overridden.\n",
      "  warnings.warn('{} in param dict is overridden.'.format(cat_alias))\n"
     ]
    },
    {
     "name": "stdout",
     "output_type": "stream",
     "text": [
      "[50]\tvalid_0's rmse: 1657.96\n",
      "[100]\tvalid_0's rmse: 1588.23\n",
      "[150]\tvalid_0's rmse: 1566.38\n",
      "[200]\tvalid_0's rmse: 1552.52\n",
      "[250]\tvalid_0's rmse: 1543.01\n",
      "[300]\tvalid_0's rmse: 1537.36\n",
      "[350]\tvalid_0's rmse: 1529.06\n",
      "[400]\tvalid_0's rmse: 1522.72\n",
      "[450]\tvalid_0's rmse: 1520.01\n",
      "[500]\tvalid_0's rmse: 1517.81\n",
      "[550]\tvalid_0's rmse: 1514.51\n",
      "[600]\tvalid_0's rmse: 1511.86\n",
      "[650]\tvalid_0's rmse: 1510.13\n",
      "[700]\tvalid_0's rmse: 1508.65\n",
      "[750]\tvalid_0's rmse: 1506.71\n",
      "[800]\tvalid_0's rmse: 1504.86\n",
      "[850]\tvalid_0's rmse: 1502.54\n",
      "[900]\tvalid_0's rmse: 1499.64\n",
      "[950]\tvalid_0's rmse: 1498.53\n",
      "[1000]\tvalid_0's rmse: 1497.69\n",
      "Wall time: 8.5 s\n"
     ]
    },
    {
     "data": {
      "text/plain": [
       "LGBMRegressor(metric='rmse', n_estimators=1000, random_state=42)"
      ]
     },
     "execution_count": 44,
     "metadata": {},
     "output_type": "execute_result"
    }
   ],
   "source": [
    "%%time\n",
    "\n",
    "lgbm_model_rounded = lgb.LGBMRegressor(metric='rmse', n_estimators=1000, random_state=42)\n",
    "\n",
    "lgbm_model_rounded.fit(train[x_col], train['PriceRounded'].values, \n",
    "                       eval_set=(val[x_col], val['PriceRounded'].values), \n",
    "                       verbose=50)"
   ]
  },
  {
   "cell_type": "code",
   "execution_count": 45,
   "metadata": {},
   "outputs": [
    {
     "name": "stdout",
     "output_type": "stream",
     "text": [
      "СКО на тестовой выборке: 1505.8263151962294\n"
     ]
    }
   ],
   "source": [
    "print('СКО на тестовой выборке:', np.sqrt(mean_squared_error(test[y_col], lgbm_model_rounded.predict(test[x_col]))))"
   ]
  },
  {
   "cell_type": "markdown",
   "metadata": {},
   "source": [
    "Обе модели дают близкое СКО на тестовых данных. Округление таргета не дает существенного прироста качества модели."
   ]
  },
  {
   "cell_type": "markdown",
   "metadata": {},
   "source": [
    "### CatBoost"
   ]
  },
  {
   "cell_type": "code",
   "execution_count": 46,
   "metadata": {},
   "outputs": [
    {
     "name": "stdout",
     "output_type": "stream",
     "text": [
      "Wall time: 357 ms\n"
     ]
    }
   ],
   "source": [
    "%%time\n",
    "cat_features = ['VehicleType', 'Gearbox', 'Model', 'FuelType', 'Brand', 'NotRepaired']\n",
    "train_pool = Pool(train[x_col], train[y_col], cat_features=cat_features)\n",
    "val_pool = Pool(val[x_col], val[y_col], cat_features=cat_features)"
   ]
  },
  {
   "cell_type": "code",
   "execution_count": 47,
   "metadata": {},
   "outputs": [
    {
     "name": "stdout",
     "output_type": "stream",
     "text": [
      "0:\tlearn: 3235.2441072\ttest: 3229.3219208\tbest: 3229.3219208 (0)\ttotal: 374ms\tremaining: 6m 13s\n",
      "50:\tlearn: 1668.0416248\ttest: 1669.6942563\tbest: 1669.6942563 (50)\ttotal: 12.9s\tremaining: 3m 59s\n",
      "100:\tlearn: 1584.7931146\ttest: 1615.7852191\tbest: 1615.7852191 (100)\ttotal: 24.7s\tremaining: 3m 39s\n",
      "150:\tlearn: 1540.8652099\ttest: 1594.2873308\tbest: 1594.2873308 (150)\ttotal: 40.4s\tremaining: 3m 46s\n",
      "200:\tlearn: 1503.9518624\ttest: 1580.7199787\tbest: 1580.7199787 (200)\ttotal: 56.5s\tremaining: 3m 44s\n",
      "250:\tlearn: 1479.6082262\ttest: 1572.5372098\tbest: 1572.2537195 (245)\ttotal: 1m 14s\tremaining: 3m 42s\n",
      "300:\tlearn: 1455.7065183\ttest: 1566.5983742\tbest: 1566.5352951 (299)\ttotal: 1m 30s\tremaining: 3m 29s\n",
      "350:\tlearn: 1434.4543714\ttest: 1562.5096511\tbest: 1562.1051065 (345)\ttotal: 1m 45s\tremaining: 3m 15s\n",
      "400:\tlearn: 1418.7824402\ttest: 1560.4027926\tbest: 1560.3424897 (399)\ttotal: 2m 1s\tremaining: 3m 2s\n",
      "450:\tlearn: 1402.2310150\ttest: 1557.9764977\tbest: 1557.8219511 (448)\ttotal: 2m 16s\tremaining: 2m 46s\n",
      "500:\tlearn: 1389.1599365\ttest: 1556.4243511\tbest: 1556.2557020 (496)\ttotal: 2m 31s\tremaining: 2m 30s\n",
      "550:\tlearn: 1376.4591493\ttest: 1554.4166453\tbest: 1554.4122002 (549)\ttotal: 2m 47s\tremaining: 2m 16s\n",
      "600:\tlearn: 1363.2284868\ttest: 1553.2213801\tbest: 1553.0584568 (599)\ttotal: 3m 2s\tremaining: 2m 1s\n",
      "650:\tlearn: 1351.5056265\ttest: 1550.2719388\tbest: 1549.9671451 (640)\ttotal: 3m 16s\tremaining: 1m 45s\n",
      "700:\tlearn: 1338.8039856\ttest: 1546.8179254\tbest: 1546.6890259 (699)\ttotal: 3m 31s\tremaining: 1m 30s\n",
      "750:\tlearn: 1328.5218308\ttest: 1546.3796139\tbest: 1545.7158561 (717)\ttotal: 3m 48s\tremaining: 1m 15s\n",
      "800:\tlearn: 1318.9956349\ttest: 1545.8715954\tbest: 1545.2897190 (787)\ttotal: 4m 3s\tremaining: 1m\n",
      "850:\tlearn: 1310.6251543\ttest: 1544.8350018\tbest: 1544.6300470 (845)\ttotal: 4m 18s\tremaining: 45.2s\n",
      "900:\tlearn: 1301.0587052\ttest: 1544.4412373\tbest: 1544.3657465 (867)\ttotal: 4m 32s\tremaining: 30s\n",
      "950:\tlearn: 1293.2098274\ttest: 1543.8316252\tbest: 1543.1009078 (933)\ttotal: 4m 53s\tremaining: 15.1s\n",
      "999:\tlearn: 1284.0538956\ttest: 1542.9552263\tbest: 1542.8947173 (996)\ttotal: 5m 21s\tremaining: 0us\n",
      "\n",
      "bestTest = 1542.894717\n",
      "bestIteration = 996\n",
      "\n",
      "Shrink model to first 997 iterations.\n",
      "Wall time: 5min 24s\n"
     ]
    },
    {
     "data": {
      "text/plain": [
       "<catboost.core.CatBoostRegressor at 0x1a3c2ccaee0>"
      ]
     },
     "execution_count": 47,
     "metadata": {},
     "output_type": "execute_result"
    }
   ],
   "source": [
    "%%time\n",
    "cb_model = CatBoostRegressor(loss_function='RMSE', \n",
    "                             eval_metric='RMSE', \n",
    "                             random_state=42, \n",
    "                             verbose=50, \n",
    "                             learning_rate=0.52)\n",
    "\n",
    "cb_model.fit(train_pool, eval_set=[val_pool])"
   ]
  },
  {
   "cell_type": "code",
   "execution_count": 48,
   "metadata": {},
   "outputs": [
    {
     "name": "stdout",
     "output_type": "stream",
     "text": [
      "Wall time: 603 ms\n"
     ]
    }
   ],
   "source": [
    "%%time\n",
    "cb_val_predict = cb_model.predict(val[x_col])"
   ]
  },
  {
   "cell_type": "code",
   "execution_count": 49,
   "metadata": {},
   "outputs": [
    {
     "name": "stdout",
     "output_type": "stream",
     "text": [
      "СКО на валидационной выборке: 1542.894717262558\n"
     ]
    }
   ],
   "source": [
    "cb_val_score = np.sqrt(mean_squared_error(val[y_col], cb_val_predict))\n",
    "print('СКО на валидационной выборке:', cb_val_score)"
   ]
  },
  {
   "cell_type": "code",
   "execution_count": 50,
   "metadata": {},
   "outputs": [
    {
     "name": "stdout",
     "output_type": "stream",
     "text": [
      "Wall time: 651 ms\n"
     ]
    }
   ],
   "source": [
    "%%time\n",
    "cb_test_predict = cb_model.predict(test[x_col])"
   ]
  },
  {
   "cell_type": "code",
   "execution_count": 51,
   "metadata": {},
   "outputs": [
    {
     "name": "stdout",
     "output_type": "stream",
     "text": [
      "СКО на тестовой выборке: 1547.074728750629\n"
     ]
    }
   ],
   "source": [
    "cb_test_score = np.sqrt(mean_squared_error(test[y_col], cb_test_predict))\n",
    "print('СКО на тестовой выборке:', cb_test_score)"
   ]
  },
  {
   "cell_type": "markdown",
   "metadata": {},
   "source": [
    "### Линейная регрессия"
   ]
  },
  {
   "cell_type": "markdown",
   "metadata": {},
   "source": [
    "Прежде чем применять линейные алгоритмы необходимо отмасштабировать числовые признаки"
   ]
  },
  {
   "cell_type": "code",
   "execution_count": 52,
   "metadata": {},
   "outputs": [
    {
     "data": {
      "text/plain": [
       "Index(['DateCrawled', 'RegistrationYear', 'Power', 'Kilometer',\n",
       "       'RegistrationMonth', 'DateCreated', 'PostalCode', 'LastSeen'],\n",
       "      dtype='object')"
      ]
     },
     "execution_count": 52,
     "metadata": {},
     "output_type": "execute_result"
    }
   ],
   "source": [
    "num_col = x_col.drop(cat_features)\n",
    "num_col"
   ]
  },
  {
   "cell_type": "code",
   "execution_count": 53,
   "metadata": {},
   "outputs": [
    {
     "data": {
      "text/plain": [
       "StandardScaler()"
      ]
     },
     "execution_count": 53,
     "metadata": {},
     "output_type": "execute_result"
    }
   ],
   "source": [
    "scaler = StandardScaler()\n",
    "scaler.fit(train[num_col])"
   ]
  },
  {
   "cell_type": "code",
   "execution_count": 54,
   "metadata": {},
   "outputs": [],
   "source": [
    "train_scaled = train.copy()\n",
    "train_scaled[num_col] = scaler.transform(train_scaled[num_col])\n",
    "val_scaled = val.copy()\n",
    "val_scaled[num_col] = scaler.transform(val_scaled[num_col])\n",
    "test_scaled = test.copy()\n",
    "test_scaled[num_col] = scaler.transform(test_scaled[num_col])"
   ]
  },
  {
   "cell_type": "markdown",
   "metadata": {},
   "source": [
    "Так же заменим категориальные переменные используя технику OHE"
   ]
  },
  {
   "cell_type": "code",
   "execution_count": 55,
   "metadata": {},
   "outputs": [],
   "source": [
    "train_scaled = pd.get_dummies(train_scaled, drop_first=True)\n",
    "val_scaled = pd.get_dummies(val_scaled, drop_first=True)\n",
    "test_scaled = pd.get_dummies(test_scaled, drop_first=True)"
   ]
  },
  {
   "cell_type": "code",
   "execution_count": 56,
   "metadata": {},
   "outputs": [
    {
     "data": {
      "text/plain": [
       "Index(['DateCrawled', 'RegistrationYear', 'Power', 'Kilometer',\n",
       "       'RegistrationMonth', 'DateCreated', 'PostalCode', 'LastSeen',\n",
       "       'VehicleType_convertible', 'VehicleType_coupe',\n",
       "       ...\n",
       "       'Brand_smart', 'Brand_sonstige_autos', 'Brand_subaru', 'Brand_suzuki',\n",
       "       'Brand_toyota', 'Brand_trabant', 'Brand_volkswagen', 'Brand_volvo',\n",
       "       'NotRepaired_unknown', 'NotRepaired_yes'],\n",
       "      dtype='object', length=314)"
      ]
     },
     "execution_count": 56,
     "metadata": {},
     "output_type": "execute_result"
    }
   ],
   "source": [
    "x_col_lr = train_scaled.columns.drop(y_col + ['PriceRounded'])\n",
    "x_col_lr"
   ]
  },
  {
   "cell_type": "code",
   "execution_count": 57,
   "metadata": {},
   "outputs": [
    {
     "name": "stdout",
     "output_type": "stream",
     "text": [
      "Wall time: 7.13 s\n"
     ]
    },
    {
     "data": {
      "text/plain": [
       "LinearRegression()"
      ]
     },
     "execution_count": 57,
     "metadata": {},
     "output_type": "execute_result"
    }
   ],
   "source": [
    "%%time\n",
    "lr_model = LinearRegression()\n",
    "lr_model.fit(train_scaled[x_col_lr], train_scaled[y_col])"
   ]
  },
  {
   "cell_type": "code",
   "execution_count": 58,
   "metadata": {},
   "outputs": [
    {
     "name": "stdout",
     "output_type": "stream",
     "text": [
      "Wall time: 291 ms\n"
     ]
    }
   ],
   "source": [
    "%%time\n",
    "lr_val_predict = lr_model.predict(val_scaled[x_col_lr])"
   ]
  },
  {
   "cell_type": "code",
   "execution_count": 59,
   "metadata": {},
   "outputs": [
    {
     "name": "stdout",
     "output_type": "stream",
     "text": [
      "СКО на валидационной выборке: 2657.5034527678285\n"
     ]
    }
   ],
   "source": [
    "lr_val_score = np.sqrt(mean_squared_error(val_scaled[y_col], lr_val_predict))\n",
    "print('СКО на валидационной выборке:', lr_val_score)"
   ]
  },
  {
   "cell_type": "code",
   "execution_count": 60,
   "metadata": {},
   "outputs": [
    {
     "name": "stdout",
     "output_type": "stream",
     "text": [
      "Wall time: 328 ms\n"
     ]
    }
   ],
   "source": [
    "%%time\n",
    "lr_test_predict = lr_model.predict(test_scaled[x_col_lr])"
   ]
  },
  {
   "cell_type": "code",
   "execution_count": 61,
   "metadata": {},
   "outputs": [
    {
     "name": "stdout",
     "output_type": "stream",
     "text": [
      "СКО на тестовой выборке: 2673.4885190817163\n"
     ]
    }
   ],
   "source": [
    "lr_test_score = np.sqrt(mean_squared_error(test_scaled[y_col], lr_test_predict))\n",
    "print('СКО на тестовой выборке:', lr_test_score)"
   ]
  },
  {
   "cell_type": "markdown",
   "metadata": {},
   "source": [
    "### K ближайших соседей"
   ]
  },
  {
   "cell_type": "code",
   "execution_count": 62,
   "metadata": {},
   "outputs": [
    {
     "name": "stdout",
     "output_type": "stream",
     "text": [
      "Wall time: 1min 25s\n"
     ]
    },
    {
     "data": {
      "text/plain": [
       "KNeighborsRegressor()"
      ]
     },
     "execution_count": 62,
     "metadata": {},
     "output_type": "execute_result"
    }
   ],
   "source": [
    "%%time\n",
    "knn_model = KNeighborsRegressor()\n",
    "knn_model.fit(train_scaled[x_col_lr], train_scaled[y_col])"
   ]
  },
  {
   "cell_type": "code",
   "execution_count": 63,
   "metadata": {},
   "outputs": [
    {
     "name": "stdout",
     "output_type": "stream",
     "text": [
      "Wall time: 11min 44s\n"
     ]
    }
   ],
   "source": [
    "%%time\n",
    "knn_val_predict = knn_model.predict(val_scaled[x_col_lr])"
   ]
  },
  {
   "cell_type": "code",
   "execution_count": 64,
   "metadata": {},
   "outputs": [
    {
     "name": "stdout",
     "output_type": "stream",
     "text": [
      "СКО на валидационной выборке: 2118.345495244401\n"
     ]
    }
   ],
   "source": [
    "knn_val_score = np.sqrt(mean_squared_error(val_scaled[y_col], knn_val_predict))\n",
    "print('СКО на валидационной выборке:', knn_val_score)"
   ]
  },
  {
   "cell_type": "code",
   "execution_count": 65,
   "metadata": {},
   "outputs": [
    {
     "name": "stdout",
     "output_type": "stream",
     "text": [
      "Wall time: 16min 9s\n"
     ]
    }
   ],
   "source": [
    "%%time\n",
    "knn_test_predict = knn_model.predict(test_scaled[x_col_lr])"
   ]
  },
  {
   "cell_type": "code",
   "execution_count": 66,
   "metadata": {},
   "outputs": [
    {
     "name": "stdout",
     "output_type": "stream",
     "text": [
      "СКО на тестовой выборке: 2673.4885190817163\n"
     ]
    }
   ],
   "source": [
    "knn_test_score = np.sqrt(mean_squared_error(test_scaled[y_col], knn_test_predict))\n",
    "print('СКО на тестовой выборке:', lr_test_score)"
   ]
  },
  {
   "cell_type": "markdown",
   "metadata": {},
   "source": [
    "<a id='section3'> </a>\n",
    "\n",
    "# 3. Анализ моделей"
   ]
  },
  {
   "cell_type": "markdown",
   "metadata": {},
   "source": [
    "Составим сводную таблицу на осове данных полученых в процессе обучения"
   ]
  },
  {
   "cell_type": "code",
   "execution_count": 67,
   "metadata": {},
   "outputs": [
    {
     "data": {
      "text/html": [
       "<div>\n",
       "<style scoped>\n",
       "    .dataframe tbody tr th:only-of-type {\n",
       "        vertical-align: middle;\n",
       "    }\n",
       "\n",
       "    .dataframe tbody tr th {\n",
       "        vertical-align: top;\n",
       "    }\n",
       "\n",
       "    .dataframe thead th {\n",
       "        text-align: right;\n",
       "    }\n",
       "</style>\n",
       "<table border=\"1\" class=\"dataframe\">\n",
       "  <thead>\n",
       "    <tr style=\"text-align: right;\">\n",
       "      <th></th>\n",
       "      <th>Модель</th>\n",
       "      <th>СКО оценки стоимости на валидационной выборке, евро</th>\n",
       "      <th>СКО оценки стоимости на тестовой выборке, евро</th>\n",
       "      <th>Время обучения модели</th>\n",
       "      <th>Время вычисления предсказаний на валидационной выборке</th>\n",
       "      <th>Время вычисления предсказаний на тестовой выборке</th>\n",
       "    </tr>\n",
       "  </thead>\n",
       "  <tbody>\n",
       "    <tr>\n",
       "      <th>0</th>\n",
       "      <td>LightGBM</td>\n",
       "      <td>1499.606299</td>\n",
       "      <td>1508.677730</td>\n",
       "      <td>1min 5s</td>\n",
       "      <td>5.99 s</td>\n",
       "      <td>7.43 s</td>\n",
       "    </tr>\n",
       "    <tr>\n",
       "      <th>1</th>\n",
       "      <td>CatBoost</td>\n",
       "      <td>1542.894717</td>\n",
       "      <td>1547.074729</td>\n",
       "      <td>12min 28s</td>\n",
       "      <td>918 ms</td>\n",
       "      <td>1.27 s</td>\n",
       "    </tr>\n",
       "    <tr>\n",
       "      <th>2</th>\n",
       "      <td>Линейная регрессия</td>\n",
       "      <td>2657.503453</td>\n",
       "      <td>2673.488519</td>\n",
       "      <td>20.8 s</td>\n",
       "      <td>144 ms</td>\n",
       "      <td>115 ms</td>\n",
       "    </tr>\n",
       "    <tr>\n",
       "      <th>3</th>\n",
       "      <td>K ближайших соседей</td>\n",
       "      <td>2118.345495</td>\n",
       "      <td>2129.361396</td>\n",
       "      <td>11.3 s</td>\n",
       "      <td>14min 35s</td>\n",
       "      <td>19min 51s</td>\n",
       "    </tr>\n",
       "  </tbody>\n",
       "</table>\n",
       "</div>"
      ],
      "text/plain": [
       "                Модель  СКО оценки стоимости на валидационной выборке, евро  \\\n",
       "0             LightGBM                                        1499.606299     \n",
       "1             CatBoost                                        1542.894717     \n",
       "2   Линейная регрессия                                        2657.503453     \n",
       "3  K ближайших соседей                                        2118.345495     \n",
       "\n",
       "   СКО оценки стоимости на тестовой выборке, евро Время обучения модели  \\\n",
       "0                                     1508.677730               1min 5s   \n",
       "1                                     1547.074729             12min 28s   \n",
       "2                                     2673.488519                20.8 s   \n",
       "3                                     2129.361396                11.3 s   \n",
       "\n",
       "  Время вычисления предсказаний на валидационной выборке  \\\n",
       "0                                             5.99 s       \n",
       "1                                             918 ms       \n",
       "2                                             144 ms       \n",
       "3                                          14min 35s       \n",
       "\n",
       "  Время вычисления предсказаний на тестовой выборке  \n",
       "0                                            7.43 s  \n",
       "1                                            1.27 s  \n",
       "2                                            115 ms  \n",
       "3                                         19min 51s  "
      ]
     },
     "execution_count": 67,
     "metadata": {},
     "output_type": "execute_result"
    }
   ],
   "source": [
    "pd.DataFrame({'Модель': ['LightGBM', 'CatBoost', 'Линейная регрессия', 'K ближайших соседей'],\n",
    "'СКО оценки стоимости на валидационной выборке, евро': [lgbm_val_score, cb_val_score, lr_val_score, knn_val_score],\n",
    "'СКО оценки стоимости на тестовой выборке, евро': [lgbm_test_score, cb_test_score, lr_test_score, knn_test_score], \n",
    "'Время обучения модели': ['1min 5s', '12min 28s', '20.8 s', '11.3 s'],\n",
    "'Время вычисления предсказаний на валидационной выборке': ['5.99 s', '918 ms', '144 ms', '14min 35s'],\n",
    "'Время вычисления предсказаний на тестовой выборке': ['7.43 s', '1.27 s', '115 ms', '19min 51s'],\n",
    "})"
   ]
  },
  {
   "cell_type": "markdown",
   "metadata": {},
   "source": [
    "Наибольшей точностью оценки стоимости автомобилей по предоставленным данным обладает модель LightGBM (СКО ~1505 евро). Близкой по точности является модель CatBoost (СКО ~1552 евро). При этом CatBoost формирует предсказания примерно в 6 раз быстрее, чем LightGBM (порядка 1 с против 6 с у LightGBM). Недостатком CatBoost является большее время на обучение модели (12 мин против 1 мин у LightGBM)."
   ]
  },
  {
   "cell_type": "markdown",
   "metadata": {},
   "source": [
    "<a id='section4'> </a>\n",
    "\n",
    "# Выводы"
   ]
  },
  {
   "cell_type": "markdown",
   "metadata": {},
   "source": [
    "В процессе исследования были выполнены следующие работы:\n",
    "1. Проведена подготовка данных (устранены аномалии, заполнены пропуски)\n",
    "2. Обучено несколько моделей прогнозирования цены на автомобили. Рассмотренные модели:\n",
    "    * LightGBM\n",
    "    * CatBoost\n",
    "    * Линейная регрессия\n",
    "    * K ближайших соседей\n",
    "3. Проведен анализ эффективности моделей\n",
    "\n",
    "Наибольшей точностью оценки стоимости автомобилей по предоставленным данным обладает модель LightGBM (СКО 1505 евро). При этом в случае, если для пользователей небходимо предсказывать цену в режиме близком к реальному времени, рекумендуется использовать модель CatBoost. Данная модель дает близкое СКО (~1552 евро), но существенный выйгрыш по времени предсказания. В случае если скорость обучения модели важнее скорости предсказания, рекомендуется использовать модель LightGBM."
   ]
  }
 ],
 "metadata": {
  "kernelspec": {
   "display_name": "Python 3",
   "language": "python",
   "name": "python3"
  },
  "language_info": {
   "codemirror_mode": {
    "name": "ipython",
    "version": 3
   },
   "file_extension": ".py",
   "mimetype": "text/x-python",
   "name": "python",
   "nbconvert_exporter": "python",
   "pygments_lexer": "ipython3",
   "version": "3.8.5"
  },
  "toc": {
   "base_numbering": 1,
   "nav_menu": {},
   "number_sections": true,
   "sideBar": true,
   "skip_h1_title": false,
   "title_cell": "Table of Contents",
   "title_sidebar": "Contents",
   "toc_cell": false,
   "toc_position": {},
   "toc_section_display": true,
   "toc_window_display": false
  }
 },
 "nbformat": 4,
 "nbformat_minor": 2
}
